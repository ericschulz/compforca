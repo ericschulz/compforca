{
 "cells": [
  {
   "cell_type": "markdown",
   "metadata": {},
   "source": [
    "# DISSERTATION ANALYSIS"
   ]
  },
  {
   "cell_type": "code",
   "execution_count": 1,
   "metadata": {},
   "outputs": [
    {
     "name": "stderr",
     "output_type": "stream",
     "text": [
      "Warning message:\n",
      "\"package 'plyr' was built under R version 3.3.3\"Warning message:\n",
      "\"package 'tidyverse' was built under R version 3.3.3\"Loading tidyverse: ggplot2\n",
      "Loading tidyverse: tibble\n",
      "Loading tidyverse: tidyr\n",
      "Loading tidyverse: readr\n",
      "Loading tidyverse: purrr\n",
      "Loading tidyverse: dplyr\n",
      "Warning message:\n",
      "\"package 'ggplot2' was built under R version 3.3.3\"Warning message:\n",
      "\"package 'tibble' was built under R version 3.3.3\"Warning message:\n",
      "\"package 'tidyr' was built under R version 3.3.3\"Warning message:\n",
      "\"package 'readr' was built under R version 3.3.3\"Warning message:\n",
      "\"package 'purrr' was built under R version 3.3.3\"Warning message:\n",
      "\"package 'dplyr' was built under R version 3.3.3\"Conflicts with tidy packages ---------------------------------------------------\n",
      "arrange():   dplyr, plyr\n",
      "compact():   purrr, plyr\n",
      "count():     dplyr, plyr\n",
      "failwith():  dplyr, plyr\n",
      "filter():    dplyr, stats\n",
      "id():        dplyr, plyr\n",
      "lag():       dplyr, stats\n",
      "mutate():    dplyr, plyr\n",
      "rename():    dplyr, plyr\n",
      "summarise(): dplyr, plyr\n",
      "summarize(): dplyr, plyr\n",
      "Warning message:\n",
      "\"package 'DT' was built under R version 3.3.3\"Warning message:\n",
      "\"package 'ggthemes' was built under R version 3.3.3\""
     ]
    }
   ],
   "source": [
    "source(\"tools.R\")"
   ]
  },
  {
   "cell_type": "markdown",
   "metadata": {},
   "source": [
    "# UNIVERSAL FUNCTIONS AND VARIABLE"
   ]
  },
  {
   "cell_type": "code",
   "execution_count": 2,
   "metadata": {
    "collapsed": true
   },
   "outputs": [],
   "source": [
    "scenarios <- c(\"temperature\", \"rain\", \"sales\", \"gym_memberships\", \"wage\", \"facebook_friends\")\n",
    "\n",
    "readable_scenarios <- c(\"Temperature\", \"Rain\", \"Sales\", \"Gym members\", \"Salary\", \"FB Friends\")\n",
    "\n",
    "subconditions = c(1, 2, 3)\n",
    "\n",
    "condition_names = c(\"Prior\", \"Posterior-Positive\", \"Posterior-Stable\", \"Posterior-Negative\")"
   ]
  },
  {
   "cell_type": "code",
   "execution_count": 3,
   "metadata": {
    "collapsed": true
   },
   "outputs": [],
   "source": [
    "get_range <- function(condition){\n",
    "    \n",
    "    range_array <- switch(\n",
    "            condition,\n",
    "            temperature = c(-10, 40),\n",
    "            sales = c(0, 5000),\n",
    "            facebook_friends = c(0, 1000),\n",
    "            rain = c(0, 100),\n",
    "            gym_memberships = c(0, 50),\n",
    "            wage = c(0, 50)\n",
    "        )\n",
    "    \n",
    "    range_value <- range_array[2] - range_array[1]\n",
    "    \n",
    "    delta <- range_value / 10\n",
    "    \n",
    "    c(range_array[1] - delta, range_array[2] + delta)\n",
    "}"
   ]
  },
  {
   "cell_type": "markdown",
   "metadata": {},
   "source": [
    "# IMPORTING DATA: `data`"
   ]
  },
  {
   "cell_type": "code",
   "execution_count": 4,
   "metadata": {},
   "outputs": [
    {
     "name": "stderr",
     "output_type": "stream",
     "text": [
      "Parsed with column specification:\n",
      "cols(\n",
      "  .default = col_double(),\n",
      "  userId = col_character(),\n",
      "  age = col_character(),\n",
      "  datetime = col_character(),\n",
      "  gender = col_character(),\n",
      "  datetime_1 = col_character(),\n",
      "  stage = col_integer(),\n",
      "  scenario = col_character(),\n",
      "  subcondition = col_integer(),\n",
      "  pageIndex = col_integer(),\n",
      "  noiseIndex = col_integer(),\n",
      "  day0 = col_character(),\n",
      "  day1 = col_character(),\n",
      "  day2 = col_character(),\n",
      "  day3 = col_character(),\n",
      "  day4 = col_character(),\n",
      "  day5 = col_character(),\n",
      "  day6 = col_character(),\n",
      "  day7 = col_character(),\n",
      "  day8 = col_character(),\n",
      "  day9 = col_character()\n",
      "  # ... with 69 more columns\n",
      ")\n",
      "See spec(...) for full column specifications.\n"
     ]
    }
   ],
   "source": [
    "# Import data\n",
    "data <- suppressWarnings(read_csv(\"data/catmull-rom-dataset.csv\"))\n",
    "\n",
    "# Small modification\n",
    "data$noiseIndex <- data$noiseIndex+1\n",
    "\n",
    "# All participants\n",
    "participants <- data %>%\n",
    "                select(userId, age, gender) %>%\n",
    "                unique"
   ]
  },
  {
   "cell_type": "markdown",
   "metadata": {},
   "source": [
    "### Suppressing invalid participants\n",
    "- `a106`: Participant misunderstood the instructions and always added a point on the far right and far bottom.\n",
    "- `a118`: Participant indicated that he had trouble with the interface.\n",
    "- `a021`: Response in Temperature (constant -10) indicates a non-interested participant. ***Was not supressed ***"
   ]
  },
  {
   "cell_type": "code",
   "execution_count": 5,
   "metadata": {},
   "outputs": [
    {
     "name": "stderr",
     "output_type": "stream",
     "text": [
      "Warning message:\n",
      "\"package 'bindrcpp' was built under R version 3.3.3\""
     ]
    }
   ],
   "source": [
    "data <- data %>% filter(userId != 'a106',userId != 'a118')"
   ]
  },
  {
   "cell_type": "markdown",
   "metadata": {},
   "source": [
    "### Tidyverse: `tidy_data`"
   ]
  },
  {
   "cell_type": "code",
   "execution_count": 6,
   "metadata": {},
   "outputs": [
    {
     "name": "stderr",
     "output_type": "stream",
     "text": [
      "Warning message in eval(substitute(expr), envir, enclos):\n",
      "\"NAs introduced by coercion\""
     ]
    }
   ],
   "source": [
    "# To tidy data\n",
    "tidy_data <- data %>% \n",
    "    gather(day, value, starts_with(\"day\"))\n",
    "\n",
    "# Transform strings to numbers\n",
    "tidy_data <- tidy_data %>%\n",
    "    mutate(day = as.numeric(gsub(\"day\", \"\", day)),\n",
    "           value = as.numeric(value))\n",
    "\n",
    "# Changes values to make them readable\n",
    "# TODO: make this tidier:\n",
    "tidy_data$subcondition_name <- mapvalues(tidy_data$subcondition,\n",
    "                                  from = subconditions,\n",
    "                                  to   = condition_names[2:4])\n",
    "\n",
    "tidy_data$condition_name <- ifelse(tidy_data$stage==1,\n",
    "                                   condition_names[1], \n",
    "                                   \"\")\n",
    "\n",
    "tidy_data$condition_name <- ifelse(tidy_data$stage == 2, \n",
    "                                   tidy_data$subcondition_name, \n",
    "                                   tidy_data$condition_name)"
   ]
  },
  {
   "cell_type": "markdown",
   "metadata": {},
   "source": [
    "### Preparing the tidy data for analysis: `dat`"
   ]
  },
  {
   "cell_type": "code",
   "execution_count": 7,
   "metadata": {
    "collapsed": true
   },
   "outputs": [],
   "source": [
    "dat <- data.frame(\n",
    "                    id        = tidy_data$userId,\n",
    "                    day       = tidy_data$day, #x\n",
    "                    value     = tidy_data$value, #y\n",
    "                    condition = tidy_data$condition_name,\n",
    "                    scenario  = tidy_data$scenario,\n",
    "                    noise     = tidy_data$noiseIndex\n",
    "                 )\n",
    "\n",
    "# Change the readable names of the variables\n",
    "dat$scenario <- mapvalues( dat$scenario, \n",
    "                           from = scenarios,\n",
    "                           to = readable_scenarios)\n",
    "\n",
    "\n",
    "# Order on the plot\n",
    "dat$condition <- factor( dat$condition, \n",
    "                         levels = condition_names)\n",
    "\n",
    "dat$scenario <- factor( dat$scenario, \n",
    "                        levels = readable_scenarios)\n",
    "\n",
    "# Subset the analysis of data\n",
    "dat <- subset(dat, day > 30 & day < 365*4-30)"
   ]
  },
  {
   "cell_type": "markdown",
   "metadata": {},
   "source": [
    "### Scaling and normalization: `norm_data`"
   ]
  },
  {
   "cell_type": "code",
   "execution_count": 8,
   "metadata": {
    "collapsed": true
   },
   "outputs": [],
   "source": [
    "df <- dat %>%\n",
    "        group_by(condition, scenario, day) %>%\n",
    "        summarize(mean(value))\n",
    "\n",
    "df$slope_scale <- mapvalues(df$condition,\n",
    "                              from = c(\"Prior\", \"Posterior-Positive\", \"Posterior-Stable\", \"Posterior-Negative\"),\n",
    "                              to   = c(0, 1, 0, -1))\n",
    "\n",
    "df$range <- mapvalues(df$scenario,\n",
    "                              from = c(\"Temperature\", \"Rain\", \"Sales\", \"Gym members\", \"Salary\", \"FB Friends\"),\n",
    "                              to   = c( 40--10,        100-0,  5000-0,  50-0,          50-0,     1000-0))\n",
    "\n",
    "df$y_intercept <- mapvalues(df$scenario,\n",
    "                              from = c(\"Temperature\", \"Rain\", \"Sales\", \"Gym members\", \"Salary\", \"FB Friends\"),\n",
    "                              to   = c( 15,            30,     2500,    25,            20,       500))\n",
    "\n",
    "\n",
    "# Transformations to numbers\n",
    "df$slope_scale <- as.numeric(levels(df$slope_scale))[df$slope_scale]\n",
    "df$range <- as.numeric(levels(df$range))[df$range]\n",
    "df$y_intercept <- as.numeric(levels(df$y_intercept))[df$y_intercept]\n",
    "\n",
    "# Calculations\n",
    "df$last_point <- df$y_intercept + 0.05 * df$range * df$slope_scale * 4 \n",
    "\n",
    "df$slope <- (df$last_point - df$y_intercept) / ((365-31)-1)\n",
    "\n",
    "df$underlying_trend <- ((df$day-1) * df$slope + df$y_intercept)\n",
    "\n",
    "scaling <- df %>%\n",
    "                    group_by(condition, scenario) %>%\n",
    "                    summarize(y_intercept = unique(y_intercept), last_point= unique(last_point), range = unique(range))\n",
    "\n",
    "# Use the scaling object to scale the data\n",
    "norm_data <- merge(x = dat, y = scaling, by = c(\"condition\", \"scenario\"), all.x = TRUE)\n",
    "\n",
    "norm_data <- norm_data %>%\n",
    "                group_by() %>%\n",
    "                mutate(value_scaled = (value - y_intercept)/(range))\n",
    "# Normalize the data\n",
    "norm_data <- norm_data %>%\n",
    "                group_by() %>%\n",
    "                mutate(value_norm = scale(value_scaled))\n",
    "\n",
    "# Calculate the means and SDs\n",
    "means <- norm_data %>%\n",
    "            group_by() %>%\n",
    "            summarize(value_mean = mean(value_scaled),\n",
    "                      value_sd = sd(value_scaled))\n",
    "\n",
    "# Remove the scaled data\n",
    "norm_data <- norm_data %>% select(-value_scaled)"
   ]
  },
  {
   "cell_type": "markdown",
   "metadata": {},
   "source": [
    "### Underlying trend: `underlying_trend`"
   ]
  },
  {
   "cell_type": "code",
   "execution_count": 9,
   "metadata": {
    "collapsed": true
   },
   "outputs": [],
   "source": [
    "# Scaled trend\n",
    "underlying_trend <- df %>%\n",
    "            group_by() %>%\n",
    "            mutate(underlying_trend_scaled = (underlying_trend - y_intercept)/(range))\n",
    "\n",
    "# Normalize trend\n",
    "underlying_trend <- underlying_trend %>%\n",
    "            mutate(underlying_trend_norm = ((underlying_trend_scaled - means$value_mean)/means$value_sd))\n",
    "\n",
    "underlying_trend <- underlying_trend %>%\n",
    "            select(condition, scenario, day, underlying_trend_norm)"
   ]
  },
  {
   "cell_type": "code",
   "execution_count": 10,
   "metadata": {
    "collapsed": true
   },
   "outputs": [],
   "source": [
    "# Merge the trend into the normalized data\n",
    "norm_data <- merge(x=norm_data, y=underlying_trend, by=c(\"condition\", \"scenario\", \"day\"), all.x=TRUE)\n",
    "\n",
    "# Merging transforms the `value_norm` column into a matrix. This fixes that. No one knows why that happens.\n",
    "norm_data$value_norm <- c(norm_data$value_norm)\n",
    "\n",
    "underlying_trend$id <- 1"
   ]
  },
  {
   "cell_type": "markdown",
   "metadata": {},
   "source": [
    "### Adding Absolute Error to `norm_data`"
   ]
  },
  {
   "cell_type": "code",
   "execution_count": 11,
   "metadata": {
    "collapsed": true
   },
   "outputs": [],
   "source": [
    "norm_data <- norm_data %>%\n",
    "                mutate(abs_error = abs(underlying_trend_norm - value_norm))"
   ]
  },
  {
   "cell_type": "markdown",
   "metadata": {},
   "source": [
    "### Exporting the data for the compositional analysis"
   ]
  },
  {
   "cell_type": "markdown",
   "metadata": {},
   "source": [
    "Compositional analysis of the prior conditions"
   ]
  },
  {
   "cell_type": "code",
   "execution_count": 12,
   "metadata": {
    "collapsed": true
   },
   "outputs": [],
   "source": [
    "if(FALSE){\n",
    "    # Selecting the data that we want to export\n",
    "    to_export <- norm_data %>% \n",
    "                        filter(condition == \"Prior\") %>%\n",
    "                        select(pid = id, scenario, x=day, y=value) %>%\n",
    "                        subset(x %in% seq(min(x), max(x), 5))\n",
    "\n",
    "    # Add an id to every combination of pid~scenario\n",
    "    groups <- to_export %>% group_by(pid, scenario) %>% summarize() \n",
    "\n",
    "    groups$id <- 1 : (groups %>% nrow)\n",
    "\n",
    "    to_export <- merge(x = to_export, y = groups, by = c(\"pid\", \"scenario\"), all.x = TRUE)\n",
    "\n",
    "    # Re-ordering the columns\n",
    "    to_export <- to_export %>%\n",
    "                        select(id, pid, scenario, x, y)\n",
    "\n",
    "    # Ordering the data\n",
    "    attach(to_export); to_export <- to_export[order(id, x), ]; detach(to_export);\n",
    "\n",
    "    # Uncomment this to write the file\n",
    "    write.csv(to_export, file = \"data/for_composititional_analysis_prior.csv\")\n",
    "\n",
    "    rm(to_export)\n",
    "}"
   ]
  },
  {
   "cell_type": "markdown",
   "metadata": {},
   "source": [
    "Compositional analysis of the posterior data"
   ]
  },
  {
   "cell_type": "code",
   "execution_count": 13,
   "metadata": {
    "collapsed": true
   },
   "outputs": [],
   "source": [
    "if(FALSE){\n",
    "    # Selecting the data that we want to export\n",
    "    to_export <- norm_data %>% \n",
    "                        filter(condition != \"Prior\") %>%\n",
    "                        select(pid = id, scenario, x=day, y=value, condition) %>%\n",
    "                        subset(x %in% seq(min(x), max(x), 5))\n",
    "\n",
    "    # Add an id to every combination of pid~scenario\n",
    "    groups <- to_export %>% group_by(pid, scenario) %>% summarize() \n",
    "\n",
    "    groups$id <- 1 : (groups %>% nrow)\n",
    "\n",
    "    to_export <- merge(x = to_export, y = groups, by = c(\"pid\", \"scenario\"), all.x = TRUE)\n",
    "\n",
    "    # Re-ordering the columns\n",
    "    to_export <- to_export %>%\n",
    "                        select(id, pid, scenario, x, y, condition)\n",
    "    \n",
    "    # Ordering the data\n",
    "    attach(to_export); to_export <- to_export[order(id, x), ]; detach(to_export);\n",
    "\n",
    "    # Uncomment this to write the file\n",
    "    write.csv(to_export, file = \"data/for_composititional_analysis_posterior.csv\")\n",
    "\n",
    "    rm(to_export)\n",
    "}"
   ]
  },
  {
   "cell_type": "markdown",
   "metadata": {},
   "source": [
    "# PARTICIPANTS"
   ]
  },
  {
   "cell_type": "code",
   "execution_count": 14,
   "metadata": {},
   "outputs": [
    {
     "data": {
      "text/html": [
       "<table>\n",
       "<thead><tr><th scope=col>mean(age_number)</th><th scope=col>sd(age_number)</th></tr></thead>\n",
       "<tbody>\n",
       "\t<tr><td>34.44</td><td>9.62 </td></tr>\n",
       "</tbody>\n",
       "</table>\n"
      ],
      "text/latex": [
       "\\begin{tabular}{r|ll}\n",
       " mean(age\\_number) & sd(age\\_number)\\\\\n",
       "\\hline\n",
       "\t 34.44 & 9.62 \\\\\n",
       "\\end{tabular}\n"
      ],
      "text/markdown": [
       "\n",
       "mean(age_number) | sd(age_number) | \n",
       "|---|\n",
       "| 34.44 | 9.62  | \n",
       "\n",
       "\n"
      ],
      "text/plain": [
       "  mean(age_number) sd(age_number)\n",
       "1 34.44            9.62          "
      ]
     },
     "metadata": {},
     "output_type": "display_data"
    },
    {
     "data": {
      "text/html": [
       "55"
      ],
      "text/latex": [
       "55"
      ],
      "text/markdown": [
       "55"
      ],
      "text/plain": [
       "[1] 55"
      ]
     },
     "metadata": {},
     "output_type": "display_data"
    },
    {
     "data": {
      "text/html": [
       "121"
      ],
      "text/latex": [
       "121"
      ],
      "text/markdown": [
       "121"
      ],
      "text/plain": [
       "[1] 121"
      ]
     },
     "metadata": {},
     "output_type": "display_data"
    }
   ],
   "source": [
    "participants$age_number<- mapvalues(participants$age,\n",
    "                              from = c('18-25',   '26-35',   '36-45',   '46-55',   '56-65',  '66+'),\n",
    "                              to   = c((25-18)/2+18, (35-26)/2+26, (45-36)/2+36, (55-46)/2+46, (65-56)+56/2, 66))\n",
    "\n",
    "participants$age_number <- as.numeric(participants$age_number)\n",
    "\n",
    "# Age\n",
    "participants %>%\n",
    "    summarize(mean(age_number), sd(age_number)) %>%\n",
    "    round(2)\n",
    "\n",
    "# Gender\n",
    "participants %>%\n",
    "    filter(gender == 'female') %>%\n",
    "    nrow\n",
    "\n",
    "# Total\n",
    "participants %>%\n",
    "    nrow"
   ]
  },
  {
   "cell_type": "markdown",
   "metadata": {},
   "source": [
    "# Plot functions"
   ]
  },
  {
   "cell_type": "markdown",
   "metadata": {},
   "source": [
    "### (Plot with ribbon function)"
   ]
  },
  {
   "cell_type": "code",
   "execution_count": 15,
   "metadata": {
    "collapsed": true
   },
   "outputs": [],
   "source": [
    "plot_with_ribbon <- function(dplot, type, title=\"\", xlab=\"Year\", ylab=\"\", hide_legend=FALSE, group=\"condition\", legend_title=\"Condition\") {\n",
    "    \n",
    "    if(type == 1){\n",
    "        y = \"damped_proportion\"\n",
    "        ylab = \"Proportion of\\ndamped predictions\"\n",
    "    }\n",
    "    else if(type == 2){\n",
    "        y = \"mae\"\n",
    "        ylab = \"Mean absolute error\"\n",
    "    }\n",
    "    else if(type == 3){\n",
    "        y = \"mae\"\n",
    "        title = dplot$scenario[1]\n",
    "    }\n",
    "    else if(type == 4){\n",
    "        y = \"mae\"\n",
    "        legend_title = \"Noise Group\"\n",
    "        group = \"noise\"\n",
    "        title = dplot$condition[1]\n",
    "    }\n",
    "    else if(type==5 || type==6){\n",
    "        y = \"mae\"\n",
    "        legend_title = \"Noise Group\"\n",
    "        group = \"noise\"\n",
    "    }\n",
    "    \n",
    "    p <- ggplot(data=dplot, aes_string(x=\"day\", y=y, group=group, colour=group)) +\n",
    "            geom_line(size=1) +\n",
    "            geom_ribbon(aes(ymin=ci_lower, ymax=ci_upper), alpha=0.2) +\n",
    "            #scale_x_continuous(limits +\n",
    "            #coord_cartesian(ylim = c(0.65, 1.00), xlim = c(365-31, 365*2-10)) +\n",
    "            labs(colour = legend_title) +\n",
    "            xlab(xlab) + ylab(ylab) + ggtitle(title) +\n",
    "            scale_x_continuous(breaks=c(0, 365, 365*2, 365*3), labels=c('Y1', 'Y2', 'Y3', 'Y4')) +\n",
    "            theme_bw() + \n",
    "            ggthemes::theme_few() + \n",
    "            theme(text = element_text(size=12, family=\"serif\")) +\n",
    "            #theme(legend.position=c(0.82, 0.40)) +\n",
    "            theme(plot.title = element_text(hjust = 0.5)) +\n",
    "            ggthemes::scale_color_solarized()\n",
    "    \n",
    "        \n",
    "    if(type == 3){\n",
    "        p <- p + coord_cartesian(ylim = c(0, 3))\n",
    "    }\n",
    "    else if(type == 4) {\n",
    "        p <- p + theme(legend.position=c(1.0, 0.4))\n",
    "    }\n",
    "    else if(type == 5) {\n",
    "        p <- p + coord_cartesian(ylim = c(0, 4))\n",
    "    }\n",
    "    else if(type == 6) {\n",
    "        p <- p + coord_cartesian(ylim = c(0, 1))\n",
    "    }\n",
    "        \n",
    "    if(hide_legend) {\n",
    "        p <- p + theme(legend.position=\"none\")\n",
    "    }\n",
    "    \n",
    "    return(p)\n",
    "}"
   ]
  },
  {
   "cell_type": "markdown",
   "metadata": {},
   "source": [
    "### (Grid plot function)"
   ]
  },
  {
   "cell_type": "code",
   "execution_count": 73,
   "metadata": {},
   "outputs": [],
   "source": [
    "grid_plot <- function(dplot, trend, rwdata, res=30, type=1) {\n",
    "    \n",
    "    if(type == 1){\n",
    "        y = \"value\"\n",
    "        group = \"id\"\n",
    "        ylab = \"Value\"\n",
    "        trend_y = \"value\"\n",
    "    }\n",
    "    else if(type == 2 || type ==3){\n",
    "        y = \"value_norm\"\n",
    "        group = \"id\"\n",
    "        ylab = \"Scaled value\"\n",
    "        trend_y = \"underlying_trend_norm\"\n",
    "    }\n",
    "    \n",
    "    # Subsetting the data, with respect to the resolution\n",
    "    dplot <- subset(dplot, day %in% seq(min(dplot$day), max(dplot$day), res))\n",
    "    rwdata_ss <- subset(rwdata, day %in% seq(min(rwdata$day), max(rwdata$day), res))\n",
    "    \n",
    "    # Plotting\n",
    "    p <- dplot %>%\n",
    "        ggplot(aes_string(x=\"day\", y=y, group=group)) + \n",
    "        geom_line(col=\"steelblue\", alpha=0.2) +\n",
    "        facet_grid(scenario~condition, scales=\"free_y\") +\n",
    "        theme_classic() + \n",
    "        xlab(\"Year\") + \n",
    "        ylab(ylab) +\n",
    "        geom_line(data=trend, aes_string(x=\"day\", y=trend_y), colour=\"black\") +\n",
    "        scale_x_continuous(breaks=c(0, 365, 365*2, 365*3), labels=c('Y1', 'Y2', 'Y3', 'Y4')) +\n",
    "        \n",
    "        # Real world data\n",
    "        geom_point(data=rwdata_ss, aes(x=day), colour=\"red\") +\n",
    "        \n",
    "        geom_vline(data=filter(trend, condition!=\"Prior\"), aes(xintercept=365-31), colour=\"steelblue\") +\n",
    "        theme(  text = element_text(size=12, family=\"serif\"),\n",
    "                axis.line = element_line(colour=\"black\", size=0.1),\n",
    "                panel.spacing.x = unit(0.5, \"lines\"),\n",
    "                panel.spacing.y = unit(0.8, \"lines\"),\n",
    "                panel.background = element_blank(),\n",
    "                panel.grid.major = element_blank(), \n",
    "                panel.grid.minor = element_blank(),\n",
    "                panel.border = element_rect(colour=\"black\", fill=NA, size=0.1))\n",
    "        \n",
    "    if(type == 3) {\n",
    "        p <- p + coord_cartesian(ylim=c(-5, 5))\n",
    "    }\n",
    "        \n",
    "    return(p)\n",
    "}"
   ]
  },
  {
   "cell_type": "markdown",
   "metadata": {},
   "source": [
    "<hr>"
   ]
  },
  {
   "cell_type": "markdown",
   "metadata": {},
   "source": [
    "# PLOTS"
   ]
  },
  {
   "cell_type": "markdown",
   "metadata": {},
   "source": [
    "### Plot: responses + mean"
   ]
  },
  {
   "cell_type": "code",
   "execution_count": 74,
   "metadata": {},
   "outputs": [
    {
     "name": "stderr",
     "output_type": "stream",
     "text": [
      "Parsed with column specification:\n",
      "cols(\n",
      "  scenario = col_character(),\n",
      "  day = col_integer(),\n",
      "  value = col_double()\n",
      ")\n"
     ]
    }
   ],
   "source": [
    "rwdata <- read_csv('data/real-world/splines.csv')\n",
    "\n",
    "rwdata$condition <- 'Prior'\n",
    "rwdata$id <- 1"
   ]
  },
  {
   "cell_type": "code",
   "execution_count": 76,
   "metadata": {},
   "outputs": [
    {
     "data": {
      "text/html": [
       "0"
      ],
      "text/latex": [
       "0"
      ],
      "text/markdown": [
       "0"
      ],
      "text/plain": [
       "[1] 0"
      ]
     },
     "metadata": {},
     "output_type": "display_data"
    },
    {
     "data": {
      "text/html": [
       "2465"
      ],
      "text/latex": [
       "2465"
      ],
      "text/markdown": [
       "2465"
      ],
      "text/plain": [
       "[1] 2465"
      ]
     },
     "metadata": {},
     "output_type": "display_data"
    }
   ],
   "source": [
    "min(rwdata$day)\n",
    "max(rwdata$day)"
   ]
  },
  {
   "cell_type": "code",
   "execution_count": 77,
   "metadata": {},
   "outputs": [
    {
     "data": {
      "text/html": [
       "1460"
      ],
      "text/latex": [
       "1460"
      ],
      "text/markdown": [
       "1460"
      ],
      "text/plain": [
       "[1] 1460"
      ]
     },
     "metadata": {},
     "output_type": "display_data"
    }
   ],
   "source": [
    "365*4"
   ]
  },
  {
   "cell_type": "code",
   "execution_count": 72,
   "metadata": {
    "scrolled": false
   },
   "outputs": [
    {
     "data": {},
     "metadata": {},
     "output_type": "display_data"
    },
    {
     "data": {
      "image/png": "[encoded data removed]",
      "text/plain": [
       "plot without title"
      ]
     },
     "metadata": {},
     "output_type": "display_data"
    }
   ],
   "source": [
    "# Mean\n",
    "means <- dat %>%\n",
    "            group_by(condition, scenario, day) %>%\n",
    "            summarize(value = mean(value), id = 1)\n",
    "\n",
    "# Plot\n",
    "p <- grid_plot(dat, means, rwdata=rwdata, type=1, res=50) #res is resolution. 5 works well for 1.5MB. \n",
    "\n",
    "# Save/show\n",
    "#pdf(\"Images/paper_images/responses_with_mean.pdf\")\n",
    "p\n",
    "#dev.off()"
   ]
  },
  {
   "cell_type": "markdown",
   "metadata": {},
   "source": [
    "### Plot: responses + underlying trends\n",
    "**`norm_data$value_scaled`** and **`trend$underlying_trend_scaled`**"
   ]
  },
  {
   "cell_type": "code",
   "execution_count": null,
   "metadata": {
    "collapsed": true
   },
   "outputs": [],
   "source": [
    "# Plot\n",
    "p <- grid_plot(norm_data, underlying_trend %>% filter(condition != 'Prior'), type=2, res=5)\n",
    "\n",
    "# Save/show\n",
    "svg(\"Images/responses_with_underlying_trends.svg\")\n",
    "#p\n",
    "dev.off()"
   ]
  },
  {
   "cell_type": "markdown",
   "metadata": {},
   "source": [
    "# TREND DAMPING"
   ]
  },
  {
   "cell_type": "markdown",
   "metadata": {},
   "source": [
    "### Plot: trend damping"
   ]
  },
  {
   "cell_type": "code",
   "execution_count": null,
   "metadata": {
    "collapsed": true
   },
   "outputs": [],
   "source": [
    "# Filter out the prior condition and {temperature, rain} scenarios. Also filter out before year 1 and after year 4\n",
    "filtered_norm_data <- norm_data %>%\n",
    "        filter(condition != 'Prior', condition != 'Posterior-Stable', scenario != 'Temperature', scenario != 'Rain', day > 365-31, day <= 365*3 )\n",
    "\n",
    "filtered_underlying_trend <- underlying_trend %>%\n",
    "        filter(condition != 'Prior', condition != 'Posterior-Stable', scenario != 'Temperature', scenario != 'Rain', day > 365-31, day <= 365*3 )\n",
    "\n",
    "p <- grid_plot(filtered_norm_data, filtered_underlying_trend, type=2, res=5)\n",
    "\n",
    "svg(\"Images/trend_damping.svg\", width=5, height=5)\n",
    "p\n",
    "dev.off()"
   ]
  },
  {
   "cell_type": "markdown",
   "metadata": {},
   "source": [
    "### Percentage of trend damping"
   ]
  },
  {
   "cell_type": "code",
   "execution_count": null,
   "metadata": {
    "collapsed": true
   },
   "outputs": [],
   "source": [
    "# Adding `damped` column\n",
    "norm_data <- norm_data %>%\n",
    "                mutate(damped = value_norm < underlying_trend_norm) \n",
    "\n",
    "norm_data$damped <- ifelse(norm_data$condition == \"Posterior-Positive\", norm_data$damped, !norm_data$damped)"
   ]
  },
  {
   "cell_type": "code",
   "execution_count": null,
   "metadata": {
    "collapsed": true
   },
   "outputs": [],
   "source": [
    "# Summarize overall scenarios\n",
    "damping_overall <- norm_data %>% \n",
    "                        filter(condition != 'Prior', condition != 'Posterior-Stable', scenario != 'Temperature', scenario != 'Rain', day > 365-31, day <= 365*3 ) %>%\n",
    "                        group_by(condition, day) %>%\n",
    "                        summarize(damped_proportion = sum(damped*1)/length(damped),\n",
    "                                  ci_lower = ifelse(damped_proportion<1, t.test(damped*1, conf.level=0.95)$conf.int[1], damped_proportion),\n",
    "                                  ci_upper = ifelse(damped_proportion<1, t.test(damped*1, conf.level=0.95)$conf.int[2], damped_proportion)) %>%\n",
    "                        mutate(group = 1)\n",
    "                                  \n",
    "# Summarize per day\n",
    "damping_detail <- norm_data %>%\n",
    "                            filter(condition != 'Prior', condition != 'Posterior-Stable', scenario != 'Temperature', scenario != 'Rain', day > 365-31, day <= 365*3 ) %>%\n",
    "                            group_by(condition, scenario, day) %>%\n",
    "                            summarize(damped_proportion = sum(damped*1)/length(damped))"
   ]
  },
  {
   "cell_type": "markdown",
   "metadata": {},
   "source": [
    "### Minimum and maximum"
   ]
  },
  {
   "cell_type": "code",
   "execution_count": null,
   "metadata": {
    "collapsed": true
   },
   "outputs": [],
   "source": [
    "damping_overall %>%\n",
    "    group_by(condition) %>%\n",
    "    summarize(min.day = day[which.min(damped_proportion)], min.value = min(damped_proportion),\n",
    "              max.day = day[which.max(damped_proportion)], max.value = max(damped_proportion)) "
   ]
  },
  {
   "cell_type": "code",
   "execution_count": null,
   "metadata": {
    "collapsed": true
   },
   "outputs": [],
   "source": [
    "# T-test min\n",
    "min1 <- norm_data %>% \n",
    "            group_by(condition, day) %>%\n",
    "            filter(condition=='Posterior-Positive', day == 338)\n",
    "\n",
    "# T-test min \n",
    "min2 <- norm_data %>% \n",
    "            group_by(condition, day) %>%\n",
    "            filter(condition=='Posterior-Negative', day == 341)\n",
    "\n",
    "t.test(min1$damped)\n",
    "t.test(min2$damped)"
   ]
  },
  {
   "cell_type": "markdown",
   "metadata": {},
   "source": [
    "### Logarithmic models"
   ]
  },
  {
   "cell_type": "code",
   "execution_count": null,
   "metadata": {
    "collapsed": true,
    "scrolled": false
   },
   "outputs": [],
   "source": [
    "# P-Positive\n",
    "lm(damped_proportion ~ day*log(day), damping_overall %>% filter(condition=='Posterior-Positive')) %>% summary"
   ]
  },
  {
   "cell_type": "code",
   "execution_count": null,
   "metadata": {
    "collapsed": true
   },
   "outputs": [],
   "source": [
    "# P-Negative\n",
    "lm(damped_proportion ~ day*log(day), damping_overall %>% filter(condition=='Posterior-Negative')) %>% summary"
   ]
  },
  {
   "cell_type": "markdown",
   "metadata": {},
   "source": [
    "### Plot: trend damping summary"
   ]
  },
  {
   "cell_type": "code",
   "execution_count": null,
   "metadata": {
    "collapsed": true
   },
   "outputs": [],
   "source": [
    "p <- damping_detail %>%\n",
    "        ggplot(aes(x=day, y=damped_proportion, group=scenario, color=scenario)) + \n",
    "        geom_line(size=1, alpha=0.7) +\n",
    "        facet_grid(~condition, scales=\"free_y\") +\n",
    "        theme_classic() + \n",
    "        xlab(\"Year\") + \n",
    "        ylab(\"Proportion of\\ndamped predictions\") +\n",
    "        scale_x_continuous(breaks=c(0, 365, 365*2, 365*3), labels=c('Y1', 'Y2', 'Y3', 'Y4')) +\n",
    "        scale_y_continuous(limits = c(0.6, 1)) +\n",
    "        #geom_line(data=overall_damping, aes(x=day, y=damped_proportion, group=group), colour=\"black\", size=1, alpha=0.5) +\n",
    "        labs(colour = \"Scenario\") +\n",
    "        theme(legend.position=c(0.88, 0.45)) +\n",
    "        theme(  text = element_text(size=12, family=\"serif\"),\n",
    "                axis.line = element_line(colour=\"black\", size=0.1),\n",
    "                panel.spacing.x = unit(0.5, \"lines\"),\n",
    "                panel.spacing.y = unit(0.8, \"lines\"),\n",
    "                panel.background = element_blank(),\n",
    "                panel.grid.major = element_blank(), \n",
    "                panel.grid.minor = element_blank(),\n",
    "                panel.border = element_rect(colour=\"black\", fill=NA, size=0.1))\n",
    "\n",
    "\n",
    "svg(\"Images/trend_damping_proportion.svg\", width=6, height=2.3)\n",
    "#p\n",
    "dev.off()"
   ]
  },
  {
   "cell_type": "markdown",
   "metadata": {},
   "source": [
    "### Plot: damped proportions with confidence intervals"
   ]
  },
  {
   "cell_type": "code",
   "execution_count": null,
   "metadata": {
    "collapsed": true
   },
   "outputs": [],
   "source": [
    "# Reversing the conditions (design thing)\n",
    "dplot <- damping_overall\n",
    "dplot$condition <- factor(dplot$condition, levels = rev(levels(dplot$condition)))\n",
    "\n",
    "# Plotting\n",
    "p <- plot_with_ribbon(dplot, type=1)\n",
    "\n",
    "svg(\"Images/trend_damping_overall_with_ci.svg\", width=6, height=2)\n",
    "#p\n",
    "dev.off()\n",
    "p"
   ]
  },
  {
   "cell_type": "markdown",
   "metadata": {},
   "source": [
    "### Plot: damping MAE (group_by condition)"
   ]
  },
  {
   "cell_type": "code",
   "execution_count": null,
   "metadata": {
    "collapsed": true
   },
   "outputs": [],
   "source": [
    "dplot <- norm_data %>% \n",
    "            filter(condition != 'Prior', condition != 'Posterior-Stable', scenario != 'Temperature', scenario != 'Rain', day > 365-31, day <= 365*3 ) %>%\n",
    "            group_by(condition, day) %>%\n",
    "            summarize(mae = mean(abs_error),\n",
    "                      ci_lower = t.test(abs_error, conf.level=0.999)$conf.int[1],\n",
    "                      ci_upper = t.test(abs_error, conf.level=0.999)$conf.int[2]) %>%\n",
    "            mutate(group = 1)\n",
    "\n",
    "# Reversing the conditions (design thing)\n",
    "dplot$condition <- factor(dplot$condition, levels = rev(levels(dplot$condition)))\n",
    "\n",
    "# Plotting\n",
    "p <- plot_with_ribbon(dplot, type=2)\n",
    "\n",
    "svg(\"Images/trend_damping_overall_mae_with_ci.svg\", width=6, height=2)\n",
    "#p\n",
    "dev.off()"
   ]
  },
  {
   "cell_type": "markdown",
   "metadata": {},
   "source": [
    "### Multiplot: damping MAE (group_by condition and scenario)"
   ]
  },
  {
   "cell_type": "code",
   "execution_count": null,
   "metadata": {
    "collapsed": true
   },
   "outputs": [],
   "source": [
    "dplot <- norm_data %>% \n",
    "            filter(condition != 'Prior', condition != 'Posterior-Stable', scenario != 'Temperature', scenario != 'Rain', day > 365-31, day <= 365*3 ) %>%\n",
    "            group_by(condition, scenario, day) %>%\n",
    "            summarize(mae = mean(abs_error),\n",
    "                      ci_lower = t.test(abs_error, conf.level=0.95)$conf.int[1],\n",
    "                      ci_upper = t.test(abs_error, conf.level=0.95)$conf.int[2]) %>%\n",
    "            mutate(group = 1)\n",
    "\n",
    "# Reversing the conditions (design thing)\n",
    "dplot$condition <- factor(dplot$condition, levels = rev(levels(dplot$condition)))\n",
    "\n",
    "p1 <- plot_with_ribbon(dplot %>% filter(scenario==\"Sales\"),       type=3,  hide_legend=TRUE, ylab=\"Mean absolute error\")\n",
    "p2 <- plot_with_ribbon(dplot %>% filter(scenario==\"Gym members\"), type=3,  hide_legend=TRUE)\n",
    "p3 <- plot_with_ribbon(dplot %>% filter(scenario==\"Salary\"),      type=3,  hide_legend=TRUE)\n",
    "p4 <- plot_with_ribbon(dplot %>% filter(scenario==\"FB Friends\"),  type=3,  hide_legend=TRUE)\n",
    "\n",
    "svg(\"Images/trend_damping_scenarios_mae_with_ci.svg\", width=6, height=1.5)\n",
    "#multiplot(p1, p3, p2, p4, cols=4)\n",
    "dev.off()\n",
    "\n",
    "#multiplot(p1, p3, p2, p4, cols=4)"
   ]
  },
  {
   "cell_type": "markdown",
   "metadata": {
    "collapsed": true
   },
   "source": [
    "# NOISE ADDING"
   ]
  },
  {
   "cell_type": "markdown",
   "metadata": {},
   "source": [
    "## Common approach"
   ]
  },
  {
   "cell_type": "markdown",
   "metadata": {},
   "source": [
    "### MAE, group_by condition and noise"
   ]
  },
  {
   "cell_type": "code",
   "execution_count": 17,
   "metadata": {
    "collapsed": true
   },
   "outputs": [],
   "source": [
    "#### Noise per group and condition \n",
    "dplot <- norm_data %>% \n",
    "            filter(condition != 'Prior', scenario != 'Temperature', scenario != 'Rain', day > 365-31, day <= 365*3 ) %>%\n",
    "            group_by(condition, noise, day) %>%\n",
    "            summarize(mae = mean(abs_error),\n",
    "                      ci_lower = t.test(abs_error, conf.level=0.95)$conf.int[1],\n",
    "                      ci_upper = t.test(abs_error, conf.level=0.95)$conf.int[2]) %>%\n",
    "            mutate(group = 1)\n",
    "\n",
    "dplot$noise <- as.character(dplot$noise)"
   ]
  },
  {
   "cell_type": "code",
   "execution_count": 34,
   "metadata": {},
   "outputs": [
    {
     "data": {
      "text/html": [
       "<strong>png:</strong> 2"
      ],
      "text/latex": [
       "\\textbf{png:} 2"
      ],
      "text/markdown": [
       "**png:** 2"
      ],
      "text/plain": [
       "png \n",
       "  2 "
      ]
     },
     "metadata": {},
     "output_type": "display_data"
    }
   ],
   "source": [
    "#dplot$noise <- factor(dplot$noise, levels = rev(levels(dplot$noise)))\n",
    "\n",
    "p1 <- plot_with_ribbon(dplot %>% filter(condition == \"Posterior-Positive\"), type=4, hide_legend=TRUE, ylab = \"Mean absolute error\")\n",
    "p2 <- plot_with_ribbon(dplot %>% filter(condition == \"Posterior-Stable\"), type=4, hide_legend=TRUE)\n",
    "p3 <- plot_with_ribbon(dplot %>% filter(condition == \"Posterior-Negative\"), type=4, hide_legend=TRUE)\n",
    "\n",
    "svg(\"Images/noise_analysis_mae_with_ci.svg\", width=6, height=2)\n",
    "#multiplot(p1, p2, p3, cols=3)\n",
    "dev.off()\n",
    "\n",
    "#multiplot(p1, p2, p3, cols=3)"
   ]
  },
  {
   "cell_type": "markdown",
   "metadata": {},
   "source": [
    "### MAE, group_by condition, scenario, and noise"
   ]
  },
  {
   "cell_type": "code",
   "execution_count": null,
   "metadata": {
    "collapsed": true
   },
   "outputs": [],
   "source": [
    "#### Noise per group and condition \n",
    "dplot <- norm_data %>% \n",
    "            filter(condition != 'Prior', scenario != 'Temperature', scenario != 'Rain', day > 365-31, day <= 365*3 ) %>%\n",
    "            group_by(condition, scenario, noise, day) %>%\n",
    "            summarize(mae = mean(abs_error),\n",
    "                      ci_lower = t.test(abs_error, conf.level=0.95)$conf.int[1],\n",
    "                      ci_upper = t.test(abs_error, conf.level=0.95)$conf.int[2]) %>%\n",
    "            mutate(group = 1)\n",
    "\n",
    "dplot$noise <- as.character(dplot$noise)\n",
    "\n",
    "#dplot$noise <- factor(dplot$noise, levels = rev(levels(dplot$noise)))\n",
    "\n",
    "p1 <- plot_with_ribbon(dplot %>% filter(condition==\"Posterior-Positive\", scenario==\"Sales\"), type=5, hide_legend=TRUE, ylab = \"MAE (Sales)\", title=\"Posterior-Positive\", xlab=\"\")\n",
    "p2 <- plot_with_ribbon(dplot %>% filter(condition==\"Posterior-Positive\", scenario==\"Gym members\"), type=5, hide_legend=TRUE, ylab = \"MAE (Gym members)\", xlab=\"\")\n",
    "p3 <- plot_with_ribbon(dplot %>% filter(condition==\"Posterior-Positive\", scenario==\"Salary\"), type=5, hide_legend=TRUE, ylab = \"MAE (Salary)\", xlab=\"\")\n",
    "p4 <- plot_with_ribbon(dplot %>% filter(condition==\"Posterior-Positive\", scenario==\"FB Friends\"), type=5, hide_legend=TRUE, ylab = \"MAE (FB Friends)\")\n",
    "\n",
    "p5 <- plot_with_ribbon(dplot %>% filter(condition==\"Posterior-Stable\", scenario==\"Sales\"), type=5, hide_legend=TRUE, title=\"Posterior-Stable\", xlab=\"\")\n",
    "p6 <- plot_with_ribbon(dplot %>% filter(condition==\"Posterior-Stable\", scenario==\"Gym members\"), type=5, hide_legend=TRUE, xlab=\"\")\n",
    "p7 <- plot_with_ribbon(dplot %>% filter(condition==\"Posterior-Stable\", scenario==\"Salary\"), type=5, hide_legend=TRUE, xlab=\"\")\n",
    "p8 <- plot_with_ribbon(dplot %>% filter(condition==\"Posterior-Stable\", scenario==\"FB Friends\"), type=5, hide_legend=TRUE)\n",
    "\n",
    "p9  <- plot_with_ribbon(dplot %>% filter(condition==\"Posterior-Negative\", scenario==\"Sales\"), type=5, hide_legend=TRUE, title=\"Posterior-Negative\", xlab=\"\")\n",
    "p10 <- plot_with_ribbon(dplot %>% filter(condition==\"Posterior-Negative\", scenario==\"Gym members\"), type=5, hide_legend=TRUE, xlab=\"\")\n",
    "p11 <- plot_with_ribbon(dplot %>% filter(condition==\"Posterior-Negative\", scenario==\"Salary\"), type=5, hide_legend=TRUE, xlab=\"\")\n",
    "p12 <- plot_with_ribbon(dplot %>% filter(condition==\"Posterior-Negative\", scenario==\"FB Friends\"), type=5, hide_legend=TRUE)\n",
    "\n",
    "svg(\"Images/noise_analysis_scenarios_mae_with_ci.svg\", width=6, height=8)\n",
    "multiplot(p1, p2, p3, p4, p5, p6, p7, p8, p9, p10, p11, p12, cols=3)\n",
    "#p1\n",
    "dev.off()"
   ]
  },
  {
   "cell_type": "markdown",
   "metadata": {},
   "source": [
    "## Special approach"
   ]
  },
  {
   "cell_type": "markdown",
   "metadata": {},
   "source": [
    "Add the mean value columns"
   ]
  },
  {
   "cell_type": "code",
   "execution_count": 30,
   "metadata": {
    "collapsed": true
   },
   "outputs": [],
   "source": [
    "means <- norm_data %>% \n",
    "            group_by(condition, scenario, day) %>%\n",
    "            summarize(value_norm_mean = mean(value_norm))\n",
    "\n",
    "norm_data2 <- merge(x=norm_data, y=means, by=c(\"condition\", \"scenario\", \"day\"), all.x=TRUE)\n",
    "\n",
    "norm_data2 <- norm_data2 %>%\n",
    "                 mutate(abs_error_against_mean = abs(value_norm - value_norm_mean))"
   ]
  },
  {
   "cell_type": "code",
   "execution_count": 39,
   "metadata": {
    "collapsed": true
   },
   "outputs": [],
   "source": [
    "#### Noise per group and condition \n",
    "dplot <- norm_data2 %>% \n",
    "            filter(condition != 'Prior', day > 365-31, day <= 365*3 ) %>%\n",
    "            group_by(condition, noise, day) %>%\n",
    "            summarize(mae = mean(abs_error_against_mean),\n",
    "                      ci_lower = t.test(abs_error_against_mean, conf.level=0.95)$conf.int[1],\n",
    "                      ci_upper = t.test(abs_error_against_mean, conf.level=0.95)$conf.int[2]) %>%\n",
    "            mutate(group = 1)\n",
    "\n",
    "dplot$noise <- as.character(dplot$noise)"
   ]
  },
  {
   "cell_type": "code",
   "execution_count": 40,
   "metadata": {},
   "outputs": [
    {
     "data": {
      "text/html": [
       "<strong>png:</strong> 2"
      ],
      "text/latex": [
       "\\textbf{png:} 2"
      ],
      "text/markdown": [
       "**png:** 2"
      ],
      "text/plain": [
       "png \n",
       "  2 "
      ]
     },
     "metadata": {},
     "output_type": "display_data"
    }
   ],
   "source": [
    "#dplot$noise <- factor(dplot$noise, levels = rev(levels(dplot$noise)))\n",
    "\n",
    "p1 <- plot_with_ribbon(dplot %>% filter(condition == \"Posterior-Positive\"), type=4, hide_legend=TRUE, ylab = \"Mean absolute error\")\n",
    "p2 <- plot_with_ribbon(dplot %>% filter(condition == \"Posterior-Stable\"), type=4, hide_legend=TRUE)\n",
    "p3 <- plot_with_ribbon(dplot %>% filter(condition == \"Posterior-Negative\"), type=4, hide_legend=TRUE)\n",
    "\n",
    "svg(\"Images/noise_analysis_mae_with_ci_special.svg\", width=6, height=2)\n",
    "multiplot(p1, p2, p3, cols=3)\n",
    "dev.off()\n",
    "\n",
    "#multiplot(p1, p2, p3, cols=3)"
   ]
  },
  {
   "cell_type": "code",
   "execution_count": 42,
   "metadata": {},
   "outputs": [
    {
     "data": {
      "text/html": [
       "<strong>png:</strong> 2"
      ],
      "text/latex": [
       "\\textbf{png:} 2"
      ],
      "text/markdown": [
       "**png:** 2"
      ],
      "text/plain": [
       "png \n",
       "  2 "
      ]
     },
     "metadata": {},
     "output_type": "display_data"
    }
   ],
   "source": [
    "#### Noise per group and condition \n",
    "dplot <- norm_data2 %>% \n",
    "            filter(condition != 'Prior', day > 365-31, day <= 365*3 ) %>%\n",
    "            group_by(condition, scenario, noise, day) %>%\n",
    "            summarize(mae = mean(abs_error_against_mean),\n",
    "                      ci_lower = t.test(abs_error_against_mean, conf.level=0.95)$conf.int[1],\n",
    "                      ci_upper = t.test(abs_error_against_mean, conf.level=0.95)$conf.int[2]) %>%\n",
    "            mutate(group = 1)\n",
    "\n",
    "dplot$noise <- as.character(dplot$noise)\n",
    "\n",
    "#dplot$noise <- factor(dplot$noise, levels = rev(levels(dplot$noise)))\n",
    "\n",
    "p1 <- plot_with_ribbon(dplot %>% filter(condition==\"Posterior-Positive\", scenario==\"Sales\"), type=6, hide_legend=TRUE, ylab = \"MAE (Sales)\", title=\"Posterior-Positive\", xlab=\"\")\n",
    "p2 <- plot_with_ribbon(dplot %>% filter(condition==\"Posterior-Positive\", scenario==\"Gym members\"), type=6, hide_legend=TRUE, ylab = \"MAE (Gym members)\", xlab=\"\")\n",
    "p3 <- plot_with_ribbon(dplot %>% filter(condition==\"Posterior-Positive\", scenario==\"Salary\"), type=6, hide_legend=TRUE, ylab = \"MAE (Salary)\", xlab=\"\")\n",
    "p4 <- plot_with_ribbon(dplot %>% filter(condition==\"Posterior-Positive\", scenario==\"FB Friends\"), type=6, hide_legend=TRUE, ylab = \"MAE (FB Friends)\")\n",
    "p4x <- plot_with_ribbon(dplot %>% filter(condition==\"Posterior-Positive\", scenario==\"Temperature\"), type=6, hide_legend=TRUE, ylab = \"MAE (Temperature)\")\n",
    "p4y <- plot_with_ribbon(dplot %>% filter(condition==\"Posterior-Positive\", scenario==\"Rain\"), type=6, hide_legend=TRUE, ylab = \"MAE (Rain)\")\n",
    "\n",
    "\n",
    "p5 <- plot_with_ribbon(dplot %>% filter(condition==\"Posterior-Stable\", scenario==\"Sales\"), type=6, hide_legend=TRUE, title=\"Posterior-Stable\", xlab=\"\")\n",
    "p6 <- plot_with_ribbon(dplot %>% filter(condition==\"Posterior-Stable\", scenario==\"Gym members\"), type=6, hide_legend=TRUE, xlab=\"\")\n",
    "p7 <- plot_with_ribbon(dplot %>% filter(condition==\"Posterior-Stable\", scenario==\"Salary\"), type=6, hide_legend=TRUE, xlab=\"\")\n",
    "p8 <- plot_with_ribbon(dplot %>% filter(condition==\"Posterior-Stable\", scenario==\"FB Friends\"), type=6, hide_legend=TRUE)\n",
    "p8x <- plot_with_ribbon(dplot %>% filter(condition==\"Posterior-Stable\", scenario==\"Temperature\"), type=6, hide_legend=TRUE)\n",
    "p8y <- plot_with_ribbon(dplot %>% filter(condition==\"Posterior-Stable\", scenario==\"Rain\"), type=6, hide_legend=TRUE)\n",
    "\n",
    "p9  <- plot_with_ribbon(dplot %>% filter(condition==\"Posterior-Negative\", scenario==\"Sales\"), type=6, hide_legend=TRUE, title=\"Posterior-Negative\", xlab=\"\")\n",
    "p10 <- plot_with_ribbon(dplot %>% filter(condition==\"Posterior-Negative\", scenario==\"Gym members\"), type=6, hide_legend=TRUE, xlab=\"\")\n",
    "p11 <- plot_with_ribbon(dplot %>% filter(condition==\"Posterior-Negative\", scenario==\"Salary\"), type=6, hide_legend=TRUE, xlab=\"\")\n",
    "p12 <- plot_with_ribbon(dplot %>% filter(condition==\"Posterior-Negative\", scenario==\"FB Friends\"), type=6, hide_legend=TRUE)\n",
    "p12x <- plot_with_ribbon(dplot %>% filter(condition==\"Posterior-Negative\", scenario==\"Temperature\"), type=6, hide_legend=TRUE)\n",
    "p12y <- plot_with_ribbon(dplot %>% filter(condition==\"Posterior-Negative\", scenario==\"Rain\"), type=6, hide_legend=TRUE)\n",
    "\n",
    "svg(\"Images/noise_analysis_scenarios_mae_with_ci_special.svg\", width=6, height=12)\n",
    "multiplot(p1, p2, p3, p4, p4x, p4y, p5, p6, p7, p8, p8x, p8y, p9, p10, p11, p12, p12x, p12y, cols=3)\n",
    "#p1\n",
    "dev.off()"
   ]
  },
  {
   "cell_type": "markdown",
   "metadata": {
    "collapsed": true
   },
   "source": [
    "### Noise groups"
   ]
  },
  {
   "cell_type": "code",
   "execution_count": null,
   "metadata": {
    "collapsed": true
   },
   "outputs": [],
   "source": [
    "g1 <- c( 0.7642726400978779,\n",
    "         0.59420237112108,\n",
    "         0.8045676111568967,\n",
    "         0.3616072333221285,\n",
    "         0.4333995695523616 )\n",
    "\n",
    "g2 <- c( 0.44558333713334464,\n",
    "         0.7720815219200008,\n",
    "         0.091949620524298,\n",
    "         0.3371284569763776,\n",
    "         0.8147280055034919 )\n",
    "\n",
    "g3 <- c( 0.6163862558959631,\n",
    "         0.04367949448727826,\n",
    "         0.057026095449790204,\n",
    "         0.040766425126964156,\n",
    "         0.17492704212711474 )\n",
    "\n",
    "\n",
    "# Each group was substracted by its mean\n",
    "g1 <- g1 - mean(g1)\n",
    "g2 <- g2 - mean(g2)\n",
    "g3 <- g3 - mean(g3)\n",
    "\n",
    "# And then the last two were removed\n",
    "n1 <- g1[1:3]\n",
    "n2 <- g2[1:3]\n",
    "n3 <- g3[1:3]\n",
    "\n",
    "g1 <- c(0, n1, 0)\n",
    "g2 <- c(0, n2, 0)\n",
    "g3 <- c(0, n3, 0)"
   ]
  },
  {
   "cell_type": "markdown",
   "metadata": {},
   "source": [
    "Calculting the noise profile of each group (as the mean of the absolute values)"
   ]
  },
  {
   "cell_type": "code",
   "execution_count": null,
   "metadata": {
    "collapsed": true
   },
   "outputs": [],
   "source": [
    "# Noise profiles\n",
    "np1 <- round(mean(abs(g1)),2)\n",
    "np2 <- round(mean(abs(g2)),2)\n",
    "np3 <- round(mean(abs(g3)),2)\n",
    "\n",
    "c(np1, np2, np3)"
   ]
  },
  {
   "cell_type": "markdown",
   "metadata": {},
   "source": [
    "### Plotting the noises"
   ]
  },
  {
   "cell_type": "code",
   "execution_count": null,
   "metadata": {
    "collapsed": true
   },
   "outputs": [],
   "source": [
    "pdata <- rbind ( data.frame(value=g1, i=1:5, noise_group=\"1 (low)\"),\n",
    "                 data.frame(value=g2, i=1:5, noise_group=\"2 (highest)\"),\n",
    "                 data.frame(value=g3, i=1:5, noise_group=\"3 (high)\"))"
   ]
  },
  {
   "cell_type": "code",
   "execution_count": null,
   "metadata": {
    "collapsed": true
   },
   "outputs": [],
   "source": [
    "p <- ggplot(data=pdata, aes(x=i, y=value, group=noise_group, colour=noise_group)) +\n",
    "        geom_line(size=1) +\n",
    "        geom_point(size=3) +\n",
    "        expand_limits(y=0) +  \n",
    "        labs(colour = \"Noise Group\") +\n",
    "        xlab(\"Position\") + ylab(\"Value\") +\n",
    "        theme_bw() +\n",
    "        ggthemes::theme_few() + \n",
    "        theme(text = element_text(size=12, family=\"serif\")) +\n",
    "        ggthemes::scale_color_solarized()\n",
    "\n",
    "        #theme(text = element_text(size=12, family=\"serif\"))\n",
    "        #theme(legend.position=c(.9, .7))\n",
    "\n",
    "svg(\"Images/noise_groups.svg\", width=6, height=2)\n",
    "p\n",
    "dev.off()\n",
    "#p"
   ]
  },
  {
   "cell_type": "markdown",
   "metadata": {},
   "source": [
    "### Influence per group noise"
   ]
  },
  {
   "cell_type": "markdown",
   "metadata": {},
   "source": [
    "Calculate the mean value for each group of {condition, scenario, day, noise}"
   ]
  },
  {
   "cell_type": "code",
   "execution_count": null,
   "metadata": {
    "collapsed": true
   },
   "outputs": [],
   "source": [
    "values_means <- norm_data %>%\n",
    "                        group_by(condition, scenario, day, noise) %>%\n",
    "                        summarize(value_mean = mean(value_scaled))"
   ]
  },
  {
   "cell_type": "markdown",
   "metadata": {},
   "source": [
    "Merge the values_means into the normalized data"
   ]
  },
  {
   "cell_type": "code",
   "execution_count": null,
   "metadata": {
    "collapsed": true
   },
   "outputs": [],
   "source": [
    "norm_data_2 <- merge(x = norm_data, y = values_means, by = c(\"day\", \"condition\", \"scenario\", \"noise\"), all.x = TRUE)"
   ]
  },
  {
   "cell_type": "markdown",
   "metadata": {},
   "source": [
    "Calculate the Mean Absolute error for each person, scenario, and noise group"
   ]
  },
  {
   "cell_type": "code",
   "execution_count": null,
   "metadata": {
    "collapsed": true
   },
   "outputs": [],
   "source": [
    "MAEs_per_person <- norm_data_2 %>%\n",
    "                    group_by(id, scenario, noise) %>%\n",
    "                    summarize(MAE = sum(abs(value_mean - value_scaled)))"
   ]
  },
  {
   "cell_type": "markdown",
   "metadata": {},
   "source": [
    "Calculate the mean of the mean absolute error"
   ]
  },
  {
   "cell_type": "code",
   "execution_count": null,
   "metadata": {
    "collapsed": true
   },
   "outputs": [],
   "source": [
    "MAEs <- MAEs_per_person %>%\n",
    "                    group_by(scenario, noise) %>%\n",
    "                    summarize(mean_MAE = round(mean(MAE)), sd_MAE = round(sd(MAE)), count=length(MAE))"
   ]
  },
  {
   "cell_type": "code",
   "execution_count": null,
   "metadata": {
    "collapsed": true
   },
   "outputs": [],
   "source": [
    "# Adding Std Error and Confidence Intervals\n",
    "MAEs <- MAEs %>%\n",
    "    mutate(    serror_MAE = round(sd_MAE / sqrt(count)),\n",
    "               ci_95_bottom = round(mean_MAE - qt(0.05 / 2, count)*serror_MAE),\n",
    "               ci_95_top = round(mean_MAE + qt(0.05 / 2, count)*serror_MAE))"
   ]
  },
  {
   "cell_type": "code",
   "execution_count": null,
   "metadata": {
    "collapsed": true
   },
   "outputs": [],
   "source": [
    "MAEs %>%\n",
    "    select(-sd_MAE, -count, -serror_MAE, -ci_95_bottom, -ci_95_top) %>%\n",
    "    spread(noise, mean_MAE)"
   ]
  },
  {
   "cell_type": "code",
   "execution_count": null,
   "metadata": {
    "collapsed": true
   },
   "outputs": [],
   "source": [
    "MAEs %>%\n",
    "    select(-mean_MAE, -count, -sd_MAE, -ci_95_bottom, -ci_95_top) %>%\n",
    "    spread(noise, serror_MAE)"
   ]
  },
  {
   "cell_type": "markdown",
   "metadata": {},
   "source": [
    "### Regressions"
   ]
  },
  {
   "cell_type": "code",
   "execution_count": null,
   "metadata": {
    "collapsed": true
   },
   "outputs": [],
   "source": [
    "# Adding the noise profiles\n",
    "MAEs[MAEs$noise == 1, 'noise_profile'] <- np1\n",
    "MAEs[MAEs$noise == 2, 'noise_profile'] <- np2\n",
    "MAEs[MAEs$noise == 3, 'noise_profile'] <- np3\n",
    "\n",
    "MAEs_per_person[MAEs_per_person$noise == 1, 'noise_profile'] <- np1\n",
    "MAEs_per_person[MAEs_per_person$noise == 2, 'noise_profile'] <- np2\n",
    "MAEs_per_person[MAEs_per_person$noise == 3, 'noise_profile'] <- np3\n",
    "\n",
    "# Adding a cuadratic and cubic noise profile\n",
    "MAEs_per_person$quadratic_np <- MAEs_per_person$noise_profile^2\n",
    "MAEs_per_person$cubic_np <- MAEs_per_person$noise_profile^3"
   ]
  },
  {
   "cell_type": "code",
   "execution_count": null,
   "metadata": {
    "collapsed": true
   },
   "outputs": [],
   "source": [
    "MAEs_per_person %>% head"
   ]
  },
  {
   "cell_type": "markdown",
   "metadata": {},
   "source": [
    "#### Linear regression"
   ]
  },
  {
   "cell_type": "code",
   "execution_count": null,
   "metadata": {
    "collapsed": true
   },
   "outputs": [],
   "source": [
    "MAEs_scenario <- MAEs_per_person %>%\n",
    "                    filter(scenario=='FB Friends')\n",
    "\n",
    "fit <- lm(MAE ~ noise_profile, data=MAEs_scenario)\n",
    "summary(fit)"
   ]
  },
  {
   "cell_type": "markdown",
   "metadata": {},
   "source": [
    "### Plots"
   ]
  },
  {
   "cell_type": "code",
   "execution_count": null,
   "metadata": {
    "collapsed": true
   },
   "outputs": [],
   "source": [
    "MAEs %>% head"
   ]
  },
  {
   "cell_type": "code",
   "execution_count": null,
   "metadata": {
    "collapsed": true
   },
   "outputs": [],
   "source": [
    "p <- ggplot(data=MAEs, aes(x=noise_profile, y=mean_MAE, group=scenario, colour=scenario)) +\n",
    "        geom_line(size=1) +\n",
    "        geom_point(size=3) +\n",
    "        #expand_limits(y=1000) +  \n",
    "        xlab(\"Noise Group Value\") + ylab(\"Mean MAE\") +\n",
    "        theme_bw() +\n",
    "        #geom_errorbar(aes(ymin=ci_95_bottom, ymax=ci_95_top), width=.005) +\n",
    "        labs(colour = \"Scenario\")\n",
    "\n",
    "svg(\"Images/MAEs_noise.svg\", width=8, height=4)\n",
    "#p\n",
    "dev.off()\n",
    "p"
   ]
  },
  {
   "cell_type": "markdown",
   "metadata": {
    "collapsed": true
   },
   "source": [
    "# Gaussian Processes Kernel Composition Analysis"
   ]
  },
  {
   "cell_type": "code",
   "execution_count": 2,
   "metadata": {
    "collapsed": true
   },
   "outputs": [],
   "source": []
  },
  {
   "cell_type": "code",
   "execution_count": 10,
   "metadata": {
    "collapsed": true
   },
   "outputs": [],
   "source": [
    "# Importing the data\n",
    "predictions <- read.csv(\"output/posterior_predictions.csv\")"
   ]
  },
  {
   "cell_type": "markdown",
   "metadata": {},
   "source": [
    "### Copy paste madness to fix some day"
   ]
  },
  {
   "cell_type": "code",
   "execution_count": 11,
   "metadata": {
    "collapsed": true
   },
   "outputs": [],
   "source": [
    "dat <- predictions %>% filter(kernel_prediction)\n",
    "readable_scenarios <- c(\"Temperature\", \"Rain\", \"Sales\", \"Gym members\", \"Salary\", \"FB Friends\")\n",
    "condition_names = c(\"Prior\", \"Posterior-Positive\", \"Posterior-Stable\", \"Posterior-Negative\")\n",
    "\n",
    "# Order on the plot\n",
    "dat$condition <- factor( dat$condition, \n",
    "                         levels = condition_names)\n",
    "\n",
    "dat$scenario <- factor( dat$scenario, \n",
    "                        levels = readable_scenarios)\n",
    "\n",
    "\n",
    "df <- dat %>%\n",
    "        group_by(condition, scenario, day) %>%\n",
    "        summarize(mean(value))\n",
    "\n",
    "df$slope_scale <- mapvalues(df$condition,\n",
    "                              from = c(\"Prior\", \"Posterior-Positive\", \"Posterior-Stable\", \"Posterior-Negative\"),\n",
    "                              to   = c(0, 1, 0, -1))\n",
    "\n",
    "df$range <- mapvalues(df$scenario,\n",
    "                              from = c(\"Temperature\", \"Rain\", \"Sales\", \"Gym members\", \"Salary\", \"FB Friends\"),\n",
    "                              to   = c( 40--10,        100-0,  5000-0,  50-0,          50-0,     1000-0))\n",
    "\n",
    "df$y_intercept <- mapvalues(df$scenario,\n",
    "                              from = c(\"Temperature\", \"Rain\", \"Sales\", \"Gym members\", \"Salary\", \"FB Friends\"),\n",
    "                              to   = c( 15,            30,     2500,    25,            20,       500))\n",
    "\n",
    "\n",
    "# Transformations to numbers\n",
    "df$slope_scale <- as.numeric(levels(df$slope_scale))[df$slope_scale]\n",
    "df$range <- as.numeric(levels(df$range))[df$range]\n",
    "df$y_intercept <- as.numeric(levels(df$y_intercept))[df$y_intercept]\n",
    "\n",
    "# Calculations\n",
    "df$last_point <- df$y_intercept + 0.05 * df$range * df$slope_scale * 4 \n",
    "\n",
    "df$slope <- (df$last_point - df$y_intercept) / ((365-31)-1)\n",
    "\n",
    "df$underlying_trend <- ((df$day-1) * df$slope + df$y_intercept)\n",
    "\n",
    "scaling <- df %>%\n",
    "                    group_by(condition, scenario) %>%\n",
    "                    summarize(y_intercept = unique(y_intercept), last_point= unique(last_point), range = unique(range))\n",
    "\n",
    "# Use the scaling object to scale the data\n",
    "norm_data <- merge(x = dat, y = scaling, by = c(\"condition\", \"scenario\"), all.x = TRUE)\n",
    "\n",
    "norm_data <- norm_data %>%\n",
    "                group_by() %>%\n",
    "                mutate(value_scaled = (value - y_intercept)/(range))\n",
    "# Normalize the data\n",
    "norm_data <- norm_data %>%\n",
    "                group_by() %>%\n",
    "                mutate(value_norm = scale(value_scaled))\n",
    "\n",
    "# Calculate the means and SDs\n",
    "means <- norm_data %>%\n",
    "            group_by() %>%\n",
    "            summarize(value_mean = mean(value_scaled),\n",
    "                      value_sd = sd(value_scaled))\n",
    "\n",
    "# Remove the scaled data\n",
    "norm_data <- norm_data %>% select(-value_scaled)\n",
    "\n",
    "# Scaled trend\n",
    "underlying_trend <- df %>%\n",
    "            group_by() %>%\n",
    "            mutate(underlying_trend_scaled = (underlying_trend - y_intercept)/(range))\n",
    "\n",
    "# Normalize trend\n",
    "underlying_trend <- underlying_trend %>%\n",
    "            mutate(underlying_trend_norm = ((underlying_trend_scaled - means$value_mean)/means$value_sd))\n",
    "\n",
    "underlying_trend <- underlying_trend %>%\n",
    "            select(condition, scenario, day, underlying_trend_norm)\n",
    "    \n",
    "    \n",
    "# Merge the trend into the normalized data\n",
    "norm_data <- merge(x=norm_data, y=underlying_trend, by=c(\"condition\", \"scenario\", \"day\"), all.x=TRUE)\n",
    "\n",
    "# Merging transforms the `value_norm` column into a matrix. This fixes that. No one knows why that happens.\n",
    "norm_data$value_norm <- c(norm_data$value_norm)\n",
    "\n",
    "underlying_trend$id <- 1\n",
    "\n",
    "\n",
    "norm_data <- norm_data %>%\n",
    "                mutate(abs_error = abs(underlying_trend_norm - value_norm))"
   ]
  },
  {
   "cell_type": "markdown",
   "metadata": {},
   "source": [
    "# Trend damping"
   ]
  },
  {
   "cell_type": "markdown",
   "metadata": {},
   "source": [
    "### Graph #1"
   ]
  },
  {
   "cell_type": "code",
   "execution_count": 27,
   "metadata": {},
   "outputs": [
    {
     "data": {},
     "metadata": {},
     "output_type": "display_data"
    },
    {
     "data": {
      "text/html": [
       "<strong>png:</strong> 2"
      ],
      "text/latex": [
       "\\textbf{png:} 2"
      ],
      "text/markdown": [
       "**png:** 2"
      ],
      "text/plain": [
       "png \n",
       "  2 "
      ]
     },
     "metadata": {},
     "output_type": "display_data"
    }
   ],
   "source": [
    "# Filter out the prior condition and {temperature, rain} scenarios. Also filter out before year 1 and after year 4\n",
    "filtered_norm_data <- norm_data %>%\n",
    "        filter(condition != 'Prior', condition != 'Posterior-Stable', scenario != 'Temperature', scenario != 'Rain', day > 365-31, day <= 365*3 )\n",
    "\n",
    "filtered_underlying_trend <- underlying_trend %>%\n",
    "        filter(condition != 'Prior', condition != 'Posterior-Stable', scenario != 'Temperature', scenario != 'Rain', day > 365-31, day <= 365*3 )\n",
    "\n",
    "p <- grid_plot(filtered_norm_data, filtered_underlying_trend, type=3, res=5)\n",
    "\n",
    "svg(\"Images/kernel_trend_damping.svg\", width=5, height=5)\n",
    "p\n",
    "dev.off()"
   ]
  },
  {
   "cell_type": "markdown",
   "metadata": {},
   "source": [
    "### Graph #2"
   ]
  },
  {
   "cell_type": "code",
   "execution_count": 20,
   "metadata": {},
   "outputs": [
    {
     "data": {},
     "metadata": {},
     "output_type": "display_data"
    },
    {
     "data": {
      "text/html": [
       "<strong>png:</strong> 2"
      ],
      "text/latex": [
       "\\textbf{png:} 2"
      ],
      "text/markdown": [
       "**png:** 2"
      ],
      "text/plain": [
       "png \n",
       "  2 "
      ]
     },
     "metadata": {},
     "output_type": "display_data"
    }
   ],
   "source": [
    "# Adding `damped` column\n",
    "norm_data <- norm_data %>%\n",
    "                mutate(damped = value_norm < underlying_trend_norm) \n",
    "\n",
    "norm_data$damped <- ifelse(norm_data$condition == \"Posterior-Positive\", norm_data$damped, !norm_data$damped)\n",
    "\n",
    "# Summarize overall scenarios\n",
    "damping_overall <- norm_data %>% \n",
    "                        filter(condition != 'Prior', condition != 'Posterior-Stable', scenario != 'Temperature', scenario != 'Rain', day > 365-31, day <= 365*3 ) %>%\n",
    "                        group_by(condition, day) %>%\n",
    "                        summarize(damped_proportion = sum(damped*1)/length(damped),\n",
    "                                  ci_lower = ifelse(damped_proportion<1, t.test(damped*1, conf.level=0.95)$conf.int[1], damped_proportion),\n",
    "                                  ci_upper = ifelse(damped_proportion<1, t.test(damped*1, conf.level=0.95)$conf.int[2], damped_proportion)) %>%\n",
    "                        mutate(group = 1)\n",
    "                                  \n",
    "# Summarize per day\n",
    "damping_detail <- norm_data %>%\n",
    "                            filter(condition != 'Prior', condition != 'Posterior-Stable', scenario != 'Temperature', scenario != 'Rain', day > 365-31, day <= 365*3 ) %>%\n",
    "                            group_by(condition, scenario, day) %>%\n",
    "                            summarize(damped_proportion = sum(damped*1)/length(damped))\n",
    "\n",
    "# Reversing the conditions (design thing)\n",
    "dplot <- damping_overall\n",
    "dplot$condition <- factor(dplot$condition, levels = rev(levels(dplot$condition)))\n",
    "\n",
    "# Plotting\n",
    "p <- plot_with_ribbon(dplot, type=1)\n",
    "\n",
    "svg(\"Images/kernel_trend_damping_overall_with_ci.svg\", width=6, height=2)\n",
    "p\n",
    "dev.off()"
   ]
  },
  {
   "cell_type": "markdown",
   "metadata": {},
   "source": [
    "### Graph #3"
   ]
  },
  {
   "cell_type": "code",
   "execution_count": 23,
   "metadata": {},
   "outputs": [
    {
     "data": {},
     "metadata": {},
     "output_type": "display_data"
    },
    {
     "data": {
      "text/html": [
       "<strong>png:</strong> 2"
      ],
      "text/latex": [
       "\\textbf{png:} 2"
      ],
      "text/markdown": [
       "**png:** 2"
      ],
      "text/plain": [
       "png \n",
       "  2 "
      ]
     },
     "metadata": {},
     "output_type": "display_data"
    }
   ],
   "source": [
    "dplot <- norm_data %>% \n",
    "            filter(condition != 'Prior', condition != 'Posterior-Stable', scenario != 'Temperature', scenario != 'Rain', day > 365-31, day <= 365*3 ) %>%\n",
    "            group_by(condition, day) %>%\n",
    "            summarize(mae = mean(abs_error),\n",
    "                      ci_lower = t.test(abs_error, conf.level=0.999)$conf.int[1],\n",
    "                      ci_upper = t.test(abs_error, conf.level=0.999)$conf.int[2]) %>%\n",
    "            mutate(group = 1)\n",
    "\n",
    "# Reversing the conditions (design thing)\n",
    "dplot$condition <- factor(dplot$condition, levels = rev(levels(dplot$condition)))\n",
    "\n",
    "# Plotting\n",
    "p <- plot_with_ribbon(dplot, type=2)\n",
    "\n",
    "svg(\"Images/kernel_trend_damping_overall_mae_with_ci.svg\", width=6, height=2)\n",
    "p\n",
    "dev.off()"
   ]
  },
  {
   "cell_type": "markdown",
   "metadata": {},
   "source": [
    "### Graph #4"
   ]
  },
  {
   "cell_type": "code",
   "execution_count": 26,
   "metadata": {},
   "outputs": [
    {
     "data": {
      "text/html": [
       "<strong>png:</strong> 2"
      ],
      "text/latex": [
       "\\textbf{png:} 2"
      ],
      "text/markdown": [
       "**png:** 2"
      ],
      "text/plain": [
       "png \n",
       "  2 "
      ]
     },
     "metadata": {},
     "output_type": "display_data"
    }
   ],
   "source": [
    "dplot <- norm_data %>% \n",
    "            filter(condition != 'Prior', condition != 'Posterior-Stable', scenario != 'Temperature', scenario != 'Rain', day > 365-31, day <= 365*3 ) %>%\n",
    "            group_by(condition, scenario, day) %>%\n",
    "            summarize(mae = mean(abs_error),\n",
    "                      ci_lower = t.test(abs_error, conf.level=0.95)$conf.int[1],\n",
    "                      ci_upper = t.test(abs_error, conf.level=0.95)$conf.int[2]) %>%\n",
    "            mutate(group = 1)\n",
    "\n",
    "# Reversing the conditions (design thing)\n",
    "dplot$condition <- factor(dplot$condition, levels = rev(levels(dplot$condition)))\n",
    "\n",
    "p1 <- plot_with_ribbon(dplot %>% filter(scenario==\"Sales\"),       type=3,  hide_legend=TRUE, ylab=\"Mean absolute error\")\n",
    "p2 <- plot_with_ribbon(dplot %>% filter(scenario==\"Gym members\"), type=3,  hide_legend=TRUE)\n",
    "p3 <- plot_with_ribbon(dplot %>% filter(scenario==\"Salary\"),      type=3,  hide_legend=TRUE)\n",
    "p4 <- plot_with_ribbon(dplot %>% filter(scenario==\"FB Friends\"),  type=3,  hide_legend=TRUE)\n",
    "\n",
    "svg(\"Images/kernels_trend_damping_scenarios_mae_with_ci.svg\", width=6, height=1.5)\n",
    "multiplot(p1, p3, p2, p4, cols=4)\n",
    "dev.off()"
   ]
  },
  {
   "cell_type": "markdown",
   "metadata": {},
   "source": [
    "# Debug"
   ]
  },
  {
   "cell_type": "code",
   "execution_count": 91,
   "metadata": {
    "collapsed": true
   },
   "outputs": [],
   "source": [
    "set.seed(1492)\n",
    "df <- data.frame(\n",
    "  x = rnorm(100)\n",
    ")\n",
    "x <- df$x\n",
    "\n",
    "fun1 <- function(x) {sin(4*x) + x}\n",
    "fun2 <- function(x) {0 - sin(x) - 0.3*x}\n",
    "\n",
    "f <- ggplot(data.frame(x = c(0, 20)), aes(x))\n",
    "p1 <- f + stat_function(fun = fun1, colour = \"red\", size=2) +\n",
    "        stat_function(fun = fun2, colour = \"blue\", size=2, linetype=\"solid\") +\n",
    "        theme_bw() + \n",
    "        ggthemes::theme_few() + \n",
    "        theme(text = element_text(size=12, family=\"serif\")) +\n",
    "        theme(legend.position=\"none\") +\n",
    "        theme(plot.title = element_text(hjust = 0.5)) +\n",
    "        ggthemes::scale_color_solarized() +\n",
    "        ylab(\"f(x)\") + \n",
    "        ggtitle(\"(a)\")"
   ]
  },
  {
   "cell_type": "code",
   "execution_count": 92,
   "metadata": {
    "collapsed": true
   },
   "outputs": [],
   "source": [
    "fun1 <- function(x) {x*sin(2*x) + 20}\n",
    "fun2 <- function(x) {(20-x)*sin(x) - 20}\n",
    "\n",
    "f <- ggplot(data.frame(x = c(0, 20)), aes(x))\n",
    "p2 <- f + stat_function(fun = fun1, colour = \"red\", size=2) +\n",
    "        stat_function(fun = fun2, colour = \"blue\", size=2, linetype=\"solid\") +\n",
    "        theme_bw() + \n",
    "        ggthemes::theme_few() + \n",
    "        theme(text = element_text(size=12, family=\"serif\")) +\n",
    "        theme(legend.position=\"none\") +\n",
    "        theme(plot.title = element_text(hjust = 0.5)) +\n",
    "        ggthemes::scale_color_solarized() +\n",
    "        ylab(\"\") + \n",
    "        ggtitle(\"(b)\")"
   ]
  },
  {
   "cell_type": "code",
   "execution_count": 93,
   "metadata": {},
   "outputs": [
    {
     "data": {
      "text/html": [
       "<strong>png:</strong> 2"
      ],
      "text/latex": [
       "\\textbf{png:} 2"
      ],
      "text/markdown": [
       "**png:** 2"
      ],
      "text/plain": [
       "png \n",
       "  2 "
      ]
     },
     "metadata": {},
     "output_type": "display_data"
    }
   ],
   "source": [
    "svg(\"Images/kernel_examples.svg\", width=8, height=3)\n",
    "multiplot(p1, p2, cols=2)\n",
    "dev.off()"
   ]
  },
  {
   "cell_type": "markdown",
   "metadata": {},
   "source": [
    "## LMLs graphs"
   ]
  },
  {
   "cell_type": "code",
   "execution_count": 42,
   "metadata": {
    "scrolled": true
   },
   "outputs": [
    {
     "name": "stderr",
     "output_type": "stream",
     "text": [
      "Warning message:\n",
      "\"Missing column names filled in: 'X1' [1]\"Parsed with column specification:\n",
      "cols(\n",
      "  X1 = col_integer(),\n",
      "  id = col_integer(),\n",
      "  pid = col_character(),\n",
      "  scenario = col_character(),\n",
      "  x = col_integer(),\n",
      "  y = col_double(),\n",
      "  condition = col_character()\n",
      ")\n"
     ]
    }
   ],
   "source": [
    "data_prior <- read_csv(\"data/for_composititional_analysis_posterior.csv\")\n",
    "\n",
    "dict_prior <- data_prior %>% \n",
    "                        group_by(id, pid, scenario) %>%\n",
    "                        summarize()"
   ]
  },
  {
   "cell_type": "code",
   "execution_count": 43,
   "metadata": {},
   "outputs": [
    {
     "name": "stderr",
     "output_type": "stream",
     "text": [
      "Warning message:\n",
      "\"Missing column names filled in: 'X1' [1]\"Parsed with column specification:\n",
      "cols(\n",
      "  X1 = col_integer(),\n",
      "  l = col_double(),\n",
      "  `l*p` = col_double(),\n",
      "  `l*p+r` = col_double(),\n",
      "  `l*r` = col_double(),\n",
      "  `l*r*p` = col_double(),\n",
      "  `l*r+p` = col_double(),\n",
      "  `l+p` = col_double(),\n",
      "  `l+r` = col_double(),\n",
      "  `l+r*p` = col_double(),\n",
      "  `l+r+p` = col_double(),\n",
      "  p = col_double(),\n",
      "  `p*r` = col_double(),\n",
      "  `p+r` = col_double(),\n",
      "  r = col_double()\n",
      ")\n"
     ]
    }
   ],
   "source": [
    "lmls_prior <- read_csv(\"output/lmls_posterior.csv\")"
   ]
  },
  {
   "cell_type": "code",
   "execution_count": 44,
   "metadata": {},
   "outputs": [
    {
     "data": {
      "text/html": [
       "<table>\n",
       "<thead><tr><th scope=col>X1</th><th scope=col>l</th><th scope=col>l*p</th><th scope=col>l*p+r</th><th scope=col>l*r</th><th scope=col>l*r*p</th><th scope=col>l*r+p</th><th scope=col>l+p</th><th scope=col>l+r</th><th scope=col>l+r*p</th><th scope=col>l+r+p</th><th scope=col>p</th><th scope=col>p*r</th><th scope=col>p+r</th><th scope=col>r</th></tr></thead>\n",
       "<tbody>\n",
       "\t<tr><td>  1        </td><td>-218.9706  </td><td>  111.84464</td><td>  95.04873 </td><td>-26.49007  </td><td>   95.37812</td><td>123.90174  </td><td>-115.629673</td><td>144.268315 </td><td>167.256048 </td><td>-37.52617  </td><td> 168.0484  </td><td>164.11069  </td><td> 124.018300</td><td>151.004199 </td></tr>\n",
       "\t<tr><td> 10        </td><td>-244.6222  </td><td>   88.48444</td><td>  88.55813 </td><td> 67.54275  </td><td>   81.50601</td><td>109.68757  </td><td>   1.950409</td><td>143.637175 </td><td>174.247789 </td><td>112.40265  </td><td>-101.8430  </td><td>166.27974  </td><td>-101.843028</td><td>106.951964 </td></tr>\n",
       "\t<tr><td>100        </td><td>-232.8012  </td><td>-3254.11842</td><td> -36.42198 </td><td>112.03913  </td><td>  -36.36934</td><td>148.99638  </td><td> -70.581550</td><td>175.565289 </td><td>209.958177 </td><td> 57.17634  </td><td> 149.4930  </td><td>218.69732  </td><td>   7.850604</td><td>171.756468 </td></tr>\n",
       "\t<tr><td>101        </td><td>-218.4161  </td><td>  117.20892</td><td> 112.01088 </td><td>-31.41243  </td><td>  -30.74726</td><td>154.69018  </td><td>  58.878668</td><td>177.863423 </td><td>  7.979143 </td><td>-69.85429  </td><td> 154.6947  </td><td>204.45022  </td><td> 154.618919</td><td>171.340679 </td></tr>\n",
       "\t<tr><td>102        </td><td>-421.5541  </td><td> -118.52405</td><td>-295.23970 </td><td>-68.94295  </td><td>-1404.50483</td><td>-75.82262  </td><td>-255.542355</td><td>  1.273846 </td><td>-37.334837 </td><td>-34.53547  </td><td>-334.8345  </td><td>-97.39009  </td><td>-352.778825</td><td> -3.722745 </td></tr>\n",
       "\t<tr><td>103        </td><td>-211.6976  </td><td> -130.41894</td><td>  90.76930 </td><td> 90.89620  </td><td>  106.62530</td><td>154.70557  </td><td>-129.616597</td><td>144.417639 </td><td>132.457786 </td><td>162.40993  </td><td> 154.7084  </td><td>174.84185  </td><td> 154.708476</td><td>138.744409 </td></tr>\n",
       "</tbody>\n",
       "</table>\n"
      ],
      "text/latex": [
       "\\begin{tabular}{r|lllllllllllllll}\n",
       " X1 & l & l*p & l*p+r & l*r & l*r*p & l*r+p & l+p & l+r & l+r*p & l+r+p & p & p*r & p+r & r\\\\\n",
       "\\hline\n",
       "\t   1         & -218.9706   &   111.84464 &   95.04873  & -26.49007   &    95.37812 & 123.90174   & -115.629673 & 144.268315  & 167.256048  & -37.52617   &  168.0484   & 164.11069   &  124.018300 & 151.004199 \\\\\n",
       "\t  10         & -244.6222   &    88.48444 &   88.55813  &  67.54275   &    81.50601 & 109.68757   &    1.950409 & 143.637175  & 174.247789  & 112.40265   & -101.8430   & 166.27974   & -101.843028 & 106.951964 \\\\\n",
       "\t 100         & -232.8012   & -3254.11842 &  -36.42198  & 112.03913   &   -36.36934 & 148.99638   &  -70.581550 & 175.565289  & 209.958177  &  57.17634   &  149.4930   & 218.69732   &    7.850604 & 171.756468 \\\\\n",
       "\t 101         & -218.4161   &   117.20892 &  112.01088  & -31.41243   &   -30.74726 & 154.69018   &   58.878668 & 177.863423  &   7.979143  & -69.85429   &  154.6947   & 204.45022   &  154.618919 & 171.340679 \\\\\n",
       "\t 102         & -421.5541   &  -118.52405 & -295.23970  & -68.94295   & -1404.50483 & -75.82262   & -255.542355 &   1.273846  & -37.334837  & -34.53547   & -334.8345   & -97.39009   & -352.778825 &  -3.722745 \\\\\n",
       "\t 103         & -211.6976   &  -130.41894 &   90.76930  &  90.89620   &   106.62530 & 154.70557   & -129.616597 & 144.417639  & 132.457786  & 162.40993   &  154.7084   & 174.84185   &  154.708476 & 138.744409 \\\\\n",
       "\\end{tabular}\n"
      ],
      "text/markdown": [
       "\n",
       "X1 | l | l*p | l*p+r | l*r | l*r*p | l*r+p | l+p | l+r | l+r*p | l+r+p | p | p*r | p+r | r | \n",
       "|---|---|---|---|---|---|\n",
       "|   1         | -218.9706   |   111.84464 |   95.04873  | -26.49007   |    95.37812 | 123.90174   | -115.629673 | 144.268315  | 167.256048  | -37.52617   |  168.0484   | 164.11069   |  124.018300 | 151.004199  | \n",
       "|  10         | -244.6222   |    88.48444 |   88.55813  |  67.54275   |    81.50601 | 109.68757   |    1.950409 | 143.637175  | 174.247789  | 112.40265   | -101.8430   | 166.27974   | -101.843028 | 106.951964  | \n",
       "| 100         | -232.8012   | -3254.11842 |  -36.42198  | 112.03913   |   -36.36934 | 148.99638   |  -70.581550 | 175.565289  | 209.958177  |  57.17634   |  149.4930   | 218.69732   |    7.850604 | 171.756468  | \n",
       "| 101         | -218.4161   |   117.20892 |  112.01088  | -31.41243   |   -30.74726 | 154.69018   |   58.878668 | 177.863423  |   7.979143  | -69.85429   |  154.6947   | 204.45022   |  154.618919 | 171.340679  | \n",
       "| 102         | -421.5541   |  -118.52405 | -295.23970  | -68.94295   | -1404.50483 | -75.82262   | -255.542355 |   1.273846  | -37.334837  | -34.53547   | -334.8345   | -97.39009   | -352.778825 |  -3.722745  | \n",
       "| 103         | -211.6976   |  -130.41894 |   90.76930  |  90.89620   |   106.62530 | 154.70557   | -129.616597 | 144.417639  | 132.457786  | 162.40993   |  154.7084   | 174.84185   |  154.708476 | 138.744409  | \n",
       "\n",
       "\n"
      ],
      "text/plain": [
       "  X1  l         l*p         l*p+r      l*r       l*r*p       l*r+p    \n",
       "1   1 -218.9706   111.84464   95.04873 -26.49007    95.37812 123.90174\n",
       "2  10 -244.6222    88.48444   88.55813  67.54275    81.50601 109.68757\n",
       "3 100 -232.8012 -3254.11842  -36.42198 112.03913   -36.36934 148.99638\n",
       "4 101 -218.4161   117.20892  112.01088 -31.41243   -30.74726 154.69018\n",
       "5 102 -421.5541  -118.52405 -295.23970 -68.94295 -1404.50483 -75.82262\n",
       "6 103 -211.6976  -130.41894   90.76930  90.89620   106.62530 154.70557\n",
       "  l+p         l+r        l+r*p      l+r+p     p         p*r       p+r        \n",
       "1 -115.629673 144.268315 167.256048 -37.52617  168.0484 164.11069  124.018300\n",
       "2    1.950409 143.637175 174.247789 112.40265 -101.8430 166.27974 -101.843028\n",
       "3  -70.581550 175.565289 209.958177  57.17634  149.4930 218.69732    7.850604\n",
       "4   58.878668 177.863423   7.979143 -69.85429  154.6947 204.45022  154.618919\n",
       "5 -255.542355   1.273846 -37.334837 -34.53547 -334.8345 -97.39009 -352.778825\n",
       "6 -129.616597 144.417639 132.457786 162.40993  154.7084 174.84185  154.708476\n",
       "  r         \n",
       "1 151.004199\n",
       "2 106.951964\n",
       "3 171.756468\n",
       "4 171.340679\n",
       "5  -3.722745\n",
       "6 138.744409"
      ]
     },
     "metadata": {},
     "output_type": "display_data"
    }
   ],
   "source": [
    "lmls_prior %>% head"
   ]
  },
  {
   "cell_type": "code",
   "execution_count": 45,
   "metadata": {
    "collapsed": true
   },
   "outputs": [],
   "source": [
    "kernels <- c(\"l\", \"p\", \"r\", \"l+p\", \"l+r\", \"p+r\", \"l*r\", \"l*p\", \"p*r\", \"l+r+p\", \"l+r*p\", \"l*r+p\", \"l*p+r\", \"l*r*p\")"
   ]
  },
  {
   "cell_type": "code",
   "execution_count": 46,
   "metadata": {
    "collapsed": true
   },
   "outputs": [],
   "source": [
    "lmls_prior<- lmls_prior %>% \n",
    "                gather(kernel, lml, kernels)"
   ]
  },
  {
   "cell_type": "code",
   "execution_count": 47,
   "metadata": {
    "collapsed": true
   },
   "outputs": [],
   "source": [
    "colnames(lmls_prior) = c('id', 'kernel', 'lml')"
   ]
  },
  {
   "cell_type": "code",
   "execution_count": 48,
   "metadata": {
    "collapsed": true
   },
   "outputs": [],
   "source": [
    "lmls_prior <- merge(x = lmls_prior, y = dict_prior, by = c(\"id\", \"id\"), all.x = TRUE)"
   ]
  },
  {
   "cell_type": "code",
   "execution_count": 49,
   "metadata": {},
   "outputs": [
    {
     "data": {
      "text/html": [
       "<table>\n",
       "<thead><tr><th scope=col>id</th><th scope=col>kernel</th><th scope=col>lml</th><th scope=col>pid</th><th scope=col>scenario</th></tr></thead>\n",
       "<tbody>\n",
       "\t<tr><td>1          </td><td>l          </td><td>-218.97062 </td><td>a001       </td><td>Temperature</td></tr>\n",
       "\t<tr><td>1          </td><td>l*r+p      </td><td> 123.90174 </td><td>a001       </td><td>Temperature</td></tr>\n",
       "\t<tr><td>1          </td><td>l+r*p      </td><td> 167.25605 </td><td>a001       </td><td>Temperature</td></tr>\n",
       "\t<tr><td>1          </td><td>l*r*p      </td><td>  95.37812 </td><td>a001       </td><td>Temperature</td></tr>\n",
       "\t<tr><td>1          </td><td>p*r        </td><td> 164.11069 </td><td>a001       </td><td>Temperature</td></tr>\n",
       "\t<tr><td>1          </td><td>l+r+p      </td><td> -37.52617 </td><td>a001       </td><td>Temperature</td></tr>\n",
       "</tbody>\n",
       "</table>\n"
      ],
      "text/latex": [
       "\\begin{tabular}{r|lllll}\n",
       " id & kernel & lml & pid & scenario\\\\\n",
       "\\hline\n",
       "\t 1           & l           & -218.97062  & a001        & Temperature\\\\\n",
       "\t 1           & l*r+p       &  123.90174  & a001        & Temperature\\\\\n",
       "\t 1           & l+r*p       &  167.25605  & a001        & Temperature\\\\\n",
       "\t 1           & l*r*p       &   95.37812  & a001        & Temperature\\\\\n",
       "\t 1           & p*r         &  164.11069  & a001        & Temperature\\\\\n",
       "\t 1           & l+r+p       &  -37.52617  & a001        & Temperature\\\\\n",
       "\\end{tabular}\n"
      ],
      "text/markdown": [
       "\n",
       "id | kernel | lml | pid | scenario | \n",
       "|---|---|---|---|---|---|\n",
       "| 1           | l           | -218.97062  | a001        | Temperature | \n",
       "| 1           | l*r+p       |  123.90174  | a001        | Temperature | \n",
       "| 1           | l+r*p       |  167.25605  | a001        | Temperature | \n",
       "| 1           | l*r*p       |   95.37812  | a001        | Temperature | \n",
       "| 1           | p*r         |  164.11069  | a001        | Temperature | \n",
       "| 1           | l+r+p       |  -37.52617  | a001        | Temperature | \n",
       "\n",
       "\n"
      ],
      "text/plain": [
       "  id kernel lml        pid  scenario   \n",
       "1 1  l      -218.97062 a001 Temperature\n",
       "2 1  l*r+p   123.90174 a001 Temperature\n",
       "3 1  l+r*p   167.25605 a001 Temperature\n",
       "4 1  l*r*p    95.37812 a001 Temperature\n",
       "5 1  p*r     164.11069 a001 Temperature\n",
       "6 1  l+r+p   -37.52617 a001 Temperature"
      ]
     },
     "metadata": {},
     "output_type": "display_data"
    }
   ],
   "source": [
    "lmls_prior %>% head"
   ]
  },
  {
   "cell_type": "code",
   "execution_count": 50,
   "metadata": {
    "collapsed": true
   },
   "outputs": [],
   "source": [
    "to_plot<- lmls_prior %>% \n",
    "            group_by(pid, scenario) %>%\n",
    "            mutate(lml_mean = mean(lml),\n",
    "                   lml_sd = sd(lml),\n",
    "                   lml_norm = (lml - lml_mean)/lml_sd) %>%\n",
    "            group_by(kernel, scenario) %>%\n",
    "            summarize(value = mean(lml_norm),\n",
    "                      lo_ci = t.test(lml_norm, conf.level=0.95)$conf.int[1],\n",
    "                      hi_ci = t.test(lml_norm, conf.level=0.95)$conf.int[2])"
   ]
  },
  {
   "cell_type": "code",
   "execution_count": 51,
   "metadata": {
    "collapsed": true
   },
   "outputs": [],
   "source": [
    "to_plot$kernel <- factor(to_plot$kernel, levels=kernels)"
   ]
  },
  {
   "cell_type": "code",
   "execution_count": 52,
   "metadata": {
    "collapsed": true
   },
   "outputs": [],
   "source": [
    "lmls_temperature <- to_plot %>% filter(scenario == \"Temperature\")\n",
    "lmls_rain <- to_plot %>% filter(scenario == \"Rain\")\n",
    "lmls_sales <- to_plot %>% filter(scenario == \"Sales\")\n",
    "lmls_gym <- to_plot %>% filter(scenario == \"Gym members\")\n",
    "lmls_salary <- to_plot %>% filter(scenario == \"Salary\")\n",
    "lmls_fb <- to_plot %>% filter(scenario == \"FB Friends\")"
   ]
  },
  {
   "cell_type": "code",
   "execution_count": 53,
   "metadata": {
    "collapsed": true
   },
   "outputs": [],
   "source": [
    "plot_lmls <- function(prop_data, title, hide_x=FALSE, hide_y=FALSE) {\n",
    "    plot <- prop_data %>%\n",
    "                ggplot(aes(x=kernel, y=value)) + \n",
    "                    geom_bar(stat=\"identity\") +\n",
    "                    #ylim(0, 0.5) +\n",
    "                    coord_cartesian (ylim=c(-1.2,1.0)) +\n",
    "                    labs(title = title) +\n",
    "                    ggthemes::theme_few() +\n",
    "                    xlab(\"Kernel composition\") + ylab(\"Mean Standardized\\nLog Likelihood\") +\n",
    "                    geom_errorbar(aes(ymin=as.numeric(lo_ci), ymax=as.numeric(hi_ci)),\n",
    "                                      width=.3,                   \n",
    "                                      position=position_dodge(.9)) +\n",
    "                    theme(axis.text.x = element_text(angle = 90,  vjust = 0.5, hjust=0),\n",
    "                          text = element_text(size=12, family=\"serif\"),\n",
    "                          plot.title = element_text(hjust = 0.5))\n",
    "    \n",
    "    if(hide_x){\n",
    "        plot <- plot + theme(axis.title.x=element_blank())\n",
    "    }\n",
    "    if(hide_y){\n",
    "        plot <- plot + theme(axis.title.y=element_blank())\n",
    "    }\n",
    "    \n",
    "    return(plot)\n",
    "}"
   ]
  },
  {
   "cell_type": "code",
   "execution_count": 54,
   "metadata": {
    "collapsed": true
   },
   "outputs": [],
   "source": [
    "p1 <- plot_lmls(lmls_temperature, \"Temperature\", hide_x=TRUE)\n",
    "p2 <- plot_lmls(lmls_rain, \"Rain\", hide_x=TRUE)\n",
    "p3 <- plot_lmls(lmls_sales, \"Sales\", hide_x=TRUE, hide_y=TRUE)\n",
    "p4 <- plot_lmls(lmls_gym, \"Gym members\", hide_y=TRUE, hide_x=TRUE)\n",
    "p5 <- plot_lmls(lmls_salary, \"Salary\", hide_x=TRUE, hide_y=TRUE)\n",
    "p6 <- plot_lmls(lmls_fb, \"FB Friends\", hide_y=TRUE, hide_x=TRUE)\n",
    "\n",
    "#svg(\"Images/kernels_posterior_lmls.svg\", width=8, height=4)\n",
    "#multiplot(p1, p2, p3, p4, p5, p6, cols=3)\n",
    "#dev.off()"
   ]
  },
  {
   "cell_type": "code",
   "execution_count": 55,
   "metadata": {
    "collapsed": true
   },
   "outputs": [],
   "source": [
    "maxs <- function(df) {\n",
    "    index_max <- which.max(df$value)\n",
    "\n",
    "    lo <- df$lo_ci[index_max]\n",
    "    hi <- df$hi_ci[index_max]\n",
    "\n",
    "    return (df[df$hi_ci > lo, 'kernel'])\n",
    "}"
   ]
  },
  {
   "cell_type": "code",
   "execution_count": 56,
   "metadata": {},
   "outputs": [
    {
     "name": "stdout",
     "output_type": "stream",
     "text": [
      "[1] \"temp\"\n"
     ]
    },
    {
     "data": {
      "text/html": [
       "<table>\n",
       "<thead><tr><th scope=col>kernel</th></tr></thead>\n",
       "<tbody>\n",
       "\t<tr><td>l+r  </td></tr>\n",
       "\t<tr><td>l+r*p</td></tr>\n",
       "\t<tr><td>p*r  </td></tr>\n",
       "\t<tr><td>r    </td></tr>\n",
       "</tbody>\n",
       "</table>\n"
      ],
      "text/latex": [
       "\\begin{tabular}{r|l}\n",
       " kernel\\\\\n",
       "\\hline\n",
       "\t l+r  \\\\\n",
       "\t l+r*p\\\\\n",
       "\t p*r  \\\\\n",
       "\t r    \\\\\n",
       "\\end{tabular}\n"
      ],
      "text/markdown": [
       "\n",
       "kernel | \n",
       "|---|---|---|---|\n",
       "| l+r   | \n",
       "| l+r*p | \n",
       "| p*r   | \n",
       "| r     | \n",
       "\n",
       "\n"
      ],
      "text/plain": [
       "  kernel\n",
       "1 l+r   \n",
       "2 l+r*p \n",
       "3 p*r   \n",
       "4 r     "
      ]
     },
     "metadata": {},
     "output_type": "display_data"
    },
    {
     "name": "stdout",
     "output_type": "stream",
     "text": [
      "[1] \"rain\"\n"
     ]
    },
    {
     "data": {
      "text/html": [
       "<table>\n",
       "<thead><tr><th scope=col>kernel</th></tr></thead>\n",
       "<tbody>\n",
       "\t<tr><td>l+r*p</td></tr>\n",
       "\t<tr><td>p*r  </td></tr>\n",
       "</tbody>\n",
       "</table>\n"
      ],
      "text/latex": [
       "\\begin{tabular}{r|l}\n",
       " kernel\\\\\n",
       "\\hline\n",
       "\t l+r*p\\\\\n",
       "\t p*r  \\\\\n",
       "\\end{tabular}\n"
      ],
      "text/markdown": [
       "\n",
       "kernel | \n",
       "|---|---|\n",
       "| l+r*p | \n",
       "| p*r   | \n",
       "\n",
       "\n"
      ],
      "text/plain": [
       "  kernel\n",
       "1 l+r*p \n",
       "2 p*r   "
      ]
     },
     "metadata": {},
     "output_type": "display_data"
    },
    {
     "name": "stdout",
     "output_type": "stream",
     "text": [
      "[1] \"sales\"\n"
     ]
    },
    {
     "data": {
      "text/html": [
       "<table>\n",
       "<thead><tr><th scope=col>kernel</th></tr></thead>\n",
       "<tbody>\n",
       "\t<tr><td>l*r  </td></tr>\n",
       "\t<tr><td>l*r*p</td></tr>\n",
       "\t<tr><td>l*r+p</td></tr>\n",
       "\t<tr><td>l+r  </td></tr>\n",
       "\t<tr><td>l+r*p</td></tr>\n",
       "\t<tr><td>p*r  </td></tr>\n",
       "</tbody>\n",
       "</table>\n"
      ],
      "text/latex": [
       "\\begin{tabular}{r|l}\n",
       " kernel\\\\\n",
       "\\hline\n",
       "\t l*r  \\\\\n",
       "\t l*r*p\\\\\n",
       "\t l*r+p\\\\\n",
       "\t l+r  \\\\\n",
       "\t l+r*p\\\\\n",
       "\t p*r  \\\\\n",
       "\\end{tabular}\n"
      ],
      "text/markdown": [
       "\n",
       "kernel | \n",
       "|---|---|---|---|---|---|\n",
       "| l*r   | \n",
       "| l*r*p | \n",
       "| l*r+p | \n",
       "| l+r   | \n",
       "| l+r*p | \n",
       "| p*r   | \n",
       "\n",
       "\n"
      ],
      "text/plain": [
       "  kernel\n",
       "1 l*r   \n",
       "2 l*r*p \n",
       "3 l*r+p \n",
       "4 l+r   \n",
       "5 l+r*p \n",
       "6 p*r   "
      ]
     },
     "metadata": {},
     "output_type": "display_data"
    },
    {
     "name": "stdout",
     "output_type": "stream",
     "text": [
      "[1] \"gym\"\n"
     ]
    },
    {
     "data": {
      "text/html": [
       "<table>\n",
       "<thead><tr><th scope=col>kernel</th></tr></thead>\n",
       "<tbody>\n",
       "\t<tr><td>l+r  </td></tr>\n",
       "\t<tr><td>l+r*p</td></tr>\n",
       "</tbody>\n",
       "</table>\n"
      ],
      "text/latex": [
       "\\begin{tabular}{r|l}\n",
       " kernel\\\\\n",
       "\\hline\n",
       "\t l+r  \\\\\n",
       "\t l+r*p\\\\\n",
       "\\end{tabular}\n"
      ],
      "text/markdown": [
       "\n",
       "kernel | \n",
       "|---|---|\n",
       "| l+r   | \n",
       "| l+r*p | \n",
       "\n",
       "\n"
      ],
      "text/plain": [
       "  kernel\n",
       "1 l+r   \n",
       "2 l+r*p "
      ]
     },
     "metadata": {},
     "output_type": "display_data"
    },
    {
     "name": "stdout",
     "output_type": "stream",
     "text": [
      "[1] \"salary\"\n"
     ]
    },
    {
     "data": {
      "text/html": [
       "<table>\n",
       "<thead><tr><th scope=col>kernel</th></tr></thead>\n",
       "<tbody>\n",
       "\t<tr><td>l+r  </td></tr>\n",
       "\t<tr><td>l+r*p</td></tr>\n",
       "\t<tr><td>p*r  </td></tr>\n",
       "\t<tr><td>r    </td></tr>\n",
       "</tbody>\n",
       "</table>\n"
      ],
      "text/latex": [
       "\\begin{tabular}{r|l}\n",
       " kernel\\\\\n",
       "\\hline\n",
       "\t l+r  \\\\\n",
       "\t l+r*p\\\\\n",
       "\t p*r  \\\\\n",
       "\t r    \\\\\n",
       "\\end{tabular}\n"
      ],
      "text/markdown": [
       "\n",
       "kernel | \n",
       "|---|---|---|---|\n",
       "| l+r   | \n",
       "| l+r*p | \n",
       "| p*r   | \n",
       "| r     | \n",
       "\n",
       "\n"
      ],
      "text/plain": [
       "  kernel\n",
       "1 l+r   \n",
       "2 l+r*p \n",
       "3 p*r   \n",
       "4 r     "
      ]
     },
     "metadata": {},
     "output_type": "display_data"
    },
    {
     "name": "stdout",
     "output_type": "stream",
     "text": [
      "[1] \"fb\"\n"
     ]
    },
    {
     "data": {
      "text/html": [
       "<table>\n",
       "<thead><tr><th scope=col>kernel</th></tr></thead>\n",
       "<tbody>\n",
       "\t<tr><td>l+r</td></tr>\n",
       "</tbody>\n",
       "</table>\n"
      ],
      "text/latex": [
       "\\begin{tabular}{r|l}\n",
       " kernel\\\\\n",
       "\\hline\n",
       "\t l+r\\\\\n",
       "\\end{tabular}\n"
      ],
      "text/markdown": [
       "\n",
       "kernel | \n",
       "|---|\n",
       "| l+r | \n",
       "\n",
       "\n"
      ],
      "text/plain": [
       "  kernel\n",
       "1 l+r   "
      ]
     },
     "metadata": {},
     "output_type": "display_data"
    }
   ],
   "source": [
    "print(\"temp\")\n",
    "maxs(lmls_temperature)\n",
    "\n",
    "print(\"rain\")\n",
    "maxs(lmls_rain)\n",
    "\n",
    "print(\"sales\")\n",
    "maxs(lmls_sales)\n",
    "\n",
    "print(\"gym\")\n",
    "maxs(lmls_gym)\n",
    "\n",
    "print(\"salary\")\n",
    "maxs(lmls_salary)\n",
    "\n",
    "print(\"fb\")\n",
    "maxs(lmls_fb)"
   ]
  },
  {
   "cell_type": "code",
   "execution_count": null,
   "metadata": {
    "collapsed": true
   },
   "outputs": [],
   "source": []
  }
 ],
 "metadata": {
  "kernelspec": {
   "display_name": "R",
   "language": "R",
   "name": "ir"
  },
  "language_info": {
   "codemirror_mode": "r",
   "file_extension": ".r",
   "mimetype": "text/x-r-source",
   "name": "R",
   "pygments_lexer": "r",
   "version": "3.3.1"
  }
 },
 "nbformat": 4,
 "nbformat_minor": 2
}
