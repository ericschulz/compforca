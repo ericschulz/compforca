{
 "cells": [
  {
   "cell_type": "markdown",
   "metadata": {},
   "source": [
    "# DISSERTATION ANALYSIS"
   ]
  },
  {
   "cell_type": "code",
   "execution_count": 1,
   "metadata": {},
   "outputs": [
    {
     "name": "stderr",
     "output_type": "stream",
     "text": [
      "Warning message:\n",
      "\"package 'plyr' was built under R version 3.3.3\"Warning message:\n",
      "\"package 'tidyverse' was built under R version 3.3.3\"Loading tidyverse: ggplot2\n",
      "Loading tidyverse: tibble\n",
      "Loading tidyverse: tidyr\n",
      "Loading tidyverse: readr\n",
      "Loading tidyverse: purrr\n",
      "Loading tidyverse: dplyr\n",
      "Warning message:\n",
      "\"package 'ggplot2' was built under R version 3.3.3\"Warning message:\n",
      "\"package 'tibble' was built under R version 3.3.3\"Warning message:\n",
      "\"package 'tidyr' was built under R version 3.3.3\"Warning message:\n",
      "\"package 'readr' was built under R version 3.3.3\"Warning message:\n",
      "\"package 'purrr' was built under R version 3.3.3\"Warning message:\n",
      "\"package 'dplyr' was built under R version 3.3.3\"Conflicts with tidy packages ---------------------------------------------------\n",
      "arrange():   dplyr, plyr\n",
      "compact():   purrr, plyr\n",
      "count():     dplyr, plyr\n",
      "failwith():  dplyr, plyr\n",
      "filter():    dplyr, stats\n",
      "id():        dplyr, plyr\n",
      "lag():       dplyr, stats\n",
      "mutate():    dplyr, plyr\n",
      "rename():    dplyr, plyr\n",
      "summarise(): dplyr, plyr\n",
      "summarize(): dplyr, plyr\n",
      "Warning message:\n",
      "\"package 'DT' was built under R version 3.3.3\"Warning message:\n",
      "\"package 'ggthemes' was built under R version 3.3.3\"Warning message:\n",
      "\"package 'plotly' was built under R version 3.3.3\"\n",
      "Attaching package: 'plotly'\n",
      "\n",
      "The following object is masked from 'package:ggplot2':\n",
      "\n",
      "    last_plot\n",
      "\n",
      "The following objects are masked from 'package:plyr':\n",
      "\n",
      "    arrange, mutate, rename, summarise\n",
      "\n",
      "The following object is masked from 'package:stats':\n",
      "\n",
      "    filter\n",
      "\n",
      "The following object is masked from 'package:graphics':\n",
      "\n",
      "    layout\n",
      "\n"
     ]
    }
   ],
   "source": [
    "source(\"tools.R\")"
   ]
  },
  {
   "cell_type": "markdown",
   "metadata": {},
   "source": [
    "# UNIVERSAL FUNCTIONS AND VARIABLE"
   ]
  },
  {
   "cell_type": "code",
   "execution_count": 2,
   "metadata": {
    "collapsed": true
   },
   "outputs": [],
   "source": [
    "scenarios <- c(\"temperature\", \"rain\", \"sales\", \"gym_memberships\", \"wage\", \"facebook_friends\")\n",
    "\n",
    "readable_scenarios <- c(\"Temperature\", \"Rain\", \"Sales\", \"Gym members\", \"Salary\", \"FB Friends\")\n",
    "\n",
    "subconditions = c(1, 2, 3)\n",
    "\n",
    "condition_names = c(\"Prior\", \"Posterior-Positive\", \"Posterior-Stable\", \"Posterior-Negative\")"
   ]
  },
  {
   "cell_type": "code",
   "execution_count": 3,
   "metadata": {
    "collapsed": true
   },
   "outputs": [],
   "source": [
    "get_range <- function(condition){\n",
    "    \n",
    "    range_array <- switch(\n",
    "            condition,\n",
    "            temperature = c(-10, 40),\n",
    "            sales = c(0, 5000),\n",
    "            facebook_friends = c(0, 1000),\n",
    "            rain = c(0, 100),\n",
    "            gym_memberships = c(0, 50),\n",
    "            wage = c(0, 50)\n",
    "        )\n",
    "    \n",
    "    range_value <- range_array[2] - range_array[1]\n",
    "    \n",
    "    delta <- range_value / 10\n",
    "    \n",
    "    c(range_array[1] - delta, range_array[2] + delta)\n",
    "}"
   ]
  },
  {
   "cell_type": "markdown",
   "metadata": {},
   "source": [
    "# IMPORTING DATA: `data`"
   ]
  },
  {
   "cell_type": "code",
   "execution_count": 4,
   "metadata": {},
   "outputs": [
    {
     "name": "stderr",
     "output_type": "stream",
     "text": [
      "Parsed with column specification:\n",
      "cols(\n",
      "  .default = col_double(),\n",
      "  userId = col_character(),\n",
      "  age = col_character(),\n",
      "  datetime = col_character(),\n",
      "  gender = col_character(),\n",
      "  datetime_1 = col_character(),\n",
      "  stage = col_integer(),\n",
      "  scenario = col_character(),\n",
      "  subcondition = col_integer(),\n",
      "  pageIndex = col_integer(),\n",
      "  noiseIndex = col_integer(),\n",
      "  day0 = col_character(),\n",
      "  day1 = col_character(),\n",
      "  day2 = col_character(),\n",
      "  day3 = col_character(),\n",
      "  day4 = col_character(),\n",
      "  day5 = col_character(),\n",
      "  day6 = col_character(),\n",
      "  day7 = col_character(),\n",
      "  day8 = col_character(),\n",
      "  day9 = col_character()\n",
      "  # ... with 69 more columns\n",
      ")\n",
      "See spec(...) for full column specifications.\n"
     ]
    }
   ],
   "source": [
    "# Import data\n",
    "data <- suppressWarnings(read_csv(\"data/catmull-rom-dataset.csv\"))\n",
    "\n",
    "# Small modification\n",
    "data$noiseIndex <- data$noiseIndex+1\n",
    "\n",
    "# All participants\n",
    "participants <- data %>%\n",
    "                select(userId, age, gender) %>%\n",
    "                unique"
   ]
  },
  {
   "cell_type": "markdown",
   "metadata": {},
   "source": [
    "### Suppressing invalid participants\n",
    "- `a106`: Participant misunderstood the instructions and always added a point on the far right and far bottom.\n",
    "- `a118`: Participant indicated that he had trouble with the interface.\n",
    "- `a021`: Response in Temperature (constant -10) indicates a non-interested participant. ***Was not supressed ***"
   ]
  },
  {
   "cell_type": "code",
   "execution_count": 5,
   "metadata": {},
   "outputs": [
    {
     "name": "stderr",
     "output_type": "stream",
     "text": [
      "Warning message:\n",
      "\"package 'bindrcpp' was built under R version 3.3.3\""
     ]
    }
   ],
   "source": [
    "data <- data %>% filter(userId != 'a106',userId != 'a118')"
   ]
  },
  {
   "cell_type": "markdown",
   "metadata": {},
   "source": [
    "### Tidyverse: `tidy_data`"
   ]
  },
  {
   "cell_type": "code",
   "execution_count": 6,
   "metadata": {},
   "outputs": [
    {
     "name": "stderr",
     "output_type": "stream",
     "text": [
      "Warning message in eval(substitute(expr), envir, enclos):\n",
      "\"NAs introduced by coercion\""
     ]
    }
   ],
   "source": [
    "# To tidy data\n",
    "tidy_data <- data %>% \n",
    "    gather(day, value, starts_with(\"day\"))\n",
    "\n",
    "# Transform strings to numbers\n",
    "tidy_data <- tidy_data %>%\n",
    "    mutate(day = as.numeric(gsub(\"day\", \"\", day)),\n",
    "           value = as.numeric(value))\n",
    "\n",
    "# Changes values to make them readable\n",
    "# TODO: make this tidier:\n",
    "tidy_data$subcondition_name <- mapvalues(tidy_data$subcondition,\n",
    "                                  from = subconditions,\n",
    "                                  to   = condition_names[2:4])\n",
    "\n",
    "tidy_data$condition_name <- ifelse(tidy_data$stage==1,\n",
    "                                   condition_names[1], \n",
    "                                   \"\")\n",
    "\n",
    "tidy_data$condition_name <- ifelse(tidy_data$stage == 2, \n",
    "                                   tidy_data$subcondition_name, \n",
    "                                   tidy_data$condition_name)"
   ]
  },
  {
   "cell_type": "markdown",
   "metadata": {},
   "source": [
    "### Preparing the tidy data for analysis: `dat`"
   ]
  },
  {
   "cell_type": "code",
   "execution_count": 7,
   "metadata": {
    "collapsed": true
   },
   "outputs": [],
   "source": [
    "dat <- data.frame(\n",
    "                    id        = tidy_data$userId,\n",
    "                    day       = tidy_data$day, #x\n",
    "                    value     = tidy_data$value, #y\n",
    "                    condition = tidy_data$condition_name,\n",
    "                    scenario  = tidy_data$scenario,\n",
    "                    noise     = tidy_data$noiseIndex\n",
    "                 )\n",
    "\n",
    "# Change the readable names of the variables\n",
    "dat$scenario <- mapvalues( dat$scenario, \n",
    "                           from = scenarios,\n",
    "                           to = readable_scenarios)\n",
    "\n",
    "\n",
    "# Order on the plot\n",
    "dat$condition <- factor( dat$condition, \n",
    "                         levels = condition_names)\n",
    "\n",
    "dat$scenario <- factor( dat$scenario, \n",
    "                        levels = readable_scenarios)\n",
    "\n",
    "# Subset the analysis of data\n",
    "dat <- subset(dat, day > 30 & day < 365*4-30)"
   ]
  },
  {
   "cell_type": "markdown",
   "metadata": {},
   "source": [
    "### Scaling and normalization: `norm_data`"
   ]
  },
  {
   "cell_type": "code",
   "execution_count": 8,
   "metadata": {
    "collapsed": true
   },
   "outputs": [],
   "source": [
    "df <- dat %>%\n",
    "        group_by(condition, scenario, day) %>%\n",
    "        summarize(mean(value))\n",
    "\n",
    "df$slope_scale <- mapvalues(df$condition,\n",
    "                              from = c(\"Prior\", \"Posterior-Positive\", \"Posterior-Stable\", \"Posterior-Negative\"),\n",
    "                              to   = c(0, 1, 0, -1))\n",
    "\n",
    "df$range <- mapvalues(df$scenario,\n",
    "                              from = c(\"Temperature\", \"Rain\", \"Sales\", \"Gym members\", \"Salary\", \"FB Friends\"),\n",
    "                              to   = c( 40--10,        100-0,  5000-0,  50-0,          50-0,     1000-0))\n",
    "\n",
    "df$y_intercept <- mapvalues(df$scenario,\n",
    "                              from = c(\"Temperature\", \"Rain\", \"Sales\", \"Gym members\", \"Salary\", \"FB Friends\"),\n",
    "                              to   = c( 15,            30,     2500,    25,            20,       500))\n",
    "\n",
    "\n",
    "# Transformations to numbers\n",
    "df$slope_scale <- as.numeric(levels(df$slope_scale))[df$slope_scale]\n",
    "df$range <- as.numeric(levels(df$range))[df$range]\n",
    "df$y_intercept <- as.numeric(levels(df$y_intercept))[df$y_intercept]\n",
    "\n",
    "# Calculations\n",
    "df$last_point <- df$y_intercept + 0.05 * df$range * df$slope_scale * 4 \n",
    "\n",
    "df$slope <- (df$last_point - df$y_intercept) / ((365-31)-1)\n",
    "\n",
    "df$underlying_trend <- ((df$day-1) * df$slope + df$y_intercept)\n",
    "\n",
    "scaling <- df %>%\n",
    "                    group_by(condition, scenario) %>%\n",
    "                    summarize(y_intercept = unique(y_intercept), last_point= unique(last_point), range = unique(range))\n",
    "\n",
    "# Use the scaling object to scale the data\n",
    "norm_data <- merge(x = dat, y = scaling, by = c(\"condition\", \"scenario\"), all.x = TRUE)\n",
    "\n",
    "norm_data <- norm_data %>%\n",
    "                group_by() %>%\n",
    "                mutate(value_scaled = (value - y_intercept)/(range))\n",
    "# Normalize the data\n",
    "norm_data <- norm_data %>%\n",
    "                group_by() %>%\n",
    "                mutate(value_norm = scale(value_scaled))\n",
    "\n",
    "# Calculate the means and SDs\n",
    "means <- norm_data %>%\n",
    "            group_by() %>%\n",
    "            summarize(value_mean = mean(value_scaled),\n",
    "                      value_sd = sd(value_scaled))\n",
    "\n",
    "# Remove the scaled data\n",
    "norm_data <- norm_data %>% select(-value_scaled)"
   ]
  },
  {
   "cell_type": "markdown",
   "metadata": {},
   "source": [
    "### Underlying trend: `underlying_trend`"
   ]
  },
  {
   "cell_type": "code",
   "execution_count": 9,
   "metadata": {
    "collapsed": true
   },
   "outputs": [],
   "source": [
    "# Scaled trend\n",
    "underlying_trend <- df %>%\n",
    "            group_by() %>%\n",
    "            mutate(underlying_trend_scaled = (underlying_trend - y_intercept)/(range))\n",
    "\n",
    "# Normalize trend\n",
    "underlying_trend <- underlying_trend %>%\n",
    "            mutate(underlying_trend_norm = ((underlying_trend_scaled - means$value_mean)/means$value_sd))\n",
    "\n",
    "underlying_trend <- underlying_trend %>%\n",
    "            select(condition, scenario, day, underlying_trend_norm)"
   ]
  },
  {
   "cell_type": "code",
   "execution_count": 10,
   "metadata": {
    "collapsed": true
   },
   "outputs": [],
   "source": [
    "# Merge the trend into the normalized data\n",
    "norm_data <- merge(x=norm_data, y=underlying_trend, by=c(\"condition\", \"scenario\", \"day\"), all.x=TRUE)\n",
    "\n",
    "# Merging transforms the `value_norm` column into a matrix. This fixes that. No one knows why that happens.\n",
    "norm_data$value_norm <- c(norm_data$value_norm)\n",
    "\n",
    "underlying_trend$id <- 1"
   ]
  },
  {
   "cell_type": "markdown",
   "metadata": {},
   "source": [
    "### Adding Absolute Error to `norm_data`"
   ]
  },
  {
   "cell_type": "code",
   "execution_count": 11,
   "metadata": {
    "collapsed": true
   },
   "outputs": [],
   "source": [
    "norm_data <- norm_data %>%\n",
    "                mutate(abs_error = abs(underlying_trend_norm - value_norm))"
   ]
  },
  {
   "cell_type": "markdown",
   "metadata": {},
   "source": [
    "### Exporting the data for the compositional analysis"
   ]
  },
  {
   "cell_type": "markdown",
   "metadata": {},
   "source": [
    "Compositional analysis of the prior conditions"
   ]
  },
  {
   "cell_type": "code",
   "execution_count": 19,
   "metadata": {
    "collapsed": true
   },
   "outputs": [],
   "source": [
    "if(FALSE){\n",
    "    # Selecting the data that we want to export\n",
    "    to_export <- norm_data %>% \n",
    "                        filter(condition == \"Prior\") %>%\n",
    "                        select(pid = id, scenario, x=day, y=value_norm) %>%\n",
    "                        subset(x %in% seq(min(x), max(x), 5))\n",
    "\n",
    "    # Add an id to every combination of pid~scenario\n",
    "    groups <- to_export %>% group_by(pid, scenario) %>% summarize() \n",
    "\n",
    "    groups$id <- 1 : (groups %>% nrow)\n",
    "\n",
    "    to_export <- merge(x = to_export, y = groups, by = c(\"pid\", \"scenario\"), all.x = TRUE)\n",
    "\n",
    "    # Re-ordering the columns\n",
    "    to_export <- to_export %>%\n",
    "                        select(id, pid, scenario, x, y)\n",
    "\n",
    "    # Ordering the data\n",
    "    attach(to_export); to_export <- to_export[order(id, x), ]; detach(to_export);\n",
    "\n",
    "    # Uncomment this to write the file\n",
    "    write.csv(to_export, file = \"data/for_composititional_analysis_prior.csv\")\n",
    "\n",
    "    rm(to_export)\n",
    "}"
   ]
  },
  {
   "cell_type": "markdown",
   "metadata": {},
   "source": [
    "Compositional analysis of the posterior data"
   ]
  },
  {
   "cell_type": "code",
   "execution_count": 60,
   "metadata": {
    "collapsed": true
   },
   "outputs": [],
   "source": [
    "if(FALSE){\n",
    "    # Selecting the data that we want to export\n",
    "    to_export <- norm_data %>% \n",
    "                        filter(condition != \"Prior\") %>%\n",
    "                        select(pid = id, scenario, x=day, y=value_norm, condition) %>%\n",
    "                        subset(x %in% seq(min(x), max(x), 5))\n",
    "\n",
    "    # Add an id to every combination of pid~scenario\n",
    "    groups <- to_export %>% group_by(pid, scenario) %>% summarize() \n",
    "\n",
    "    groups$id <- 1 : (groups %>% nrow)\n",
    "\n",
    "    to_export <- merge(x = to_export, y = groups, by = c(\"pid\", \"scenario\"), all.x = TRUE)\n",
    "\n",
    "    # Re-ordering the columns\n",
    "    to_export <- to_export %>%\n",
    "                        select(id, pid, scenario, x, y, condition)\n",
    "    \n",
    "    # Ordering the data\n",
    "    attach(to_export); to_export <- to_export[order(id, x), ]; detach(to_export);\n",
    "\n",
    "    # Uncomment this to write the file\n",
    "    write.csv(to_export, file = \"data/for_composititional_analysis_posterior.csv\")\n",
    "\n",
    "    rm(to_export)\n",
    "}"
   ]
  },
  {
   "cell_type": "markdown",
   "metadata": {},
   "source": [
    "# PARTICIPANTS"
   ]
  },
  {
   "cell_type": "code",
   "execution_count": 18,
   "metadata": {},
   "outputs": [
    {
     "data": {
      "text/html": [
       "<table>\n",
       "<thead><tr><th scope=col>mean(age_number)</th><th scope=col>sd(age_number)</th></tr></thead>\n",
       "<tbody>\n",
       "\t<tr><td>34.44</td><td>9.62 </td></tr>\n",
       "</tbody>\n",
       "</table>\n"
      ],
      "text/latex": [
       "\\begin{tabular}{r|ll}\n",
       " mean(age\\_number) & sd(age\\_number)\\\\\n",
       "\\hline\n",
       "\t 34.44 & 9.62 \\\\\n",
       "\\end{tabular}\n"
      ],
      "text/markdown": [
       "\n",
       "mean(age_number) | sd(age_number) | \n",
       "|---|\n",
       "| 34.44 | 9.62  | \n",
       "\n",
       "\n"
      ],
      "text/plain": [
       "  mean(age_number) sd(age_number)\n",
       "1 34.44            9.62          "
      ]
     },
     "metadata": {},
     "output_type": "display_data"
    },
    {
     "data": {
      "text/html": [
       "55"
      ],
      "text/latex": [
       "55"
      ],
      "text/markdown": [
       "55"
      ],
      "text/plain": [
       "[1] 55"
      ]
     },
     "metadata": {},
     "output_type": "display_data"
    },
    {
     "data": {
      "text/html": [
       "121"
      ],
      "text/latex": [
       "121"
      ],
      "text/markdown": [
       "121"
      ],
      "text/plain": [
       "[1] 121"
      ]
     },
     "metadata": {},
     "output_type": "display_data"
    }
   ],
   "source": [
    "participants$age_number<- mapvalues(participants$age,\n",
    "                              from = c('18-25',   '26-35',   '36-45',   '46-55',   '56-65',  '66+'),\n",
    "                              to   = c((25-18)/2+18, (35-26)/2+26, (45-36)/2+36, (55-46)/2+46, (65-56)+56/2, 66))\n",
    "\n",
    "participants$age_number <- as.numeric(participants$age_number)\n",
    "\n",
    "# Age\n",
    "participants %>%\n",
    "    summarize(mean(age_number), sd(age_number)) %>%\n",
    "    round(2)\n",
    "\n",
    "# Gender\n",
    "participants %>%\n",
    "    filter(gender == 'female') %>%\n",
    "    nrow\n",
    "\n",
    "# Total\n",
    "participants %>%\n",
    "    nrow"
   ]
  },
  {
   "cell_type": "markdown",
   "metadata": {},
   "source": [
    "# PLOTS"
   ]
  },
  {
   "cell_type": "markdown",
   "metadata": {},
   "source": [
    "### Grid plot function"
   ]
  },
  {
   "cell_type": "code",
   "execution_count": null,
   "metadata": {
    "collapsed": true
   },
   "outputs": [],
   "source": [
    "grid_plot <- function(dplot, trend, res=30, type=1) {\n",
    "    \n",
    "    if(type == 1){\n",
    "        y = \"value\"\n",
    "        group = \"id\"\n",
    "        ylab = \"Value\"\n",
    "        trend_y = \"value\"\n",
    "    }\n",
    "    else if(type == 2){\n",
    "        y = \"value_norm\"\n",
    "        group = \"id\"\n",
    "        ylab = \"Scaled value\"\n",
    "        trend_y = \"underlying_trend_norm\"\n",
    "    }\n",
    "    \n",
    "    # Subsetting the data\n",
    "    dplot <- subset(dplot, day %in% seq(min(dplot$day), max(dplot$day), res))\n",
    "    \n",
    "    # Plotting\n",
    "    p <- dplot %>%\n",
    "        ggplot(aes_string(x=\"day\", y=y, group=group)) + \n",
    "        geom_line(col=\"steelblue\", alpha=0.2) +\n",
    "        facet_grid(scenario~condition, scales=\"free_y\") +\n",
    "        theme_classic() + \n",
    "        xlab(\"Year\") + \n",
    "        ylab(ylab) +\n",
    "        geom_line(data=trend, aes_string(x=\"day\", y=trend_y), colour=\"black\") +\n",
    "        scale_x_continuous(breaks=c(0, 365, 365*2, 365*3), labels=c('Y1', 'Y2', 'Y3', 'Y4')) +\n",
    "        geom_vline(data=filter(trend, condition!=\"Prior\"), aes(xintercept=365-31), colour=\"steelblue\") +\n",
    "        theme(  text = element_text(size=12, family=\"serif\"),\n",
    "                axis.line = element_line(colour=\"black\", size=0.1),\n",
    "                panel.spacing.x = unit(0.5, \"lines\"),\n",
    "                panel.spacing.y = unit(0.8, \"lines\"),\n",
    "                panel.background = element_blank(),\n",
    "                panel.grid.major = element_blank(), \n",
    "                panel.grid.minor = element_blank(),\n",
    "                panel.border = element_rect(colour=\"black\", fill=NA, size=0.1))\n",
    "}"
   ]
  },
  {
   "cell_type": "markdown",
   "metadata": {},
   "source": [
    "### Plot: responses + mean"
   ]
  },
  {
   "cell_type": "code",
   "execution_count": null,
   "metadata": {
    "collapsed": true,
    "scrolled": false
   },
   "outputs": [],
   "source": [
    "# Mean\n",
    "means <- dat %>%\n",
    "            group_by(condition, scenario, day) %>%\n",
    "            summarize(value = mean(value), id = 1)\n",
    "\n",
    "# Plot\n",
    "p <- grid_plot(dat, means, type=1, res=5)\n",
    "\n",
    "# Save/show\n",
    "svg(\"Images/responses_with_mean_eric.svg\")\n",
    "p\n",
    "dev.off()"
   ]
  },
  {
   "cell_type": "markdown",
   "metadata": {},
   "source": [
    "### Plot: responses + underlying trends\n",
    "**`norm_data$value_scaled`** and **`trend$underlying_trend_scaled`**"
   ]
  },
  {
   "cell_type": "code",
   "execution_count": null,
   "metadata": {
    "collapsed": true
   },
   "outputs": [],
   "source": [
    "# Plot\n",
    "p <- grid_plot(norm_data, underlying_trend %>% filter(condition != 'Prior'), type=2, res=5)\n",
    "\n",
    "# Save/show\n",
    "svg(\"Images/responses_with_underlying_trends.svg\")\n",
    "p\n",
    "dev.off()"
   ]
  },
  {
   "cell_type": "markdown",
   "metadata": {},
   "source": [
    "# TREND DAMPING"
   ]
  },
  {
   "cell_type": "markdown",
   "metadata": {},
   "source": [
    "### Plot: trend damping"
   ]
  },
  {
   "cell_type": "code",
   "execution_count": null,
   "metadata": {
    "collapsed": true
   },
   "outputs": [],
   "source": [
    "# Filter out the prior condition and {temperature, rain} scenarios. Also filter out before year 1 and after year 4\n",
    "filtered_norm_data <- norm_data %>%\n",
    "        filter(condition != 'Prior', condition != 'Posterior-Stable', scenario != 'Temperature', scenario != 'Rain', day > 365-31, day <= 365*3 )\n",
    "\n",
    "filtered_underlying_trend <- underlying_trend %>%\n",
    "        filter(condition != 'Prior', condition != 'Posterior-Stable', scenario != 'Temperature', scenario != 'Rain', day > 365-31, day <= 365*3 )\n",
    "\n",
    "p <- grid_plot(filtered_norm_data, filtered_underlying_trend, type=2, res=5)\n",
    "\n",
    "svg(\"Images/trend_damping.svg\", width=5, height=5)\n",
    "p\n",
    "dev.off()"
   ]
  },
  {
   "cell_type": "markdown",
   "metadata": {},
   "source": [
    "### Percentage of trend damping"
   ]
  },
  {
   "cell_type": "code",
   "execution_count": null,
   "metadata": {
    "collapsed": true
   },
   "outputs": [],
   "source": [
    "# Adding `damped` column\n",
    "norm_data <- norm_data %>%\n",
    "                mutate(damped = value_norm < underlying_trend_norm) \n",
    "\n",
    "norm_data$damped <- ifelse(norm_data$condition == \"Posterior-Positive\", norm_data$damped, !norm_data$damped)"
   ]
  },
  {
   "cell_type": "code",
   "execution_count": null,
   "metadata": {
    "collapsed": true
   },
   "outputs": [],
   "source": [
    "# Summarize overall scenarios\n",
    "damping_overall <- norm_data %>% \n",
    "                        filter(condition != 'Prior', condition != 'Posterior-Stable', scenario != 'Temperature', scenario != 'Rain', day > 365-31, day <= 365*3 ) %>%\n",
    "                        group_by(condition, day) %>%\n",
    "                        summarize(damped_proportion = sum(damped*1)/length(damped),\n",
    "                                  ci_lower = ifelse(damped_proportion<1, t.test(damped*1, conf.level=0.95)$conf.int[1], damped_proportion),\n",
    "                                  ci_upper = ifelse(damped_proportion<1, t.test(damped*1, conf.level=0.95)$conf.int[2], damped_proportion)) %>%\n",
    "                        mutate(group = 1)\n",
    "                                  \n",
    "# Summarize per day\n",
    "damping_detail <- norm_data %>%\n",
    "                            filter(condition != 'Prior', condition != 'Posterior-Stable', scenario != 'Temperature', scenario != 'Rain', day > 365-31, day <= 365*3 ) %>%\n",
    "                            group_by(condition, scenario, day) %>%\n",
    "                            summarize(damped_proportion = sum(damped*1)/length(damped))"
   ]
  },
  {
   "cell_type": "markdown",
   "metadata": {},
   "source": [
    "### Minimum and maximum"
   ]
  },
  {
   "cell_type": "code",
   "execution_count": null,
   "metadata": {
    "collapsed": true
   },
   "outputs": [],
   "source": [
    "damping_overall %>%\n",
    "    group_by(condition) %>%\n",
    "    summarize(min.day = day[which.min(damped_proportion)], min.value = min(damped_proportion),\n",
    "              max.day = day[which.max(damped_proportion)], max.value = max(damped_proportion)) "
   ]
  },
  {
   "cell_type": "code",
   "execution_count": null,
   "metadata": {
    "collapsed": true
   },
   "outputs": [],
   "source": [
    "# T-test min\n",
    "min1 <- norm_data %>% \n",
    "            group_by(condition, day) %>%\n",
    "            filter(condition=='Posterior-Positive', day == 338)\n",
    "\n",
    "# T-test min \n",
    "min2 <- norm_data %>% \n",
    "            group_by(condition, day) %>%\n",
    "            filter(condition=='Posterior-Negative', day == 341)\n",
    "\n",
    "t.test(min1$damped)\n",
    "t.test(min2$damped)"
   ]
  },
  {
   "cell_type": "markdown",
   "metadata": {},
   "source": [
    "### Logarithmic models"
   ]
  },
  {
   "cell_type": "code",
   "execution_count": null,
   "metadata": {
    "collapsed": true,
    "scrolled": false
   },
   "outputs": [],
   "source": [
    "# P-Positive\n",
    "lm(damped_proportion ~ day*log(day), damping_overall %>% filter(condition=='Posterior-Positive')) %>% summary"
   ]
  },
  {
   "cell_type": "code",
   "execution_count": null,
   "metadata": {
    "collapsed": true
   },
   "outputs": [],
   "source": [
    "# P-Negative\n",
    "lm(damped_proportion ~ day*log(day), damping_overall %>% filter(condition=='Posterior-Negative')) %>% summary"
   ]
  },
  {
   "cell_type": "markdown",
   "metadata": {},
   "source": [
    "### Plot: trend damping summary"
   ]
  },
  {
   "cell_type": "code",
   "execution_count": null,
   "metadata": {
    "collapsed": true
   },
   "outputs": [],
   "source": [
    "p <- damping_detail %>%\n",
    "        ggplot(aes(x=day, y=damped_proportion, group=scenario, color=scenario)) + \n",
    "        geom_line(size=1, alpha=0.7) +\n",
    "        facet_grid(~condition, scales=\"free_y\") +\n",
    "        theme_classic() + \n",
    "        xlab(\"Year\") + \n",
    "        ylab(\"Proportion of\\ndamped predictions\") +\n",
    "        scale_x_continuous(breaks=c(0, 365, 365*2, 365*3), labels=c('Y1', 'Y2', 'Y3', 'Y4')) +\n",
    "        scale_y_continuous(limits = c(0.6, 1)) +\n",
    "        #geom_line(data=overall_damping, aes(x=day, y=damped_proportion, group=group), colour=\"black\", size=1, alpha=0.5) +\n",
    "        labs(colour = \"Scenario\") +\n",
    "        theme(legend.position=c(0.88, 0.45)) +\n",
    "        theme(  text = element_text(size=12, family=\"serif\"),\n",
    "                axis.line = element_line(colour=\"black\", size=0.1),\n",
    "                panel.spacing.x = unit(0.5, \"lines\"),\n",
    "                panel.spacing.y = unit(0.8, \"lines\"),\n",
    "                panel.background = element_blank(),\n",
    "                panel.grid.major = element_blank(), \n",
    "                panel.grid.minor = element_blank(),\n",
    "                panel.border = element_rect(colour=\"black\", fill=NA, size=0.1))\n",
    "\n",
    "\n",
    "svg(\"Images/trend_damping_proportion.svg\", width=6, height=2.3)\n",
    "#p\n",
    "dev.off()"
   ]
  },
  {
   "cell_type": "markdown",
   "metadata": {},
   "source": [
    "# (Plot with ribbon)"
   ]
  },
  {
   "cell_type": "code",
   "execution_count": null,
   "metadata": {
    "collapsed": true
   },
   "outputs": [],
   "source": [
    "plot_with_ribbon <- function(dplot, type, title=\"\", xlab=\"Year\", ylab=\"\", hide_legend=FALSE, group=\"condition\", legend_title=\"Condition\") {\n",
    "    \n",
    "    if(type == 1){\n",
    "        y = \"damped_proportion\"\n",
    "        ylab = \"Proportion of\\ndamped predictions\"\n",
    "    }\n",
    "    else if(type == 2){\n",
    "        y = \"mae\"\n",
    "        ylab = \"Mean absolute error\"\n",
    "    }\n",
    "    else if(type == 3){\n",
    "        y = \"mae\"\n",
    "        title = dplot$scenario[1]\n",
    "    }\n",
    "    else if(type == 4){\n",
    "        y = \"mae\"\n",
    "        legend_title = \"Noise Group\"\n",
    "        group = \"noise\"\n",
    "        title = dplot$condition[1]\n",
    "    }\n",
    "    else if(type==5){\n",
    "        y = \"mae\"\n",
    "        legend_title = \"Noise Group\"\n",
    "        group = \"noise\"\n",
    "    }\n",
    "    \n",
    "    p <- ggplot(data=dplot, aes_string(x=\"day\", y=y, group=group, colour=group)) +\n",
    "            geom_line(size=1) +\n",
    "            geom_ribbon(aes(ymin=ci_lower, ymax=ci_upper), alpha=0.2) +\n",
    "            #scale_x_continuous(limits +\n",
    "            #coord_cartesian(ylim = c(0.65, 1.00), xlim = c(365-31, 365*2-10)) +\n",
    "            labs(colour = legend_title) +\n",
    "            xlab(xlab) + ylab(ylab) + ggtitle(title) +\n",
    "            scale_x_continuous(breaks=c(0, 365, 365*2, 365*3), labels=c('Y1', 'Y2', 'Y3', 'Y4')) +\n",
    "            theme_bw() + \n",
    "            ggthemes::theme_few() + \n",
    "            theme(text = element_text(size=12, family=\"serif\")) +\n",
    "            #theme(legend.position=c(0.82, 0.40)) +\n",
    "            theme(plot.title = element_text(hjust = 0.5)) +\n",
    "            ggthemes::scale_color_solarized()\n",
    "    \n",
    "        \n",
    "    if(type == 3){\n",
    "        p <- p + coord_cartesian(ylim = c(0, 3))\n",
    "    }\n",
    "    else if(type == 4) {\n",
    "        p <- p + theme(legend.position=c(1.0, 0.4))\n",
    "    }\n",
    "    else if(type == 5) {\n",
    "        p <- p + coord_cartesian(ylim = c(0, 4))\n",
    "    }\n",
    "        \n",
    "    if(hide_legend) {\n",
    "        p <- p + theme(legend.position=\"none\")\n",
    "    }\n",
    "    \n",
    "    return(p)\n",
    "}"
   ]
  },
  {
   "cell_type": "markdown",
   "metadata": {},
   "source": [
    "### Plot: damped proportions with confidence intervals"
   ]
  },
  {
   "cell_type": "code",
   "execution_count": null,
   "metadata": {
    "collapsed": true
   },
   "outputs": [],
   "source": [
    "# Reversing the conditions (design thing)\n",
    "dplot <- damping_overall\n",
    "dplot$condition <- factor(dplot$condition, levels = rev(levels(dplot$condition)))\n",
    "\n",
    "# Plotting\n",
    "p <- plot_with_ribbon(dplot, type=1)\n",
    "\n",
    "svg(\"Images/trend_damping_overall_with_ci.svg\", width=6, height=2)\n",
    "#p\n",
    "dev.off()\n",
    "p"
   ]
  },
  {
   "cell_type": "markdown",
   "metadata": {},
   "source": [
    "### Plot: damping MAE (group_by condition)"
   ]
  },
  {
   "cell_type": "code",
   "execution_count": null,
   "metadata": {
    "collapsed": true
   },
   "outputs": [],
   "source": [
    "dplot <- norm_data %>% \n",
    "            filter(condition != 'Prior', condition != 'Posterior-Stable', scenario != 'Temperature', scenario != 'Rain', day > 365-31, day <= 365*3 ) %>%\n",
    "            group_by(condition, day) %>%\n",
    "            summarize(mae = mean(abs_error),\n",
    "                      ci_lower = t.test(abs_error, conf.level=0.999)$conf.int[1],\n",
    "                      ci_upper = t.test(abs_error, conf.level=0.999)$conf.int[2]) %>%\n",
    "            mutate(group = 1)\n",
    "\n",
    "# Reversing the conditions (design thing)\n",
    "dplot$condition <- factor(dplot$condition, levels = rev(levels(dplot$condition)))\n",
    "\n",
    "# Plotting\n",
    "p <- plot_with_ribbon(dplot, type=2)\n",
    "\n",
    "svg(\"Images/trend_damping_overall_mae_with_ci.svg\", width=6, height=2)\n",
    "#p\n",
    "dev.off()"
   ]
  },
  {
   "cell_type": "markdown",
   "metadata": {},
   "source": [
    "### Multiplot: damping MAE (group_by condition and scenario)"
   ]
  },
  {
   "cell_type": "code",
   "execution_count": null,
   "metadata": {
    "collapsed": true
   },
   "outputs": [],
   "source": [
    "dplot <- norm_data %>% \n",
    "            filter(condition != 'Prior', condition != 'Posterior-Stable', scenario != 'Temperature', scenario != 'Rain', day > 365-31, day <= 365*3 ) %>%\n",
    "            group_by(condition, scenario, day) %>%\n",
    "            summarize(mae = mean(abs_error),\n",
    "                      ci_lower = t.test(abs_error, conf.level=0.95)$conf.int[1],\n",
    "                      ci_upper = t.test(abs_error, conf.level=0.95)$conf.int[2]) %>%\n",
    "            mutate(group = 1)\n",
    "\n",
    "# Reversing the conditions (design thing)\n",
    "dplot$condition <- factor(dplot$condition, levels = rev(levels(dplot$condition)))\n",
    "\n",
    "p1 <- plot_with_ribbon(dplot %>% filter(scenario==\"Sales\"),       type=3,  hide_legend=TRUE, ylab=\"Mean absolute error\")\n",
    "p2 <- plot_with_ribbon(dplot %>% filter(scenario==\"Gym members\"), type=3,  hide_legend=TRUE)\n",
    "p3 <- plot_with_ribbon(dplot %>% filter(scenario==\"Salary\"),      type=3,  hide_legend=TRUE)\n",
    "p4 <- plot_with_ribbon(dplot %>% filter(scenario==\"FB Friends\"),  type=3,  hide_legend=TRUE)\n",
    "\n",
    "svg(\"Images/trend_damping_scenarios_mae_with_ci.svg\", width=6, height=1.5)\n",
    "#multiplot(p1, p3, p2, p4, cols=4)\n",
    "dev.off()\n",
    "\n",
    "#multiplot(p1, p3, p2, p4, cols=4)"
   ]
  },
  {
   "cell_type": "markdown",
   "metadata": {
    "collapsed": true
   },
   "source": [
    "# NOISE"
   ]
  },
  {
   "cell_type": "markdown",
   "metadata": {},
   "source": [
    "### MAE, group_by condition and noise"
   ]
  },
  {
   "cell_type": "code",
   "execution_count": null,
   "metadata": {
    "collapsed": true
   },
   "outputs": [],
   "source": [
    "#### Noise per group and condition \n",
    "dplot <- norm_data %>% \n",
    "            filter(condition != 'Prior', scenario != 'Temperature', scenario != 'Rain', day > 365-31, day <= 365*3 ) %>%\n",
    "            group_by(condition, noise, day) %>%\n",
    "            summarize(mae = mean(abs_error),\n",
    "                      ci_lower = t.test(abs_error, conf.level=0.95)$conf.int[1],\n",
    "                      ci_upper = t.test(abs_error, conf.level=0.95)$conf.int[2]) %>%\n",
    "            mutate(group = 1)\n",
    "\n",
    "dplot$noise <- as.character(dplot$noise)"
   ]
  },
  {
   "cell_type": "code",
   "execution_count": null,
   "metadata": {
    "collapsed": true
   },
   "outputs": [],
   "source": [
    "#dplot$noise <- factor(dplot$noise, levels = rev(levels(dplot$noise)))\n",
    "\n",
    "p1 <- plot_with_ribbon(dplot %>% filter(condition == \"Posterior-Positive\"), type=4, hide_legend=TRUE, ylab = \"Mean absolute error\")\n",
    "p2 <- plot_with_ribbon(dplot %>% filter(condition == \"Posterior-Stable\"), type=4, hide_legend=TRUE)\n",
    "p3 <- plot_with_ribbon(dplot %>% filter(condition == \"Posterior-Negative\"), type=4, hide_legend=TRUE)\n",
    "\n",
    "svg(\"Images/noise_analysis_mae_with_ci.svg\", width=6, height=2)\n",
    "multiplot(p1, p2, p3, cols=3)\n",
    "dev.off()\n",
    "\n",
    "#multiplot(p1, p2, p3, cols=3)"
   ]
  },
  {
   "cell_type": "markdown",
   "metadata": {},
   "source": [
    "### MAE, group_by condition, scenario, and noise"
   ]
  },
  {
   "cell_type": "code",
   "execution_count": null,
   "metadata": {
    "collapsed": true
   },
   "outputs": [],
   "source": [
    "#### Noise per group and condition \n",
    "dplot <- norm_data %>% \n",
    "            filter(condition != 'Prior', scenario != 'Temperature', scenario != 'Rain', day > 365-31, day <= 365*3 ) %>%\n",
    "            group_by(condition, scenario, noise, day) %>%\n",
    "            summarize(mae = mean(abs_error),\n",
    "                      ci_lower = t.test(abs_error, conf.level=0.95)$conf.int[1],\n",
    "                      ci_upper = t.test(abs_error, conf.level=0.95)$conf.int[2]) %>%\n",
    "            mutate(group = 1)\n",
    "\n",
    "dplot$noise <- as.character(dplot$noise)\n",
    "\n",
    "#dplot$noise <- factor(dplot$noise, levels = rev(levels(dplot$noise)))\n",
    "\n",
    "p1 <- plot_with_ribbon(dplot %>% filter(condition==\"Posterior-Positive\", scenario==\"Sales\"), type=5, hide_legend=TRUE, ylab = \"MAE (Sales)\", title=\"Posterior-Positive\", xlab=\"\")\n",
    "p2 <- plot_with_ribbon(dplot %>% filter(condition==\"Posterior-Positive\", scenario==\"Gym members\"), type=5, hide_legend=TRUE, ylab = \"MAE (Gym members)\", xlab=\"\")\n",
    "p3 <- plot_with_ribbon(dplot %>% filter(condition==\"Posterior-Positive\", scenario==\"Salary\"), type=5, hide_legend=TRUE, ylab = \"MAE (Salary)\", xlab=\"\")\n",
    "p4 <- plot_with_ribbon(dplot %>% filter(condition==\"Posterior-Positive\", scenario==\"FB Friends\"), type=5, hide_legend=TRUE, ylab = \"MAE (FB Friends)\")\n",
    "\n",
    "p5 <- plot_with_ribbon(dplot %>% filter(condition==\"Posterior-Stable\", scenario==\"Sales\"), type=5, hide_legend=TRUE, title=\"Posterior-Stable\", xlab=\"\")\n",
    "p6 <- plot_with_ribbon(dplot %>% filter(condition==\"Posterior-Stable\", scenario==\"Gym members\"), type=5, hide_legend=TRUE, xlab=\"\")\n",
    "p7 <- plot_with_ribbon(dplot %>% filter(condition==\"Posterior-Stable\", scenario==\"Salary\"), type=5, hide_legend=TRUE, xlab=\"\")\n",
    "p8 <- plot_with_ribbon(dplot %>% filter(condition==\"Posterior-Stable\", scenario==\"FB Friends\"), type=5, hide_legend=TRUE)\n",
    "\n",
    "p9  <- plot_with_ribbon(dplot %>% filter(condition==\"Posterior-Negative\", scenario==\"Sales\"), type=5, hide_legend=TRUE, title=\"Posterior-Negative\", xlab=\"\")\n",
    "p10 <- plot_with_ribbon(dplot %>% filter(condition==\"Posterior-Negative\", scenario==\"Gym members\"), type=5, hide_legend=TRUE, xlab=\"\")\n",
    "p11 <- plot_with_ribbon(dplot %>% filter(condition==\"Posterior-Negative\", scenario==\"Salary\"), type=5, hide_legend=TRUE, xlab=\"\")\n",
    "p12 <- plot_with_ribbon(dplot %>% filter(condition==\"Posterior-Negative\", scenario==\"FB Friends\"), type=5, hide_legend=TRUE)\n",
    "\n",
    "svg(\"Images/noise_analysis_scenarios_mae_with_ci.svg\", width=6, height=8)\n",
    "multiplot(p1, p2, p3, p4, p5, p6, p7, p8, p9, p10, p11, p12, cols=3)\n",
    "#p1\n",
    "dev.off()"
   ]
  },
  {
   "cell_type": "markdown",
   "metadata": {
    "collapsed": true
   },
   "source": [
    "### Noise groups"
   ]
  },
  {
   "cell_type": "code",
   "execution_count": null,
   "metadata": {
    "collapsed": true
   },
   "outputs": [],
   "source": [
    "g1 <- c( 0.7642726400978779,\n",
    "         0.59420237112108,\n",
    "         0.8045676111568967,\n",
    "         0.3616072333221285,\n",
    "         0.4333995695523616 )\n",
    "\n",
    "g2 <- c( 0.44558333713334464,\n",
    "         0.7720815219200008,\n",
    "         0.091949620524298,\n",
    "         0.3371284569763776,\n",
    "         0.8147280055034919 )\n",
    "\n",
    "g3 <- c( 0.6163862558959631,\n",
    "         0.04367949448727826,\n",
    "         0.057026095449790204,\n",
    "         0.040766425126964156,\n",
    "         0.17492704212711474 )\n",
    "\n",
    "\n",
    "# Each group was substracted by its mean\n",
    "g1 <- g1 - mean(g1)\n",
    "g2 <- g2 - mean(g2)\n",
    "g3 <- g3 - mean(g3)\n",
    "\n",
    "# And then the last two were removed\n",
    "n1 <- g1[1:3]\n",
    "n2 <- g2[1:3]\n",
    "n3 <- g3[1:3]\n",
    "\n",
    "g1 <- c(0, n1, 0)\n",
    "g2 <- c(0, n2, 0)\n",
    "g3 <- c(0, n3, 0)"
   ]
  },
  {
   "cell_type": "markdown",
   "metadata": {},
   "source": [
    "Calculting the noise profile of each group (as the mean of the absolute values)"
   ]
  },
  {
   "cell_type": "code",
   "execution_count": null,
   "metadata": {
    "collapsed": true
   },
   "outputs": [],
   "source": [
    "# Noise profiles\n",
    "np1 <- round(mean(abs(g1)),2)\n",
    "np2 <- round(mean(abs(g2)),2)\n",
    "np3 <- round(mean(abs(g3)),2)\n",
    "\n",
    "c(np1, np2, np3)"
   ]
  },
  {
   "cell_type": "markdown",
   "metadata": {},
   "source": [
    "### Plotting the noises"
   ]
  },
  {
   "cell_type": "code",
   "execution_count": null,
   "metadata": {
    "collapsed": true
   },
   "outputs": [],
   "source": [
    "pdata <- rbind ( data.frame(value=g1, i=1:5, noise_group=\"1 (low)\"),\n",
    "                 data.frame(value=g2, i=1:5, noise_group=\"2 (highest)\"),\n",
    "                 data.frame(value=g3, i=1:5, noise_group=\"3 (high)\"))"
   ]
  },
  {
   "cell_type": "code",
   "execution_count": null,
   "metadata": {
    "collapsed": true
   },
   "outputs": [],
   "source": [
    "p <- ggplot(data=pdata, aes(x=i, y=value, group=noise_group, colour=noise_group)) +\n",
    "        geom_line(size=1) +\n",
    "        geom_point(size=3) +\n",
    "        expand_limits(y=0) +  \n",
    "        labs(colour = \"Noise Group\") +\n",
    "        xlab(\"Position\") + ylab(\"Value\") +\n",
    "        theme_bw() +\n",
    "        ggthemes::theme_few() + \n",
    "        theme(text = element_text(size=12, family=\"serif\")) +\n",
    "        ggthemes::scale_color_solarized()\n",
    "\n",
    "        #theme(text = element_text(size=12, family=\"serif\"))\n",
    "        #theme(legend.position=c(.9, .7))\n",
    "\n",
    "svg(\"Images/noise_groups.svg\", width=6, height=2)\n",
    "p\n",
    "dev.off()\n",
    "#p"
   ]
  },
  {
   "cell_type": "markdown",
   "metadata": {},
   "source": [
    "### Influence per group noise"
   ]
  },
  {
   "cell_type": "markdown",
   "metadata": {},
   "source": [
    "Calculate the mean value for each group of {condition, scenario, day, noise}"
   ]
  },
  {
   "cell_type": "code",
   "execution_count": null,
   "metadata": {
    "collapsed": true
   },
   "outputs": [],
   "source": [
    "values_means <- norm_data %>%\n",
    "                        group_by(condition, scenario, day, noise) %>%\n",
    "                        summarize(value_mean = mean(value_scaled))"
   ]
  },
  {
   "cell_type": "markdown",
   "metadata": {},
   "source": [
    "Merge the values_means into the normalized data"
   ]
  },
  {
   "cell_type": "code",
   "execution_count": null,
   "metadata": {
    "collapsed": true
   },
   "outputs": [],
   "source": [
    "norm_data_2 <- merge(x = norm_data, y = values_means, by = c(\"day\", \"condition\", \"scenario\", \"noise\"), all.x = TRUE)"
   ]
  },
  {
   "cell_type": "markdown",
   "metadata": {},
   "source": [
    "Calculate the Mean Absolute error for each person, scenario, and noise group"
   ]
  },
  {
   "cell_type": "code",
   "execution_count": null,
   "metadata": {
    "collapsed": true
   },
   "outputs": [],
   "source": [
    "MAEs_per_person <- norm_data_2 %>%\n",
    "                    group_by(id, scenario, noise) %>%\n",
    "                    summarize(MAE = sum(abs(value_mean - value_scaled)))"
   ]
  },
  {
   "cell_type": "markdown",
   "metadata": {},
   "source": [
    "Calculate the mean of the mean absolute error"
   ]
  },
  {
   "cell_type": "code",
   "execution_count": null,
   "metadata": {
    "collapsed": true
   },
   "outputs": [],
   "source": [
    "MAEs <- MAEs_per_person %>%\n",
    "                    group_by(scenario, noise) %>%\n",
    "                    summarize(mean_MAE = round(mean(MAE)), sd_MAE = round(sd(MAE)), count=length(MAE))"
   ]
  },
  {
   "cell_type": "code",
   "execution_count": null,
   "metadata": {
    "collapsed": true
   },
   "outputs": [],
   "source": [
    "# Adding Std Error and Confidence Intervals\n",
    "MAEs <- MAEs %>%\n",
    "    mutate(    serror_MAE = round(sd_MAE / sqrt(count)),\n",
    "               ci_95_bottom = round(mean_MAE - qt(0.05 / 2, count)*serror_MAE),\n",
    "               ci_95_top = round(mean_MAE + qt(0.05 / 2, count)*serror_MAE))"
   ]
  },
  {
   "cell_type": "code",
   "execution_count": null,
   "metadata": {
    "collapsed": true
   },
   "outputs": [],
   "source": [
    "MAEs %>%\n",
    "    select(-sd_MAE, -count, -serror_MAE, -ci_95_bottom, -ci_95_top) %>%\n",
    "    spread(noise, mean_MAE)"
   ]
  },
  {
   "cell_type": "code",
   "execution_count": null,
   "metadata": {
    "collapsed": true
   },
   "outputs": [],
   "source": [
    "MAEs %>%\n",
    "    select(-mean_MAE, -count, -sd_MAE, -ci_95_bottom, -ci_95_top) %>%\n",
    "    spread(noise, serror_MAE)"
   ]
  },
  {
   "cell_type": "markdown",
   "metadata": {},
   "source": [
    "### Regressions"
   ]
  },
  {
   "cell_type": "code",
   "execution_count": null,
   "metadata": {
    "collapsed": true
   },
   "outputs": [],
   "source": [
    "# Adding the noise profiles\n",
    "MAEs[MAEs$noise == 1, 'noise_profile'] <- np1\n",
    "MAEs[MAEs$noise == 2, 'noise_profile'] <- np2\n",
    "MAEs[MAEs$noise == 3, 'noise_profile'] <- np3\n",
    "\n",
    "MAEs_per_person[MAEs_per_person$noise == 1, 'noise_profile'] <- np1\n",
    "MAEs_per_person[MAEs_per_person$noise == 2, 'noise_profile'] <- np2\n",
    "MAEs_per_person[MAEs_per_person$noise == 3, 'noise_profile'] <- np3\n",
    "\n",
    "# Adding a cuadratic and cubic noise profile\n",
    "MAEs_per_person$quadratic_np <- MAEs_per_person$noise_profile^2\n",
    "MAEs_per_person$cubic_np <- MAEs_per_person$noise_profile^3"
   ]
  },
  {
   "cell_type": "code",
   "execution_count": null,
   "metadata": {
    "collapsed": true
   },
   "outputs": [],
   "source": [
    "MAEs_per_person %>% head"
   ]
  },
  {
   "cell_type": "markdown",
   "metadata": {},
   "source": [
    "#### Linear regression"
   ]
  },
  {
   "cell_type": "code",
   "execution_count": null,
   "metadata": {
    "collapsed": true
   },
   "outputs": [],
   "source": [
    "MAEs_scenario <- MAEs_per_person %>%\n",
    "                    filter(scenario=='FB Friends')\n",
    "\n",
    "fit <- lm(MAE ~ noise_profile, data=MAEs_scenario)\n",
    "summary(fit)"
   ]
  },
  {
   "cell_type": "markdown",
   "metadata": {},
   "source": [
    "### Plots"
   ]
  },
  {
   "cell_type": "code",
   "execution_count": null,
   "metadata": {
    "collapsed": true
   },
   "outputs": [],
   "source": [
    "MAEs %>% head"
   ]
  },
  {
   "cell_type": "code",
   "execution_count": null,
   "metadata": {
    "collapsed": true
   },
   "outputs": [],
   "source": [
    "p <- ggplot(data=MAEs, aes(x=noise_profile, y=mean_MAE, group=scenario, colour=scenario)) +\n",
    "        geom_line(size=1) +\n",
    "        geom_point(size=3) +\n",
    "        #expand_limits(y=1000) +  \n",
    "        xlab(\"Noise Group Value\") + ylab(\"Mean MAE\") +\n",
    "        theme_bw() +\n",
    "        #geom_errorbar(aes(ymin=ci_95_bottom, ymax=ci_95_top), width=.005) +\n",
    "        labs(colour = \"Scenario\")\n",
    "\n",
    "svg(\"Images/MAEs_noise.svg\", width=8, height=4)\n",
    "#p\n",
    "dev.off()\n",
    "p"
   ]
  },
  {
   "cell_type": "markdown",
   "metadata": {
    "collapsed": true
   },
   "source": [
    "# Compositional Analysis"
   ]
  },
  {
   "cell_type": "code",
   "execution_count": 2,
   "metadata": {
    "collapsed": true
   },
   "outputs": [],
   "source": [
    "get_response <- function(name){\n",
    "    res_x <- read_csv(paste0(\"output/res_\", name, \".csv\"), col_names=FALSE)\n",
    "    \n",
    "    res_x[2] <- sapply(strsplit(res_x[2][[1]], \"\"), function(x) paste0(x[5: length(x)-2], collapse=\"\"))\n",
    "        \n",
    "    colnames(res_x) <- c('id', 'kernel', 'lml')\n",
    "    \n",
    "    return(res_x)\n",
    "}"
   ]
  },
  {
   "cell_type": "code",
   "execution_count": 3,
   "metadata": {
    "collapsed": true
   },
   "outputs": [],
   "source": [
    "kernels <- c(\"l\", \"p\", \"r\", \"l+p\", \"l+r\", \"p+r\", \"l*r\", \"l*p\", \"p*r\", \"l+r+p\", \"l+r*p\", \"l*r+p\", \"l*p+r\", \"l*r*p\")\n",
    "\n",
    "get_proportions <- function(res_x) {\n",
    "    total <- length(res_x[1][[1]])\n",
    "\n",
    "    props <- res_x %>% \n",
    "                group_by(kernel) %>%\n",
    "                summarize(proportion = length(kernel)/total)\n",
    "    \n",
    "    # Adding zeros\n",
    "    for (k in kernels){\n",
    "        # If the kernel is NOT present\n",
    "        if (sum(props$kernel == k) == 0){\n",
    "            new_row <- c(k, 0)\n",
    "            \n",
    "            props <- rbind(props, new_row)\n",
    "        } \n",
    "    }\n",
    "    \n",
    "    # Reorder factors\n",
    "    props$kernel <- factor(props$kernel, levels=c(\"l\", \"p\", \"r\", \"l+p\", \"l+r\", \"p+r\", \"l*r\", \"l*p\", \"p*r\", \"l+r+p\", \"l+r*p\", \"l*r+p\", \"l*p+r\", \"l*r*p\"))\n",
    "    \n",
    "    props$proportion <- as.numeric(props$proportion)\n",
    "    \n",
    "    return (props)\n",
    "}"
   ]
  },
  {
   "cell_type": "code",
   "execution_count": 4,
   "metadata": {
    "collapsed": true
   },
   "outputs": [],
   "source": [
    "plot_proportions <- function(prop_data, title) {\n",
    "    plot <- prop_data %>%\n",
    "                ggplot(aes(x=kernel, y=proportion)) + \n",
    "                    geom_bar(stat=\"identity\") +\n",
    "                    ylim(0, 0.3) +\n",
    "                    labs(title = title) +\n",
    "                    ggthemes::theme_few() +\n",
    "                    theme(axis.text.x = element_text(angle = 90,  vjust = 0.5, hjust=0),\n",
    "                          text = element_text(size=12, family=\"serif\"))\n",
    "    \n",
    "    return(plot)\n",
    "}"
   ]
  },
  {
   "cell_type": "markdown",
   "metadata": {},
   "source": [
    "### Get all files"
   ]
  },
  {
   "cell_type": "code",
   "execution_count": 5,
   "metadata": {
    "scrolled": true
   },
   "outputs": [
    {
     "name": "stderr",
     "output_type": "stream",
     "text": [
      "Parsed with column specification:\n",
      "cols(\n",
      "  X1 = col_integer(),\n",
      "  X2 = col_character(),\n",
      "  X3 = col_double()\n",
      ")\n",
      "Warning message:\n",
      "\"package 'bindrcpp' was built under R version 3.3.3\"Parsed with column specification:\n",
      "cols(\n",
      "  X1 = col_integer(),\n",
      "  X2 = col_character(),\n",
      "  X3 = col_double()\n",
      ")\n",
      "Parsed with column specification:\n",
      "cols(\n",
      "  X1 = col_integer(),\n",
      "  X2 = col_character(),\n",
      "  X3 = col_double()\n",
      ")\n",
      "Parsed with column specification:\n",
      "cols(\n",
      "  X1 = col_integer(),\n",
      "  X2 = col_character(),\n",
      "  X3 = col_double()\n",
      ")\n",
      "Parsed with column specification:\n",
      "cols(\n",
      "  X1 = col_integer(),\n",
      "  X2 = col_character(),\n",
      "  X3 = col_double()\n",
      ")\n",
      "Parsed with column specification:\n",
      "cols(\n",
      "  X1 = col_integer(),\n",
      "  X2 = col_character(),\n",
      "  X3 = col_double()\n",
      ")\n"
     ]
    }
   ],
   "source": [
    "prop_temperature <- get_response('temperature') %>% get_proportions\n",
    "prop_rain <- get_response('rain') %>% get_proportions\n",
    "prop_sales <- get_response('sales') %>% get_proportions\n",
    "prop_gym <- get_response('gym') %>% get_proportions\n",
    "prop_salary <- get_response('salary') %>% get_proportions\n",
    "prop_fb <- get_response('fb') %>% get_proportions"
   ]
  },
  {
   "cell_type": "code",
   "execution_count": 10,
   "metadata": {},
   "outputs": [
    {
     "data": {
      "image/png": "[encoded data removed]",
      "text/plain": [
       "plot without title"
      ]
     },
     "metadata": {},
     "output_type": "display_data"
    }
   ],
   "source": [
    "p1 <- plot_proportions(prop_temperature, \"Temperature\")\n",
    "p2 <- plot_proportions(prop_rain, \"Rain\")\n",
    "p3 <- plot_proportions(prop_sales, \"Sales\")\n",
    "p4 <- plot_proportions(prop_gym, \"Gym members\")\n",
    "p5 <- plot_proportions(prop_salary, \"Salary\")\n",
    "p6 <- plot_proportions(prop_fb, \"FB Friends\")\n",
    "\n",
    "#svg(\"Images/kernels_prior2.svg\")\n",
    "multiplot(p1, p2, p3, p4, p5, p6, cols=3)\n",
    "#dev.off"
   ]
  },
  {
   "cell_type": "code",
   "execution_count": 11,
   "metadata": {},
   "outputs": [
    {
     "data": {},
     "metadata": {},
     "output_type": "display_data"
    },
    {
     "data": {
      "image/png": "[encoded data removed]",
      "text/plain": [
       "plot without title"
      ]
     },
     "metadata": {},
     "output_type": "display_data"
    }
   ],
   "source": [
    "p1"
   ]
  },
  {
   "cell_type": "code",
   "execution_count": null,
   "metadata": {
    "collapsed": true
   },
   "outputs": [],
   "source": []
  },
  {
   "cell_type": "code",
   "execution_count": null,
   "metadata": {
    "collapsed": true
   },
   "outputs": [],
   "source": []
  }
 ],
 "metadata": {
  "kernelspec": {
   "display_name": "R",
   "language": "R",
   "name": "ir"
  },
  "language_info": {
   "codemirror_mode": "r",
   "file_extension": ".r",
   "mimetype": "text/x-r-source",
   "name": "R",
   "pygments_lexer": "r",
   "version": "3.3.1"
  }
 },
 "nbformat": 4,
 "nbformat_minor": 2
}
