{
 "cells": [
  {
   "cell_type": "markdown",
   "metadata": {},
   "source": [
    "`NOTE: This document will include plots, data, and code-snippets. (It will probably be a bit messy)`"
   ]
  },
  {
   "cell_type": "markdown",
   "metadata": {},
   "source": [
    "# Libraries"
   ]
  },
  {
   "cell_type": "code",
   "execution_count": 388,
   "metadata": {},
   "outputs": [],
   "source": [
    "source(\"tools.R\")"
   ]
  },
  {
   "cell_type": "markdown",
   "metadata": {},
   "source": [
    "# Figure of trend damping (quintessential example)"
   ]
  },
  {
   "cell_type": "code",
   "execution_count": 472,
   "metadata": {},
   "outputs": [],
   "source": [
    "n_points <- 30\n",
    "\n",
    "x <- 1:n_points\n",
    "\n",
    "y <- 1:n_points\n",
    "y <- jitter(y, factor = 50)\n",
    "\n",
    "data_pos <- data.frame(x, y =  y)\n",
    "data_neg <- data.frame(x, y = -y)"
   ]
  },
  {
   "cell_type": "code",
   "execution_count": 473,
   "metadata": {
    "collapsed": true
   },
   "outputs": [],
   "source": [
    "linear <- function(x) { x }"
   ]
  },
  {
   "cell_type": "code",
   "execution_count": 474,
   "metadata": {
    "collapsed": true
   },
   "outputs": [],
   "source": [
    "linear_neg <- function(x) { -x }"
   ]
  },
  {
   "cell_type": "code",
   "execution_count": 475,
   "metadata": {},
   "outputs": [],
   "source": [
    "# Logistic function\n",
    "L  <- 45\n",
    "x0 <- 10 #midpoint value\n",
    "k  <- 0.10\n",
    "\n",
    "func <- function(x) { (L / (1 + exp(-k*(x - x0)))) - 12 }"
   ]
  },
  {
   "cell_type": "code",
   "execution_count": 476,
   "metadata": {},
   "outputs": [],
   "source": [
    "# Plot\n",
    "p1 <- ggplot(data=data_pos, aes(x=x, y=y)) +\n",
    "            geom_point() +\n",
    "            stat_function(fun = linear, colour = \"red\", lty=\"solid\", size=1.1) +\n",
    "            stat_function(fun = func, colour = \"blue\", lty=\"dashed\", size=1.1) +\n",
    "\n",
    "            # Axes\n",
    "            coord_cartesian(ylim=c(1, 40)) + \n",
    "            scale_x_continuous(limits = c(1, 40)) + \n",
    "            #scale_y_continuous(limits = c(0, 40)) + \n",
    "\n",
    "            # Theme\n",
    "            theme_bw() + \n",
    "            ggthemes::theme_few() + \n",
    "            theme(text = element_text(size=12, family=\"serif\")) +\n",
    "            theme(plot.title = element_text(hjust = 0.5)) +\n",
    "            ggthemes::scale_color_solarized()"
   ]
  },
  {
   "cell_type": "code",
   "execution_count": 477,
   "metadata": {
    "collapsed": true
   },
   "outputs": [],
   "source": [
    "# Logistic function\n",
    "L_  <- 35\n",
    "x0_ <- 10 #midpoint value\n",
    "k_  <- 0.1\n",
    "\n",
    "func_ <- function(x) { - ((L_ / (1 + exp(-k_ *(x - x0_)))) - 9 )}"
   ]
  },
  {
   "cell_type": "code",
   "execution_count": 478,
   "metadata": {},
   "outputs": [],
   "source": [
    "# Plot\n",
    "p2<- ggplot(data=data_neg, aes(x=x, y=y)) +\n",
    "            geom_point() +\n",
    "            stat_function(fun = linear_neg, colour = \"red\", lty=\"solid\", size=1.1) +\n",
    "            stat_function(fun = func_, colour = \"blue\", lty=\"dashed\", size=1.1) +\n",
    "\n",
    "            # Axes\n",
    "            coord_cartesian(ylim=c(-1, -40)) + \n",
    "            scale_x_continuous(limits = c(1, 40)) + \n",
    "            #scale_y_continuous(limits = c(0, 40)) + \n",
    "\n",
    "            # Theme\n",
    "            theme_bw() + \n",
    "            ggthemes::theme_few() + \n",
    "            theme(text = element_text(size=12, family=\"serif\")) +\n",
    "            theme(plot.title = element_text(hjust = 0.5)) +\n",
    "            ggthemes::scale_color_solarized()"
   ]
  },
  {
   "cell_type": "code",
   "execution_count": 481,
   "metadata": {},
   "outputs": [
    {
     "data": {
      "text/html": [
       "<strong>png:</strong> 2"
      ],
      "text/latex": [
       "\\textbf{png:} 2"
      ],
      "text/markdown": [
       "**png:** 2"
      ],
      "text/plain": [
       "png \n",
       "  2 "
      ]
     },
     "metadata": {},
     "output_type": "display_data"
    }
   ],
   "source": [
    "svg(\"Images/trend_damping_explanation.svg\", width=8, height=3.5)\n",
    "multiplot(p1, p2, cols=2)\n",
    "dev.off()"
   ]
  },
  {
   "cell_type": "markdown",
   "metadata": {},
   "source": [
    "# Real-world data"
   ]
  },
  {
   "cell_type": "markdown",
   "metadata": {},
   "source": [
    "We have to get real world data for six scenarios. The state of each one currently is:\n",
    "\n",
    "DONE:\n",
    "\n",
    "NOT DONE:\n",
    "- `Temperature`\n",
    "- `Rain`\n",
    "- `Temperature`\n",
    "- `Sales`\n",
    "- `Gym members`\n",
    "- `Salary`\n",
    "- `Facebook friends`"
   ]
  },
  {
   "cell_type": "markdown",
   "metadata": {},
   "source": [
    "## Temperature"
   ]
  },
  {
   "cell_type": "code",
   "execution_count": 447,
   "metadata": {},
   "outputs": [],
   "source": [
    "library(weatherData)"
   ]
  },
  {
   "cell_type": "code",
   "execution_count": 451,
   "metadata": {},
   "outputs": [
    {
     "name": "stderr",
     "output_type": "stream",
     "text": [
      "URL to Try:\n",
      " https://www.wunderground.com/history/airport/SFO/2013/1/1/CustomHistory.html?dayend=31&monthend=12&yearend=2013&req_city=NA&req_state=NA&req_statename=NA&format=1\n",
      "\n",
      "Retrieving from: https://www.wunderground.com/history/airport/SFO/2013/1/1/CustomHistory.html?dayend=31&monthend=12&yearend=2013&req_city=NA&req_state=NA&req_statename=NA&format=1\n",
      "URL caused a warning: https://www.wunderground.com/history/airport/SFO/2013/1/1/CustomHistory.html?dayend=31&monthend=12&yearend=2013&req_city=NA&req_state=NA&req_statename=NA&format=1\n",
      "Here's the original warning message:\n",
      "Warning message in readLines(u):\n",
      "\"incomplete final line found on 'https://www.wunderground.com/history/airport/SFO/2013/1/1/CustomHistory.html?dayend=31&monthend=12&yearend=2013&req_city=NA&req_state=NA&req_statename=NA&format=1'\""
     ]
    },
    {
     "ename": "ERROR",
     "evalue": "Error in invokeRestart(\"muffleWarning\"): no 'restart' 'muffleWarning' found\n",
     "output_type": "error",
     "traceback": [
      "Error in invokeRestart(\"muffleWarning\"): no 'restart' 'muffleWarning' found\nTraceback:\n",
      "1. getWeatherForYear(\"SFO\", 2013)",
      "2. getWeatherForDate(station_id, first_day, last_day, station_type, \n .     opt_detailed)",
      "3. checkSummarizedDataAvailability(station_id, start_date, end_date, \n .     station_type)",
      "4. getSummarizedWeather(station_id, start_date, end_date, station_type, \n .     opt_temperature_columns = TRUE, opt_verbose = TRUE)",
      "5. readUrl(custom_url)",
      "6. tryCatch({\n .     u <- curl(final_url)\n .     readLines(u)\n . }, error = function(cond) {\n .     message(paste(\"URL does not seem to exist:\", final_url))\n .     message(\"The original error message:\")\n .     message(cond)\n .     return(NA)\n . }, warning = function(cond) {\n .     message(paste(\"URL caused a warning:\", final_url))\n .     message(\"Here's the original warning message:\")\n .     message(cond)\n .     return(NA)\n . }, finally = close(u))",
      "7. tryCatchList(expr, classes, parentenv, handlers)",
      "8. tryCatchOne(tryCatchList(expr, names[-nh], parentenv, handlers[-nh]), \n .     names[nh], parentenv, handlers[[nh]])",
      "9. value[[3L]](cond)",
      "10. message(cond)",
      "11. withRestarts({\n  .     signalCondition(cond)\n  .     defaultHandler(cond)\n  . }, muffleMessage = function() NULL)",
      "12. withOneRestart(expr, restarts[[1L]])",
      "13. doWithOneRestart(return(expr), restart)",
      "14. signalCondition(cond)",
      "15. (function (wn) \n  . {\n  .     if (getOption(\"warn\") >= 0) {\n  .         handle_condition(wn)\n  .         output_handler$warning(wn)\n  .     }\n  .     invokeRestart(\"muffleWarning\")\n  . })(structure(list(message = \"incomplete final line found on 'https://www.wunderground.com/history/airport/SFO/2013/1/1/CustomHistory.html?dayend=31&monthend=12&yearend=2013&req_city=NA&req_state=NA&req_statename=NA&format=1'\", \n  .     call = readLines(u)), .Names = c(\"message\", \"call\"), class = c(\"simpleWarning\", \n  . \"warning\", \"condition\")))",
      "16. invokeRestart(\"muffleWarning\")",
      "17. stop(gettextf(\"no 'restart' '%s' found\", as.character(r)), domain = NA)"
     ]
    }
   ],
   "source": [
    "df1 <- getWeatherForYear(\"SFO\", 2013)"
   ]
  },
  {
   "cell_type": "code",
   "execution_count": null,
   "metadata": {
    "collapsed": true
   },
   "outputs": [],
   "source": []
  }
 ],
 "metadata": {
  "kernelspec": {
   "display_name": "R",
   "language": "R",
   "name": "ir"
  },
  "language_info": {
   "codemirror_mode": "r",
   "file_extension": ".r",
   "mimetype": "text/x-r-source",
   "name": "R",
   "pygments_lexer": "r",
   "version": "3.3.1"
  }
 },
 "nbformat": 4,
 "nbformat_minor": 2
}
