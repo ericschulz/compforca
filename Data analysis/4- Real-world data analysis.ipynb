{
 "cells": [
  {
   "cell_type": "code",
   "execution_count": 1,
   "metadata": {},
   "outputs": [
    {
     "name": "stderr",
     "output_type": "stream",
     "text": [
      "IOPub data rate exceeded.\n",
      "The notebook server will temporarily stop sending output\n",
      "to the client in order to avoid crashing it.\n",
      "To change this limit, set the config variable\n",
      "`--NotebookApp.iopub_data_rate_limit`.\n"
     ]
    }
   ],
   "source": [
    "%run tools.py\n",
    "%run analyze.py"
   ]
  },
  {
   "cell_type": "markdown",
   "metadata": {},
   "source": [
    "# Import data"
   ]
  },
  {
   "cell_type": "code",
   "execution_count": 6,
   "metadata": {
    "collapsed": true
   },
   "outputs": [],
   "source": [
    "data_temperature = np.genfromtxt(fname = \"data/real-world/4- for_compositional_analysis/temperature.csv\", \n",
    "                                 delimiter = ',',\n",
    "                                 skip_header = 1,\n",
    "                                 dtype = None)\n",
    "\n",
    "data_rain = np.genfromtxt(fname = \"data/real-world/4- for_compositional_analysis/rain.csv\", \n",
    "                                 delimiter = ',',\n",
    "                                 skip_header = 1,\n",
    "                                 dtype = None)\n",
    "\n",
    "data_sales = np.genfromtxt(fname = \"data/real-world/4- for_compositional_analysis/sales.csv\", \n",
    "                                 delimiter = ',',\n",
    "                                 skip_header = 1,\n",
    "                                 dtype = None)\n",
    "\n",
    "data_salary = np.genfromtxt(fname = \"data/real-world/4- for_compositional_analysis/salary.csv\", \n",
    "                                 delimiter = ',',\n",
    "                                 skip_header = 1,\n",
    "                                 dtype = None)\n",
    "\n",
    "data_gym = np.genfromtxt(fname = \"data/real-world/4- for_compositional_analysis/gym.csv\", \n",
    "                                 delimiter = ',',\n",
    "                                 skip_header = 1,\n",
    "                                 dtype = None)\n",
    "\n",
    "data_facebook = np.genfromtxt(fname = \"data/real-world/4- for_compositional_analysis/facebook.csv\", \n",
    "                                 delimiter = ',',\n",
    "                                 skip_header = 1,\n",
    "                                 dtype = None)"
   ]
  },
  {
   "cell_type": "markdown",
   "metadata": {},
   "source": [
    "# Catmull-Rom"
   ]
  },
  {
   "cell_type": "code",
   "execution_count": 7,
   "metadata": {
    "collapsed": true
   },
   "outputs": [],
   "source": [
    "def data_to_points ( data ):\n",
    "    #Transform the data to points\n",
    "    points = []\n",
    "    for i in data:\n",
    "        x = i[7]\n",
    "        y = i[2]\n",
    "\n",
    "        points.append([x, y])\n",
    "        \n",
    "    return points\n",
    "\n",
    "def do_catmull ( points ):\n",
    "    return catmull_rom_chain(points, nPointsCatmullRom = 1000)\n",
    "\n",
    "def reduce ( full_spline ):\n",
    "    \n",
    "    return full_spline\n",
    "\n",
    "def divide_to_arrays ( matrix ):\n",
    "    a0 = []\n",
    "    a1 = []\n",
    "    \n",
    "    for i in matrix:\n",
    "        a0.append([float(i[0])])\n",
    "        a1.append([float(i[1])])\n",
    "        \n",
    "    return [np.array(a0), np.array(a1)]\n",
    "\n",
    "def spline ( data ):\n",
    "    points = data_to_points(data)\n",
    "    \n",
    "    full_spline = do_catmull(points)\n",
    "\n",
    "    spline = reduce_spline(full_spline)\n",
    "    \n",
    "    return divide_to_arrays(spline)"
   ]
  },
  {
   "cell_type": "code",
   "execution_count": 8,
   "metadata": {},
   "outputs": [],
   "source": [
    "spline_temperature = spline(data_temperature)\n",
    "spline_rain = spline(data_rain)\n",
    "spline_sales = spline(data_sales)\n",
    "spline_salary = spline(data_salary)\n",
    "spline_gym = spline(data_gym)\n",
    "spline_facebook = spline(data_facebook)"
   ]
  },
  {
   "cell_type": "markdown",
   "metadata": {},
   "source": [
    "# Gaussian Processes"
   ]
  },
  {
   "cell_type": "code",
   "execution_count": 9,
   "metadata": {
    "collapsed": true
   },
   "outputs": [],
   "source": [
    "def compute_gps_2(spline, name):\n",
    "    print('START ' + name)\n",
    "    \n",
    "    #Subsample every fifth element\n",
    "    X = spline[0][1::5]\n",
    "    Y = spline[1][1::5]\n",
    "\n",
    "    gps = compute_gps(X, Y)\n",
    "    likelihoods = compute_lmls(gps)\n",
    "\n",
    "    return {'gps': gps, 'lmls': likelihoods}"
   ]
  },
  {
   "cell_type": "code",
   "execution_count": 10,
   "metadata": {
    "scrolled": true
   },
   "outputs": [
    {
     "name": "stdout",
     "output_type": "stream",
     "text": [
      "START temperature\n",
      "Adding White Kernel to l+r\n",
      "Adding White Kernel to l*r*p\n",
      "START rain\n",
      "Adding White Kernel to l*r\n",
      "Adding White Kernel to l*p+r\n",
      "Adding White Kernel to l*r*p\n",
      "START sales\n",
      "Adding White Kernel to l*r\n",
      "Adding White Kernel to l*r+p\n",
      "Adding White Kernel to l*p+r\n",
      "Exception caught computing l*p+r\n",
      "Adding White Kernel to l*r*p\n",
      "START salary\n",
      "Adding White Kernel to l+r\n",
      "Adding White Kernel to l+p\n",
      "Exception caught computing l+p\n",
      "Adding White Kernel to p+r\n",
      "Adding White Kernel to l*r\n",
      "Exception caught computing l*r\n",
      "Adding White Kernel to l*p\n",
      "Adding White Kernel to l*p+r\n",
      "Adding White Kernel to l*r*p\n",
      "Exception caught computing l*r*p\n",
      "START gym\n",
      "Adding White Kernel to l*r\n",
      "Adding White Kernel to l*p\n",
      "Adding White Kernel to l*r*p\n",
      "START facebook\n",
      "Adding White Kernel to l+r\n",
      "Adding White Kernel to l*r\n",
      "Adding White Kernel to p*r\n",
      "Adding White Kernel to l+r*p\n",
      "Adding White Kernel to l*p+r\n",
      "Adding White Kernel to l*r*p\n",
      "Exception caught computing l*r*p\n"
     ]
    }
   ],
   "source": [
    "gps_temperature = compute_gps_2(spline_temperature, 'temperature')\n",
    "gps_rain        = compute_gps_2(spline_rain,        'rain')\n",
    "gps_sales       = compute_gps_2(spline_sales,       'sales')\n",
    "gps_salary      = compute_gps_2(spline_salary,      'salary')\n",
    "gps_gym         = compute_gps_2(spline_gym,         'gym')\n",
    "gps_facebook    = compute_gps_2(spline_facebook,    'facebook')"
   ]
  },
  {
   "cell_type": "code",
   "execution_count": 13,
   "metadata": {
    "collapsed": true
   },
   "outputs": [],
   "source": [
    "def get_max_kernel(gps, name):\n",
    "    max_value = -1000000000\n",
    "    max_kernel = ''\n",
    "\n",
    "    for kernel in gps['lmls']:\n",
    "        if max_value < gps['lmls'][kernel]['lml']:\n",
    "            max_value = gps['lmls'][kernel]['lml']\n",
    "            max_kernel = kernel\n",
    "            \n",
    "    print(name + ', ' + max_kernel + ', ' + str(max_value))"
   ]
  },
  {
   "cell_type": "code",
   "execution_count": 14,
   "metadata": {},
   "outputs": [
    {
     "name": "stdout",
     "output_type": "stream",
     "text": [
      "temperature, p*r, 423.889049111\n",
      "rain, l+r*p, -188.085524333\n",
      "sales, p+r, -53.8087448088\n",
      "salary, r, -885.321235891\n",
      "gym, l+r*p, 104.173505782\n",
      "facebook, l+r+p, 1911.71253293\n"
     ]
    }
   ],
   "source": [
    "get_max_kernel(gps_temperature, 'temperature')\n",
    "get_max_kernel(gps_rain, 'rain')\n",
    "get_max_kernel(gps_sales, 'sales')\n",
    "get_max_kernel(gps_salary, 'salary')\n",
    "get_max_kernel(gps_gym, 'gym')\n",
    "get_max_kernel(gps_facebook, 'facebook')"
   ]
  },
  {
   "cell_type": "markdown",
   "metadata": {},
   "source": [
    "## Save results"
   ]
  },
  {
   "cell_type": "code",
   "execution_count": 15,
   "metadata": {
    "collapsed": true
   },
   "outputs": [],
   "source": [
    "import csv"
   ]
  },
  {
   "cell_type": "code",
   "execution_count": 16,
   "metadata": {
    "collapsed": true
   },
   "outputs": [],
   "source": [
    "def write_in_csv(writer, gps, name):\n",
    "    for i in gps_temperature['lmls']:\n",
    "        writer.writerow([name, i, gps['lmls'][i]['lml']])"
   ]
  },
  {
   "cell_type": "code",
   "execution_count": 17,
   "metadata": {
    "collapsed": true
   },
   "outputs": [],
   "source": [
    "with open('data/real-world/to-plot.csv', 'w') as csvfile:\n",
    "    writer = csv.writer(csvfile)\n",
    "    \n",
    "    writer.writerow(['scenario', 'kernel', 'lml'])\n",
    "    \n",
    "    write_in_csv(writer, gps_temperature, 'Temperature')\n",
    "    write_in_csv(writer, gps_rain,        'Rain')\n",
    "    write_in_csv(writer, gps_sales,       'Sales')\n",
    "    write_in_csv(writer, gps_salary,      'Salary')\n",
    "    write_in_csv(writer, gps_gym,         'Gym members')\n",
    "    write_in_csv(writer, gps_facebook,    'FB Friends')"
   ]
  },
  {
   "cell_type": "markdown",
   "metadata": {
    "collapsed": true
   },
   "source": [
    "# Save splines\n",
    "#### They will be used in the plots"
   ]
  },
  {
   "cell_type": "code",
   "execution_count": 36,
   "metadata": {},
   "outputs": [],
   "source": [
    "def write_spline_in_csv(writer, spline, name):\n",
    "    x = 0\n",
    "    \n",
    "    for y in spline[1]:\n",
    "        writer.writerow([name, x, y[0]])\n",
    "        x += 1"
   ]
  },
  {
   "cell_type": "code",
   "execution_count": 37,
   "metadata": {},
   "outputs": [],
   "source": [
    "with open('data/real-world/splines.csv', 'w') as csvfile:\n",
    "    writer = csv.writer(csvfile)\n",
    "    \n",
    "    writer.writerow(['scenario', 'day', 'y'])\n",
    "    \n",
    "    write_spline_in_csv(writer, spline_temperature, 'Temperature')\n",
    "    write_spline_in_csv(writer, spline_rain,        'Rain')\n",
    "    write_spline_in_csv(writer, spline_sales,       'Sales')\n",
    "    write_spline_in_csv(writer, spline_salary,      'Salary')\n",
    "    write_spline_in_csv(writer, spline_gym,         'Gym members')\n",
    "    write_spline_in_csv(writer, spline_facebook,    'FB Friends')"
   ]
  },
  {
   "cell_type": "code",
   "execution_count": null,
   "metadata": {
    "collapsed": true
   },
   "outputs": [],
   "source": []
  }
 ],
 "metadata": {
  "kernelspec": {
   "display_name": "Python 3",
   "language": "python",
   "name": "python3"
  },
  "language_info": {
   "codemirror_mode": {
    "name": "ipython",
    "version": 3
   },
   "file_extension": ".py",
   "mimetype": "text/x-python",
   "name": "python",
   "nbconvert_exporter": "python",
   "pygments_lexer": "ipython3",
   "version": "3.6.1"
  }
 },
 "nbformat": 4,
 "nbformat_minor": 2
}
