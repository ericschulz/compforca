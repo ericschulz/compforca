{
 "cells": [
  {
   "cell_type": "markdown",
   "metadata": {},
   "source": [
    "# Experimental data"
   ]
  },
  {
   "cell_type": "markdown",
   "metadata": {},
   "source": [
    "### Libraries"
   ]
  },
  {
   "cell_type": "code",
   "execution_count": 256,
   "metadata": {
    "collapsed": true
   },
   "outputs": [],
   "source": [
    "# Scikit learn\n",
    "import numpy as np\n",
    "\n",
    "from matplotlib import pyplot as plt\n",
    "\n",
    "from sklearn.gaussian_process import GaussianProcessRegressor\n",
    "from sklearn.gaussian_process.kernels \\\n",
    "    import RBF, WhiteKernel, RationalQuadratic, ExpSineSquared, DotProduct\n",
    "from sklearn.datasets import fetch_mldata\n",
    "\n",
    "# Others\n",
    "import csv"
   ]
  },
  {
   "cell_type": "markdown",
   "metadata": {},
   "source": [
    "### Import CSV"
   ]
  },
  {
   "cell_type": "code",
   "execution_count": 148,
   "metadata": {
    "collapsed": true
   },
   "outputs": [],
   "source": [
    "data = np.genfromtxt(fname = \"data/for_composititional_analysis.csv\", \n",
    "                     delimiter = ',',\n",
    "                     usecols = (1,2,3,4,5),\n",
    "                     skip_header = 1,\n",
    "                     dtype=None)"
   ]
  },
  {
   "cell_type": "markdown",
   "metadata": {},
   "source": [
    "First individual~condition~scenario"
   ]
  },
  {
   "cell_type": "code",
   "execution_count": 149,
   "metadata": {
    "collapsed": true
   },
   "outputs": [],
   "source": [
    "first = data[data['f0'] == 1]"
   ]
  },
  {
   "cell_type": "code",
   "execution_count": 150,
   "metadata": {
    "collapsed": true
   },
   "outputs": [],
   "source": [
    "x = first['f3']\n",
    "y = first['f4']"
   ]
  },
  {
   "cell_type": "code",
   "execution_count": 151,
   "metadata": {
    "collapsed": true
   },
   "outputs": [],
   "source": [
    "# Transformation of array to matrix\n",
    "X = []\n",
    "for i in range(len(x)):\n",
    "    X.append([x[i]])\n",
    "X = np.array(X)"
   ]
  },
  {
   "cell_type": "markdown",
   "metadata": {},
   "source": [
    "### GP Fit"
   ]
  },
  {
   "cell_type": "markdown",
   "metadata": {},
   "source": [
    "`Documentation:`\n",
    "- [`All Kernels`](http://scikit-learn.org/stable/modules/classes.html)\n",
    "  - [`Periodic (aka ExpSineSquared)`](http://scikit-learn.org/stable/modules/generated/sklearn.gaussian_process.kernels.ExpSineSquared.html#sklearn.gaussian_process.kernels.ExpSineSquared)\n",
    "  - [`RBF`](http://scikit-learn.org/stable/modules/generated/sklearn.gaussian_process.kernels.RBF.html#sklearn.gaussian_process.kernels.RBF)\n",
    "  - [`DotProduct`](http://scikit-learn.org/stable/modules/generated/sklearn.gaussian_process.kernels.DotProduct.html#sklearn.gaussian_process.kernels.DotProduct)\n",
    "- [`Gaussian Processes`](http://scikit-learn.org/stable/modules/gaussian_process.html)\n",
    "  - [`GaussianProcessRegressor`](http://scikit-learn.org/stable/modules/generated/sklearn.gaussian_process.GaussianProcessRegressor.html)"
   ]
  },
  {
   "cell_type": "markdown",
   "metadata": {},
   "source": [
    "Compute GP"
   ]
  },
  {
   "cell_type": "code",
   "execution_count": 272,
   "metadata": {
    "collapsed": true
   },
   "outputs": [],
   "source": [
    "def compute(X, y, kernel):\n",
    "    gp = GaussianProcessRegressor(kernel=kernel, normalize_y=True, optimizer='fmin_l_bfgs_b')\n",
    "    gp.fit(X, y)\n",
    "\n",
    "    #print(\"\\nLearned kernel: %s\" % gp.kernel_)\n",
    "    #print(\"Log-marginal-likelihood: %.3f\" % gp.log_marginal_likelihood(gp.kernel_.theta))\n",
    "    return gp"
   ]
  },
  {
   "cell_type": "code",
   "execution_count": 273,
   "metadata": {
    "collapsed": true
   },
   "outputs": [],
   "source": [
    "def lml(gp):\n",
    "    \"\"\"Log marginal likelihood of a GP\"\"\"\n",
    "    return gp.log_marginal_likelihood(gp.kernel_.theta)"
   ]
  },
  {
   "cell_type": "markdown",
   "metadata": {},
   "source": [
    "Plot GP"
   ]
  },
  {
   "cell_type": "code",
   "execution_count": 274,
   "metadata": {
    "collapsed": true
   },
   "outputs": [],
   "source": [
    "def plot_gp(X, y, gp):\n",
    "    X_ = np.linspace(X.min(), X.max() + 30, 1000)[:, np.newaxis]\n",
    "    y_pred, y_std = gp.predict(X_, return_std=True)\n",
    "\n",
    "    # Illustration\n",
    "    plt.scatter(X, y, c='k')\n",
    "    plt.plot(X_, y_pred)\n",
    "    plt.fill_between(X_[:, 0], y_pred - y_std, y_pred + y_std,\n",
    "                     alpha=0.5, color='k')\n",
    "    plt.xlim(X_.min(), X_.max())\n",
    "    plt.xlabel(\"Year\")\n",
    "    plt.ylabel(r\"CO$_2$ in ppm\")\n",
    "    plt.title(r\"Atmospheric CO$_2$ concentration at Mauna Loa\")\n",
    "    plt.tight_layout()\n",
    "    plt.show()"
   ]
  },
  {
   "cell_type": "markdown",
   "metadata": {},
   "source": [
    "Calculate GPs"
   ]
  },
  {
   "cell_type": "code",
   "execution_count": 284,
   "metadata": {},
   "outputs": [
    {
     "name": "stderr",
     "output_type": "stream",
     "text": [
      "C:\\Users\\panch\\Anaconda3\\lib\\site-packages\\sklearn\\gaussian_process\\gpr.py:427: UserWarning: fmin_l_bfgs_b terminated abnormally with the  state: {'grad': array([  3.04391828e+08,  -3.00147072e+10]), 'task': b'ABNORMAL_TERMINATION_IN_LNSRCH', 'funcalls': 134, 'nit': 9, 'warnflag': 2}\n",
      "  \" state: %s\" % convergence_dict)\n",
      "C:\\Users\\panch\\Anaconda3\\lib\\site-packages\\sklearn\\gaussian_process\\gpr.py:427: UserWarning: fmin_l_bfgs_b terminated abnormally with the  state: {'grad': array([ 0.32663678]), 'task': b'ABNORMAL_TERMINATION_IN_LNSRCH', 'funcalls': 65, 'nit': 7, 'warnflag': 2}\n",
      "  \" state: %s\" % convergence_dict)\n",
      "C:\\Users\\panch\\Anaconda3\\lib\\site-packages\\sklearn\\gaussian_process\\gpr.py:427: UserWarning: fmin_l_bfgs_b terminated abnormally with the  state: {'grad': array([-335.03643486,  169.11916988,   -0.86698497]), 'task': b'ABNORMAL_TERMINATION_IN_LNSRCH', 'funcalls': 136, 'nit': 26, 'warnflag': 2}\n",
      "  \" state: %s\" % convergence_dict)\n"
     ]
    }
   ],
   "source": [
    "def compute_gps(X, y):\n",
    "    # Kernel with optimized parameters\n",
    "    l = DotProduct()\n",
    "    p = ExpSineSquared()\n",
    "    r = RBF()\n",
    "\n",
    "    gps = {}\n",
    "\n",
    "    #gps['l'] = compute(X, y, l)\n",
    "    gps['p'] = compute(X, y, p)\n",
    "    gps['r'] = compute(X, y, r)\n",
    "\n",
    "    gps['p+r'] = compute(X, y, p+r)\n",
    "    gps['p*r'] = compute(X, y, p*r)\n",
    "    \n",
    "    return gps\n",
    "\n",
    "gps = compute_gps(X, y)"
   ]
  },
  {
   "cell_type": "code",
   "execution_count": 280,
   "metadata": {},
   "outputs": [
    {
     "data": {
      "text/plain": [
       "-74265284.158205494"
      ]
     },
     "execution_count": 280,
     "metadata": {},
     "output_type": "execute_result"
    }
   ],
   "source": [
    "lml(gps['p'])"
   ]
  },
  {
   "cell_type": "code",
   "execution_count": null,
   "metadata": {
    "collapsed": true
   },
   "outputs": [],
   "source": []
  }
 ],
 "metadata": {
  "kernelspec": {
   "display_name": "Python 3",
   "language": "python",
   "name": "python3"
  },
  "language_info": {
   "codemirror_mode": {
    "name": "ipython",
    "version": 3
   },
   "file_extension": ".py",
   "mimetype": "text/x-python",
   "name": "python",
   "nbconvert_exporter": "python",
   "pygments_lexer": "ipython3",
   "version": "3.5.2"
  }
 },
 "nbformat": 4,
 "nbformat_minor": 2
}
