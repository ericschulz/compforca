{
 "cells": [
  {
   "cell_type": "code",
   "execution_count": 70,
   "metadata": {
    "collapsed": true
   },
   "outputs": [],
   "source": [
    "save_damped_proportion_pdf = TRUE"
   ]
  },
  {
   "cell_type": "code",
   "execution_count": 1,
   "metadata": {},
   "outputs": [
    {
     "name": "stderr",
     "output_type": "stream",
     "text": [
      "Warning message:\n",
      "\"package 'plyr' was built under R version 3.3.3\"Warning message:\n",
      "\"package 'tidyverse' was built under R version 3.3.3\"Loading tidyverse: ggplot2\n",
      "Loading tidyverse: tibble\n",
      "Loading tidyverse: tidyr\n",
      "Loading tidyverse: readr\n",
      "Loading tidyverse: purrr\n",
      "Loading tidyverse: dplyr\n",
      "Warning message:\n",
      "\"package 'ggplot2' was built under R version 3.3.3\"Warning message:\n",
      "\"package 'tibble' was built under R version 3.3.3\"Warning message:\n",
      "\"package 'tidyr' was built under R version 3.3.3\"Warning message:\n",
      "\"package 'readr' was built under R version 3.3.3\"Warning message:\n",
      "\"package 'purrr' was built under R version 3.3.3\"Warning message:\n",
      "\"package 'dplyr' was built under R version 3.3.3\"Conflicts with tidy packages ---------------------------------------------------\n",
      "arrange():   dplyr, plyr\n",
      "compact():   purrr, plyr\n",
      "count():     dplyr, plyr\n",
      "failwith():  dplyr, plyr\n",
      "filter():    dplyr, stats\n",
      "id():        dplyr, plyr\n",
      "lag():       dplyr, stats\n",
      "mutate():    dplyr, plyr\n",
      "rename():    dplyr, plyr\n",
      "summarise(): dplyr, plyr\n",
      "summarize(): dplyr, plyr\n",
      "Warning message:\n",
      "\"package 'DT' was built under R version 3.3.3\"Warning message:\n",
      "\"package 'ggthemes' was built under R version 3.3.3\"Warning message:\n",
      "\"package 'DescTools' was built under R version 3.3.3\"Parsed with column specification:\n",
      "cols(\n",
      "  .default = col_double(),\n",
      "  userId = col_character(),\n",
      "  age = col_character(),\n",
      "  datetime = col_character(),\n",
      "  gender = col_character(),\n",
      "  datetime_1 = col_character(),\n",
      "  stage = col_integer(),\n",
      "  scenario = col_character(),\n",
      "  subcondition = col_integer(),\n",
      "  pageIndex = col_integer(),\n",
      "  noiseIndex = col_integer(),\n",
      "  day0 = col_character(),\n",
      "  day1 = col_character(),\n",
      "  day2 = col_character(),\n",
      "  day3 = col_character(),\n",
      "  day4 = col_character(),\n",
      "  day5 = col_character(),\n",
      "  day6 = col_character(),\n",
      "  day7 = col_character(),\n",
      "  day8 = col_character(),\n",
      "  day9 = col_character()\n",
      "  # ... with 69 more columns\n",
      ")\n",
      "See spec(...) for full column specifications.\n",
      "Warning message:\n",
      "\"package 'bindrcpp' was built under R version 3.3.3\"Warning message in eval(substitute(expr), envir, enclos):\n",
      "\"NAs introduced by coercion\""
     ]
    }
   ],
   "source": [
    "source(\"tools.R\")"
   ]
  },
  {
   "cell_type": "code",
   "execution_count": 2,
   "metadata": {},
   "outputs": [
    {
     "name": "stderr",
     "output_type": "stream",
     "text": [
      "Warning message:\n",
      "\"package 'gridExtra' was built under R version 3.3.3\"\n",
      "Attaching package: 'gridExtra'\n",
      "\n",
      "The following object is masked from 'package:dplyr':\n",
      "\n",
      "    combine\n",
      "\n"
     ]
    }
   ],
   "source": [
    "library(gridExtra)"
   ]
  },
  {
   "cell_type": "code",
   "execution_count": 3,
   "metadata": {
    "collapsed": true
   },
   "outputs": [],
   "source": [
    "# Kernel composition name change\n",
    "#l+r+p -> l+p+r\n",
    "#l+r*p -> l+p*r\n",
    "#l*r*p -> l*p*r\n",
    "\n",
    "readable_kernel <- function(current_kernel){\n",
    "    new_kernel <- current_kernel\n",
    "    \n",
    "    new_kernel <- ifelse(new_kernel == 'l+r+p', 'l+p+r', new_kernel)\n",
    "    new_kernel <- ifelse(new_kernel == 'l+r*p', 'l+p*r', new_kernel)\n",
    "    new_kernel <- ifelse(new_kernel == 'l*r*p', 'l*p*r', new_kernel)\n",
    "    \n",
    "    new_kernel <- gsub(\"\\\\*\", \"×\", new_kernel)\n",
    "    \n",
    "    return(new_kernel)\n",
    "}\n",
    "\n",
    "# Get the range of a scenario\n",
    "get_range <- function(scenario_name) {\n",
    "    switch( scenario_name,\n",
    "            'Temperature' = c(-10, 40),\n",
    "            'Rain' = c(0, 100),\n",
    "            'Sales' = c(0, 5000),\n",
    "            'Gym members' = c(0, 50),\n",
    "            'Salary' = c(0, 50),\n",
    "            'FB Friends' = c(0, 1000))\n",
    "}"
   ]
  },
  {
   "cell_type": "markdown",
   "metadata": {},
   "source": [
    "# Plotting functions"
   ]
  },
  {
   "cell_type": "code",
   "execution_count": 4,
   "metadata": {
    "collapsed": true
   },
   "outputs": [],
   "source": [
    "plot_lmls <- function(prop_data, title='', scenario, hide_x=FALSE, hide_y=FALSE, red_border=TRUE) {\n",
    "    \n",
    "    # Best-fitting real-world data kernel composition\n",
    "    rw_lmls <- read_csv(\"data/real-world/to-plot.csv\")\n",
    "    red_kernel <- (rw_lmls %>%\n",
    "                    filter(scenario == !!scenario) %>%\n",
    "                    summarize(red_kernel = kernel[which.max(lml)]))$red_kernel\n",
    "    red_kernel <- readable_kernel(red_kernel)\n",
    "\n",
    "    plot <- prop_data %>%\n",
    "                ggplot(aes(x=kernel, y=value)) +\n",
    "                    geom_bar(stat='identity') +\n",
    "                    geom_bar(stat='identity', data=prop_data %>% filter(kernel == red_kernel), alpha=0, size=0.5, color=\"red\") +\n",
    "                    coord_cartesian (ylim=c(0, 1)) +\n",
    "                    #labs(title = title) +\n",
    "                    ggthemes::theme_few() +\n",
    "                    xlab(\"Kernel composition\") +\n",
    "                    ylab(\"Likelihood\") +\n",
    "                    geom_errorbar(aes(ymin=as.numeric(lo_ci), ymax=as.numeric(hi_ci)),\n",
    "                                      width=.3,\n",
    "                                      position=position_dodge(.9)) +\n",
    "                    scale_y_continuous(breaks = seq(0, 1, length.out=3)) +\n",
    "                    theme(axis.text.x = element_text(angle = 90,  vjust = 0.5, hjust=0),\n",
    "                          text = element_text(size=12, family=\"serif\"))\n",
    "\n",
    "    if(hide_x){\n",
    "        plot <- plot + theme(axis.title.x=element_blank())\n",
    "    }\n",
    "    if(hide_y){\n",
    "        plot <- plot + theme(axis.title.y=element_blank())\n",
    "    }\n",
    "    \n",
    "    return(plot)\n",
    "}"
   ]
  },
  {
   "cell_type": "code",
   "execution_count": 5,
   "metadata": {
    "collapsed": true
   },
   "outputs": [],
   "source": [
    "plot_curves <- function(plot_data, plot_rwdata, ylab='', scenario, hide_x=FALSE, hide_y=FALSE) {\n",
    "\n",
    "    # Min and max value of the data to be shown\n",
    "    range_y <- get_range(scenario)\n",
    "    limits_y <- c( min(range_y[1], min(plot_data$value)), max(range_y[2], max(plot_data$value)))\n",
    "    \n",
    "    # Mean trend\n",
    "    trend <- plot_data %>% group_by(day) %>% summarize(mean_y = mean(value))\n",
    "    \n",
    "    # Plotting\n",
    "    plot <- plot_data %>%\n",
    "                ggplot(aes(x=day, y=value, group=id)) +\n",
    "                    geom_line(col=\"steelblue\", alpha=0.2) + # Participants' curves\n",
    "                    geom_line(data=plot_rwdata, aes(x=day, group=1), colour=\"red\", alpha=0.6) + # Real world data\n",
    "                    geom_line(data=trend, aes(x=day, y=mean_y, group=1), colour=\"black\") + # Mean trend\n",
    "                    #labs(title = title) +\n",
    "                    ggthemes::theme_few() +\n",
    "                    ylab(ylab) +\n",
    "                    scale_x_continuous(breaks = c(0, 365, 365*2, 365*3), labels=c('Y1', 'Y2', 'Y3', 'Y4')) +\n",
    "                    scale_y_continuous(breaks = seq(range_y[1], range_y[2], length.out=3), limits=limits_y) +\n",
    "                    theme(axis.text.x = element_text(angle = 90,  vjust = 0.5, hjust=0),\n",
    "                          axis.text.y = element_text(angle = 90,  vjust = 0.5, hjust=0.5),\n",
    "                          text = element_text(size=12, family=\"serif\"))\n",
    "\n",
    "    if(hide_x){\n",
    "        plot <- plot + theme(axis.title.x=element_blank())\n",
    "    }\n",
    "    if(hide_y){\n",
    "        plot <- plot + theme(axis.title.y=element_blank())\n",
    "    }\n",
    "    \n",
    "    return(plot)\n",
    "}"
   ]
  },
  {
   "cell_type": "markdown",
   "metadata": {},
   "source": [
    "# Prior: Kernel compositions bar plots\n",
    "\n",
    "##### Import and prepare the data"
   ]
  },
  {
   "cell_type": "code",
   "execution_count": 6,
   "metadata": {},
   "outputs": [
    {
     "name": "stderr",
     "output_type": "stream",
     "text": [
      "Warning message:\n",
      "\"Missing column names filled in: 'X1' [1]\"Parsed with column specification:\n",
      "cols(\n",
      "  X1 = col_integer(),\n",
      "  id = col_integer(),\n",
      "  pid = col_character(),\n",
      "  scenario = col_character(),\n",
      "  x = col_integer(),\n",
      "  y = col_double()\n",
      ")\n",
      "Warning message:\n",
      "\"Missing column names filled in: 'X1' [1]\"Parsed with column specification:\n",
      "cols(\n",
      "  X1 = col_integer(),\n",
      "  l = col_double(),\n",
      "  `l*p` = col_double(),\n",
      "  `l*p+r` = col_double(),\n",
      "  `l*r` = col_double(),\n",
      "  `l*r*p` = col_double(),\n",
      "  `l*r+p` = col_double(),\n",
      "  `l+p` = col_double(),\n",
      "  `l+r` = col_double(),\n",
      "  `l+r*p` = col_double(),\n",
      "  `l+r+p` = col_double(),\n",
      "  p = col_double(),\n",
      "  `p*r` = col_double(),\n",
      "  `p+r` = col_double(),\n",
      "  r = col_double()\n",
      ")\n",
      "Parsed with column specification:\n",
      "cols(\n",
      "  cid = col_integer(),\n",
      "  composition = col_character(),\n",
      "  white_added = col_character(),\n",
      "  second_exception = col_character()\n",
      ")\n"
     ]
    }
   ],
   "source": [
    "data_prior <- read_csv(\"data/for_composititional_analysis_prior.csv\")\n",
    "\n",
    "dict_prior <- data_prior %>%                        \n",
    "                        group_by(id, pid, scenario) %>%\n",
    "                        summarize()\n",
    "\n",
    "lmls_prior <- read_csv(\"output/lmls_prior.csv\")\n",
    "\n",
    "metadata_prior <- read_csv(\"output/metadata_prior.csv\")"
   ]
  },
  {
   "cell_type": "code",
   "execution_count": 7,
   "metadata": {
    "collapsed": true
   },
   "outputs": [],
   "source": [
    "metadata_prior <- metadata_prior %>%\n",
    "                        mutate( cid_composition = paste0(cid, composition) )\n",
    "\n",
    "metadata_prior$pid <- NULL\n",
    "metadata_prior$composition <- NULL\n",
    "\n",
    "kernels  <- c(\"l\", \"p\", \"r\", \"l+p\", \"l+r\", \"p+r\", \"l*r\", \"l*p\", \"p*r\", \"l+r+p\", \"l+r*p\", \"l*r+p\", \"l*p+r\", \"l*r*p\")\n",
    "\n",
    "lmls_prior<- lmls_prior %>% \n",
    "                gather(kernel, lml, kernels)\n",
    "\n",
    "colnames(lmls_prior) = c('id', 'kernel', 'lml')\n",
    "\n",
    "lmls_prior <- merge(x = lmls_prior, y = dict_prior, by = c(\"id\", \"id\"), all.x = TRUE)\n",
    "\n",
    "lmls_prior <- lmls_prior %>%\n",
    "                        mutate( cid_composition = paste0(id, kernel) )\n",
    "\n",
    "# Joining\n",
    "lmls_prior <- merge(x = lmls_prior, y = metadata_prior, by = c(\"cid_composition\", \"cid_composition\"), all.x = TRUE)\n",
    "lmls_prior$cid_composition <- NULL"
   ]
  },
  {
   "cell_type": "code",
   "execution_count": 8,
   "metadata": {
    "collapsed": true
   },
   "outputs": [],
   "source": [
    "# Kernel composition name change\n",
    "lmls_prior$kernel <- readable_kernel(lmls_prior$kernel)"
   ]
  },
  {
   "cell_type": "code",
   "execution_count": 9,
   "metadata": {
    "collapsed": true
   },
   "outputs": [],
   "source": [
    "# Removes the GPs that failed to be optimized in the second time. The lmls that failed to be optimized are also removed.\n",
    "#Finaly, the lml_standard is calculated\n",
    "lmls_prior_f <- lmls_prior %>%\n",
    "                    filter(second_exception == 'False' & lml != -999999999) %>%\n",
    "                    group_by(pid, scenario) %>%\n",
    "                    mutate(lml_minus_min = lml - min(lml),\n",
    "                           lml_standard = lml_minus_min / (max(lml_minus_min) - min (lml_minus_min)))\n",
    "\n",
    "sds <- lmls_prior_f %>% \n",
    "            group_by(kernel, scenario) %>%\n",
    "            summarize(lo_bound = mean(lml) - 5*sd(lml), up_bound = mean(lml) + 5*sd(lml))\n",
    "\n",
    "sds$ks <- paste0(sds$kernel, sds$scenario)\n",
    "\n",
    "lmls_prior_f$ks <- paste0(lmls_prior_f$kernel, lmls_prior_f$scenario)\n",
    "\n",
    "sds$kernel <- NULL\n",
    "sds$scenario <- NULL\n",
    "\n",
    "lmls_prior_f <- merge(x = lmls_prior_f, y = sds, by = \"ks\", all.x = TRUE)"
   ]
  },
  {
   "cell_type": "markdown",
   "metadata": {},
   "source": [
    "##### Prepare the plots"
   ]
  },
  {
   "cell_type": "code",
   "execution_count": 10,
   "metadata": {},
   "outputs": [
    {
     "name": "stderr",
     "output_type": "stream",
     "text": [
      "Parsed with column specification:\n",
      "cols(\n",
      "  scenario = col_character(),\n",
      "  kernel = col_character(),\n",
      "  lml = col_double()\n",
      ")\n",
      "Parsed with column specification:\n",
      "cols(\n",
      "  scenario = col_character(),\n",
      "  kernel = col_character(),\n",
      "  lml = col_double()\n",
      ")\n",
      "Parsed with column specification:\n",
      "cols(\n",
      "  scenario = col_character(),\n",
      "  kernel = col_character(),\n",
      "  lml = col_double()\n",
      ")\n",
      "Parsed with column specification:\n",
      "cols(\n",
      "  scenario = col_character(),\n",
      "  kernel = col_character(),\n",
      "  lml = col_double()\n",
      ")\n",
      "Parsed with column specification:\n",
      "cols(\n",
      "  scenario = col_character(),\n",
      "  kernel = col_character(),\n",
      "  lml = col_double()\n",
      ")\n",
      "Parsed with column specification:\n",
      "cols(\n",
      "  scenario = col_character(),\n",
      "  kernel = col_character(),\n",
      "  lml = col_double()\n",
      ")\n"
     ]
    }
   ],
   "source": [
    "normalize_bool = TRUE\n",
    "plot_bool      = TRUE\n",
    "\n",
    "lmls_prior_ff <- lmls_prior_f %>% \n",
    "            filter(lml > -10000) %>%\n",
    "            filter(lml > lo_bound & lml < up_bound)\n",
    "\n",
    "to_plot_prior <- lmls_prior_ff %>%\n",
    "            group_by(kernel, scenario) %>%\n",
    "            summarize(value = mean(lml),\n",
    "                      lo_ci = MeanCI(lml, method=\"boot\", type=\"norm\", na.rm=TRUE)['lwr.ci'],\n",
    "                      hi_ci = MeanCI(lml, method=\"boot\", type=\"norm\", na.rm=TRUE)['upr.ci'])\n",
    "\n",
    "# Remove single components\n",
    "to_plot_prior <- to_plot_prior %>%\n",
    "                filter(kernel != 'l', kernel != 'p', kernel != 'r')\n",
    "\n",
    "# Scaling the 'data to plot' to a 0-1 range\n",
    "min_v = min(to_plot_prior$value)\n",
    "range_v = max(to_plot_prior$value) - min(to_plot_prior$value)\n",
    "\n",
    "if(normalize_bool) {\n",
    "    #Normalization\n",
    "    to_plot_prior <- to_plot_prior %>%\n",
    "                    group_by( scenario ) %>%\n",
    "                    mutate( lo_ci = (lo_ci - min(value)) / (max(value) - min(value)),\n",
    "                            hi_ci = (hi_ci - min(value)) / (max(value) - min(value)),  \n",
    "                            value = (value - min(value)) / (max(value) - min(value)))\n",
    "}\n",
    "\n",
    "# Plotting magic\n",
    "to_plot_prior$kernel <- factor(to_plot_prior$kernel, levels=readable_kernel(kernels))\n",
    "\n",
    "lmls_temperature <- to_plot_prior %>% filter(scenario == \"Temperature\")\n",
    "lmls_rain <- to_plot_prior %>% filter(scenario == \"Rain\")\n",
    "lmls_sales <- to_plot_prior %>% filter(scenario == \"Sales\")\n",
    "lmls_gym <- to_plot_prior %>% filter(scenario == \"Gym members\")\n",
    "lmls_salary <- to_plot_prior %>% filter(scenario == \"Salary\")\n",
    "lmls_fb <- to_plot_prior %>% filter(scenario == \"FB Friends\")\n",
    "\n",
    "\n",
    "if (plot_bool) {\n",
    "    # Plots\n",
    "    p_temp   <- plot_lmls( lmls_temperature, scenario=\"Temperature\", hide_x=TRUE, hide_y=FALSE)\n",
    "    p_rain   <- plot_lmls( lmls_rain,        scenario=\"Rain\",        hide_x=TRUE, hide_y=FALSE)\n",
    "    p_sales  <- plot_lmls( lmls_sales,       scenario=\"Sales\",       hide_x=TRUE, hide_y=FALSE)\n",
    "    p_gym    <- plot_lmls( lmls_gym,         scenario=\"Gym members\", hide_x=TRUE, hide_y=FALSE)\n",
    "    p_salary <- plot_lmls( lmls_salary,      scenario=\"Salary\",      hide_x=TRUE, hide_y=FALSE)\n",
    "    p_fb     <- plot_lmls( lmls_fb,          scenario=\"FB Friends\",  hide_x=TRUE, hide_y=FALSE)\n",
    "\n",
    "    #pdf(\"Images/paper_images/kernels_priors_lmls_5sd.pdf\", width=8, height=4)\n",
    "    #multiplot(p1, p2, p3, p4, p5, p6, cols=3)\n",
    "    #dev.off()   \n",
    "}"
   ]
  },
  {
   "cell_type": "markdown",
   "metadata": {},
   "source": [
    "# Prior: Curves (participant's data)"
   ]
  },
  {
   "cell_type": "markdown",
   "metadata": {},
   "source": [
    "##### Plotting"
   ]
  },
  {
   "cell_type": "code",
   "execution_count": 11,
   "metadata": {},
   "outputs": [
    {
     "name": "stderr",
     "output_type": "stream",
     "text": [
      "Parsed with column specification:\n",
      "cols(\n",
      "  scenario = col_character(),\n",
      "  day = col_integer(),\n",
      "  value = col_double()\n",
      ")\n"
     ]
    }
   ],
   "source": [
    "mean_centering <- function(rwdata, dat, scenario) {\n",
    "    mean_rw <- rwdata %>% filter(scenario == !!scenario) %>% summarize(mv=mean(value))\n",
    "    \n",
    "    mean_dat <- dat %>% filter(scenario == !!scenario, condition == 'Prior') %>% summarize(mv=mean(value))    \n",
    "    \n",
    "    mean_dat$mv / mean_rw$mv\n",
    "}\n",
    "\n",
    "# Real-world data\n",
    "rwdata <- read_csv('data/real-world/splines.csv')\n",
    "\n",
    "rwdata$condition <- 'Prior' # Add column\n",
    "rwdata$id <- 1 #Create a new ID column\n",
    "rwdata <- filter(rwdata, day >= 31) # Filter out the initial days\n",
    "rwdata <- filter(rwdata, day <= 365*4 - 31) # Filter out the final days\n",
    "\n",
    "# Order\n",
    "rwdata$condition <- factor( rwdata$condition, levels = condition_names)\n",
    "rwdata$scenario <- factor( rwdata$scenario, levels = readable_scenarios)\n",
    "\n",
    "# Scale the values\n",
    "rwdata[rwdata$scenario == 'Rain', 'day'] <- rwdata[rwdata$scenario == 'Rain', 'day'] + (365/12) * 1.5 #Offset 1.5 months to the right\n",
    "\n",
    "# Mean centering\n",
    "for (s in readable_scenarios){\n",
    "    rwdata[rwdata$scenario == s, 'value'] <- rwdata[rwdata$scenario == s, 'value'] * mean_centering(rwdata, dat, s)\n",
    "}"
   ]
  },
  {
   "cell_type": "code",
   "execution_count": 12,
   "metadata": {
    "collapsed": true
   },
   "outputs": [],
   "source": [
    "curves_plot <- function(scenario_name, ...) {\n",
    "    dat %>% \n",
    "        filter(scenario==scenario_name, condition=='Prior') %>% \n",
    "        plot_curves(rwdata %>% filter(scenario==scenario_name), scenario=scenario_name, ylab=scenario_name, ...)\n",
    "}"
   ]
  },
  {
   "cell_type": "code",
   "execution_count": 13,
   "metadata": {
    "collapsed": true
   },
   "outputs": [],
   "source": [
    "p_temp_curves   <- curves_plot('Temperature', hide_x=TRUE, hide_y=FALSE)\n",
    "p_rain_curves   <- curves_plot('Rain',        hide_x=TRUE, hide_y=FALSE)\n",
    "p_sales_curves  <- curves_plot('Sales',       hide_x=TRUE, hide_y=FALSE)\n",
    "p_gym_curves    <- curves_plot('Gym members', hide_x=TRUE, hide_y=FALSE)\n",
    "p_salary_curves <- curves_plot('Salary',      hide_x=TRUE, hide_y=FALSE)\n",
    "p_fb_curves     <- curves_plot('FB Friends',  hide_x=TRUE, hide_y=FALSE)"
   ]
  },
  {
   "cell_type": "code",
   "execution_count": 14,
   "metadata": {
    "collapsed": true
   },
   "outputs": [],
   "source": [
    "if(FALSE){\n",
    "    # Save/show\n",
    "    pdf(\"Images/paper_images/grid_plot_prior.pdf\", width=6, height=10)\n",
    "    grid.arrange(p_temp_curves,   p_temp, \n",
    "                 p_rain_curves,   p_rain, \n",
    "                 p_sales_curves,  p_sales, \n",
    "                 p_gym_curves,    p_gym, \n",
    "                 p_salary_curves, p_salary, \n",
    "                 p_fb_curves,     p_fb, \n",
    "                 ncol=2)\n",
    "    dev.off()   \n",
    "}"
   ]
  },
  {
   "cell_type": "markdown",
   "metadata": {
    "collapsed": true
   },
   "source": [
    "# Posterior: Curves (participants' data)"
   ]
  },
  {
   "cell_type": "code",
   "execution_count": 15,
   "metadata": {
    "collapsed": true
   },
   "outputs": [],
   "source": [
    "plot_curves_posterior <- function(plot_data, ylab='', scenario, hide_x=FALSE, hide_y=FALSE) {\n",
    "\n",
    "    # Min and max value of the data to be shown\n",
    "    range_y <- get_range(scenario)\n",
    "    limits_y <- c( min(range_y[1], min(plot_data$value)), max(range_y[2], max(plot_data$value)))\n",
    "    \n",
    "    # Mean trend\n",
    "    trend_1 <- plot_data %>% filter(condition=='Posterior-Positive') %>% group_by(day) %>% summarize(mean_y = mean(value))\n",
    "    trend_2 <- plot_data %>% filter(condition=='Posterior-Stable') %>%   group_by(day) %>% summarize(mean_y = mean(value))\n",
    "    trend_3 <- plot_data %>% filter(condition=='Posterior-Negative') %>% group_by(day) %>% summarize(mean_y = mean(value))\n",
    "    \n",
    "    # Plotting\n",
    "    plot <- plot_data %>%\n",
    "                ggplot(aes(x=day, y=value, group=id)) +\n",
    "                    # Curves:\n",
    "                    geom_line(data=plot_data %>% filter(condition=='Posterior-Positive'), col=\"steelblue\", alpha=0.1) +\n",
    "                    geom_line(data=plot_data %>% filter(condition=='Posterior-Stable'),   col=\"firebrick\", alpha=0.1) +\n",
    "                    geom_line(data=plot_data %>% filter(condition=='Posterior-Negative'), col=\"olivedrab\", alpha=0.1) +\n",
    "                    \n",
    "                    # Mean curves\n",
    "                    geom_line(data=trend_1, aes(x=day, y=mean_y, group=1), colour=\"blue\") +\n",
    "                    geom_line(data=trend_2, aes(x=day, y=mean_y, group=1), colour=\"red\") +\n",
    "                    geom_line(data=trend_3, aes(x=day, y=mean_y, group=1), colour=\"darkgreen\") +\n",
    "                    \n",
    "                    # Vertical line (end of evidence mark)\n",
    "                    geom_vline(aes(xintercept=365-31), colour='black') +\n",
    "    \n",
    "                    ggthemes::theme_few() +\n",
    "                    ylab(ylab) +\n",
    "                    scale_x_continuous(breaks = c(0, 365, 365*2, 365*3), labels=c('Y1', 'Y2', 'Y3', 'Y4')) +\n",
    "                    scale_y_continuous(breaks = seq(range_y[1], range_y[2], length.out=3), limits=limits_y) +\n",
    "                    theme(axis.text.x = element_text(angle = 90,  vjust = 0.5, hjust=0),\n",
    "                          axis.text.y = element_text(angle = 90,  vjust = 0.5, hjust=0.5),\n",
    "                          text = element_text(size=12, family=\"serif\"))\n",
    "\n",
    "    if(hide_x){\n",
    "        plot <- plot + theme(axis.title.x=element_blank())\n",
    "    }\n",
    "    if(hide_y){\n",
    "        plot <- plot + theme(axis.title.y=element_blank())\n",
    "    }\n",
    "    \n",
    "    return(plot)\n",
    "}\n",
    "    \n",
    "curves_plot_posterior <- function(scenario_name, ...) {\n",
    "    dat %>% \n",
    "        filter(scenario==scenario_name, condition!='Prior') %>% \n",
    "        plot_curves_posterior(scenario=scenario_name, ylab=scenario_name, ...)\n",
    "}"
   ]
  },
  {
   "cell_type": "code",
   "execution_count": 16,
   "metadata": {
    "collapsed": true
   },
   "outputs": [],
   "source": [
    "posterior_curves_temp <- curves_plot_posterior('Temperature', hide_x=TRUE, hide_y=FALSE)\n",
    "posterior_curves_rain <- curves_plot_posterior('Rain',        hide_x=TRUE, hide_y=FALSE)\n",
    "posterior_curves_sale <- curves_plot_posterior('Sales',       hide_x=TRUE, hide_y=FALSE)\n",
    "posterior_curves_gymm <- curves_plot_posterior('Gym members', hide_x=TRUE, hide_y=FALSE)\n",
    "posterior_curves_slry <- curves_plot_posterior('Salary',      hide_x=TRUE, hide_y=FALSE)\n",
    "posterior_curves_fbfr <- curves_plot_posterior('FB Friends',  hide_x=TRUE, hide_y=FALSE)"
   ]
  },
  {
   "cell_type": "markdown",
   "metadata": {},
   "source": [
    "# Posterior: Performance. Prediction against participant's results"
   ]
  },
  {
   "cell_type": "markdown",
   "metadata": {},
   "source": [
    "##### Importing the posterior kernel composition data"
   ]
  },
  {
   "cell_type": "code",
   "execution_count": 17,
   "metadata": {},
   "outputs": [
    {
     "name": "stderr",
     "output_type": "stream",
     "text": [
      "Parsed with column specification:\n",
      "cols(\n",
      "  id = col_integer(),\n",
      "  kernel = col_character(),\n",
      "  lml = col_double(),\n",
      "  white_added = col_logical(),\n",
      "  second_exception = col_logical()\n",
      ")\n",
      "Warning message:\n",
      "\"Missing column names filled in: 'X1' [1]\"Parsed with column specification:\n",
      "cols(\n",
      "  X1 = col_integer(),\n",
      "  id = col_integer(),\n",
      "  pid = col_character(),\n",
      "  scenario = col_character(),\n",
      "  x = col_integer(),\n",
      "  y = col_double(),\n",
      "  condition = col_character()\n",
      ")\n"
     ]
    }
   ],
   "source": [
    "lmls_posterior <- read_csv(\"output/full-bayesian-posterior/results_posterior_test_lmls.csv\")\n",
    "\n",
    "# To add the 'scenario' column\n",
    "data_posterior <- read_csv(\"data/for_composititional_analysis_posterior.csv\")\n",
    "\n",
    "dict_posterior <- data_posterior %>%                        \n",
    "                        group_by(id, pid, scenario) %>%\n",
    "                        summarize()\n",
    "\n",
    "lmls_posterior <- merge(x = lmls_posterior, y = dict_posterior, by = c(\"id\", \"id\"), all.x = TRUE)\n",
    "\n",
    "# Removing unusable data, and standardizing.\n",
    "lmls_posterior_f <- lmls_posterior %>%\n",
    "                    filter(second_exception == 'FALSE' & lml != -999999999) %>%\n",
    "                    group_by(pid, scenario) %>%\n",
    "                    mutate(lml_minus_min = lml - min(lml),\n",
    "                           lml_standard = lml_minus_min / (max(lml_minus_min) - min (lml_minus_min)))\n",
    "\n",
    "# Standard deviations calculation\n",
    "sds <- lmls_posterior_f %>% \n",
    "            group_by(kernel, scenario) %>%\n",
    "            summarize(lo_bound = mean(lml) - 5*sd(lml), up_bound = mean(lml) + 5*sd(lml))\n",
    "\n",
    "sds$ks <- paste0(sds$kernel, sds$scenario)\n",
    "\n",
    "lmls_posterior_f$ks <- paste0(lmls_posterior_f$kernel, lmls_posterior_f$scenario)\n",
    "\n",
    "sds$kernel <- NULL\n",
    "sds$scenario <- NULL\n",
    "\n",
    "lmls_posterior_f <- merge(x = lmls_posterior_f, y = sds, by = \"ks\", all.x = TRUE)\n",
    "\n",
    "lmls_posterior_ff <- lmls_posterior_f %>%\n",
    "            filter(lml > -10000) %>%\n",
    "            filter(lml > lo_bound & lml < up_bound)"
   ]
  },
  {
   "cell_type": "markdown",
   "metadata": {},
   "source": [
    "###### Importing the predictions"
   ]
  },
  {
   "cell_type": "code",
   "execution_count": 18,
   "metadata": {},
   "outputs": [
    {
     "name": "stderr",
     "output_type": "stream",
     "text": [
      "Parsed with column specification:\n",
      "cols(\n",
      "  pid = col_integer(),\n",
      "  composition = col_character(),\n",
      "  Xpredictions = col_double(),\n",
      "  predictions_mean = col_character(),\n",
      "  predictions_var = col_character()\n",
      ")\n"
     ]
    }
   ],
   "source": [
    "# Import the predictions\n",
    "predictions_csv <- read_csv('output/full-bayesian-posterior/results_posterior_test_predictions.csv')\n",
    "\n",
    "predictions <- predictions_csv %>%\n",
    "                    mutate(value = as.numeric(substring(predictions_mean, 2, nchar(predictions_mean)-1))) %>%\n",
    "                    select(cid = pid, kernel = composition, day = Xpredictions, value)"
   ]
  },
  {
   "cell_type": "markdown",
   "metadata": {},
   "source": [
    "##### Merging and filtering the datasets"
   ]
  },
  {
   "cell_type": "code",
   "execution_count": 19,
   "metadata": {
    "collapsed": true
   },
   "outputs": [],
   "source": [
    "# Sequence of days to analyze:\n",
    "sequence = seq(365-31 + 2, 1426, 5)"
   ]
  },
  {
   "cell_type": "code",
   "execution_count": 20,
   "metadata": {
    "collapsed": true
   },
   "outputs": [],
   "source": [
    "# Inner join. \n",
    "# This is the predictions data merged with the best performing (and filtered) kernels in the posterior condition\n",
    "pred <- merge( \n",
    "            # Predictions (full-Bayesian):\n",
    "            x = predictions %>%\n",
    "                    filter(day %in% sequence),\n",
    "\n",
    "            # Kernels after the filters:\n",
    "            y = lmls_posterior_ff %>%\n",
    "                    select(cid=id, pid, scenario, kernel, lml),\n",
    "\n",
    "            by = c('cid', 'kernel')\n",
    ")"
   ]
  },
  {
   "cell_type": "code",
   "execution_count": 21,
   "metadata": {
    "collapsed": true
   },
   "outputs": [],
   "source": [
    "# Merge the predictions with the real participants' data\n",
    "all_pred_data <- merge(\n",
    "                # Predictions + Kernel posterior analysis:\n",
    "                x = pred,\n",
    "    \n",
    "                # Participant's data:\n",
    "                y = dat %>% \n",
    "                        filter(day >= 365-31, #remove evidence\n",
    "                               condition != 'Prior', #only Posterior conditions\n",
    "                               day %in% sequence) %>%\n",
    "                        select(pid = id, day, value_participant=value, scenario, condition, noise),\n",
    "    \n",
    "                by = c('pid', 'scenario', 'day')\n",
    ")"
   ]
  },
  {
   "cell_type": "markdown",
   "metadata": {},
   "source": [
    "###### Calculating the deviation"
   ]
  },
  {
   "cell_type": "code",
   "execution_count": 22,
   "metadata": {
    "collapsed": true
   },
   "outputs": [],
   "source": [
    "#Normalized root mean squared deviation\n",
    "calculate_nrmsd <- function(value_prediction, value_participant) {\n",
    "    return (sqrt(sum((value_prediction - value_participant)^2) / length(value_prediction)) / (max(value_participant) - min(value_participant)))\n",
    "}"
   ]
  },
  {
   "cell_type": "code",
   "execution_count": 23,
   "metadata": {
    "collapsed": true
   },
   "outputs": [],
   "source": [
    "results_pred <- all_pred_data %>% \n",
    "                    group_by(pid, scenario, kernel, lml) %>%\n",
    "                    summarize(NRMSD = calculate_nrmsd(value, value_participant))\n",
    "\n",
    "results_pred <- merge(x = results_pred,\n",
    "\n",
    "                      # Mark the best-fitting kernel in each case\n",
    "                      y = results_pred %>%\n",
    "                            filter(nchar(kernel)!= 1) %>%\n",
    "                            group_by(pid, scenario) %>%\n",
    "                            mutate(is_max = lml == max(lml)) %>%\n",
    "                            filter(is_max) %>%\n",
    "                            select(pid, scenario, kernel, is_max),\n",
    "\n",
    "                      all.x = TRUE,\n",
    "                )\n",
    "\n",
    "results_pred$is_max <- !(is.na(results_pred$is_max))"
   ]
  },
  {
   "cell_type": "markdown",
   "metadata": {},
   "source": [
    "##### Plotting the deviation"
   ]
  },
  {
   "cell_type": "code",
   "execution_count": 24,
   "metadata": {
    "collapsed": true
   },
   "outputs": [],
   "source": [
    "# Filtering in only Linear, RBF, and Best fitting compositions.\n",
    "to_plot_results_pred <- results_pred %>%\n",
    "                            filter(kernel == 'l' | kernel == 'r' | is_max)\n",
    "\n",
    "to_plot_results_pred$readable_kernel <- ifelse(to_plot_results_pred$is_max, 'best', to_plot_results_pred$kernel)"
   ]
  },
  {
   "cell_type": "code",
   "execution_count": 25,
   "metadata": {
    "collapsed": true
   },
   "outputs": [],
   "source": [
    "plot_deviation <- function(to_plot_data, ylim) {\n",
    "    to_plot_data %>%\n",
    "        ggplot(aes(x=readable_kernel, y=NRMSD, group=readable_kernel)) +\n",
    "                        geom_boxplot(outlier.shape = 1,\n",
    "                                     outlier.size = 0.5) +\n",
    "                        \n",
    "                        scale_x_discrete(breaks = c('best', 'l', 'r'),\n",
    "                                         labels = c('Compositional', 'Linear', 'RBF')) +\n",
    "\n",
    "                        ylab(\"Error\") +\n",
    "                        \n",
    "                        scale_y_continuous(limits=ylim, breaks = seq(ylim[1], ylim[2], length.out=3)) +\n",
    "\n",
    "                        ggthemes::theme_few() +\n",
    "                        theme(text = element_text(size=12, family=\"serif\"),\n",
    "                                     plot.title = element_text(hjust = 0.5),\n",
    "                                     legend.position = \"none\",\n",
    "                                     axis.title.x = element_blank())\n",
    "}"
   ]
  },
  {
   "cell_type": "code",
   "execution_count": 26,
   "metadata": {
    "collapsed": true
   },
   "outputs": [],
   "source": [
    "posterior_deviation_temp = plot_deviation( to_plot_results_pred %>% filter(scenario == 'Temperature'), ylim = c(0, 24))\n",
    "posterior_deviation_rain = plot_deviation( to_plot_results_pred %>% filter(scenario == 'Rain'),        ylim = c(0, 24))\n",
    "posterior_deviation_sale = plot_deviation( to_plot_results_pred %>% filter(scenario == 'Sales'),       ylim = c(0, 24))\n",
    "posterior_deviation_gymm = plot_deviation( to_plot_results_pred %>% filter(scenario == 'Gym members'), ylim = c(0, 24))\n",
    "posterior_deviation_slry = plot_deviation( to_plot_results_pred %>% filter(scenario == 'Salary'),      ylim = c(0, 24))\n",
    "posterior_deviation_fbfr = plot_deviation( to_plot_results_pred %>% filter(scenario == 'FB Friends'),  ylim = c(0, 24))"
   ]
  },
  {
   "cell_type": "markdown",
   "metadata": {},
   "source": [
    "##### Second grid plot"
   ]
  },
  {
   "cell_type": "code",
   "execution_count": 27,
   "metadata": {
    "collapsed": true
   },
   "outputs": [],
   "source": [
    "if(FALSE){\n",
    "    pdf(\"Images/paper_images/grid_plot_posterior.pdf\", width=6, height=10)\n",
    "    multiplot(  posterior_curves_temp,\n",
    "                posterior_curves_rain,\n",
    "                posterior_curves_sale,\n",
    "                posterior_curves_gymm,\n",
    "                posterior_curves_slry,\n",
    "                posterior_curves_fbfr,\n",
    "              \n",
    "                posterior_deviation_temp,\n",
    "                posterior_deviation_rain,\n",
    "                posterior_deviation_sale,\n",
    "                posterior_deviation_gymm,\n",
    "                posterior_deviation_slry,\n",
    "                posterior_deviation_fbfr,\n",
    "                \n",
    "                cols = 2)\n",
    "    dev.off()   \n",
    "}"
   ]
  },
  {
   "cell_type": "markdown",
   "metadata": {},
   "source": [
    "# Trend damping\n",
    "### Goal: Proportion of damped predictions. Participants vs GP Predictions."
   ]
  },
  {
   "cell_type": "markdown",
   "metadata": {
    "collapsed": true
   },
   "source": [
    "###### Calculate underlying trend"
   ]
  },
  {
   "cell_type": "code",
   "execution_count": 28,
   "metadata": {
    "collapsed": true
   },
   "outputs": [],
   "source": [
    "df <- dat %>%\n",
    "        group_by(condition, scenario, day) %>%\n",
    "        summarize\n",
    "\n",
    "df$slope_scale <- mapvalues(df$condition,\n",
    "                              from = c(\"Prior\", \"Posterior-Positive\", \"Posterior-Stable\", \"Posterior-Negative\"),\n",
    "                              to   = c(0, 1, 0, -1))\n",
    "\n",
    "df$range <- mapvalues(df$scenario,\n",
    "                              from = c(\"Temperature\", \"Rain\", \"Sales\", \"Gym members\", \"Salary\", \"FB Friends\"),\n",
    "                              to   = c( 40--10,        100-0,  5000-0,  50-0,          50-0,     1000-0))\n",
    "\n",
    "df$y_intercept <- mapvalues(df$scenario,\n",
    "                              from = c(\"Temperature\", \"Rain\", \"Sales\", \"Gym members\", \"Salary\", \"FB Friends\"),\n",
    "                              to   = c( 15,            30,     2500,    25,            20,       500))\n",
    "\n",
    "\n",
    "# Transformations to numbers\n",
    "df$slope_scale <- as.numeric(levels(df$slope_scale))[df$slope_scale]\n",
    "df$range <- as.numeric(levels(df$range))[df$range]\n",
    "df$y_intercept <- as.numeric(levels(df$y_intercept))[df$y_intercept]\n",
    "\n",
    "# Calculations\n",
    "df$last_point <- df$y_intercept + 0.05 * df$range * df$slope_scale * 4 \n",
    "\n",
    "df$slope <- (df$last_point - df$y_intercept) / ((365-31)-1)\n",
    "\n",
    "df$underlying_trend <- ((df$day-1) * df$slope + df$y_intercept)\n",
    "\n"
   ]
  },
  {
   "cell_type": "code",
   "execution_count": 29,
   "metadata": {},
   "outputs": [
    {
     "data": {
      "text/html": [
       "<table>\n",
       "<thead><tr><th scope=col>pid</th><th scope=col>scenario</th><th scope=col>day</th><th scope=col>cid</th><th scope=col>kernel</th><th scope=col>value</th><th scope=col>lml</th><th scope=col>value_participant</th><th scope=col>condition</th><th scope=col>noise</th></tr></thead>\n",
       "<tbody>\n",
       "\t<tr><td>a001              </td><td>FB Friends        </td><td>1001              </td><td>6                 </td><td>l*r               </td><td>   0.000          </td><td>-237.5916         </td><td>255.7962          </td><td>Posterior-Negative</td><td>3                 </td></tr>\n",
       "\t<tr><td>a001              </td><td>FB Friends        </td><td>1001              </td><td>6                 </td><td>l+r               </td><td>1567.164          </td><td>-204.1054         </td><td>255.7962          </td><td>Posterior-Negative</td><td>3                 </td></tr>\n",
       "\t<tr><td>a001              </td><td>FB Friends        </td><td>1001              </td><td>6                 </td><td>l*p               </td><td>1657.923          </td><td>-409.1764         </td><td>255.7962          </td><td>Posterior-Negative</td><td>3                 </td></tr>\n",
       "</tbody>\n",
       "</table>\n"
      ],
      "text/latex": [
       "\\begin{tabular}{r|llllllllll}\n",
       " pid & scenario & day & cid & kernel & value & lml & value\\_participant & condition & noise\\\\\n",
       "\\hline\n",
       "\t a001               & FB Friends         & 1001               & 6                  & l*r                &    0.000           & -237.5916          & 255.7962           & Posterior-Negative & 3                 \\\\\n",
       "\t a001               & FB Friends         & 1001               & 6                  & l+r                & 1567.164           & -204.1054          & 255.7962           & Posterior-Negative & 3                 \\\\\n",
       "\t a001               & FB Friends         & 1001               & 6                  & l*p                & 1657.923           & -409.1764          & 255.7962           & Posterior-Negative & 3                 \\\\\n",
       "\\end{tabular}\n"
      ],
      "text/markdown": [
       "\n",
       "pid | scenario | day | cid | kernel | value | lml | value_participant | condition | noise | \n",
       "|---|---|---|\n",
       "| a001               | FB Friends         | 1001               | 6                  | l*r                |    0.000           | -237.5916          | 255.7962           | Posterior-Negative | 3                  | \n",
       "| a001               | FB Friends         | 1001               | 6                  | l+r                | 1567.164           | -204.1054          | 255.7962           | Posterior-Negative | 3                  | \n",
       "| a001               | FB Friends         | 1001               | 6                  | l*p                | 1657.923           | -409.1764          | 255.7962           | Posterior-Negative | 3                  | \n",
       "\n",
       "\n"
      ],
      "text/plain": [
       "  pid  scenario   day  cid kernel value    lml       value_participant\n",
       "1 a001 FB Friends 1001 6   l*r       0.000 -237.5916 255.7962         \n",
       "2 a001 FB Friends 1001 6   l+r    1567.164 -204.1054 255.7962         \n",
       "3 a001 FB Friends 1001 6   l*p    1657.923 -409.1764 255.7962         \n",
       "  condition          noise\n",
       "1 Posterior-Negative 3    \n",
       "2 Posterior-Negative 3    \n",
       "3 Posterior-Negative 3    "
      ]
     },
     "metadata": {},
     "output_type": "display_data"
    },
    {
     "data": {
      "text/html": [
       "<table>\n",
       "<thead><tr><th scope=col>condition</th><th scope=col>scenario</th><th scope=col>day</th><th scope=col>slope_scale</th><th scope=col>range</th><th scope=col>y_intercept</th><th scope=col>last_point</th><th scope=col>slope</th><th scope=col>underlying_trend</th></tr></thead>\n",
       "<tbody>\n",
       "\t<tr><td>Prior      </td><td>Temperature</td><td>31         </td><td>0          </td><td>50         </td><td>15         </td><td>15         </td><td>0          </td><td>15         </td></tr>\n",
       "\t<tr><td>Prior      </td><td>Temperature</td><td>32         </td><td>0          </td><td>50         </td><td>15         </td><td>15         </td><td>0          </td><td>15         </td></tr>\n",
       "\t<tr><td>Prior      </td><td>Temperature</td><td>33         </td><td>0          </td><td>50         </td><td>15         </td><td>15         </td><td>0          </td><td>15         </td></tr>\n",
       "</tbody>\n",
       "</table>\n"
      ],
      "text/latex": [
       "\\begin{tabular}{r|lllllllll}\n",
       " condition & scenario & day & slope\\_scale & range & y\\_intercept & last\\_point & slope & underlying\\_trend\\\\\n",
       "\\hline\n",
       "\t Prior       & Temperature & 31          & 0           & 50          & 15          & 15          & 0           & 15         \\\\\n",
       "\t Prior       & Temperature & 32          & 0           & 50          & 15          & 15          & 0           & 15         \\\\\n",
       "\t Prior       & Temperature & 33          & 0           & 50          & 15          & 15          & 0           & 15         \\\\\n",
       "\\end{tabular}\n"
      ],
      "text/markdown": [
       "\n",
       "condition | scenario | day | slope_scale | range | y_intercept | last_point | slope | underlying_trend | \n",
       "|---|---|---|\n",
       "| Prior       | Temperature | 31          | 0           | 50          | 15          | 15          | 0           | 15          | \n",
       "| Prior       | Temperature | 32          | 0           | 50          | 15          | 15          | 0           | 15          | \n",
       "| Prior       | Temperature | 33          | 0           | 50          | 15          | 15          | 0           | 15          | \n",
       "\n",
       "\n"
      ],
      "text/plain": [
       "  condition scenario    day slope_scale range y_intercept last_point slope\n",
       "1 Prior     Temperature 31  0           50    15          15         0    \n",
       "2 Prior     Temperature 32  0           50    15          15         0    \n",
       "3 Prior     Temperature 33  0           50    15          15         0    \n",
       "  underlying_trend\n",
       "1 15              \n",
       "2 15              \n",
       "3 15              "
      ]
     },
     "metadata": {},
     "output_type": "display_data"
    },
    {
     "data": {
      "text/html": [
       "2061447"
      ],
      "text/latex": [
       "2061447"
      ],
      "text/markdown": [
       "2061447"
      ],
      "text/plain": [
       "[1] 2061447"
      ]
     },
     "metadata": {},
     "output_type": "display_data"
    },
    {
     "data": {
      "text/html": [
       "33576"
      ],
      "text/latex": [
       "33576"
      ],
      "text/markdown": [
       "33576"
      ],
      "text/plain": [
       "[1] 33576"
      ]
     },
     "metadata": {},
     "output_type": "display_data"
    }
   ],
   "source": [
    "# Watching the columns\n",
    "all_pred_data %>% head(3)\n",
    "df %>% head(3)\n",
    "\n",
    "all_pred_data %>% nrow\n",
    "df %>% nrow"
   ]
  },
  {
   "cell_type": "code",
   "execution_count": 30,
   "metadata": {
    "collapsed": true
   },
   "outputs": [],
   "source": [
    "# Merging the data with the underlying trend\n",
    "data_with_trend <- merge( \n",
    "    x = all_pred_data,\n",
    "\n",
    "    y = df %>% select(condition, scenario, day, underlying_trend),\n",
    "\n",
    "    by = c('condition', 'scenario', 'day')\n",
    ")\n",
    "\n",
    "data_with_trend <- cbind(row_id = rownames(data_with_trend), data_with_trend)\n",
    "\n",
    "data_with_trend <- merge(   # Original dataset\n",
    "                            x = data_with_trend,\n",
    "\n",
    "                            # Mark the best-fitting kernel in each case\n",
    "                            y = data_with_trend %>%\n",
    "                                    filter(nchar(kernel)!= 1) %>%\n",
    "                                    group_by(pid, scenario) %>%\n",
    "                                    mutate(is_max = lml == max(lml)) %>%\n",
    "                                    ungroup %>%\n",
    "                                    filter(is_max) %>%\n",
    "                                    select(row_id, is_max),\n",
    "\n",
    "                            by = 'row_id',\n",
    "                            all.x = TRUE\n",
    "                )\n",
    "\n",
    "data_with_trend$is_max <- !(is.na(data_with_trend$is_max))"
   ]
  },
  {
   "cell_type": "code",
   "execution_count": 31,
   "metadata": {
    "collapsed": true
   },
   "outputs": [],
   "source": [
    "# Filter out the unnecessary conditions\n",
    "data_with_trend <- data_with_trend %>%\n",
    "                                filter(condition == 'Posterior-Positive' |\n",
    "                                       condition == 'Posterior-Negative')\n",
    "\n",
    "# Only have the best-fitting kernel\n",
    "data_with_trend <- data_with_trend %>%\n",
    "                                filter(is_max)"
   ]
  },
  {
   "cell_type": "code",
   "execution_count": 32,
   "metadata": {},
   "outputs": [
    {
     "data": {
      "text/html": [
       "0"
      ],
      "text/latex": [
       "0"
      ],
      "text/markdown": [
       "0"
      ],
      "text/plain": [
       "[1] 0"
      ]
     },
     "metadata": {},
     "output_type": "display_data"
    },
    {
     "data": {
      "text/html": [
       "0"
      ],
      "text/latex": [
       "0"
      ],
      "text/markdown": [
       "0"
      ],
      "text/plain": [
       "[1] 0"
      ]
     },
     "metadata": {},
     "output_type": "display_data"
    }
   ],
   "source": [
    "# Should be zero because every curve and day combination should only have 1 datapoint\n",
    "data_with_trend %>% \n",
    "    group_by(cid, day) %>%\n",
    "    filter(length(day) != 1) %>% nrow\n",
    "\n",
    "data_with_trend %>% \n",
    "    group_by(cid, day, kernel) %>%\n",
    "    filter(length(kernel) != 1) %>% nrow"
   ]
  },
  {
   "cell_type": "code",
   "execution_count": 33,
   "metadata": {
    "collapsed": true
   },
   "outputs": [],
   "source": [
    "# Which values are \"damped\"?\n",
    "add_damped_column <- function(dataset, condition, column_name, new_column_name) {\n",
    "    \n",
    "    if(condition == 'Posterior-Negative') {\n",
    "        damped_column <- dataset[dataset$condition==condition, column_name] > dataset[dataset$condition==condition, 'underlying_trend'] \n",
    "    }else if(condition == 'Posterior-Positive') {\n",
    "        damped_column <- dataset[dataset$condition==condition, column_name] < dataset[dataset$condition==condition, 'underlying_trend'] \n",
    "    }\n",
    "    \n",
    "    dataset[dataset$condition == condition, new_column_name] <- damped_column\n",
    "    \n",
    "    return(dataset)\n",
    "}\n",
    " \n",
    "# Calculate the 'damped' boolean\n",
    "data_with_trend <- add_damped_column(data_with_trend, 'Posterior-Negative', 'value_participant', new_column_name='damped_participant')\n",
    "data_with_trend <- add_damped_column(data_with_trend, 'Posterior-Positive', 'value_participant', new_column_name='damped_participant')\n",
    "    \n",
    "data_with_trend <- add_damped_column(data_with_trend, 'Posterior-Negative', 'value', new_column_name='damped_gp')\n",
    "data_with_trend <- add_damped_column(data_with_trend, 'Posterior-Positive', 'value', new_column_name='damped_gp')"
   ]
  },
  {
   "cell_type": "markdown",
   "metadata": {},
   "source": [
    "##### Bootstrapped confidence interval (for binomial distribution).\n",
    "\n",
    "NOTE: Do you like this method Eric? Or should we use a package [like this one](http://math.furman.edu/~dcs/courses/math47/R/library/Hmisc/html/binconf.html)?"
   ]
  },
  {
   "cell_type": "code",
   "execution_count": 53,
   "metadata": {
    "collapsed": true
   },
   "outputs": [],
   "source": [
    "bp = function(x, lev, n = 1e3, alpha=0.05) {\n",
    "  res = replicate(n, sum(sample(x, length(x), replace=TRUE) == lev)/length(x))\n",
    "  return(list(mean=mean(res),\n",
    "              `95% CI`=quantile(res, c(0.5*alpha,1-0.5*alpha))))\n",
    "}\n",
    "\n",
    "bp2 = function(vector) {\n",
    "    \n",
    "    match_ci <- bp(vector, TRUE)\n",
    "    \n",
    "    return( c( match_ci$mean %>% round(2),\n",
    "             match_ci$`95% CI`[1] %>% round(2),\n",
    "             match_ci$`95% CI`[2] %>% round(2) ))\n",
    "}"
   ]
  },
  {
   "cell_type": "markdown",
   "metadata": {},
   "source": [
    "##### Calculate the damped proportion, per condition~day"
   ]
  },
  {
   "cell_type": "code",
   "execution_count": 63,
   "metadata": {},
   "outputs": [],
   "source": [
    "damped_proportion_participants <- data_with_trend %>%\n",
    "                                        group_by(condition, day) %>%\n",
    "                                        summarize(damped_proportion = bp2(damped_participant)[[1]],\n",
    "                                                  lo_ci = bp2(damped_participant)[[2]],\n",
    "                                                  hi_ci = bp2(damped_participant)[[3]])\n",
    "\n",
    "damped_proportion_gps <- data_with_trend %>%\n",
    "                                        group_by(condition, day) %>%\n",
    "                                        summarize(damped_proportion = bp2(damped_gp)[[1]],\n",
    "                                                  lo_ci = bp2(damped_gp)[[2]],\n",
    "                                                  hi_ci = bp2(damped_gp)[[3]])"
   ]
  },
  {
   "cell_type": "code",
   "execution_count": 64,
   "metadata": {},
   "outputs": [
    {
     "data": {
      "text/html": [
       "<table>\n",
       "<thead><tr><th scope=col>condition</th></tr></thead>\n",
       "<tbody>\n",
       "\t<tr><td>Posterior-Positive</td></tr>\n",
       "\t<tr><td>Posterior-Negative</td></tr>\n",
       "</tbody>\n",
       "</table>\n"
      ],
      "text/latex": [
       "\\begin{tabular}{r|l}\n",
       " condition\\\\\n",
       "\\hline\n",
       "\t Posterior-Positive\\\\\n",
       "\t Posterior-Negative\\\\\n",
       "\\end{tabular}\n"
      ],
      "text/markdown": [
       "\n",
       "condition | \n",
       "|---|---|\n",
       "| Posterior-Positive | \n",
       "| Posterior-Negative | \n",
       "\n",
       "\n"
      ],
      "text/plain": [
       "  condition         \n",
       "1 Posterior-Positive\n",
       "2 Posterior-Negative"
      ]
     },
     "metadata": {},
     "output_type": "display_data"
    }
   ],
   "source": [
    "damped_proportion_participants %>% select(condition) %>% unique"
   ]
  },
  {
   "cell_type": "code",
   "execution_count": 65,
   "metadata": {},
   "outputs": [
    {
     "data": {
      "text/html": [
       "<table>\n",
       "<thead><tr><th scope=col>condition</th><th scope=col>day</th><th scope=col>damped_proportion</th><th scope=col>lo_ci</th><th scope=col>hi_ci</th></tr></thead>\n",
       "<tbody>\n",
       "\t<tr><td>Posterior-Positive</td><td>336               </td><td>0.84              </td><td>0.79              </td><td>0.88              </td></tr>\n",
       "\t<tr><td>Posterior-Positive</td><td>341               </td><td>0.80              </td><td>0.75              </td><td>0.85              </td></tr>\n",
       "\t<tr><td>Posterior-Positive</td><td>346               </td><td>0.81              </td><td>0.76              </td><td>0.85              </td></tr>\n",
       "\t<tr><td>Posterior-Positive</td><td>351               </td><td>0.80              </td><td>0.75              </td><td>0.85              </td></tr>\n",
       "\t<tr><td>Posterior-Positive</td><td>356               </td><td>0.81              </td><td>0.76              </td><td>0.86              </td></tr>\n",
       "\t<tr><td>Posterior-Positive</td><td>361               </td><td>0.81              </td><td>0.76              </td><td>0.86              </td></tr>\n",
       "</tbody>\n",
       "</table>\n"
      ],
      "text/latex": [
       "\\begin{tabular}{r|lllll}\n",
       " condition & day & damped\\_proportion & lo\\_ci & hi\\_ci\\\\\n",
       "\\hline\n",
       "\t Posterior-Positive & 336                & 0.84               & 0.79               & 0.88              \\\\\n",
       "\t Posterior-Positive & 341                & 0.80               & 0.75               & 0.85              \\\\\n",
       "\t Posterior-Positive & 346                & 0.81               & 0.76               & 0.85              \\\\\n",
       "\t Posterior-Positive & 351                & 0.80               & 0.75               & 0.85              \\\\\n",
       "\t Posterior-Positive & 356                & 0.81               & 0.76               & 0.86              \\\\\n",
       "\t Posterior-Positive & 361                & 0.81               & 0.76               & 0.86              \\\\\n",
       "\\end{tabular}\n"
      ],
      "text/markdown": [
       "\n",
       "condition | day | damped_proportion | lo_ci | hi_ci | \n",
       "|---|---|---|---|---|---|\n",
       "| Posterior-Positive | 336                | 0.84               | 0.79               | 0.88               | \n",
       "| Posterior-Positive | 341                | 0.80               | 0.75               | 0.85               | \n",
       "| Posterior-Positive | 346                | 0.81               | 0.76               | 0.85               | \n",
       "| Posterior-Positive | 351                | 0.80               | 0.75               | 0.85               | \n",
       "| Posterior-Positive | 356                | 0.81               | 0.76               | 0.86               | \n",
       "| Posterior-Positive | 361                | 0.81               | 0.76               | 0.86               | \n",
       "\n",
       "\n"
      ],
      "text/plain": [
       "  condition          day damped_proportion lo_ci hi_ci\n",
       "1 Posterior-Positive 336 0.84              0.79  0.88 \n",
       "2 Posterior-Positive 341 0.80              0.75  0.85 \n",
       "3 Posterior-Positive 346 0.81              0.76  0.85 \n",
       "4 Posterior-Positive 351 0.80              0.75  0.85 \n",
       "5 Posterior-Positive 356 0.81              0.76  0.86 \n",
       "6 Posterior-Positive 361 0.81              0.76  0.86 "
      ]
     },
     "metadata": {},
     "output_type": "display_data"
    }
   ],
   "source": [
    "damped_proportion_participants %>% head"
   ]
  },
  {
   "cell_type": "code",
   "execution_count": 72,
   "metadata": {
    "collapsed": true
   },
   "outputs": [],
   "source": [
    "plot_with_ribbon <- function(dplot, type=1, title=\"\", xlab=\"Year\", ylab=\"\", hide_legend=FALSE, group=\"condition\", legend_title=\"Condition\") {\n",
    "    \n",
    "    if(type == 1){\n",
    "        y = \"damped_proportion\"\n",
    "        ylab = \"Proportion of\\ndamped predictions\"\n",
    "    }\n",
    "    \n",
    "    p <- ggplot(data=dplot, aes_string(x=\"day\", y=y, group=group, colour=group)) +\n",
    "            geom_line(size=1) +\n",
    "            geom_ribbon(aes(ymin=lo_ci, ymax=hi_ci), alpha=0.2) +\n",
    "            #scale_x_continuous(limits +\n",
    "            #coord_cartesian(ylim = c(0.65, 1.00), xlim = c(365-31, 365*2-10)) +\n",
    "            labs(colour = legend_title) +\n",
    "            xlab(xlab) + ylab(ylab) + ggtitle(title) +\n",
    "            scale_x_continuous(breaks=c(0, 365, 365*2, 365*3), labels=c('Y1', 'Y2', 'Y3', 'Y4')) +\n",
    "            theme_bw() + \n",
    "            ggthemes::theme_few() + \n",
    "            theme(text = element_text(size=12, family=\"serif\")) +\n",
    "            #theme(legend.position=c(0.82, 0.40)) +\n",
    "            theme(plot.title = element_text(hjust = 0.5)) +\n",
    "            ggthemes::scale_color_solarized()\n",
    "        \n",
    "    if(hide_legend) {\n",
    "        p <- p + theme(legend.position=\"none\")\n",
    "    }\n",
    "    \n",
    "    return(p)\n",
    "}"
   ]
  },
  {
   "cell_type": "code",
   "execution_count": 77,
   "metadata": {},
   "outputs": [
    {
     "data": {
      "text/html": [
       "<strong>png:</strong> 2"
      ],
      "text/latex": [
       "\\textbf{png:} 2"
      ],
      "text/markdown": [
       "**png:** 2"
      ],
      "text/plain": [
       "png \n",
       "  2 "
      ]
     },
     "metadata": {},
     "output_type": "display_data"
    }
   ],
   "source": [
    "p1 <- plot_with_ribbon(damped_proportion_participants)\n",
    "p2 <- plot_with_ribbon(damped_proportion_gps)\n",
    "\n",
    "if(save_damped_proportion_pdf){ #save_damped_proportion_pdf\n",
    "    pdf(\"Images/paper_images/damped_proportion.pdf\", width=6, height=4)\n",
    "    multiplot(p1, p2, cols=1)\n",
    "    dev.off()  \n",
    "}"
   ]
  },
  {
   "cell_type": "code",
   "execution_count": null,
   "metadata": {
    "collapsed": true
   },
   "outputs": [],
   "source": []
  }
 ],
 "metadata": {
  "kernelspec": {
   "display_name": "R",
   "language": "R",
   "name": "ir"
  },
  "language_info": {
   "codemirror_mode": "r",
   "file_extension": ".r",
   "mimetype": "text/x-r-source",
   "name": "R",
   "pygments_lexer": "r",
   "version": "3.3.1"
  }
 },
 "nbformat": 4,
 "nbformat_minor": 2
}
