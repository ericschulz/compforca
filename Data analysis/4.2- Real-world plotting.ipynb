{
 "cells": [
  {
   "cell_type": "code",
   "execution_count": 1,
   "metadata": {},
   "outputs": [
    {
     "name": "stderr",
     "output_type": "stream",
     "text": [
      "Warning message:\n",
      "\"package 'plyr' was built under R version 3.3.3\"Warning message:\n",
      "\"package 'tidyverse' was built under R version 3.3.3\"Loading tidyverse: ggplot2\n",
      "Loading tidyverse: tibble\n",
      "Loading tidyverse: tidyr\n",
      "Loading tidyverse: readr\n",
      "Loading tidyverse: purrr\n",
      "Loading tidyverse: dplyr\n",
      "Warning message:\n",
      "\"package 'ggplot2' was built under R version 3.3.3\"Warning message:\n",
      "\"package 'tibble' was built under R version 3.3.3\"Warning message:\n",
      "\"package 'tidyr' was built under R version 3.3.3\"Warning message:\n",
      "\"package 'readr' was built under R version 3.3.3\"Warning message:\n",
      "\"package 'purrr' was built under R version 3.3.3\"Warning message:\n",
      "\"package 'dplyr' was built under R version 3.3.3\"Conflicts with tidy packages ---------------------------------------------------\n",
      "arrange():   dplyr, plyr\n",
      "compact():   purrr, plyr\n",
      "count():     dplyr, plyr\n",
      "failwith():  dplyr, plyr\n",
      "filter():    dplyr, stats\n",
      "id():        dplyr, plyr\n",
      "lag():       dplyr, stats\n",
      "mutate():    dplyr, plyr\n",
      "rename():    dplyr, plyr\n",
      "summarise(): dplyr, plyr\n",
      "summarize(): dplyr, plyr\n",
      "Warning message:\n",
      "\"package 'DT' was built under R version 3.3.3\"Warning message:\n",
      "\"package 'ggthemes' was built under R version 3.3.3\"Warning message:\n",
      "\"package 'DescTools' was built under R version 3.3.3\""
     ]
    }
   ],
   "source": [
    "source(\"tools.R\")\n",
    "library('DescTools')"
   ]
  },
  {
   "cell_type": "markdown",
   "metadata": {},
   "source": [
    "# Plots"
   ]
  },
  {
   "cell_type": "markdown",
   "metadata": {},
   "source": [
    "## Real-world plot"
   ]
  },
  {
   "cell_type": "code",
   "execution_count": 2,
   "metadata": {},
   "outputs": [
    {
     "name": "stderr",
     "output_type": "stream",
     "text": [
      "Parsed with column specification:\n",
      "cols(\n",
      "  scenario = col_character(),\n",
      "  kernel = col_character(),\n",
      "  lml = col_double()\n",
      ")\n"
     ]
    }
   ],
   "source": [
    "data <- read_csv(\"data/real-world/to-plot.csv\")\n",
    "\n",
    "kernels <- c(\"l\", \"p\", \"r\", \"l+p\", \"l+r\", \"p+r\", \"l*r\", \"l*p\", \"p*r\", \"l+r+p\", \"l+r*p\", \"l*r+p\", \"l*p+r\", \"l*r*p\")\n",
    "\n",
    "lmls_prior_f <- data"
   ]
  },
  {
   "cell_type": "code",
   "execution_count": 3,
   "metadata": {
    "collapsed": true
   },
   "outputs": [],
   "source": [
    "plot_lmls <- function(prop_data, title, hide_x=FALSE, hide_y=FALSE) {\n",
    "    plot <- prop_data %>%\n",
    "                ggplot(aes(x=kernel, y=value)) + \n",
    "                    geom_bar(stat=\"identity\") +\n",
    "                    coord_cartesian (ylim=c(0, 1)) +\n",
    "                    labs(title = title) +\n",
    "                    ggthemes::theme_few() +\n",
    "                    xlab(\"Kernel composition\") + \n",
    "                    ylab(\"Mean likelihood (scaled)\") +\n",
    "                    #geom_errorbar(aes(ymin=as.numeric(lo_ci), ymax=as.numeric(hi_ci)),\n",
    "                    #                  width=.3,                   \n",
    "                    #                  position=position_dodge(.9)) +\n",
    "                    theme(axis.text.x = element_text(angle = 90,  vjust = 0.5, hjust=0),\n",
    "                          text = element_text(size=12, family=\"serif\"),\n",
    "                          plot.title = element_text(hjust = 0.5))\n",
    "    \n",
    "    if(hide_x){\n",
    "        plot <- plot + theme(axis.title.x=element_blank())\n",
    "    }\n",
    "    if(hide_y){\n",
    "        plot <- plot + theme(axis.title.y=element_blank())\n",
    "    }\n",
    "    \n",
    "    return(plot)\n",
    "}"
   ]
  },
  {
   "cell_type": "code",
   "execution_count": 4,
   "metadata": {},
   "outputs": [
    {
     "name": "stderr",
     "output_type": "stream",
     "text": [
      "Warning message:\n",
      "\"package 'bindrcpp' was built under R version 3.3.3\""
     ]
    },
    {
     "data": {
      "text/html": [
       "<strong>png:</strong> 2"
      ],
      "text/latex": [
       "\\textbf{png:} 2"
      ],
      "text/markdown": [
       "**png:** 2"
      ],
      "text/plain": [
       "png \n",
       "  2 "
      ]
     },
     "metadata": {},
     "output_type": "display_data"
    }
   ],
   "source": [
    "to_plot <- lmls_prior_f %>%\n",
    "            group_by(kernel, scenario) %>%\n",
    "            summarize(value = mean(lml))\n",
    "\n",
    "# Remove single components\n",
    "to_plot <- to_plot %>%\n",
    "                filter(kernel != 'l', kernel != 'p', kernel != 'r')\n",
    "\n",
    "# Scaling the 'data to plot' to a 0-1 range\n",
    "min_v = min(to_plot$value)\n",
    "range_v = max(to_plot$value) - min(to_plot$value)\n",
    "\n",
    "to_plot <- to_plot %>%\n",
    "                group_by( scenario ) %>%\n",
    "                mutate(value = (value - min(value)) / (max(value) - min(value)))\n",
    "# Plotting magic\n",
    "to_plot$kernel <- factor(to_plot$kernel, levels=kernels)\n",
    "\n",
    "lmls_temperature <- to_plot %>% filter(scenario == \"Temperature\")\n",
    "lmls_rain <- to_plot %>% filter(scenario == \"Rain\")\n",
    "lmls_sales <- to_plot %>% filter(scenario == \"Sales\")\n",
    "lmls_gym <- to_plot %>% filter(scenario == \"Gym members\")\n",
    "lmls_salary <- to_plot %>% filter(scenario == \"Salary\")\n",
    "lmls_fb <- to_plot %>% filter(scenario == \"FB Friends\")\n",
    "\n",
    "p1 <- plot_lmls(lmls_temperature, \"Temperature\", hide_x=TRUE)\n",
    "p2 <- plot_lmls(lmls_rain, \"Rain\", hide_x=TRUE)\n",
    "p3 <- plot_lmls(lmls_sales, \"Sales\", hide_x=TRUE, hide_y=TRUE)\n",
    "p4 <- plot_lmls(lmls_gym, \"Gym members\", hide_y=TRUE, hide_x=TRUE)\n",
    "p5 <- plot_lmls(lmls_salary, \"Salary\", hide_x=TRUE, hide_y=TRUE)\n",
    "p6 <- plot_lmls(lmls_fb, \"FB Friends\", hide_y=TRUE, hide_x=TRUE)\n",
    "\n",
    "pdf(\"Images/paper_images/real-world.pdf\", width=8, height=4)\n",
    "multiplot(p1, p2, p3, p4, p5, p6, cols=3)\n",
    "dev.off()"
   ]
  },
  {
   "cell_type": "markdown",
   "metadata": {},
   "source": [
    "# Only values"
   ]
  },
  {
   "cell_type": "code",
   "execution_count": 62,
   "metadata": {},
   "outputs": [
    {
     "data": {
      "text/html": [
       "<table>\n",
       "<thead><tr><th scope=col>scenario</th><th scope=col>kernel[which.max(lml)]</th><th scope=col>lml[which.max(lml)]</th></tr></thead>\n",
       "<tbody>\n",
       "\t<tr><td>FB Friends </td><td>l+r+p      </td><td>3532.55614 </td></tr>\n",
       "\t<tr><td>Gym members</td><td>l+r*p      </td><td> 104.17351 </td></tr>\n",
       "\t<tr><td>Rain       </td><td>l+r*p      </td><td>-188.08552 </td></tr>\n",
       "\t<tr><td>Salary     </td><td>p+r        </td><td>-885.91397 </td></tr>\n",
       "\t<tr><td>Sales      </td><td>p+r        </td><td> -53.80874 </td></tr>\n",
       "\t<tr><td>Temperature</td><td>p*r        </td><td> 423.88905 </td></tr>\n",
       "</tbody>\n",
       "</table>\n"
      ],
      "text/latex": [
       "\\begin{tabular}{r|lll}\n",
       " scenario & kernel{[}which.max(lml){]} & lml{[}which.max(lml){]}\\\\\n",
       "\\hline\n",
       "\t FB Friends  & l+r+p       & 3532.55614 \\\\\n",
       "\t Gym members & l+r*p       &  104.17351 \\\\\n",
       "\t Rain        & l+r*p       & -188.08552 \\\\\n",
       "\t Salary      & p+r         & -885.91397 \\\\\n",
       "\t Sales       & p+r         &  -53.80874 \\\\\n",
       "\t Temperature & p*r         &  423.88905 \\\\\n",
       "\\end{tabular}\n"
      ],
      "text/markdown": [
       "\n",
       "scenario | kernel[which.max(lml)] | lml[which.max(lml)] | \n",
       "|---|---|---|---|---|---|\n",
       "| FB Friends  | l+r+p       | 3532.55614  | \n",
       "| Gym members | l+r*p       |  104.17351  | \n",
       "| Rain        | l+r*p       | -188.08552  | \n",
       "| Salary      | p+r         | -885.91397  | \n",
       "| Sales       | p+r         |  -53.80874  | \n",
       "| Temperature | p*r         |  423.88905  | \n",
       "\n",
       "\n"
      ],
      "text/plain": [
       "  scenario    kernel[which.max(lml)] lml[which.max(lml)]\n",
       "1 FB Friends  l+r+p                  3532.55614         \n",
       "2 Gym members l+r*p                   104.17351         \n",
       "3 Rain        l+r*p                  -188.08552         \n",
       "4 Salary      p+r                    -885.91397         \n",
       "5 Sales       p+r                     -53.80874         \n",
       "6 Temperature p*r                     423.88905         "
      ]
     },
     "metadata": {},
     "output_type": "display_data"
    }
   ],
   "source": [
    "data %>% \n",
    "    filter(kernel != 'l', kernel != 'p', kernel != 'r') %>%\n",
    "    group_by(scenario) %>%\n",
    "    summarize(kernel[which.max(lml)], lml[which.max(lml)])"
   ]
  },
  {
   "cell_type": "code",
   "execution_count": 63,
   "metadata": {},
   "outputs": [
    {
     "data": {
      "text/html": [
       "<table>\n",
       "<thead><tr><th scope=col>scenario</th><th scope=col>kernel</th><th scope=col>lml</th></tr></thead>\n",
       "<tbody>\n",
       "\t<tr><td>Sales        </td><td>l+r          </td><td>   -158.81582</td></tr>\n",
       "\t<tr><td>Sales        </td><td>l+p          </td><td>  -1051.41186</td></tr>\n",
       "\t<tr><td>Sales        </td><td>p+r          </td><td>    -53.80874</td></tr>\n",
       "\t<tr><td>Sales        </td><td>l*r          </td><td>  -1129.74901</td></tr>\n",
       "\t<tr><td>Sales        </td><td>l*p          </td><td>  -1489.35883</td></tr>\n",
       "\t<tr><td>Sales        </td><td>p*r          </td><td>    -97.92928</td></tr>\n",
       "\t<tr><td>Sales        </td><td>l+r+p        </td><td>  -1046.57994</td></tr>\n",
       "\t<tr><td>Sales        </td><td>l+r*p        </td><td>    -60.04926</td></tr>\n",
       "\t<tr><td>Sales        </td><td>l*r+p        </td><td>  -1110.02837</td></tr>\n",
       "\t<tr><td>Sales        </td><td>l*p+r        </td><td>-168171.80759</td></tr>\n",
       "\t<tr><td>Sales        </td><td>l*r*p        </td><td>  -1123.86743</td></tr>\n",
       "</tbody>\n",
       "</table>\n"
      ],
      "text/latex": [
       "\\begin{tabular}{r|lll}\n",
       " scenario & kernel & lml\\\\\n",
       "\\hline\n",
       "\t Sales         & l+r           &    -158.81582\\\\\n",
       "\t Sales         & l+p           &   -1051.41186\\\\\n",
       "\t Sales         & p+r           &     -53.80874\\\\\n",
       "\t Sales         & l*r           &   -1129.74901\\\\\n",
       "\t Sales         & l*p           &   -1489.35883\\\\\n",
       "\t Sales         & p*r           &     -97.92928\\\\\n",
       "\t Sales         & l+r+p         &   -1046.57994\\\\\n",
       "\t Sales         & l+r*p         &     -60.04926\\\\\n",
       "\t Sales         & l*r+p         &   -1110.02837\\\\\n",
       "\t Sales         & l*p+r         & -168171.80759\\\\\n",
       "\t Sales         & l*r*p         &   -1123.86743\\\\\n",
       "\\end{tabular}\n"
      ],
      "text/markdown": [
       "\n",
       "scenario | kernel | lml | \n",
       "|---|---|---|---|---|---|---|---|---|---|---|\n",
       "| Sales         | l+r           |    -158.81582 | \n",
       "| Sales         | l+p           |   -1051.41186 | \n",
       "| Sales         | p+r           |     -53.80874 | \n",
       "| Sales         | l*r           |   -1129.74901 | \n",
       "| Sales         | l*p           |   -1489.35883 | \n",
       "| Sales         | p*r           |     -97.92928 | \n",
       "| Sales         | l+r+p         |   -1046.57994 | \n",
       "| Sales         | l+r*p         |     -60.04926 | \n",
       "| Sales         | l*r+p         |   -1110.02837 | \n",
       "| Sales         | l*p+r         | -168171.80759 | \n",
       "| Sales         | l*r*p         |   -1123.86743 | \n",
       "\n",
       "\n"
      ],
      "text/plain": [
       "   scenario kernel lml          \n",
       "1  Sales    l+r       -158.81582\n",
       "2  Sales    l+p      -1051.41186\n",
       "3  Sales    p+r        -53.80874\n",
       "4  Sales    l*r      -1129.74901\n",
       "5  Sales    l*p      -1489.35883\n",
       "6  Sales    p*r        -97.92928\n",
       "7  Sales    l+r+p    -1046.57994\n",
       "8  Sales    l+r*p      -60.04926\n",
       "9  Sales    l*r+p    -1110.02837\n",
       "10 Sales    l*p+r  -168171.80759\n",
       "11 Sales    l*r*p    -1123.86743"
      ]
     },
     "metadata": {},
     "output_type": "display_data"
    }
   ],
   "source": [
    "data %>% \n",
    "    filter(kernel != 'l', kernel != 'p', kernel != 'r') %>%\n",
    "    filter(scenario==\"Sales\")"
   ]
  },
  {
   "cell_type": "code",
   "execution_count": null,
   "metadata": {
    "collapsed": true
   },
   "outputs": [],
   "source": []
  }
 ],
 "metadata": {
  "kernelspec": {
   "display_name": "R",
   "language": "R",
   "name": "ir"
  },
  "language_info": {
   "codemirror_mode": "r",
   "file_extension": ".r",
   "mimetype": "text/x-r-source",
   "name": "R",
   "pygments_lexer": "r",
   "version": "3.3.1"
  }
 },
 "nbformat": 4,
 "nbformat_minor": 2
}
