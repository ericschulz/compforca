{
 "cells": [
  {
   "cell_type": "markdown",
   "metadata": {
    "collapsed": true
   },
   "source": [
    "# Mauna Loa example"
   ]
  },
  {
   "cell_type": "code",
   "execution_count": 90,
   "metadata": {},
   "outputs": [
    {
     "name": "stdout",
     "output_type": "stream",
     "text": [
      "Automatically created module for IPython interactive environment\n"
     ]
    }
   ],
   "source": [
    "print(__doc__)\n",
    "\n",
    "# Authors: Jan Hendrik Metzen <jhm@informatik.uni-bremen.de>\n",
    "#\n",
    "# License: BSD 3 clause\n",
    "\n",
    "import numpy as np\n",
    "\n",
    "from matplotlib import pyplot as plt\n",
    "\n",
    "from sklearn.gaussian_process import GaussianProcessRegressor\n",
    "from sklearn.gaussian_process.kernels \\\n",
    "    import RBF, WhiteKernel, RationalQuadratic, ExpSineSquared\n",
    "from sklearn.datasets import fetch_mldata\n",
    "\n",
    "data = fetch_mldata('mauna-loa-atmospheric-co2').data\n",
    "X = data[:, [1]]\n",
    "y = data[:, 0]"
   ]
  },
  {
   "cell_type": "code",
   "execution_count": 93,
   "metadata": {},
   "outputs": [
    {
     "data": {
      "text/plain": [
       "array([[ 1959.        ],\n",
       "       [ 1959.08333333],\n",
       "       [ 1959.16666667],\n",
       "       [ 1959.25      ],\n",
       "       [ 1959.33333333],\n",
       "       [ 1959.41666667],\n",
       "       [ 1959.5       ],\n",
       "       [ 1959.58333333],\n",
       "       [ 1959.66666667],\n",
       "       [ 1959.75      ],\n",
       "       [ 1959.83333333],\n",
       "       [ 1959.91666667],\n",
       "       [ 1960.        ],\n",
       "       [ 1960.08333333],\n",
       "       [ 1960.16666667],\n",
       "       [ 1960.25      ],\n",
       "       [ 1960.33333333],\n",
       "       [ 1960.41666667],\n",
       "       [ 1960.5       ],\n",
       "       [ 1960.58333333],\n",
       "       [ 1960.66666667],\n",
       "       [ 1960.75      ],\n",
       "       [ 1960.83333333],\n",
       "       [ 1960.91666667],\n",
       "       [ 1961.        ],\n",
       "       [ 1961.08333333],\n",
       "       [ 1961.16666667],\n",
       "       [ 1961.25      ],\n",
       "       [ 1961.33333333],\n",
       "       [ 1961.41666667],\n",
       "       [ 1961.5       ],\n",
       "       [ 1961.58333333],\n",
       "       [ 1961.66666667],\n",
       "       [ 1961.75      ],\n",
       "       [ 1961.83333333],\n",
       "       [ 1961.91666667],\n",
       "       [ 1962.        ],\n",
       "       [ 1962.08333333],\n",
       "       [ 1962.16666667],\n",
       "       [ 1962.25      ],\n",
       "       [ 1962.33333333],\n",
       "       [ 1962.41666667],\n",
       "       [ 1962.5       ],\n",
       "       [ 1962.58333333],\n",
       "       [ 1962.66666667],\n",
       "       [ 1962.75      ],\n",
       "       [ 1962.83333333],\n",
       "       [ 1962.91666667],\n",
       "       [ 1963.        ],\n",
       "       [ 1963.08333333],\n",
       "       [ 1963.16666667],\n",
       "       [ 1963.25      ],\n",
       "       [ 1963.33333333],\n",
       "       [ 1963.41666667],\n",
       "       [ 1963.5       ],\n",
       "       [ 1963.58333333],\n",
       "       [ 1963.66666667],\n",
       "       [ 1963.75      ],\n",
       "       [ 1963.83333333],\n",
       "       [ 1963.91666667],\n",
       "       [ 1964.        ],\n",
       "       [ 1964.08333333],\n",
       "       [ 1964.16666667],\n",
       "       [ 1964.25      ],\n",
       "       [ 1964.33333333],\n",
       "       [ 1964.41666667],\n",
       "       [ 1964.5       ],\n",
       "       [ 1964.58333333],\n",
       "       [ 1964.66666667],\n",
       "       [ 1964.75      ],\n",
       "       [ 1964.83333333],\n",
       "       [ 1964.91666667],\n",
       "       [ 1965.        ],\n",
       "       [ 1965.08333333],\n",
       "       [ 1965.16666667],\n",
       "       [ 1965.25      ],\n",
       "       [ 1965.33333333],\n",
       "       [ 1965.41666667],\n",
       "       [ 1965.5       ],\n",
       "       [ 1965.58333333],\n",
       "       [ 1965.66666667],\n",
       "       [ 1965.75      ],\n",
       "       [ 1965.83333333],\n",
       "       [ 1965.91666667],\n",
       "       [ 1966.        ],\n",
       "       [ 1966.08333333],\n",
       "       [ 1966.16666667],\n",
       "       [ 1966.25      ],\n",
       "       [ 1966.33333333],\n",
       "       [ 1966.41666667],\n",
       "       [ 1966.5       ],\n",
       "       [ 1966.58333333],\n",
       "       [ 1966.66666667],\n",
       "       [ 1966.75      ],\n",
       "       [ 1966.83333333],\n",
       "       [ 1966.91666667],\n",
       "       [ 1967.        ],\n",
       "       [ 1967.08333333],\n",
       "       [ 1967.16666667],\n",
       "       [ 1967.25      ],\n",
       "       [ 1967.33333333],\n",
       "       [ 1967.41666667],\n",
       "       [ 1967.5       ],\n",
       "       [ 1967.58333333],\n",
       "       [ 1967.66666667],\n",
       "       [ 1967.75      ],\n",
       "       [ 1967.83333333],\n",
       "       [ 1967.91666667],\n",
       "       [ 1968.        ],\n",
       "       [ 1968.08333333],\n",
       "       [ 1968.16666667],\n",
       "       [ 1968.25      ],\n",
       "       [ 1968.33333333],\n",
       "       [ 1968.41666667],\n",
       "       [ 1968.5       ],\n",
       "       [ 1968.58333333],\n",
       "       [ 1968.66666667],\n",
       "       [ 1968.75      ],\n",
       "       [ 1968.83333333],\n",
       "       [ 1968.91666667],\n",
       "       [ 1969.        ],\n",
       "       [ 1969.08333333],\n",
       "       [ 1969.16666667],\n",
       "       [ 1969.25      ],\n",
       "       [ 1969.33333333],\n",
       "       [ 1969.41666667],\n",
       "       [ 1969.5       ],\n",
       "       [ 1969.58333333],\n",
       "       [ 1969.66666667],\n",
       "       [ 1969.75      ],\n",
       "       [ 1969.83333333],\n",
       "       [ 1969.91666667],\n",
       "       [ 1970.        ],\n",
       "       [ 1970.08333333],\n",
       "       [ 1970.16666667],\n",
       "       [ 1970.25      ],\n",
       "       [ 1970.33333333],\n",
       "       [ 1970.41666667],\n",
       "       [ 1970.5       ],\n",
       "       [ 1970.58333333],\n",
       "       [ 1970.66666667],\n",
       "       [ 1970.75      ],\n",
       "       [ 1970.83333333],\n",
       "       [ 1970.91666667],\n",
       "       [ 1971.        ],\n",
       "       [ 1971.08333333],\n",
       "       [ 1971.16666667],\n",
       "       [ 1971.25      ],\n",
       "       [ 1971.33333333],\n",
       "       [ 1971.41666667],\n",
       "       [ 1971.5       ],\n",
       "       [ 1971.58333333],\n",
       "       [ 1971.66666667],\n",
       "       [ 1971.75      ],\n",
       "       [ 1971.83333333],\n",
       "       [ 1971.91666667],\n",
       "       [ 1972.        ],\n",
       "       [ 1972.08333333],\n",
       "       [ 1972.16666667],\n",
       "       [ 1972.25      ],\n",
       "       [ 1972.33333333],\n",
       "       [ 1972.41666667],\n",
       "       [ 1972.5       ],\n",
       "       [ 1972.58333333],\n",
       "       [ 1972.66666667],\n",
       "       [ 1972.75      ],\n",
       "       [ 1972.83333333],\n",
       "       [ 1972.91666667],\n",
       "       [ 1973.        ],\n",
       "       [ 1973.08333333],\n",
       "       [ 1973.16666667],\n",
       "       [ 1973.25      ],\n",
       "       [ 1973.33333333],\n",
       "       [ 1973.41666667],\n",
       "       [ 1973.5       ],\n",
       "       [ 1973.58333333],\n",
       "       [ 1973.66666667],\n",
       "       [ 1973.75      ],\n",
       "       [ 1973.83333333],\n",
       "       [ 1973.91666667],\n",
       "       [ 1974.        ],\n",
       "       [ 1974.08333333],\n",
       "       [ 1974.16666667],\n",
       "       [ 1974.25      ],\n",
       "       [ 1974.33333333],\n",
       "       [ 1974.41666667],\n",
       "       [ 1974.5       ],\n",
       "       [ 1974.58333333],\n",
       "       [ 1974.66666667],\n",
       "       [ 1974.75      ],\n",
       "       [ 1974.83333333],\n",
       "       [ 1974.91666667],\n",
       "       [ 1975.        ],\n",
       "       [ 1975.08333333],\n",
       "       [ 1975.16666667],\n",
       "       [ 1975.25      ],\n",
       "       [ 1975.33333333],\n",
       "       [ 1975.41666667],\n",
       "       [ 1975.5       ],\n",
       "       [ 1975.58333333],\n",
       "       [ 1975.66666667],\n",
       "       [ 1975.75      ],\n",
       "       [ 1975.83333333],\n",
       "       [ 1975.91666667],\n",
       "       [ 1976.        ],\n",
       "       [ 1976.08333333],\n",
       "       [ 1976.16666667],\n",
       "       [ 1976.25      ],\n",
       "       [ 1976.33333333],\n",
       "       [ 1976.41666667],\n",
       "       [ 1976.5       ],\n",
       "       [ 1976.58333333],\n",
       "       [ 1976.66666667],\n",
       "       [ 1976.75      ],\n",
       "       [ 1976.83333333],\n",
       "       [ 1976.91666667],\n",
       "       [ 1977.        ],\n",
       "       [ 1977.08333333],\n",
       "       [ 1977.16666667],\n",
       "       [ 1977.25      ],\n",
       "       [ 1977.33333333],\n",
       "       [ 1977.41666667],\n",
       "       [ 1977.5       ],\n",
       "       [ 1977.58333333],\n",
       "       [ 1977.66666667],\n",
       "       [ 1977.75      ],\n",
       "       [ 1977.83333333],\n",
       "       [ 1977.91666667],\n",
       "       [ 1978.        ],\n",
       "       [ 1978.08333333],\n",
       "       [ 1978.16666667],\n",
       "       [ 1978.25      ],\n",
       "       [ 1978.33333333],\n",
       "       [ 1978.41666667],\n",
       "       [ 1978.5       ],\n",
       "       [ 1978.58333334],\n",
       "       [ 1978.66666667],\n",
       "       [ 1978.75      ],\n",
       "       [ 1978.83333334],\n",
       "       [ 1978.91666667],\n",
       "       [ 1979.        ],\n",
       "       [ 1979.08333334],\n",
       "       [ 1979.16666667],\n",
       "       [ 1979.25      ],\n",
       "       [ 1979.33333334],\n",
       "       [ 1979.41666667],\n",
       "       [ 1979.5       ],\n",
       "       [ 1979.58333334],\n",
       "       [ 1979.66666667],\n",
       "       [ 1979.75      ],\n",
       "       [ 1979.83333334],\n",
       "       [ 1979.91666667],\n",
       "       [ 1980.        ],\n",
       "       [ 1980.08333334],\n",
       "       [ 1980.16666667],\n",
       "       [ 1980.25      ],\n",
       "       [ 1980.33333334],\n",
       "       [ 1980.41666667],\n",
       "       [ 1980.5       ],\n",
       "       [ 1980.58333334],\n",
       "       [ 1980.66666667],\n",
       "       [ 1980.75      ],\n",
       "       [ 1980.83333334],\n",
       "       [ 1980.91666667],\n",
       "       [ 1981.        ],\n",
       "       [ 1981.08333334],\n",
       "       [ 1981.16666667],\n",
       "       [ 1981.25      ],\n",
       "       [ 1981.33333334],\n",
       "       [ 1981.41666667],\n",
       "       [ 1981.5       ],\n",
       "       [ 1981.58333334],\n",
       "       [ 1981.66666667],\n",
       "       [ 1981.75      ],\n",
       "       [ 1981.83333334],\n",
       "       [ 1981.91666667],\n",
       "       [ 1982.        ],\n",
       "       [ 1982.08333334],\n",
       "       [ 1982.16666667],\n",
       "       [ 1982.25      ],\n",
       "       [ 1982.33333334],\n",
       "       [ 1982.41666667],\n",
       "       [ 1982.5       ],\n",
       "       [ 1982.58333334],\n",
       "       [ 1982.66666667],\n",
       "       [ 1982.75      ],\n",
       "       [ 1982.83333334],\n",
       "       [ 1982.91666667],\n",
       "       [ 1983.        ],\n",
       "       [ 1983.08333334],\n",
       "       [ 1983.16666667],\n",
       "       [ 1983.25      ],\n",
       "       [ 1983.33333334],\n",
       "       [ 1983.41666667],\n",
       "       [ 1983.5       ],\n",
       "       [ 1983.58333334],\n",
       "       [ 1983.66666667],\n",
       "       [ 1983.75      ],\n",
       "       [ 1983.83333334],\n",
       "       [ 1983.91666667],\n",
       "       [ 1984.        ],\n",
       "       [ 1984.08333334],\n",
       "       [ 1984.16666667],\n",
       "       [ 1984.25      ],\n",
       "       [ 1984.33333334],\n",
       "       [ 1984.41666667],\n",
       "       [ 1984.5       ],\n",
       "       [ 1984.58333334],\n",
       "       [ 1984.66666667],\n",
       "       [ 1984.75      ],\n",
       "       [ 1984.83333334],\n",
       "       [ 1984.91666667],\n",
       "       [ 1985.        ],\n",
       "       [ 1985.08333334],\n",
       "       [ 1985.16666667],\n",
       "       [ 1985.25      ],\n",
       "       [ 1985.33333334],\n",
       "       [ 1985.41666667],\n",
       "       [ 1985.5       ],\n",
       "       [ 1985.58333334],\n",
       "       [ 1985.66666667],\n",
       "       [ 1985.75      ],\n",
       "       [ 1985.83333334],\n",
       "       [ 1985.91666667],\n",
       "       [ 1986.        ],\n",
       "       [ 1986.08333334],\n",
       "       [ 1986.16666667],\n",
       "       [ 1986.25      ],\n",
       "       [ 1986.33333334],\n",
       "       [ 1986.41666667],\n",
       "       [ 1986.5       ],\n",
       "       [ 1986.58333334],\n",
       "       [ 1986.66666667],\n",
       "       [ 1986.75      ],\n",
       "       [ 1986.83333334],\n",
       "       [ 1986.91666667],\n",
       "       [ 1987.        ],\n",
       "       [ 1987.08333334],\n",
       "       [ 1987.16666667],\n",
       "       [ 1987.25      ],\n",
       "       [ 1987.33333334],\n",
       "       [ 1987.41666667],\n",
       "       [ 1987.5       ],\n",
       "       [ 1987.58333334],\n",
       "       [ 1987.66666667],\n",
       "       [ 1987.75      ],\n",
       "       [ 1987.83333334],\n",
       "       [ 1987.91666667],\n",
       "       [ 1988.        ],\n",
       "       [ 1988.08333334],\n",
       "       [ 1988.16666667],\n",
       "       [ 1988.25      ],\n",
       "       [ 1988.33333334],\n",
       "       [ 1988.41666667],\n",
       "       [ 1988.5       ],\n",
       "       [ 1988.58333334],\n",
       "       [ 1988.66666667],\n",
       "       [ 1988.75      ],\n",
       "       [ 1988.83333334],\n",
       "       [ 1988.91666667],\n",
       "       [ 1989.        ],\n",
       "       [ 1989.08333334],\n",
       "       [ 1989.16666667],\n",
       "       [ 1989.25      ],\n",
       "       [ 1989.33333334],\n",
       "       [ 1989.41666667],\n",
       "       [ 1989.5       ],\n",
       "       [ 1989.58333334],\n",
       "       [ 1989.66666667],\n",
       "       [ 1989.75      ],\n",
       "       [ 1989.83333334],\n",
       "       [ 1989.91666667],\n",
       "       [ 1990.        ],\n",
       "       [ 1990.08333334],\n",
       "       [ 1990.16666667],\n",
       "       [ 1990.25      ],\n",
       "       [ 1990.33333334],\n",
       "       [ 1990.41666667],\n",
       "       [ 1990.5       ],\n",
       "       [ 1990.58333334],\n",
       "       [ 1990.66666667],\n",
       "       [ 1990.75      ],\n",
       "       [ 1990.83333334],\n",
       "       [ 1990.91666667],\n",
       "       [ 1991.        ],\n",
       "       [ 1991.08333334],\n",
       "       [ 1991.16666667],\n",
       "       [ 1991.25      ],\n",
       "       [ 1991.33333334],\n",
       "       [ 1991.41666667],\n",
       "       [ 1991.5       ],\n",
       "       [ 1991.58333334],\n",
       "       [ 1991.66666667],\n",
       "       [ 1991.75      ],\n",
       "       [ 1991.83333334],\n",
       "       [ 1991.91666667],\n",
       "       [ 1992.        ],\n",
       "       [ 1992.08333334],\n",
       "       [ 1992.16666667],\n",
       "       [ 1992.25      ],\n",
       "       [ 1992.33333334],\n",
       "       [ 1992.41666667],\n",
       "       [ 1992.5       ],\n",
       "       [ 1992.58333334],\n",
       "       [ 1992.66666667],\n",
       "       [ 1992.75      ],\n",
       "       [ 1992.83333334],\n",
       "       [ 1992.91666667],\n",
       "       [ 1993.        ],\n",
       "       [ 1993.08333334],\n",
       "       [ 1993.16666667],\n",
       "       [ 1993.25      ],\n",
       "       [ 1993.33333334],\n",
       "       [ 1993.41666667],\n",
       "       [ 1993.5       ],\n",
       "       [ 1993.58333334],\n",
       "       [ 1993.66666667],\n",
       "       [ 1993.75      ],\n",
       "       [ 1993.83333334],\n",
       "       [ 1993.91666667],\n",
       "       [ 1994.        ],\n",
       "       [ 1994.08333334],\n",
       "       [ 1994.16666667],\n",
       "       [ 1994.25      ],\n",
       "       [ 1994.33333334],\n",
       "       [ 1994.41666667],\n",
       "       [ 1994.5       ],\n",
       "       [ 1994.58333334],\n",
       "       [ 1994.66666667],\n",
       "       [ 1994.75      ],\n",
       "       [ 1994.83333334],\n",
       "       [ 1994.91666667],\n",
       "       [ 1995.        ],\n",
       "       [ 1995.08333334],\n",
       "       [ 1995.16666667],\n",
       "       [ 1995.25      ],\n",
       "       [ 1995.33333334],\n",
       "       [ 1995.41666667],\n",
       "       [ 1995.5       ],\n",
       "       [ 1995.58333334],\n",
       "       [ 1995.66666667],\n",
       "       [ 1995.75      ],\n",
       "       [ 1995.83333334],\n",
       "       [ 1995.91666667],\n",
       "       [ 1996.        ],\n",
       "       [ 1996.08333334],\n",
       "       [ 1996.16666667],\n",
       "       [ 1996.25      ],\n",
       "       [ 1996.33333334],\n",
       "       [ 1996.41666667],\n",
       "       [ 1996.5       ],\n",
       "       [ 1996.58333334],\n",
       "       [ 1996.66666667],\n",
       "       [ 1996.75      ],\n",
       "       [ 1996.83333334],\n",
       "       [ 1996.91666667],\n",
       "       [ 1997.        ],\n",
       "       [ 1997.08333334],\n",
       "       [ 1997.16666667],\n",
       "       [ 1997.25      ],\n",
       "       [ 1997.33333334],\n",
       "       [ 1997.41666667],\n",
       "       [ 1997.5       ],\n",
       "       [ 1997.58333334],\n",
       "       [ 1997.66666667],\n",
       "       [ 1997.75      ],\n",
       "       [ 1997.83333334],\n",
       "       [ 1997.91666667]])"
      ]
     },
     "execution_count": 93,
     "metadata": {},
     "output_type": "execute_result"
    }
   ],
   "source": [
    "X"
   ]
  },
  {
   "cell_type": "code",
   "execution_count": 94,
   "metadata": {},
   "outputs": [
    {
     "data": {
      "text/plain": [
       "array([ 315.42,  316.31,  316.5 ,  317.56,  318.13,  318.  ,  316.39,\n",
       "        314.65,  313.68,  313.18,  314.66,  315.43,  316.27,  316.81,\n",
       "        317.42,  318.87,  319.87,  319.43,  318.01,  315.74,  314.  ,\n",
       "        313.68,  314.84,  316.03,  316.73,  317.54,  318.38,  319.31,\n",
       "        320.42,  319.61,  318.42,  316.63,  314.83,  315.16,  315.94,\n",
       "        316.85,  317.78,  318.4 ,  319.53,  320.42,  320.85,  320.45,\n",
       "        319.45,  317.25,  316.11,  315.27,  316.53,  317.53,  318.58,\n",
       "        318.92,  319.7 ,  321.22,  322.08,  321.31,  319.58,  317.61,\n",
       "        316.05,  315.83,  316.91,  318.2 ,  319.41,  320.07,  320.74,\n",
       "        321.4 ,  322.06,  321.73,  320.27,  318.54,  316.54,  316.71,\n",
       "        317.53,  318.55,  319.27,  320.28,  320.73,  321.97,  322.  ,\n",
       "        321.71,  321.05,  318.71,  317.66,  317.14,  318.7 ,  319.25,\n",
       "        320.46,  321.43,  322.23,  323.54,  323.91,  323.59,  322.24,\n",
       "        320.2 ,  318.48,  317.94,  319.63,  320.87,  322.17,  322.34,\n",
       "        322.88,  324.25,  324.83,  323.93,  322.38,  320.76,  319.1 ,\n",
       "        319.24,  320.56,  321.8 ,  322.4 ,  322.99,  323.73,  324.86,\n",
       "        325.4 ,  325.2 ,  323.98,  321.95,  320.18,  320.09,  321.16,\n",
       "        322.74,  323.83,  324.26,  325.47,  326.5 ,  327.21,  326.54,\n",
       "        325.72,  323.5 ,  322.22,  321.62,  322.69,  323.95,  324.89,\n",
       "        325.82,  326.77,  327.97,  327.91,  327.5 ,  326.18,  324.53,\n",
       "        322.93,  322.9 ,  323.85,  324.96,  326.01,  326.51,  327.01,\n",
       "        327.62,  328.76,  328.4 ,  327.2 ,  325.27,  323.2 ,  323.4 ,\n",
       "        324.63,  325.85,  326.6 ,  327.47,  327.58,  329.56,  329.9 ,\n",
       "        328.92,  327.88,  326.16,  324.68,  325.04,  326.34,  327.39,\n",
       "        328.37,  329.4 ,  330.14,  331.33,  332.31,  331.9 ,  330.7 ,\n",
       "        329.15,  327.35,  327.02,  327.99,  328.48,  329.18,  330.55,\n",
       "        331.32,  332.48,  332.92,  332.08,  331.01,  329.23,  327.27,\n",
       "        327.21,  328.29,  329.41,  330.23,  331.25,  331.87,  333.14,\n",
       "        333.8 ,  333.43,  331.73,  329.9 ,  328.4 ,  328.17,  329.32,\n",
       "        330.59,  331.58,  332.39,  333.33,  334.41,  334.71,  334.17,\n",
       "        332.89,  330.77,  329.14,  328.78,  330.14,  331.52,  332.75,\n",
       "        333.24,  334.53,  335.9 ,  336.57,  336.1 ,  334.76,  332.59,\n",
       "        331.42,  330.98,  332.24,  333.68,  334.8 ,  335.22,  336.47,\n",
       "        337.59,  337.84,  337.72,  336.37,  334.51,  332.6 ,  332.38,\n",
       "        333.75,  334.78,  336.05,  336.59,  337.79,  338.71,  339.3 ,\n",
       "        339.12,  337.56,  335.92,  333.75,  333.7 ,  335.12,  336.56,\n",
       "        337.84,  338.19,  339.91,  340.6 ,  341.29,  341.  ,  339.39,\n",
       "        337.43,  335.72,  335.84,  336.93,  338.04,  339.06,  340.3 ,\n",
       "        341.21,  342.33,  342.74,  342.08,  340.32,  338.26,  336.52,\n",
       "        336.68,  338.19,  339.44,  340.57,  341.44,  342.53,  343.39,\n",
       "        343.96,  343.18,  341.88,  339.65,  337.81,  337.69,  339.09,\n",
       "        340.32,  341.2 ,  342.35,  342.93,  344.77,  345.58,  345.14,\n",
       "        343.81,  342.21,  339.69,  339.82,  340.98,  342.82,  343.52,\n",
       "        344.33,  345.11,  346.88,  347.25,  346.62,  345.22,  343.11,\n",
       "        340.9 ,  341.18,  342.8 ,  344.04,  344.79,  345.82,  347.25,\n",
       "        348.17,  348.74,  348.07,  346.38,  344.51,  342.92,  342.62,\n",
       "        344.06,  345.38,  346.11,  346.78,  347.68,  349.37,  350.03,\n",
       "        349.37,  347.76,  345.73,  344.68,  343.99,  345.48,  346.72,\n",
       "        347.84,  348.29,  349.23,  350.8 ,  351.66,  351.07,  349.33,\n",
       "        347.92,  346.27,  346.18,  347.64,  348.78,  350.25,  351.54,\n",
       "        352.05,  353.41,  354.04,  353.62,  352.22,  350.27,  348.55,\n",
       "        348.72,  349.91,  351.18,  352.6 ,  352.92,  353.53,  355.26,\n",
       "        355.52,  354.97,  353.75,  351.52,  349.64,  349.83,  351.14,\n",
       "        352.37,  353.5 ,  354.55,  355.23,  356.04,  357.  ,  356.07,\n",
       "        354.67,  352.76,  350.82,  351.04,  352.69,  354.07,  354.59,\n",
       "        355.63,  357.03,  358.48,  359.22,  358.12,  356.06,  353.92,\n",
       "        352.05,  352.11,  353.64,  354.89,  355.88,  356.63,  357.72,\n",
       "        359.07,  359.58,  359.17,  356.94,  354.92,  352.94,  353.23,\n",
       "        354.09,  355.33,  356.63,  357.1 ,  358.32,  359.41,  360.23,\n",
       "        359.55,  357.53,  355.48,  353.67,  353.95,  355.3 ,  356.78,\n",
       "        358.34,  358.89,  359.95,  361.25,  361.67,  360.94,  359.55,\n",
       "        357.49,  355.84,  356.  ,  357.59,  359.05,  359.98,  361.03,\n",
       "        361.66,  363.48,  363.82,  363.3 ,  361.94,  359.5 ,  358.11,\n",
       "        357.8 ,  359.61,  360.74,  362.09,  363.29,  364.06,  364.76,\n",
       "        365.45,  365.01,  363.7 ,  361.54,  359.51,  359.65,  360.8 ,\n",
       "        362.38,  363.23,  364.06,  364.61,  366.4 ,  366.84,  365.68,\n",
       "        364.52,  362.57,  360.24,  360.83,  362.49,  364.34])"
      ]
     },
     "execution_count": 94,
     "metadata": {},
     "output_type": "execute_result"
    }
   ],
   "source": [
    "y"
   ]
  },
  {
   "cell_type": "code",
   "execution_count": 11,
   "metadata": {},
   "outputs": [
    {
     "name": "stdout",
     "output_type": "stream",
     "text": [
      "Automatically created module for IPython interactive environment\n",
      "GPML kernel: 66**2 * RBF(length_scale=67) + 2.4**2 * RBF(length_scale=90) * ExpSineSquared(length_scale=1.3, periodicity=1) + 0.66**2 * RationalQuadratic(alpha=0.78, length_scale=1.2) + 0.18**2 * RBF(length_scale=0.134) + WhiteKernel(noise_level=0.0361)\n",
      "Log-marginal-likelihood: -87.034\n",
      "\n",
      "Learned kernel: 34.5**2 * RBF(length_scale=41.8) + 3.27**2 * RBF(length_scale=180) * ExpSineSquared(length_scale=1.44, periodicity=1) + 0.446**2 * RationalQuadratic(alpha=17.6, length_scale=0.957) + 0.197**2 * RBF(length_scale=0.138) + WhiteKernel(noise_level=0.0336)\n",
      "Log-marginal-likelihood: -83.214\n"
     ]
    },
    {
     "data": {
      "image/png": "[encoded data removed]",
      "text/plain": [
       "<matplotlib.figure.Figure at 0x18ac086bf60>"
      ]
     },
     "metadata": {},
     "output_type": "display_data"
    }
   ],
   "source": [
    "# Kernel with parameters given in GPML book\n",
    "k1 = 66.0**2 * RBF(length_scale=67.0)  # long term smooth rising trend\n",
    "k2 = 2.4**2 * RBF(length_scale=90.0) \\\n",
    "    * ExpSineSquared(length_scale=1.3, periodicity=1.0)  # seasonal component\n",
    "# medium term irregularity\n",
    "k3 = 0.66**2 \\\n",
    "    * RationalQuadratic(length_scale=1.2, alpha=0.78)\n",
    "k4 = 0.18**2 * RBF(length_scale=0.134) \\\n",
    "    + WhiteKernel(noise_level=0.19**2)  # noise terms\n",
    "kernel_gpml = k1 + k2 + k3 + k4\n",
    "\n",
    "gp = GaussianProcessRegressor(kernel=kernel_gpml, alpha=0,\n",
    "                              optimizer=None, normalize_y=True)\n",
    "gp.fit(X, y)\n",
    "\n",
    "print(\"GPML kernel: %s\" % gp.kernel_)\n",
    "print(\"Log-marginal-likelihood: %.3f\"\n",
    "      % gp.log_marginal_likelihood(gp.kernel_.theta))\n",
    "\n",
    "# Kernel with optimized parameters\n",
    "k1 = 50.0**2 * RBF(length_scale=50.0)  # long term smooth rising trend\n",
    "k2 = 2.0**2 * RBF(length_scale=100.0) \\\n",
    "    * ExpSineSquared(length_scale=1.0, periodicity=1.0,\n",
    "                     periodicity_bounds=\"fixed\")  # seasonal component\n",
    "# medium term irregularities\n",
    "k3 = 0.5**2 * RationalQuadratic(length_scale=1.0, alpha=1.0)\n",
    "k4 = 0.1**2 * RBF(length_scale=0.1) \\\n",
    "    + WhiteKernel(noise_level=0.1**2,\n",
    "                  noise_level_bounds=(1e-3, np.inf))  # noise terms\n",
    "kernel = k1 + k2 + k3 + k4\n",
    "\n",
    "gp = GaussianProcessRegressor(kernel=kernel, alpha=0,\n",
    "                              normalize_y=True)\n",
    "gp.fit(X, y)\n",
    "\n",
    "print(\"\\nLearned kernel: %s\" % gp.kernel_)\n",
    "print(\"Log-marginal-likelihood: %.3f\"\n",
    "      % gp.log_marginal_likelihood(gp.kernel_.theta))\n",
    "\n",
    "X_ = np.linspace(X.min(), X.max() + 30, 1000)[:, np.newaxis]\n",
    "y_pred, y_std = gp.predict(X_, return_std=True)\n",
    "\n",
    "# Illustration\n",
    "plt.scatter(X, y, c='k')\n",
    "plt.plot(X_, y_pred)\n",
    "plt.fill_between(X_[:, 0], y_pred - y_std, y_pred + y_std,\n",
    "                 alpha=0.5, color='k')\n",
    "plt.xlim(X_.min(), X_.max())\n",
    "plt.xlabel(\"Year\")\n",
    "plt.ylabel(r\"CO$_2$ in ppm\")\n",
    "plt.title(r\"Atmospheric CO$_2$ concentration at Mauna Loa\")\n",
    "plt.tight_layout()\n",
    "plt.show()"
   ]
  },
  {
   "cell_type": "markdown",
   "metadata": {},
   "source": [
    "# Experimental data"
   ]
  },
  {
   "cell_type": "markdown",
   "metadata": {},
   "source": [
    "### Libraries"
   ]
  },
  {
   "cell_type": "code",
   "execution_count": 226,
   "metadata": {
    "collapsed": true
   },
   "outputs": [],
   "source": [
    "# Scikit learn\n",
    "import numpy as np\n",
    "\n",
    "from matplotlib import pyplot as plt\n",
    "\n",
    "from sklearn.gaussian_process import GaussianProcessRegressor\n",
    "from sklearn.gaussian_process.kernels \\\n",
    "    import RBF, WhiteKernel, RationalQuadratic, ExpSineSquared, DotProduct\n",
    "from sklearn.datasets import fetch_mldata\n",
    "\n",
    "# Others\n",
    "import csv"
   ]
  },
  {
   "cell_type": "markdown",
   "metadata": {},
   "source": [
    "### Import CSV"
   ]
  },
  {
   "cell_type": "code",
   "execution_count": 148,
   "metadata": {},
   "outputs": [],
   "source": [
    "data = np.genfromtxt(fname = \"data/for_composititional_analysis.csv\", \n",
    "                     delimiter = ',',\n",
    "                     usecols = (1,2,3,4,5),\n",
    "                     skip_header = 1,\n",
    "                     dtype=None)"
   ]
  },
  {
   "cell_type": "markdown",
   "metadata": {},
   "source": [
    "First individual"
   ]
  },
  {
   "cell_type": "code",
   "execution_count": 149,
   "metadata": {},
   "outputs": [],
   "source": [
    "first = data[data['f0'] == 1]"
   ]
  },
  {
   "cell_type": "code",
   "execution_count": 150,
   "metadata": {},
   "outputs": [],
   "source": [
    "x = first['f3']\n",
    "y = first['f4']"
   ]
  },
  {
   "cell_type": "code",
   "execution_count": 151,
   "metadata": {},
   "outputs": [],
   "source": [
    "# Transformation of array to matrix\n",
    "X = []\n",
    "for i in range(len(x)):\n",
    "    X.append([x[i]])\n",
    "X = np.array(X)"
   ]
  },
  {
   "cell_type": "markdown",
   "metadata": {},
   "source": [
    "### GP Fit"
   ]
  },
  {
   "cell_type": "markdown",
   "metadata": {},
   "source": [
    "`Documentation:`\n",
    "- [`All Kernels`](http://scikit-learn.org/stable/modules/classes.html)\n",
    "- [`Linear`]()\n",
    "- [`Periodic (aka ExpSineSquared)`](http://scikit-learn.org/stable/modules/generated/sklearn.gaussian_process.kernels.ExpSineSquared.html#sklearn.gaussian_process.kernels.ExpSineSquared)\n",
    "- [`RBF`](http://scikit-learn.org/stable/modules/generated/sklearn.gaussian_process.kernels.RBF.html#sklearn.gaussian_process.kernels.RBF)\n",
    "- [`GaussianProcessRegressor`](http://scikit-learn.org/stable/modules/gaussian_process.html)\n"
   ]
  },
  {
   "cell_type": "markdown",
   "metadata": {},
   "source": [
    "Compute GP"
   ]
  },
  {
   "cell_type": "code",
   "execution_count": 244,
   "metadata": {
    "collapsed": true
   },
   "outputs": [],
   "source": [
    "def compute(X, y, kernel):\n",
    "    gp = GaussianProcessRegressor(kernel=kernel, normalize_y=True, optimizer='fmin_l_bfgs_b')\n",
    "    gp.fit(X, y)\n",
    "\n",
    "    print(\"\\nLearned kernel: %s\" % gp.kernel_)\n",
    "    print(\"Log-marginal-likelihood: %.3f\" % gp.log_marginal_likelihood(gp.kernel_.theta))\n",
    "    return gp"
   ]
  },
  {
   "cell_type": "markdown",
   "metadata": {},
   "source": [
    "Plot GP"
   ]
  },
  {
   "cell_type": "code",
   "execution_count": 219,
   "metadata": {
    "collapsed": true
   },
   "outputs": [],
   "source": [
    "def plot_gp(X, y, gp):\n",
    "    X_ = np.linspace(X.min(), X.max() + 30, 1000)[:, np.newaxis]\n",
    "    y_pred, y_std = gp.predict(X_, return_std=True)\n",
    "\n",
    "    # Illustration\n",
    "    plt.scatter(X, y, c='k')\n",
    "    plt.plot(X_, y_pred)\n",
    "    plt.fill_between(X_[:, 0], y_pred - y_std, y_pred + y_std,\n",
    "                     alpha=0.5, color='k')\n",
    "    plt.xlim(X_.min(), X_.max())\n",
    "    plt.xlabel(\"Year\")\n",
    "    plt.ylabel(r\"CO$_2$ in ppm\")\n",
    "    plt.title(r\"Atmospheric CO$_2$ concentration at Mauna Loa\")\n",
    "    plt.tight_layout()\n",
    "    plt.show()"
   ]
  },
  {
   "cell_type": "markdown",
   "metadata": {},
   "source": [
    "Calculate"
   ]
  },
  {
   "cell_type": "code",
   "execution_count": 243,
   "metadata": {},
   "outputs": [
    {
     "ename": "LinAlgError",
     "evalue": "70-th leading minor not positive definite",
     "output_type": "error",
     "traceback": [
      "\u001b[1;31m---------------------------------------------------------------------------\u001b[0m",
      "\u001b[1;31mLinAlgError\u001b[0m                               Traceback (most recent call last)",
      "\u001b[1;32m<ipython-input-243-3495e699ff39>\u001b[0m in \u001b[0;36m<module>\u001b[1;34m()\u001b[0m\n\u001b[0;32m      1\u001b[0m \u001b[0ml\u001b[0m \u001b[1;33m=\u001b[0m \u001b[0mDotProduct\u001b[0m\u001b[1;33m(\u001b[0m\u001b[0msigma_0\u001b[0m\u001b[1;33m=\u001b[0m\u001b[1;36m1e-05\u001b[0m\u001b[1;33m)\u001b[0m\u001b[1;33m\u001b[0m\u001b[0m\n\u001b[0;32m      2\u001b[0m \u001b[0mgp\u001b[0m \u001b[1;33m=\u001b[0m \u001b[0mGaussianProcessRegressor\u001b[0m\u001b[1;33m(\u001b[0m\u001b[0mkernel\u001b[0m\u001b[1;33m=\u001b[0m\u001b[0ml\u001b[0m\u001b[1;33m,\u001b[0m \u001b[0mnormalize_y\u001b[0m\u001b[1;33m=\u001b[0m\u001b[1;32mTrue\u001b[0m\u001b[1;33m,\u001b[0m \u001b[0moptimizer\u001b[0m\u001b[1;33m=\u001b[0m\u001b[1;34m'fmin_l_bfgs_b'\u001b[0m\u001b[1;33m)\u001b[0m\u001b[1;33m\u001b[0m\u001b[0m\n\u001b[1;32m----> 3\u001b[1;33m \u001b[0mgp\u001b[0m\u001b[1;33m.\u001b[0m\u001b[0mfit\u001b[0m\u001b[1;33m(\u001b[0m\u001b[0mX\u001b[0m\u001b[1;33m,\u001b[0m \u001b[0my\u001b[0m\u001b[1;33m)\u001b[0m\u001b[1;33m\u001b[0m\u001b[0m\n\u001b[0m\u001b[0;32m      4\u001b[0m \u001b[1;33m\u001b[0m\u001b[0m\n\u001b[0;32m      5\u001b[0m \u001b[0mprint\u001b[0m\u001b[1;33m(\u001b[0m\u001b[1;34m\"\\nLearned kernel: %s\"\u001b[0m \u001b[1;33m%\u001b[0m \u001b[0mgp\u001b[0m\u001b[1;33m.\u001b[0m\u001b[0mkernel_\u001b[0m\u001b[1;33m)\u001b[0m\u001b[1;33m\u001b[0m\u001b[0m\n",
      "\u001b[1;32mC:\\Users\\panch\\Anaconda3\\lib\\site-packages\\sklearn\\gaussian_process\\gpr.py\u001b[0m in \u001b[0;36mfit\u001b[1;34m(self, X, y)\u001b[0m\n\u001b[0;32m    229\u001b[0m         \u001b[0mK\u001b[0m \u001b[1;33m=\u001b[0m \u001b[0mself\u001b[0m\u001b[1;33m.\u001b[0m\u001b[0mkernel_\u001b[0m\u001b[1;33m(\u001b[0m\u001b[0mself\u001b[0m\u001b[1;33m.\u001b[0m\u001b[0mX_train_\u001b[0m\u001b[1;33m)\u001b[0m\u001b[1;33m\u001b[0m\u001b[0m\n\u001b[0;32m    230\u001b[0m         \u001b[0mK\u001b[0m\u001b[1;33m[\u001b[0m\u001b[0mnp\u001b[0m\u001b[1;33m.\u001b[0m\u001b[0mdiag_indices_from\u001b[0m\u001b[1;33m(\u001b[0m\u001b[0mK\u001b[0m\u001b[1;33m)\u001b[0m\u001b[1;33m]\u001b[0m \u001b[1;33m+=\u001b[0m \u001b[0mself\u001b[0m\u001b[1;33m.\u001b[0m\u001b[0malpha\u001b[0m\u001b[1;33m\u001b[0m\u001b[0m\n\u001b[1;32m--> 231\u001b[1;33m         \u001b[0mself\u001b[0m\u001b[1;33m.\u001b[0m\u001b[0mL_\u001b[0m \u001b[1;33m=\u001b[0m \u001b[0mcholesky\u001b[0m\u001b[1;33m(\u001b[0m\u001b[0mK\u001b[0m\u001b[1;33m,\u001b[0m \u001b[0mlower\u001b[0m\u001b[1;33m=\u001b[0m\u001b[1;32mTrue\u001b[0m\u001b[1;33m)\u001b[0m  \u001b[1;31m# Line 2\u001b[0m\u001b[1;33m\u001b[0m\u001b[0m\n\u001b[0m\u001b[0;32m    232\u001b[0m         \u001b[0mself\u001b[0m\u001b[1;33m.\u001b[0m\u001b[0malpha_\u001b[0m \u001b[1;33m=\u001b[0m \u001b[0mcho_solve\u001b[0m\u001b[1;33m(\u001b[0m\u001b[1;33m(\u001b[0m\u001b[0mself\u001b[0m\u001b[1;33m.\u001b[0m\u001b[0mL_\u001b[0m\u001b[1;33m,\u001b[0m \u001b[1;32mTrue\u001b[0m\u001b[1;33m)\u001b[0m\u001b[1;33m,\u001b[0m \u001b[0mself\u001b[0m\u001b[1;33m.\u001b[0m\u001b[0my_train_\u001b[0m\u001b[1;33m)\u001b[0m  \u001b[1;31m# Line 3\u001b[0m\u001b[1;33m\u001b[0m\u001b[0m\n\u001b[0;32m    233\u001b[0m \u001b[1;33m\u001b[0m\u001b[0m\n",
      "\u001b[1;32mC:\\Users\\panch\\Anaconda3\\lib\\site-packages\\scipy\\linalg\\decomp_cholesky.py\u001b[0m in \u001b[0;36mcholesky\u001b[1;34m(a, lower, overwrite_a, check_finite)\u001b[0m\n\u001b[0;32m     79\u001b[0m     \"\"\"\n\u001b[0;32m     80\u001b[0m     c, lower = _cholesky(a, lower=lower, overwrite_a=overwrite_a, clean=True,\n\u001b[1;32m---> 81\u001b[1;33m                             check_finite=check_finite)\n\u001b[0m\u001b[0;32m     82\u001b[0m     \u001b[1;32mreturn\u001b[0m \u001b[0mc\u001b[0m\u001b[1;33m\u001b[0m\u001b[0m\n\u001b[0;32m     83\u001b[0m \u001b[1;33m\u001b[0m\u001b[0m\n",
      "\u001b[1;32mC:\\Users\\panch\\Anaconda3\\lib\\site-packages\\scipy\\linalg\\decomp_cholesky.py\u001b[0m in \u001b[0;36m_cholesky\u001b[1;34m(a, lower, overwrite_a, clean, check_finite)\u001b[0m\n\u001b[0;32m     28\u001b[0m     \u001b[0mc\u001b[0m\u001b[1;33m,\u001b[0m \u001b[0minfo\u001b[0m \u001b[1;33m=\u001b[0m \u001b[0mpotrf\u001b[0m\u001b[1;33m(\u001b[0m\u001b[0ma1\u001b[0m\u001b[1;33m,\u001b[0m \u001b[0mlower\u001b[0m\u001b[1;33m=\u001b[0m\u001b[0mlower\u001b[0m\u001b[1;33m,\u001b[0m \u001b[0moverwrite_a\u001b[0m\u001b[1;33m=\u001b[0m\u001b[0moverwrite_a\u001b[0m\u001b[1;33m,\u001b[0m \u001b[0mclean\u001b[0m\u001b[1;33m=\u001b[0m\u001b[0mclean\u001b[0m\u001b[1;33m)\u001b[0m\u001b[1;33m\u001b[0m\u001b[0m\n\u001b[0;32m     29\u001b[0m     \u001b[1;32mif\u001b[0m \u001b[0minfo\u001b[0m \u001b[1;33m>\u001b[0m \u001b[1;36m0\u001b[0m\u001b[1;33m:\u001b[0m\u001b[1;33m\u001b[0m\u001b[0m\n\u001b[1;32m---> 30\u001b[1;33m         \u001b[1;32mraise\u001b[0m \u001b[0mLinAlgError\u001b[0m\u001b[1;33m(\u001b[0m\u001b[1;34m\"%d-th leading minor not positive definite\"\u001b[0m \u001b[1;33m%\u001b[0m \u001b[0minfo\u001b[0m\u001b[1;33m)\u001b[0m\u001b[1;33m\u001b[0m\u001b[0m\n\u001b[0m\u001b[0;32m     31\u001b[0m     \u001b[1;32mif\u001b[0m \u001b[0minfo\u001b[0m \u001b[1;33m<\u001b[0m \u001b[1;36m0\u001b[0m\u001b[1;33m:\u001b[0m\u001b[1;33m\u001b[0m\u001b[0m\n\u001b[0;32m     32\u001b[0m         raise ValueError('illegal value in %d-th argument of internal potrf'\n",
      "\u001b[1;31mLinAlgError\u001b[0m: 70-th leading minor not positive definite"
     ]
    }
   ],
   "source": [
    "l = DotProduct(sigma_0=1e-05)\n",
    "gp = GaussianProcessRegressor(kernel=l, normalize_y=True, optimizer='fmin_l_bfgs_b')\n",
    "gp.fit(X, y)\n",
    "\n",
    "print(\"\\nLearned kernel: %s\" % gp.kernel_)\n",
    "print(\"Log-marginal-likelihood: %.3f\" % gp.log_marginal_likelihood(gp.kernel_.theta))"
   ]
  },
  {
   "cell_type": "code",
   "execution_count": 245,
   "metadata": {},
   "outputs": [
    {
     "name": "stderr",
     "output_type": "stream",
     "text": [
      "C:\\Users\\panch\\Anaconda3\\lib\\site-packages\\sklearn\\gaussian_process\\gpr.py:427: UserWarning: fmin_l_bfgs_b terminated abnormally with the  state: {'grad': array([  3.04391828e+08,  -3.00147072e+10]), 'task': b'ABNORMAL_TERMINATION_IN_LNSRCH', 'funcalls': 134, 'nit': 9, 'warnflag': 2}\n",
      "  \" state: %s\" % convergence_dict)\n"
     ]
    },
    {
     "name": "stdout",
     "output_type": "stream",
     "text": [
      "\n",
      "Learned kernel: ExpSineSquared(length_scale=1, periodicity=1)\n",
      "Log-marginal-likelihood: -74265284.158\n"
     ]
    },
    {
     "name": "stderr",
     "output_type": "stream",
     "text": [
      "C:\\Users\\panch\\Anaconda3\\lib\\site-packages\\sklearn\\gaussian_process\\gpr.py:427: UserWarning: fmin_l_bfgs_b terminated abnormally with the  state: {'grad': array([ 0.32663678]), 'task': b'ABNORMAL_TERMINATION_IN_LNSRCH', 'funcalls': 65, 'nit': 7, 'warnflag': 2}\n",
      "  \" state: %s\" % convergence_dict)\n"
     ]
    },
    {
     "name": "stdout",
     "output_type": "stream",
     "text": [
      "\n",
      "Learned kernel: RBF(length_scale=12)\n",
      "Log-marginal-likelihood: 653.505\n",
      "\n",
      "Learned kernel: ExpSineSquared(length_scale=1, periodicity=1) + RBF(length_scale=1)\n",
      "Log-marginal-likelihood: -265.186\n",
      "\n",
      "Learned kernel: ExpSineSquared(length_scale=1, periodicity=0.991) * RBF(length_scale=162)\n",
      "Log-marginal-likelihood: 990.731\n"
     ]
    },
    {
     "name": "stderr",
     "output_type": "stream",
     "text": [
      "C:\\Users\\panch\\Anaconda3\\lib\\site-packages\\sklearn\\gaussian_process\\gpr.py:427: UserWarning: fmin_l_bfgs_b terminated abnormally with the  state: {'grad': array([-335.03643486,  169.11916988,   -0.86698497]), 'task': b'ABNORMAL_TERMINATION_IN_LNSRCH', 'funcalls': 136, 'nit': 26, 'warnflag': 2}\n",
      "  \" state: %s\" % convergence_dict)\n"
     ]
    }
   ],
   "source": [
    "# Kernel with optimized parameters\n",
    "l = DotProduct(sigma_0=1e-05)\n",
    "p = ExpSineSquared()\n",
    "r = RBF()\n",
    "\n",
    "gps = {}\n",
    "\n",
    "#gps['l'] = compute(X, y, l)\n",
    "gps['p'] = compute(X, y, p)\n",
    "gps['r'] = compute(X, y, r)\n",
    "\n",
    "gps['p+r'] = compute(X, y, p+r)\n",
    "gps['p*r'] = compute(X, y, p*r)"
   ]
  },
  {
   "cell_type": "code",
   "execution_count": 246,
   "metadata": {},
   "outputs": [
    {
     "name": "stderr",
     "output_type": "stream",
     "text": [
      "C:\\Users\\panch\\Anaconda3\\lib\\site-packages\\sklearn\\gaussian_process\\gpr.py:308: UserWarning: Predicted variances smaller than 0. Setting those variances to 0.\n",
      "  warnings.warn(\"Predicted variances smaller than 0. \"\n"
     ]
    },
    {
     "data": {
      "image/png": "[encoded data removed]",
      "text/plain": [
       "<matplotlib.figure.Figure at 0x180f3309fd0>"
      ]
     },
     "metadata": {},
     "output_type": "display_data"
    }
   ],
   "source": [
    "plot_gp(X, y, gps['p'])"
   ]
  },
  {
   "cell_type": "markdown",
   "metadata": {},
   "source": [
    "Plot"
   ]
  },
  {
   "cell_type": "code",
   "execution_count": 247,
   "metadata": {},
   "outputs": [
    {
     "name": "stderr",
     "output_type": "stream",
     "text": [
      "C:\\Users\\panch\\Anaconda3\\lib\\site-packages\\sklearn\\gaussian_process\\gpr.py:308: UserWarning: Predicted variances smaller than 0. Setting those variances to 0.\n",
      "  warnings.warn(\"Predicted variances smaller than 0. \"\n"
     ]
    },
    {
     "data": {
      "image/png": "[encoded data removed]",
      "text/plain": [
       "<matplotlib.figure.Figure at 0x180f31f8da0>"
      ]
     },
     "metadata": {},
     "output_type": "display_data"
    }
   ],
   "source": [
    "plot_gp(X, y, gps['r'])"
   ]
  },
  {
   "cell_type": "code",
   "execution_count": null,
   "metadata": {
    "collapsed": true
   },
   "outputs": [],
   "source": []
  }
 ],
 "metadata": {
  "kernelspec": {
   "display_name": "Python 3",
   "language": "python",
   "name": "python3"
  },
  "language_info": {
   "codemirror_mode": {
    "name": "ipython",
    "version": 3
   },
   "file_extension": ".py",
   "mimetype": "text/x-python",
   "name": "python",
   "nbconvert_exporter": "python",
   "pygments_lexer": "ipython3",
   "version": "3.6.1"
  }
 },
 "nbformat": 4,
 "nbformat_minor": 2
}
