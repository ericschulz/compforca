{
 "cells": [
  {
   "cell_type": "markdown",
   "metadata": {},
   "source": [
    "# Catmull-Rom Analysis\n",
    "This Notebook contains all the analysis made directly on the Catmull-Rom CSV file."
   ]
  },
  {
   "cell_type": "markdown",
   "metadata": {},
   "source": [
    "## Libraries"
   ]
  },
  {
   "cell_type": "code",
   "execution_count": 129,
   "metadata": {},
   "outputs": [],
   "source": [
    "library(plyr)\n",
    "\n",
    "library(tidyverse)\n",
    "library(DT) # dependency\n",
    "library(ggthemes) # dependency\n",
    "\n",
    "library(plotly)"
   ]
  },
  {
   "cell_type": "markdown",
   "metadata": {},
   "source": [
    "## Universal functions and variables"
   ]
  },
  {
   "cell_type": "code",
   "execution_count": 130,
   "metadata": {
    "collapsed": true
   },
   "outputs": [],
   "source": [
    "scenarios <- c(\"temperature\", \"rain\", \"sales\", \"gym_memberships\", \"wage\", \"facebook_friends\")\n",
    "\n",
    "readable_scenarios <- c(\"Temperature\", \"Rain\", \"Sales\", \"Gym members\", \"Salary\", \"FB Friends\")\n",
    "\n",
    "subconditions = c(1, 2, 3)\n",
    "\n",
    "condition_names = c(\"Prior\", \"Posterior-Positive\", \"Posterior-Stable\", \"Posterior-Negative\")"
   ]
  },
  {
   "cell_type": "code",
   "execution_count": 131,
   "metadata": {
    "collapsed": true
   },
   "outputs": [],
   "source": [
    "get_range <- function(condition){\n",
    "    \n",
    "    range_array <- switch(\n",
    "            condition,\n",
    "            temperature = c(-10, 40),\n",
    "            sales = c(0, 5000),\n",
    "            facebook_friends = c(0, 1000),\n",
    "            rain = c(0, 100),\n",
    "            gym_memberships = c(0, 50),\n",
    "            wage = c(0, 50)\n",
    "        )\n",
    "    \n",
    "    range_value <- range_array[2] - range_array[1]\n",
    "    \n",
    "    delta <- range_value / 10\n",
    "    \n",
    "    c(range_array[1] - delta, range_array[2] + delta)\n",
    "}"
   ]
  },
  {
   "cell_type": "code",
   "execution_count": 132,
   "metadata": {
    "collapsed": true
   },
   "outputs": [],
   "source": [
    "to_pdf = TRUE\n",
    "\n",
    "resolution = 30"
   ]
  },
  {
   "cell_type": "markdown",
   "metadata": {},
   "source": [
    "## Preparing the data"
   ]
  },
  {
   "cell_type": "code",
   "execution_count": 133,
   "metadata": {},
   "outputs": [
    {
     "name": "stderr",
     "output_type": "stream",
     "text": [
      "Parsed with column specification:\n",
      "cols(\n",
      "  .default = col_double(),\n",
      "  userId = col_character(),\n",
      "  age = col_character(),\n",
      "  datetime = col_character(),\n",
      "  gender = col_character(),\n",
      "  datetime_1 = col_character(),\n",
      "  stage = col_integer(),\n",
      "  scenario = col_character(),\n",
      "  subcondition = col_integer(),\n",
      "  pageIndex = col_integer(),\n",
      "  noiseIndex = col_integer(),\n",
      "  day0 = col_character(),\n",
      "  day1 = col_character(),\n",
      "  day2 = col_character(),\n",
      "  day3 = col_character(),\n",
      "  day4 = col_character(),\n",
      "  day5 = col_character(),\n",
      "  day6 = col_character(),\n",
      "  day7 = col_character(),\n",
      "  day8 = col_character(),\n",
      "  day9 = col_character()\n",
      "  # ... with 69 more columns\n",
      ")\n",
      "See spec(...) for full column specifications.\n"
     ]
    }
   ],
   "source": [
    "data <- suppressWarnings(read_csv(\"data/catmull-rom-dataset.csv\"))\n",
    "\n",
    "data$noiseIndex <- data$noiseIndex+1"
   ]
  },
  {
   "cell_type": "markdown",
   "metadata": {},
   "source": [
    "### Suppress invalid participants\n",
    "- `a021`: Response in Temperature (constant -10) indicates a non-interested participant.\n",
    "- `a106`: Participant misunderstood the instructions and always added a point on the far right and far bottom.\n",
    "- `a118`: Participant indicated that he had trouble with the interface."
   ]
  },
  {
   "cell_type": "code",
   "execution_count": 134,
   "metadata": {},
   "outputs": [],
   "source": [
    "participants <- data %>%\n",
    "                select(userId, age, gender) %>%\n",
    "                unique\n",
    "\n",
    "data <- data %>%\n",
    "            filter(#userId != 'a021',\n",
    "                   userId != 'a106',\n",
    "                   userId != 'a118')"
   ]
  },
  {
   "cell_type": "markdown",
   "metadata": {},
   "source": [
    "# Tidy data (*tidyverse*)"
   ]
  },
  {
   "cell_type": "code",
   "execution_count": 135,
   "metadata": {},
   "outputs": [
    {
     "name": "stderr",
     "output_type": "stream",
     "text": [
      "Warning message in eval(substitute(expr), envir, enclos):\n",
      "\"NAs introduced by coercion\""
     ]
    }
   ],
   "source": [
    "# To tidy data\n",
    "tidy_data <- data %>% \n",
    "    gather(day, value, starts_with(\"day\"))\n",
    "\n",
    "# Transform strings to numbers\n",
    "tidy_data <- tidy_data %>%\n",
    "    mutate(day = as.numeric(gsub(\"day\", \"\", day)),\n",
    "           value = as.numeric(value))\n",
    "\n",
    "# Changes values to make them readable\n",
    "# TODO: make this tidier:\n",
    "tidy_data$subcondition_name <- mapvalues(tidy_data$subcondition,\n",
    "                                  from = subconditions,\n",
    "                                  to   = condition_names[2:4])\n",
    "\n",
    "tidy_data$condition_name <- ifelse(tidy_data$stage==1,\n",
    "                                   condition_names[1], \n",
    "                                   \"\")\n",
    "\n",
    "tidy_data$condition_name <- ifelse(tidy_data$stage == 2, \n",
    "                                   tidy_data$subcondition_name, \n",
    "                                   tidy_data$condition_name)"
   ]
  },
  {
   "cell_type": "markdown",
   "metadata": {},
   "source": [
    "# Participants"
   ]
  },
  {
   "cell_type": "code",
   "execution_count": 136,
   "metadata": {
    "collapsed": true
   },
   "outputs": [],
   "source": [
    "participants$age_number<- mapvalues(participants$age,\n",
    "                              from = c('18-25',   '26-35',   '36-45',   '46-55',   '56-65',  '66+'),\n",
    "                              to   = c((25-18)/2+18, (35-26)/2+26, (45-36)/2+36, (55-46)/2+46, (65-56)+56/2, 66))\n",
    "\n",
    "participants$age_number <- as.numeric(participants$age_number)"
   ]
  },
  {
   "cell_type": "markdown",
   "metadata": {},
   "source": [
    "### Age"
   ]
  },
  {
   "cell_type": "code",
   "execution_count": 137,
   "metadata": {},
   "outputs": [
    {
     "data": {
      "text/html": [
       "<table>\n",
       "<thead><tr><th scope=col>mean(age_number)</th><th scope=col>sd(age_number)</th></tr></thead>\n",
       "<tbody>\n",
       "\t<tr><td>34.44</td><td>9.62 </td></tr>\n",
       "</tbody>\n",
       "</table>\n"
      ],
      "text/latex": [
       "\\begin{tabular}{r|ll}\n",
       " mean(age\\_number) & sd(age\\_number)\\\\\n",
       "\\hline\n",
       "\t 34.44 & 9.62 \\\\\n",
       "\\end{tabular}\n"
      ],
      "text/markdown": [
       "\n",
       "mean(age_number) | sd(age_number) | \n",
       "|---|\n",
       "| 34.44 | 9.62  | \n",
       "\n",
       "\n"
      ],
      "text/plain": [
       "  mean(age_number) sd(age_number)\n",
       "1 34.44            9.62          "
      ]
     },
     "metadata": {},
     "output_type": "display_data"
    }
   ],
   "source": [
    "participants %>%\n",
    "    summarize(mean(age_number), sd(age_number)) %>%\n",
    "    round(2)"
   ]
  },
  {
   "cell_type": "markdown",
   "metadata": {},
   "source": [
    "### Gender"
   ]
  },
  {
   "cell_type": "code",
   "execution_count": 138,
   "metadata": {},
   "outputs": [
    {
     "data": {
      "text/html": [
       "55"
      ],
      "text/latex": [
       "55"
      ],
      "text/markdown": [
       "55"
      ],
      "text/plain": [
       "[1] 55"
      ]
     },
     "metadata": {},
     "output_type": "display_data"
    }
   ],
   "source": [
    "participants %>%\n",
    "    filter(gender == 'female') %>%\n",
    "    nrow"
   ]
  },
  {
   "cell_type": "markdown",
   "metadata": {},
   "source": [
    "### Total"
   ]
  },
  {
   "cell_type": "code",
   "execution_count": 139,
   "metadata": {},
   "outputs": [
    {
     "data": {
      "text/html": [
       "121"
      ],
      "text/latex": [
       "121"
      ],
      "text/markdown": [
       "121"
      ],
      "text/plain": [
       "[1] 121"
      ]
     },
     "metadata": {},
     "output_type": "display_data"
    }
   ],
   "source": [
    "participants %>%\n",
    "    nrow"
   ]
  },
  {
   "cell_type": "markdown",
   "metadata": {},
   "source": [
    "# Preparing the data for analysis"
   ]
  },
  {
   "cell_type": "code",
   "execution_count": 140,
   "metadata": {},
   "outputs": [],
   "source": [
    "dat <- data.frame(\n",
    "                    id        = tidy_data$userId,\n",
    "                    day       = tidy_data$day, #x\n",
    "                    value     = tidy_data$value, #y\n",
    "                    condition = tidy_data$condition_name,\n",
    "                    scenario  = tidy_data$scenario,\n",
    "                    noise     = tidy_data$noiseIndex\n",
    "                 )\n",
    "\n",
    "# Change the readable names of the variables\n",
    "dat$scenario <- mapvalues( dat$scenario, \n",
    "                           from = scenarios,\n",
    "                           to = readable_scenarios)\n",
    "\n",
    "\n",
    "# Order on the plot\n",
    "dat$condition <- factor( dat$condition, \n",
    "                         levels = condition_names)\n",
    "\n",
    "dat$scenario <- factor( dat$scenario, \n",
    "                        levels = readable_scenarios)\n",
    "\n",
    "# Subset the analysis of data\n",
    "dat <- subset(dat, day > 30 & day < 365*4-30)"
   ]
  },
  {
   "cell_type": "markdown",
   "metadata": {},
   "source": [
    "# Plots"
   ]
  },
  {
   "cell_type": "markdown",
   "metadata": {},
   "source": [
    "## Specific data for the plots"
   ]
  },
  {
   "cell_type": "code",
   "execution_count": 122,
   "metadata": {
    "collapsed": true
   },
   "outputs": [],
   "source": [
    "dplot <- subset(dat, day %in% seq(min(dat$day), max(dat$day), resolution))"
   ]
  },
  {
   "cell_type": "markdown",
   "metadata": {},
   "source": [
    "### Mean plot"
   ]
  },
  {
   "cell_type": "code",
   "execution_count": 47,
   "metadata": {
    "scrolled": false
   },
   "outputs": [
    {
     "data": {},
     "metadata": {},
     "output_type": "display_data"
    },
    {
     "data": {
      "text/html": [
       "<strong>png:</strong> 2"
      ],
      "text/latex": [
       "\\textbf{png:} 2"
      ],
      "text/markdown": [
       "**png:** 2"
      ],
      "text/plain": [
       "png \n",
       "  2 "
      ]
     },
     "metadata": {},
     "output_type": "display_data"
    }
   ],
   "source": [
    "# Mean\n",
    "trend <- dat %>%\n",
    "    ddply(~scenario+condition+day, summarize, value=mean(value, trim=0.1))\n",
    "\n",
    "trend$id <- \"1\"\n",
    "\n",
    "p1 <- dplot %>%\n",
    "        ggplot(aes(x=day, y=value, group=id)) + \n",
    "        geom_line(col=\"steelblue\", alpha=0.2) +\n",
    "        facet_grid(scenario~condition, scales=\"free_y\") +\n",
    "        theme_classic() + \n",
    "        xlab(\"Year\") + \n",
    "        ylab(\"Values with mean\") +\n",
    "        geom_line(data=trend, aes(x=day, y=value), colour=\"black\") +\n",
    "        scale_x_continuous(breaks=c(0, 365, 365*2, 365*3), labels=c('Y1', 'Y2', 'Y3', 'Y4')) +\n",
    "        geom_vline(data=filter(dplot, condition!=\"Prior\"), aes(xintercept=365), colour=\"steelblue\") +\n",
    "        theme(  text = element_text(size=12, family=\"serif\"),\n",
    "                axis.line = element_line(colour=\"black\", size=0.1),\n",
    "                panel.spacing.x = unit(0.5, \"lines\"),\n",
    "                panel.spacing.y = unit(0.8, \"lines\"),\n",
    "                panel.background = element_blank(),\n",
    "                panel.grid.major = element_blank(), \n",
    "                panel.grid.minor = element_blank(),\n",
    "                panel.border = element_rect(colour=\"black\", fill=NA, size=0.1))\n",
    "\n",
    "\n",
    "#p1\n",
    "\n",
    "svg(\"responses_with_mean.svg\")\n",
    "p1\n",
    "dev.off()"
   ]
  },
  {
   "cell_type": "markdown",
   "metadata": {
    "collapsed": true
   },
   "source": [
    "### Variance"
   ]
  },
  {
   "cell_type": "code",
   "execution_count": 52,
   "metadata": {
    "collapsed": true
   },
   "outputs": [],
   "source": [
    "trend <- dat %>%\n",
    "    ddply(~scenario+condition+day, summarize, value=var(value))\n",
    "\n",
    "trend$id <- \"1\""
   ]
  },
  {
   "cell_type": "code",
   "execution_count": 53,
   "metadata": {
    "scrolled": false
   },
   "outputs": [
    {
     "data": {},
     "metadata": {},
     "output_type": "display_data"
    },
    {
     "data": {
      "image/png": "[encoded data removed]",
      "text/plain": [
       "plot without title"
      ]
     },
     "metadata": {},
     "output_type": "display_data"
    }
   ],
   "source": [
    "p2 <- dplot %>%\n",
    "        ggplot(aes(x=day, y=value, group=id)) + \n",
    "        #geom_line(col=\"steelblue\", alpha=0.2) +\n",
    "        facet_grid(scenario~condition, scales=\"free_y\") +\n",
    "        theme_classic() + \n",
    "        xlab(\"Year\") + \n",
    "        ylab(\"Variance per day\") +\n",
    "        geom_line(data=trend, aes(x=day, y=value), colour=\"black\") +\n",
    "        scale_x_continuous(breaks=c(0, 365, 365*2, 365*3), labels=c('Y1', 'Y2', 'Y3', 'Y4')) +\n",
    "        geom_vline(data=filter(dplot, condition!=\"Prior\"), aes(xintercept=365), colour=\"steelblue\") +\n",
    "        theme(  text = element_text(size=12, family=\"serif\"),\n",
    "                axis.line = element_line(colour=\"black\", size=0.1),\n",
    "                panel.spacing.x = unit(0.5, \"lines\"),\n",
    "                panel.spacing.y = unit(0.8, \"lines\"),\n",
    "                panel.background = element_blank(),\n",
    "                panel.grid.major = element_blank(), \n",
    "                panel.grid.minor = element_blank(),\n",
    "                panel.border = element_rect(colour=\"black\", fill=NA, size=0.1))\n",
    "\n",
    "p2"
   ]
  },
  {
   "cell_type": "markdown",
   "metadata": {},
   "source": [
    "### Normalized variance"
   ]
  },
  {
   "cell_type": "code",
   "execution_count": 32,
   "metadata": {
    "collapsed": true
   },
   "outputs": [],
   "source": [
    "# Variance per scenario, condition, and day\n",
    "variances <- dat %>%\n",
    "                    group_by(scenario, condition, day) %>%\n",
    "                    summarize(value_var = var(value))"
   ]
  },
  {
   "cell_type": "code",
   "execution_count": 34,
   "metadata": {},
   "outputs": [],
   "source": [
    "norm_variances <- variances %>%\n",
    "                        group_by(condition, day) %>%\n",
    "                        mutate(scaled_value = scale(value_var))"
   ]
  },
  {
   "cell_type": "code",
   "execution_count": 36,
   "metadata": {},
   "outputs": [
    {
     "data": {
      "text/html": [
       "<table>\n",
       "<thead><tr><th scope=col>scenario</th><th scope=col>condition</th><th scope=col>day</th><th scope=col>value_var</th><th scope=col>scaled_value</th></tr></thead>\n",
       "<tbody>\n",
       "\t<tr><td>Temperature</td><td>Prior      </td><td>31         </td><td>60.40131   </td><td>-0.4169304 </td></tr>\n",
       "\t<tr><td>Temperature</td><td>Prior      </td><td>32         </td><td>59.98923   </td><td>-0.4169271 </td></tr>\n",
       "\t<tr><td>Temperature</td><td>Prior      </td><td>33         </td><td>59.57901   </td><td>-0.4169243 </td></tr>\n",
       "\t<tr><td>Temperature</td><td>Prior      </td><td>34         </td><td>59.17427   </td><td>-0.4169230 </td></tr>\n",
       "\t<tr><td>Temperature</td><td>Prior      </td><td>35         </td><td>58.77812   </td><td>-0.4169224 </td></tr>\n",
       "\t<tr><td>Temperature</td><td>Prior      </td><td>36         </td><td>58.38566   </td><td>-0.4169234 </td></tr>\n",
       "</tbody>\n",
       "</table>\n"
      ],
      "text/latex": [
       "\\begin{tabular}{r|lllll}\n",
       " scenario & condition & day & value\\_var & scaled\\_value\\\\\n",
       "\\hline\n",
       "\t Temperature & Prior       & 31          & 60.40131    & -0.4169304 \\\\\n",
       "\t Temperature & Prior       & 32          & 59.98923    & -0.4169271 \\\\\n",
       "\t Temperature & Prior       & 33          & 59.57901    & -0.4169243 \\\\\n",
       "\t Temperature & Prior       & 34          & 59.17427    & -0.4169230 \\\\\n",
       "\t Temperature & Prior       & 35          & 58.77812    & -0.4169224 \\\\\n",
       "\t Temperature & Prior       & 36          & 58.38566    & -0.4169234 \\\\\n",
       "\\end{tabular}\n"
      ],
      "text/markdown": [
       "\n",
       "scenario | condition | day | value_var | scaled_value | \n",
       "|---|---|---|---|---|---|\n",
       "| Temperature | Prior       | 31          | 60.40131    | -0.4169304  | \n",
       "| Temperature | Prior       | 32          | 59.98923    | -0.4169271  | \n",
       "| Temperature | Prior       | 33          | 59.57901    | -0.4169243  | \n",
       "| Temperature | Prior       | 34          | 59.17427    | -0.4169230  | \n",
       "| Temperature | Prior       | 35          | 58.77812    | -0.4169224  | \n",
       "| Temperature | Prior       | 36          | 58.38566    | -0.4169234  | \n",
       "\n",
       "\n"
      ],
      "text/plain": [
       "  scenario    condition day value_var scaled_value\n",
       "1 Temperature Prior     31  60.40131  -0.4169304  \n",
       "2 Temperature Prior     32  59.98923  -0.4169271  \n",
       "3 Temperature Prior     33  59.57901  -0.4169243  \n",
       "4 Temperature Prior     34  59.17427  -0.4169230  \n",
       "5 Temperature Prior     35  58.77812  -0.4169224  \n",
       "6 Temperature Prior     36  58.38566  -0.4169234  "
      ]
     },
     "metadata": {},
     "output_type": "display_data"
    }
   ],
   "source": [
    "norm_variances %>% head"
   ]
  },
  {
   "cell_type": "markdown",
   "metadata": {},
   "source": [
    "### Derivative (slope)"
   ]
  },
  {
   "cell_type": "code",
   "execution_count": 54,
   "metadata": {
    "collapsed": true
   },
   "outputs": [],
   "source": [
    "slope <- function( column ) {\n",
    "    \n",
    "    y1 = column$value[-1]\n",
    "    \n",
    "    y0 = column$value[-length(column$value)]\n",
    "    \n",
    "    return(y1-y0)\n",
    "}"
   ]
  },
  {
   "cell_type": "code",
   "execution_count": 55,
   "metadata": {
    "collapsed": true
   },
   "outputs": [],
   "source": [
    "slopes <- ddply(dat, ~condition+scenario+id, slope)\n",
    "\n",
    "slopes <- slopes %>% \n",
    "    gather(day, value, starts_with(\"V\")) %>%\n",
    "    mutate(day = as.numeric(gsub(\"V\", \"\", day)))\n",
    "\n",
    "# Order on the plot\n",
    "slopes$condition <- factor( slopes$condition, \n",
    "                         levels = condition_names)\n",
    "\n",
    "slopes$scenario <- factor( slopes$scenario, \n",
    "                        levels = readable_scenarios)"
   ]
  },
  {
   "cell_type": "code",
   "execution_count": 56,
   "metadata": {
    "collapsed": true
   },
   "outputs": [],
   "source": [
    "trend <- slopes %>%\n",
    "    ddply(~scenario+condition+day, summarize, value=mean(value))\n",
    "\n",
    "trend$id <- \"1\"\n",
    "\n",
    "slopes_plot <- subset(slopes, day %in% seq(min(dat$day), max(dat$day), resolution))"
   ]
  },
  {
   "cell_type": "code",
   "execution_count": 57,
   "metadata": {},
   "outputs": [
    {
     "data": {},
     "metadata": {},
     "output_type": "display_data"
    },
    {
     "data": {
      "image/png": "[encoded data removed]",
      "text/plain": [
       "plot without title"
      ]
     },
     "metadata": {},
     "output_type": "display_data"
    }
   ],
   "source": [
    "p3 <- slopes_plot %>%\n",
    "        ggplot(aes(x=day, y=value, group=id)) + \n",
    "        #geom_line(col=\"steelblue\", alpha=0.2) +\n",
    "        facet_grid(scenario~condition, scales=\"free_y\") +\n",
    "        theme_classic() + \n",
    "        xlab(\"Year\") + \n",
    "        ylab(\"Mean slope per day\") +\n",
    "        geom_line(data=trend, aes(x=day, y=value), colour=\"black\") +\n",
    "        scale_x_continuous(breaks=c(0, 365, 365*2, 365*3), labels=c('Y1', 'Y2', 'Y3', 'Y4')) +\n",
    "        geom_vline(data=filter(dplot, condition!=\"Prior\"), aes(xintercept=365), colour=\"steelblue\") +\n",
    "        theme(  text = element_text(size=12, family=\"serif\"),\n",
    "                axis.line = element_line(colour=\"black\", size=0.1),\n",
    "                panel.spacing.x = unit(0.5, \"lines\"),\n",
    "                panel.spacing.y = unit(0.8, \"lines\"),\n",
    "                panel.background = element_blank(),\n",
    "                panel.grid.major = element_blank(), \n",
    "                panel.grid.minor = element_blank(),\n",
    "                panel.border = element_rect(colour=\"black\", fill=NA, size=0.1))\n",
    "\n",
    "p3"
   ]
  },
  {
   "cell_type": "code",
   "execution_count": 32,
   "metadata": {},
   "outputs": [
    {
     "data": {},
     "metadata": {},
     "output_type": "display_data"
    },
    {
     "data": {
      "text/html": [
       "<strong>png:</strong> 2"
      ],
      "text/latex": [
       "\\textbf{png:} 2"
      ],
      "text/markdown": [
       "**png:** 2"
      ],
      "text/plain": [
       "png \n",
       "  2 "
      ]
     },
     "metadata": {},
     "output_type": "display_data"
    }
   ],
   "source": [
    "pdf(\"compforecasts3.pdf\")\n",
    "p1\n",
    "p2\n",
    "p3\n",
    "dev.off()"
   ]
  },
  {
   "cell_type": "markdown",
   "metadata": {},
   "source": [
    "# One person's plot"
   ]
  },
  {
   "cell_type": "code",
   "execution_count": 104,
   "metadata": {
    "collapsed": true
   },
   "outputs": [],
   "source": [
    "dat <- data.frame(\n",
    "                    id        = tidy_data$userId,\n",
    "                    day       = tidy_data$day, #x\n",
    "                    value     = tidy_data$value, #y\n",
    "                    condition = tidy_data$condition_name,\n",
    "                    scenario  = tidy_data$scenario\n",
    "                 )\n",
    "\n",
    "dat <- dat %>%\n",
    "    filter(id == 'a106')\n",
    "\n",
    "dat$condition <- factor( dat$condition, \n",
    "                         levels = c('Prior', 'Posterior-Positive', 'Posterior-Stable', 'Posterior-Negative', 'Posterior'))\n",
    "\n",
    "# Change the readable names of the variables\n",
    "dat$scenario <- mapvalues( dat$scenario, \n",
    "                           from = scenarios,\n",
    "                           to = readable_scenarios)\n",
    "\n",
    "dat[dat$condition != 'Prior', 'condition'] <- 'Posterior'\n",
    "\n",
    "dat$condition <- factor( dat$condition, \n",
    "                         levels = c('Prior', 'Posterior'))\n",
    "\n",
    "# Subset the data to be shown\n",
    "dat <- subset(dat, day > 30 & day < 365*4-30)\n",
    "\n",
    "dplot <- subset(dat, day %in% seq(min(dat$day), max(dat$day), resolution))"
   ]
  },
  {
   "cell_type": "code",
   "execution_count": 108,
   "metadata": {},
   "outputs": [
    {
     "data": {},
     "metadata": {},
     "output_type": "display_data"
    },
    {
     "data": {
      "image/png": "[encoded data removed]",
      "text/plain": [
       "plot without title"
      ]
     },
     "metadata": {},
     "output_type": "display_data"
    }
   ],
   "source": [
    "# Plot\n",
    "\n",
    "pa <- dplot %>%\n",
    "        filter(id == 'a106') %>%\n",
    "        #filter(scenario == 'rain' || scenario == 'sales' || scenario == 'temperature' ) %>%\n",
    "        ggplot(aes(x=day, y=value, group=id)) + \n",
    "        geom_line(col=\"steelblue\", alpha=1.0) +\n",
    "        facet_grid(scenario~condition, scales=\"free_y\") +\n",
    "        theme_classic() + \n",
    "        xlab(\"Year\") + \n",
    "        ylab(\"Values\") +\n",
    "        scale_x_continuous(breaks=c(0, 365, 365*2, 365*3), labels=c('Y1', 'Y2', 'Y3', 'Y4')) +\n",
    "        geom_vline(data=filter(dplot, condition!=\"Prior\"), aes(xintercept=365), colour=\"steelblue\") +\n",
    "        theme(  text = element_text(size=12, family=\"serif\"),\n",
    "                axis.line = element_line(colour=\"black\", size=0.1),\n",
    "                panel.spacing.x = unit(0.5, \"lines\"),\n",
    "                panel.spacing.y = unit(0.8, \"lines\"),\n",
    "                panel.background = element_blank(),\n",
    "                panel.grid.major = element_blank(), \n",
    "                panel.grid.minor = element_blank(),\n",
    "                panel.border = element_rect(colour=\"black\", fill=NA, size=0.1))\n",
    "\n",
    "\n",
    "pa"
   ]
  },
  {
   "cell_type": "markdown",
   "metadata": {
    "collapsed": true
   },
   "source": [
    "# Noise analysis"
   ]
  },
  {
   "cell_type": "code",
   "execution_count": 235,
   "metadata": {},
   "outputs": [],
   "source": [
    "g1 <- c( 0.7642726400978779,\n",
    "         0.59420237112108,\n",
    "         0.8045676111568967,\n",
    "         0.3616072333221285,\n",
    "         0.4333995695523616 )\n",
    "\n",
    "g2 <- c( 0.44558333713334464,\n",
    "         0.7720815219200008,\n",
    "         0.091949620524298,\n",
    "         0.3371284569763776,\n",
    "         0.8147280055034919 )\n",
    "\n",
    "g3 <- c( 0.6163862558959631,\n",
    "         0.04367949448727826,\n",
    "         0.057026095449790204,\n",
    "         0.040766425126964156,\n",
    "         0.17492704212711474 )\n",
    "\n",
    "\n",
    "# Each group was substracted by its mean\n",
    "g1 <- g1 - mean(g1)\n",
    "g2 <- g2 - mean(g2)\n",
    "g3 <- g3 - mean(g3)\n",
    "\n",
    "# And then the last two were removed\n",
    "n1 <- g1[1:3]\n",
    "n2 <- g2[1:3]\n",
    "n3 <- g3[1:3]\n",
    "\n",
    "g1 <- c(0, n1, 0)\n",
    "g2 <- c(0, n2, 0)\n",
    "g3 <- c(0, n3, 0)"
   ]
  },
  {
   "cell_type": "markdown",
   "metadata": {},
   "source": [
    "Calculting the noise profile of each group (as the mean of the absolute values)"
   ]
  },
  {
   "cell_type": "code",
   "execution_count": 240,
   "metadata": {},
   "outputs": [
    {
     "data": {
      "text/html": [
       "0.08"
      ],
      "text/latex": [
       "0.08"
      ],
      "text/markdown": [
       "0.08"
      ],
      "text/plain": [
       "[1] 0.08"
      ]
     },
     "metadata": {},
     "output_type": "display_data"
    },
    {
     "data": {
      "text/html": [
       "0.15"
      ],
      "text/latex": [
       "0.15"
      ],
      "text/markdown": [
       "0.15"
      ],
      "text/plain": [
       "[1] 0.15"
      ]
     },
     "metadata": {},
     "output_type": "display_data"
    },
    {
     "data": {
      "text/html": [
       "0.14"
      ],
      "text/latex": [
       "0.14"
      ],
      "text/markdown": [
       "0.14"
      ],
      "text/plain": [
       "[1] 0.14"
      ]
     },
     "metadata": {},
     "output_type": "display_data"
    }
   ],
   "source": [
    "round(mean(abs(g1)),2)\n",
    "round(mean(abs(g2)),2)\n",
    "round(mean(abs(g3)),2)"
   ]
  },
  {
   "cell_type": "markdown",
   "metadata": {},
   "source": [
    "Plot"
   ]
  },
  {
   "cell_type": "code",
   "execution_count": 241,
   "metadata": {},
   "outputs": [],
   "source": [
    "pdata <- rbind ( data.frame(value=g1, i=1:5, noise_group=\"1 (low)\"),\n",
    "                 data.frame(value=g2, i=1:5, noise_group=\"2 (highest)\"),\n",
    "                 data.frame(value=g3, i=1:5, noise_group=\"3 (high)\"))"
   ]
  },
  {
   "cell_type": "code",
   "execution_count": 249,
   "metadata": {},
   "outputs": [
    {
     "data": {},
     "metadata": {},
     "output_type": "display_data"
    },
    {
     "data": {
      "text/html": [
       "<strong>png:</strong> 2"
      ],
      "text/latex": [
       "\\textbf{png:} 2"
      ],
      "text/markdown": [
       "**png:** 2"
      ],
      "text/plain": [
       "png \n",
       "  2 "
      ]
     },
     "metadata": {},
     "output_type": "display_data"
    }
   ],
   "source": [
    "p <- ggplot(data=pdata, aes(x=i, y=value, group=noise_group, colour=noise_group)) +\n",
    "        geom_line(size=1) +\n",
    "        geom_point(size=3, fill=\"white\") +\n",
    "        expand_limits(y=0) +  \n",
    "        xlab(\"Position\") + ylab(\"Value\") +\n",
    "        theme_bw() +\n",
    "        #theme(legend.position=c(.9, .7)) +\n",
    "        coord_fixed(ratio = 1.3)\n",
    "\n",
    "svg(\"Images/noise_groups.svg\")\n",
    "p\n",
    "dev.off()"
   ]
  },
  {
   "cell_type": "markdown",
   "metadata": {},
   "source": [
    "## Influence per group noise"
   ]
  },
  {
   "cell_type": "markdown",
   "metadata": {},
   "source": [
    "Normalized variables"
   ]
  },
  {
   "cell_type": "code",
   "execution_count": 155,
   "metadata": {},
   "outputs": [],
   "source": [
    "norm_data <- dat %>%\n",
    "                group_by(condition, scenario) %>%\n",
    "                mutate(value_scaled = scale(value))"
   ]
  },
  {
   "cell_type": "code",
   "execution_count": 156,
   "metadata": {},
   "outputs": [
    {
     "data": {},
     "metadata": {},
     "output_type": "display_data"
    },
    {
     "data": {
      "image/png": "[encoded data removed]",
      "text/plain": [
       "plot without title"
      ]
     },
     "metadata": {},
     "output_type": "display_data"
    }
   ],
   "source": [
    "dplot <- subset(norm_data, day %in% seq(min(norm_data$day), max(norm_data$day), 30))\n",
    "\n",
    "p <- dplot %>%\n",
    "        ggplot(aes(x=day, y=value_scaled, group=id)) + \n",
    "        geom_line(col=\"steelblue\", alpha=0.2) +\n",
    "        facet_grid(scenario~condition, scales=\"free_y\") +\n",
    "        theme_classic() + \n",
    "        xlab(\"Year\") + \n",
    "        ylab(\"Values with mean\") +\n",
    "        scale_x_continuous(breaks=c(0, 365, 365*2, 365*3), labels=c('Y1', 'Y2', 'Y3', 'Y4')) +\n",
    "        geom_vline(data=filter(dplot, condition!=\"Prior\"), aes(xintercept=365), colour=\"steelblue\") +\n",
    "        theme(  text = element_text(size=12, family=\"serif\"),\n",
    "                axis.line = element_line(colour=\"black\", size=0.1),\n",
    "                panel.spacing.x = unit(0.5, \"lines\"),\n",
    "                panel.spacing.y = unit(0.8, \"lines\"),\n",
    "                panel.background = element_blank(),\n",
    "                panel.grid.major = element_blank(), \n",
    "                panel.grid.minor = element_blank(),\n",
    "                panel.border = element_rect(colour=\"black\", fill=NA, size=0.1))\n",
    "\n",
    "\n",
    "p"
   ]
  },
  {
   "cell_type": "code",
   "execution_count": 157,
   "metadata": {},
   "outputs": [
    {
     "data": {
      "text/html": [
       "<table>\n",
       "<thead><tr><th scope=col>id</th><th scope=col>day</th><th scope=col>value</th><th scope=col>condition</th><th scope=col>scenario</th><th scope=col>noise</th><th scope=col>value_scaled</th></tr></thead>\n",
       "<tbody>\n",
       "\t<tr><td>a090       </td><td>31         </td><td> -2.368124 </td><td>Prior      </td><td>Temperature</td><td>1          </td><td>-1.6432029 </td></tr>\n",
       "\t<tr><td>a090       </td><td>31         </td><td> 49.745019 </td><td>Prior      </td><td>Rain       </td><td>1          </td><td> 0.2676757 </td></tr>\n",
       "\t<tr><td>a090       </td><td>31         </td><td>554.935771 </td><td>Prior      </td><td>Sales      </td><td>1          </td><td>-1.8180913 </td></tr>\n",
       "\t<tr><td>a090       </td><td>31         </td><td> 20.785377 </td><td>Prior      </td><td>Gym members</td><td>1          </td><td>-0.5138010 </td></tr>\n",
       "\t<tr><td>a090       </td><td>31         </td><td> 14.733540 </td><td>Prior      </td><td>Salary     </td><td>1          </td><td>-0.4183688 </td></tr>\n",
       "\t<tr><td>a090       </td><td>31         </td><td>583.408399 </td><td>Prior      </td><td>FB Friends </td><td>1          </td><td> 1.0239517 </td></tr>\n",
       "</tbody>\n",
       "</table>\n"
      ],
      "text/latex": [
       "\\begin{tabular}{r|lllllll}\n",
       " id & day & value & condition & scenario & noise & value\\_scaled\\\\\n",
       "\\hline\n",
       "\t a090        & 31          &  -2.368124  & Prior       & Temperature & 1           & -1.6432029 \\\\\n",
       "\t a090        & 31          &  49.745019  & Prior       & Rain        & 1           &  0.2676757 \\\\\n",
       "\t a090        & 31          & 554.935771  & Prior       & Sales       & 1           & -1.8180913 \\\\\n",
       "\t a090        & 31          &  20.785377  & Prior       & Gym members & 1           & -0.5138010 \\\\\n",
       "\t a090        & 31          &  14.733540  & Prior       & Salary      & 1           & -0.4183688 \\\\\n",
       "\t a090        & 31          & 583.408399  & Prior       & FB Friends  & 1           &  1.0239517 \\\\\n",
       "\\end{tabular}\n"
      ],
      "text/markdown": [
       "\n",
       "id | day | value | condition | scenario | noise | value_scaled | \n",
       "|---|---|---|---|---|---|\n",
       "| a090        | 31          |  -2.368124  | Prior       | Temperature | 1           | -1.6432029  | \n",
       "| a090        | 31          |  49.745019  | Prior       | Rain        | 1           |  0.2676757  | \n",
       "| a090        | 31          | 554.935771  | Prior       | Sales       | 1           | -1.8180913  | \n",
       "| a090        | 31          |  20.785377  | Prior       | Gym members | 1           | -0.5138010  | \n",
       "| a090        | 31          |  14.733540  | Prior       | Salary      | 1           | -0.4183688  | \n",
       "| a090        | 31          | 583.408399  | Prior       | FB Friends  | 1           |  1.0239517  | \n",
       "\n",
       "\n"
      ],
      "text/plain": [
       "  id   day value      condition scenario    noise value_scaled\n",
       "1 a090 31   -2.368124 Prior     Temperature 1     -1.6432029  \n",
       "2 a090 31   49.745019 Prior     Rain        1      0.2676757  \n",
       "3 a090 31  554.935771 Prior     Sales       1     -1.8180913  \n",
       "4 a090 31   20.785377 Prior     Gym members 1     -0.5138010  \n",
       "5 a090 31   14.733540 Prior     Salary      1     -0.4183688  \n",
       "6 a090 31  583.408399 Prior     FB Friends  1      1.0239517  "
      ]
     },
     "metadata": {},
     "output_type": "display_data"
    }
   ],
   "source": [
    "norm_data %>% head"
   ]
  },
  {
   "cell_type": "markdown",
   "metadata": {},
   "source": [
    "Calculate the mean value for each group of {condition, scenario, day, noise}"
   ]
  },
  {
   "cell_type": "code",
   "execution_count": 160,
   "metadata": {},
   "outputs": [],
   "source": [
    "values_means <- norm_data %>%\n",
    "                        group_by(condition, scenario, day, noise) %>%\n",
    "                        summarize(value_mean = mean(value_scaled))"
   ]
  },
  {
   "cell_type": "markdown",
   "metadata": {},
   "source": [
    "Merge the values_means into the normalized data"
   ]
  },
  {
   "cell_type": "code",
   "execution_count": 189,
   "metadata": {},
   "outputs": [],
   "source": [
    "norm_data_2 <- merge(x = norm_data, y = values_means, by = c(\"day\", \"condition\", \"scenario\", \"noise\"), all.x = TRUE)"
   ]
  },
  {
   "cell_type": "markdown",
   "metadata": {},
   "source": [
    "Calculate the Mean Absolute error for each person, scenario, and noise group"
   ]
  },
  {
   "cell_type": "code",
   "execution_count": 194,
   "metadata": {},
   "outputs": [],
   "source": [
    "MAEs_per_person <- norm_data_2 %>%\n",
    "                    group_by(id, scenario, noise) %>%\n",
    "                    summarize(MAE = sum(abs(value_mean - value_scaled)))"
   ]
  },
  {
   "cell_type": "markdown",
   "metadata": {},
   "source": [
    "Calculate the mean of the mean absolute error"
   ]
  },
  {
   "cell_type": "code",
   "execution_count": 256,
   "metadata": {},
   "outputs": [
    {
     "data": {
      "text/html": [
       "<table>\n",
       "<thead><tr><th scope=col>scenario</th><th scope=col>noise</th><th scope=col>mean_MAE</th><th scope=col>sd_MAE</th><th scope=col>count</th></tr></thead>\n",
       "<tbody>\n",
       "\t<tr><td>Temperature</td><td>1          </td><td>1447       </td><td>655        </td><td>43         </td></tr>\n",
       "\t<tr><td>Temperature</td><td>2          </td><td>1859       </td><td>945        </td><td>42         </td></tr>\n",
       "\t<tr><td>Temperature</td><td>3          </td><td>1667       </td><td>599        </td><td>34         </td></tr>\n",
       "\t<tr><td>Rain       </td><td>1          </td><td>1429       </td><td>501        </td><td>43         </td></tr>\n",
       "\t<tr><td>Rain       </td><td>2          </td><td>2033       </td><td>943        </td><td>42         </td></tr>\n",
       "\t<tr><td>Rain       </td><td>3          </td><td>1965       </td><td>901        </td><td>34         </td></tr>\n",
       "\t<tr><td>Sales      </td><td>1          </td><td>1499       </td><td>614        </td><td>43         </td></tr>\n",
       "\t<tr><td>Sales      </td><td>2          </td><td>1997       </td><td>783        </td><td>42         </td></tr>\n",
       "\t<tr><td>Sales      </td><td>3          </td><td>1983       </td><td>749        </td><td>34         </td></tr>\n",
       "\t<tr><td>Gym members</td><td>1          </td><td>1717       </td><td>639        </td><td>43         </td></tr>\n",
       "\t<tr><td>Gym members</td><td>2          </td><td>1979       </td><td>754        </td><td>42         </td></tr>\n",
       "\t<tr><td>Gym members</td><td>3          </td><td>1958       </td><td>640        </td><td>34         </td></tr>\n",
       "\t<tr><td>Salary     </td><td>1          </td><td>1535       </td><td>573        </td><td>43         </td></tr>\n",
       "\t<tr><td>Salary     </td><td>2          </td><td>2043       </td><td>984        </td><td>42         </td></tr>\n",
       "\t<tr><td>Salary     </td><td>3          </td><td>1775       </td><td>845        </td><td>34         </td></tr>\n",
       "\t<tr><td>FB Friends </td><td>1          </td><td>1560       </td><td>604        </td><td>43         </td></tr>\n",
       "\t<tr><td>FB Friends </td><td>2          </td><td>1969       </td><td>970        </td><td>42         </td></tr>\n",
       "\t<tr><td>FB Friends </td><td>3          </td><td>1529       </td><td>891        </td><td>34         </td></tr>\n",
       "</tbody>\n",
       "</table>\n"
      ],
      "text/latex": [
       "\\begin{tabular}{r|lllll}\n",
       " scenario & noise & mean\\_MAE & sd\\_MAE & count\\\\\n",
       "\\hline\n",
       "\t Temperature & 1           & 1447        & 655         & 43         \\\\\n",
       "\t Temperature & 2           & 1859        & 945         & 42         \\\\\n",
       "\t Temperature & 3           & 1667        & 599         & 34         \\\\\n",
       "\t Rain        & 1           & 1429        & 501         & 43         \\\\\n",
       "\t Rain        & 2           & 2033        & 943         & 42         \\\\\n",
       "\t Rain        & 3           & 1965        & 901         & 34         \\\\\n",
       "\t Sales       & 1           & 1499        & 614         & 43         \\\\\n",
       "\t Sales       & 2           & 1997        & 783         & 42         \\\\\n",
       "\t Sales       & 3           & 1983        & 749         & 34         \\\\\n",
       "\t Gym members & 1           & 1717        & 639         & 43         \\\\\n",
       "\t Gym members & 2           & 1979        & 754         & 42         \\\\\n",
       "\t Gym members & 3           & 1958        & 640         & 34         \\\\\n",
       "\t Salary      & 1           & 1535        & 573         & 43         \\\\\n",
       "\t Salary      & 2           & 2043        & 984         & 42         \\\\\n",
       "\t Salary      & 3           & 1775        & 845         & 34         \\\\\n",
       "\t FB Friends  & 1           & 1560        & 604         & 43         \\\\\n",
       "\t FB Friends  & 2           & 1969        & 970         & 42         \\\\\n",
       "\t FB Friends  & 3           & 1529        & 891         & 34         \\\\\n",
       "\\end{tabular}\n"
      ],
      "text/markdown": [
       "\n",
       "scenario | noise | mean_MAE | sd_MAE | count | \n",
       "|---|---|---|---|---|---|---|---|---|---|---|---|---|---|---|---|---|---|\n",
       "| Temperature | 1           | 1447        | 655         | 43          | \n",
       "| Temperature | 2           | 1859        | 945         | 42          | \n",
       "| Temperature | 3           | 1667        | 599         | 34          | \n",
       "| Rain        | 1           | 1429        | 501         | 43          | \n",
       "| Rain        | 2           | 2033        | 943         | 42          | \n",
       "| Rain        | 3           | 1965        | 901         | 34          | \n",
       "| Sales       | 1           | 1499        | 614         | 43          | \n",
       "| Sales       | 2           | 1997        | 783         | 42          | \n",
       "| Sales       | 3           | 1983        | 749         | 34          | \n",
       "| Gym members | 1           | 1717        | 639         | 43          | \n",
       "| Gym members | 2           | 1979        | 754         | 42          | \n",
       "| Gym members | 3           | 1958        | 640         | 34          | \n",
       "| Salary      | 1           | 1535        | 573         | 43          | \n",
       "| Salary      | 2           | 2043        | 984         | 42          | \n",
       "| Salary      | 3           | 1775        | 845         | 34          | \n",
       "| FB Friends  | 1           | 1560        | 604         | 43          | \n",
       "| FB Friends  | 2           | 1969        | 970         | 42          | \n",
       "| FB Friends  | 3           | 1529        | 891         | 34          | \n",
       "\n",
       "\n"
      ],
      "text/plain": [
       "   scenario    noise mean_MAE sd_MAE count\n",
       "1  Temperature 1     1447     655    43   \n",
       "2  Temperature 2     1859     945    42   \n",
       "3  Temperature 3     1667     599    34   \n",
       "4  Rain        1     1429     501    43   \n",
       "5  Rain        2     2033     943    42   \n",
       "6  Rain        3     1965     901    34   \n",
       "7  Sales       1     1499     614    43   \n",
       "8  Sales       2     1997     783    42   \n",
       "9  Sales       3     1983     749    34   \n",
       "10 Gym members 1     1717     639    43   \n",
       "11 Gym members 2     1979     754    42   \n",
       "12 Gym members 3     1958     640    34   \n",
       "13 Salary      1     1535     573    43   \n",
       "14 Salary      2     2043     984    42   \n",
       "15 Salary      3     1775     845    34   \n",
       "16 FB Friends  1     1560     604    43   \n",
       "17 FB Friends  2     1969     970    42   \n",
       "18 FB Friends  3     1529     891    34   "
      ]
     },
     "metadata": {},
     "output_type": "display_data"
    }
   ],
   "source": [
    "MAEs <- MAEs_per_person %>%\n",
    "                    group_by(scenario, noise) %>%\n",
    "                    summarize(mean_MAE = round(mean(MAE)), sd_MAE = round(sd(MAE)), count=length(MAE))\n",
    "\n",
    "MAEs"
   ]
  },
  {
   "cell_type": "code",
   "execution_count": 257,
   "metadata": {},
   "outputs": [
    {
     "data": {
      "text/html": [
       "<table>\n",
       "<thead><tr><th scope=col>scenario</th><th scope=col>1</th><th scope=col>2</th><th scope=col>3</th></tr></thead>\n",
       "<tbody>\n",
       "\t<tr><td>Temperature</td><td>1447       </td><td>1859       </td><td>1667       </td></tr>\n",
       "\t<tr><td>Rain       </td><td>1429       </td><td>2033       </td><td>1965       </td></tr>\n",
       "\t<tr><td>Sales      </td><td>1499       </td><td>1997       </td><td>1983       </td></tr>\n",
       "\t<tr><td>Gym members</td><td>1717       </td><td>1979       </td><td>1958       </td></tr>\n",
       "\t<tr><td>Salary     </td><td>1535       </td><td>2043       </td><td>1775       </td></tr>\n",
       "\t<tr><td>FB Friends </td><td>1560       </td><td>1969       </td><td>1529       </td></tr>\n",
       "</tbody>\n",
       "</table>\n"
      ],
      "text/latex": [
       "\\begin{tabular}{r|llll}\n",
       " scenario & 1 & 2 & 3\\\\\n",
       "\\hline\n",
       "\t Temperature & 1447        & 1859        & 1667       \\\\\n",
       "\t Rain        & 1429        & 2033        & 1965       \\\\\n",
       "\t Sales       & 1499        & 1997        & 1983       \\\\\n",
       "\t Gym members & 1717        & 1979        & 1958       \\\\\n",
       "\t Salary      & 1535        & 2043        & 1775       \\\\\n",
       "\t FB Friends  & 1560        & 1969        & 1529       \\\\\n",
       "\\end{tabular}\n"
      ],
      "text/markdown": [
       "\n",
       "scenario | 1 | 2 | 3 | \n",
       "|---|---|---|---|---|---|\n",
       "| Temperature | 1447        | 1859        | 1667        | \n",
       "| Rain        | 1429        | 2033        | 1965        | \n",
       "| Sales       | 1499        | 1997        | 1983        | \n",
       "| Gym members | 1717        | 1979        | 1958        | \n",
       "| Salary      | 1535        | 2043        | 1775        | \n",
       "| FB Friends  | 1560        | 1969        | 1529        | \n",
       "\n",
       "\n"
      ],
      "text/plain": [
       "  scenario    1    2    3   \n",
       "1 Temperature 1447 1859 1667\n",
       "2 Rain        1429 2033 1965\n",
       "3 Sales       1499 1997 1983\n",
       "4 Gym members 1717 1979 1958\n",
       "5 Salary      1535 2043 1775\n",
       "6 FB Friends  1560 1969 1529"
      ]
     },
     "metadata": {},
     "output_type": "display_data"
    }
   ],
   "source": [
    "MAEs %>%\n",
    "    select(-sd_MAE, -count) %>%\n",
    "    spread(noise, mean_MAE)"
   ]
  },
  {
   "cell_type": "code",
   "execution_count": 258,
   "metadata": {},
   "outputs": [
    {
     "data": {
      "text/html": [
       "<table>\n",
       "<thead><tr><th scope=col>scenario</th><th scope=col>1</th><th scope=col>2</th><th scope=col>3</th></tr></thead>\n",
       "<tbody>\n",
       "\t<tr><td>Temperature</td><td>655        </td><td>945        </td><td>599        </td></tr>\n",
       "\t<tr><td>Rain       </td><td>501        </td><td>943        </td><td>901        </td></tr>\n",
       "\t<tr><td>Sales      </td><td>614        </td><td>783        </td><td>749        </td></tr>\n",
       "\t<tr><td>Gym members</td><td>639        </td><td>754        </td><td>640        </td></tr>\n",
       "\t<tr><td>Salary     </td><td>573        </td><td>984        </td><td>845        </td></tr>\n",
       "\t<tr><td>FB Friends </td><td>604        </td><td>970        </td><td>891        </td></tr>\n",
       "</tbody>\n",
       "</table>\n"
      ],
      "text/latex": [
       "\\begin{tabular}{r|llll}\n",
       " scenario & 1 & 2 & 3\\\\\n",
       "\\hline\n",
       "\t Temperature & 655         & 945         & 599        \\\\\n",
       "\t Rain        & 501         & 943         & 901        \\\\\n",
       "\t Sales       & 614         & 783         & 749        \\\\\n",
       "\t Gym members & 639         & 754         & 640        \\\\\n",
       "\t Salary      & 573         & 984         & 845        \\\\\n",
       "\t FB Friends  & 604         & 970         & 891        \\\\\n",
       "\\end{tabular}\n"
      ],
      "text/markdown": [
       "\n",
       "scenario | 1 | 2 | 3 | \n",
       "|---|---|---|---|---|---|\n",
       "| Temperature | 655         | 945         | 599         | \n",
       "| Rain        | 501         | 943         | 901         | \n",
       "| Sales       | 614         | 783         | 749         | \n",
       "| Gym members | 639         | 754         | 640         | \n",
       "| Salary      | 573         | 984         | 845         | \n",
       "| FB Friends  | 604         | 970         | 891         | \n",
       "\n",
       "\n"
      ],
      "text/plain": [
       "  scenario    1   2   3  \n",
       "1 Temperature 655 945 599\n",
       "2 Rain        501 943 901\n",
       "3 Sales       614 783 749\n",
       "4 Gym members 639 754 640\n",
       "5 Salary      573 984 845\n",
       "6 FB Friends  604 970 891"
      ]
     },
     "metadata": {},
     "output_type": "display_data"
    }
   ],
   "source": [
    "MAEs %>%\n",
    "    select(-mean_MAE, -count) %>%\n",
    "    spread(noise, sd_MAE)"
   ]
  },
  {
   "cell_type": "code",
   "execution_count": null,
   "metadata": {
    "collapsed": true
   },
   "outputs": [],
   "source": []
  }
 ],
 "metadata": {
  "kernelspec": {
   "display_name": "R",
   "language": "R",
   "name": "ir"
  },
  "language_info": {
   "codemirror_mode": "r",
   "file_extension": ".r",
   "mimetype": "text/x-r-source",
   "name": "R",
   "pygments_lexer": "r",
   "version": "3.3.1"
  }
 },
 "nbformat": 4,
 "nbformat_minor": 2
}
