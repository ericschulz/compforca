{
 "cells": [
  {
   "cell_type": "code",
   "execution_count": 1,
   "metadata": {
    "collapsed": true
   },
   "outputs": [],
   "source": [
    "save_posterior_grid_plot = FALSE\n",
    "\n",
    "save_damped_proportion_pdf = TRUE"
   ]
  },
  {
   "cell_type": "code",
   "execution_count": 2,
   "metadata": {},
   "outputs": [
    {
     "name": "stderr",
     "output_type": "stream",
     "text": [
      "Warning message:\n",
      "\"package 'plyr' was built under R version 3.3.3\"Warning message:\n",
      "\"package 'tidyverse' was built under R version 3.3.3\"Loading tidyverse: ggplot2\n",
      "Loading tidyverse: tibble\n",
      "Loading tidyverse: tidyr\n",
      "Loading tidyverse: readr\n",
      "Loading tidyverse: purrr\n",
      "Loading tidyverse: dplyr\n",
      "Warning message:\n",
      "\"package 'ggplot2' was built under R version 3.3.3\"Warning message:\n",
      "\"package 'tibble' was built under R version 3.3.3\"Warning message:\n",
      "\"package 'tidyr' was built under R version 3.3.3\"Warning message:\n",
      "\"package 'readr' was built under R version 3.3.3\"Warning message:\n",
      "\"package 'purrr' was built under R version 3.3.3\"Warning message:\n",
      "\"package 'dplyr' was built under R version 3.3.3\"Conflicts with tidy packages ---------------------------------------------------\n",
      "arrange():   dplyr, plyr\n",
      "compact():   purrr, plyr\n",
      "count():     dplyr, plyr\n",
      "failwith():  dplyr, plyr\n",
      "filter():    dplyr, stats\n",
      "id():        dplyr, plyr\n",
      "lag():       dplyr, stats\n",
      "mutate():    dplyr, plyr\n",
      "rename():    dplyr, plyr\n",
      "summarise(): dplyr, plyr\n",
      "summarize(): dplyr, plyr\n",
      "Warning message:\n",
      "\"package 'DT' was built under R version 3.3.3\"Warning message:\n",
      "\"package 'ggthemes' was built under R version 3.3.3\"Warning message:\n",
      "\"package 'DescTools' was built under R version 3.3.3\"Parsed with column specification:\n",
      "cols(\n",
      "  .default = col_double(),\n",
      "  userId = col_character(),\n",
      "  age = col_character(),\n",
      "  datetime = col_character(),\n",
      "  gender = col_character(),\n",
      "  datetime_1 = col_character(),\n",
      "  stage = col_integer(),\n",
      "  scenario = col_character(),\n",
      "  subcondition = col_integer(),\n",
      "  pageIndex = col_integer(),\n",
      "  noiseIndex = col_integer(),\n",
      "  day0 = col_character(),\n",
      "  day1 = col_character(),\n",
      "  day2 = col_character(),\n",
      "  day3 = col_character(),\n",
      "  day4 = col_character(),\n",
      "  day5 = col_character(),\n",
      "  day6 = col_character(),\n",
      "  day7 = col_character(),\n",
      "  day8 = col_character(),\n",
      "  day9 = col_character()\n",
      "  # ... with 69 more columns\n",
      ")\n",
      "See spec(...) for full column specifications.\n",
      "Warning message:\n",
      "\"package 'bindrcpp' was built under R version 3.3.3\"Warning message in eval(substitute(expr), envir, enclos):\n",
      "\"NAs introduced by coercion\""
     ]
    }
   ],
   "source": [
    "source(\"tools.R\")"
   ]
  },
  {
   "cell_type": "code",
   "execution_count": 14,
   "metadata": {},
   "outputs": [
    {
     "name": "stderr",
     "output_type": "stream",
     "text": [
      "Warning message:\n",
      "\"package 'gridExtra' was built under R version 3.3.3\"\n",
      "Attaching package: 'gridExtra'\n",
      "\n",
      "The following object is masked from 'package:dplyr':\n",
      "\n",
      "    combine\n",
      "\n"
     ]
    }
   ],
   "source": [
    "library(gridExtra)"
   ]
  },
  {
   "cell_type": "code",
   "execution_count": 3,
   "metadata": {
    "collapsed": true
   },
   "outputs": [],
   "source": [
    "# Charley Wu packages\n",
    "#packages <- c('plyr', 'jsonlite', 'ggplot2', 'gridExtra', 'reshape2', 'stargazer', 'coefplot', \"grid\", 'parallel', 'corrplot', 'rprojroot', 'MASS')\n",
    "#lapply(packages, require, character.only = TRUE)"
   ]
  },
  {
   "cell_type": "code",
   "execution_count": 4,
   "metadata": {
    "collapsed": true
   },
   "outputs": [],
   "source": [
    "# Kernel composition name change\n",
    "#l+r+p -> l+p+r\n",
    "#l+r*p -> l+p*r\n",
    "#l*r*p -> l*p*r\n",
    "\n",
    "readable_kernel <- function(current_kernel){\n",
    "    new_kernel <- current_kernel\n",
    "    \n",
    "    new_kernel <- ifelse(new_kernel == 'l+r+p', 'l+p+r', new_kernel)\n",
    "    new_kernel <- ifelse(new_kernel == 'l+r*p', 'l+p*r', new_kernel)\n",
    "    new_kernel <- ifelse(new_kernel == 'l*r*p', 'l*p*r', new_kernel)\n",
    "    \n",
    "    new_kernel <- gsub(\"\\\\*\", \"×\", new_kernel)\n",
    "    \n",
    "    return(new_kernel)\n",
    "}\n",
    "\n",
    "# Get the range of a scenario\n",
    "get_range <- function(scenario_name) {\n",
    "    switch( scenario_name,\n",
    "            'Temperature' = c(-10, 40),\n",
    "            'Rain' = c(0, 100),\n",
    "            'Sales' = c(0, 5000),\n",
    "            'Gym members' = c(0, 50),\n",
    "            'Salary' = c(0, 50),\n",
    "            'FB Friends' = c(0, 1000))\n",
    "}\n",
    "\n",
    "kernels  <- c(\"l\", \"p\", \"r\", \"l+p\", \"l+r\", \"p+r\", \"l*r\", \"l*p\", \"p*r\", \"l+r+p\", \"l+r*p\", \"l*r+p\", \"l*p+r\", \"l*r*p\")"
   ]
  },
  {
   "cell_type": "markdown",
   "metadata": {},
   "source": [
    "# Plotting functions"
   ]
  },
  {
   "cell_type": "code",
   "execution_count": 5,
   "metadata": {
    "collapsed": true
   },
   "outputs": [],
   "source": [
    "plot_lmls <- function(prop_data, title='', scenario, hide_x=FALSE, hide_y=FALSE, red_border=TRUE) {\n",
    "    \n",
    "    # Best-fitting real-world data kernel composition\n",
    "    rw_lmls <- read_csv(\"data/real-world/to-plot.csv\")\n",
    "    red_kernel <- (rw_lmls %>%\n",
    "                    filter(scenario == !!scenario) %>%\n",
    "                    summarize(red_kernel = kernel[which.max(lml)]))$red_kernel\n",
    "    red_kernel <- readable_kernel(red_kernel)\n",
    "\n",
    "    plot <- prop_data %>%\n",
    "                ggplot(aes(x=kernel, y=value)) +\n",
    "                    geom_bar(stat='identity') +\n",
    "                    geom_bar(stat='identity', data=prop_data %>% filter(kernel == red_kernel), alpha=0, size=0.5, color=\"red\") +\n",
    "                    coord_cartesian (ylim=c(0, 1)) +\n",
    "                    #labs(title = title) +\n",
    "                    ggthemes::theme_few() +\n",
    "                    xlab(\"Kernel composition\") +\n",
    "                    ylab(\"Likelihood\") +\n",
    "                    geom_errorbar(aes(ymin=as.numeric(lo_ci), ymax=as.numeric(hi_ci)),\n",
    "                                      width=.3,\n",
    "                                      position=position_dodge(.9)) +\n",
    "                    scale_y_continuous(breaks = seq(0, 1, length.out=3)) +\n",
    "                    theme(axis.text.x = element_text(angle = 90,  vjust = 0.5, hjust=0),\n",
    "                          text = element_text(size=12, family=\"serif\"))\n",
    "\n",
    "    if(hide_x){\n",
    "        plot <- plot + theme(axis.title.x=element_blank())\n",
    "    }\n",
    "    if(hide_y){\n",
    "        plot <- plot + theme(axis.title.y=element_blank())\n",
    "    }\n",
    "    \n",
    "    return(plot)\n",
    "}"
   ]
  },
  {
   "cell_type": "code",
   "execution_count": 57,
   "metadata": {
    "collapsed": true
   },
   "outputs": [],
   "source": [
    "plot_curves <- function(plot_data, plot_rwdata, ylab='', scenario, hide_x=FALSE, hide_y=FALSE) {\n",
    "\n",
    "    # Min and max value of the data to be shown\n",
    "    range_y <- get_range(scenario)\n",
    "    limits_y <- c( min(range_y[1], min(plot_data$value)), max(range_y[2], max(plot_data$value)))\n",
    "    \n",
    "    # Mean trend\n",
    "    trend <- plot_data %>% group_by(day) %>% summarize(mean_y = mean(value))\n",
    "    \n",
    "    # Resolution subsetting\n",
    "    resolution = 10 #smaller number is higher resolution\n",
    "    plot_data <- plot_data %>% filter((day - min(day)) %% resolution == 0)\n",
    "    trend <- trend %>% filter((day - min(day)) %% resolution == 0)\n",
    "    \n",
    "    # Plotting\n",
    "    plot <- plot_data %>%\n",
    "                ggplot(aes(x=day, y=value, group=id)) +\n",
    "                    geom_line(col=\"steelblue\", alpha=0.2) + # Participants' curves\n",
    "                    geom_line(data=plot_rwdata, aes(x=day, group=1), colour=\"red\", alpha=0.6) + # Real world data\n",
    "                    geom_line(data=trend, aes(x=day, y=mean_y, group=1), colour=\"black\") + # Mean trend\n",
    "                    #labs(title = title) +\n",
    "                    ggthemes::theme_few() +\n",
    "                    ylab(ylab) +\n",
    "                    scale_x_continuous(breaks = c(0, 365, 365*2, 365*3), labels=c('Y1', 'Y2', 'Y3', 'Y4')) +\n",
    "                    scale_y_continuous(breaks = seq(range_y[1], range_y[2], length.out=3), limits=limits_y) +\n",
    "                    theme(axis.text.x = element_text(angle = 90,  vjust = 0.5, hjust=0),\n",
    "                          axis.text.y = element_text(angle = 90,  vjust = 0.5, hjust=0.5),\n",
    "                          text = element_text(size=12, family=\"serif\"))\n",
    "\n",
    "    if(hide_x){\n",
    "        plot <- plot + theme(axis.title.x=element_blank())\n",
    "    }\n",
    "    if(hide_y){\n",
    "        plot <- plot + theme(axis.title.y=element_blank())\n",
    "    }\n",
    "    \n",
    "    return(plot)\n",
    "}"
   ]
  },
  {
   "cell_type": "markdown",
   "metadata": {},
   "source": [
    "# Prior: Kernel compositions bar plots\n",
    "\n",
    "##### Import and prepare the data"
   ]
  },
  {
   "cell_type": "code",
   "execution_count": 58,
   "metadata": {},
   "outputs": [
    {
     "name": "stderr",
     "output_type": "stream",
     "text": [
      "Warning message:\n",
      "\"Missing column names filled in: 'X1' [1]\"Parsed with column specification:\n",
      "cols(\n",
      "  X1 = col_integer(),\n",
      "  id = col_integer(),\n",
      "  pid = col_character(),\n",
      "  scenario = col_character(),\n",
      "  x = col_integer(),\n",
      "  y = col_double()\n",
      ")\n",
      "Parsed with column specification:\n",
      "cols(\n",
      "  cid = col_integer(),\n",
      "  kernel = col_character(),\n",
      "  lml = col_double(),\n",
      "  white_added = col_character(),\n",
      "  second_exception = col_character()\n",
      ")\n"
     ]
    }
   ],
   "source": [
    "data_prior <- read_csv(\"data/for_composititional_analysis_prior.csv\")\n",
    "\n",
    "# Get a \"dictionary\" of ID, PID, Scenario\n",
    "dict_prior <- data_prior %>%                        \n",
    "                        group_by(id, pid, scenario) %>%\n",
    "                        summarize()\n",
    "\n",
    "# Get the results of the LML analysis over the prior data\n",
    "prior_results <- read_csv('output/minus-mean-treatment/results_prior_lmls.csv')\n",
    "\n",
    "# Merge the results with the dictionary to have a 'full view' of the situation\n",
    "lmls_prior <- merge(prior_results, dict_prior, by.x='cid', by.y='id', all.x=TRUE)\n",
    "\n",
    "# Kernel composition name change\n",
    "lmls_prior$kernel <- readable_kernel(lmls_prior$kernel)"
   ]
  },
  {
   "cell_type": "code",
   "execution_count": 59,
   "metadata": {
    "collapsed": true
   },
   "outputs": [],
   "source": [
    "# Removes the GPs that failed to be optimized in the second time. The lmls that failed to be optimized are also removed.\n",
    "#Finaly, the lml_standard is calculated\n",
    "lmls_prior_f <- lmls_prior %>%\n",
    "                    filter(second_exception == 'False' & lml != -999999999)\n",
    "\n",
    "sds <- lmls_prior_f %>% \n",
    "            group_by(kernel, scenario) %>%\n",
    "            summarize(lo_bound = mean(lml) - 5*sd(lml), up_bound = mean(lml) + 5*sd(lml))\n",
    "\n",
    "sds$ks <- paste0(sds$kernel, sds$scenario)\n",
    "\n",
    "lmls_prior_f$ks <- paste0(lmls_prior_f$kernel, lmls_prior_f$scenario)\n",
    "\n",
    "sds$kernel <- NULL\n",
    "sds$scenario <- NULL\n",
    "\n",
    "lmls_prior_f <- merge(x = lmls_prior_f, y = sds, by = \"ks\", all.x = TRUE)"
   ]
  },
  {
   "cell_type": "markdown",
   "metadata": {},
   "source": [
    "##### Prepare the plots"
   ]
  },
  {
   "cell_type": "code",
   "execution_count": 60,
   "metadata": {},
   "outputs": [
    {
     "name": "stderr",
     "output_type": "stream",
     "text": [
      "Parsed with column specification:\n",
      "cols(\n",
      "  scenario = col_character(),\n",
      "  kernel = col_character(),\n",
      "  lml = col_double()\n",
      ")\n",
      "Parsed with column specification:\n",
      "cols(\n",
      "  scenario = col_character(),\n",
      "  kernel = col_character(),\n",
      "  lml = col_double()\n",
      ")\n",
      "Parsed with column specification:\n",
      "cols(\n",
      "  scenario = col_character(),\n",
      "  kernel = col_character(),\n",
      "  lml = col_double()\n",
      ")\n",
      "Parsed with column specification:\n",
      "cols(\n",
      "  scenario = col_character(),\n",
      "  kernel = col_character(),\n",
      "  lml = col_double()\n",
      ")\n",
      "Parsed with column specification:\n",
      "cols(\n",
      "  scenario = col_character(),\n",
      "  kernel = col_character(),\n",
      "  lml = col_double()\n",
      ")\n",
      "Parsed with column specification:\n",
      "cols(\n",
      "  scenario = col_character(),\n",
      "  kernel = col_character(),\n",
      "  lml = col_double()\n",
      ")\n"
     ]
    }
   ],
   "source": [
    "normalize_bool = TRUE\n",
    "plot_bool      = TRUE\n",
    "\n",
    "lmls_prior_ff <- lmls_prior_f %>% \n",
    "            filter(lml > -10000) %>%\n",
    "            filter(lml > lo_bound & lml < up_bound)\n",
    "\n",
    "to_plot_prior <- lmls_prior_ff %>%\n",
    "            group_by(kernel, scenario) %>%\n",
    "            summarize(value = mean(lml),\n",
    "                      lo_ci = MeanCI(lml, method=\"boot\", type=\"norm\", na.rm=TRUE)['lwr.ci'],\n",
    "                      hi_ci = MeanCI(lml, method=\"boot\", type=\"norm\", na.rm=TRUE)['upr.ci'])\n",
    "\n",
    "# Remove single components\n",
    "to_plot_prior <- to_plot_prior %>%\n",
    "                filter(kernel != 'l', kernel != 'p', kernel != 'r')\n",
    "\n",
    "# Scaling the 'data to plot' to a 0-1 range\n",
    "min_v = min(to_plot_prior$value)\n",
    "range_v = max(to_plot_prior$value) - min(to_plot_prior$value)\n",
    "\n",
    "if(normalize_bool) {\n",
    "    #Normalization\n",
    "    to_plot_prior <- to_plot_prior %>%\n",
    "                    group_by( scenario ) %>%\n",
    "                    mutate( lo_ci = (lo_ci - min(value)) / (max(value) - min(value)),\n",
    "                            hi_ci = (hi_ci - min(value)) / (max(value) - min(value)),  \n",
    "                            value = (value - min(value)) / (max(value) - min(value)))\n",
    "}\n",
    "\n",
    "# Plotting magic\n",
    "to_plot_prior$kernel <- factor(to_plot_prior$kernel, levels=readable_kernel(kernels))\n",
    "\n",
    "\n",
    "if (plot_bool) {\n",
    "    # Plots\n",
    "    p_temp   <- plot_lmls( to_plot_prior %>% filter(scenario == \"Temperature\"), scenario=\"Temperature\", hide_x=TRUE, hide_y=FALSE)\n",
    "    p_rain   <- plot_lmls( to_plot_prior %>% filter(scenario == \"Rain\"),        scenario=\"Rain\",        hide_x=TRUE, hide_y=FALSE)\n",
    "    p_sales  <- plot_lmls( to_plot_prior %>% filter(scenario == \"Sales\"),       scenario=\"Sales\",       hide_x=TRUE, hide_y=FALSE)\n",
    "    p_gym    <- plot_lmls( to_plot_prior %>% filter(scenario == \"Gym members\"), scenario=\"Gym members\", hide_x=TRUE, hide_y=FALSE)\n",
    "    p_salary <- plot_lmls( to_plot_prior %>% filter(scenario == \"Salary\"),      scenario=\"Salary\",      hide_x=TRUE, hide_y=FALSE)\n",
    "    p_fb     <- plot_lmls( to_plot_prior %>% filter(scenario == \"FB Friends\"),  scenario=\"FB Friends\",  hide_x=TRUE, hide_y=FALSE)\n",
    "\n",
    "    #pdf(\"Images/paper_images/kernels_priors_lmls_5sd.pdf\", width=8, height=4)\n",
    "    #multiplot(p1, p2, p3, p4, p5, p6, cols=3)\n",
    "    #dev.off()   \n",
    "}"
   ]
  },
  {
   "cell_type": "markdown",
   "metadata": {},
   "source": [
    "# Prior: Curves (participant's data)"
   ]
  },
  {
   "cell_type": "markdown",
   "metadata": {},
   "source": [
    "##### Plotting"
   ]
  },
  {
   "cell_type": "code",
   "execution_count": 61,
   "metadata": {},
   "outputs": [
    {
     "name": "stderr",
     "output_type": "stream",
     "text": [
      "Parsed with column specification:\n",
      "cols(\n",
      "  scenario = col_character(),\n",
      "  day = col_integer(),\n",
      "  value = col_double()\n",
      ")\n"
     ]
    }
   ],
   "source": [
    "mean_centering <- function(rwdata, dat, scenario) {\n",
    "    mean_rw <- rwdata %>% filter(scenario == !!scenario) %>% summarize(mv=mean(value))\n",
    "    \n",
    "    mean_dat <- dat %>% filter(scenario == !!scenario, condition == 'Prior') %>% summarize(mv=mean(value))    \n",
    "    \n",
    "    mean_dat$mv / mean_rw$mv\n",
    "}\n",
    "\n",
    "# Real-world data\n",
    "rwdata <- read_csv('data/real-world/splines.csv')\n",
    "\n",
    "rwdata$condition <- 'Prior' # Add column\n",
    "rwdata$id <- 1 #Create a new ID column\n",
    "rwdata <- filter(rwdata, day >= 31) # Filter out the initial days\n",
    "rwdata <- filter(rwdata, day <= 365*4 - 31) # Filter out the final days\n",
    "\n",
    "# Order\n",
    "rwdata$condition <- factor( rwdata$condition, levels = condition_names)\n",
    "rwdata$scenario <- factor( rwdata$scenario, levels = readable_scenarios)\n",
    "\n",
    "# Scale the values\n",
    "#rwdata[rwdata$scenario == 'Rain', 'day'] <- rwdata[rwdata$scenario == 'Rain', 'day'] + (365/12) * 1.5 #Offset 1.5 months to the right\n",
    "\n",
    "# Mean centering\n",
    "for (s in readable_scenarios){\n",
    "    rwdata[rwdata$scenario == s, 'value'] <- rwdata[rwdata$scenario == s, 'value'] * mean_centering(rwdata, dat, s)\n",
    "}"
   ]
  },
  {
   "cell_type": "code",
   "execution_count": 62,
   "metadata": {
    "collapsed": true
   },
   "outputs": [],
   "source": [
    "curves_plot <- function(scenario_name, ...) {\n",
    "    dat %>% \n",
    "        filter(scenario==scenario_name, condition=='Prior') %>% \n",
    "        plot_curves(rwdata %>% filter(scenario==scenario_name), scenario=scenario_name, ylab=scenario_name, ...)\n",
    "}"
   ]
  },
  {
   "cell_type": "code",
   "execution_count": 63,
   "metadata": {
    "collapsed": true
   },
   "outputs": [],
   "source": [
    "p_temp_curves   <- curves_plot('Temperature', hide_x=TRUE, hide_y=FALSE)\n",
    "p_rain_curves   <- curves_plot('Rain',        hide_x=TRUE, hide_y=FALSE)\n",
    "p_sales_curves  <- curves_plot('Sales',       hide_x=TRUE, hide_y=FALSE)\n",
    "p_gym_curves    <- curves_plot('Gym members', hide_x=TRUE, hide_y=FALSE)\n",
    "p_salary_curves <- curves_plot('Salary',      hide_x=TRUE, hide_y=FALSE)\n",
    "p_fb_curves     <- curves_plot('FB Friends',  hide_x=TRUE, hide_y=FALSE)"
   ]
  },
  {
   "cell_type": "code",
   "execution_count": 64,
   "metadata": {},
   "outputs": [
    {
     "data": {
      "text/html": [
       "<strong>png:</strong> 2"
      ],
      "text/latex": [
       "\\textbf{png:} 2"
      ],
      "text/markdown": [
       "**png:** 2"
      ],
      "text/plain": [
       "png \n",
       "  2 "
      ]
     },
     "metadata": {},
     "output_type": "display_data"
    }
   ],
   "source": [
    "if(TRUE){\n",
    "    # Save/show\n",
    "    pdf(\"Images/paper_images/grid_plot_prior.pdf\", width=6, height=10)\n",
    "    grid.arrange(p_temp_curves,   p_temp, \n",
    "                 p_rain_curves,   p_rain, \n",
    "                 p_sales_curves,  p_sales, \n",
    "                 p_gym_curves,    p_gym, \n",
    "                 p_salary_curves, p_salary, \n",
    "                 p_fb_curves,     p_fb, \n",
    "                 ncol=2)\n",
    "    dev.off()   \n",
    "}"
   ]
  },
  {
   "cell_type": "markdown",
   "metadata": {
    "collapsed": true
   },
   "source": [
    "# Posterior: Curves (participants' data)"
   ]
  },
  {
   "cell_type": "code",
   "execution_count": 50,
   "metadata": {
    "collapsed": true
   },
   "outputs": [],
   "source": [
    "plot_curves_posterior <- function(plot_data, ylab='', scenario, hide_x=FALSE, hide_y=FALSE) {\n",
    "\n",
    "    # Min and max value of the data to be shown\n",
    "    range_y <- get_range(scenario)\n",
    "    limits_y <- c( min(range_y[1], min(plot_data$value)), max(range_y[2], max(plot_data$value)))\n",
    "    \n",
    "    # Mean trend\n",
    "    trend_1 <- plot_data %>% filter(condition=='Posterior-Positive') %>% group_by(day) %>% summarize(mean_y = mean(value))\n",
    "    trend_2 <- plot_data %>% filter(condition=='Posterior-Stable') %>%   group_by(day) %>% summarize(mean_y = mean(value))\n",
    "    trend_3 <- plot_data %>% filter(condition=='Posterior-Negative') %>% group_by(day) %>% summarize(mean_y = mean(value))\n",
    "    \n",
    "    # Resolution subsetting\n",
    "    resolution = 10 #smaller number is higher resolution\n",
    "    plot_data <- plot_data %>% filter((day - min(day)) %% resolution == 0)\n",
    "    trend_1 <- trend_1 %>% filter((day - min(day)) %% resolution == 0)\n",
    "    trend_2 <- trend_2 %>% filter((day - min(day)) %% resolution == 0)\n",
    "    trend_3 <- trend_3 %>% filter((day - min(day)) %% resolution == 0)\n",
    "    \n",
    "    # Plotting\n",
    "    plot <- plot_data %>%\n",
    "                ggplot(aes(x=day, y=value, group=id)) +\n",
    "                    # Curves:\n",
    "                    geom_line(data=plot_data %>% filter(condition=='Posterior-Positive'), col=\"steelblue\", alpha=0.1) +\n",
    "                    geom_line(data=plot_data %>% filter(condition=='Posterior-Stable'),   col=\"firebrick\", alpha=0.1) +\n",
    "                    geom_line(data=plot_data %>% filter(condition=='Posterior-Negative'), col=\"olivedrab\", alpha=0.1) +\n",
    "                    \n",
    "                    # Mean curves\n",
    "                    geom_line(data=trend_1, aes(x=day, y=mean_y, group=1), colour=\"blue\") +\n",
    "                    geom_line(data=trend_2, aes(x=day, y=mean_y, group=1), colour=\"red\") +\n",
    "                    geom_line(data=trend_3, aes(x=day, y=mean_y, group=1), colour=\"darkgreen\") +\n",
    "                    \n",
    "                    # Vertical line (end of evidence mark)\n",
    "                    geom_vline(aes(xintercept=365-31), colour='black') +\n",
    "    \n",
    "                    ggthemes::theme_few() +\n",
    "                    ylab(ylab) +\n",
    "                    scale_x_continuous(breaks = c(0, 365, 365*2, 365*3), labels=c('Y1', 'Y2', 'Y3', 'Y4')) +\n",
    "                    scale_y_continuous(breaks = seq(range_y[1], range_y[2], length.out=3), limits=limits_y) +\n",
    "                    theme(axis.text.x = element_text(angle = 90,  vjust = 0.5, hjust=0),\n",
    "                          axis.text.y = element_text(angle = 90,  vjust = 0.5, hjust=0.5),\n",
    "                          text = element_text(size=12, family=\"serif\"))\n",
    "\n",
    "    if(hide_x){\n",
    "        plot <- plot + theme(axis.title.x=element_blank())\n",
    "    }\n",
    "    if(hide_y){\n",
    "        plot <- plot + theme(axis.title.y=element_blank())\n",
    "    }\n",
    "    \n",
    "    return(plot)\n",
    "}\n",
    "    \n",
    "curves_plot_posterior <- function(scenario_name, ...) {\n",
    "    dat %>% \n",
    "        filter(scenario==scenario_name, condition!='Prior') %>% \n",
    "        plot_curves_posterior(scenario=scenario_name, ylab=scenario_name, ...)\n",
    "}"
   ]
  },
  {
   "cell_type": "code",
   "execution_count": 51,
   "metadata": {
    "collapsed": true
   },
   "outputs": [],
   "source": [
    "posterior_curves_temp <- curves_plot_posterior('Temperature', hide_x=TRUE, hide_y=FALSE)\n",
    "posterior_curves_rain <- curves_plot_posterior('Rain',        hide_x=TRUE, hide_y=FALSE)\n",
    "posterior_curves_sale <- curves_plot_posterior('Sales',       hide_x=TRUE, hide_y=FALSE)\n",
    "posterior_curves_gymm <- curves_plot_posterior('Gym members', hide_x=TRUE, hide_y=FALSE)\n",
    "posterior_curves_slry <- curves_plot_posterior('Salary',      hide_x=TRUE, hide_y=FALSE)\n",
    "posterior_curves_fbfr <- curves_plot_posterior('FB Friends',  hide_x=TRUE, hide_y=FALSE)"
   ]
  },
  {
   "cell_type": "markdown",
   "metadata": {},
   "source": [
    "# Posterior: Performance. Prediction against participant's results"
   ]
  },
  {
   "cell_type": "markdown",
   "metadata": {},
   "source": [
    "##### Importing the posterior kernel composition data"
   ]
  },
  {
   "cell_type": "code",
   "execution_count": 52,
   "metadata": {
    "collapsed": true
   },
   "outputs": [],
   "source": [
    "#Returns the data (after double filtering)\n",
    "get_filtered_data <- function(src_lmls, src_dict) {\n",
    "    lmls_posterior <- read_csv(\"output/minus-mean-treatment/results_posterior_lmls.csv\")\n",
    "\n",
    "    # To add the 'scenario' column\n",
    "    data_posterior <- read_csv(\"data/for_composititional_analysis_posterior.csv\")\n",
    "\n",
    "\n",
    "    # Posterior \"dictionary\"\n",
    "    dict_posterior <- data_posterior %>%                        \n",
    "                            group_by(id, pid, scenario, condition) %>%\n",
    "                            summarize()\n",
    "\n",
    "    lmls_posterior <- merge(x = lmls_posterior, y = dict_posterior, by = c(\"id\", \"id\"), all.x = TRUE)\n",
    "\n",
    "    # Removing unusable data, and standardizing.\n",
    "    lmls_posterior_f <- lmls_posterior %>%\n",
    "                        filter(second_exception == 'False' & lml != -999999999) %>%\n",
    "                        group_by(pid, scenario) %>%\n",
    "                        mutate(lml_minus_min = lml - min(lml),\n",
    "                               lml_standard = lml_minus_min / (max(lml_minus_min) - min (lml_minus_min)))\n",
    "\n",
    "    # Standard deviations calculation\n",
    "    sds <- lmls_posterior_f %>% \n",
    "                group_by(kernel, scenario) %>%\n",
    "                summarize(lo_bound = mean(lml) - 5*sd(lml), up_bound = mean(lml) + 5*sd(lml))\n",
    "\n",
    "    sds$ks <- paste0(sds$kernel, sds$scenario)\n",
    "\n",
    "    lmls_posterior_f$ks <- paste0(lmls_posterior_f$kernel, lmls_posterior_f$scenario)\n",
    "\n",
    "    sds$kernel <- NULL\n",
    "    sds$scenario <- NULL\n",
    "\n",
    "    lmls_posterior_f <- merge(x = lmls_posterior_f, y = sds, by = \"ks\", all.x = TRUE)\n",
    "\n",
    "    lmls_posterior_ff <- lmls_posterior_f %>%\n",
    "                filter(lml > -10000) %>%\n",
    "                filter(lml > lo_bound & lml < up_bound)\n",
    "    \n",
    "    return (lmls_posterior_ff)\n",
    "}"
   ]
  },
  {
   "cell_type": "code",
   "execution_count": 53,
   "metadata": {},
   "outputs": [
    {
     "name": "stderr",
     "output_type": "stream",
     "text": [
      "Parsed with column specification:\n",
      "cols(\n",
      "  id = col_integer(),\n",
      "  kernel = col_character(),\n",
      "  lml = col_double(),\n",
      "  white_added = col_character(),\n",
      "  second_exception = col_character()\n",
      ")\n",
      "Warning message:\n",
      "\"Missing column names filled in: 'X1' [1]\"Parsed with column specification:\n",
      "cols(\n",
      "  X1 = col_integer(),\n",
      "  id = col_integer(),\n",
      "  pid = col_character(),\n",
      "  scenario = col_character(),\n",
      "  x = col_integer(),\n",
      "  y = col_double(),\n",
      "  condition = col_character()\n",
      ")\n"
     ]
    }
   ],
   "source": [
    "lmls_posterior_ff <- get_filtered_data( \"output/minus-mean-treatment/results_posterior_lmls.csv\",\n",
    "                                        \"data/for_composititional_analysis_posterior.csv\" )"
   ]
  },
  {
   "cell_type": "markdown",
   "metadata": {},
   "source": [
    "###### Importing the predictions"
   ]
  },
  {
   "cell_type": "code",
   "execution_count": 54,
   "metadata": {},
   "outputs": [
    {
     "name": "stderr",
     "output_type": "stream",
     "text": [
      "Parsed with column specification:\n",
      "cols(\n",
      "  pid = col_integer(),\n",
      "  composition = col_character(),\n",
      "  Xpredictions = col_double(),\n",
      "  predictions_mean = col_character(),\n",
      "  predictions_var = col_character()\n",
      ")\n"
     ]
    },
    {
     "ename": "ERROR",
     "evalue": "Error in select(., cid = pid, kernel = composition, day = Xpredictions, : unused arguments (cid = pid, kernel = composition, day = Xpredictions, value)\n",
     "output_type": "error",
     "traceback": [
      "Error in select(., cid = pid, kernel = composition, day = Xpredictions, : unused arguments (cid = pid, kernel = composition, day = Xpredictions, value)\nTraceback:\n",
      "1. predictions_csv %>% mutate(value = as.numeric(substring(predictions_mean, \n .     2, nchar(predictions_mean) - 1))) %>% select(cid = pid, kernel = composition, \n .     day = Xpredictions, value)",
      "2. withVisible(eval(quote(`_fseq`(`_lhs`)), env, env))",
      "3. eval(quote(`_fseq`(`_lhs`)), env, env)",
      "4. eval(expr, envir, enclos)",
      "5. `_fseq`(`_lhs`)",
      "6. freduce(value, `_function_list`)",
      "7. withVisible(function_list[[k]](value))",
      "8. function_list[[k]](value)",
      "9. select(., cid = pid, kernel = composition, day = Xpredictions, \n .     value)"
     ]
    }
   ],
   "source": [
    "# Import the predictions\n",
    "predictions_csv <- read_csv('output/minus-mean-treatment/results_posterior_predictions.csv')\n",
    "\n",
    "predictions <- predictions_csv %>%\n",
    "                    mutate(value = as.numeric(substring(predictions_mean, 2, nchar(predictions_mean)-1))) %>%\n",
    "                    select(cid = pid, kernel = composition, day = Xpredictions, value)"
   ]
  },
  {
   "cell_type": "code",
   "execution_count": null,
   "metadata": {},
   "outputs": [],
   "source": [
    "# Add the subtracted mean of the 'evidence' data\n",
    "posterior_means <- read_csv(\"data/for_composititional_analysis_posterior.csv\") %>% #data_posterior\n",
    "                        filter(x <= 365-31) %>%\n",
    "                        group_by(id) %>%\n",
    "                        summarize(mean_cid = mean(y))\n",
    "\n",
    "predictions <- merge(x=predictions, y=posterior_means, by.x='cid', by.y='id', all.x=TRUE)\n",
    "\n",
    "predictions <- predictions %>% \n",
    "                    mutate(value = value + mean_cid) %>%\n",
    "                    select(-mean_cid)"
   ]
  },
  {
   "cell_type": "code",
   "execution_count": null,
   "metadata": {},
   "outputs": [],
   "source": [
    "predictions %>% select(cid) %>% unique %>% nrow\n",
    "\n",
    "predictions %>% select(cid, kernel) %>% unique %>% nrow"
   ]
  },
  {
   "cell_type": "markdown",
   "metadata": {},
   "source": [
    "##### Merging and filtering the datasets"
   ]
  },
  {
   "cell_type": "code",
   "execution_count": null,
   "metadata": {
    "collapsed": true
   },
   "outputs": [],
   "source": [
    "# Sequence of days to analyze:\n",
    "sequence = seq(365-31 + 2, 1426, 5)"
   ]
  },
  {
   "cell_type": "code",
   "execution_count": null,
   "metadata": {
    "collapsed": true
   },
   "outputs": [],
   "source": [
    "# Inner join. \n",
    "# This is the predictions data merged with the best performing (and filtered) kernels in the posterior condition\n",
    "pred <- merge( \n",
    "            # Predictions (full-Bayesian):\n",
    "            x = predictions %>%\n",
    "                    filter(day %in% sequence),\n",
    "\n",
    "            # Kernels after the filters:\n",
    "            y = lmls_posterior_ff %>%\n",
    "                    select(cid=id, pid, scenario, kernel, lml),\n",
    "\n",
    "            by = c('cid', 'kernel')\n",
    ")\n",
    "\n",
    "# Participants' data\n",
    "participants_data <- dat %>% \n",
    "                        filter(day > 365-31, #remove evidence\n",
    "                               condition != 'Prior', #only Posterior conditions\n",
    "                               day %in% sequence) %>%\n",
    "                        select(pid = id, day, value_participant=value, scenario, condition, noise)\n",
    "\n",
    "# Merge the predictions with the real participants' data\n",
    "all_pred_data <- merge(\n",
    "                # Predictions + Kernel posterior analysis:\n",
    "                x = pred,\n",
    "    \n",
    "                # Participant's data:\n",
    "                y = participants_data,\n",
    "    \n",
    "                by = c('pid', 'scenario', 'day')\n",
    ")"
   ]
  },
  {
   "cell_type": "code",
   "execution_count": null,
   "metadata": {},
   "outputs": [],
   "source": [
    "all_pred_data %>% select(cid) %>% unique %>% nrow\n",
    "\n",
    "all_pred_data %>% select(cid, kernel) %>% unique %>% nrow"
   ]
  },
  {
   "cell_type": "markdown",
   "metadata": {},
   "source": [
    "###### Calculating the deviation"
   ]
  },
  {
   "cell_type": "code",
   "execution_count": null,
   "metadata": {
    "collapsed": true
   },
   "outputs": [],
   "source": [
    "#Normalized root mean squared deviation\n",
    "calculate_nrmsd <- function(value_prediction, value_participant) {\n",
    "    return (sqrt(sum((value_prediction - value_participant)^2) / length(value_prediction)) / (max(value_participant) - min(value_participant)))\n",
    "}\n",
    "\n",
    "#Normalized root mean squared error (as per Mozer et al. (2008))\n",
    "calculate_nrmse <- function(value_model, value_human) {\n",
    "    return ( sqrt( sum((value_human - value_model)^2) / sum((value_human - mean(value_human))^2) ) )\n",
    "}\n",
    "\n",
    "calculate_mean_error <- function(value_model, value_human) {\n",
    "    return ( mean(abs(value_model - value_human)) )\n",
    "}"
   ]
  },
  {
   "cell_type": "code",
   "execution_count": null,
   "metadata": {
    "collapsed": true
   },
   "outputs": [],
   "source": [
    "add_is_max_column <- function(results_pred) {\n",
    "    to_return <- merge(x = results_pred,\n",
    "\n",
    "                      # Mark the best-fitting kernel in each case\n",
    "                      y = results_pred %>%\n",
    "                            filter(nchar(kernel)!= 1) %>%\n",
    "                            group_by(pid, scenario) %>%\n",
    "                            mutate(is_max = lml == max(lml)) %>%\n",
    "                            filter(is_max) %>%\n",
    "                            select(pid, scenario, kernel, is_max),\n",
    "\n",
    "                      all.x = TRUE\n",
    "                )\n",
    "    \n",
    "    to_return$is_max <- !(is.na(to_return$is_max))\n",
    "    \n",
    "    return(to_return)\n",
    "}"
   ]
  },
  {
   "cell_type": "code",
   "execution_count": null,
   "metadata": {},
   "outputs": [],
   "source": [
    "results_pred <- all_pred_data %>% \n",
    "                    #filter(day <= 365*2) %>% # To Eric: this is something I though about. What do you think about it?\n",
    "                    group_by(pid, scenario, kernel, lml) %>%\n",
    "                    summarize(error = calculate_nrmse(value, value_participant))\n",
    "\n",
    "results_pred <- add_is_max_column(results_pred)"
   ]
  },
  {
   "cell_type": "markdown",
   "metadata": {},
   "source": [
    "##### Calculating how many times the compositional won"
   ]
  },
  {
   "cell_type": "code",
   "execution_count": null,
   "metadata": {
    "collapsed": true
   },
   "outputs": [],
   "source": [
    "# New error dataset (mean-error per participant per scenario per model)\n",
    "\n",
    "error_per_participant <- all_pred_data %>%\n",
    "                            #filter(day <= 365*2) %>% # To Eric: this is something I though about. What do you think about it?\n",
    "                            group_by(pid, scenario, kernel, lml) %>% \n",
    "                            summarize(error = calculate_mean_error(value, value_participant))\n",
    "\n",
    "error_per_participant <- add_is_max_column(error_per_participant)\n",
    "\n",
    "#results_pred <- error_per_participant\n",
    "\n",
    "error_per_participant_f <- error_per_participant %>%\n",
    "                                filter(kernel == 'r' | is_max)\n",
    "\n",
    "# Remove those [pid, kernel] combinations where the R kernel was not present (because it was previously filtered out)\n",
    "error_per_participant_ff <- error_per_participant_f %>%\n",
    "                                group_by(pid, scenario) %>%\n",
    "                                filter(length(kernel) > 1)"
   ]
  },
  {
   "cell_type": "code",
   "execution_count": null,
   "metadata": {
    "collapsed": true
   },
   "outputs": [],
   "source": [
    "min_error_kernels <- error_per_participant_ff %>%\n",
    "                            group_by( pid, scenario ) %>% \n",
    "                            summarize( which_min_error = which.min(error),\n",
    "                                       min_error_kernel = kernel[which_min_error])"
   ]
  },
  {
   "cell_type": "code",
   "execution_count": null,
   "metadata": {},
   "outputs": [],
   "source": [
    "min_error_kernels %>%\n",
    "    group_by(scenario) %>%\n",
    "    summarize( proportion_composition_was_best = (sum(nchar(min_error_kernel)>1) / length(min_error_kernel) ) %>% round(2) )"
   ]
  },
  {
   "cell_type": "code",
   "execution_count": null,
   "metadata": {
    "collapsed": true
   },
   "outputs": [],
   "source": [
    "errors <- error_per_participant_ff %>% \n",
    "                group_by(pid, scenario) %>%\n",
    "                summarize(comp_index = which.max(nchar(kernel)),\n",
    "                          r_index = which.min(nchar(kernel)),\n",
    "                          error_r = error[r_index],\n",
    "                          error_comp = error[comp_index],\n",
    "                          error_r_minus_comp = error[r_index] - error[comp_index])"
   ]
  },
  {
   "cell_type": "code",
   "execution_count": null,
   "metadata": {},
   "outputs": [],
   "source": [
    "errors %>% \n",
    "    group_by(scenario) %>%\n",
    "    summarize(proportion_composition_was_best = (sum(error_r_minus_comp > 0)/ length(error_r_minus_comp)) %>% round(2))"
   ]
  },
  {
   "cell_type": "code",
   "execution_count": null,
   "metadata": {},
   "outputs": [],
   "source": [
    "errors %>%\n",
    "    group_by(scenario) %>%\n",
    "    summarize ( mean ( error_r_minus_comp ) )"
   ]
  },
  {
   "cell_type": "code",
   "execution_count": null,
   "metadata": {},
   "outputs": [],
   "source": [
    "errors$error_r %>% length\n",
    "\n",
    "errors$error_comp%>% length\n",
    "\n",
    "errors$scenario%>% length"
   ]
  },
  {
   "cell_type": "code",
   "execution_count": null,
   "metadata": {},
   "outputs": [],
   "source": [
    "t.test(errors$error_r, errors$error_comp, paired=TRUE, alternative=\"greater\")"
   ]
  },
  {
   "cell_type": "code",
   "execution_count": null,
   "metadata": {},
   "outputs": [],
   "source": [
    "tapply(errors$error_r_minus_comp, errors$scenario, function(x){t.test(x, alternative=\"greater\")})"
   ]
  },
  {
   "cell_type": "markdown",
   "metadata": {},
   "source": [
    "##### Plotting the deviation"
   ]
  },
  {
   "cell_type": "code",
   "execution_count": null,
   "metadata": {},
   "outputs": [],
   "source": [
    "# Filtering in only Linear, RBF, and Best fitting compositions.\n",
    "to_plot_results_pred <- results_pred %>%\n",
    "                            filter(kernel == 'l' | kernel == 'r' | is_max)\n",
    "\n",
    "to_plot_results_pred$readable_kernel <- ifelse(to_plot_results_pred$is_max, 'best', to_plot_results_pred$kernel)"
   ]
  },
  {
   "cell_type": "code",
   "execution_count": null,
   "metadata": {
    "collapsed": true
   },
   "outputs": [],
   "source": [
    "plot_deviation <- function(to_plot_data, ylim) {\n",
    "    to_plot_data %>%\n",
    "        ggplot(aes(x=readable_kernel, y=error, group=readable_kernel)) +\n",
    "                        geom_boxplot(outlier.shape = 1,\n",
    "                                     outlier.size = 0.5) +\n",
    "                        \n",
    "                        scale_x_discrete(breaks = c('best', 'l', 'r'),\n",
    "                                         labels = c('Compositional', 'Linear', 'RBF')) +\n",
    "\n",
    "                        ylab(\"Error\") +\n",
    "                        \n",
    "                        #scale_y_continuous(limits=ylim, breaks = seq(ylim[1], ylim[2], length.out=3)) +\n",
    "\n",
    "                        ggthemes::theme_few() +\n",
    "                        theme(text = element_text(size=12, family=\"serif\"),\n",
    "                                     plot.title = element_text(hjust = 0.5),\n",
    "                                     legend.position = \"none\",\n",
    "                                     axis.title.x = element_blank())\n",
    "}"
   ]
  },
  {
   "cell_type": "code",
   "execution_count": null,
   "metadata": {
    "collapsed": true
   },
   "outputs": [],
   "source": [
    "posterior_deviation_temp = plot_deviation( to_plot_results_pred %>% filter(scenario == 'Temperature'), ylim = c(0, 5))\n",
    "posterior_deviation_rain = plot_deviation( to_plot_results_pred %>% filter(scenario == 'Rain'),        ylim = c(0, 5))\n",
    "posterior_deviation_sale = plot_deviation( to_plot_results_pred %>% filter(scenario == 'Sales'),       ylim = c(0, 5))\n",
    "posterior_deviation_gymm = plot_deviation( to_plot_results_pred %>% filter(scenario == 'Gym members'), ylim = c(0, 5))\n",
    "posterior_deviation_slry = plot_deviation( to_plot_results_pred %>% filter(scenario == 'Salary'),      ylim = c(0, 5))\n",
    "posterior_deviation_fbfr = plot_deviation( to_plot_results_pred %>% filter(scenario == 'FB Friends'),  ylim = c(0, 5))"
   ]
  },
  {
   "cell_type": "markdown",
   "metadata": {},
   "source": [
    "##### Second grid plot"
   ]
  },
  {
   "cell_type": "code",
   "execution_count": null,
   "metadata": {
    "collapsed": true
   },
   "outputs": [],
   "source": [
    "if(save_posterior_grid_plot){\n",
    "    pdf(\"Images/paper_images/grid_plot_posterior.pdf\", width=6, height=10)\n",
    "    multiplot(  posterior_curves_temp,\n",
    "                posterior_curves_rain,\n",
    "                posterior_curves_sale,\n",
    "                posterior_curves_gymm,\n",
    "                posterior_curves_slry,\n",
    "                posterior_curves_fbfr,\n",
    "              \n",
    "                posterior_deviation_temp,\n",
    "                posterior_deviation_rain,\n",
    "                posterior_deviation_sale,\n",
    "                posterior_deviation_gymm,\n",
    "                posterior_deviation_slry,\n",
    "                posterior_deviation_fbfr,\n",
    "                \n",
    "                cols = 2)\n",
    "    dev.off()   \n",
    "}"
   ]
  },
  {
   "cell_type": "markdown",
   "metadata": {},
   "source": [
    "# Third grid plot. \n",
    "Identical to the posterior grid plot, but the right column is a scatterplot of prior likelihood vs posterior performance"
   ]
  },
  {
   "cell_type": "code",
   "execution_count": null,
   "metadata": {
    "collapsed": true
   },
   "outputs": [],
   "source": [
    "# Raw LML in the fitting of the GPs onto the prior stage data\n",
    "scatterplot_data_prior <- lmls_prior_ff %>%\n",
    "                            select(pid, scenario, kernel, lml)\n",
    "\n",
    "# Raw Error in the posterior predictions\n",
    "scatterplot_data_posterior <- results_pred %>%\n",
    "                                mutate(kernel = readable_kernel(kernel)) %>%\n",
    "                                select(pid, scenario, kernel, lml, error_posterior=error, is_max_posterior=is_max)\n",
    "\n",
    "scatterplot_data <- merge(\n",
    "                            x = scatterplot_data_prior,\n",
    "                            y = scatterplot_data_posterior,\n",
    "                            by = c('pid', 'scenario', 'kernel'),\n",
    "                            suffixes = c('_prior', '_posterior') )"
   ]
  },
  {
   "cell_type": "code",
   "execution_count": null,
   "metadata": {
    "collapsed": true
   },
   "outputs": [],
   "source": [
    "normalize_range_one <- function(array) {\n",
    "    (array - min(array)) / (max(array) - min(array))\n",
    "}"
   ]
  },
  {
   "cell_type": "code",
   "execution_count": null,
   "metadata": {
    "collapsed": true
   },
   "outputs": [],
   "source": [
    "plot_scenario_scatterplot <- function(data_to_plot, scenario_name, y_max) {\n",
    "    \n",
    "    data_to_plot %>% \n",
    "        filter(kernel != 'l', kernel != 'p', kernel != 'r') %>%\n",
    "\n",
    "        filter(scenario == !!scenario_name) %>%\n",
    "\n",
    "        group_by( pid, scenario ) %>%\n",
    "        mutate(lml_normalized = normalize_range_one(lml_prior),\n",
    "               error_normalized = normalize_range_one(error_posterior),\n",
    "               lml_rank = rank(lml_prior),\n",
    "               error_rank = rank(error_posterior)) %>%\n",
    "\n",
    "        ggplot(aes(x = lml_rank, \n",
    "                   y = error_rank)) +\n",
    "    \n",
    "        geom_point(shape=15, alpha=0.05, size=2.8) +\n",
    "    \n",
    "        coord_cartesian(ylim = c(1, 11))  +\n",
    "        scale_y_continuous(breaks = seq(1, 11, length.out=2)) +\n",
    "        scale_x_continuous(breaks = seq(1, 11, length.out=2)) +\n",
    "    \n",
    "        xlab('Likelihood in prior') + \n",
    "        ylab('Error in posterior') +\n",
    "        geom_smooth(method = \"lm\", fullrange=TRUE) +\n",
    "        ggthemes::theme_few() +\n",
    "        theme(text = element_text(size=12, family=\"serif\"),\n",
    "                     plot.title = element_text(hjust = 0.5),\n",
    "                     legend.position = \"none\")\n",
    "}\n",
    "\n",
    "scatter_temp <- plot_scenario_scatterplot(scatterplot_data, 'Temperature', y_max = 12)\n",
    "scatter_rain <- plot_scenario_scatterplot(scatterplot_data, 'Rain',        y_max = 12)\n",
    "scatter_sale <- plot_scenario_scatterplot(scatterplot_data, 'Sales',       y_max = 12)\n",
    "scatter_gymm <- plot_scenario_scatterplot(scatterplot_data, 'Gym members', y_max = 12)\n",
    "scatter_slry <- plot_scenario_scatterplot(scatterplot_data, 'Salary',      y_max = 12)\n",
    "scatter_fbfr <- plot_scenario_scatterplot(scatterplot_data, 'FB Friends',  y_max = 12)\n",
    "\n",
    "#plot_scenario_scatterplot(scatterplot_data, 'Temperature', y_max=10)"
   ]
  },
  {
   "cell_type": "code",
   "execution_count": null,
   "metadata": {
    "collapsed": true
   },
   "outputs": [],
   "source": [
    "if(FALSE){\n",
    "    pdf(\"Images/paper_images/grid_plot_posterior_new.pdf\", width=6, height=10)\n",
    "    multiplot(  posterior_curves_temp,\n",
    "                posterior_curves_rain,\n",
    "                posterior_curves_sale,\n",
    "                posterior_curves_gymm,\n",
    "                posterior_curves_slry,\n",
    "                posterior_curves_fbfr,\n",
    "              \n",
    "                scatter_temp,\n",
    "                scatter_rain,\n",
    "                scatter_sale,\n",
    "                scatter_gymm,\n",
    "                scatter_slry,\n",
    "                scatter_fbfr,\n",
    "                \n",
    "                cols = 2)\n",
    "    dev.off()   \n",
    "}"
   ]
  },
  {
   "cell_type": "markdown",
   "metadata": {},
   "source": [
    "#### Charley Wu Magic"
   ]
  },
  {
   "cell_type": "code",
   "execution_count": 65,
   "metadata": {},
   "outputs": [
    {
     "name": "stderr",
     "output_type": "stream",
     "text": [
      "\n",
      "Attaching package: 'MASS'\n",
      "\n",
      "The following object is masked from 'package:dplyr':\n",
      "\n",
      "    select\n",
      "\n"
     ]
    }
   ],
   "source": [
    "library(MASS)\n",
    "\n",
    "plot_scenario_scatterplot_wu <- function(data_to_plot, scenario_name, y_max) {\n",
    "    \n",
    "    y_max = 11\n",
    "    \n",
    "    # Filter and normalize\n",
    "    aux <- data_to_plot %>% \n",
    "            filter(kernel != 'l', kernel != 'p', kernel != 'r') %>%\n",
    "            filter(scenario == scenario_name) %>%\n",
    "            group_by( pid, scenario ) %>%\n",
    "            mutate(lml_normalized = normalize_range_one(lml_prior),\n",
    "                   error_normalized = normalize_range_one(error_posterior), \n",
    "                   error_ranking = rank(error_posterior))\n",
    "\n",
    "    # Only analysis dataframe\n",
    "    cor1D <- data.frame(lambda1 = aux$lml_normalized, \n",
    "                        lambda2 = aux$error_ranking)\n",
    "    \n",
    "    # Correlation test\n",
    "    lambdaCor <- cor.test(cor1D$lambda1, cor1D$lambda2)\n",
    "\n",
    "    # Bivariate point density\n",
    "    cor1D$lambdadensity <- fields::interp.surface(MASS::kde2d(cor1D$lambda1, cor1D$lambda2), cor1D[,c(\"lambda1\", \"lambda2\")])\n",
    "    \n",
    "    # Plot\n",
    "    ggplot(cor1D, aes(lambda1, lambda2, fill=lambdadensity, alpha = normalize_range_one(1/lambdadensity))) +\n",
    "        geom_point(pch=21, size = 2.0, color='white')+\n",
    "        geom_smooth(method='rlm', color='black', se=FALSE, linetype=2, fullrange=TRUE)+\n",
    "        scale_fill_gradient(low = \"#0091ff\", high = \"#f0650e\") +\n",
    "        scale_alpha(range = c(.4, 1)) + guides(alpha=\"none\", fill=\"none\") +\n",
    "        #expand_limits(x = 0, y = 0) +\n",
    "        #annotate(\"text\", x = 1, y = 6, label = \"r == 0.62 * ~~'p<.001'\", parse=TRUE, size=6) +\n",
    "    \n",
    "        coord_cartesian(ylim = c(0, y_max))  +\n",
    "        scale_x_continuous(breaks = seq(0, 1, length.out=3)) +\n",
    "        scale_y_continuous(breaks = seq(1, y_max, length.out=2)) +\n",
    "        \n",
    "        xlab('Likelihood in Prior') + \n",
    "        ylab('Error in Posterior') +\n",
    "    \n",
    "        ggthemes::theme_few() +\n",
    "        theme(text = element_text(size=10, family=\"serif\"),\n",
    "                     legend.position = \"none\")\n",
    "}\n",
    "\n",
    "scatter_temp_wu <- plot_scenario_scatterplot_wu(scatterplot_data, 'Temperature', y_max = 30)\n",
    "scatter_rain_wu <- plot_scenario_scatterplot_wu(scatterplot_data, 'Rain',        y_max = 30)\n",
    "scatter_sale_wu <- plot_scenario_scatterplot_wu(scatterplot_data, 'Sales',       y_max = 10)\n",
    "scatter_gymm_wu <- plot_scenario_scatterplot_wu(scatterplot_data, 'Gym members', y_max = 30)\n",
    "scatter_slry_wu <- plot_scenario_scatterplot_wu(scatterplot_data, 'Salary',      y_max = 30)\n",
    "scatter_fbfr_wu <- plot_scenario_scatterplot_wu(scatterplot_data, 'FB Friends',  y_max = 30)\n",
    "\n",
    "\n",
    "#scatter_temp_wu"
   ]
  },
  {
   "cell_type": "code",
   "execution_count": 66,
   "metadata": {},
   "outputs": [
    {
     "data": {
      "text/html": [
       "<strong>png:</strong> 2"
      ],
      "text/latex": [
       "\\textbf{png:} 2"
      ],
      "text/markdown": [
       "**png:** 2"
      ],
      "text/plain": [
       "png \n",
       "  2 "
      ]
     },
     "metadata": {},
     "output_type": "display_data"
    }
   ],
   "source": [
    "if(TRUE){\n",
    "    pdf(\"Images/paper_images/grid_plot_posterior_wu_rank.pdf\", width=6, height=10)\n",
    "    multiplot(  posterior_curves_temp,\n",
    "                posterior_curves_rain,\n",
    "                posterior_curves_sale,\n",
    "                posterior_curves_gymm,\n",
    "                posterior_curves_slry,\n",
    "                posterior_curves_fbfr,\n",
    "              \n",
    "                scatter_temp_wu,\n",
    "                scatter_rain_wu,\n",
    "                scatter_sale_wu,\n",
    "                scatter_gymm_wu,\n",
    "                scatter_slry_wu,\n",
    "                scatter_fbfr_wu,\n",
    "                \n",
    "                cols = 2)\n",
    "    dev.off()   \n",
    "}\n",
    "\n",
    "detach(package:MASS)"
   ]
  },
  {
   "cell_type": "markdown",
   "metadata": {},
   "source": [
    "# Trend damping\n",
    "### Goal: Proportion of damped predictions. Participants vs GP Predictions."
   ]
  },
  {
   "cell_type": "markdown",
   "metadata": {
    "collapsed": true
   },
   "source": [
    "###### Calculate underlying trend"
   ]
  },
  {
   "cell_type": "code",
   "execution_count": 67,
   "metadata": {
    "collapsed": true
   },
   "outputs": [],
   "source": [
    "df <- dat %>%\n",
    "        group_by(condition, scenario, day) %>%\n",
    "        summarize\n",
    "\n",
    "df$slope_scale <- mapvalues(df$condition,\n",
    "                              from = c(\"Prior\", \"Posterior-Positive\", \"Posterior-Stable\", \"Posterior-Negative\"),\n",
    "                              to   = c(0, 1, 0, -1))\n",
    "\n",
    "df$range <- mapvalues(df$scenario,\n",
    "                              from = c(\"Temperature\", \"Rain\", \"Sales\", \"Gym members\", \"Salary\", \"FB Friends\"),\n",
    "                              to   = c( 40--10,        100-0,  5000-0,  50-0,          50-0,     1000-0))\n",
    "\n",
    "df$y_intercept <- mapvalues(df$scenario,\n",
    "                              from = c(\"Temperature\", \"Rain\", \"Sales\", \"Gym members\", \"Salary\", \"FB Friends\"),\n",
    "                              to   = c( 15,            30,     2500,    25,            20,       500))\n",
    "\n",
    "\n",
    "# Transformations to numbers\n",
    "df$slope_scale <- as.numeric(levels(df$slope_scale))[df$slope_scale]\n",
    "df$range <- as.numeric(levels(df$range))[df$range]\n",
    "df$y_intercept <- as.numeric(levels(df$y_intercept))[df$y_intercept]\n",
    "\n",
    "# Calculations\n",
    "df$last_point <- df$y_intercept + 0.05 * df$range * df$slope_scale * 4 \n",
    "\n",
    "df$slope <- (df$last_point - df$y_intercept) / ((365-31)-1)\n",
    "\n",
    "df$underlying_trend <- ((df$day-1) * df$slope + df$y_intercept)\n",
    "\n",
    "# Subtract the mean of each underlying trend\n",
    "#df <- df %>% \n",
    "#        group_by(condition, scenario) %>%\n",
    "#        mutate(underlying_trend = underlying_trend - mean(underlying_trend))"
   ]
  },
  {
   "cell_type": "code",
   "execution_count": 68,
   "metadata": {},
   "outputs": [
    {
     "data": {
      "text/html": [
       "<table>\n",
       "<thead><tr><th scope=col>pid</th><th scope=col>scenario</th><th scope=col>day</th><th scope=col>cid</th><th scope=col>kernel</th><th scope=col>value</th><th scope=col>lml</th><th scope=col>value_participant</th><th scope=col>condition</th><th scope=col>noise</th></tr></thead>\n",
       "<tbody>\n",
       "\t<tr><td>a001              </td><td>FB Friends        </td><td>1001              </td><td>6                 </td><td>p*r               </td><td>382.4196          </td><td>-323.93799        </td><td>255.7962          </td><td>Posterior-Negative</td><td>3                 </td></tr>\n",
       "\t<tr><td>a001              </td><td>FB Friends        </td><td>1001              </td><td>6                 </td><td>r                 </td><td>382.4216          </td><td> -22.05855        </td><td>255.7962          </td><td>Posterior-Negative</td><td>3                 </td></tr>\n",
       "\t<tr><td>a001              </td><td>FB Friends        </td><td>1001              </td><td>6                 </td><td>l*p               </td><td>382.4216          </td><td> -87.34479        </td><td>255.7962          </td><td>Posterior-Negative</td><td>3                 </td></tr>\n",
       "</tbody>\n",
       "</table>\n"
      ],
      "text/latex": [
       "\\begin{tabular}{r|llllllllll}\n",
       " pid & scenario & day & cid & kernel & value & lml & value\\_participant & condition & noise\\\\\n",
       "\\hline\n",
       "\t a001               & FB Friends         & 1001               & 6                  & p*r                & 382.4196           & -323.93799         & 255.7962           & Posterior-Negative & 3                 \\\\\n",
       "\t a001               & FB Friends         & 1001               & 6                  & r                  & 382.4216           &  -22.05855         & 255.7962           & Posterior-Negative & 3                 \\\\\n",
       "\t a001               & FB Friends         & 1001               & 6                  & l*p                & 382.4216           &  -87.34479         & 255.7962           & Posterior-Negative & 3                 \\\\\n",
       "\\end{tabular}\n"
      ],
      "text/markdown": [
       "\n",
       "pid | scenario | day | cid | kernel | value | lml | value_participant | condition | noise | \n",
       "|---|---|---|\n",
       "| a001               | FB Friends         | 1001               | 6                  | p*r                | 382.4196           | -323.93799         | 255.7962           | Posterior-Negative | 3                  | \n",
       "| a001               | FB Friends         | 1001               | 6                  | r                  | 382.4216           |  -22.05855         | 255.7962           | Posterior-Negative | 3                  | \n",
       "| a001               | FB Friends         | 1001               | 6                  | l*p                | 382.4216           |  -87.34479         | 255.7962           | Posterior-Negative | 3                  | \n",
       "\n",
       "\n"
      ],
      "text/plain": [
       "  pid  scenario   day  cid kernel value    lml        value_participant\n",
       "1 a001 FB Friends 1001 6   p*r    382.4196 -323.93799 255.7962         \n",
       "2 a001 FB Friends 1001 6   r      382.4216  -22.05855 255.7962         \n",
       "3 a001 FB Friends 1001 6   l*p    382.4216  -87.34479 255.7962         \n",
       "  condition          noise\n",
       "1 Posterior-Negative 3    \n",
       "2 Posterior-Negative 3    \n",
       "3 Posterior-Negative 3    "
      ]
     },
     "metadata": {},
     "output_type": "display_data"
    },
    {
     "data": {
      "text/html": [
       "<table>\n",
       "<thead><tr><th scope=col>condition</th><th scope=col>scenario</th><th scope=col>day</th><th scope=col>slope_scale</th><th scope=col>range</th><th scope=col>y_intercept</th><th scope=col>last_point</th><th scope=col>slope</th><th scope=col>underlying_trend</th></tr></thead>\n",
       "<tbody>\n",
       "\t<tr><td>Prior      </td><td>Temperature</td><td>31         </td><td>0          </td><td>50         </td><td>15         </td><td>15         </td><td>0          </td><td>15         </td></tr>\n",
       "\t<tr><td>Prior      </td><td>Temperature</td><td>32         </td><td>0          </td><td>50         </td><td>15         </td><td>15         </td><td>0          </td><td>15         </td></tr>\n",
       "\t<tr><td>Prior      </td><td>Temperature</td><td>33         </td><td>0          </td><td>50         </td><td>15         </td><td>15         </td><td>0          </td><td>15         </td></tr>\n",
       "</tbody>\n",
       "</table>\n"
      ],
      "text/latex": [
       "\\begin{tabular}{r|lllllllll}\n",
       " condition & scenario & day & slope\\_scale & range & y\\_intercept & last\\_point & slope & underlying\\_trend\\\\\n",
       "\\hline\n",
       "\t Prior       & Temperature & 31          & 0           & 50          & 15          & 15          & 0           & 15         \\\\\n",
       "\t Prior       & Temperature & 32          & 0           & 50          & 15          & 15          & 0           & 15         \\\\\n",
       "\t Prior       & Temperature & 33          & 0           & 50          & 15          & 15          & 0           & 15         \\\\\n",
       "\\end{tabular}\n"
      ],
      "text/markdown": [
       "\n",
       "condition | scenario | day | slope_scale | range | y_intercept | last_point | slope | underlying_trend | \n",
       "|---|---|---|\n",
       "| Prior       | Temperature | 31          | 0           | 50          | 15          | 15          | 0           | 15          | \n",
       "| Prior       | Temperature | 32          | 0           | 50          | 15          | 15          | 0           | 15          | \n",
       "| Prior       | Temperature | 33          | 0           | 50          | 15          | 15          | 0           | 15          | \n",
       "\n",
       "\n"
      ],
      "text/plain": [
       "  condition scenario    day slope_scale range y_intercept last_point slope\n",
       "1 Prior     Temperature 31  0           50    15          15         0    \n",
       "2 Prior     Temperature 32  0           50    15          15         0    \n",
       "3 Prior     Temperature 33  0           50    15          15         0    \n",
       "  underlying_trend\n",
       "1 15              \n",
       "2 15              \n",
       "3 15              "
      ]
     },
     "metadata": {},
     "output_type": "display_data"
    },
    {
     "data": {
      "text/html": [
       "2126490"
      ],
      "text/latex": [
       "2126490"
      ],
      "text/markdown": [
       "2126490"
      ],
      "text/plain": [
       "[1] 2126490"
      ]
     },
     "metadata": {},
     "output_type": "display_data"
    },
    {
     "data": {
      "text/html": [
       "33576"
      ],
      "text/latex": [
       "33576"
      ],
      "text/markdown": [
       "33576"
      ],
      "text/plain": [
       "[1] 33576"
      ]
     },
     "metadata": {},
     "output_type": "display_data"
    }
   ],
   "source": [
    "# Watching the columns\n",
    "all_pred_data %>% head(3)\n",
    "df %>% head(3)\n",
    "\n",
    "all_pred_data %>% nrow\n",
    "df %>% nrow"
   ]
  },
  {
   "cell_type": "code",
   "execution_count": 69,
   "metadata": {
    "collapsed": true
   },
   "outputs": [],
   "source": [
    "# Merging the data with the underlying trend\n",
    "data_with_trend <- merge( \n",
    "    x = all_pred_data,\n",
    "\n",
    "    y = df %>% select(condition, scenario, day, underlying_trend),\n",
    "\n",
    "    by = c('condition', 'scenario', 'day')\n",
    ")\n",
    "\n",
    "data_with_trend <- cbind(row_id = rownames(data_with_trend), data_with_trend)\n",
    "\n",
    "data_with_trend <- merge(   # Original dataset\n",
    "                            x = data_with_trend,\n",
    "\n",
    "                            # Mark the best-fitting kernel in each case\n",
    "                            y = data_with_trend %>%\n",
    "                                    filter(nchar(kernel)!= 1) %>%\n",
    "                                    group_by(pid, scenario) %>%\n",
    "                                    mutate(is_max = lml == max(lml)) %>%\n",
    "                                    ungroup %>%\n",
    "                                    filter(is_max) %>%\n",
    "                                    select(row_id, is_max),\n",
    "\n",
    "                            by = 'row_id',\n",
    "                            all.x = TRUE\n",
    "                )\n",
    "\n",
    "data_with_trend$is_max <- !(is.na(data_with_trend$is_max))"
   ]
  },
  {
   "cell_type": "code",
   "execution_count": 70,
   "metadata": {
    "collapsed": true
   },
   "outputs": [],
   "source": [
    "# Filter out the unnecessary conditions\n",
    "data_with_trend <- data_with_trend %>%\n",
    "                                filter(condition == 'Posterior-Positive' |\n",
    "                                       condition == 'Posterior-Negative')\n",
    "\n",
    "# Filter out the other scenarios. Leave only Sales.\n",
    "data_with_trend <- data_with_trend %>%\n",
    "                                filter(scenario == 'Sales')\n",
    "\n",
    "# Only have the best-fitting kernel(of the Posterior condition)\n",
    "data_with_trend <- data_with_trend %>%\n",
    "                                filter(is_max)"
   ]
  },
  {
   "cell_type": "code",
   "execution_count": 71,
   "metadata": {},
   "outputs": [
    {
     "name": "stdout",
     "output_type": "stream",
     "text": [
      "[1] \"should be zero:\"\n"
     ]
    },
    {
     "data": {
      "text/html": [
       "0"
      ],
      "text/latex": [
       "0"
      ],
      "text/markdown": [
       "0"
      ],
      "text/plain": [
       "[1] 0"
      ]
     },
     "metadata": {},
     "output_type": "display_data"
    },
    {
     "data": {
      "text/html": [
       "0"
      ],
      "text/latex": [
       "0"
      ],
      "text/markdown": [
       "0"
      ],
      "text/plain": [
       "[1] 0"
      ]
     },
     "metadata": {},
     "output_type": "display_data"
    }
   ],
   "source": [
    "# Should be zero because every curve and day combination should only have 1 datapoint\n",
    "print('should be zero:')\n",
    "\n",
    "data_with_trend %>% \n",
    "    group_by(cid, day) %>%\n",
    "    filter(length(day) != 1) %>% nrow\n",
    "\n",
    "data_with_trend %>% \n",
    "    group_by(cid, day, kernel) %>%\n",
    "    filter(length(kernel) != 1) %>% nrow"
   ]
  },
  {
   "cell_type": "code",
   "execution_count": 72,
   "metadata": {},
   "outputs": [],
   "source": [
    "# Which values are \"damped\"?\n",
    "add_damped_column <- function(dataset, condition, column_name, new_column_name) {\n",
    "    \n",
    "    if(condition == 'Posterior-Negative') {\n",
    "        damped_column <- dataset[dataset$condition==condition, column_name] > dataset[dataset$condition==condition, 'underlying_trend'] \n",
    "    }else if(condition == 'Posterior-Positive') {\n",
    "        damped_column <- dataset[dataset$condition==condition, column_name] < dataset[dataset$condition==condition, 'underlying_trend'] \n",
    "    }\n",
    "    \n",
    "    dataset[dataset$condition == condition, new_column_name] <- damped_column\n",
    "    \n",
    "    return(dataset)\n",
    "}\n",
    " \n",
    "# Calculate the 'damped' boolean\n",
    "data_with_trend <- add_damped_column(data_with_trend, 'Posterior-Negative', 'value_participant', new_column_name='damped_participant')\n",
    "data_with_trend <- add_damped_column(data_with_trend, 'Posterior-Positive', 'value_participant', new_column_name='damped_participant')\n",
    "    \n",
    "data_with_trend <- add_damped_column(data_with_trend, 'Posterior-Negative', 'value', new_column_name='damped_gp')\n",
    "data_with_trend <- add_damped_column(data_with_trend, 'Posterior-Positive', 'value', new_column_name='damped_gp')"
   ]
  },
  {
   "cell_type": "markdown",
   "metadata": {},
   "source": [
    "##### Bootstrapped confidence interval (for binomial distribution).\n",
    "\n",
    "NOTE: Do you like this method Eric? Or should we use a package [like this one](http://math.furman.edu/~dcs/courses/math47/R/library/Hmisc/html/binconf.html)?"
   ]
  },
  {
   "cell_type": "code",
   "execution_count": 86,
   "metadata": {
    "collapsed": true
   },
   "outputs": [],
   "source": [
    "bp = function(x, lev, n = 1e4, alpha=0.05) {\n",
    "  res = replicate(n, sum(sample(x, length(x), replace=TRUE) == lev)/length(x))\n",
    "  return(list(mean=mean(res),\n",
    "              `95% CI`=quantile(res, c(0.5*alpha,1-0.5*alpha))))\n",
    "}\n",
    "\n",
    "bp2 = function(vector, alpha=0.05) {\n",
    "    \n",
    "    match_ci <- bp(x=vector, lev=TRUE, alpha=alpha)\n",
    "    \n",
    "    return( c( match_ci$mean %>% round(2),\n",
    "             match_ci$`95% CI`[1] %>% round(2),\n",
    "             match_ci$`95% CI`[2] %>% round(2) ))\n",
    "}"
   ]
  },
  {
   "cell_type": "markdown",
   "metadata": {},
   "source": [
    "##### Calculate the damped proportion, per condition~day"
   ]
  },
  {
   "cell_type": "code",
   "execution_count": 87,
   "metadata": {
    "collapsed": true
   },
   "outputs": [],
   "source": [
    "damped_proportion_participants <- data_with_trend %>%\n",
    "                                        group_by(condition, day) %>%\n",
    "                                        summarize(damped_proportion = bp2(damped_participant)[[1]],\n",
    "                                                  lo_ci = bp2(damped_participant)[[2]],\n",
    "                                                  hi_ci = bp2(damped_participant)[[3]])\n",
    "\n",
    "damped_proportion_gps <- data_with_trend %>%\n",
    "                                        group_by(condition, day) %>%\n",
    "                                        summarize(damped_proportion = bp2(damped_gp)[[1]],\n",
    "                                                  lo_ci = bp2(damped_gp)[[2]],\n",
    "                                                  hi_ci = bp2(damped_gp)[[3]])"
   ]
  },
  {
   "cell_type": "code",
   "execution_count": 90,
   "metadata": {
    "collapsed": true
   },
   "outputs": [],
   "source": [
    "# Merge the data into one dataframe\n",
    "damped_proportion_participants$type <- 'Participants'\n",
    "damped_proportion_gps$type <- 'Models'\n",
    "\n",
    "damped_proportion <- rbind(damped_proportion_participants, damped_proportion_gps)\n",
    "\n",
    "damped_proportion$type <- factor(damped_proportion$type, levels=c('Participants', 'Models'))"
   ]
  },
  {
   "cell_type": "code",
   "execution_count": 91,
   "metadata": {
    "collapsed": true
   },
   "outputs": [],
   "source": [
    "damped_plot <- damped_proportion %>%\n",
    "    ggplot(aes(x=day, y=damped_proportion, group=condition, colour=condition)) +\n",
    "            geom_line(size=1) +\n",
    "            geom_ribbon(aes(ymin=lo_ci, ymax=hi_ci), alpha=0.2) +\n",
    "            ylab(\"Damped proportion\") +\n",
    "            scale_x_continuous( lim = c(min(damped_proportion$day),365*2), \n",
    "                                breaks=c(0, 365, 365*2, 365*3), \n",
    "                                labels=c('Y1', 'Y2', 'Y3', 'Y4') ) +\n",
    "            theme_bw() + \n",
    "            #ggthemes::theme_few() + \n",
    "            theme( text = element_text(size=12, family=\"serif\"),\n",
    "                   legend.position = \"bottom\",\n",
    "                   axis.title.x=element_blank(),\n",
    "                   legend.title = element_blank() ) +\n",
    "            ggthemes::scale_color_solarized() +\n",
    "            facet_grid(type ~ .)"
   ]
  },
  {
   "cell_type": "code",
   "execution_count": 92,
   "metadata": {},
   "outputs": [
    {
     "name": "stderr",
     "output_type": "stream",
     "text": [
      "Warning message:\n",
      "\"Removed 280 rows containing missing values (geom_path).\""
     ]
    },
    {
     "data": {
      "text/html": [
       "<strong>png:</strong> 2"
      ],
      "text/latex": [
       "\\textbf{png:} 2"
      ],
      "text/markdown": [
       "**png:** 2"
      ],
      "text/plain": [
       "png \n",
       "  2 "
      ]
     },
     "metadata": {},
     "output_type": "display_data"
    }
   ],
   "source": [
    "if(save_damped_proportion_pdf){ #save_damped_proportion_pdf\n",
    "    pdf(\"Images/paper_images/damped_proportion_new.pdf\", width=6, height=4)\n",
    "    print(damped_plot)\n",
    "    dev.off()\n",
    "}"
   ]
  },
  {
   "cell_type": "markdown",
   "metadata": {},
   "source": [
    "### Trend damping statistical tests\n",
    "###### (i) Overall proportion of damped predictions"
   ]
  },
  {
   "cell_type": "code",
   "execution_count": 234,
   "metadata": {},
   "outputs": [],
   "source": [
    "damped_to_test <- merge(\n",
    "        x = damped_proportion %>% filter(type == 'Participants') %>% select(condition, day, damped_proportion),\n",
    "\n",
    "        y = damped_proportion %>% filter(type == 'Models') %>% select(condition, day, damped_proportion),\n",
    "\n",
    "        by = c('condition', 'day'),\n",
    "\n",
    "        suffixes = c('_participants', '_models')) %>%\n",
    "\n",
    "        mutate(subtraction = damped_proportion_participants - damped_proportion_models) %>%\n",
    "\n",
    "        filter(day <= 365 * 2)"
   ]
  },
  {
   "cell_type": "code",
   "execution_count": 235,
   "metadata": {},
   "outputs": [
    {
     "name": "stdout",
     "output_type": "stream",
     "text": [
      "[1] \"Posterior-Positive\"\n"
     ]
    },
    {
     "data": {
      "text/plain": [
       "\n",
       "Call:\n",
       "lm(formula = damped_proportion_participants ~ damped_proportion_models, \n",
       "    data = damped_to_test %>% filter(condition == c))\n",
       "\n",
       "Residuals:\n",
       "      Min        1Q    Median        3Q       Max \n",
       "-0.077175 -0.008361 -0.007683  0.022317  0.074774 \n",
       "\n",
       "Coefficients:\n",
       "                         Estimate Std. Error t value Pr(>|t|)    \n",
       "(Intercept)              -0.40367    0.06299  -6.409 1.07e-08 ***\n",
       "damped_proportion_models  1.38135    0.06545  21.106  < 2e-16 ***\n",
       "---\n",
       "Signif. codes:  0 '***' 0.001 '**' 0.01 '*' 0.05 '.' 0.1 ' ' 1\n",
       "\n",
       "Residual standard error: 0.02762 on 77 degrees of freedom\n",
       "Multiple R-squared:  0.8526,\tAdjusted R-squared:  0.8507 \n",
       "F-statistic: 445.5 on 1 and 77 DF,  p-value: < 2.2e-16\n"
      ]
     },
     "metadata": {},
     "output_type": "display_data"
    },
    {
     "name": "stdout",
     "output_type": "stream",
     "text": [
      "[1] \"Posterior-Negative\"\n"
     ]
    },
    {
     "data": {
      "text/plain": [
       "\n",
       "Call:\n",
       "lm(formula = damped_proportion_participants ~ damped_proportion_models, \n",
       "    data = damped_to_test %>% filter(condition == c))\n",
       "\n",
       "Residuals:\n",
       "      Min        1Q    Median        3Q       Max \n",
       "-0.058035 -0.008035  0.009640  0.009640  0.097157 \n",
       "\n",
       "Coefficients:\n",
       "                         Estimate Std. Error t value Pr(>|t|)    \n",
       "(Intercept)              -0.42048    0.08684  -4.842 6.49e-06 ***\n",
       "damped_proportion_models  1.41084    0.08872  15.903  < 2e-16 ***\n",
       "---\n",
       "Signif. codes:  0 '***' 0.001 '**' 0.01 '*' 0.05 '.' 0.1 ' ' 1\n",
       "\n",
       "Residual standard error: 0.02148 on 77 degrees of freedom\n",
       "Multiple R-squared:  0.7666,\tAdjusted R-squared:  0.7636 \n",
       "F-statistic: 252.9 on 1 and 77 DF,  p-value: < 2.2e-16\n"
      ]
     },
     "metadata": {},
     "output_type": "display_data"
    }
   ],
   "source": [
    "c = 'Posterior-Positive'\n",
    "print(c)\n",
    "fit <- lm( damped_proportion_participants ~ damped_proportion_models, \n",
    "            data = damped_to_test %>% filter(condition == c))\n",
    "summary(fit)\n",
    "\n",
    "\n",
    "c = 'Posterior-Negative'\n",
    "print(c)\n",
    "fit <- lm( damped_proportion_participants ~ damped_proportion_models, \n",
    "            data = damped_to_test %>% filter(condition == c))\n",
    "summary(fit)"
   ]
  },
  {
   "cell_type": "markdown",
   "metadata": {},
   "source": [
    "###### (ii) First damped point"
   ]
  },
  {
   "cell_type": "code",
   "execution_count": 238,
   "metadata": {},
   "outputs": [],
   "source": [
    "first_point_damped <- merge(\n",
    "    x = data_with_trend %>% \n",
    "            group_by(pid, condition, scenario) %>%\n",
    "            filter(damped_participant) %>%\n",
    "            summarize(min_day = min(day)),\n",
    "    \n",
    "    y = data_with_trend %>% \n",
    "            group_by(pid, condition, scenario) %>%\n",
    "            filter(damped_gp) %>%\n",
    "            summarize(min_day = min(day)),\n",
    "    \n",
    "    by = c('pid', 'condition', 'scenario'),\n",
    "\n",
    "    suffixes = c('_participants', '_models')) %>%\n",
    "\n",
    "    mutate(subtraction = min_day_participants - min_day_models)# %>% filter(min_day_participants != 336)"
   ]
  },
  {
   "cell_type": "code",
   "execution_count": 243,
   "metadata": {},
   "outputs": [
    {
     "name": "stdout",
     "output_type": "stream",
     "text": [
      "[1] \"Posterior-Positive\"\n"
     ]
    },
    {
     "data": {
      "text/plain": [
       "\n",
       "Call:\n",
       "lm(formula = min_day_participants ~ min_day_models, data = first_point_damped %>% \n",
       "    filter(condition == c))\n",
       "\n",
       "Residuals:\n",
       "   Min     1Q Median     3Q    Max \n",
       "-64.96 -19.86 -19.86 -19.86 310.14 \n",
       "\n",
       "Coefficients:\n",
       "               Estimate Std. Error t value Pr(>|t|)  \n",
       "(Intercept)    135.1419   131.3404   1.029   0.3104  \n",
       "min_day_models   0.6569     0.3806   1.726   0.0929 .\n",
       "---\n",
       "Signif. codes:  0 '***' 0.001 '**' 0.01 '*' 0.05 '.' 0.1 ' ' 1\n",
       "\n",
       "Residual standard error: 64.78 on 36 degrees of freedom\n",
       "Multiple R-squared:  0.07644,\tAdjusted R-squared:  0.05079 \n",
       "F-statistic:  2.98 on 1 and 36 DF,  p-value: 0.09289\n"
      ]
     },
     "metadata": {},
     "output_type": "display_data"
    },
    {
     "name": "stdout",
     "output_type": "stream",
     "text": [
      "[1] \"Posterior-Negative\"\n"
     ]
    },
    {
     "data": {
      "text/plain": [
       "\n",
       "Call:\n",
       "lm(formula = min_day_participants ~ min_day_models, data = first_point_damped %>% \n",
       "    filter(condition == c))\n",
       "\n",
       "Residuals:\n",
       "    Min      1Q  Median      3Q     Max \n",
       "-24.952  -7.146  -7.146  -7.146 149.401 \n",
       "\n",
       "Coefficients:\n",
       "                Estimate Std. Error t value Pr(>|t|)    \n",
       "(Intercept)    -444.8822   110.4283  -4.029  0.00031 ***\n",
       "min_day_models    2.3453     0.3247   7.223 2.78e-08 ***\n",
       "---\n",
       "Signif. codes:  0 '***' 0.001 '**' 0.01 '*' 0.05 '.' 0.1 ' ' 1\n",
       "\n",
       "Residual standard error: 30.66 on 33 degrees of freedom\n",
       "Multiple R-squared:  0.6125,\tAdjusted R-squared:  0.6008 \n",
       "F-statistic: 52.17 on 1 and 33 DF,  p-value: 2.779e-08\n"
      ]
     },
     "metadata": {},
     "output_type": "display_data"
    }
   ],
   "source": [
    "c <- 'Posterior-Positive'\n",
    "print(c)\n",
    "fit <- lm(min_day_participants ~ min_day_models, data = first_point_damped %>% filter(condition == c))\n",
    "summary(fit)\n",
    "\n",
    "c <- 'Posterior-Negative'\n",
    "print(c)\n",
    "fit <- lm(min_day_participants ~ min_day_models, data = first_point_damped %>% filter(condition == c))\n",
    "summary(fit)"
   ]
  },
  {
   "cell_type": "code",
   "execution_count": 213,
   "metadata": {},
   "outputs": [
    {
     "name": "stdout",
     "output_type": "stream",
     "text": [
      "[1] \"Posterior-Positive\"\n"
     ]
    },
    {
     "data": {
      "text/plain": [
       "\n",
       "\tOne Sample t-test\n",
       "\n",
       "data:  .\n",
       "t = 1.8778, df = 6, p-value = 0.1095\n",
       "alternative hypothesis: true mean is not equal to 0\n",
       "95 percent confidence interval:\n",
       " -28.35731 215.50017\n",
       "sample estimates:\n",
       "mean of x \n",
       " 93.57143 \n"
      ]
     },
     "metadata": {},
     "output_type": "display_data"
    },
    {
     "name": "stdout",
     "output_type": "stream",
     "text": [
      "[1] \"Posterior-Negative\"\n"
     ]
    },
    {
     "data": {
      "text/plain": [
       "\n",
       "\tOne Sample t-test\n",
       "\n",
       "data:  .\n",
       "t = 4.7778, df = 3, p-value = 0.01743\n",
       "alternative hypothesis: true mean is not equal to 0\n",
       "95 percent confidence interval:\n",
       "  35.89496 179.10504\n",
       "sample estimates:\n",
       "mean of x \n",
       "    107.5 \n"
      ]
     },
     "metadata": {},
     "output_type": "display_data"
    }
   ],
   "source": [
    "caux = 'Posterior-Positive' \n",
    "print(caux)\n",
    "first_point_damped %>% \n",
    "     %>%\n",
    "    select(subtraction) %>%\n",
    "    t.test\n",
    "\n",
    "caux = 'Posterior-Negative' \n",
    "print(caux)\n",
    "first_point_damped %>% \n",
    "    filter(condition == caux) %>%\n",
    "    select(subtraction) %>%\n",
    "    t.test"
   ]
  },
  {
   "cell_type": "markdown",
   "metadata": {},
   "source": [
    "###### (iii) Damped proportion per participant"
   ]
  },
  {
   "cell_type": "code",
   "execution_count": 200,
   "metadata": {},
   "outputs": [],
   "source": [
    "up_bound_day <- 365*2\n",
    "\n",
    "damped_mean_per_pid <- merge(\n",
    "    x = data_with_trend %>% \n",
    "            group_by(pid, condition, scenario) %>%\n",
    "            filter(day < up_bound_day) %>%\n",
    "            summarize(damped_mean = mean(damped_participant)),\n",
    "    \n",
    "    y = data_with_trend %>% \n",
    "            group_by(pid, condition, scenario) %>%\n",
    "            filter(day < up_bound_day) %>%\n",
    "            summarize(damped_mean = mean(damped_gp)),\n",
    "    \n",
    "    by = c('pid', 'condition', 'scenario'),\n",
    "\n",
    "    suffixes = c('_participants', '_models')) %>%\n",
    "\n",
    "    mutate(subtraction = damped_mean_participants - damped_mean_models)# %>% filter(min_day_participants != 336)"
   ]
  },
  {
   "cell_type": "code",
   "execution_count": 211,
   "metadata": {},
   "outputs": [
    {
     "data": {
      "text/plain": [
       "\n",
       "\tOne Sample t-test\n",
       "\n",
       "data:  .\n",
       "t = -3.4548, df = 12, p-value = 0.004763\n",
       "alternative hypothesis: true mean is not equal to 0\n",
       "95 percent confidence interval:\n",
       " -0.38583425 -0.08738873\n",
       "sample estimates:\n",
       " mean of x \n",
       "-0.2366115 \n"
      ]
     },
     "metadata": {},
     "output_type": "display_data"
    }
   ],
   "source": [
    "damped_mean_per_pid %>% \n",
    "    filter(damped_mean_participants != 1) %>%\n",
    "    select(subtraction) %>%\n",
    "    t.test"
   ]
  },
  {
   "cell_type": "markdown",
   "metadata": {},
   "source": [
    "Plots of the raw data "
   ]
  },
  {
   "cell_type": "code",
   "execution_count": 322,
   "metadata": {
    "collapsed": true
   },
   "outputs": [],
   "source": [
    "pos_trend <- data_with_trend %>% \n",
    "                filter(condition == 'Posterior-Positive') %>%\n",
    "                select(day, underlying_trend) %>%\n",
    "                arrange(day) %>%\n",
    "                unique\n",
    "\n",
    "neg_trend <- data_with_trend %>% \n",
    "                filter(condition == 'Posterior-Negative') %>%\n",
    "                select(day, underlying_trend) %>%\n",
    "                arrange(day) %>%\n",
    "                unique"
   ]
  },
  {
   "cell_type": "code",
   "execution_count": 323,
   "metadata": {},
   "outputs": [
    {
     "name": "stderr",
     "output_type": "stream",
     "text": [
      "Warning message:\n",
      "\"Removed 8487 rows containing missing values (geom_path).\"Warning message:\n",
      "\"Removed 116 rows containing missing values (geom_path).\"Warning message:\n",
      "\"Removed 116 rows containing missing values (geom_path).\""
     ]
    },
    {
     "data": {},
     "metadata": {},
     "output_type": "display_data"
    },
    {
     "data": {
      "text/html": [
       "<strong>png:</strong> 2"
      ],
      "text/latex": [
       "\\textbf{png:} 2"
      ],
      "text/markdown": [
       "**png:** 2"
      ],
      "text/plain": [
       "png \n",
       "  2 "
      ]
     },
     "metadata": {},
     "output_type": "display_data"
    }
   ],
   "source": [
    "pdf(\"Images/paper_images/gp_prediction_raw_data.pdf\", width=13, height=6)\n",
    "\n",
    "data_with_trend %>% \n",
    "    ggplot() +\n",
    "    geom_line(aes(x=day, y=value, group=pid, color=condition)) +\n",
    "    geom_line(data=pos_trend, aes(x=day, y=underlying_trend, group=1, alpha=0.5), size=2) +\n",
    "    geom_line(data=neg_trend, aes(x=day, y=underlying_trend, group=2, alpha=0.5), size=2) +\n",
    "    xlim(c(330, 850)) +\n",
    "    ylim(c(-1000, 10000)) +\n",
    "    ggthemes::theme_few() \n",
    "    #theme(legend.position=\"none\")\n",
    "\n",
    "dev.off()"
   ]
  },
  {
   "cell_type": "markdown",
   "metadata": {
    "collapsed": true
   },
   "source": [
    "# Posterior analysis, participants' data, proportion of match"
   ]
  },
  {
   "cell_type": "code",
   "execution_count": 118,
   "metadata": {},
   "outputs": [
    {
     "name": "stderr",
     "output_type": "stream",
     "text": [
      "Parsed with column specification:\n",
      "cols(\n",
      "  id = col_integer(),\n",
      "  kernel = col_character(),\n",
      "  lml = col_double(),\n",
      "  white_added = col_character(),\n",
      "  second_exception = col_character()\n",
      ")\n",
      "Warning message:\n",
      "\"Missing column names filled in: 'X1' [1]\"Parsed with column specification:\n",
      "cols(\n",
      "  X1 = col_integer(),\n",
      "  id = col_integer(),\n",
      "  pid = col_character(),\n",
      "  scenario = col_character(),\n",
      "  x = col_integer(),\n",
      "  y = col_double(),\n",
      "  condition = col_character()\n",
      ")\n"
     ]
    }
   ],
   "source": [
    "# Prior data\n",
    "lmls_prior_ff$condition <- 'Prior'\n",
    "\n",
    "# Posterior data (participants (i.e., no evidence))\n",
    "lmls_posterior_participants_ff <- get_filtered_data( \"output/minus-mean-treatment/results_posterior_participants_predictions.csv\",\n",
    "                                                     \"data/for_composititional_analysis_posterior.csv\" )\n",
    "\n",
    "# Readable kernel composition\n",
    "lmls_posterior_participants_ff$kernel <- readable_kernel(lmls_posterior_participants_ff$kernel)"
   ]
  },
  {
   "cell_type": "code",
   "execution_count": 126,
   "metadata": {
    "collapsed": true
   },
   "outputs": [],
   "source": [
    "# Remove the non-compositional kernels AND leave only the best-fitting kernel for each (pid, scenario)\n",
    "best_fitting_per_pid_scenario <- function(lmls_ff) {\n",
    "   lmls_ff %>%\n",
    "    filter( kernel != 'l', kernel != 'p', kernel != 'r' ) %>%\n",
    "    group_by( pid, scenario, condition ) %>%\n",
    "    summarize( best_kernel = kernel[which.max(lml)],\n",
    "               lml         =    lml[which.max(lml)])  \n",
    "}\n",
    "\n",
    "# Calculate the best fitting compositional kernels in each condition\n",
    "best_in_prior <- best_fitting_per_pid_scenario(lmls_prior_ff)\n",
    "best_in_posterior <- best_fitting_per_pid_scenario(lmls_posterior_participants_ff)\n",
    "\n",
    "# Merging the best fitting compositions\n",
    "best_fitting_kernels <- merge(\n",
    "                            x = best_in_prior,\n",
    "                            y = best_in_posterior,\n",
    "                            by = c('pid', 'scenario'),\n",
    "                            suffixes = c('_prior', '_posterior')\n",
    ")"
   ]
  },
  {
   "cell_type": "code",
   "execution_count": 127,
   "metadata": {},
   "outputs": [
    {
     "data": {
      "text/html": [
       "0.09"
      ],
      "text/latex": [
       "0.09"
      ],
      "text/markdown": [
       "0.09"
      ],
      "text/plain": [
       "[1] 0.09"
      ]
     },
     "metadata": {},
     "output_type": "display_data"
    }
   ],
   "source": [
    "(1 / (length(kernels) - 3)) %>% round(2)"
   ]
  },
  {
   "cell_type": "code",
   "execution_count": 128,
   "metadata": {
    "collapsed": true
   },
   "outputs": [],
   "source": [
    "# Now we have to check and calculate the proportions of match\n",
    "match_per_condition <- best_fitting_kernels %>%\n",
    "    mutate(match = (best_kernel_prior == best_kernel_posterior)) %>%\n",
    "    group_by(condition_posterior) %>%\n",
    "    summarize(match_proportion = bp2(match, alpha=0.01)[1], \n",
    "              lo_ci            = bp2(match, alpha=0.01)[2], \n",
    "              hi_ci            = bp2(match, alpha=0.01)[3])\n",
    "\n",
    "match_per_scenario <- best_fitting_kernels %>%\n",
    "    mutate(match = (best_kernel_prior == best_kernel_posterior)) %>%\n",
    "    group_by(scenario) %>%\n",
    "    summarize(match_proportion = bp2(match, alpha=0.01)[1], \n",
    "              lo_ci            = bp2(match, alpha=0.01)[2], \n",
    "              hi_ci            = bp2(match, alpha=0.01)[3])"
   ]
  },
  {
   "cell_type": "markdown",
   "metadata": {},
   "source": [
    "##### Plot the matching"
   ]
  },
  {
   "cell_type": "code",
   "execution_count": 129,
   "metadata": {
    "collapsed": true
   },
   "outputs": [],
   "source": [
    "plot_consistence = function(consistence_data, title, xlab, ylim_hi=0.45, ylab=\"Proportion of Match\", x_grouping)\n",
    "    consistence_data %>%\n",
    "                ggplot(aes_string(x = x_grouping, y = 'match_proportion')) + \n",
    "                    geom_bar(stat=\"identity\") +\n",
    "                    scale_fill_manual(values=c(\"grey35\", \"black\")) +\n",
    "                    coord_cartesian (ylim=c(0, ylim_hi)) +\n",
    "                    labs(title = title) +\n",
    "                    ggthemes::theme_few() +\n",
    "                    theme(legend.position=\"none\") +\n",
    "                    xlab(xlab) + \n",
    "                    ylab(ylab) +\n",
    "                    geom_errorbar(aes(ymin=as.numeric(lo_ci), ymax=as.numeric(hi_ci)),\n",
    "                                      width=.3,                   \n",
    "                                      position=position_dodge(.9)) +\n",
    "                    theme(#axis.text.x = element_text(angle = 90,  vjust = 0.5, hjust=0),\n",
    "                          text = element_text(size=12, family=\"serif\"),\n",
    "                          plot.title = element_text(hjust = 0.5)) +\n",
    "                    geom_hline(yintercept = 1/11, linetype=\"dashed\") #chance value"
   ]
  },
  {
   "cell_type": "code",
   "execution_count": 130,
   "metadata": {
    "collapsed": true
   },
   "outputs": [],
   "source": [
    "# VISUALIZATION stuff\n",
    "posterior_conditions <- c('Posterior-Positive', 'Posterior-Stable', 'Posterior-Negative')\n",
    "readable_posterior_conditions <- c('Positive', 'Stable', 'Negative')\n",
    "\n",
    "readable_scenarios_2 <- c(\"Temperature\", \"Rain\", \"Sales\", \"Gym\", \"Salary\", \"FB Friends\")\n",
    "\n",
    "# Change the order and readability of the data\n",
    "## Conditions\n",
    "match_per_condition$condition_posterior <- mapvalues( match_per_condition$condition_posterior,\n",
    "                                                      from = posterior_conditions,\n",
    "                                                      to   = readable_posterior_conditions )\n",
    "\n",
    "match_per_condition$condition_posterior <- factor( match_per_condition$condition_posterior,\n",
    "                                                   levels = readable_posterior_conditions )\n",
    "\n",
    "## Scenarios\n",
    "match_per_scenario$scenario <- mapvalues( match_per_scenario$scenario,\n",
    "                                          from = readable_scenarios,\n",
    "                                          to   = readable_scenarios_2 )\n",
    "\n",
    "match_per_scenario$scenario <- factor( match_per_scenario$scenario,\n",
    "                                       levels = readable_scenarios_2 )"
   ]
  },
  {
   "cell_type": "code",
   "execution_count": 131,
   "metadata": {},
   "outputs": [
    {
     "data": {
      "text/html": [
       "<strong>png:</strong> 2"
      ],
      "text/latex": [
       "\\textbf{png:} 2"
      ],
      "text/markdown": [
       "**png:** 2"
      ],
      "text/plain": [
       "png \n",
       "  2 "
      ]
     },
     "metadata": {},
     "output_type": "display_data"
    }
   ],
   "source": [
    "plot_cond <- match_per_condition %>% plot_consistence(title=\"(a)\", xlab=\"Posterior conditions\", x_grouping=\"condition_posterior\")\n",
    "\n",
    "plot_scen <- match_per_scenario %>% plot_consistence(title=\"(b)\", xlab=\"Scenarios\", x_grouping=\"scenario\")\n",
    "\n",
    "pdf(\"Images/paper_images/match_proportion.pdf\", width=4, height=6)\n",
    "multiplot(plot_cond, plot_scen, cols=1)\n",
    "dev.off()  "
   ]
  },
  {
   "cell_type": "markdown",
   "metadata": {
    "collapsed": true
   },
   "source": [
    "# Debug\n",
    "###### Prior participant\n"
   ]
  },
  {
   "cell_type": "code",
   "execution_count": 115,
   "metadata": {},
   "outputs": [
    {
     "name": "stderr",
     "output_type": "stream",
     "text": [
      "Warning message:\n",
      "\"Missing column names filled in: 'X1' [1]\"Parsed with column specification:\n",
      "cols(\n",
      "  X1 = col_integer(),\n",
      "  id = col_integer(),\n",
      "  pid = col_character(),\n",
      "  scenario = col_character(),\n",
      "  x = col_integer(),\n",
      "  y = col_double()\n",
      ")\n"
     ]
    }
   ],
   "source": [
    "raw_prior_data <- read_csv('data/for_composititional_analysis_prior.csv')"
   ]
  },
  {
   "cell_type": "code",
   "execution_count": 132,
   "metadata": {},
   "outputs": [
    {
     "data": {},
     "metadata": {},
     "output_type": "display_data"
    },
    {
     "data": {
      "image/png": "[encoded data removed]",
      "text/plain": [
       "plot without title"
      ]
     },
     "metadata": {},
     "output_type": "display_data"
    }
   ],
   "source": [
    "raw_prior_data %>%\n",
    "    filter(pid == 'a008', scenario == 'Sales') %>%\n",
    "    ggplot(aes(x, y)) + geom_line()"
   ]
  },
  {
   "cell_type": "markdown",
   "metadata": {
    "collapsed": true
   },
   "source": [
    "## Posterior "
   ]
  },
  {
   "cell_type": "code",
   "execution_count": 308,
   "metadata": {
    "collapsed": true
   },
   "outputs": [],
   "source": [
    "# Sequence of days to analyze:\n",
    "new_sequence = seq(31, 1426, 5)"
   ]
  },
  {
   "cell_type": "code",
   "execution_count": 349,
   "metadata": {
    "collapsed": true
   },
   "outputs": [],
   "source": [
    "# Inner join. \n",
    "# This is the predictions data merged with the best performing (and filtered) kernels in the posterior condition\n",
    "new_pred <- merge( \n",
    "            # Predictions (full-Bayesian):\n",
    "            x = predictions %>%\n",
    "                    filter(day %in% new_sequence),\n",
    "\n",
    "            # Kernels after the filters:\n",
    "            y = lmls_posterior_ff %>%\n",
    "                    select(cid=id, pid, scenario, kernel, lml),\n",
    "\n",
    "            by = c('cid', 'kernel')\n",
    ")\n",
    "\n",
    "# Participants' data\n",
    "new_participants_data <- dat %>% \n",
    "                        filter(#day > 365-31, #remove evidence\n",
    "                               condition != 'Prior', #only Posterior conditions\n",
    "                               day %in% new_sequence) %>%\n",
    "                        select(pid = id, day, value_participant=value, scenario, condition, noise)\n",
    "\n",
    "# Merge the predictions with the real participants' data\n",
    "new_all_pred_data <- merge(\n",
    "                # Predictions + Kernel posterior analysis:\n",
    "                x = new_pred,\n",
    "    \n",
    "                # Participant's data:\n",
    "                y = new_participants_data,\n",
    "    \n",
    "                by = c('pid', 'scenario', 'day')\n",
    ")"
   ]
  },
  {
   "cell_type": "code",
   "execution_count": 350,
   "metadata": {
    "collapsed": true
   },
   "outputs": [],
   "source": [
    "# New error dataset (mean-error per participant per scenario per model)\n",
    "new_error_per_participant <- new_all_pred_data %>%\n",
    "                            #filter(day <= 365*2) %>% # To Eric: this is something I though about. What do you think about it?\n",
    "                            group_by(pid, scenario, kernel, lml) %>% \n",
    "                            summarize(error = calculate_mean_error(value, value_participant))\n",
    "\n",
    "\n",
    "new_error_per_participant <- add_is_max_column(new_error_per_participant)\n",
    "\n",
    "\n",
    "new_error_per_participant <- new_error_per_participant %>%\n",
    "                                filter(kernel == 'r' | is_max)\n",
    "\n",
    "# Remove those [pid, kernel] combinations where the R kernel was not present (because it was previously filtered out)\n",
    "new_error_per_participant_ff <- new_error_per_participant %>%\n",
    "                                group_by(pid, scenario) %>%\n",
    "                                filter(length(kernel) > 1)"
   ]
  },
  {
   "cell_type": "code",
   "execution_count": 351,
   "metadata": {
    "collapsed": true
   },
   "outputs": [],
   "source": [
    "to_plot_post <- merge(\n",
    "                    x = new_all_pred_data,\n",
    "                    y = new_error_per_participant_ff %>% select(pid, scenario, kernel) %>% unique\n",
    "                )\n",
    "\n",
    "to_plot_post$id <- paste(to_plot_post$cid, to_plot_post$kernel)"
   ]
  },
  {
   "cell_type": "code",
   "execution_count": 352,
   "metadata": {
    "collapsed": true
   },
   "outputs": [],
   "source": [
    "# Temperature: a001, a010, a012"
   ]
  },
  {
   "cell_type": "code",
   "execution_count": 366,
   "metadata": {},
   "outputs": [
    {
     "data": {},
     "metadata": {},
     "output_type": "display_data"
    },
    {
     "data": {
      "image/png": "[encoded data removed]",
      "text/plain": [
       "plot without title"
      ]
     },
     "metadata": {},
     "output_type": "display_data"
    }
   ],
   "source": [
    "to_plot_post %>% \n",
    "    filter(scenario == 'Temperature',\n",
    "           pid == 'a001' ) %>%\n",
    "    ggplot() +\n",
    "    geom_line(aes(x=day, y=value_participant, group=id), color='blue', size=1, alpha=0.8) +\n",
    "    geom_line(aes(x=day, y=value, group=kernel, color=kernel), size=1, alpha=0.8) +\n",
    "    ggthemes::theme_few()"
   ]
  },
  {
   "cell_type": "code",
   "execution_count": null,
   "metadata": {
    "collapsed": true
   },
   "outputs": [],
   "source": []
  },
  {
   "cell_type": "code",
   "execution_count": null,
   "metadata": {
    "collapsed": true
   },
   "outputs": [],
   "source": []
  },
  {
   "cell_type": "code",
   "execution_count": null,
   "metadata": {
    "collapsed": true
   },
   "outputs": [],
   "source": []
  },
  {
   "cell_type": "code",
   "execution_count": null,
   "metadata": {
    "collapsed": true
   },
   "outputs": [],
   "source": []
  }
 ],
 "metadata": {
  "kernelspec": {
   "display_name": "R",
   "language": "R",
   "name": "ir"
  },
  "language_info": {
   "codemirror_mode": "r",
   "file_extension": ".r",
   "mimetype": "text/x-r-source",
   "name": "R",
   "pygments_lexer": "r",
   "version": "3.3.1"
  }
 },
 "nbformat": 4,
 "nbformat_minor": 2
}
