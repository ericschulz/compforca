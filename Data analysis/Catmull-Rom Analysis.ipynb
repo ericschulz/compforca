{
 "cells": [
  {
   "cell_type": "markdown",
   "metadata": {},
   "source": [
    "# Catmull-Rom Analysis\n",
    "This Notebook contains all the analysis made directly on the Catmull-Rom CSV file."
   ]
  },
  {
   "cell_type": "markdown",
   "metadata": {},
   "source": [
    "## Libraries"
   ]
  },
  {
   "cell_type": "code",
   "execution_count": 1,
   "metadata": {},
   "outputs": [
    {
     "name": "stderr",
     "output_type": "stream",
     "text": [
      "Warning message:\n",
      "\"package 'plyr' was built under R version 3.3.3\"Warning message:\n",
      "\"package 'tidyverse' was built under R version 3.3.3\"Loading tidyverse: ggplot2\n",
      "Loading tidyverse: tibble\n",
      "Loading tidyverse: tidyr\n",
      "Loading tidyverse: readr\n",
      "Loading tidyverse: purrr\n",
      "Loading tidyverse: dplyr\n",
      "Warning message:\n",
      "\"package 'ggplot2' was built under R version 3.3.3\"Warning message:\n",
      "\"package 'tibble' was built under R version 3.3.3\"Warning message:\n",
      "\"package 'tidyr' was built under R version 3.3.3\"Warning message:\n",
      "\"package 'readr' was built under R version 3.3.3\"Warning message:\n",
      "\"package 'purrr' was built under R version 3.3.3\"Warning message:\n",
      "\"package 'dplyr' was built under R version 3.3.3\"Conflicts with tidy packages ---------------------------------------------------\n",
      "arrange():   dplyr, plyr\n",
      "compact():   purrr, plyr\n",
      "count():     dplyr, plyr\n",
      "failwith():  dplyr, plyr\n",
      "filter():    dplyr, stats\n",
      "id():        dplyr, plyr\n",
      "lag():       dplyr, stats\n",
      "mutate():    dplyr, plyr\n",
      "rename():    dplyr, plyr\n",
      "summarise(): dplyr, plyr\n",
      "summarize(): dplyr, plyr\n",
      "Warning message:\n",
      "\"package 'DT' was built under R version 3.3.3\"Warning message:\n",
      "\"package 'ggthemes' was built under R version 3.3.3\"Warning message:\n",
      "\"package 'plotly' was built under R version 3.3.3\"\n",
      "Attaching package: 'plotly'\n",
      "\n",
      "The following object is masked from 'package:ggplot2':\n",
      "\n",
      "    last_plot\n",
      "\n",
      "The following objects are masked from 'package:plyr':\n",
      "\n",
      "    arrange, mutate, rename, summarise\n",
      "\n",
      "The following object is masked from 'package:stats':\n",
      "\n",
      "    filter\n",
      "\n",
      "The following object is masked from 'package:graphics':\n",
      "\n",
      "    layout\n",
      "\n"
     ]
    }
   ],
   "source": [
    "library(plyr)\n",
    "\n",
    "library(tidyverse)\n",
    "library(DT) # dependency\n",
    "library(ggthemes) # dependency\n",
    "\n",
    "library(plotly)"
   ]
  },
  {
   "cell_type": "markdown",
   "metadata": {},
   "source": [
    "## Universal functions and variables"
   ]
  },
  {
   "cell_type": "code",
   "execution_count": 2,
   "metadata": {
    "collapsed": true
   },
   "outputs": [],
   "source": [
    "scenarios <- c(\"temperature\", \"rain\", \"sales\", \"gym_memberships\", \"wage\", \"facebook_friends\")\n",
    "\n",
    "readable_scenarios <- c(\"Temperature\", \"Rain\", \"Sales\", \"Gym members\", \"Salary\", \"FB Friends\")\n",
    "\n",
    "subconditions = c(1, 2, 3)\n",
    "\n",
    "condition_names = c(\"Prior\", \"Posterior-Positive\", \"Posterior-Stable\", \"Posterior-Negative\")"
   ]
  },
  {
   "cell_type": "code",
   "execution_count": 3,
   "metadata": {
    "collapsed": true
   },
   "outputs": [],
   "source": [
    "get_range <- function(condition){\n",
    "    \n",
    "    range_array <- switch(\n",
    "            condition,\n",
    "            temperature = c(-10, 40),\n",
    "            sales = c(0, 5000),\n",
    "            facebook_friends = c(0, 1000),\n",
    "            rain = c(0, 100),\n",
    "            gym_memberships = c(0, 50),\n",
    "            wage = c(0, 50)\n",
    "        )\n",
    "    \n",
    "    range_value <- range_array[2] - range_array[1]\n",
    "    \n",
    "    delta <- range_value / 10\n",
    "    \n",
    "    c(range_array[1] - delta, range_array[2] + delta)\n",
    "}"
   ]
  },
  {
   "cell_type": "code",
   "execution_count": 4,
   "metadata": {
    "collapsed": true
   },
   "outputs": [],
   "source": [
    "to_pdf = TRUE\n",
    "\n",
    "resolution = 30"
   ]
  },
  {
   "cell_type": "markdown",
   "metadata": {},
   "source": [
    "## Preparing the data"
   ]
  },
  {
   "cell_type": "code",
   "execution_count": 5,
   "metadata": {},
   "outputs": [
    {
     "name": "stderr",
     "output_type": "stream",
     "text": [
      "Parsed with column specification:\n",
      "cols(\n",
      "  .default = col_double(),\n",
      "  userId = col_character(),\n",
      "  age = col_character(),\n",
      "  datetime = col_character(),\n",
      "  gender = col_character(),\n",
      "  datetime_1 = col_character(),\n",
      "  stage = col_integer(),\n",
      "  scenario = col_character(),\n",
      "  subcondition = col_integer(),\n",
      "  pageIndex = col_integer(),\n",
      "  noiseIndex = col_integer(),\n",
      "  day0 = col_character(),\n",
      "  day1 = col_character(),\n",
      "  day2 = col_character(),\n",
      "  day3 = col_character(),\n",
      "  day4 = col_character(),\n",
      "  day5 = col_character(),\n",
      "  day6 = col_character(),\n",
      "  day7 = col_character(),\n",
      "  day8 = col_character(),\n",
      "  day9 = col_character()\n",
      "  # ... with 69 more columns\n",
      ")\n",
      "See spec(...) for full column specifications.\n"
     ]
    }
   ],
   "source": [
    "data <- suppressWarnings(read_csv(\"data/catmull-rom-dataset.csv\"))\n",
    "\n",
    "data$noiseIndex <- data$noiseIndex+1"
   ]
  },
  {
   "cell_type": "markdown",
   "metadata": {},
   "source": [
    "### Suppress invalid participants\n",
    "- `a021`: Response in Temperature (constant -10) indicates a non-interested participant.\n",
    "- `a106`: Participant misunderstood the instructions and always added a point on the far right and far bottom.\n",
    "- `a118`: Participant indicated that he had trouble with the interface."
   ]
  },
  {
   "cell_type": "code",
   "execution_count": 6,
   "metadata": {},
   "outputs": [
    {
     "name": "stderr",
     "output_type": "stream",
     "text": [
      "Warning message:\n",
      "\"package 'bindrcpp' was built under R version 3.3.3\""
     ]
    }
   ],
   "source": [
    "participants <- data %>%\n",
    "                select(userId, age, gender) %>%\n",
    "                unique\n",
    "\n",
    "data <- data %>%\n",
    "            filter(#userId != 'a021',\n",
    "                   userId != 'a106',\n",
    "                   userId != 'a118')"
   ]
  },
  {
   "cell_type": "markdown",
   "metadata": {},
   "source": [
    "# Tidy data (*tidyverse*)"
   ]
  },
  {
   "cell_type": "code",
   "execution_count": 7,
   "metadata": {},
   "outputs": [
    {
     "name": "stderr",
     "output_type": "stream",
     "text": [
      "Warning message in eval(substitute(expr), envir, enclos):\n",
      "\"NAs introduced by coercion\""
     ]
    }
   ],
   "source": [
    "# To tidy data\n",
    "tidy_data <- data %>% \n",
    "    gather(day, value, starts_with(\"day\"))\n",
    "\n",
    "# Transform strings to numbers\n",
    "tidy_data <- tidy_data %>%\n",
    "    mutate(day = as.numeric(gsub(\"day\", \"\", day)),\n",
    "           value = as.numeric(value))\n",
    "\n",
    "# Changes values to make them readable\n",
    "# TODO: make this tidier:\n",
    "tidy_data$subcondition_name <- mapvalues(tidy_data$subcondition,\n",
    "                                  from = subconditions,\n",
    "                                  to   = condition_names[2:4])\n",
    "\n",
    "tidy_data$condition_name <- ifelse(tidy_data$stage==1,\n",
    "                                   condition_names[1], \n",
    "                                   \"\")\n",
    "\n",
    "tidy_data$condition_name <- ifelse(tidy_data$stage == 2, \n",
    "                                   tidy_data$subcondition_name, \n",
    "                                   tidy_data$condition_name)"
   ]
  },
  {
   "cell_type": "markdown",
   "metadata": {},
   "source": [
    "# Participants"
   ]
  },
  {
   "cell_type": "code",
   "execution_count": 8,
   "metadata": {
    "collapsed": true
   },
   "outputs": [],
   "source": [
    "participants$age_number<- mapvalues(participants$age,\n",
    "                              from = c('18-25',   '26-35',   '36-45',   '46-55',   '56-65',  '66+'),\n",
    "                              to   = c((25-18)/2+18, (35-26)/2+26, (45-36)/2+36, (55-46)/2+46, (65-56)+56/2, 66))\n",
    "\n",
    "participants$age_number <- as.numeric(participants$age_number)"
   ]
  },
  {
   "cell_type": "markdown",
   "metadata": {},
   "source": [
    "### Age"
   ]
  },
  {
   "cell_type": "code",
   "execution_count": 9,
   "metadata": {},
   "outputs": [
    {
     "data": {
      "text/html": [
       "<table>\n",
       "<thead><tr><th scope=col>mean(age_number)</th><th scope=col>sd(age_number)</th></tr></thead>\n",
       "<tbody>\n",
       "\t<tr><td>34.44</td><td>9.62 </td></tr>\n",
       "</tbody>\n",
       "</table>\n"
      ],
      "text/latex": [
       "\\begin{tabular}{r|ll}\n",
       " mean(age\\_number) & sd(age\\_number)\\\\\n",
       "\\hline\n",
       "\t 34.44 & 9.62 \\\\\n",
       "\\end{tabular}\n"
      ],
      "text/markdown": [
       "\n",
       "mean(age_number) | sd(age_number) | \n",
       "|---|\n",
       "| 34.44 | 9.62  | \n",
       "\n",
       "\n"
      ],
      "text/plain": [
       "  mean(age_number) sd(age_number)\n",
       "1 34.44            9.62          "
      ]
     },
     "metadata": {},
     "output_type": "display_data"
    }
   ],
   "source": [
    "participants %>%\n",
    "    summarize(mean(age_number), sd(age_number)) %>%\n",
    "    round(2)"
   ]
  },
  {
   "cell_type": "markdown",
   "metadata": {},
   "source": [
    "### Gender"
   ]
  },
  {
   "cell_type": "code",
   "execution_count": 10,
   "metadata": {},
   "outputs": [
    {
     "data": {
      "text/html": [
       "55"
      ],
      "text/latex": [
       "55"
      ],
      "text/markdown": [
       "55"
      ],
      "text/plain": [
       "[1] 55"
      ]
     },
     "metadata": {},
     "output_type": "display_data"
    }
   ],
   "source": [
    "participants %>%\n",
    "    filter(gender == 'female') %>%\n",
    "    nrow"
   ]
  },
  {
   "cell_type": "markdown",
   "metadata": {},
   "source": [
    "### Total"
   ]
  },
  {
   "cell_type": "code",
   "execution_count": 11,
   "metadata": {},
   "outputs": [
    {
     "data": {
      "text/html": [
       "121"
      ],
      "text/latex": [
       "121"
      ],
      "text/markdown": [
       "121"
      ],
      "text/plain": [
       "[1] 121"
      ]
     },
     "metadata": {},
     "output_type": "display_data"
    }
   ],
   "source": [
    "participants %>%\n",
    "    nrow"
   ]
  },
  {
   "cell_type": "markdown",
   "metadata": {},
   "source": [
    "# Preparing the data for analysis"
   ]
  },
  {
   "cell_type": "code",
   "execution_count": 12,
   "metadata": {},
   "outputs": [],
   "source": [
    "dat <- data.frame(\n",
    "                    id        = tidy_data$userId,\n",
    "                    day       = tidy_data$day, #x\n",
    "                    value     = tidy_data$value, #y\n",
    "                    condition = tidy_data$condition_name,\n",
    "                    scenario  = tidy_data$scenario,\n",
    "                    noise     = tidy_data$noiseIndex\n",
    "                 )\n",
    "\n",
    "# Change the readable names of the variables\n",
    "dat$scenario <- mapvalues( dat$scenario, \n",
    "                           from = scenarios,\n",
    "                           to = readable_scenarios)\n",
    "\n",
    "\n",
    "# Order on the plot\n",
    "dat$condition <- factor( dat$condition, \n",
    "                         levels = condition_names)\n",
    "\n",
    "dat$scenario <- factor( dat$scenario, \n",
    "                        levels = readable_scenarios)\n",
    "\n",
    "# Subset the analysis of data\n",
    "dat <- subset(dat, day > 30 & day < 365*4-30)"
   ]
  },
  {
   "cell_type": "markdown",
   "metadata": {},
   "source": [
    "# PLOTS"
   ]
  },
  {
   "cell_type": "markdown",
   "metadata": {},
   "source": [
    "## Specific data for the plots"
   ]
  },
  {
   "cell_type": "code",
   "execution_count": 122,
   "metadata": {
    "collapsed": true
   },
   "outputs": [],
   "source": [
    "dplot <- subset(dat, day %in% seq(min(dat$day), max(dat$day), resolution))"
   ]
  },
  {
   "cell_type": "markdown",
   "metadata": {},
   "source": [
    "### Mean plot"
   ]
  },
  {
   "cell_type": "code",
   "execution_count": 47,
   "metadata": {
    "scrolled": false
   },
   "outputs": [
    {
     "data": {},
     "metadata": {},
     "output_type": "display_data"
    },
    {
     "data": {
      "text/html": [
       "<strong>png:</strong> 2"
      ],
      "text/latex": [
       "\\textbf{png:} 2"
      ],
      "text/markdown": [
       "**png:** 2"
      ],
      "text/plain": [
       "png \n",
       "  2 "
      ]
     },
     "metadata": {},
     "output_type": "display_data"
    }
   ],
   "source": [
    "# Mean\n",
    "trend <- dat %>%\n",
    "    ddply(~scenario+condition+day, summarize, value=mean(value, trim=0.1))\n",
    "\n",
    "trend$id <- \"1\"\n",
    "\n",
    "p1 <- dplot %>%\n",
    "        ggplot(aes(x=day, y=value, group=id)) + \n",
    "        geom_line(col=\"steelblue\", alpha=0.2) +\n",
    "        facet_grid(scenario~condition, scales=\"free_y\") +\n",
    "        theme_classic() + \n",
    "        xlab(\"Year\") + \n",
    "        ylab(\"Values with mean\") +\n",
    "        geom_line(data=trend, aes(x=day, y=value), colour=\"black\") +\n",
    "        scale_x_continuous(breaks=c(0, 365, 365*2, 365*3), labels=c('Y1', 'Y2', 'Y3', 'Y4')) +\n",
    "        geom_vline(data=filter(dplot, condition!=\"Prior\"), aes(xintercept=365), colour=\"steelblue\") +\n",
    "        theme(  text = element_text(size=12, family=\"serif\"),\n",
    "                axis.line = element_line(colour=\"black\", size=0.1),\n",
    "                panel.spacing.x = unit(0.5, \"lines\"),\n",
    "                panel.spacing.y = unit(0.8, \"lines\"),\n",
    "                panel.background = element_blank(),\n",
    "                panel.grid.major = element_blank(), \n",
    "                panel.grid.minor = element_blank(),\n",
    "                panel.border = element_rect(colour=\"black\", fill=NA, size=0.1))\n",
    "\n",
    "\n",
    "#p1\n",
    "\n",
    "svg(\"responses_with_mean.svg\")\n",
    "p1\n",
    "dev.off()"
   ]
  },
  {
   "cell_type": "markdown",
   "metadata": {
    "collapsed": true
   },
   "source": [
    "### Variance"
   ]
  },
  {
   "cell_type": "code",
   "execution_count": 52,
   "metadata": {
    "collapsed": true
   },
   "outputs": [],
   "source": [
    "trend <- dat %>%\n",
    "    ddply(~scenario+condition+day, summarize, value=var(value))\n",
    "\n",
    "trend$id <- \"1\""
   ]
  },
  {
   "cell_type": "code",
   "execution_count": 53,
   "metadata": {
    "scrolled": false
   },
   "outputs": [
    {
     "data": {},
     "metadata": {},
     "output_type": "display_data"
    },
    {
     "data": {
      "image/png": "[encoded data removed]",
      "text/plain": [
       "plot without title"
      ]
     },
     "metadata": {},
     "output_type": "display_data"
    }
   ],
   "source": [
    "p2 <- dplot %>%\n",
    "        ggplot(aes(x=day, y=value, group=id)) + \n",
    "        #geom_line(col=\"steelblue\", alpha=0.2) +\n",
    "        facet_grid(scenario~condition, scales=\"free_y\") +\n",
    "        theme_classic() + \n",
    "        xlab(\"Year\") + \n",
    "        ylab(\"Variance per day\") +\n",
    "        geom_line(data=trend, aes(x=day, y=value), colour=\"black\") +\n",
    "        scale_x_continuous(breaks=c(0, 365, 365*2, 365*3), labels=c('Y1', 'Y2', 'Y3', 'Y4')) +\n",
    "        geom_vline(data=filter(dplot, condition!=\"Prior\"), aes(xintercept=365), colour=\"steelblue\") +\n",
    "        theme(  text = element_text(size=12, family=\"serif\"),\n",
    "                axis.line = element_line(colour=\"black\", size=0.1),\n",
    "                panel.spacing.x = unit(0.5, \"lines\"),\n",
    "                panel.spacing.y = unit(0.8, \"lines\"),\n",
    "                panel.background = element_blank(),\n",
    "                panel.grid.major = element_blank(), \n",
    "                panel.grid.minor = element_blank(),\n",
    "                panel.border = element_rect(colour=\"black\", fill=NA, size=0.1))\n",
    "\n",
    "p2"
   ]
  },
  {
   "cell_type": "markdown",
   "metadata": {},
   "source": [
    "### Normalized variance"
   ]
  },
  {
   "cell_type": "code",
   "execution_count": 32,
   "metadata": {
    "collapsed": true
   },
   "outputs": [],
   "source": [
    "# Variance per scenario, condition, and day\n",
    "variances <- dat %>%\n",
    "                    group_by(scenario, condition, day) %>%\n",
    "                    summarize(value_var = var(value))"
   ]
  },
  {
   "cell_type": "code",
   "execution_count": 34,
   "metadata": {},
   "outputs": [],
   "source": [
    "norm_variances <- variances %>%\n",
    "                        group_by(condition, day) %>%\n",
    "                        mutate(scaled_value = scale(value_var))"
   ]
  },
  {
   "cell_type": "code",
   "execution_count": 36,
   "metadata": {},
   "outputs": [
    {
     "data": {
      "text/html": [
       "<table>\n",
       "<thead><tr><th scope=col>scenario</th><th scope=col>condition</th><th scope=col>day</th><th scope=col>value_var</th><th scope=col>scaled_value</th></tr></thead>\n",
       "<tbody>\n",
       "\t<tr><td>Temperature</td><td>Prior      </td><td>31         </td><td>60.40131   </td><td>-0.4169304 </td></tr>\n",
       "\t<tr><td>Temperature</td><td>Prior      </td><td>32         </td><td>59.98923   </td><td>-0.4169271 </td></tr>\n",
       "\t<tr><td>Temperature</td><td>Prior      </td><td>33         </td><td>59.57901   </td><td>-0.4169243 </td></tr>\n",
       "\t<tr><td>Temperature</td><td>Prior      </td><td>34         </td><td>59.17427   </td><td>-0.4169230 </td></tr>\n",
       "\t<tr><td>Temperature</td><td>Prior      </td><td>35         </td><td>58.77812   </td><td>-0.4169224 </td></tr>\n",
       "\t<tr><td>Temperature</td><td>Prior      </td><td>36         </td><td>58.38566   </td><td>-0.4169234 </td></tr>\n",
       "</tbody>\n",
       "</table>\n"
      ],
      "text/latex": [
       "\\begin{tabular}{r|lllll}\n",
       " scenario & condition & day & value\\_var & scaled\\_value\\\\\n",
       "\\hline\n",
       "\t Temperature & Prior       & 31          & 60.40131    & -0.4169304 \\\\\n",
       "\t Temperature & Prior       & 32          & 59.98923    & -0.4169271 \\\\\n",
       "\t Temperature & Prior       & 33          & 59.57901    & -0.4169243 \\\\\n",
       "\t Temperature & Prior       & 34          & 59.17427    & -0.4169230 \\\\\n",
       "\t Temperature & Prior       & 35          & 58.77812    & -0.4169224 \\\\\n",
       "\t Temperature & Prior       & 36          & 58.38566    & -0.4169234 \\\\\n",
       "\\end{tabular}\n"
      ],
      "text/markdown": [
       "\n",
       "scenario | condition | day | value_var | scaled_value | \n",
       "|---|---|---|---|---|---|\n",
       "| Temperature | Prior       | 31          | 60.40131    | -0.4169304  | \n",
       "| Temperature | Prior       | 32          | 59.98923    | -0.4169271  | \n",
       "| Temperature | Prior       | 33          | 59.57901    | -0.4169243  | \n",
       "| Temperature | Prior       | 34          | 59.17427    | -0.4169230  | \n",
       "| Temperature | Prior       | 35          | 58.77812    | -0.4169224  | \n",
       "| Temperature | Prior       | 36          | 58.38566    | -0.4169234  | \n",
       "\n",
       "\n"
      ],
      "text/plain": [
       "  scenario    condition day value_var scaled_value\n",
       "1 Temperature Prior     31  60.40131  -0.4169304  \n",
       "2 Temperature Prior     32  59.98923  -0.4169271  \n",
       "3 Temperature Prior     33  59.57901  -0.4169243  \n",
       "4 Temperature Prior     34  59.17427  -0.4169230  \n",
       "5 Temperature Prior     35  58.77812  -0.4169224  \n",
       "6 Temperature Prior     36  58.38566  -0.4169234  "
      ]
     },
     "metadata": {},
     "output_type": "display_data"
    }
   ],
   "source": [
    "norm_variances %>% head"
   ]
  },
  {
   "cell_type": "markdown",
   "metadata": {},
   "source": [
    "### Derivative (slope)"
   ]
  },
  {
   "cell_type": "code",
   "execution_count": 54,
   "metadata": {
    "collapsed": true
   },
   "outputs": [],
   "source": [
    "slope <- function( column ) {\n",
    "    \n",
    "    y1 = column$value[-1]\n",
    "    \n",
    "    y0 = column$value[-length(column$value)]\n",
    "    \n",
    "    return(y1-y0)\n",
    "}"
   ]
  },
  {
   "cell_type": "code",
   "execution_count": 55,
   "metadata": {
    "collapsed": true
   },
   "outputs": [],
   "source": [
    "slopes <- ddply(dat, ~condition+scenario+id, slope)\n",
    "\n",
    "slopes <- slopes %>% \n",
    "    gather(day, value, starts_with(\"V\")) %>%\n",
    "    mutate(day = as.numeric(gsub(\"V\", \"\", day)))\n",
    "\n",
    "# Order on the plot\n",
    "slopes$condition <- factor( slopes$condition, \n",
    "                         levels = condition_names)\n",
    "\n",
    "slopes$scenario <- factor( slopes$scenario, \n",
    "                        levels = readable_scenarios)"
   ]
  },
  {
   "cell_type": "code",
   "execution_count": 56,
   "metadata": {
    "collapsed": true
   },
   "outputs": [],
   "source": [
    "trend <- slopes %>%\n",
    "    ddply(~scenario+condition+day, summarize, value=mean(value))\n",
    "\n",
    "trend$id <- \"1\"\n",
    "\n",
    "slopes_plot <- subset(slopes, day %in% seq(min(dat$day), max(dat$day), resolution))"
   ]
  },
  {
   "cell_type": "code",
   "execution_count": 57,
   "metadata": {},
   "outputs": [
    {
     "data": {},
     "metadata": {},
     "output_type": "display_data"
    },
    {
     "data": {
      "image/png": "[encoded data removed]",
      "text/plain": [
       "plot without title"
      ]
     },
     "metadata": {},
     "output_type": "display_data"
    }
   ],
   "source": [
    "p3 <- slopes_plot %>%\n",
    "        ggplot(aes(x=day, y=value, group=id)) + \n",
    "        #geom_line(col=\"steelblue\", alpha=0.2) +\n",
    "        facet_grid(scenario~condition, scales=\"free_y\") +\n",
    "        theme_classic() + \n",
    "        xlab(\"Year\") + \n",
    "        ylab(\"Mean slope per day\") +\n",
    "        geom_line(data=trend, aes(x=day, y=value), colour=\"black\") +\n",
    "        scale_x_continuous(breaks=c(0, 365, 365*2, 365*3), labels=c('Y1', 'Y2', 'Y3', 'Y4')) +\n",
    "        geom_vline(data=filter(dplot, condition!=\"Prior\"), aes(xintercept=365), colour=\"steelblue\") +\n",
    "        theme(  text = element_text(size=12, family=\"serif\"),\n",
    "                axis.line = element_line(colour=\"black\", size=0.1),\n",
    "                panel.spacing.x = unit(0.5, \"lines\"),\n",
    "                panel.spacing.y = unit(0.8, \"lines\"),\n",
    "                panel.background = element_blank(),\n",
    "                panel.grid.major = element_blank(), \n",
    "                panel.grid.minor = element_blank(),\n",
    "                panel.border = element_rect(colour=\"black\", fill=NA, size=0.1))\n",
    "\n",
    "p3"
   ]
  },
  {
   "cell_type": "code",
   "execution_count": 32,
   "metadata": {},
   "outputs": [
    {
     "data": {},
     "metadata": {},
     "output_type": "display_data"
    },
    {
     "data": {
      "text/html": [
       "<strong>png:</strong> 2"
      ],
      "text/latex": [
       "\\textbf{png:} 2"
      ],
      "text/markdown": [
       "**png:** 2"
      ],
      "text/plain": [
       "png \n",
       "  2 "
      ]
     },
     "metadata": {},
     "output_type": "display_data"
    }
   ],
   "source": [
    "pdf(\"compforecasts3.pdf\")\n",
    "p1\n",
    "p2\n",
    "p3\n",
    "dev.off()"
   ]
  },
  {
   "cell_type": "markdown",
   "metadata": {},
   "source": [
    "# One person's plot"
   ]
  },
  {
   "cell_type": "code",
   "execution_count": 104,
   "metadata": {
    "collapsed": true
   },
   "outputs": [],
   "source": [
    "dat <- data.frame(\n",
    "                    id        = tidy_data$userId,\n",
    "                    day       = tidy_data$day, #x\n",
    "                    value     = tidy_data$value, #y\n",
    "                    condition = tidy_data$condition_name,\n",
    "                    scenario  = tidy_data$scenario\n",
    "                 )\n",
    "\n",
    "dat <- dat %>%\n",
    "    filter(id == 'a106')\n",
    "\n",
    "dat$condition <- factor( dat$condition, \n",
    "                         levels = c('Prior', 'Posterior-Positive', 'Posterior-Stable', 'Posterior-Negative', 'Posterior'))\n",
    "\n",
    "# Change the readable names of the variables\n",
    "dat$scenario <- mapvalues( dat$scenario, \n",
    "                           from = scenarios,\n",
    "                           to = readable_scenarios)\n",
    "\n",
    "dat[dat$condition != 'Prior', 'condition'] <- 'Posterior'\n",
    "\n",
    "dat$condition <- factor( dat$condition, \n",
    "                         levels = c('Prior', 'Posterior'))\n",
    "\n",
    "# Subset the data to be shown\n",
    "dat <- subset(dat, day > 30 & day < 365*4-30)\n",
    "\n",
    "dplot <- subset(dat, day %in% seq(min(dat$day), max(dat$day), resolution))"
   ]
  },
  {
   "cell_type": "code",
   "execution_count": 108,
   "metadata": {},
   "outputs": [
    {
     "data": {},
     "metadata": {},
     "output_type": "display_data"
    },
    {
     "data": {
      "image/png": "[encoded data removed]",
      "text/plain": [
       "plot without title"
      ]
     },
     "metadata": {},
     "output_type": "display_data"
    }
   ],
   "source": [
    "# Plot\n",
    "\n",
    "pa <- dplot %>%\n",
    "        filter(id == 'a106') %>%\n",
    "        #filter(scenario == 'rain' || scenario == 'sales' || scenario == 'temperature' ) %>%\n",
    "        ggplot(aes(x=day, y=value, group=id)) + \n",
    "        geom_line(col=\"steelblue\", alpha=1.0) +\n",
    "        facet_grid(scenario~condition, scales=\"free_y\") +\n",
    "        theme_classic() + \n",
    "        xlab(\"Year\") + \n",
    "        ylab(\"Values\") +\n",
    "        scale_x_continuous(breaks=c(0, 365, 365*2, 365*3), labels=c('Y1', 'Y2', 'Y3', 'Y4')) +\n",
    "        geom_vline(data=filter(dplot, condition!=\"Prior\"), aes(xintercept=365), colour=\"steelblue\") +\n",
    "        theme(  text = element_text(size=12, family=\"serif\"),\n",
    "                axis.line = element_line(colour=\"black\", size=0.1),\n",
    "                panel.spacing.x = unit(0.5, \"lines\"),\n",
    "                panel.spacing.y = unit(0.8, \"lines\"),\n",
    "                panel.background = element_blank(),\n",
    "                panel.grid.major = element_blank(), \n",
    "                panel.grid.minor = element_blank(),\n",
    "                panel.border = element_rect(colour=\"black\", fill=NA, size=0.1))\n",
    "\n",
    "\n",
    "pa"
   ]
  },
  {
   "cell_type": "markdown",
   "metadata": {},
   "source": [
    "# NORMALIZATION"
   ]
  },
  {
   "cell_type": "markdown",
   "metadata": {},
   "source": [
    "Calculate the underlying trend"
   ]
  },
  {
   "cell_type": "code",
   "execution_count": 236,
   "metadata": {},
   "outputs": [],
   "source": [
    "df <- dat %>%\n",
    "        group_by(condition, scenario, day) %>%\n",
    "        summarize(mean(value))\n",
    "\n",
    "df$slope_scale <- mapvalues(df$condition,\n",
    "                              from = c(\"Prior\", \"Posterior-Positive\", \"Posterior-Stable\", \"Posterior-Negative\"),\n",
    "                              to   = c(1, 1, 0, -1))\n",
    "\n",
    "df$range <- mapvalues(df$scenario,\n",
    "                              from = c(\"Temperature\", \"Rain\", \"Sales\", \"Gym members\", \"Salary\", \"FB Friends\"),\n",
    "                              to   = c( 40--10,        100-0,  5000-0,  50-0,          50-0,     1000-0))\n",
    "\n",
    "df$y_intercept <- mapvalues(df$scenario,\n",
    "                              from = c(\"Temperature\", \"Rain\", \"Sales\", \"Gym members\", \"Salary\", \"FB Friends\"),\n",
    "                              to   = c( 15,            30,     2500,    25,            20,       500))\n",
    "\n",
    "\n",
    "# Transformations to numbers\n",
    "df$slope_scale <- as.numeric(levels(df$slope_scale))[df$slope_scale]\n",
    "df$range <- as.numeric(levels(df$range))[df$range]\n",
    "df$y_intercept <- as.numeric(levels(df$y_intercept))[df$y_intercept]\n",
    "\n",
    "# Calculations\n",
    "df$last_point <- df$y_intercept + 0.05 * df$range * df$slope_scale * 4 \n",
    "\n",
    "df$slope <- (df$last_point - df$y_intercept) / ((365-31)-1)\n",
    "\n",
    "df$underlying_trend <- ((df$day-1) * df$slope + df$y_intercept)\n",
    "\n",
    "scaling <- df %>%\n",
    "                    group_by(condition, scenario) %>%\n",
    "                    summarize(y_intercept = unique(y_intercept), last_point= unique(last_point), range = unique(range))\n",
    "\n",
    "\n",
    "df <- df %>%\n",
    "        select(condition, scenario, day, underlying_trend) %>%\n",
    "        filter(condition!=\"Prior\")"
   ]
  },
  {
   "cell_type": "markdown",
   "metadata": {},
   "source": [
    "### Normalize data"
   ]
  },
  {
   "cell_type": "code",
   "execution_count": 168,
   "metadata": {},
   "outputs": [
    {
     "data": {
      "text/html": [
       "<table>\n",
       "<thead><tr><th scope=col>id</th><th scope=col>day</th><th scope=col>value</th><th scope=col>condition</th><th scope=col>scenario</th><th scope=col>noise</th><th scope=col>value_scaled</th></tr></thead>\n",
       "<tbody>\n",
       "\t<tr><td>a090       </td><td>31         </td><td> -2.368124 </td><td>Prior      </td><td>Temperature</td><td>1          </td><td>-1.6432029 </td></tr>\n",
       "\t<tr><td>a090       </td><td>31         </td><td> 49.745019 </td><td>Prior      </td><td>Rain       </td><td>1          </td><td> 0.2676757 </td></tr>\n",
       "\t<tr><td>a090       </td><td>31         </td><td>554.935771 </td><td>Prior      </td><td>Sales      </td><td>1          </td><td>-1.8180913 </td></tr>\n",
       "\t<tr><td>a090       </td><td>31         </td><td> 20.785377 </td><td>Prior      </td><td>Gym members</td><td>1          </td><td>-0.5138010 </td></tr>\n",
       "\t<tr><td>a090       </td><td>31         </td><td> 14.733540 </td><td>Prior      </td><td>Salary     </td><td>1          </td><td>-0.4183688 </td></tr>\n",
       "\t<tr><td>a090       </td><td>31         </td><td>583.408399 </td><td>Prior      </td><td>FB Friends </td><td>1          </td><td> 1.0239517 </td></tr>\n",
       "</tbody>\n",
       "</table>\n"
      ],
      "text/latex": [
       "\\begin{tabular}{r|lllllll}\n",
       " id & day & value & condition & scenario & noise & value\\_scaled\\\\\n",
       "\\hline\n",
       "\t a090        & 31          &  -2.368124  & Prior       & Temperature & 1           & -1.6432029 \\\\\n",
       "\t a090        & 31          &  49.745019  & Prior       & Rain        & 1           &  0.2676757 \\\\\n",
       "\t a090        & 31          & 554.935771  & Prior       & Sales       & 1           & -1.8180913 \\\\\n",
       "\t a090        & 31          &  20.785377  & Prior       & Gym members & 1           & -0.5138010 \\\\\n",
       "\t a090        & 31          &  14.733540  & Prior       & Salary      & 1           & -0.4183688 \\\\\n",
       "\t a090        & 31          & 583.408399  & Prior       & FB Friends  & 1           &  1.0239517 \\\\\n",
       "\\end{tabular}\n"
      ],
      "text/markdown": [
       "\n",
       "id | day | value | condition | scenario | noise | value_scaled | \n",
       "|---|---|---|---|---|---|\n",
       "| a090        | 31          |  -2.368124  | Prior       | Temperature | 1           | -1.6432029  | \n",
       "| a090        | 31          |  49.745019  | Prior       | Rain        | 1           |  0.2676757  | \n",
       "| a090        | 31          | 554.935771  | Prior       | Sales       | 1           | -1.8180913  | \n",
       "| a090        | 31          |  20.785377  | Prior       | Gym members | 1           | -0.5138010  | \n",
       "| a090        | 31          |  14.733540  | Prior       | Salary      | 1           | -0.4183688  | \n",
       "| a090        | 31          | 583.408399  | Prior       | FB Friends  | 1           |  1.0239517  | \n",
       "\n",
       "\n"
      ],
      "text/plain": [
       "  id   day value      condition scenario    noise value_scaled\n",
       "1 a090 31   -2.368124 Prior     Temperature 1     -1.6432029  \n",
       "2 a090 31   49.745019 Prior     Rain        1      0.2676757  \n",
       "3 a090 31  554.935771 Prior     Sales       1     -1.8180913  \n",
       "4 a090 31   20.785377 Prior     Gym members 1     -0.5138010  \n",
       "5 a090 31   14.733540 Prior     Salary      1     -0.4183688  \n",
       "6 a090 31  583.408399 Prior     FB Friends  1      1.0239517  "
      ]
     },
     "metadata": {},
     "output_type": "display_data"
    }
   ],
   "source": [
    "norm_data <- dat %>%\n",
    "                group_by(condition, scenario) %>%\n",
    "                #group_by(scenario) %>%\n",
    "                mutate(value_scaled = scale(value))\n",
    "\n",
    "norm_data %>% head"
   ]
  },
  {
   "cell_type": "markdown",
   "metadata": {},
   "source": [
    "### Scale data (better than normalizing it)"
   ]
  },
  {
   "cell_type": "code",
   "execution_count": 203,
   "metadata": {},
   "outputs": [
    {
     "data": {
      "text/html": [
       "<table>\n",
       "<thead><tr><th scope=col>condition</th><th scope=col>scenario</th><th scope=col>y_intercept</th><th scope=col>last_point</th><th scope=col>range</th></tr></thead>\n",
       "<tbody>\n",
       "\t<tr><td>Prior      </td><td>Temperature</td><td>  15       </td><td>  25       </td><td>  50       </td></tr>\n",
       "\t<tr><td>Prior      </td><td>Rain       </td><td>  30       </td><td>  50       </td><td> 100       </td></tr>\n",
       "\t<tr><td>Prior      </td><td>Sales      </td><td>2500       </td><td>3500       </td><td>5000       </td></tr>\n",
       "\t<tr><td>Prior      </td><td>Gym members</td><td>  25       </td><td>  35       </td><td>  50       </td></tr>\n",
       "\t<tr><td>Prior      </td><td>Salary     </td><td>  20       </td><td>  30       </td><td>  50       </td></tr>\n",
       "\t<tr><td>Prior      </td><td>FB Friends </td><td> 500       </td><td> 700       </td><td>1000       </td></tr>\n",
       "</tbody>\n",
       "</table>\n"
      ],
      "text/latex": [
       "\\begin{tabular}{r|lllll}\n",
       " condition & scenario & y\\_intercept & last\\_point & range\\\\\n",
       "\\hline\n",
       "\t Prior       & Temperature &   15        &   25        &   50       \\\\\n",
       "\t Prior       & Rain        &   30        &   50        &  100       \\\\\n",
       "\t Prior       & Sales       & 2500        & 3500        & 5000       \\\\\n",
       "\t Prior       & Gym members &   25        &   35        &   50       \\\\\n",
       "\t Prior       & Salary      &   20        &   30        &   50       \\\\\n",
       "\t Prior       & FB Friends  &  500        &  700        & 1000       \\\\\n",
       "\\end{tabular}\n"
      ],
      "text/markdown": [
       "\n",
       "condition | scenario | y_intercept | last_point | range | \n",
       "|---|---|---|---|---|---|\n",
       "| Prior       | Temperature |   15        |   25        |   50        | \n",
       "| Prior       | Rain        |   30        |   50        |  100        | \n",
       "| Prior       | Sales       | 2500        | 3500        | 5000        | \n",
       "| Prior       | Gym members |   25        |   35        |   50        | \n",
       "| Prior       | Salary      |   20        |   30        |   50        | \n",
       "| Prior       | FB Friends  |  500        |  700        | 1000        | \n",
       "\n",
       "\n"
      ],
      "text/plain": [
       "  condition scenario    y_intercept last_point range\n",
       "1 Prior     Temperature   15          25         50 \n",
       "2 Prior     Rain          30          50        100 \n",
       "3 Prior     Sales       2500        3500       5000 \n",
       "4 Prior     Gym members   25          35         50 \n",
       "5 Prior     Salary        20          30         50 \n",
       "6 Prior     FB Friends   500         700       1000 "
      ]
     },
     "metadata": {},
     "output_type": "display_data"
    }
   ],
   "source": [
    "scaling %>% head"
   ]
  },
  {
   "cell_type": "code",
   "execution_count": 219,
   "metadata": {},
   "outputs": [],
   "source": [
    "norm_data <- merge(x = dat, y = scaling, by = c(\"condition\", \"scenario\"), all.x = TRUE)\n",
    "\n",
    "norm_data <- norm_data %>%\n",
    "                group_by() %>%\n",
    "                mutate(value_scaled = (value - y_intercept)/(range))"
   ]
  },
  {
   "cell_type": "code",
   "execution_count": 220,
   "metadata": {},
   "outputs": [],
   "source": [
    "norm_data <- norm_data %>%\n",
    "                group_by() %>%\n",
    "                #group_by(scenario) %>%\n",
    "                mutate(value_norm = scale(value_scaled))"
   ]
  },
  {
   "cell_type": "markdown",
   "metadata": {},
   "source": [
    "Trend"
   ]
  },
  {
   "cell_type": "code",
   "execution_count": 264,
   "metadata": {
    "collapsed": true
   },
   "outputs": [],
   "source": [
    "# Scale trend\n",
    "trend <- merge(x = df, y = scaling, by = c(\"condition\", \"scenario\"), all.x = TRUE)\n",
    "\n",
    "trend <- trend %>%\n",
    "            group_by() %>%\n",
    "            mutate(underlying_trend_scaled = (underlying_trend - y_intercept)/(range))"
   ]
  },
  {
   "cell_type": "code",
   "execution_count": 267,
   "metadata": {},
   "outputs": [],
   "source": [
    "# Normalize trend\n",
    "means <- norm_data %>%\n",
    "            group_by() %>%\n",
    "            summarize(value_mean = mean(value_scaled),\n",
    "                      value_sd = sd(value_scaled))"
   ]
  },
  {
   "cell_type": "code",
   "execution_count": 268,
   "metadata": {},
   "outputs": [
    {
     "data": {
      "text/html": [
       "<table>\n",
       "<thead><tr><th scope=col>value_mean</th><th scope=col>value_sd</th></tr></thead>\n",
       "<tbody>\n",
       "\t<tr><td>0.01455078</td><td>0.1929851 </td></tr>\n",
       "</tbody>\n",
       "</table>\n"
      ],
      "text/latex": [
       "\\begin{tabular}{r|ll}\n",
       " value\\_mean & value\\_sd\\\\\n",
       "\\hline\n",
       "\t 0.01455078 & 0.1929851 \\\\\n",
       "\\end{tabular}\n"
      ],
      "text/markdown": [
       "\n",
       "value_mean | value_sd | \n",
       "|---|\n",
       "| 0.01455078 | 0.1929851  | \n",
       "\n",
       "\n"
      ],
      "text/plain": [
       "  value_mean value_sd \n",
       "1 0.01455078 0.1929851"
      ]
     },
     "metadata": {},
     "output_type": "display_data"
    }
   ],
   "source": [
    "means"
   ]
  },
  {
   "cell_type": "code",
   "execution_count": 269,
   "metadata": {},
   "outputs": [
    {
     "data": {
      "text/html": [
       "<table>\n",
       "<thead><tr><th scope=col>condition</th><th scope=col>scenario</th><th scope=col>day</th><th scope=col>underlying_trend</th><th scope=col>y_intercept</th><th scope=col>last_point</th><th scope=col>range</th><th scope=col>underlying_trend_scaled</th><th scope=col>value_mean</th><th scope=col>value_sd</th><th scope=col>underlying_trend_norm</th><th scope=col>id</th></tr></thead>\n",
       "<tbody>\n",
       "\t<tr><td>Posterior-Negative</td><td>FB Friends        </td><td>31                </td><td>481.9820          </td><td>500               </td><td>300               </td><td>1000              </td><td>-0.01801802       </td><td>-0.1689377        </td><td>0.1277587         </td><td>-0.1687633        </td><td>1                 </td></tr>\n",
       "\t<tr><td>Posterior-Negative</td><td>FB Friends        </td><td>32                </td><td>481.3814          </td><td>500               </td><td>300               </td><td>1000              </td><td>-0.01861862       </td><td>-0.1689377        </td><td>0.1277587         </td><td>-0.1718755        </td><td>1                 </td></tr>\n",
       "\t<tr><td>Posterior-Negative</td><td>FB Friends        </td><td>33                </td><td>480.7808          </td><td>500               </td><td>300               </td><td>1000              </td><td>-0.01921922       </td><td>-0.1689377        </td><td>0.1277587         </td><td>-0.1749876        </td><td>1                 </td></tr>\n",
       "\t<tr><td>Posterior-Negative</td><td>FB Friends        </td><td>34                </td><td>480.1802          </td><td>500               </td><td>300               </td><td>1000              </td><td>-0.01981982       </td><td>-0.1689377        </td><td>0.1277587         </td><td>-0.1780998        </td><td>1                 </td></tr>\n",
       "\t<tr><td>Posterior-Negative</td><td>FB Friends        </td><td>35                </td><td>479.5796          </td><td>500               </td><td>300               </td><td>1000              </td><td>-0.02042042       </td><td>-0.1689377        </td><td>0.1277587         </td><td>-0.1812120        </td><td>1                 </td></tr>\n",
       "\t<tr><td>Posterior-Negative</td><td>FB Friends        </td><td>36                </td><td>478.9790          </td><td>500               </td><td>300               </td><td>1000              </td><td>-0.02102102       </td><td>-0.1689377        </td><td>0.1277587         </td><td>-0.1843241        </td><td>1                 </td></tr>\n",
       "</tbody>\n",
       "</table>\n"
      ],
      "text/latex": [
       "\\begin{tabular}{r|llllllllllll}\n",
       " condition & scenario & day & underlying\\_trend & y\\_intercept & last\\_point & range & underlying\\_trend\\_scaled & value\\_mean & value\\_sd & underlying\\_trend\\_norm & id\\\\\n",
       "\\hline\n",
       "\t Posterior-Negative & FB Friends         & 31                 & 481.9820           & 500                & 300                & 1000               & -0.01801802        & -0.1689377         & 0.1277587          & -0.1687633         & 1                 \\\\\n",
       "\t Posterior-Negative & FB Friends         & 32                 & 481.3814           & 500                & 300                & 1000               & -0.01861862        & -0.1689377         & 0.1277587          & -0.1718755         & 1                 \\\\\n",
       "\t Posterior-Negative & FB Friends         & 33                 & 480.7808           & 500                & 300                & 1000               & -0.01921922        & -0.1689377         & 0.1277587          & -0.1749876         & 1                 \\\\\n",
       "\t Posterior-Negative & FB Friends         & 34                 & 480.1802           & 500                & 300                & 1000               & -0.01981982        & -0.1689377         & 0.1277587          & -0.1780998         & 1                 \\\\\n",
       "\t Posterior-Negative & FB Friends         & 35                 & 479.5796           & 500                & 300                & 1000               & -0.02042042        & -0.1689377         & 0.1277587          & -0.1812120         & 1                 \\\\\n",
       "\t Posterior-Negative & FB Friends         & 36                 & 478.9790           & 500                & 300                & 1000               & -0.02102102        & -0.1689377         & 0.1277587          & -0.1843241         & 1                 \\\\\n",
       "\\end{tabular}\n"
      ],
      "text/markdown": [
       "\n",
       "condition | scenario | day | underlying_trend | y_intercept | last_point | range | underlying_trend_scaled | value_mean | value_sd | underlying_trend_norm | id | \n",
       "|---|---|---|---|---|---|\n",
       "| Posterior-Negative | FB Friends         | 31                 | 481.9820           | 500                | 300                | 1000               | -0.01801802        | -0.1689377         | 0.1277587          | -0.1687633         | 1                  | \n",
       "| Posterior-Negative | FB Friends         | 32                 | 481.3814           | 500                | 300                | 1000               | -0.01861862        | -0.1689377         | 0.1277587          | -0.1718755         | 1                  | \n",
       "| Posterior-Negative | FB Friends         | 33                 | 480.7808           | 500                | 300                | 1000               | -0.01921922        | -0.1689377         | 0.1277587          | -0.1749876         | 1                  | \n",
       "| Posterior-Negative | FB Friends         | 34                 | 480.1802           | 500                | 300                | 1000               | -0.01981982        | -0.1689377         | 0.1277587          | -0.1780998         | 1                  | \n",
       "| Posterior-Negative | FB Friends         | 35                 | 479.5796           | 500                | 300                | 1000               | -0.02042042        | -0.1689377         | 0.1277587          | -0.1812120         | 1                  | \n",
       "| Posterior-Negative | FB Friends         | 36                 | 478.9790           | 500                | 300                | 1000               | -0.02102102        | -0.1689377         | 0.1277587          | -0.1843241         | 1                  | \n",
       "\n",
       "\n"
      ],
      "text/plain": [
       "  condition          scenario   day underlying_trend y_intercept last_point\n",
       "1 Posterior-Negative FB Friends 31  481.9820         500         300       \n",
       "2 Posterior-Negative FB Friends 32  481.3814         500         300       \n",
       "3 Posterior-Negative FB Friends 33  480.7808         500         300       \n",
       "4 Posterior-Negative FB Friends 34  480.1802         500         300       \n",
       "5 Posterior-Negative FB Friends 35  479.5796         500         300       \n",
       "6 Posterior-Negative FB Friends 36  478.9790         500         300       \n",
       "  range underlying_trend_scaled value_mean value_sd  underlying_trend_norm id\n",
       "1 1000  -0.01801802             -0.1689377 0.1277587 -0.1687633            1 \n",
       "2 1000  -0.01861862             -0.1689377 0.1277587 -0.1718755            1 \n",
       "3 1000  -0.01921922             -0.1689377 0.1277587 -0.1749876            1 \n",
       "4 1000  -0.01981982             -0.1689377 0.1277587 -0.1780998            1 \n",
       "5 1000  -0.02042042             -0.1689377 0.1277587 -0.1812120            1 \n",
       "6 1000  -0.02102102             -0.1689377 0.1277587 -0.1843241            1 "
      ]
     },
     "metadata": {},
     "output_type": "display_data"
    }
   ],
   "source": [
    "#trend <- merge(x = trend, y = means, by = c(\"condition\", \"scenario\"), all.x = TRUE)\n",
    "\n",
    "trend <- trend %>%\n",
    "            mutate(underlying_trend_norm = ((underlying_trend_scaled - means$value_mean)/means$value_sd))\n",
    "\n",
    "trend$id <- 1\n",
    "\n",
    "trend %>%\n",
    "        head"
   ]
  },
  {
   "cell_type": "markdown",
   "metadata": {},
   "source": [
    "### Plot: Trends"
   ]
  },
  {
   "cell_type": "code",
   "execution_count": 279,
   "metadata": {},
   "outputs": [
    {
     "name": "stderr",
     "output_type": "stream",
     "text": [
      "Warning message:\n",
      "\"Removed 167 rows containing missing values (geom_path).\""
     ]
    },
    {
     "data": {},
     "metadata": {},
     "output_type": "display_data"
    },
    {
     "data": {
      "text/html": [
       "<strong>png:</strong> 2"
      ],
      "text/latex": [
       "\\textbf{png:} 2"
      ],
      "text/markdown": [
       "**png:** 2"
      ],
      "text/plain": [
       "png \n",
       "  2 "
      ]
     },
     "metadata": {},
     "output_type": "display_data"
    }
   ],
   "source": [
    "dplot <- subset(norm_data, day %in% seq(min(norm_data$day), max(norm_data$day), 5))\n",
    "\n",
    "p <- dplot %>%\n",
    "        ggplot(aes(x=day, y=value_norm, group=id)) + \n",
    "        geom_line(col=\"steelblue\", alpha=0.2) +\n",
    "        facet_grid(scenario~condition, scales=\"free_y\") +\n",
    "        theme_classic() + \n",
    "        xlab(\"Year\") + \n",
    "        ylab(\"Scaled and normalized values\") +\n",
    "        geom_line(data=trend, aes(x=day, y=underlying_trend_norm), colour=\"black\") +\n",
    "        scale_x_continuous(breaks=c(0, 365, 365*2, 365*3), labels=c('Y1', 'Y2', 'Y3', 'Y4')) +\n",
    "        scale_y_continuous(limits = c(-4, 4)) +\n",
    "        geom_vline(data=filter(dplot, condition!=\"Prior\"), aes(xintercept=365), colour=\"steelblue\") +\n",
    "        theme(  text = element_text(size=12, family=\"serif\"),\n",
    "                axis.line = element_line(colour=\"black\", size=0.1),\n",
    "                panel.spacing.x = unit(0.5, \"lines\"),\n",
    "                panel.spacing.y = unit(0.8, \"lines\"),\n",
    "                panel.background = element_blank(),\n",
    "                panel.grid.major = element_blank(), \n",
    "                panel.grid.minor = element_blank(),\n",
    "                panel.border = element_rect(colour=\"black\", fill=NA, size=0.1))\n",
    "\n",
    "\n",
    "svg(\"Images/responses_with_posterior_trends.svg\")\n",
    "p\n",
    "dev.off()\n",
    "#p"
   ]
  },
  {
   "cell_type": "code",
   "execution_count": null,
   "metadata": {
    "collapsed": true
   },
   "outputs": [],
   "source": []
  },
  {
   "cell_type": "markdown",
   "metadata": {},
   "source": [
    "### Plot: trend damping\n",
    "**`norm_data$value_norm`** and **`trend$underlying_trend_norm`** are the important datasets"
   ]
  },
  {
   "cell_type": "code",
   "execution_count": 324,
   "metadata": {
    "collapsed": true
   },
   "outputs": [],
   "source": [
    "# Filter out the prior condition and {temperature, rain} scenarios. Also filter out before year 1 and after year 4\n",
    "filtered_norm_data <- norm_data %>%\n",
    "        filter(condition != 'Prior', condition != 'Posterior-Stable', scenario != 'Temperature', scenario != 'Rain', day > 365-31, day <= 365*3 )\n",
    "\n",
    "filtered_trend <- trend %>%\n",
    "        filter(condition != 'Prior', condition != 'Posterior-Stable', scenario != 'Temperature', scenario != 'Rain', day > 365-31, day <= 365*3 )"
   ]
  },
  {
   "cell_type": "code",
   "execution_count": 382,
   "metadata": {},
   "outputs": [
    {
     "data": {},
     "metadata": {},
     "output_type": "display_data"
    },
    {
     "data": {
      "text/html": [
       "<strong>png:</strong> 2"
      ],
      "text/latex": [
       "\\textbf{png:} 2"
      ],
      "text/markdown": [
       "**png:** 2"
      ],
      "text/plain": [
       "png \n",
       "  2 "
      ]
     },
     "metadata": {},
     "output_type": "display_data"
    }
   ],
   "source": [
    "dplot <- subset(filtered_norm_data, day %in% seq(min(norm_data$day), max(norm_data$day), 5))\n",
    "\n",
    "p <- dplot %>%\n",
    "        ggplot(aes(x=day, y=value_norm, group=id)) + \n",
    "        geom_line(col=\"steelblue\", alpha=0.2) +\n",
    "        facet_grid(scenario~condition, scales=\"free_y\") +\n",
    "        theme_classic() + \n",
    "        xlab(\"Year\") + \n",
    "        ylab(\"Scaled and normalized values\") +\n",
    "        geom_line(data=filtered_trend, aes(x=day, y=underlying_trend_norm), colour=\"black\") +\n",
    "        scale_x_continuous(breaks=c(0, 365, 365*2, 365*3), labels=c('Y1', 'Y2', 'Y3', 'Y4')) +\n",
    "        scale_y_continuous(limits = c(-4, 4)) +\n",
    "        theme(  text = element_text(size=12, family=\"serif\"),\n",
    "                axis.line = element_line(colour=\"black\", size=0.1),\n",
    "                panel.spacing.x = unit(0.5, \"lines\"),\n",
    "                panel.spacing.y = unit(0.8, \"lines\"),\n",
    "                panel.background = element_blank(),\n",
    "                panel.grid.major = element_blank(), \n",
    "                panel.grid.minor = element_blank(),\n",
    "                panel.border = element_rect(colour=\"black\", fill=NA, size=0.1))\n",
    "\n",
    "\n",
    "svg(\"Images/trend_damping.svg\", width=5, height=5)\n",
    "p\n",
    "dev.off()\n",
    "#p"
   ]
  },
  {
   "cell_type": "markdown",
   "metadata": {},
   "source": [
    "### Percentage of trend damping"
   ]
  },
  {
   "cell_type": "code",
   "execution_count": 461,
   "metadata": {},
   "outputs": [],
   "source": [
    "# Selecting the relevant columns\n",
    "aux <- filtered_trend %>% \n",
    "                    select(condition, scenario, day, underlying_trend_norm)"
   ]
  },
  {
   "cell_type": "code",
   "execution_count": 462,
   "metadata": {},
   "outputs": [],
   "source": [
    "# Merging\n",
    "trend_damping <- merge(x=filtered_norm_data, y=aux, by=c('condition', 'scenario', 'day'), all.x=TRUE)\n",
    "\n",
    "# Above or below?\n",
    "trend_damping$below <- trend_damping$value_norm < trend_damping$underlying_trend_norm\n",
    "\n",
    "# Damped?\n",
    "trend_damping$damped <- ifelse(trend_damping$condition == \"Posterior-Positive\", trend_damping$below, !trend_damping$below)\n",
    "\n",
    "# Summarize overall scenarios\n",
    "overall_damping <- trend_damping %>% \n",
    "                        group_by(condition, day) %>%\n",
    "                        summarize(damped_proportion = sum(damped*1)/length(damped)) %>%\n",
    "                        mutate(group = 1)\n",
    "\n",
    "# Summarize per day\n",
    "trend_damping_summary <- trend_damping %>% \n",
    "                            group_by(condition, scenario, day) %>%\n",
    "                            summarize(damped_proportion = sum(damped*1)/length(damped))"
   ]
  },
  {
   "cell_type": "markdown",
   "metadata": {},
   "source": [
    "Minimum and maximum"
   ]
  },
  {
   "cell_type": "code",
   "execution_count": 470,
   "metadata": {},
   "outputs": [
    {
     "data": {
      "text/html": [
       "<table>\n",
       "<thead><tr><th scope=col>condition</th><th scope=col>min.day</th><th scope=col>min.value</th><th scope=col>max.day</th><th scope=col>max.value</th></tr></thead>\n",
       "<tbody>\n",
       "\t<tr><td>Posterior-Positive</td><td>338               </td><td>0.7019868         </td><td>714               </td><td>1                 </td></tr>\n",
       "\t<tr><td>Posterior-Negative</td><td>341               </td><td>0.8711656         </td><td>544               </td><td>1                 </td></tr>\n",
       "</tbody>\n",
       "</table>\n"
      ],
      "text/latex": [
       "\\begin{tabular}{r|lllll}\n",
       " condition & min.day & min.value & max.day & max.value\\\\\n",
       "\\hline\n",
       "\t Posterior-Positive & 338                & 0.7019868          & 714                & 1                 \\\\\n",
       "\t Posterior-Negative & 341                & 0.8711656          & 544                & 1                 \\\\\n",
       "\\end{tabular}\n"
      ],
      "text/markdown": [
       "\n",
       "condition | min.day | min.value | max.day | max.value | \n",
       "|---|---|\n",
       "| Posterior-Positive | 338                | 0.7019868          | 714                | 1                  | \n",
       "| Posterior-Negative | 341                | 0.8711656          | 544                | 1                  | \n",
       "\n",
       "\n"
      ],
      "text/plain": [
       "  condition          min.day min.value max.day max.value\n",
       "1 Posterior-Positive 338     0.7019868 714     1        \n",
       "2 Posterior-Negative 341     0.8711656 544     1        "
      ]
     },
     "metadata": {},
     "output_type": "display_data"
    }
   ],
   "source": [
    "overall_damping %>%\n",
    "    group_by(condition) %>%\n",
    "    summarize(min.day = day[which.min(damped_proportion)], min.value = min(damped_proportion),\n",
    "              max.day = day[which.max(damped_proportion)], max.value = max(damped_proportion)) "
   ]
  },
  {
   "cell_type": "code",
   "execution_count": 477,
   "metadata": {},
   "outputs": [
    {
     "data": {
      "text/plain": [
       "\n",
       "\tOne Sample t-test\n",
       "\n",
       "data:  min1$damped\n",
       "t = 18.797, df = 150, p-value < 2.2e-16\n",
       "alternative hypothesis: true mean is not equal to 0\n",
       "95 percent confidence interval:\n",
       " 0.6281959 0.7757776\n",
       "sample estimates:\n",
       "mean of x \n",
       "0.7019868 \n"
      ]
     },
     "metadata": {},
     "output_type": "display_data"
    },
    {
     "data": {
      "text/plain": [
       "\n",
       "\tOne Sample t-test\n",
       "\n",
       "data:  min2$damped\n",
       "t = 33.097, df = 162, p-value < 2.2e-16\n",
       "alternative hypothesis: true mean is not equal to 0\n",
       "95 percent confidence interval:\n",
       " 0.8191884 0.9231429\n",
       "sample estimates:\n",
       "mean of x \n",
       "0.8711656 \n"
      ]
     },
     "metadata": {},
     "output_type": "display_data"
    }
   ],
   "source": [
    "# T-test min\n",
    "min1 <- trend_damping %>% \n",
    "            group_by(condition, day) %>%\n",
    "            filter(condition=='Posterior-Positive', day == 338)\n",
    "\n",
    "# T-test min \n",
    "min2 <- trend_damping %>% \n",
    "            group_by(condition, day) %>%\n",
    "            filter(condition=='Posterior-Negative', day == 341)\n",
    "\n",
    "t.test(min1$damped)\n",
    "t.test(min2$damped)"
   ]
  },
  {
   "cell_type": "markdown",
   "metadata": {},
   "source": [
    "#### Logarithmic model"
   ]
  },
  {
   "cell_type": "code",
   "execution_count": 546,
   "metadata": {
    "scrolled": false
   },
   "outputs": [
    {
     "data": {
      "text/plain": [
       "\n",
       "Call:\n",
       "lm(formula = damped_proportion ~ day * log(day), data = overall_damping %>% \n",
       "    filter(condition == \"Posterior-Positive\"))\n",
       "\n",
       "Residuals:\n",
       "      Min        1Q    Median        3Q       Max \n",
       "-0.032563 -0.004295 -0.001129  0.003485  0.146967 \n",
       "\n",
       "Coefficients:\n",
       "               Estimate Std. Error t value Pr(>|t|)    \n",
       "(Intercept)  -1.216e+01  4.047e-01  -30.04   <2e-16 ***\n",
       "day          -2.399e-02  1.205e-03  -19.91   <2e-16 ***\n",
       "log(day)      2.690e+00  9.120e-02   29.50   <2e-16 ***\n",
       "day:log(day)  2.688e-03  1.418e-04   18.95   <2e-16 ***\n",
       "---\n",
       "Signif. codes:  0 '***' 0.001 '**' 0.01 '*' 0.05 '.' 0.1 ' ' 1\n",
       "\n",
       "Residual standard error: 0.01245 on 757 degrees of freedom\n",
       "Multiple R-squared:  0.976,\tAdjusted R-squared:  0.9759 \n",
       "F-statistic: 1.028e+04 on 3 and 757 DF,  p-value: < 2.2e-16\n"
      ]
     },
     "metadata": {},
     "output_type": "display_data"
    }
   ],
   "source": [
    "# P-Positive\n",
    "lm(damped_proportion ~ day*log(day), overall_damping %>% filter(condition=='Posterior-Positive')) %>% summary"
   ]
  },
  {
   "cell_type": "code",
   "execution_count": 544,
   "metadata": {},
   "outputs": [
    {
     "data": {
      "text/plain": [
       "\n",
       "Call:\n",
       "lm(formula = damped_proportion ~ day * log(day), data = overall_damping %>% \n",
       "    filter(condition == \"Posterior-Negative\"))\n",
       "\n",
       "Residuals:\n",
       "       Min         1Q     Median         3Q        Max \n",
       "-0.0195684 -0.0015893 -0.0000233  0.0012708  0.0184822 \n",
       "\n",
       "Coefficients:\n",
       "               Estimate Std. Error t value Pr(>|t|)    \n",
       "(Intercept)  -6.907e+00  1.377e-01  -50.16   <2e-16 ***\n",
       "day          -1.794e-02  4.099e-04  -43.76   <2e-16 ***\n",
       "log(day)      1.684e+00  3.103e-02   54.26   <2e-16 ***\n",
       "day:log(day)  2.058e-03  4.825e-05   42.64   <2e-16 ***\n",
       "---\n",
       "Signif. codes:  0 '***' 0.001 '**' 0.01 '*' 0.05 '.' 0.1 ' ' 1\n",
       "\n",
       "Residual standard error: 0.004237 on 757 degrees of freedom\n",
       "Multiple R-squared:  0.9768,\tAdjusted R-squared:  0.9767 \n",
       "F-statistic: 1.064e+04 on 3 and 757 DF,  p-value: < 2.2e-16\n"
      ]
     },
     "metadata": {},
     "output_type": "display_data"
    }
   ],
   "source": [
    "# P-Negative\n",
    "lm(damped_proportion ~ day*log(day), overall_damping %>% filter(condition=='Posterior-Negative')) %>% summary"
   ]
  },
  {
   "cell_type": "code",
   "execution_count": null,
   "metadata": {
    "collapsed": true
   },
   "outputs": [],
   "source": []
  },
  {
   "cell_type": "markdown",
   "metadata": {},
   "source": [
    "#### Plot: trend damping summary"
   ]
  },
  {
   "cell_type": "code",
   "execution_count": 514,
   "metadata": {},
   "outputs": [
    {
     "data": {},
     "metadata": {},
     "output_type": "display_data"
    },
    {
     "data": {
      "text/html": [
       "<strong>png:</strong> 2"
      ],
      "text/latex": [
       "\\textbf{png:} 2"
      ],
      "text/markdown": [
       "**png:** 2"
      ],
      "text/plain": [
       "png \n",
       "  2 "
      ]
     },
     "metadata": {},
     "output_type": "display_data"
    }
   ],
   "source": [
    "p <- trend_damping_summary %>%\n",
    "        ggplot(aes(x=day, y=damped_proportion, group=scenario, color=scenario)) + \n",
    "        geom_line(size=1, alpha=0.7) +\n",
    "        facet_grid(~condition, scales=\"free_y\") +\n",
    "        theme_classic() + \n",
    "        xlab(\"Year\") + \n",
    "        ylab(\"Proportion of\\ndamped predictions\") +\n",
    "        scale_x_continuous(breaks=c(0, 365, 365*2, 365*3), labels=c('Y1', 'Y2', 'Y3', 'Y4')) +\n",
    "        scale_y_continuous(limits = c(0.6, 1)) +\n",
    "        #geom_line(data=overall_damping, aes(x=day, y=damped_proportion, group=group), colour=\"black\", size=1, alpha=0.5) +\n",
    "        labs(colour = \"Scenario\") +\n",
    "        theme(legend.position=c(0.88, 0.45)) +\n",
    "        theme(  text = element_text(size=12, family=\"serif\"),\n",
    "                axis.line = element_line(colour=\"black\", size=0.1),\n",
    "                panel.spacing.x = unit(0.5, \"lines\"),\n",
    "                panel.spacing.y = unit(0.8, \"lines\"),\n",
    "                panel.background = element_blank(),\n",
    "                panel.grid.major = element_blank(), \n",
    "                panel.grid.minor = element_blank(),\n",
    "                panel.border = element_rect(colour=\"black\", fill=NA, size=0.1))\n",
    "\n",
    "\n",
    "svg(\"Images/trend_damping_proportion.svg\", width=6, height=2.3)\n",
    "#p\n",
    "dev.off()\n",
    "#p"
   ]
  },
  {
   "cell_type": "code",
   "execution_count": 504,
   "metadata": {},
   "outputs": [
    {
     "data": {
      "text/html": [
       "<table>\n",
       "<thead><tr><th scope=col>condition</th><th scope=col>day</th><th scope=col>damped_proportion</th><th scope=col>group</th></tr></thead>\n",
       "<tbody>\n",
       "\t<tr><td>Posterior-Positive</td><td>335               </td><td>0.8278146         </td><td>1                 </td></tr>\n",
       "\t<tr><td>Posterior-Positive</td><td>336               </td><td>0.7682119         </td><td>1                 </td></tr>\n",
       "\t<tr><td>Posterior-Positive</td><td>337               </td><td>0.7152318         </td><td>1                 </td></tr>\n",
       "\t<tr><td>Posterior-Positive</td><td>338               </td><td>0.7019868         </td><td>1                 </td></tr>\n",
       "\t<tr><td>Posterior-Positive</td><td>339               </td><td>0.7086093         </td><td>1                 </td></tr>\n",
       "\t<tr><td>Posterior-Positive</td><td>340               </td><td>0.7152318         </td><td>1                 </td></tr>\n",
       "</tbody>\n",
       "</table>\n"
      ],
      "text/latex": [
       "\\begin{tabular}{r|llll}\n",
       " condition & day & damped\\_proportion & group\\\\\n",
       "\\hline\n",
       "\t Posterior-Positive & 335                & 0.8278146          & 1                 \\\\\n",
       "\t Posterior-Positive & 336                & 0.7682119          & 1                 \\\\\n",
       "\t Posterior-Positive & 337                & 0.7152318          & 1                 \\\\\n",
       "\t Posterior-Positive & 338                & 0.7019868          & 1                 \\\\\n",
       "\t Posterior-Positive & 339                & 0.7086093          & 1                 \\\\\n",
       "\t Posterior-Positive & 340                & 0.7152318          & 1                 \\\\\n",
       "\\end{tabular}\n"
      ],
      "text/markdown": [
       "\n",
       "condition | day | damped_proportion | group | \n",
       "|---|---|---|---|---|---|\n",
       "| Posterior-Positive | 335                | 0.8278146          | 1                  | \n",
       "| Posterior-Positive | 336                | 0.7682119          | 1                  | \n",
       "| Posterior-Positive | 337                | 0.7152318          | 1                  | \n",
       "| Posterior-Positive | 338                | 0.7019868          | 1                  | \n",
       "| Posterior-Positive | 339                | 0.7086093          | 1                  | \n",
       "| Posterior-Positive | 340                | 0.7152318          | 1                  | \n",
       "\n",
       "\n"
      ],
      "text/plain": [
       "  condition          day damped_proportion group\n",
       "1 Posterior-Positive 335 0.8278146         1    \n",
       "2 Posterior-Positive 336 0.7682119         1    \n",
       "3 Posterior-Positive 337 0.7152318         1    \n",
       "4 Posterior-Positive 338 0.7019868         1    \n",
       "5 Posterior-Positive 339 0.7086093         1    \n",
       "6 Posterior-Positive 340 0.7152318         1    "
      ]
     },
     "metadata": {},
     "output_type": "display_data"
    }
   ],
   "source": [
    "Plotting overall trends"
   ]
  },
  {
   "cell_type": "code",
   "execution_count": 535,
   "metadata": {},
   "outputs": [
    {
     "data": {
      "text/html": [
       "<strong>png:</strong> 2"
      ],
      "text/latex": [
       "\\textbf{png:} 2"
      ],
      "text/markdown": [
       "**png:** 2"
      ],
      "text/plain": [
       "png \n",
       "  2 "
      ]
     },
     "metadata": {},
     "output_type": "display_data"
    },
    {
     "data": {},
     "metadata": {},
     "output_type": "display_data"
    },
    {
     "data": {
      "image/png": "[encoded data removed]",
      "text/plain": [
       "plot without title"
      ]
     },
     "metadata": {},
     "output_type": "display_data"
    }
   ],
   "source": [
    "p <- ggplot(data=overall_damping, aes(x=day, y=damped_proportion, group=condition, colour=condition)) +\n",
    "        geom_line(size=1) +\n",
    "        expand_limits(y=0) +\n",
    "        scale_y_continuous(limits = c(0.7, 1)) +\n",
    "        labs(colour = \"Condition\") +\n",
    "        xlab(\"Position\") + ylab(\"Value\") +\n",
    "        theme_bw() +\n",
    "        theme(text = element_text(size=12, family=\"serif\"))\n",
    "\n",
    "svg(\"Images/trend_damping_proportion.svg\", width=6, height=2.3)\n",
    "#p\n",
    "dev.off()\n",
    "p"
   ]
  },
  {
   "cell_type": "markdown",
   "metadata": {
    "collapsed": true
   },
   "source": [
    "# NOISE"
   ]
  },
  {
   "cell_type": "code",
   "execution_count": 235,
   "metadata": {},
   "outputs": [],
   "source": [
    "g1 <- c( 0.7642726400978779,\n",
    "         0.59420237112108,\n",
    "         0.8045676111568967,\n",
    "         0.3616072333221285,\n",
    "         0.4333995695523616 )\n",
    "\n",
    "g2 <- c( 0.44558333713334464,\n",
    "         0.7720815219200008,\n",
    "         0.091949620524298,\n",
    "         0.3371284569763776,\n",
    "         0.8147280055034919 )\n",
    "\n",
    "g3 <- c( 0.6163862558959631,\n",
    "         0.04367949448727826,\n",
    "         0.057026095449790204,\n",
    "         0.040766425126964156,\n",
    "         0.17492704212711474 )\n",
    "\n",
    "\n",
    "# Each group was substracted by its mean\n",
    "g1 <- g1 - mean(g1)\n",
    "g2 <- g2 - mean(g2)\n",
    "g3 <- g3 - mean(g3)\n",
    "\n",
    "# And then the last two were removed\n",
    "n1 <- g1[1:3]\n",
    "n2 <- g2[1:3]\n",
    "n3 <- g3[1:3]\n",
    "\n",
    "g1 <- c(0, n1, 0)\n",
    "g2 <- c(0, n2, 0)\n",
    "g3 <- c(0, n3, 0)"
   ]
  },
  {
   "cell_type": "markdown",
   "metadata": {},
   "source": [
    "Calculting the noise profile of each group (as the mean of the absolute values)"
   ]
  },
  {
   "cell_type": "code",
   "execution_count": 262,
   "metadata": {},
   "outputs": [
    {
     "data": {
      "text/html": [
       "<ol class=list-inline>\n",
       "\t<li>0.08</li>\n",
       "\t<li>0.15</li>\n",
       "\t<li>0.14</li>\n",
       "</ol>\n"
      ],
      "text/latex": [
       "\\begin{enumerate*}\n",
       "\\item 0.08\n",
       "\\item 0.15\n",
       "\\item 0.14\n",
       "\\end{enumerate*}\n"
      ],
      "text/markdown": [
       "1. 0.08\n",
       "2. 0.15\n",
       "3. 0.14\n",
       "\n",
       "\n"
      ],
      "text/plain": [
       "[1] 0.08 0.15 0.14"
      ]
     },
     "metadata": {},
     "output_type": "display_data"
    }
   ],
   "source": [
    "# Noise profiles\n",
    "np1 <- round(mean(abs(g1)),2)\n",
    "np2 <- round(mean(abs(g2)),2)\n",
    "np3 <- round(mean(abs(g3)),2)\n",
    "\n",
    "c(np1, np2, np3)"
   ]
  },
  {
   "cell_type": "markdown",
   "metadata": {},
   "source": [
    "### Plotting the noises"
   ]
  },
  {
   "cell_type": "code",
   "execution_count": 538,
   "metadata": {},
   "outputs": [
    {
     "ename": "ERROR",
     "evalue": "Error in data.frame(value = g1, i = 1:5, noise_group = \"1 (low)\"): object 'g1' not found\n",
     "output_type": "error",
     "traceback": [
      "Error in data.frame(value = g1, i = 1:5, noise_group = \"1 (low)\"): object 'g1' not found\nTraceback:\n",
      "1. rbind(data.frame(value = g1, i = 1:5, noise_group = \"1 (low)\"), \n .     data.frame(value = g2, i = 1:5, noise_group = \"2 (highest)\"), \n .     data.frame(value = g3, i = 1:5, noise_group = \"3 (high)\"))",
      "2. data.frame(value = g1, i = 1:5, noise_group = \"1 (low)\")"
     ]
    }
   ],
   "source": [
    "pdata <- rbind ( data.frame(value=g1, i=1:5, noise_group=\"1 (low)\"),\n",
    "                 data.frame(value=g2, i=1:5, noise_group=\"2 (highest)\"),\n",
    "                 data.frame(value=g3, i=1:5, noise_group=\"3 (high)\"))"
   ]
  },
  {
   "cell_type": "code",
   "execution_count": 537,
   "metadata": {},
   "outputs": [
    {
     "ename": "ERROR",
     "evalue": "Error in ggplot(data = pdata, aes(x = i, y = value, group = noise_group, : object 'pdata' not found\n",
     "output_type": "error",
     "traceback": [
      "Error in ggplot(data = pdata, aes(x = i, y = value, group = noise_group, : object 'pdata' not found\nTraceback:\n",
      "1. ggplot(data = pdata, aes(x = i, y = value, group = noise_group, \n .     colour = noise_group))"
     ]
    }
   ],
   "source": [
    "p <- ggplot(data=pdata, aes(x=i, y=value, group=noise_group, colour=noise_group)) +\n",
    "        geom_line(size=1) +\n",
    "        geom_point(size=3, fill=\"white\") +\n",
    "        expand_limits(y=0) +  \n",
    "        labs(colour = \"Noise Group\") +\n",
    "        xlab(\"Position\") + ylab(\"Value\") +\n",
    "        theme_bw()\n",
    "\n",
    "        #theme(text = element_text(size=12, family=\"serif\"))\n",
    "        #theme(legend.position=c(.9, .7))\n",
    "\n",
    "svg(\"Images/noise_groups.svg\", width=8, height=3)\n",
    "#p\n",
    "dev.off()\n",
    "p"
   ]
  },
  {
   "cell_type": "markdown",
   "metadata": {},
   "source": [
    "### Influence per group noise"
   ]
  },
  {
   "cell_type": "markdown",
   "metadata": {},
   "source": [
    "Calculate the mean value for each group of {condition, scenario, day, noise}"
   ]
  },
  {
   "cell_type": "code",
   "execution_count": 160,
   "metadata": {},
   "outputs": [],
   "source": [
    "values_means <- norm_data %>%\n",
    "                        group_by(condition, scenario, day, noise) %>%\n",
    "                        summarize(value_mean = mean(value_scaled))"
   ]
  },
  {
   "cell_type": "markdown",
   "metadata": {},
   "source": [
    "Merge the values_means into the normalized data"
   ]
  },
  {
   "cell_type": "code",
   "execution_count": 366,
   "metadata": {},
   "outputs": [],
   "source": [
    "norm_data_2 <- merge(x = norm_data, y = values_means, by = c(\"day\", \"condition\", \"scenario\", \"noise\"), all.x = TRUE)"
   ]
  },
  {
   "cell_type": "markdown",
   "metadata": {},
   "source": [
    "Calculate the Mean Absolute error for each person, scenario, and noise group"
   ]
  },
  {
   "cell_type": "code",
   "execution_count": 400,
   "metadata": {},
   "outputs": [],
   "source": [
    "MAEs_per_person <- norm_data_2 %>%\n",
    "                    group_by(id, scenario, noise) %>%\n",
    "                    summarize(MAE = sum(abs(value_mean - value_scaled)))"
   ]
  },
  {
   "cell_type": "markdown",
   "metadata": {},
   "source": [
    "Calculate the mean of the mean absolute error"
   ]
  },
  {
   "cell_type": "code",
   "execution_count": 401,
   "metadata": {},
   "outputs": [],
   "source": [
    "MAEs <- MAEs_per_person %>%\n",
    "                    group_by(scenario, noise) %>%\n",
    "                    summarize(mean_MAE = round(mean(MAE)), sd_MAE = round(sd(MAE)), count=length(MAE))"
   ]
  },
  {
   "cell_type": "code",
   "execution_count": 414,
   "metadata": {},
   "outputs": [],
   "source": [
    "# Adding Std Error and Confidence Intervals\n",
    "MAEs <- MAEs %>%\n",
    "    mutate(    serror_MAE = round(sd_MAE / sqrt(count)),\n",
    "               ci_95_bottom = round(mean_MAE - qt(0.05 / 2, count)*serror_MAE),\n",
    "               ci_95_top = round(mean_MAE + qt(0.05 / 2, count)*serror_MAE))"
   ]
  },
  {
   "cell_type": "code",
   "execution_count": 415,
   "metadata": {},
   "outputs": [
    {
     "data": {
      "text/html": [
       "<table>\n",
       "<thead><tr><th scope=col>scenario</th><th scope=col>noise_profile</th><th scope=col>1</th><th scope=col>2</th><th scope=col>3</th></tr></thead>\n",
       "<tbody>\n",
       "\t<tr><td>Temperature</td><td>0.08       </td><td>1447       </td><td>  NA       </td><td>  NA       </td></tr>\n",
       "\t<tr><td>Temperature</td><td>0.14       </td><td>  NA       </td><td>  NA       </td><td>1667       </td></tr>\n",
       "\t<tr><td>Temperature</td><td>0.15       </td><td>  NA       </td><td>1859       </td><td>  NA       </td></tr>\n",
       "\t<tr><td>Rain       </td><td>0.08       </td><td>1429       </td><td>  NA       </td><td>  NA       </td></tr>\n",
       "\t<tr><td>Rain       </td><td>0.14       </td><td>  NA       </td><td>  NA       </td><td>1965       </td></tr>\n",
       "\t<tr><td>Rain       </td><td>0.15       </td><td>  NA       </td><td>2033       </td><td>  NA       </td></tr>\n",
       "\t<tr><td>Sales      </td><td>0.08       </td><td>1499       </td><td>  NA       </td><td>  NA       </td></tr>\n",
       "\t<tr><td>Sales      </td><td>0.14       </td><td>  NA       </td><td>  NA       </td><td>1983       </td></tr>\n",
       "\t<tr><td>Sales      </td><td>0.15       </td><td>  NA       </td><td>1997       </td><td>  NA       </td></tr>\n",
       "\t<tr><td>Gym members</td><td>0.08       </td><td>1717       </td><td>  NA       </td><td>  NA       </td></tr>\n",
       "\t<tr><td>Gym members</td><td>0.14       </td><td>  NA       </td><td>  NA       </td><td>1958       </td></tr>\n",
       "\t<tr><td>Gym members</td><td>0.15       </td><td>  NA       </td><td>1979       </td><td>  NA       </td></tr>\n",
       "\t<tr><td>Salary     </td><td>0.08       </td><td>1535       </td><td>  NA       </td><td>  NA       </td></tr>\n",
       "\t<tr><td>Salary     </td><td>0.14       </td><td>  NA       </td><td>  NA       </td><td>1775       </td></tr>\n",
       "\t<tr><td>Salary     </td><td>0.15       </td><td>  NA       </td><td>2043       </td><td>  NA       </td></tr>\n",
       "\t<tr><td>FB Friends </td><td>0.08       </td><td>1560       </td><td>  NA       </td><td>  NA       </td></tr>\n",
       "\t<tr><td>FB Friends </td><td>0.14       </td><td>  NA       </td><td>  NA       </td><td>1529       </td></tr>\n",
       "\t<tr><td>FB Friends </td><td>0.15       </td><td>  NA       </td><td>1969       </td><td>  NA       </td></tr>\n",
       "</tbody>\n",
       "</table>\n"
      ],
      "text/latex": [
       "\\begin{tabular}{r|lllll}\n",
       " scenario & noise\\_profile & 1 & 2 & 3\\\\\n",
       "\\hline\n",
       "\t Temperature & 0.08        & 1447        &   NA        &   NA       \\\\\n",
       "\t Temperature & 0.14        &   NA        &   NA        & 1667       \\\\\n",
       "\t Temperature & 0.15        &   NA        & 1859        &   NA       \\\\\n",
       "\t Rain        & 0.08        & 1429        &   NA        &   NA       \\\\\n",
       "\t Rain        & 0.14        &   NA        &   NA        & 1965       \\\\\n",
       "\t Rain        & 0.15        &   NA        & 2033        &   NA       \\\\\n",
       "\t Sales       & 0.08        & 1499        &   NA        &   NA       \\\\\n",
       "\t Sales       & 0.14        &   NA        &   NA        & 1983       \\\\\n",
       "\t Sales       & 0.15        &   NA        & 1997        &   NA       \\\\\n",
       "\t Gym members & 0.08        & 1717        &   NA        &   NA       \\\\\n",
       "\t Gym members & 0.14        &   NA        &   NA        & 1958       \\\\\n",
       "\t Gym members & 0.15        &   NA        & 1979        &   NA       \\\\\n",
       "\t Salary      & 0.08        & 1535        &   NA        &   NA       \\\\\n",
       "\t Salary      & 0.14        &   NA        &   NA        & 1775       \\\\\n",
       "\t Salary      & 0.15        &   NA        & 2043        &   NA       \\\\\n",
       "\t FB Friends  & 0.08        & 1560        &   NA        &   NA       \\\\\n",
       "\t FB Friends  & 0.14        &   NA        &   NA        & 1529       \\\\\n",
       "\t FB Friends  & 0.15        &   NA        & 1969        &   NA       \\\\\n",
       "\\end{tabular}\n"
      ],
      "text/markdown": [
       "\n",
       "scenario | noise_profile | 1 | 2 | 3 | \n",
       "|---|---|---|---|---|---|---|---|---|---|---|---|---|---|---|---|---|---|\n",
       "| Temperature | 0.08        | 1447        |   NA        |   NA        | \n",
       "| Temperature | 0.14        |   NA        |   NA        | 1667        | \n",
       "| Temperature | 0.15        |   NA        | 1859        |   NA        | \n",
       "| Rain        | 0.08        | 1429        |   NA        |   NA        | \n",
       "| Rain        | 0.14        |   NA        |   NA        | 1965        | \n",
       "| Rain        | 0.15        |   NA        | 2033        |   NA        | \n",
       "| Sales       | 0.08        | 1499        |   NA        |   NA        | \n",
       "| Sales       | 0.14        |   NA        |   NA        | 1983        | \n",
       "| Sales       | 0.15        |   NA        | 1997        |   NA        | \n",
       "| Gym members | 0.08        | 1717        |   NA        |   NA        | \n",
       "| Gym members | 0.14        |   NA        |   NA        | 1958        | \n",
       "| Gym members | 0.15        |   NA        | 1979        |   NA        | \n",
       "| Salary      | 0.08        | 1535        |   NA        |   NA        | \n",
       "| Salary      | 0.14        |   NA        |   NA        | 1775        | \n",
       "| Salary      | 0.15        |   NA        | 2043        |   NA        | \n",
       "| FB Friends  | 0.08        | 1560        |   NA        |   NA        | \n",
       "| FB Friends  | 0.14        |   NA        |   NA        | 1529        | \n",
       "| FB Friends  | 0.15        |   NA        | 1969        |   NA        | \n",
       "\n",
       "\n"
      ],
      "text/plain": [
       "   scenario    noise_profile 1    2    3   \n",
       "1  Temperature 0.08          1447   NA   NA\n",
       "2  Temperature 0.14            NA   NA 1667\n",
       "3  Temperature 0.15            NA 1859   NA\n",
       "4  Rain        0.08          1429   NA   NA\n",
       "5  Rain        0.14            NA   NA 1965\n",
       "6  Rain        0.15            NA 2033   NA\n",
       "7  Sales       0.08          1499   NA   NA\n",
       "8  Sales       0.14            NA   NA 1983\n",
       "9  Sales       0.15            NA 1997   NA\n",
       "10 Gym members 0.08          1717   NA   NA\n",
       "11 Gym members 0.14            NA   NA 1958\n",
       "12 Gym members 0.15            NA 1979   NA\n",
       "13 Salary      0.08          1535   NA   NA\n",
       "14 Salary      0.14            NA   NA 1775\n",
       "15 Salary      0.15            NA 2043   NA\n",
       "16 FB Friends  0.08          1560   NA   NA\n",
       "17 FB Friends  0.14            NA   NA 1529\n",
       "18 FB Friends  0.15            NA 1969   NA"
      ]
     },
     "metadata": {},
     "output_type": "display_data"
    }
   ],
   "source": [
    "MAEs %>%\n",
    "    select(-sd_MAE, -count, -serror_MAE, -ci_95_bottom, -ci_95_top) %>%\n",
    "    spread(noise, mean_MAE)"
   ]
  },
  {
   "cell_type": "code",
   "execution_count": 416,
   "metadata": {},
   "outputs": [
    {
     "data": {
      "text/html": [
       "<table>\n",
       "<thead><tr><th scope=col>scenario</th><th scope=col>noise_profile</th><th scope=col>1</th><th scope=col>2</th><th scope=col>3</th></tr></thead>\n",
       "<tbody>\n",
       "\t<tr><td>Temperature</td><td>0.08       </td><td>100        </td><td> NA        </td><td> NA        </td></tr>\n",
       "\t<tr><td>Temperature</td><td>0.14       </td><td> NA        </td><td> NA        </td><td>103        </td></tr>\n",
       "\t<tr><td>Temperature</td><td>0.15       </td><td> NA        </td><td>146        </td><td> NA        </td></tr>\n",
       "\t<tr><td>Rain       </td><td>0.08       </td><td> 76        </td><td> NA        </td><td> NA        </td></tr>\n",
       "\t<tr><td>Rain       </td><td>0.14       </td><td> NA        </td><td> NA        </td><td>155        </td></tr>\n",
       "\t<tr><td>Rain       </td><td>0.15       </td><td> NA        </td><td>146        </td><td> NA        </td></tr>\n",
       "\t<tr><td>Sales      </td><td>0.08       </td><td> 94        </td><td> NA        </td><td> NA        </td></tr>\n",
       "\t<tr><td>Sales      </td><td>0.14       </td><td> NA        </td><td> NA        </td><td>128        </td></tr>\n",
       "\t<tr><td>Sales      </td><td>0.15       </td><td> NA        </td><td>121        </td><td> NA        </td></tr>\n",
       "\t<tr><td>Gym members</td><td>0.08       </td><td> 97        </td><td> NA        </td><td> NA        </td></tr>\n",
       "\t<tr><td>Gym members</td><td>0.14       </td><td> NA        </td><td> NA        </td><td>110        </td></tr>\n",
       "\t<tr><td>Gym members</td><td>0.15       </td><td> NA        </td><td>116        </td><td> NA        </td></tr>\n",
       "\t<tr><td>Salary     </td><td>0.08       </td><td> 87        </td><td> NA        </td><td> NA        </td></tr>\n",
       "\t<tr><td>Salary     </td><td>0.14       </td><td> NA        </td><td> NA        </td><td>145        </td></tr>\n",
       "\t<tr><td>Salary     </td><td>0.15       </td><td> NA        </td><td>152        </td><td> NA        </td></tr>\n",
       "\t<tr><td>FB Friends </td><td>0.08       </td><td> 92        </td><td> NA        </td><td> NA        </td></tr>\n",
       "\t<tr><td>FB Friends </td><td>0.14       </td><td> NA        </td><td> NA        </td><td>153        </td></tr>\n",
       "\t<tr><td>FB Friends </td><td>0.15       </td><td> NA        </td><td>150        </td><td> NA        </td></tr>\n",
       "</tbody>\n",
       "</table>\n"
      ],
      "text/latex": [
       "\\begin{tabular}{r|lllll}\n",
       " scenario & noise\\_profile & 1 & 2 & 3\\\\\n",
       "\\hline\n",
       "\t Temperature & 0.08        & 100         &  NA         &  NA        \\\\\n",
       "\t Temperature & 0.14        &  NA         &  NA         & 103        \\\\\n",
       "\t Temperature & 0.15        &  NA         & 146         &  NA        \\\\\n",
       "\t Rain        & 0.08        &  76         &  NA         &  NA        \\\\\n",
       "\t Rain        & 0.14        &  NA         &  NA         & 155        \\\\\n",
       "\t Rain        & 0.15        &  NA         & 146         &  NA        \\\\\n",
       "\t Sales       & 0.08        &  94         &  NA         &  NA        \\\\\n",
       "\t Sales       & 0.14        &  NA         &  NA         & 128        \\\\\n",
       "\t Sales       & 0.15        &  NA         & 121         &  NA        \\\\\n",
       "\t Gym members & 0.08        &  97         &  NA         &  NA        \\\\\n",
       "\t Gym members & 0.14        &  NA         &  NA         & 110        \\\\\n",
       "\t Gym members & 0.15        &  NA         & 116         &  NA        \\\\\n",
       "\t Salary      & 0.08        &  87         &  NA         &  NA        \\\\\n",
       "\t Salary      & 0.14        &  NA         &  NA         & 145        \\\\\n",
       "\t Salary      & 0.15        &  NA         & 152         &  NA        \\\\\n",
       "\t FB Friends  & 0.08        &  92         &  NA         &  NA        \\\\\n",
       "\t FB Friends  & 0.14        &  NA         &  NA         & 153        \\\\\n",
       "\t FB Friends  & 0.15        &  NA         & 150         &  NA        \\\\\n",
       "\\end{tabular}\n"
      ],
      "text/markdown": [
       "\n",
       "scenario | noise_profile | 1 | 2 | 3 | \n",
       "|---|---|---|---|---|---|---|---|---|---|---|---|---|---|---|---|---|---|\n",
       "| Temperature | 0.08        | 100         |  NA         |  NA         | \n",
       "| Temperature | 0.14        |  NA         |  NA         | 103         | \n",
       "| Temperature | 0.15        |  NA         | 146         |  NA         | \n",
       "| Rain        | 0.08        |  76         |  NA         |  NA         | \n",
       "| Rain        | 0.14        |  NA         |  NA         | 155         | \n",
       "| Rain        | 0.15        |  NA         | 146         |  NA         | \n",
       "| Sales       | 0.08        |  94         |  NA         |  NA         | \n",
       "| Sales       | 0.14        |  NA         |  NA         | 128         | \n",
       "| Sales       | 0.15        |  NA         | 121         |  NA         | \n",
       "| Gym members | 0.08        |  97         |  NA         |  NA         | \n",
       "| Gym members | 0.14        |  NA         |  NA         | 110         | \n",
       "| Gym members | 0.15        |  NA         | 116         |  NA         | \n",
       "| Salary      | 0.08        |  87         |  NA         |  NA         | \n",
       "| Salary      | 0.14        |  NA         |  NA         | 145         | \n",
       "| Salary      | 0.15        |  NA         | 152         |  NA         | \n",
       "| FB Friends  | 0.08        |  92         |  NA         |  NA         | \n",
       "| FB Friends  | 0.14        |  NA         |  NA         | 153         | \n",
       "| FB Friends  | 0.15        |  NA         | 150         |  NA         | \n",
       "\n",
       "\n"
      ],
      "text/plain": [
       "   scenario    noise_profile 1   2   3  \n",
       "1  Temperature 0.08          100  NA  NA\n",
       "2  Temperature 0.14           NA  NA 103\n",
       "3  Temperature 0.15           NA 146  NA\n",
       "4  Rain        0.08           76  NA  NA\n",
       "5  Rain        0.14           NA  NA 155\n",
       "6  Rain        0.15           NA 146  NA\n",
       "7  Sales       0.08           94  NA  NA\n",
       "8  Sales       0.14           NA  NA 128\n",
       "9  Sales       0.15           NA 121  NA\n",
       "10 Gym members 0.08           97  NA  NA\n",
       "11 Gym members 0.14           NA  NA 110\n",
       "12 Gym members 0.15           NA 116  NA\n",
       "13 Salary      0.08           87  NA  NA\n",
       "14 Salary      0.14           NA  NA 145\n",
       "15 Salary      0.15           NA 152  NA\n",
       "16 FB Friends  0.08           92  NA  NA\n",
       "17 FB Friends  0.14           NA  NA 153\n",
       "18 FB Friends  0.15           NA 150  NA"
      ]
     },
     "metadata": {},
     "output_type": "display_data"
    }
   ],
   "source": [
    "MAEs %>%\n",
    "    select(-mean_MAE, -count, -sd_MAE, -ci_95_bottom, -ci_95_top) %>%\n",
    "    spread(noise, serror_MAE)"
   ]
  },
  {
   "cell_type": "markdown",
   "metadata": {},
   "source": [
    "### Regressions"
   ]
  },
  {
   "cell_type": "code",
   "execution_count": 417,
   "metadata": {},
   "outputs": [],
   "source": [
    "# Adding the noise profiles\n",
    "MAEs[MAEs$noise == 1, 'noise_profile'] <- np1\n",
    "MAEs[MAEs$noise == 2, 'noise_profile'] <- np2\n",
    "MAEs[MAEs$noise == 3, 'noise_profile'] <- np3\n",
    "\n",
    "MAEs_per_person[MAEs_per_person$noise == 1, 'noise_profile'] <- np1\n",
    "MAEs_per_person[MAEs_per_person$noise == 2, 'noise_profile'] <- np2\n",
    "MAEs_per_person[MAEs_per_person$noise == 3, 'noise_profile'] <- np3\n",
    "\n",
    "# Adding a cuadratic and cubic noise profile\n",
    "MAEs_per_person$quadratic_np <- MAEs_per_person$noise_profile^2\n",
    "MAEs_per_person$cubic_np <- MAEs_per_person$noise_profile^3"
   ]
  },
  {
   "cell_type": "code",
   "execution_count": 418,
   "metadata": {},
   "outputs": [
    {
     "data": {
      "text/html": [
       "<table>\n",
       "<thead><tr><th scope=col>id</th><th scope=col>scenario</th><th scope=col>noise</th><th scope=col>MAE</th><th scope=col>noise_profile</th><th scope=col>quadratic_np</th><th scope=col>cubic_np</th></tr></thead>\n",
       "<tbody>\n",
       "\t<tr><td>a001       </td><td>Temperature</td><td>3          </td><td>1739.4741  </td><td>0.14       </td><td>0.0196     </td><td>0.002744   </td></tr>\n",
       "\t<tr><td>a001       </td><td>Rain       </td><td>3          </td><td>1240.7902  </td><td>0.14       </td><td>0.0196     </td><td>0.002744   </td></tr>\n",
       "\t<tr><td>a001       </td><td>Sales      </td><td>3          </td><td>1458.5372  </td><td>0.14       </td><td>0.0196     </td><td>0.002744   </td></tr>\n",
       "\t<tr><td>a001       </td><td>Gym members</td><td>3          </td><td>2087.9279  </td><td>0.14       </td><td>0.0196     </td><td>0.002744   </td></tr>\n",
       "\t<tr><td>a001       </td><td>Salary     </td><td>3          </td><td>1616.0674  </td><td>0.14       </td><td>0.0196     </td><td>0.002744   </td></tr>\n",
       "\t<tr><td>a001       </td><td>FB Friends </td><td>3          </td><td> 883.5341  </td><td>0.14       </td><td>0.0196     </td><td>0.002744   </td></tr>\n",
       "</tbody>\n",
       "</table>\n"
      ],
      "text/latex": [
       "\\begin{tabular}{r|lllllll}\n",
       " id & scenario & noise & MAE & noise\\_profile & quadratic\\_np & cubic\\_np\\\\\n",
       "\\hline\n",
       "\t a001        & Temperature & 3           & 1739.4741   & 0.14        & 0.0196      & 0.002744   \\\\\n",
       "\t a001        & Rain        & 3           & 1240.7902   & 0.14        & 0.0196      & 0.002744   \\\\\n",
       "\t a001        & Sales       & 3           & 1458.5372   & 0.14        & 0.0196      & 0.002744   \\\\\n",
       "\t a001        & Gym members & 3           & 2087.9279   & 0.14        & 0.0196      & 0.002744   \\\\\n",
       "\t a001        & Salary      & 3           & 1616.0674   & 0.14        & 0.0196      & 0.002744   \\\\\n",
       "\t a001        & FB Friends  & 3           &  883.5341   & 0.14        & 0.0196      & 0.002744   \\\\\n",
       "\\end{tabular}\n"
      ],
      "text/markdown": [
       "\n",
       "id | scenario | noise | MAE | noise_profile | quadratic_np | cubic_np | \n",
       "|---|---|---|---|---|---|\n",
       "| a001        | Temperature | 3           | 1739.4741   | 0.14        | 0.0196      | 0.002744    | \n",
       "| a001        | Rain        | 3           | 1240.7902   | 0.14        | 0.0196      | 0.002744    | \n",
       "| a001        | Sales       | 3           | 1458.5372   | 0.14        | 0.0196      | 0.002744    | \n",
       "| a001        | Gym members | 3           | 2087.9279   | 0.14        | 0.0196      | 0.002744    | \n",
       "| a001        | Salary      | 3           | 1616.0674   | 0.14        | 0.0196      | 0.002744    | \n",
       "| a001        | FB Friends  | 3           |  883.5341   | 0.14        | 0.0196      | 0.002744    | \n",
       "\n",
       "\n"
      ],
      "text/plain": [
       "  id   scenario    noise MAE       noise_profile quadratic_np cubic_np\n",
       "1 a001 Temperature 3     1739.4741 0.14          0.0196       0.002744\n",
       "2 a001 Rain        3     1240.7902 0.14          0.0196       0.002744\n",
       "3 a001 Sales       3     1458.5372 0.14          0.0196       0.002744\n",
       "4 a001 Gym members 3     2087.9279 0.14          0.0196       0.002744\n",
       "5 a001 Salary      3     1616.0674 0.14          0.0196       0.002744\n",
       "6 a001 FB Friends  3      883.5341 0.14          0.0196       0.002744"
      ]
     },
     "metadata": {},
     "output_type": "display_data"
    }
   ],
   "source": [
    "MAEs_per_person %>% head"
   ]
  },
  {
   "cell_type": "markdown",
   "metadata": {},
   "source": [
    "#### Linear regression"
   ]
  },
  {
   "cell_type": "code",
   "execution_count": 419,
   "metadata": {},
   "outputs": [
    {
     "data": {
      "text/plain": [
       "\n",
       "Call:\n",
       "lm(formula = MAE ~ noise_profile, data = MAEs_scenario)\n",
       "\n",
       "Residuals:\n",
       "    Min      1Q  Median      3Q     Max \n",
       "-1240.5  -631.5  -100.8   386.4  3574.9 \n",
       "\n",
       "Coefficients:\n",
       "              Estimate Std. Error t value Pr(>|t|)    \n",
       "(Intercept)     1222.4      306.7   3.986 0.000117 ***\n",
       "noise_profile   3881.0     2435.9   1.593 0.113794    \n",
       "---\n",
       "Signif. codes:  0 '***' 0.001 '**' 0.01 '*' 0.05 '.' 0.1 ' ' 1\n",
       "\n",
       "Residual standard error: 843.1 on 117 degrees of freedom\n",
       "Multiple R-squared:  0.02124,\tAdjusted R-squared:  0.01287 \n",
       "F-statistic: 2.539 on 1 and 117 DF,  p-value: 0.1138\n"
      ]
     },
     "metadata": {},
     "output_type": "display_data"
    }
   ],
   "source": [
    "MAEs_scenario <- MAEs_per_person %>%\n",
    "                    filter(scenario=='FB Friends')\n",
    "\n",
    "fit <- lm(MAE ~ noise_profile, data=MAEs_scenario)\n",
    "summary(fit)"
   ]
  },
  {
   "cell_type": "markdown",
   "metadata": {},
   "source": [
    "### Plots"
   ]
  },
  {
   "cell_type": "code",
   "execution_count": 420,
   "metadata": {},
   "outputs": [
    {
     "data": {
      "text/html": [
       "<table>\n",
       "<thead><tr><th scope=col>scenario</th><th scope=col>noise</th><th scope=col>mean_MAE</th><th scope=col>sd_MAE</th><th scope=col>count</th><th scope=col>serror_MAE</th><th scope=col>ci_95_bottom</th><th scope=col>ci_95_top</th><th scope=col>noise_profile</th></tr></thead>\n",
       "<tbody>\n",
       "\t<tr><td>Temperature</td><td>1          </td><td>1447       </td><td>655        </td><td>43         </td><td>100        </td><td>1649       </td><td>1245       </td><td>0.08       </td></tr>\n",
       "\t<tr><td>Temperature</td><td>2          </td><td>1859       </td><td>945        </td><td>42         </td><td>146        </td><td>2154       </td><td>1564       </td><td>0.15       </td></tr>\n",
       "\t<tr><td>Temperature</td><td>3          </td><td>1667       </td><td>599        </td><td>34         </td><td>103        </td><td>1876       </td><td>1458       </td><td>0.14       </td></tr>\n",
       "\t<tr><td>Rain       </td><td>1          </td><td>1429       </td><td>501        </td><td>43         </td><td> 76        </td><td>1582       </td><td>1276       </td><td>0.08       </td></tr>\n",
       "\t<tr><td>Rain       </td><td>2          </td><td>2033       </td><td>943        </td><td>42         </td><td>146        </td><td>2328       </td><td>1738       </td><td>0.15       </td></tr>\n",
       "\t<tr><td>Rain       </td><td>3          </td><td>1965       </td><td>901        </td><td>34         </td><td>155        </td><td>2280       </td><td>1650       </td><td>0.14       </td></tr>\n",
       "</tbody>\n",
       "</table>\n"
      ],
      "text/latex": [
       "\\begin{tabular}{r|lllllllll}\n",
       " scenario & noise & mean\\_MAE & sd\\_MAE & count & serror\\_MAE & ci\\_95\\_bottom & ci\\_95\\_top & noise\\_profile\\\\\n",
       "\\hline\n",
       "\t Temperature & 1           & 1447        & 655         & 43          & 100         & 1649        & 1245        & 0.08       \\\\\n",
       "\t Temperature & 2           & 1859        & 945         & 42          & 146         & 2154        & 1564        & 0.15       \\\\\n",
       "\t Temperature & 3           & 1667        & 599         & 34          & 103         & 1876        & 1458        & 0.14       \\\\\n",
       "\t Rain        & 1           & 1429        & 501         & 43          &  76         & 1582        & 1276        & 0.08       \\\\\n",
       "\t Rain        & 2           & 2033        & 943         & 42          & 146         & 2328        & 1738        & 0.15       \\\\\n",
       "\t Rain        & 3           & 1965        & 901         & 34          & 155         & 2280        & 1650        & 0.14       \\\\\n",
       "\\end{tabular}\n"
      ],
      "text/markdown": [
       "\n",
       "scenario | noise | mean_MAE | sd_MAE | count | serror_MAE | ci_95_bottom | ci_95_top | noise_profile | \n",
       "|---|---|---|---|---|---|\n",
       "| Temperature | 1           | 1447        | 655         | 43          | 100         | 1649        | 1245        | 0.08        | \n",
       "| Temperature | 2           | 1859        | 945         | 42          | 146         | 2154        | 1564        | 0.15        | \n",
       "| Temperature | 3           | 1667        | 599         | 34          | 103         | 1876        | 1458        | 0.14        | \n",
       "| Rain        | 1           | 1429        | 501         | 43          |  76         | 1582        | 1276        | 0.08        | \n",
       "| Rain        | 2           | 2033        | 943         | 42          | 146         | 2328        | 1738        | 0.15        | \n",
       "| Rain        | 3           | 1965        | 901         | 34          | 155         | 2280        | 1650        | 0.14        | \n",
       "\n",
       "\n"
      ],
      "text/plain": [
       "  scenario    noise mean_MAE sd_MAE count serror_MAE ci_95_bottom ci_95_top\n",
       "1 Temperature 1     1447     655    43    100        1649         1245     \n",
       "2 Temperature 2     1859     945    42    146        2154         1564     \n",
       "3 Temperature 3     1667     599    34    103        1876         1458     \n",
       "4 Rain        1     1429     501    43     76        1582         1276     \n",
       "5 Rain        2     2033     943    42    146        2328         1738     \n",
       "6 Rain        3     1965     901    34    155        2280         1650     \n",
       "  noise_profile\n",
       "1 0.08         \n",
       "2 0.15         \n",
       "3 0.14         \n",
       "4 0.08         \n",
       "5 0.15         \n",
       "6 0.14         "
      ]
     },
     "metadata": {},
     "output_type": "display_data"
    }
   ],
   "source": [
    "MAEs %>% head"
   ]
  },
  {
   "cell_type": "code",
   "execution_count": 432,
   "metadata": {},
   "outputs": [
    {
     "data": {},
     "metadata": {},
     "output_type": "display_data"
    },
    {
     "data": {
      "image/png": "[encoded data removed]",
      "text/plain": [
       "plot without title"
      ]
     },
     "metadata": {},
     "output_type": "display_data"
    }
   ],
   "source": [
    "p <- ggplot(data=MAEs, aes(x=noise_profile, y=mean_MAE, group=scenario, colour=scenario)) +\n",
    "        geom_line(size=1) +\n",
    "        geom_point(size=3) +\n",
    "        #expand_limits(y=1000) +  \n",
    "        xlab(\"Noise Group Value\") + ylab(\"Mean MAE\") +\n",
    "        theme_bw() +\n",
    "        #geom_errorbar(aes(ymin=ci_95_bottom, ymax=ci_95_top), width=.005) +\n",
    "        labs(colour = \"Scenario\")\n",
    "\n",
    "svg(\"Images/MAEs_noise.svg\", width=8, height=4)\n",
    "#p\n",
    "dev.off()\n",
    "p"
   ]
  },
  {
   "cell_type": "code",
   "execution_count": null,
   "metadata": {
    "collapsed": true
   },
   "outputs": [],
   "source": []
  },
  {
   "cell_type": "code",
   "execution_count": null,
   "metadata": {
    "collapsed": true
   },
   "outputs": [],
   "source": []
  }
 ],
 "metadata": {
  "kernelspec": {
   "display_name": "R",
   "language": "R",
   "name": "ir"
  },
  "language_info": {
   "codemirror_mode": "r",
   "file_extension": ".r",
   "mimetype": "text/x-r-source",
   "name": "R",
   "pygments_lexer": "r",
   "version": "3.3.1"
  }
 },
 "nbformat": 4,
 "nbformat_minor": 2
}
