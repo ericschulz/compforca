{
 "cells": [
  {
   "cell_type": "markdown",
   "metadata": {},
   "source": [
    "# Libraries"
   ]
  },
  {
   "cell_type": "code",
   "execution_count": 305,
   "metadata": {},
   "outputs": [],
   "source": [
    "source(\"tools.R\")\n",
    "library('DescTools')"
   ]
  },
  {
   "cell_type": "markdown",
   "metadata": {},
   "source": [
    "# Prior likelihoods"
   ]
  },
  {
   "cell_type": "markdown",
   "metadata": {},
   "source": [
    "### Preparing the data"
   ]
  },
  {
   "cell_type": "code",
   "execution_count": 306,
   "metadata": {},
   "outputs": [
    {
     "name": "stderr",
     "output_type": "stream",
     "text": [
      "Warning message:\n",
      "\"Missing column names filled in: 'X1' [1]\"Parsed with column specification:\n",
      "cols(\n",
      "  X1 = col_integer(),\n",
      "  id = col_integer(),\n",
      "  pid = col_character(),\n",
      "  scenario = col_character(),\n",
      "  x = col_integer(),\n",
      "  y = col_double()\n",
      ")\n"
     ]
    }
   ],
   "source": [
    "data_prior <- read_csv(\"data/for_composititional_analysis_prior.csv\")\n",
    "\n",
    "dict_prior <- data_prior %>%                        \n",
    "                        group_by(id, pid, scenario) %>%\n",
    "                        summarize()"
   ]
  },
  {
   "cell_type": "code",
   "execution_count": 307,
   "metadata": {},
   "outputs": [
    {
     "name": "stderr",
     "output_type": "stream",
     "text": [
      "Warning message:\n",
      "\"Missing column names filled in: 'X1' [1]\"Parsed with column specification:\n",
      "cols(\n",
      "  X1 = col_integer(),\n",
      "  l = col_double(),\n",
      "  `l*p` = col_double(),\n",
      "  `l*p+r` = col_double(),\n",
      "  `l*r` = col_double(),\n",
      "  `l*r*p` = col_double(),\n",
      "  `l*r+p` = col_double(),\n",
      "  `l+p` = col_double(),\n",
      "  `l+r` = col_double(),\n",
      "  `l+r*p` = col_double(),\n",
      "  `l+r+p` = col_double(),\n",
      "  p = col_double(),\n",
      "  `p*r` = col_double(),\n",
      "  `p+r` = col_double(),\n",
      "  r = col_double()\n",
      ")\n"
     ]
    }
   ],
   "source": [
    "lmls_prior <- read_csv(\"output/lmls_prior.csv\")"
   ]
  },
  {
   "cell_type": "code",
   "execution_count": 308,
   "metadata": {},
   "outputs": [
    {
     "data": {
      "text/html": [
       "<table>\n",
       "<thead><tr><th scope=col>X1</th><th scope=col>l</th><th scope=col>l*p</th><th scope=col>l*p+r</th><th scope=col>l*r</th><th scope=col>l*r*p</th><th scope=col>l*r+p</th><th scope=col>l+p</th><th scope=col>l+r</th><th scope=col>l+r*p</th><th scope=col>l+r+p</th><th scope=col>p</th><th scope=col>p*r</th><th scope=col>p+r</th><th scope=col>r</th></tr></thead>\n",
       "<tbody>\n",
       "\t<tr><td>  1          </td><td> -713.6954   </td><td>-8.438396e-02</td><td>  -146.6802  </td><td>-851.89829   </td><td> -851.89688  </td><td>-322.6189    </td><td>  791.0454   </td><td>821.78723    </td><td>   927.2291  </td><td>-323.47298   </td><td> -323.0216   </td><td>   804.48813 </td><td>-548.3215    </td><td> 792.3592    </td></tr>\n",
       "\t<tr><td> 10          </td><td>-1097.0542   </td><td>-1.097054e+03</td><td>-10196.9489  </td><td> -68.44092   </td><td>-2035.82151  </td><td> 141.9539    </td><td>  148.8720   </td><td>148.07899    </td><td>-10196.9489  </td><td>1468.08628   </td><td> 1537.9242   </td><td>-51685.97435 </td><td>1516.7239    </td><td>1540.7145    </td></tr>\n",
       "\t<tr><td>100          </td><td>-1196.2895   </td><td>-1.196289e+03</td><td>    60.4096  </td><td> -94.76571   </td><td>  -98.14110  </td><td> 815.7817    </td><td> -245.2160   </td><td>899.05122    </td><td>   818.8646  </td><td>  65.02978   </td><td> -761.1522   </td><td>    69.69232 </td><td> 994.7514    </td><td> 855.1832    </td></tr>\n",
       "\t<tr><td>101          </td><td> -884.5586   </td><td>-8.845586e+02</td><td> -2511.4764  </td><td> -21.25770   </td><td>  -21.48428  </td><td>-369.3005    </td><td> -437.5120   </td><td> 90.20008    </td><td>  1129.5959  </td><td>  98.89978   </td><td> -905.7997   </td><td>  1191.32516 </td><td>1159.0688    </td><td>1128.8089    </td></tr>\n",
       "\t<tr><td>102          </td><td>-1428.1828   </td><td>-2.631303e+02</td><td>  -132.9282  </td><td>-266.09369   </td><td>  -60.38163  </td><td>-996.5167    </td><td>-1428.1828   </td><td> 82.70370    </td><td>   169.0308  </td><td>-831.25674   </td><td>-1717.5405   </td><td>  -581.34877 </td><td>-169.7323    </td><td> -39.2825    </td></tr>\n",
       "\t<tr><td>103          </td><td>-1055.6152   </td><td>-1.055620e+03</td><td> -7682.7321  </td><td> -57.30613   </td><td>-2035.23194  </td><td>1579.0880    </td><td>  150.1733   </td><td>150.17337    </td><td> -7682.7321  </td><td> 149.92483   </td><td> -182.1528   </td><td>-33875.75641 </td><td>-175.4362    </td><td>1616.2660    </td></tr>\n",
       "</tbody>\n",
       "</table>\n"
      ],
      "text/latex": [
       "\\begin{tabular}{r|lllllllllllllll}\n",
       " X1 & l & l*p & l*p+r & l*r & l*r*p & l*r+p & l+p & l+r & l+r*p & l+r+p & p & p*r & p+r & r\\\\\n",
       "\\hline\n",
       "\t   1           &  -713.6954    & -8.438396e-02 &   -146.6802   & -851.89829    &  -851.89688   & -322.6189     &   791.0454    & 821.78723     &    927.2291   & -323.47298    &  -323.0216    &    804.48813  & -548.3215     &  792.3592    \\\\\n",
       "\t  10           & -1097.0542    & -1.097054e+03 & -10196.9489   &  -68.44092    & -2035.82151   &  141.9539     &   148.8720    & 148.07899     & -10196.9489   & 1468.08628    &  1537.9242    & -51685.97435  & 1516.7239     & 1540.7145    \\\\\n",
       "\t 100           & -1196.2895    & -1.196289e+03 &     60.4096   &  -94.76571    &   -98.14110   &  815.7817     &  -245.2160    & 899.05122     &    818.8646   &   65.02978    &  -761.1522    &     69.69232  &  994.7514     &  855.1832    \\\\\n",
       "\t 101           &  -884.5586    & -8.845586e+02 &  -2511.4764   &  -21.25770    &   -21.48428   & -369.3005     &  -437.5120    &  90.20008     &   1129.5959   &   98.89978    &  -905.7997    &   1191.32516  & 1159.0688     & 1128.8089    \\\\\n",
       "\t 102           & -1428.1828    & -2.631303e+02 &   -132.9282   & -266.09369    &   -60.38163   & -996.5167     & -1428.1828    &  82.70370     &    169.0308   & -831.25674    & -1717.5405    &   -581.34877  & -169.7323     &  -39.2825    \\\\\n",
       "\t 103           & -1055.6152    & -1.055620e+03 &  -7682.7321   &  -57.30613    & -2035.23194   & 1579.0880     &   150.1733    & 150.17337     &  -7682.7321   &  149.92483    &  -182.1528    & -33875.75641  & -175.4362     & 1616.2660    \\\\\n",
       "\\end{tabular}\n"
      ],
      "text/markdown": [
       "\n",
       "X1 | l | l*p | l*p+r | l*r | l*r*p | l*r+p | l+p | l+r | l+r*p | l+r+p | p | p*r | p+r | r | \n",
       "|---|---|---|---|---|---|\n",
       "|   1           |  -713.6954    | -8.438396e-02 |   -146.6802   | -851.89829    |  -851.89688   | -322.6189     |   791.0454    | 821.78723     |    927.2291   | -323.47298    |  -323.0216    |    804.48813  | -548.3215     |  792.3592     | \n",
       "|  10           | -1097.0542    | -1.097054e+03 | -10196.9489   |  -68.44092    | -2035.82151   |  141.9539     |   148.8720    | 148.07899     | -10196.9489   | 1468.08628    |  1537.9242    | -51685.97435  | 1516.7239     | 1540.7145     | \n",
       "| 100           | -1196.2895    | -1.196289e+03 |     60.4096   |  -94.76571    |   -98.14110   |  815.7817     |  -245.2160    | 899.05122     |    818.8646   |   65.02978    |  -761.1522    |     69.69232  |  994.7514     |  855.1832     | \n",
       "| 101           |  -884.5586    | -8.845586e+02 |  -2511.4764   |  -21.25770    |   -21.48428   | -369.3005     |  -437.5120    |  90.20008     |   1129.5959   |   98.89978    |  -905.7997    |   1191.32516  | 1159.0688     | 1128.8089     | \n",
       "| 102           | -1428.1828    | -2.631303e+02 |   -132.9282   | -266.09369    |   -60.38163   | -996.5167     | -1428.1828    |  82.70370     |    169.0308   | -831.25674    | -1717.5405    |   -581.34877  | -169.7323     |  -39.2825     | \n",
       "| 103           | -1055.6152    | -1.055620e+03 |  -7682.7321   |  -57.30613    | -2035.23194   | 1579.0880     |   150.1733    | 150.17337     |  -7682.7321   |  149.92483    |  -182.1528    | -33875.75641  | -175.4362     | 1616.2660     | \n",
       "\n",
       "\n"
      ],
      "text/plain": [
       "  X1  l          l*p           l*p+r       l*r        l*r*p       l*r+p    \n",
       "1   1  -713.6954 -8.438396e-02   -146.6802 -851.89829  -851.89688 -322.6189\n",
       "2  10 -1097.0542 -1.097054e+03 -10196.9489  -68.44092 -2035.82151  141.9539\n",
       "3 100 -1196.2895 -1.196289e+03     60.4096  -94.76571   -98.14110  815.7817\n",
       "4 101  -884.5586 -8.845586e+02  -2511.4764  -21.25770   -21.48428 -369.3005\n",
       "5 102 -1428.1828 -2.631303e+02   -132.9282 -266.09369   -60.38163 -996.5167\n",
       "6 103 -1055.6152 -1.055620e+03  -7682.7321  -57.30613 -2035.23194 1579.0880\n",
       "  l+p        l+r       l+r*p       l+r+p      p          p*r          p+r      \n",
       "1   791.0454 821.78723    927.2291 -323.47298  -323.0216    804.48813 -548.3215\n",
       "2   148.8720 148.07899 -10196.9489 1468.08628  1537.9242 -51685.97435 1516.7239\n",
       "3  -245.2160 899.05122    818.8646   65.02978  -761.1522     69.69232  994.7514\n",
       "4  -437.5120  90.20008   1129.5959   98.89978  -905.7997   1191.32516 1159.0688\n",
       "5 -1428.1828  82.70370    169.0308 -831.25674 -1717.5405   -581.34877 -169.7323\n",
       "6   150.1733 150.17337  -7682.7321  149.92483  -182.1528 -33875.75641 -175.4362\n",
       "  r        \n",
       "1  792.3592\n",
       "2 1540.7145\n",
       "3  855.1832\n",
       "4 1128.8089\n",
       "5  -39.2825\n",
       "6 1616.2660"
      ]
     },
     "metadata": {},
     "output_type": "display_data"
    }
   ],
   "source": [
    "lmls_prior %>% head"
   ]
  },
  {
   "cell_type": "code",
   "execution_count": 309,
   "metadata": {},
   "outputs": [
    {
     "name": "stderr",
     "output_type": "stream",
     "text": [
      "Parsed with column specification:\n",
      "cols(\n",
      "  cid = col_integer(),\n",
      "  composition = col_character(),\n",
      "  white_added = col_character(),\n",
      "  second_exception = col_character()\n",
      ")\n"
     ]
    }
   ],
   "source": [
    "metadata_prior <- read_csv(\"output/metadata_prior.csv\")"
   ]
  },
  {
   "cell_type": "code",
   "execution_count": 310,
   "metadata": {},
   "outputs": [
    {
     "data": {
      "text/html": [
       "<table>\n",
       "<thead><tr><th scope=col>cid</th><th scope=col>composition</th><th scope=col>white_added</th><th scope=col>second_exception</th></tr></thead>\n",
       "<tbody>\n",
       "\t<tr><td>1    </td><td>l    </td><td>False</td><td>False</td></tr>\n",
       "\t<tr><td>1    </td><td>p    </td><td>False</td><td>False</td></tr>\n",
       "\t<tr><td>1    </td><td>r    </td><td>False</td><td>False</td></tr>\n",
       "\t<tr><td>1    </td><td>l+p  </td><td>False</td><td>False</td></tr>\n",
       "\t<tr><td>1    </td><td>l+r  </td><td>False</td><td>False</td></tr>\n",
       "\t<tr><td>1    </td><td>p+r  </td><td>False</td><td>False</td></tr>\n",
       "</tbody>\n",
       "</table>\n"
      ],
      "text/latex": [
       "\\begin{tabular}{r|llll}\n",
       " cid & composition & white\\_added & second\\_exception\\\\\n",
       "\\hline\n",
       "\t 1     & l     & False & False\\\\\n",
       "\t 1     & p     & False & False\\\\\n",
       "\t 1     & r     & False & False\\\\\n",
       "\t 1     & l+p   & False & False\\\\\n",
       "\t 1     & l+r   & False & False\\\\\n",
       "\t 1     & p+r   & False & False\\\\\n",
       "\\end{tabular}\n"
      ],
      "text/markdown": [
       "\n",
       "cid | composition | white_added | second_exception | \n",
       "|---|---|---|---|---|---|\n",
       "| 1     | l     | False | False | \n",
       "| 1     | p     | False | False | \n",
       "| 1     | r     | False | False | \n",
       "| 1     | l+p   | False | False | \n",
       "| 1     | l+r   | False | False | \n",
       "| 1     | p+r   | False | False | \n",
       "\n",
       "\n"
      ],
      "text/plain": [
       "  cid composition white_added second_exception\n",
       "1 1   l           False       False           \n",
       "2 1   p           False       False           \n",
       "3 1   r           False       False           \n",
       "4 1   l+p         False       False           \n",
       "5 1   l+r         False       False           \n",
       "6 1   p+r         False       False           "
      ]
     },
     "metadata": {},
     "output_type": "display_data"
    }
   ],
   "source": [
    "metadata_prior %>% head"
   ]
  },
  {
   "cell_type": "code",
   "execution_count": 311,
   "metadata": {},
   "outputs": [],
   "source": [
    "metadata_prior <- metadata_prior %>%\n",
    "                        mutate( cid_composition = paste0(cid, composition) )"
   ]
  },
  {
   "cell_type": "code",
   "execution_count": 312,
   "metadata": {
    "collapsed": true
   },
   "outputs": [],
   "source": [
    "metadata_prior$pid <- NULL\n",
    "metadata_prior$composition <- NULL"
   ]
  },
  {
   "cell_type": "code",
   "execution_count": 313,
   "metadata": {
    "collapsed": true
   },
   "outputs": [],
   "source": [
    "kernels <- c(\"l\", \"p\", \"r\", \"l+p\", \"l+r\", \"p+r\", \"l*r\", \"l*p\", \"p*r\", \"l+r+p\", \"l+r*p\", \"l*r+p\", \"l*p+r\", \"l*r*p\")\n",
    "\n",
    "lmls_prior<- lmls_prior %>% \n",
    "                gather(kernel, lml, kernels)\n",
    "\n",
    "colnames(lmls_prior) = c('id', 'kernel', 'lml')\n",
    "\n",
    "lmls_prior <- merge(x = lmls_prior, y = dict_prior, by = c(\"id\", \"id\"), all.x = TRUE)"
   ]
  },
  {
   "cell_type": "code",
   "execution_count": 314,
   "metadata": {
    "collapsed": true
   },
   "outputs": [],
   "source": [
    "lmls_prior <- lmls_prior %>%\n",
    "                        mutate( cid_composition = paste0(id, kernel) )"
   ]
  },
  {
   "cell_type": "markdown",
   "metadata": {},
   "source": [
    "Joining"
   ]
  },
  {
   "cell_type": "code",
   "execution_count": 315,
   "metadata": {
    "collapsed": true
   },
   "outputs": [],
   "source": [
    "lmls_prior <- merge(x = lmls_prior, y = metadata_prior, by = c(\"cid_composition\", \"cid_composition\"), all.x = TRUE)"
   ]
  },
  {
   "cell_type": "code",
   "execution_count": 316,
   "metadata": {
    "collapsed": true
   },
   "outputs": [],
   "source": [
    "lmls_prior$cid_composition <- NULL"
   ]
  },
  {
   "cell_type": "markdown",
   "metadata": {},
   "source": [
    "Analyzing"
   ]
  },
  {
   "cell_type": "code",
   "execution_count": 317,
   "metadata": {},
   "outputs": [
    {
     "data": {
      "text/html": [
       "2737"
      ],
      "text/latex": [
       "2737"
      ],
      "text/markdown": [
       "2737"
      ],
      "text/plain": [
       "[1] 2737"
      ]
     },
     "metadata": {},
     "output_type": "display_data"
    },
    {
     "data": {
      "text/html": [
       "5831"
      ],
      "text/latex": [
       "5831"
      ],
      "text/markdown": [
       "5831"
      ],
      "text/plain": [
       "[1] 5831"
      ]
     },
     "metadata": {},
     "output_type": "display_data"
    },
    {
     "data": {
      "text/html": [
       "8568"
      ],
      "text/latex": [
       "8568"
      ],
      "text/markdown": [
       "8568"
      ],
      "text/plain": [
       "[1] 8568"
      ]
     },
     "metadata": {},
     "output_type": "display_data"
    }
   ],
   "source": [
    "lmls_prior %>%\n",
    "    filter(kernel != 'l', kernel != 'lp', kernel != 'r') %>%\n",
    "    filter(white_added == 'True') %>%\n",
    "    nrow\n",
    "\n",
    "lmls_prior %>%\n",
    "    filter(kernel != 'l', kernel != 'lp', kernel != 'r') %>%\n",
    "    filter(white_added == 'False') %>%\n",
    "    nrow\n",
    "\n",
    "lmls_prior %>%\n",
    "    filter(kernel != 'l', kernel != 'lp', kernel != 'r') %>%\n",
    "    nrow"
   ]
  },
  {
   "cell_type": "code",
   "execution_count": 318,
   "metadata": {},
   "outputs": [
    {
     "data": {
      "text/html": [
       "498"
      ],
      "text/latex": [
       "498"
      ],
      "text/markdown": [
       "498"
      ],
      "text/plain": [
       "[1] 498"
      ]
     },
     "metadata": {},
     "output_type": "display_data"
    },
    {
     "data": {
      "text/html": [
       "7356"
      ],
      "text/latex": [
       "7356"
      ],
      "text/markdown": [
       "7356"
      ],
      "text/plain": [
       "[1] 7356"
      ]
     },
     "metadata": {},
     "output_type": "display_data"
    },
    {
     "data": {
      "text/html": [
       "7854"
      ],
      "text/latex": [
       "7854"
      ],
      "text/markdown": [
       "7854"
      ],
      "text/plain": [
       "[1] 7854"
      ]
     },
     "metadata": {},
     "output_type": "display_data"
    }
   ],
   "source": [
    "lmls_prior %>%\n",
    "    filter(kernel != 'l', kernel != 'p', kernel != 'r') %>%\n",
    "    filter(second_exception == 'True') %>%\n",
    "    nrow\n",
    "\n",
    "lmls_prior %>%\n",
    "    filter(kernel != 'l', kernel != 'p', kernel != 'r') %>%\n",
    "    filter(second_exception == 'False') %>%\n",
    "    nrow\n",
    "\n",
    "lmls_prior %>%\n",
    "    filter(kernel != 'l', kernel != 'p', kernel != 'r') %>%\n",
    "    nrow"
   ]
  },
  {
   "cell_type": "code",
   "execution_count": 319,
   "metadata": {},
   "outputs": [
    {
     "data": {
      "text/html": [
       "'6.53%'"
      ],
      "text/latex": [
       "'6.53\\%'"
      ],
      "text/markdown": [
       "'6.53%'"
      ],
      "text/plain": [
       "[1] \"6.53%\""
      ]
     },
     "metadata": {},
     "output_type": "display_data"
    }
   ],
   "source": [
    "paste0(round((lmls_prior %>%\n",
    "            filter(lml == -999999999 | second_exception == 'True') %>%\n",
    "            filter(kernel != 'l', kernel != 'p', kernel != 'r') %>%\n",
    "            nrow) / \n",
    "(lmls_prior %>% \n",
    "     filter(kernel != 'l', kernel != 'p', kernel != 'r') %>%\n",
    "     nrow) * 100, 2), '%')"
   ]
  },
  {
   "cell_type": "code",
   "execution_count": 320,
   "metadata": {},
   "outputs": [
    {
     "data": {
      "text/html": [
       "113"
      ],
      "text/latex": [
       "113"
      ],
      "text/markdown": [
       "113"
      ],
      "text/plain": [
       "[1] 113"
      ]
     },
     "metadata": {},
     "output_type": "display_data"
    }
   ],
   "source": [
    "lmls_prior %>%\n",
    "    filter(kernel != 'l', kernel != 'p', kernel != 'r') %>%\n",
    "    filter(second_exception == 'True') %>% \n",
    "    distinct(pid) %>%\n",
    "    nrow"
   ]
  },
  {
   "cell_type": "markdown",
   "metadata": {},
   "source": [
    "### Summarising"
   ]
  },
  {
   "cell_type": "code",
   "execution_count": 321,
   "metadata": {
    "collapsed": true
   },
   "outputs": [],
   "source": [
    "plot_lmls <- function(prop_data, title, real_world_data, hide_x=FALSE, hide_y=FALSE) {\n",
    "    \n",
    "    points_data <- real_world_data %>% filter(scenario == title)\n",
    "    \n",
    "    min_pd <- min(points_data$value)\n",
    "    max_pd <- max(points_data$value)\n",
    "    points_data <- points_data %>% filter(value == max_pd)\n",
    "    \n",
    "    plot <- prop_data %>%\n",
    "                ggplot(aes(x=kernel, y=value)) + \n",
    "                    geom_bar(stat=\"identity\") +\n",
    "                    coord_cartesian (ylim=c(0, 1)) +\n",
    "                    labs(title = title) +\n",
    "                    ggthemes::theme_few() +\n",
    "                    xlab(\"Kernel composition\") + \n",
    "                    ylab(\"Mean likelihood (scaled)\") +\n",
    "                    geom_errorbar(aes(ymin=as.numeric(lo_ci), ymax=as.numeric(hi_ci)),\n",
    "                                      width=.3,                   \n",
    "                                      position=position_dodge(.9)) +\n",
    "                    theme(axis.text.x = element_text(angle = 90,  vjust = 0.5, hjust=0),\n",
    "                          text = element_text(size=12, family=\"serif\"),\n",
    "                          plot.title = element_text(hjust = 0.5)) +\n",
    "    \n",
    "                    #Points\n",
    "                    geom_point(data=points_data, aes(y=value, x=kernel, group=kernel),\n",
    "                                   stat=\"identity\", size=3, color=\"red\", shape=18)\n",
    "    \n",
    "    if(hide_x){\n",
    "        plot <- plot + theme(axis.title.x=element_blank())\n",
    "    }\n",
    "    if(hide_y){\n",
    "        plot <- plot + theme(axis.title.y=element_blank())\n",
    "    }\n",
    "    \n",
    "    return(plot)\n",
    "}"
   ]
  },
  {
   "cell_type": "code",
   "execution_count": 322,
   "metadata": {
    "collapsed": true
   },
   "outputs": [],
   "source": [
    "# Removes the GPs that failed to be optimized in the second time. The lmls that failed to be optimized are also removed.\n",
    "#Finaly, the lml_standard is calculated\n",
    "lmls_prior_f <- lmls_prior %>%\n",
    "                    filter(second_exception == 'False' & lml != -999999999) %>%\n",
    "                    group_by(pid, scenario) %>%\n",
    "                    mutate(lml_minus_min = lml - min(lml),\n",
    "                           lml_standard = lml_minus_min / (max(lml_minus_min) - min (lml_minus_min)))"
   ]
  },
  {
   "cell_type": "code",
   "execution_count": 323,
   "metadata": {},
   "outputs": [],
   "source": [
    "sds <- lmls_prior_f %>% \n",
    "            group_by(kernel, scenario) %>%\n",
    "            summarize(lo_bound = mean(lml) - 5*sd(lml), up_bound = mean(lml) + 5*sd(lml))\n",
    "\n",
    "sds$ks <- paste0(sds$kernel, sds$scenario)\n",
    "\n",
    "lmls_prior_f$ks <- paste0(lmls_prior_f$kernel, lmls_prior_f$scenario)\n",
    "\n",
    "sds$kernel <- NULL\n",
    "sds$scenario <- NULL\n",
    "\n",
    "lmls_prior_f <- merge(x = lmls_prior_f, y = sds, by = \"ks\", all.x = TRUE)"
   ]
  },
  {
   "cell_type": "markdown",
   "metadata": {},
   "source": [
    "### Plots"
   ]
  },
  {
   "cell_type": "code",
   "execution_count": 324,
   "metadata": {},
   "outputs": [
    {
     "name": "stderr",
     "output_type": "stream",
     "text": [
      "Parsed with column specification:\n",
      "cols(\n",
      "  scenario = col_character(),\n",
      "  kernel = col_character(),\n",
      "  lml = col_double()\n",
      ")\n"
     ]
    }
   ],
   "source": [
    "# Plotting data\n",
    "#to_plot_prior <- lmls_prior_f %>% \n",
    "#            group_by(kernel, scenario) %>%\n",
    "#            summarize(value = mean(lml),\n",
    "#                      lo_ci = t.test(lml, conf.level=0.95)$conf.int[1],\n",
    "#                      hi_ci = t.test(lml, conf.level=0.95)$conf.int[2])\n",
    "\n",
    "#trim_value = 10/100\n",
    "\n",
    "#to_plot_prior <- lmls_prior_f %>% \n",
    "#            group_by(kernel, scenario) %>%\n",
    "#            summarize(value = mean(lml, trim=trim_value),\n",
    "#                      lo_ci = MeanCI(lml, trim=trim_value, method=\"boot\", type=\"norm\", na.rm=TRUE)['lwr.ci'],\n",
    "#                      hi_ci = MeanCI(lml, trim=trim_value, method=\"boot\", type=\"norm\", na.rm=TRUE)['upr.ci'])\n",
    "\n",
    "to_plot_prior <- lmls_prior_f %>% \n",
    "            filter(lml > lo_bound & lml < up_bound) %>%\n",
    "            group_by(kernel, scenario) %>%\n",
    "            summarize(value = mean(lml),\n",
    "                      lo_ci = MeanCI(lml, method=\"boot\", type=\"norm\", na.rm=TRUE)['lwr.ci'],\n",
    "                      hi_ci = MeanCI(lml, method=\"boot\", type=\"norm\", na.rm=TRUE)['upr.ci'])\n",
    "\n",
    "# Remove single components\n",
    "to_plot_prior <- to_plot_prior %>%\n",
    "                filter(kernel != 'l', kernel != 'p', kernel != 'r')\n",
    "\n",
    "# Scaling the 'data to plot' to a 0-1 range\n",
    "min_v = min(to_plot$value)\n",
    "range_v = max(to_plot$value) - min(to_plot$value)\n",
    "\n",
    "#Normalization\n",
    "#to_plot_prior <- to_plot_prior %>%\n",
    "#                group_by( scenario ) %>%\n",
    "#                mutate( lo_ci = (lo_ci - min(value)) / (max(value) - min(value)),\n",
    "#                        hi_ci = (hi_ci - min(value)) / (max(value) - min(value)),  \n",
    "#                        value = (value - min(value)) / (max(value) - min(value)))\n",
    "\n",
    "# Plotting magic\n",
    "to_plot$kernel <- factor(to_plot$kernel, levels=kernels)\n",
    "\n",
    "lmls_temperature <- to_plot_prior %>% filter(scenario == \"Temperature\")\n",
    "lmls_rain <- to_plot_prior %>% filter(scenario == \"Rain\")\n",
    "lmls_sales <- to_plot_prior %>% filter(scenario == \"Sales\")\n",
    "lmls_gym <- to_plot_prior %>% filter(scenario == \"Gym members\")\n",
    "lmls_salary <- to_plot_prior %>% filter(scenario == \"Salary\")\n",
    "lmls_fb <- to_plot_prior %>% filter(scenario == \"FB Friends\")\n",
    "\n",
    "# Real-world data\n",
    "\n",
    "rwdata <- read_csv(\"data/real-world/to-plot.csv\")\n",
    "\n",
    "rwdata <- rwdata %>%\n",
    "    filter(kernel != 'l', kernel != 'p', kernel != 'r') %>%\n",
    "    group_by(scenario) %>%\n",
    "    mutate(value = (lml - min(lml)) / (max(lml) - min(lml)))\n",
    "\n",
    "\n",
    "if (FALSE) {\n",
    "    # Plots\n",
    "    p1 <- plot_lmls( lmls_temperature, \"Temperature\", real_world_data=rwdata, hide_x=TRUE)\n",
    "    p2 <- plot_lmls( lmls_rain,        \"Rain\",        real_world_data=rwdata, hide_x=TRUE)\n",
    "    p3 <- plot_lmls( lmls_sales,       \"Sales\",       real_world_data=rwdata, hide_x=TRUE, hide_y=TRUE)\n",
    "    p4 <- plot_lmls( lmls_gym,         \"Gym members\", real_world_data=rwdata, hide_x=TRUE, hide_y=TRUE)\n",
    "    p5 <- plot_lmls( lmls_salary,      \"Salary\",      real_world_data=rwdata, hide_x=TRUE, hide_y=TRUE)\n",
    "    p6 <- plot_lmls( lmls_fb,          \"FB Friends\",  real_world_data=rwdata, hide_x=TRUE, hide_y=TRUE)\n",
    "\n",
    "    pdf(\"Images/paper_images/kernels_priors_lmls_5sd.pdf\", width=8, height=4)\n",
    "    multiplot(p1, p2, p3, p4, p5, p6, cols=3)\n",
    "    dev.off()   \n",
    "}"
   ]
  },
  {
   "cell_type": "code",
   "execution_count": 325,
   "metadata": {},
   "outputs": [
    {
     "data": {
      "text/html": [
       "<table>\n",
       "<thead><tr><th scope=col>scenario</th><th scope=col>kernel[which.max(value)]</th><th scope=col>value[which.max(value)]</th><th scope=col>lo_ci[which.max(value)]</th></tr></thead>\n",
       "<tbody>\n",
       "\t<tr><td>FB Friends </td><td>l+r        </td><td> 125.2687  </td><td>   52.45963</td></tr>\n",
       "\t<tr><td>Gym members</td><td>p+r        </td><td> 518.0173  </td><td>  407.22269</td></tr>\n",
       "\t<tr><td>Rain       </td><td>l+r*p      </td><td> 213.3836  </td><td>  153.31166</td></tr>\n",
       "\t<tr><td>Salary     </td><td>p+r        </td><td> 809.7401  </td><td>  682.01647</td></tr>\n",
       "\t<tr><td>Sales      </td><td>l+r        </td><td>-881.9682  </td><td>-1000.59567</td></tr>\n",
       "\t<tr><td>Temperature</td><td>p*r        </td><td> 443.1288  </td><td>  400.68209</td></tr>\n",
       "</tbody>\n",
       "</table>\n"
      ],
      "text/latex": [
       "\\begin{tabular}{r|llll}\n",
       " scenario & kernel{[}which.max(value){]} & value{[}which.max(value){]} & lo\\_ci{[}which.max(value){]}\\\\\n",
       "\\hline\n",
       "\t FB Friends  & l+r         &  125.2687   &    52.45963\\\\\n",
       "\t Gym members & p+r         &  518.0173   &   407.22269\\\\\n",
       "\t Rain        & l+r*p       &  213.3836   &   153.31166\\\\\n",
       "\t Salary      & p+r         &  809.7401   &   682.01647\\\\\n",
       "\t Sales       & l+r         & -881.9682   & -1000.59567\\\\\n",
       "\t Temperature & p*r         &  443.1288   &   400.68209\\\\\n",
       "\\end{tabular}\n"
      ],
      "text/markdown": [
       "\n",
       "scenario | kernel[which.max(value)] | value[which.max(value)] | lo_ci[which.max(value)] | \n",
       "|---|---|---|---|---|---|\n",
       "| FB Friends  | l+r         |  125.2687   |    52.45963 | \n",
       "| Gym members | p+r         |  518.0173   |   407.22269 | \n",
       "| Rain        | l+r*p       |  213.3836   |   153.31166 | \n",
       "| Salary      | p+r         |  809.7401   |   682.01647 | \n",
       "| Sales       | l+r         | -881.9682   | -1000.59567 | \n",
       "| Temperature | p*r         |  443.1288   |   400.68209 | \n",
       "\n",
       "\n"
      ],
      "text/plain": [
       "  scenario    kernel[which.max(value)] value[which.max(value)]\n",
       "1 FB Friends  l+r                       125.2687              \n",
       "2 Gym members p+r                       518.0173              \n",
       "3 Rain        l+r*p                     213.3836              \n",
       "4 Salary      p+r                       809.7401              \n",
       "5 Sales       l+r                      -881.9682              \n",
       "6 Temperature p*r                       443.1288              \n",
       "  lo_ci[which.max(value)]\n",
       "1    52.45963            \n",
       "2   407.22269            \n",
       "3   153.31166            \n",
       "4   682.01647            \n",
       "5 -1000.59567            \n",
       "6   400.68209            "
      ]
     },
     "metadata": {},
     "output_type": "display_data"
    }
   ],
   "source": [
    "# Which kernel is max\n",
    "to_plot_prior %>%\n",
    "    group_by(scenario) %>%\n",
    "    summarize(kernel[which.max(value)], value[which.max(value)], lo_ci[which.max(value)])"
   ]
  },
  {
   "cell_type": "code",
   "execution_count": 326,
   "metadata": {},
   "outputs": [
    {
     "data": {
      "text/html": [
       "<table>\n",
       "<thead><tr><th scope=col>scenario</th><th scope=col>kernel</th><th scope=col>value</th><th scope=col>lo_ci</th><th scope=col>hi_ci</th></tr></thead>\n",
       "<tbody>\n",
       "\t<tr><td>FB Friends </td><td>l+r        </td><td> 125.26866 </td><td>   52.45963</td><td> 193.2999  </td></tr>\n",
       "\t<tr><td>FB Friends </td><td>l+r*p      </td><td>  40.72739 </td><td>  -42.78909</td><td> 122.5048  </td></tr>\n",
       "\t<tr><td>Gym members</td><td>l+r        </td><td> 358.30459 </td><td>  284.35376</td><td> 432.8355  </td></tr>\n",
       "\t<tr><td>Gym members</td><td>l+r*p      </td><td> 486.23738 </td><td>  405.48570</td><td> 570.9690  </td></tr>\n",
       "\t<tr><td>Gym members</td><td>p*r        </td><td> 359.76783 </td><td>  298.47326</td><td> 423.3546  </td></tr>\n",
       "\t<tr><td>Gym members</td><td>p+r        </td><td> 518.01725 </td><td>  407.22269</td><td> 631.0837  </td></tr>\n",
       "\t<tr><td>Rain       </td><td>l+r        </td><td> 177.39997 </td><td>  112.65193</td><td> 244.6520  </td></tr>\n",
       "\t<tr><td>Rain       </td><td>l+r*p      </td><td> 213.38355 </td><td>  153.31166</td><td> 271.1875  </td></tr>\n",
       "\t<tr><td>Rain       </td><td>p*r        </td><td> 191.97564 </td><td>  128.16021</td><td> 257.0246  </td></tr>\n",
       "\t<tr><td>Rain       </td><td>p+r        </td><td>  80.67802 </td><td>  -39.90466</td><td> 198.7387  </td></tr>\n",
       "\t<tr><td>Salary     </td><td>l+r        </td><td> 647.54928 </td><td>  544.33625</td><td> 742.9349  </td></tr>\n",
       "\t<tr><td>Salary     </td><td>l+r*p      </td><td> 683.28349 </td><td>  581.32809</td><td> 783.4885  </td></tr>\n",
       "\t<tr><td>Salary     </td><td>p+r        </td><td> 809.74007 </td><td>  682.01647</td><td> 934.3665  </td></tr>\n",
       "\t<tr><td>Sales      </td><td>l+r        </td><td>-881.96818 </td><td>-1000.59567</td><td>-760.2090  </td></tr>\n",
       "\t<tr><td>Temperature</td><td>l+r*p      </td><td> 378.94365 </td><td>  325.76865</td><td> 435.5056  </td></tr>\n",
       "\t<tr><td>Temperature</td><td>p*r        </td><td> 443.12881 </td><td>  400.68209</td><td> 485.3549  </td></tr>\n",
       "</tbody>\n",
       "</table>\n"
      ],
      "text/latex": [
       "\\begin{tabular}{r|lllll}\n",
       " scenario & kernel & value & lo\\_ci & hi\\_ci\\\\\n",
       "\\hline\n",
       "\t FB Friends  & l+r         &  125.26866  &    52.45963 &  193.2999  \\\\\n",
       "\t FB Friends  & l+r*p       &   40.72739  &   -42.78909 &  122.5048  \\\\\n",
       "\t Gym members & l+r         &  358.30459  &   284.35376 &  432.8355  \\\\\n",
       "\t Gym members & l+r*p       &  486.23738  &   405.48570 &  570.9690  \\\\\n",
       "\t Gym members & p*r         &  359.76783  &   298.47326 &  423.3546  \\\\\n",
       "\t Gym members & p+r         &  518.01725  &   407.22269 &  631.0837  \\\\\n",
       "\t Rain        & l+r         &  177.39997  &   112.65193 &  244.6520  \\\\\n",
       "\t Rain        & l+r*p       &  213.38355  &   153.31166 &  271.1875  \\\\\n",
       "\t Rain        & p*r         &  191.97564  &   128.16021 &  257.0246  \\\\\n",
       "\t Rain        & p+r         &   80.67802  &   -39.90466 &  198.7387  \\\\\n",
       "\t Salary      & l+r         &  647.54928  &   544.33625 &  742.9349  \\\\\n",
       "\t Salary      & l+r*p       &  683.28349  &   581.32809 &  783.4885  \\\\\n",
       "\t Salary      & p+r         &  809.74007  &   682.01647 &  934.3665  \\\\\n",
       "\t Sales       & l+r         & -881.96818  & -1000.59567 & -760.2090  \\\\\n",
       "\t Temperature & l+r*p       &  378.94365  &   325.76865 &  435.5056  \\\\\n",
       "\t Temperature & p*r         &  443.12881  &   400.68209 &  485.3549  \\\\\n",
       "\\end{tabular}\n"
      ],
      "text/markdown": [
       "\n",
       "scenario | kernel | value | lo_ci | hi_ci | \n",
       "|---|---|---|---|---|---|---|---|---|---|---|---|---|---|---|---|\n",
       "| FB Friends  | l+r         |  125.26866  |    52.45963 |  193.2999   | \n",
       "| FB Friends  | l+r*p       |   40.72739  |   -42.78909 |  122.5048   | \n",
       "| Gym members | l+r         |  358.30459  |   284.35376 |  432.8355   | \n",
       "| Gym members | l+r*p       |  486.23738  |   405.48570 |  570.9690   | \n",
       "| Gym members | p*r         |  359.76783  |   298.47326 |  423.3546   | \n",
       "| Gym members | p+r         |  518.01725  |   407.22269 |  631.0837   | \n",
       "| Rain        | l+r         |  177.39997  |   112.65193 |  244.6520   | \n",
       "| Rain        | l+r*p       |  213.38355  |   153.31166 |  271.1875   | \n",
       "| Rain        | p*r         |  191.97564  |   128.16021 |  257.0246   | \n",
       "| Rain        | p+r         |   80.67802  |   -39.90466 |  198.7387   | \n",
       "| Salary      | l+r         |  647.54928  |   544.33625 |  742.9349   | \n",
       "| Salary      | l+r*p       |  683.28349  |   581.32809 |  783.4885   | \n",
       "| Salary      | p+r         |  809.74007  |   682.01647 |  934.3665   | \n",
       "| Sales       | l+r         | -881.96818  | -1000.59567 | -760.2090   | \n",
       "| Temperature | l+r*p       |  378.94365  |   325.76865 |  435.5056   | \n",
       "| Temperature | p*r         |  443.12881  |   400.68209 |  485.3549   | \n",
       "\n",
       "\n"
      ],
      "text/plain": [
       "   scenario    kernel value      lo_ci       hi_ci    \n",
       "1  FB Friends  l+r     125.26866    52.45963  193.2999\n",
       "2  FB Friends  l+r*p    40.72739   -42.78909  122.5048\n",
       "3  Gym members l+r     358.30459   284.35376  432.8355\n",
       "4  Gym members l+r*p   486.23738   405.48570  570.9690\n",
       "5  Gym members p*r     359.76783   298.47326  423.3546\n",
       "6  Gym members p+r     518.01725   407.22269  631.0837\n",
       "7  Rain        l+r     177.39997   112.65193  244.6520\n",
       "8  Rain        l+r*p   213.38355   153.31166  271.1875\n",
       "9  Rain        p*r     191.97564   128.16021  257.0246\n",
       "10 Rain        p+r      80.67802   -39.90466  198.7387\n",
       "11 Salary      l+r     647.54928   544.33625  742.9349\n",
       "12 Salary      l+r*p   683.28349   581.32809  783.4885\n",
       "13 Salary      p+r     809.74007   682.01647  934.3665\n",
       "14 Sales       l+r    -881.96818 -1000.59567 -760.2090\n",
       "15 Temperature l+r*p   378.94365   325.76865  435.5056\n",
       "16 Temperature p*r     443.12881   400.68209  485.3549"
      ]
     },
     "metadata": {},
     "output_type": "display_data"
    }
   ],
   "source": [
    "# Which other kernel compositions are statistically equivalent\n",
    "to_plot_prior %>%\n",
    "    group_by(scenario) %>%\n",
    "    filter(hi_ci > lo_ci[which.max(value)]) %>%\n",
    "    select(scenario, kernel, value, lo_ci, hi_ci) %>%\n",
    "    arrange(scenario)"
   ]
  },
  {
   "cell_type": "markdown",
   "metadata": {},
   "source": [
    "# Full-Bayesian Posterior analysis"
   ]
  },
  {
   "cell_type": "markdown",
   "metadata": {},
   "source": [
    "### Preparing the data"
   ]
  },
  {
   "cell_type": "code",
   "execution_count": 327,
   "metadata": {},
   "outputs": [
    {
     "name": "stderr",
     "output_type": "stream",
     "text": [
      "Parsed with column specification:\n",
      "cols(\n",
      "  id = col_integer(),\n",
      "  kernel = col_character(),\n",
      "  lml = col_double(),\n",
      "  white_added = col_logical(),\n",
      "  second_exception = col_logical()\n",
      ")\n"
     ]
    }
   ],
   "source": [
    "lmls_posterior <- read_csv(\"output/full-bayesian-posterior/results_posterior_test_lmls.csv\")"
   ]
  },
  {
   "cell_type": "code",
   "execution_count": 407,
   "metadata": {},
   "outputs": [
    {
     "data": {
      "text/html": [
       "<table>\n",
       "<thead><tr><th scope=col>id</th><th scope=col>kernel</th><th scope=col>lml</th><th scope=col>white_added</th><th scope=col>second_exception</th><th scope=col>scenario</th><th scope=col>pid</th></tr></thead>\n",
       "<tbody>\n",
       "\t<tr><td>1          </td><td>l          </td><td>-220.87346 </td><td>FALSE      </td><td>FALSE      </td><td>Temperature</td><td>1          </td></tr>\n",
       "\t<tr><td>1          </td><td>p          </td><td> 120.86357 </td><td>FALSE      </td><td>FALSE      </td><td>Temperature</td><td>1          </td></tr>\n",
       "\t<tr><td>1          </td><td>r          </td><td> 114.74655 </td><td>FALSE      </td><td>FALSE      </td><td>Temperature</td><td>1          </td></tr>\n",
       "\t<tr><td>1          </td><td>l+r        </td><td> 135.23772 </td><td>FALSE      </td><td>FALSE      </td><td>Temperature</td><td>1          </td></tr>\n",
       "\t<tr><td>1          </td><td>l+p        </td><td>  53.90766 </td><td>FALSE      </td><td>FALSE      </td><td>Temperature</td><td>1          </td></tr>\n",
       "\t<tr><td>1          </td><td>p+r        </td><td> 168.08829 </td><td>FALSE      </td><td>FALSE      </td><td>Temperature</td><td>1          </td></tr>\n",
       "\t<tr><td>1          </td><td>l*r        </td><td>-126.12094 </td><td> TRUE      </td><td>FALSE      </td><td>Temperature</td><td>1          </td></tr>\n",
       "\t<tr><td>1          </td><td>l*p        </td><td> -26.05366 </td><td> TRUE      </td><td>FALSE      </td><td>Temperature</td><td>1          </td></tr>\n",
       "\t<tr><td>1          </td><td>p*r        </td><td>-198.12831 </td><td>FALSE      </td><td>FALSE      </td><td>Temperature</td><td>1          </td></tr>\n",
       "\t<tr><td>1          </td><td>l+r+p      </td><td> 149.13329 </td><td>FALSE      </td><td>FALSE      </td><td>Temperature</td><td>1          </td></tr>\n",
       "\t<tr><td>1          </td><td>l+r*p      </td><td>-221.88804 </td><td>FALSE      </td><td>FALSE      </td><td>Temperature</td><td>1          </td></tr>\n",
       "\t<tr><td>1          </td><td>l*r+p      </td><td> 158.23087 </td><td>FALSE      </td><td>FALSE      </td><td>Temperature</td><td>1          </td></tr>\n",
       "\t<tr><td>1          </td><td>l*p+r      </td><td> -36.91919 </td><td>FALSE      </td><td>FALSE      </td><td>Temperature</td><td>1          </td></tr>\n",
       "\t<tr><td>1          </td><td>l*r*p      </td><td> -39.69446 </td><td>FALSE      </td><td>FALSE      </td><td>Temperature</td><td>1          </td></tr>\n",
       "\t<tr><td>2          </td><td>l          </td><td>-261.91405 </td><td>FALSE      </td><td>FALSE      </td><td>Rain       </td><td>1          </td></tr>\n",
       "\t<tr><td>2          </td><td>p          </td><td>  55.03400 </td><td>FALSE      </td><td>FALSE      </td><td>Rain       </td><td>1          </td></tr>\n",
       "\t<tr><td>2          </td><td>r          </td><td>  22.33071 </td><td>FALSE      </td><td>FALSE      </td><td>Rain       </td><td>1          </td></tr>\n",
       "\t<tr><td>2          </td><td>l+r        </td><td>  34.89589 </td><td>FALSE      </td><td>FALSE      </td><td>Rain       </td><td>1          </td></tr>\n",
       "\t<tr><td>2          </td><td>l+p        </td><td>-164.91633 </td><td>FALSE      </td><td>FALSE      </td><td>Rain       </td><td>1          </td></tr>\n",
       "\t<tr><td>2          </td><td>p+r        </td><td>  77.63825 </td><td>FALSE      </td><td>FALSE      </td><td>Rain       </td><td>1          </td></tr>\n",
       "</tbody>\n",
       "</table>\n"
      ],
      "text/latex": [
       "\\begin{tabular}{r|lllllll}\n",
       " id & kernel & lml & white\\_added & second\\_exception & scenario & pid\\\\\n",
       "\\hline\n",
       "\t 1           & l           & -220.87346  & FALSE       & FALSE       & Temperature & 1          \\\\\n",
       "\t 1           & p           &  120.86357  & FALSE       & FALSE       & Temperature & 1          \\\\\n",
       "\t 1           & r           &  114.74655  & FALSE       & FALSE       & Temperature & 1          \\\\\n",
       "\t 1           & l+r         &  135.23772  & FALSE       & FALSE       & Temperature & 1          \\\\\n",
       "\t 1           & l+p         &   53.90766  & FALSE       & FALSE       & Temperature & 1          \\\\\n",
       "\t 1           & p+r         &  168.08829  & FALSE       & FALSE       & Temperature & 1          \\\\\n",
       "\t 1           & l*r         & -126.12094  &  TRUE       & FALSE       & Temperature & 1          \\\\\n",
       "\t 1           & l*p         &  -26.05366  &  TRUE       & FALSE       & Temperature & 1          \\\\\n",
       "\t 1           & p*r         & -198.12831  & FALSE       & FALSE       & Temperature & 1          \\\\\n",
       "\t 1           & l+r+p       &  149.13329  & FALSE       & FALSE       & Temperature & 1          \\\\\n",
       "\t 1           & l+r*p       & -221.88804  & FALSE       & FALSE       & Temperature & 1          \\\\\n",
       "\t 1           & l*r+p       &  158.23087  & FALSE       & FALSE       & Temperature & 1          \\\\\n",
       "\t 1           & l*p+r       &  -36.91919  & FALSE       & FALSE       & Temperature & 1          \\\\\n",
       "\t 1           & l*r*p       &  -39.69446  & FALSE       & FALSE       & Temperature & 1          \\\\\n",
       "\t 2           & l           & -261.91405  & FALSE       & FALSE       & Rain        & 1          \\\\\n",
       "\t 2           & p           &   55.03400  & FALSE       & FALSE       & Rain        & 1          \\\\\n",
       "\t 2           & r           &   22.33071  & FALSE       & FALSE       & Rain        & 1          \\\\\n",
       "\t 2           & l+r         &   34.89589  & FALSE       & FALSE       & Rain        & 1          \\\\\n",
       "\t 2           & l+p         & -164.91633  & FALSE       & FALSE       & Rain        & 1          \\\\\n",
       "\t 2           & p+r         &   77.63825  & FALSE       & FALSE       & Rain        & 1          \\\\\n",
       "\\end{tabular}\n"
      ],
      "text/markdown": [
       "\n",
       "id | kernel | lml | white_added | second_exception | scenario | pid | \n",
       "|---|---|---|---|---|---|---|---|---|---|---|---|---|---|---|---|---|---|---|---|\n",
       "| 1           | l           | -220.87346  | FALSE       | FALSE       | Temperature | 1           | \n",
       "| 1           | p           |  120.86357  | FALSE       | FALSE       | Temperature | 1           | \n",
       "| 1           | r           |  114.74655  | FALSE       | FALSE       | Temperature | 1           | \n",
       "| 1           | l+r         |  135.23772  | FALSE       | FALSE       | Temperature | 1           | \n",
       "| 1           | l+p         |   53.90766  | FALSE       | FALSE       | Temperature | 1           | \n",
       "| 1           | p+r         |  168.08829  | FALSE       | FALSE       | Temperature | 1           | \n",
       "| 1           | l*r         | -126.12094  |  TRUE       | FALSE       | Temperature | 1           | \n",
       "| 1           | l*p         |  -26.05366  |  TRUE       | FALSE       | Temperature | 1           | \n",
       "| 1           | p*r         | -198.12831  | FALSE       | FALSE       | Temperature | 1           | \n",
       "| 1           | l+r+p       |  149.13329  | FALSE       | FALSE       | Temperature | 1           | \n",
       "| 1           | l+r*p       | -221.88804  | FALSE       | FALSE       | Temperature | 1           | \n",
       "| 1           | l*r+p       |  158.23087  | FALSE       | FALSE       | Temperature | 1           | \n",
       "| 1           | l*p+r       |  -36.91919  | FALSE       | FALSE       | Temperature | 1           | \n",
       "| 1           | l*r*p       |  -39.69446  | FALSE       | FALSE       | Temperature | 1           | \n",
       "| 2           | l           | -261.91405  | FALSE       | FALSE       | Rain        | 1           | \n",
       "| 2           | p           |   55.03400  | FALSE       | FALSE       | Rain        | 1           | \n",
       "| 2           | r           |   22.33071  | FALSE       | FALSE       | Rain        | 1           | \n",
       "| 2           | l+r         |   34.89589  | FALSE       | FALSE       | Rain        | 1           | \n",
       "| 2           | l+p         | -164.91633  | FALSE       | FALSE       | Rain        | 1           | \n",
       "| 2           | p+r         |   77.63825  | FALSE       | FALSE       | Rain        | 1           | \n",
       "\n",
       "\n"
      ],
      "text/plain": [
       "   id kernel lml        white_added second_exception scenario    pid\n",
       "1  1  l      -220.87346 FALSE       FALSE            Temperature 1  \n",
       "2  1  p       120.86357 FALSE       FALSE            Temperature 1  \n",
       "3  1  r       114.74655 FALSE       FALSE            Temperature 1  \n",
       "4  1  l+r     135.23772 FALSE       FALSE            Temperature 1  \n",
       "5  1  l+p      53.90766 FALSE       FALSE            Temperature 1  \n",
       "6  1  p+r     168.08829 FALSE       FALSE            Temperature 1  \n",
       "7  1  l*r    -126.12094  TRUE       FALSE            Temperature 1  \n",
       "8  1  l*p     -26.05366  TRUE       FALSE            Temperature 1  \n",
       "9  1  p*r    -198.12831 FALSE       FALSE            Temperature 1  \n",
       "10 1  l+r+p   149.13329 FALSE       FALSE            Temperature 1  \n",
       "11 1  l+r*p  -221.88804 FALSE       FALSE            Temperature 1  \n",
       "12 1  l*r+p   158.23087 FALSE       FALSE            Temperature 1  \n",
       "13 1  l*p+r   -36.91919 FALSE       FALSE            Temperature 1  \n",
       "14 1  l*r*p   -39.69446 FALSE       FALSE            Temperature 1  \n",
       "15 2  l      -261.91405 FALSE       FALSE            Rain        1  \n",
       "16 2  p        55.03400 FALSE       FALSE            Rain        1  \n",
       "17 2  r        22.33071 FALSE       FALSE            Rain        1  \n",
       "18 2  l+r      34.89589 FALSE       FALSE            Rain        1  \n",
       "19 2  l+p    -164.91633 FALSE       FALSE            Rain        1  \n",
       "20 2  p+r      77.63825 FALSE       FALSE            Rain        1  "
      ]
     },
     "metadata": {},
     "output_type": "display_data"
    }
   ],
   "source": [
    "lmls_posterior %>% head(20)"
   ]
  },
  {
   "cell_type": "code",
   "execution_count": 328,
   "metadata": {},
   "outputs": [
    {
     "name": "stderr",
     "output_type": "stream",
     "text": [
      "Warning message:\n",
      "\"Missing column names filled in: 'X1' [1]\"Parsed with column specification:\n",
      "cols(\n",
      "  X1 = col_integer(),\n",
      "  id = col_integer(),\n",
      "  pid = col_character(),\n",
      "  scenario = col_character(),\n",
      "  x = col_integer(),\n",
      "  y = col_double(),\n",
      "  condition = col_character()\n",
      ")\n"
     ]
    }
   ],
   "source": [
    "# To add the 'scenario' column\n",
    "\n",
    "data_posterior <- read_csv(\"data/for_composititional_analysis_posterior.csv\")\n",
    "\n",
    "dict_posterior <- data_posterior %>%                        \n",
    "                        group_by(id, pid, scenario) %>%\n",
    "                        summarize()\n",
    "\n",
    "dict_posterior$pid <- NULL\n",
    "\n",
    "lmls_posterior <- merge(x = lmls_posterior, y = dict_posterior, by = c(\"id\", \"id\"), all.x = TRUE)\n",
    "\n",
    "# Adding 'participant id' (pid)\n",
    "lmls_posterior$pid <- floor((lmls_posterior$id-1) / 6) + 1"
   ]
  },
  {
   "cell_type": "markdown",
   "metadata": {},
   "source": [
    "### Analyzing"
   ]
  },
  {
   "cell_type": "code",
   "execution_count": 329,
   "metadata": {},
   "outputs": [
    {
     "name": "stdout",
     "output_type": "stream",
     "text": [
      "[1] \"White added\"\n"
     ]
    },
    {
     "data": {
      "text/html": [
       "3333"
      ],
      "text/latex": [
       "3333"
      ],
      "text/markdown": [
       "3333"
      ],
      "text/plain": [
       "[1] 3333"
      ]
     },
     "metadata": {},
     "output_type": "display_data"
    },
    {
     "data": {
      "text/html": [
       "6663"
      ],
      "text/latex": [
       "6663"
      ],
      "text/markdown": [
       "6663"
      ],
      "text/plain": [
       "[1] 6663"
      ]
     },
     "metadata": {},
     "output_type": "display_data"
    },
    {
     "data": {
      "text/html": [
       "9996"
      ],
      "text/latex": [
       "9996"
      ],
      "text/markdown": [
       "9996"
      ],
      "text/plain": [
       "[1] 9996"
      ]
     },
     "metadata": {},
     "output_type": "display_data"
    },
    {
     "name": "stdout",
     "output_type": "stream",
     "text": [
      "[1] \"Second exception\"\n"
     ]
    },
    {
     "data": {
      "text/html": [
       "168"
      ],
      "text/latex": [
       "168"
      ],
      "text/markdown": [
       "168"
      ],
      "text/plain": [
       "[1] 168"
      ]
     },
     "metadata": {},
     "output_type": "display_data"
    },
    {
     "data": {
      "text/html": [
       "9828"
      ],
      "text/latex": [
       "9828"
      ],
      "text/markdown": [
       "9828"
      ],
      "text/plain": [
       "[1] 9828"
      ]
     },
     "metadata": {},
     "output_type": "display_data"
    },
    {
     "data": {
      "text/html": [
       "9996"
      ],
      "text/latex": [
       "9996"
      ],
      "text/markdown": [
       "9996"
      ],
      "text/plain": [
       "[1] 9996"
      ]
     },
     "metadata": {},
     "output_type": "display_data"
    },
    {
     "name": "stdout",
     "output_type": "stream",
     "text": [
      "[1] \"Proportion of LML error and Second exception over the total\"\n"
     ]
    },
    {
     "data": {
      "text/html": [
       "'2.13%'"
      ],
      "text/latex": [
       "'2.13\\%'"
      ],
      "text/markdown": [
       "'2.13%'"
      ],
      "text/plain": [
       "[1] \"2.13%\""
      ]
     },
     "metadata": {},
     "output_type": "display_data"
    }
   ],
   "source": [
    "print('White added')\n",
    "\n",
    "lmls_posterior %>%\n",
    "    filter(white_added == 'TRUE') %>%\n",
    "    nrow\n",
    "\n",
    "lmls_posterior %>%\n",
    "    filter(white_added == 'FALSE') %>%\n",
    "    nrow\n",
    "\n",
    "lmls_posterior %>%\n",
    "    nrow\n",
    "\n",
    "#######\n",
    "\n",
    "print('Second exception')\n",
    "lmls_posterior %>%\n",
    "    filter(second_exception == 'TRUE') %>%\n",
    "    nrow\n",
    "\n",
    "lmls_posterior %>%\n",
    "    filter(second_exception == 'FALSE') %>%\n",
    "    nrow\n",
    "\n",
    "lmls_posterior %>%\n",
    "    nrow\n",
    "\n",
    "######\n",
    "\n",
    "print('Proportion of LML error and Second exception over the total')\n",
    "\n",
    "paste0(round((lmls_posterior %>%\n",
    "            filter(lml == -999999999 | second_exception == 'TRUE') %>% \n",
    "            filter(kernel != 'l', kernel != 'p', kernel != 'r') %>%\n",
    "            nrow) / (lmls_posterior %>% \n",
    "                     filter(kernel != 'l', kernel != 'p', kernel != 'r') %>%\n",
    "                     nrow) * 100, 2), '%')"
   ]
  },
  {
   "cell_type": "code",
   "execution_count": 330,
   "metadata": {
    "collapsed": true
   },
   "outputs": [],
   "source": [
    "# Removing unusable data, and standardizing.\n",
    "\n",
    "lmls_posterior_f <- lmls_posterior %>%\n",
    "                    filter(second_exception == 'FALSE' & lml != -999999999) %>%\n",
    "                    group_by(pid, scenario) %>%\n",
    "                    mutate(lml_minus_min = lml - min(lml),\n",
    "                           lml_standard = lml_minus_min / (max(lml_minus_min) - min (lml_minus_min)))"
   ]
  },
  {
   "cell_type": "code",
   "execution_count": 331,
   "metadata": {
    "collapsed": true
   },
   "outputs": [],
   "source": [
    "sds <- lmls_posterior_f %>% \n",
    "            group_by(kernel, scenario) %>%\n",
    "            summarize(lo_bound = mean(lml) - 5*sd(lml), up_bound = mean(lml) + 5*sd(lml))\n",
    "\n",
    "sds$ks <- paste0(sds$kernel, sds$scenario)\n",
    "\n",
    "lmls_posterior_f$ks <- paste0(lmls_posterior_f$kernel, lmls_posterior_f$scenario)\n",
    "\n",
    "sds$kernel <- NULL\n",
    "sds$scenario <- NULL\n",
    "\n",
    "lmls_posterior_f <- merge(x = lmls_posterior_f, y = sds, by = \"ks\", all.x = TRUE)"
   ]
  },
  {
   "cell_type": "markdown",
   "metadata": {},
   "source": [
    "### Plotting"
   ]
  },
  {
   "cell_type": "code",
   "execution_count": 375,
   "metadata": {},
   "outputs": [],
   "source": [
    "# Plotting data\n",
    "#to_plot_posterior <- lmls_posterior_f %>%\n",
    "#            #filter(lml > -10000) %>%\n",
    "#            group_by(kernel, scenario) %>%\n",
    "#            summarize(value = mean(lml),\n",
    "#                      lo_ci = t.test(lml, conf.level=0.95)$conf.int[1],\n",
    "#                      hi_ci = t.test(lml, conf.level=0.95)$conf.int[2])\n",
    "\n",
    "#trim_value = 0.1\n",
    "\n",
    "#to_plot_posterior <- lmls_posterior_f %>% \n",
    "#            group_by(kernel, scenario) %>%\n",
    "#            summarize(value = mean(lml, trim=trim_value),\n",
    "#                      lo_ci = MeanCI(lml, trim=trim_value, method=\"boot\", type=\"norm\", na.rm=TRUE)['lwr.ci'],\n",
    "#                      hi_ci = MeanCI(lml, trim=trim_value, method=\"boot\", type=\"norm\", na.rm=TRUE)['upr.ci'])\n",
    "\n",
    "\n",
    "to_plot_posterior <- lmls_posterior_f %>% \n",
    "            filter(lml > lo_bound & lml < up_bound) %>%\n",
    "            group_by(kernel, scenario) %>%\n",
    "            summarize(value = mean(lml),\n",
    "                      lo_ci = MeanCI(lml, method=\"boot\", type=\"norm\", na.rm=TRUE)['lwr.ci'],\n",
    "                      hi_ci = MeanCI(lml, method=\"boot\", type=\"norm\", na.rm=TRUE)['upr.ci'])\n",
    "\n",
    "if(TRUE){\n",
    "    # Remove single components\n",
    "    to_plot_posterior <- to_plot_posterior %>%\n",
    "                    filter(kernel != 'l', kernel != 'p', kernel != 'r')\n",
    "\n",
    "    # Scaling the 'data to plot' to a 0-1 range\n",
    "    min_v = min(to_plot$value)\n",
    "    range_v = max(to_plot$value) - min(to_plot$value)\n",
    "\n",
    "    # Normalization\n",
    "    #to_plot_posterior <- to_plot_posterior %>%\n",
    "    #                group_by( scenario ) %>%\n",
    "    #                mutate( lo_ci = (lo_ci - min(value)) / (max(value) - min(value)),\n",
    "    #                        hi_ci = (hi_ci - min(value)) / (max(value) - min(value)),  \n",
    "    #                        value = (value - min(value)) / (max(value) - min(value)))  \n",
    "}\n",
    "\n",
    "# Plotting magic\n",
    "to_plot$kernel <- factor(to_plot$kernel, levels=kernels)\n",
    "\n",
    "lmls_temperature <- to_plot_posterior %>% filter(scenario == \"Temperature\")\n",
    "lmls_rain <- to_plot_posterior %>% filter(scenario == \"Rain\")\n",
    "lmls_sales <- to_plot_posterior %>% filter(scenario == \"Sales\")\n",
    "lmls_gym <- to_plot_posterior %>% filter(scenario == \"Gym members\")\n",
    "lmls_salary <- to_plot_posterior %>% filter(scenario == \"Salary\")\n",
    "lmls_fb <- to_plot_posterior %>% filter(scenario == \"FB Friends\")\n",
    "\n",
    "if (FALSE){\n",
    "    p1 <- plot_lmls(lmls_temperature, \"Temperature\", hide_x=TRUE)\n",
    "    p2 <- plot_lmls(lmls_rain, \"Rain\", hide_x=TRUE)\n",
    "    p3 <- plot_lmls(lmls_sales, \"Sales\", hide_x=TRUE, hide_y=TRUE)\n",
    "    p4 <- plot_lmls(lmls_gym, \"Gym members\", hide_y=TRUE, hide_x=TRUE)\n",
    "    p5 <- plot_lmls(lmls_salary, \"Salary\", hide_x=TRUE, hide_y=TRUE)\n",
    "    p6 <- plot_lmls(lmls_fb, \"FB Friends\", hide_y=TRUE, hide_x=TRUE)\n",
    "}\n",
    "\n",
    "#pdf(\"Images/paper_images/kernels_posteriors_lmls_5sd.pdf\", width=8, height=4)\n",
    "#multiplot(p1, p2, p3, p4, p5, p6, cols=3)\n",
    "#dev.off()"
   ]
  },
  {
   "cell_type": "code",
   "execution_count": 376,
   "metadata": {},
   "outputs": [
    {
     "data": {
      "text/html": [
       "<table>\n",
       "<thead><tr><th scope=col>scenario</th><th scope=col>kernel[which.max(value)]</th><th scope=col>value[which.max(value)]</th><th scope=col>lo_ci[which.max(value)]</th></tr></thead>\n",
       "<tbody>\n",
       "\t<tr><td>FB Friends </td><td>l*r*p      </td><td>-217.16590 </td><td>-229.83092 </td></tr>\n",
       "\t<tr><td>Gym members</td><td>p+r        </td><td>  65.25972 </td><td>  41.42150 </td></tr>\n",
       "\t<tr><td>Rain       </td><td>l+r        </td><td>  38.23271 </td><td>  24.31545 </td></tr>\n",
       "\t<tr><td>Salary     </td><td>l+r+p      </td><td>  12.86968 </td><td> -10.19266 </td></tr>\n",
       "\t<tr><td>Sales      </td><td>l*r        </td><td>-327.82386 </td><td>-339.76051 </td></tr>\n",
       "\t<tr><td>Temperature</td><td>l+r        </td><td>  71.61679 </td><td>  55.46976 </td></tr>\n",
       "</tbody>\n",
       "</table>\n"
      ],
      "text/latex": [
       "\\begin{tabular}{r|llll}\n",
       " scenario & kernel{[}which.max(value){]} & value{[}which.max(value){]} & lo\\_ci{[}which.max(value){]}\\\\\n",
       "\\hline\n",
       "\t FB Friends  & l*r*p       & -217.16590  & -229.83092 \\\\\n",
       "\t Gym members & p+r         &   65.25972  &   41.42150 \\\\\n",
       "\t Rain        & l+r         &   38.23271  &   24.31545 \\\\\n",
       "\t Salary      & l+r+p       &   12.86968  &  -10.19266 \\\\\n",
       "\t Sales       & l*r         & -327.82386  & -339.76051 \\\\\n",
       "\t Temperature & l+r         &   71.61679  &   55.46976 \\\\\n",
       "\\end{tabular}\n"
      ],
      "text/markdown": [
       "\n",
       "scenario | kernel[which.max(value)] | value[which.max(value)] | lo_ci[which.max(value)] | \n",
       "|---|---|---|---|---|---|\n",
       "| FB Friends  | l*r*p       | -217.16590  | -229.83092  | \n",
       "| Gym members | p+r         |   65.25972  |   41.42150  | \n",
       "| Rain        | l+r         |   38.23271  |   24.31545  | \n",
       "| Salary      | l+r+p       |   12.86968  |  -10.19266  | \n",
       "| Sales       | l*r         | -327.82386  | -339.76051  | \n",
       "| Temperature | l+r         |   71.61679  |   55.46976  | \n",
       "\n",
       "\n"
      ],
      "text/plain": [
       "  scenario    kernel[which.max(value)] value[which.max(value)]\n",
       "1 FB Friends  l*r*p                    -217.16590             \n",
       "2 Gym members p+r                        65.25972             \n",
       "3 Rain        l+r                        38.23271             \n",
       "4 Salary      l+r+p                      12.86968             \n",
       "5 Sales       l*r                      -327.82386             \n",
       "6 Temperature l+r                        71.61679             \n",
       "  lo_ci[which.max(value)]\n",
       "1 -229.83092             \n",
       "2   41.42150             \n",
       "3   24.31545             \n",
       "4  -10.19266             \n",
       "5 -339.76051             \n",
       "6   55.46976             "
      ]
     },
     "metadata": {},
     "output_type": "display_data"
    }
   ],
   "source": [
    "# Which kernel is max\n",
    "to_plot_posterior %>%\n",
    "    group_by(scenario) %>%\n",
    "    summarize(kernel[which.max(value)], value[which.max(value)], lo_ci[which.max(value)])"
   ]
  },
  {
   "cell_type": "code",
   "execution_count": 377,
   "metadata": {
    "scrolled": false
   },
   "outputs": [
    {
     "data": {
      "text/html": [
       "<table>\n",
       "<thead><tr><th scope=col>scenario</th><th scope=col>kernel</th><th scope=col>value</th><th scope=col>lo_ci</th><th scope=col>hi_ci</th></tr></thead>\n",
       "<tbody>\n",
       "\t<tr><td>FB Friends   </td><td>l*r*p        </td><td>-2.171659e+02</td><td>-2.298309e+02</td><td>-2.035193e+02</td></tr>\n",
       "\t<tr><td>FB Friends   </td><td>l*r+p        </td><td>-2.399591e+02</td><td>-2.814260e+02</td><td>-1.959931e+02</td></tr>\n",
       "\t<tr><td>FB Friends   </td><td>l+r          </td><td>-1.185628e+05</td><td>-2.348502e+05</td><td> 3.208615e+03</td></tr>\n",
       "\t<tr><td>FB Friends   </td><td>p*r          </td><td>-2.439184e+02</td><td>-2.831080e+02</td><td>-2.034620e+02</td></tr>\n",
       "\t<tr><td>FB Friends   </td><td>p+r          </td><td>-1.581673e+08</td><td>-3.885107e+08</td><td> 5.261648e+07</td></tr>\n",
       "\t<tr><td>Gym members  </td><td>l+r          </td><td> 3.806829e+01</td><td> 1.683524e+01</td><td> 5.861614e+01</td></tr>\n",
       "\t<tr><td>Gym members  </td><td>l+r+p        </td><td> 2.674231e+01</td><td>-4.684927e-01</td><td> 5.499921e+01</td></tr>\n",
       "\t<tr><td>Gym members  </td><td>p+r          </td><td> 6.525972e+01</td><td> 4.142150e+01</td><td> 8.850443e+01</td></tr>\n",
       "\t<tr><td>Rain         </td><td>l+p          </td><td>-1.831147e+03</td><td>-5.025311e+03</td><td> 1.402019e+03</td></tr>\n",
       "\t<tr><td>Rain         </td><td>l+r          </td><td> 3.823271e+01</td><td> 2.431545e+01</td><td> 5.156321e+01</td></tr>\n",
       "\t<tr><td>Rain         </td><td>p+r          </td><td> 2.657068e+00</td><td>-2.203999e+01</td><td> 2.785156e+01</td></tr>\n",
       "\t<tr><td>Salary       </td><td>l*r+p        </td><td>-3.979668e+01</td><td>-1.122372e+02</td><td> 3.351832e+01</td></tr>\n",
       "\t<tr><td>Salary       </td><td>l+r          </td><td>-4.190274e+00</td><td>-2.736084e+01</td><td> 1.863082e+01</td></tr>\n",
       "\t<tr><td>Salary       </td><td>l+r+p        </td><td> 1.286968e+01</td><td>-1.019266e+01</td><td> 3.777360e+01</td></tr>\n",
       "\t<tr><td>Salary       </td><td>p+r          </td><td>-1.070851e+05</td><td>-3.240883e+05</td><td> 1.135612e+05</td></tr>\n",
       "\t<tr><td>Sales        </td><td>l*p          </td><td>-2.134258e+03</td><td>-4.960290e+03</td><td> 6.128343e+02</td></tr>\n",
       "\t<tr><td>Sales        </td><td>l*r          </td><td>-3.278239e+02</td><td>-3.397605e+02</td><td>-3.165516e+02</td></tr>\n",
       "\t<tr><td>Sales        </td><td>l*r*p        </td><td>-3.300584e+02</td><td>-3.498445e+02</td><td>-3.110001e+02</td></tr>\n",
       "\t<tr><td>Sales        </td><td>l*r+p        </td><td>-3.366141e+02</td><td>-3.534540e+02</td><td>-3.197934e+02</td></tr>\n",
       "\t<tr><td>Sales        </td><td>l+p          </td><td>-1.302967e+09</td><td>-3.859547e+09</td><td> 1.398599e+09</td></tr>\n",
       "\t<tr><td>Sales        </td><td>l+r          </td><td>-4.161619e+07</td><td>-1.102226e+08</td><td> 2.388403e+07</td></tr>\n",
       "\t<tr><td>Sales        </td><td>l+r*p        </td><td>-1.803735e+03</td><td>-3.479549e+03</td><td>-2.927415e+02</td></tr>\n",
       "\t<tr><td>Sales        </td><td>l+r+p        </td><td>-8.904484e+04</td><td>-2.032198e+05</td><td> 2.934074e+04</td></tr>\n",
       "\t<tr><td>Sales        </td><td>p*r          </td><td>-3.647869e+04</td><td>-8.690347e+04</td><td> 1.125531e+04</td></tr>\n",
       "\t<tr><td>Sales        </td><td>p+r          </td><td>-2.558707e+05</td><td>-5.584500e+05</td><td> 4.938718e+04</td></tr>\n",
       "\t<tr><td>Temperature  </td><td>l*r+p        </td><td> 3.779267e+01</td><td> 1.768363e+01</td><td> 5.768592e+01</td></tr>\n",
       "\t<tr><td>Temperature  </td><td>l+r          </td><td> 7.161679e+01</td><td> 5.546976e+01</td><td> 8.775695e+01</td></tr>\n",
       "\t<tr><td>Temperature  </td><td>l+r+p        </td><td> 5.904614e+01</td><td> 3.765936e+01</td><td> 7.930083e+01</td></tr>\n",
       "\t<tr><td>Temperature  </td><td>p+r          </td><td> 4.054609e+01</td><td>-4.754239e+01</td><td> 1.252464e+02</td></tr>\n",
       "</tbody>\n",
       "</table>\n"
      ],
      "text/latex": [
       "\\begin{tabular}{r|lllll}\n",
       " scenario & kernel & value & lo\\_ci & hi\\_ci\\\\\n",
       "\\hline\n",
       "\t FB Friends    & l*r*p         & -2.171659e+02 & -2.298309e+02 & -2.035193e+02\\\\\n",
       "\t FB Friends    & l*r+p         & -2.399591e+02 & -2.814260e+02 & -1.959931e+02\\\\\n",
       "\t FB Friends    & l+r           & -1.185628e+05 & -2.348502e+05 &  3.208615e+03\\\\\n",
       "\t FB Friends    & p*r           & -2.439184e+02 & -2.831080e+02 & -2.034620e+02\\\\\n",
       "\t FB Friends    & p+r           & -1.581673e+08 & -3.885107e+08 &  5.261648e+07\\\\\n",
       "\t Gym members   & l+r           &  3.806829e+01 &  1.683524e+01 &  5.861614e+01\\\\\n",
       "\t Gym members   & l+r+p         &  2.674231e+01 & -4.684927e-01 &  5.499921e+01\\\\\n",
       "\t Gym members   & p+r           &  6.525972e+01 &  4.142150e+01 &  8.850443e+01\\\\\n",
       "\t Rain          & l+p           & -1.831147e+03 & -5.025311e+03 &  1.402019e+03\\\\\n",
       "\t Rain          & l+r           &  3.823271e+01 &  2.431545e+01 &  5.156321e+01\\\\\n",
       "\t Rain          & p+r           &  2.657068e+00 & -2.203999e+01 &  2.785156e+01\\\\\n",
       "\t Salary        & l*r+p         & -3.979668e+01 & -1.122372e+02 &  3.351832e+01\\\\\n",
       "\t Salary        & l+r           & -4.190274e+00 & -2.736084e+01 &  1.863082e+01\\\\\n",
       "\t Salary        & l+r+p         &  1.286968e+01 & -1.019266e+01 &  3.777360e+01\\\\\n",
       "\t Salary        & p+r           & -1.070851e+05 & -3.240883e+05 &  1.135612e+05\\\\\n",
       "\t Sales         & l*p           & -2.134258e+03 & -4.960290e+03 &  6.128343e+02\\\\\n",
       "\t Sales         & l*r           & -3.278239e+02 & -3.397605e+02 & -3.165516e+02\\\\\n",
       "\t Sales         & l*r*p         & -3.300584e+02 & -3.498445e+02 & -3.110001e+02\\\\\n",
       "\t Sales         & l*r+p         & -3.366141e+02 & -3.534540e+02 & -3.197934e+02\\\\\n",
       "\t Sales         & l+p           & -1.302967e+09 & -3.859547e+09 &  1.398599e+09\\\\\n",
       "\t Sales         & l+r           & -4.161619e+07 & -1.102226e+08 &  2.388403e+07\\\\\n",
       "\t Sales         & l+r*p         & -1.803735e+03 & -3.479549e+03 & -2.927415e+02\\\\\n",
       "\t Sales         & l+r+p         & -8.904484e+04 & -2.032198e+05 &  2.934074e+04\\\\\n",
       "\t Sales         & p*r           & -3.647869e+04 & -8.690347e+04 &  1.125531e+04\\\\\n",
       "\t Sales         & p+r           & -2.558707e+05 & -5.584500e+05 &  4.938718e+04\\\\\n",
       "\t Temperature   & l*r+p         &  3.779267e+01 &  1.768363e+01 &  5.768592e+01\\\\\n",
       "\t Temperature   & l+r           &  7.161679e+01 &  5.546976e+01 &  8.775695e+01\\\\\n",
       "\t Temperature   & l+r+p         &  5.904614e+01 &  3.765936e+01 &  7.930083e+01\\\\\n",
       "\t Temperature   & p+r           &  4.054609e+01 & -4.754239e+01 &  1.252464e+02\\\\\n",
       "\\end{tabular}\n"
      ],
      "text/markdown": [
       "\n",
       "scenario | kernel | value | lo_ci | hi_ci | \n",
       "|---|---|---|---|---|---|---|---|---|---|---|---|---|---|---|---|---|---|---|---|---|---|---|---|---|---|---|---|---|\n",
       "| FB Friends    | l*r*p         | -2.171659e+02 | -2.298309e+02 | -2.035193e+02 | \n",
       "| FB Friends    | l*r+p         | -2.399591e+02 | -2.814260e+02 | -1.959931e+02 | \n",
       "| FB Friends    | l+r           | -1.185628e+05 | -2.348502e+05 |  3.208615e+03 | \n",
       "| FB Friends    | p*r           | -2.439184e+02 | -2.831080e+02 | -2.034620e+02 | \n",
       "| FB Friends    | p+r           | -1.581673e+08 | -3.885107e+08 |  5.261648e+07 | \n",
       "| Gym members   | l+r           |  3.806829e+01 |  1.683524e+01 |  5.861614e+01 | \n",
       "| Gym members   | l+r+p         |  2.674231e+01 | -4.684927e-01 |  5.499921e+01 | \n",
       "| Gym members   | p+r           |  6.525972e+01 |  4.142150e+01 |  8.850443e+01 | \n",
       "| Rain          | l+p           | -1.831147e+03 | -5.025311e+03 |  1.402019e+03 | \n",
       "| Rain          | l+r           |  3.823271e+01 |  2.431545e+01 |  5.156321e+01 | \n",
       "| Rain          | p+r           |  2.657068e+00 | -2.203999e+01 |  2.785156e+01 | \n",
       "| Salary        | l*r+p         | -3.979668e+01 | -1.122372e+02 |  3.351832e+01 | \n",
       "| Salary        | l+r           | -4.190274e+00 | -2.736084e+01 |  1.863082e+01 | \n",
       "| Salary        | l+r+p         |  1.286968e+01 | -1.019266e+01 |  3.777360e+01 | \n",
       "| Salary        | p+r           | -1.070851e+05 | -3.240883e+05 |  1.135612e+05 | \n",
       "| Sales         | l*p           | -2.134258e+03 | -4.960290e+03 |  6.128343e+02 | \n",
       "| Sales         | l*r           | -3.278239e+02 | -3.397605e+02 | -3.165516e+02 | \n",
       "| Sales         | l*r*p         | -3.300584e+02 | -3.498445e+02 | -3.110001e+02 | \n",
       "| Sales         | l*r+p         | -3.366141e+02 | -3.534540e+02 | -3.197934e+02 | \n",
       "| Sales         | l+p           | -1.302967e+09 | -3.859547e+09 |  1.398599e+09 | \n",
       "| Sales         | l+r           | -4.161619e+07 | -1.102226e+08 |  2.388403e+07 | \n",
       "| Sales         | l+r*p         | -1.803735e+03 | -3.479549e+03 | -2.927415e+02 | \n",
       "| Sales         | l+r+p         | -8.904484e+04 | -2.032198e+05 |  2.934074e+04 | \n",
       "| Sales         | p*r           | -3.647869e+04 | -8.690347e+04 |  1.125531e+04 | \n",
       "| Sales         | p+r           | -2.558707e+05 | -5.584500e+05 |  4.938718e+04 | \n",
       "| Temperature   | l*r+p         |  3.779267e+01 |  1.768363e+01 |  5.768592e+01 | \n",
       "| Temperature   | l+r           |  7.161679e+01 |  5.546976e+01 |  8.775695e+01 | \n",
       "| Temperature   | l+r+p         |  5.904614e+01 |  3.765936e+01 |  7.930083e+01 | \n",
       "| Temperature   | p+r           |  4.054609e+01 | -4.754239e+01 |  1.252464e+02 | \n",
       "\n",
       "\n"
      ],
      "text/plain": [
       "   scenario    kernel value         lo_ci         hi_ci        \n",
       "1  FB Friends  l*r*p  -2.171659e+02 -2.298309e+02 -2.035193e+02\n",
       "2  FB Friends  l*r+p  -2.399591e+02 -2.814260e+02 -1.959931e+02\n",
       "3  FB Friends  l+r    -1.185628e+05 -2.348502e+05  3.208615e+03\n",
       "4  FB Friends  p*r    -2.439184e+02 -2.831080e+02 -2.034620e+02\n",
       "5  FB Friends  p+r    -1.581673e+08 -3.885107e+08  5.261648e+07\n",
       "6  Gym members l+r     3.806829e+01  1.683524e+01  5.861614e+01\n",
       "7  Gym members l+r+p   2.674231e+01 -4.684927e-01  5.499921e+01\n",
       "8  Gym members p+r     6.525972e+01  4.142150e+01  8.850443e+01\n",
       "9  Rain        l+p    -1.831147e+03 -5.025311e+03  1.402019e+03\n",
       "10 Rain        l+r     3.823271e+01  2.431545e+01  5.156321e+01\n",
       "11 Rain        p+r     2.657068e+00 -2.203999e+01  2.785156e+01\n",
       "12 Salary      l*r+p  -3.979668e+01 -1.122372e+02  3.351832e+01\n",
       "13 Salary      l+r    -4.190274e+00 -2.736084e+01  1.863082e+01\n",
       "14 Salary      l+r+p   1.286968e+01 -1.019266e+01  3.777360e+01\n",
       "15 Salary      p+r    -1.070851e+05 -3.240883e+05  1.135612e+05\n",
       "16 Sales       l*p    -2.134258e+03 -4.960290e+03  6.128343e+02\n",
       "17 Sales       l*r    -3.278239e+02 -3.397605e+02 -3.165516e+02\n",
       "18 Sales       l*r*p  -3.300584e+02 -3.498445e+02 -3.110001e+02\n",
       "19 Sales       l*r+p  -3.366141e+02 -3.534540e+02 -3.197934e+02\n",
       "20 Sales       l+p    -1.302967e+09 -3.859547e+09  1.398599e+09\n",
       "21 Sales       l+r    -4.161619e+07 -1.102226e+08  2.388403e+07\n",
       "22 Sales       l+r*p  -1.803735e+03 -3.479549e+03 -2.927415e+02\n",
       "23 Sales       l+r+p  -8.904484e+04 -2.032198e+05  2.934074e+04\n",
       "24 Sales       p*r    -3.647869e+04 -8.690347e+04  1.125531e+04\n",
       "25 Sales       p+r    -2.558707e+05 -5.584500e+05  4.938718e+04\n",
       "26 Temperature l*r+p   3.779267e+01  1.768363e+01  5.768592e+01\n",
       "27 Temperature l+r     7.161679e+01  5.546976e+01  8.775695e+01\n",
       "28 Temperature l+r+p   5.904614e+01  3.765936e+01  7.930083e+01\n",
       "29 Temperature p+r     4.054609e+01 -4.754239e+01  1.252464e+02"
      ]
     },
     "metadata": {},
     "output_type": "display_data"
    }
   ],
   "source": [
    "# Which other kernel compositions are statistically equivalent\n",
    "to_plot_posterior %>%\n",
    "    group_by(scenario) %>%\n",
    "    filter(hi_ci > lo_ci[which.max(value)]) %>%\n",
    "    select(scenario, kernel, value, lo_ci, hi_ci) %>%\n",
    "    arrange(scenario)"
   ]
  },
  {
   "cell_type": "markdown",
   "metadata": {},
   "source": [
    "# Best on each condition"
   ]
  },
  {
   "cell_type": "code",
   "execution_count": 354,
   "metadata": {
    "collapsed": true
   },
   "outputs": [],
   "source": [
    "lmls_prior_ff <- lmls_prior_f %>%\n",
    "                    filter(kernel != 'l', kernel != 'p', kernel != 'r') %>% \n",
    "                    filter(lml > lo_bound & lml < up_bound)\n",
    "\n",
    "lmls_posterior_ff <- lmls_posterior_f %>%\n",
    "                    filter(kernel != 'l', kernel != 'p', kernel != 'r') %>% \n",
    "                    filter(lml > lo_bound & lml < up_bound)"
   ]
  },
  {
   "cell_type": "markdown",
   "metadata": {},
   "source": [
    "### Averages"
   ]
  },
  {
   "cell_type": "code",
   "execution_count": 358,
   "metadata": {
    "collapsed": true
   },
   "outputs": [],
   "source": [
    "prior_a <- lmls_prior_ff %>%\n",
    "                    group_by(kernel, scenario) %>%\n",
    "                    summarize(value = mean(lml),\n",
    "                              lo_ci = t.test(lml, conf.level=0.95)$conf.int[1],\n",
    "                              hi_ci = t.test(lml, conf.level=0.95)$conf.int[2])\n",
    "\n",
    "posterior_a <- lmls_posterior_ff %>%\n",
    "                    group_by(kernel, scenario) %>%\n",
    "                    summarize(value = mean(lml),\n",
    "                              lo_ci = t.test(lml, conf.level=0.95)$conf.int[1],\n",
    "                              hi_ci = t.test(lml, conf.level=0.95)$conf.int[2])"
   ]
  },
  {
   "cell_type": "markdown",
   "metadata": {},
   "source": [
    "### Tables"
   ]
  },
  {
   "cell_type": "code",
   "execution_count": 359,
   "metadata": {},
   "outputs": [
    {
     "data": {
      "text/html": [
       "<table>\n",
       "<thead><tr><th scope=col>scenario</th><th scope=col>max_index</th><th scope=col>max_kernel</th><th scope=col>max_lml</th></tr></thead>\n",
       "<tbody>\n",
       "\t<tr><td>FB Friends </td><td> 7         </td><td>l+r        </td><td> 125.2687  </td></tr>\n",
       "\t<tr><td>Gym members</td><td>11         </td><td>p+r        </td><td> 518.0173  </td></tr>\n",
       "\t<tr><td>Rain       </td><td> 8         </td><td>l+r*p      </td><td> 213.3836  </td></tr>\n",
       "\t<tr><td>Salary     </td><td>11         </td><td>p+r        </td><td> 809.7401  </td></tr>\n",
       "\t<tr><td>Sales      </td><td> 7         </td><td>l+r        </td><td>-881.9682  </td></tr>\n",
       "\t<tr><td>Temperature</td><td>10         </td><td>p*r        </td><td> 443.1288  </td></tr>\n",
       "</tbody>\n",
       "</table>\n"
      ],
      "text/latex": [
       "\\begin{tabular}{r|llll}\n",
       " scenario & max\\_index & max\\_kernel & max\\_lml\\\\\n",
       "\\hline\n",
       "\t FB Friends  &  7          & l+r         &  125.2687  \\\\\n",
       "\t Gym members & 11          & p+r         &  518.0173  \\\\\n",
       "\t Rain        &  8          & l+r*p       &  213.3836  \\\\\n",
       "\t Salary      & 11          & p+r         &  809.7401  \\\\\n",
       "\t Sales       &  7          & l+r         & -881.9682  \\\\\n",
       "\t Temperature & 10          & p*r         &  443.1288  \\\\\n",
       "\\end{tabular}\n"
      ],
      "text/markdown": [
       "\n",
       "scenario | max_index | max_kernel | max_lml | \n",
       "|---|---|---|---|---|---|\n",
       "| FB Friends  |  7          | l+r         |  125.2687   | \n",
       "| Gym members | 11          | p+r         |  518.0173   | \n",
       "| Rain        |  8          | l+r*p       |  213.3836   | \n",
       "| Salary      | 11          | p+r         |  809.7401   | \n",
       "| Sales       |  7          | l+r         | -881.9682   | \n",
       "| Temperature | 10          | p*r         |  443.1288   | \n",
       "\n",
       "\n"
      ],
      "text/plain": [
       "  scenario    max_index max_kernel max_lml  \n",
       "1 FB Friends   7        l+r         125.2687\n",
       "2 Gym members 11        p+r         518.0173\n",
       "3 Rain         8        l+r*p       213.3836\n",
       "4 Salary      11        p+r         809.7401\n",
       "5 Sales        7        l+r        -881.9682\n",
       "6 Temperature 10        p*r         443.1288"
      ]
     },
     "metadata": {},
     "output_type": "display_data"
    }
   ],
   "source": [
    "prior_a %>% \n",
    "    group_by(scenario) %>%\n",
    "    summarize(max_index = which.max(value),\n",
    "              max_kernel = kernel[max_index],\n",
    "              max_lml = value[max_index])"
   ]
  },
  {
   "cell_type": "code",
   "execution_count": 360,
   "metadata": {},
   "outputs": [
    {
     "data": {
      "text/html": [
       "<table>\n",
       "<thead><tr><th scope=col>scenario</th><th scope=col>max_index</th><th scope=col>max_kernel</th><th scope=col>max_lml</th></tr></thead>\n",
       "<tbody>\n",
       "\t<tr><td>FB Friends </td><td> 4         </td><td>l*r*p      </td><td>-217.16590 </td></tr>\n",
       "\t<tr><td>Gym members</td><td>11         </td><td>p+r        </td><td>  65.25972 </td></tr>\n",
       "\t<tr><td>Rain       </td><td> 7         </td><td>l+r        </td><td>  38.23271 </td></tr>\n",
       "\t<tr><td>Salary     </td><td> 9         </td><td>l+r+p      </td><td>  12.86968 </td></tr>\n",
       "\t<tr><td>Sales      </td><td> 3         </td><td>l*r        </td><td>-327.82386 </td></tr>\n",
       "\t<tr><td>Temperature</td><td> 7         </td><td>l+r        </td><td>  71.61679 </td></tr>\n",
       "</tbody>\n",
       "</table>\n"
      ],
      "text/latex": [
       "\\begin{tabular}{r|llll}\n",
       " scenario & max\\_index & max\\_kernel & max\\_lml\\\\\n",
       "\\hline\n",
       "\t FB Friends  &  4          & l*r*p       & -217.16590 \\\\\n",
       "\t Gym members & 11          & p+r         &   65.25972 \\\\\n",
       "\t Rain        &  7          & l+r         &   38.23271 \\\\\n",
       "\t Salary      &  9          & l+r+p       &   12.86968 \\\\\n",
       "\t Sales       &  3          & l*r         & -327.82386 \\\\\n",
       "\t Temperature &  7          & l+r         &   71.61679 \\\\\n",
       "\\end{tabular}\n"
      ],
      "text/markdown": [
       "\n",
       "scenario | max_index | max_kernel | max_lml | \n",
       "|---|---|---|---|---|---|\n",
       "| FB Friends  |  4          | l*r*p       | -217.16590  | \n",
       "| Gym members | 11          | p+r         |   65.25972  | \n",
       "| Rain        |  7          | l+r         |   38.23271  | \n",
       "| Salary      |  9          | l+r+p       |   12.86968  | \n",
       "| Sales       |  3          | l*r         | -327.82386  | \n",
       "| Temperature |  7          | l+r         |   71.61679  | \n",
       "\n",
       "\n"
      ],
      "text/plain": [
       "  scenario    max_index max_kernel max_lml   \n",
       "1 FB Friends   4        l*r*p      -217.16590\n",
       "2 Gym members 11        p+r          65.25972\n",
       "3 Rain         7        l+r          38.23271\n",
       "4 Salary       9        l+r+p        12.86968\n",
       "5 Sales        3        l*r        -327.82386\n",
       "6 Temperature  7        l+r          71.61679"
      ]
     },
     "metadata": {},
     "output_type": "display_data"
    }
   ],
   "source": [
    "posterior_a %>% \n",
    "    group_by(scenario) %>%\n",
    "    summarize(max_index = which.max(value),\n",
    "              max_kernel = kernel[max_index],\n",
    "              max_lml = value[max_index])"
   ]
  },
  {
   "cell_type": "markdown",
   "metadata": {},
   "source": [
    "### Consistency"
   ]
  },
  {
   "cell_type": "code",
   "execution_count": 436,
   "metadata": {
    "collapsed": true
   },
   "outputs": [],
   "source": [
    "prior_maxs <- lmls_prior_f %>%\n",
    "                        filter(kernel != 'l', kernel != 'p', kernel != 'r') %>% \n",
    "                        group_by(id, pid, scenario) %>%\n",
    "                        summarize(max_index = which.max(lml),\n",
    "                                  max_kernel = kernel[max_index],\n",
    "                                  max_lml = lml[max_index])"
   ]
  },
  {
   "cell_type": "code",
   "execution_count": 437,
   "metadata": {
    "collapsed": true
   },
   "outputs": [],
   "source": [
    "posterior_maxs <- lmls_posterior_f %>%\n",
    "                        filter(kernel != 'l', kernel != 'p', kernel != 'r') %>% \n",
    "                        group_by(id, pid, scenario) %>%\n",
    "                        summarize(max_index = which.max(lml),\n",
    "                                  max_kernel = kernel[max_index],\n",
    "                                  max_lml = lml[max_index])"
   ]
  },
  {
   "cell_type": "code",
   "execution_count": 438,
   "metadata": {
    "collapsed": true
   },
   "outputs": [],
   "source": [
    "merged_maxs <- merge(x = prior_maxs, y = posterior_maxs, by = c(\"id\", \"id\")) #inner join"
   ]
  },
  {
   "cell_type": "markdown",
   "metadata": {},
   "source": [
    "Percentage of consistency (match):"
   ]
  },
  {
   "cell_type": "code",
   "execution_count": 439,
   "metadata": {},
   "outputs": [],
   "source": [
    "merged_maxs <- merged_maxs %>%\n",
    "    mutate(match = (max_kernel.x == max_kernel.y))"
   ]
  },
  {
   "cell_type": "code",
   "execution_count": 440,
   "metadata": {},
   "outputs": [
    {
     "data": {
      "text/html": [
       "0.23"
      ],
      "text/latex": [
       "0.23"
      ],
      "text/markdown": [
       "0.23"
      ],
      "text/plain": [
       "[1] 0.23"
      ]
     },
     "metadata": {},
     "output_type": "display_data"
    }
   ],
   "source": [
    "(( merged_maxs %>%\n",
    "     filter(match == TRUE) %>%\n",
    "     nrow) /\n",
    " ( merged_maxs %>%\n",
    "     nrow) ) %>% round(2)"
   ]
  },
  {
   "cell_type": "markdown",
   "metadata": {},
   "source": [
    "Chance:"
   ]
  },
  {
   "cell_type": "code",
   "execution_count": 441,
   "metadata": {},
   "outputs": [
    {
     "data": {
      "text/html": [
       "0.09"
      ],
      "text/latex": [
       "0.09"
      ],
      "text/markdown": [
       "0.09"
      ],
      "text/plain": [
       "[1] 0.09"
      ]
     },
     "metadata": {},
     "output_type": "display_data"
    }
   ],
   "source": [
    "(1/11) %>% round(2)"
   ]
  },
  {
   "cell_type": "markdown",
   "metadata": {},
   "source": [
    "Bootstrapped confidence interval:"
   ]
  },
  {
   "cell_type": "code",
   "execution_count": 466,
   "metadata": {},
   "outputs": [],
   "source": [
    "bp = function(x, lev, n = 1e5, alpha=0.05) {\n",
    "  res = replicate(n, sum(sample(x, length(x), replace=TRUE) == lev)/length(x))\n",
    "  return(list(mean=mean(res),\n",
    "              `95% CI`=quantile(res, c(0.5*alpha,1-0.5*alpha))))\n",
    "}"
   ]
  },
  {
   "cell_type": "code",
   "execution_count": 499,
   "metadata": {},
   "outputs": [],
   "source": [
    "bp2 = function(vector) {\n",
    "    \n",
    "    match_ci <- bp(vector$match, TRUE)\n",
    "    \n",
    "    return( c( match_ci$mean %>% round(2),\n",
    "             match_ci$`95% CI`[1] %>% round(2),\n",
    "             match_ci$`95% CI`[2] %>% round(2) ))\n",
    "}"
   ]
  },
  {
   "cell_type": "code",
   "execution_count": 500,
   "metadata": {},
   "outputs": [
    {
     "data": {
      "text/html": [
       "<dl class=dl-horizontal>\n",
       "\t<dt>1</dt>\n",
       "\t\t<dd>0.23</dd>\n",
       "\t<dt>2.5%</dt>\n",
       "\t\t<dd>0.19</dd>\n",
       "\t<dt>97.5%</dt>\n",
       "\t\t<dd>0.26</dd>\n",
       "</dl>\n"
      ],
      "text/latex": [
       "\\begin{description*}\n",
       "\\item[1] 0.23\n",
       "\\item[2.5\\textbackslash{}\\%] 0.19\n",
       "\\item[97.5\\textbackslash{}\\%] 0.26\n",
       "\\end{description*}\n"
      ],
      "text/markdown": [
       "1\n",
       ":   0.232.5%\n",
       ":   0.1997.5%\n",
       ":   0.26\n",
       "\n"
      ],
      "text/plain": [
       "       2.5% 97.5% \n",
       " 0.23  0.19  0.26 "
      ]
     },
     "metadata": {},
     "output_type": "display_data"
    }
   ],
   "source": [
    "bp2(merged_maxs)"
   ]
  },
  {
   "cell_type": "markdown",
   "metadata": {},
   "source": [
    "### Consistency per POSTERIOR condition"
   ]
  },
  {
   "cell_type": "code",
   "execution_count": 444,
   "metadata": {},
   "outputs": [
    {
     "name": "stderr",
     "output_type": "stream",
     "text": [
      "Warning message:\n",
      "\"Missing column names filled in: 'X1' [1]\"Parsed with column specification:\n",
      "cols(\n",
      "  X1 = col_integer(),\n",
      "  id = col_integer(),\n",
      "  pid = col_character(),\n",
      "  scenario = col_character(),\n",
      "  x = col_integer(),\n",
      "  y = col_double(),\n",
      "  condition = col_character()\n",
      ")\n"
     ]
    }
   ],
   "source": [
    "#Importing the relevant data\n",
    "aux <- read_csv(\"data/for_composititional_analysis_posterior.csv\")\n",
    "\n",
    "posterior_conditions <- aux %>% select(id, condition) %>% unique\n",
    "\n",
    "# Merging\n",
    "merged_maxs <- merge(x = merged_maxs, y = posterior_conditions, by = c(\"id\", \"id\")) "
   ]
  },
  {
   "cell_type": "code",
   "execution_count": 481,
   "metadata": {
    "collapsed": true
   },
   "outputs": [],
   "source": [
    "bp3 = function(condition) {\n",
    "    print(condition)\n",
    "    merged_maxs %>%\n",
    "        filter(condition == condition) %>%\n",
    "        bp2 %>%\n",
    "        print\n",
    "}"
   ]
  },
  {
   "cell_type": "code",
   "execution_count": 501,
   "metadata": {},
   "outputs": [
    {
     "name": "stdout",
     "output_type": "stream",
     "text": [
      "[1] \"All\"\n",
      "       2.5% 97.5% \n",
      " 0.23  0.19  0.26 \n",
      "[1] \"Posterior-Positive\"\n",
      "       2.5% 97.5% \n",
      " 0.24  0.18  0.29 \n",
      "[1] \"Posterior-Stable\"\n",
      "       2.5% 97.5% \n",
      " 0.22  0.17  0.27 \n",
      "[1] \"Posterior-Negative\"\n",
      "       2.5% 97.5% \n",
      " 0.22  0.17  0.27 \n"
     ]
    }
   ],
   "source": [
    "print('All')\n",
    "print(bp2(merged_maxs))\n",
    "\n",
    "print('Posterior-Positive')\n",
    "    merged_maxs %>%\n",
    "        filter(condition == 'Posterior-Positive') %>%\n",
    "        bp2 %>%\n",
    "        print\n",
    "\n",
    "print('Posterior-Stable')\n",
    "    merged_maxs %>%\n",
    "        filter(condition == 'Posterior-Stable') %>%\n",
    "        bp2 %>%\n",
    "        print\n",
    "\n",
    "print('Posterior-Negative')\n",
    "    merged_maxs %>%\n",
    "        filter(condition == 'Posterior-Negative') %>%\n",
    "        bp2 %>%\n",
    "        print"
   ]
  },
  {
   "cell_type": "code",
   "execution_count": 645,
   "metadata": {
    "collapsed": true
   },
   "outputs": [],
   "source": [
    "bp3 = function(data, filter_v, condition = TRUE){\n",
    "    \n",
    "    if(condition){\n",
    "        results <- data %>%\n",
    "                    filter(condition == !!filter_v) %>%\n",
    "                    bp2 \n",
    "    }\n",
    "    else {\n",
    "        results <- data %>%\n",
    "                    filter(scenario.x == !!filter_v) %>%\n",
    "                    bp2 \n",
    "    }\n",
    "    \n",
    "    data.frame(list( condition = filter_v, \n",
    "                     mean  = results[[1]], \n",
    "                     lo_ci = results[[2]],\n",
    "                     hi_ci = results[[3]]))\n",
    "}"
   ]
  },
  {
   "cell_type": "code",
   "execution_count": 894,
   "metadata": {},
   "outputs": [],
   "source": [
    "plot_consistence = function(consistence_data, title, xlab, ylim_hi=0.45, ylab=\"Proportion of Match\")\n",
    "    consistence_data %>%\n",
    "                ggplot(aes(x=condition, y=mean)) + \n",
    "                    geom_bar(stat=\"identity\", aes(fill = fill)) +\n",
    "                    scale_fill_manual(values=c(\"grey35\", \"black\")) +\n",
    "                    coord_cartesian (ylim=c(0, ylim_hi)) +\n",
    "                    labs(title = title) +\n",
    "                    ggthemes::theme_few() +\n",
    "                    theme(legend.position=\"none\") +\n",
    "                    xlab(xlab) + \n",
    "                    ylab(ylab) +\n",
    "                    geom_errorbar(aes(ymin=as.numeric(lo_ci), ymax=as.numeric(hi_ci)),\n",
    "                                      width=.3,                   \n",
    "                                      position=position_dodge(.9)) +\n",
    "                    theme(#axis.text.x = element_text(angle = 90,  vjust = 0.5, hjust=0),\n",
    "                          text = element_text(size=12, family=\"serif\"),\n",
    "                          plot.title = element_text(hjust = 0.5)) +\n",
    "                    geom_hline(yintercept = 1/11, linetype=\"dashed\") #chance value"
   ]
  },
  {
   "cell_type": "code",
   "execution_count": 901,
   "metadata": {},
   "outputs": [],
   "source": [
    "chance <- data.frame(list(condition=\"Chance\", mean=1/11, lo_ci=1/13, hi_ci=1/12)) #the confidence interval is set in lower values for it to disappear\n",
    "\n",
    "consistence_condition <- rbind( #chance,\n",
    "                                bp3(merged_maxs, \"Posterior-Positive\"),\n",
    "                                bp3(merged_maxs, \"Posterior-Stable\"),\n",
    "                                bp3(merged_maxs, \"Posterior-Negative\"))\n",
    "\n",
    "consistence_scenario <- rbind(  #chance,\n",
    "                                bp3(merged_maxs, \"Temperature\", FALSE),\n",
    "                                bp3(merged_maxs, \"Rain\", FALSE),\n",
    "                                bp3(merged_maxs, \"Sales\", FALSE),\n",
    "                                bp3(merged_maxs, \"Gym members\", FALSE),\n",
    "                                bp3(merged_maxs, \"Salary\", FALSE),\n",
    "                                bp3(merged_maxs, \"FB Friends\", FALSE))"
   ]
  },
  {
   "cell_type": "code",
   "execution_count": 902,
   "metadata": {},
   "outputs": [],
   "source": [
    "#Extend the text so the plots match in size\n",
    "longer_text <- \"FB Friends             \"\n",
    "\n",
    "levels(consistence_scenario$condition) <- c(levels(consistence_scenario$condition), longer_text)\n",
    "\n",
    "#consistence_scenario[7,1] <- longer_text"
   ]
  },
  {
   "cell_type": "code",
   "execution_count": 903,
   "metadata": {},
   "outputs": [],
   "source": [
    "# Add this for colors\n",
    "consistence_condition$fill <- (consistence_condition$condition == \"Chance\")\n",
    "consistence_scenario$fill <- (consistence_scenario$condition == \"Chance\")"
   ]
  },
  {
   "cell_type": "code",
   "execution_count": 904,
   "metadata": {},
   "outputs": [],
   "source": [
    "# Readable names of Posterior conditions\n",
    "levels(consistence_condition$condition) <- c(levels(consistence_condition$condition), \"Positive\", \"Stable\", \"Negative\")\n",
    "\n",
    "# Replacement\n",
    "consistence_condition[consistence_condition$condition == \"Posterior-Positive\", \"condition\"] <- \"Positive\"\n",
    "consistence_condition[consistence_condition$condition == \"Posterior-Stable\", \"condition\"] <- \"Stable\"\n",
    "consistence_condition[consistence_condition$condition == \"Posterior-Negative\", \"condition\"] <- \"Negative\""
   ]
  },
  {
   "cell_type": "code",
   "execution_count": 905,
   "metadata": {
    "collapsed": true
   },
   "outputs": [],
   "source": [
    "# Readable Gym\n",
    "levels(consistence_scenario$condition) <- c(levels(consistence_scenario$condition), \"Gym\")\n",
    "consistence_scenario[consistence_scenario$condition == \"Gym members\", \"condition\"] <- \"Gym\"\n",
    "\n",
    "levels(consistence_scenario$condition) <- c(levels(consistence_scenario$condition), \"FB friends\")\n",
    "consistence_scenario[consistence_scenario$condition == \"FB Friends\", \"condition\"] <- \"FB friends\""
   ]
  },
  {
   "cell_type": "code",
   "execution_count": 906,
   "metadata": {},
   "outputs": [
    {
     "data": {
      "text/html": [
       "<strong>png:</strong> 2"
      ],
      "text/latex": [
       "\\textbf{png:} 2"
      ],
      "text/markdown": [
       "**png:** 2"
      ],
      "text/plain": [
       "png \n",
       "  2 "
      ]
     },
     "metadata": {},
     "output_type": "display_data"
    }
   ],
   "source": [
    "plot_cond <- consistence_condition %>% plot_consistence(title=\"(a)\", xlab=\"Posterior conditions\")\n",
    "\n",
    "plot_scen <- consistence_scenario %>% plot_consistence(title=\"(b)\", xlab=\"Scenarios\")\n",
    "\n",
    "pdf(\"Images/paper_images/match_proportion.pdf\", width=4, height=6)\n",
    "multiplot(plot_cond, plot_scen, cols=1)\n",
    "dev.off()  "
   ]
  },
  {
   "cell_type": "markdown",
   "metadata": {},
   "source": [
    "# Excluding {l, p, r}"
   ]
  },
  {
   "cell_type": "markdown",
   "metadata": {},
   "source": [
    "### Tables"
   ]
  },
  {
   "cell_type": "code",
   "execution_count": null,
   "metadata": {},
   "outputs": [],
   "source": [
    "prior_a <- lmls_prior_f %>%\n",
    "                    filter(kernel != 'l', kernel != 'p', kernel != 'r') %>%\n",
    "                    group_by(kernel, scenario) %>%\n",
    "                    summarize(value = mean(lml),\n",
    "                              lo_ci = t.test(lml, conf.level=0.95)$conf.int[1],\n",
    "                              hi_ci = t.test(lml, conf.level=0.95)$conf.int[2])\n",
    "\n",
    "posterior_a <- lmls_posterior_f %>%\n",
    "                    filter(kernel != 'l', kernel != 'p', kernel != 'r') %>%\n",
    "                    group_by(kernel, scenario) %>%\n",
    "                    summarize(value = mean(lml),\n",
    "                              lo_ci = t.test(lml, conf.level=0.95)$conf.int[1],\n",
    "                              hi_ci = t.test(lml, conf.level=0.95)$conf.int[2])\n",
    "\n",
    "print('Kernel with the maximum average per scenario')\n",
    "print('Prior table:')\n",
    "prior_a %>% \n",
    "    group_by(scenario) %>%\n",
    "    summarize(max_index = which.max(value),\n",
    "              max_kernel = kernel[max_index],\n",
    "              max_lml = value[max_index])\n",
    "\n",
    "print('Posterior data:')\n",
    "posterior_a %>% \n",
    "    group_by(scenario) %>%\n",
    "    summarize(max_index = which.max(value),\n",
    "              max_kernel = kernel[max_index],\n",
    "              max_lml = value[max_index])"
   ]
  },
  {
   "cell_type": "markdown",
   "metadata": {},
   "source": [
    "### Tables (using standard)"
   ]
  },
  {
   "cell_type": "code",
   "execution_count": null,
   "metadata": {},
   "outputs": [],
   "source": [
    "prior_a <- lmls_prior_f %>%\n",
    "                    filter(kernel != 'l', kernel != 'p', kernel != 'r') %>%\n",
    "                    group_by(kernel, scenario) %>%\n",
    "                    summarize(value = mean(lml_standard),\n",
    "                              lo_ci = t.test(lml_standard, conf.level=0.95)$conf.int[1],\n",
    "                              hi_ci = t.test(lml_standard, conf.level=0.95)$conf.int[2])\n",
    "\n",
    "posterior_a <- lmls_posterior_f %>%\n",
    "                    filter(kernel != 'l', kernel != 'p', kernel != 'r') %>%\n",
    "                    group_by(kernel, scenario) %>%\n",
    "                    summarize(value = mean(lml_standard),\n",
    "                              lo_ci = t.test(lml_standard, conf.level=0.95)$conf.int[1],\n",
    "                              hi_ci = t.test(lml_standard, conf.level=0.95)$conf.int[2])\n",
    "\n",
    "print('Kernel with the maximum average per scenario')\n",
    "print('Prior table:')\n",
    "prior_a %>% \n",
    "    group_by(scenario) %>%\n",
    "    summarize(max_index = which.max(value),\n",
    "              max_kernel = kernel[max_index],\n",
    "              max_lml = value[max_index])\n",
    "\n",
    "print('Posterior data:')\n",
    "posterior_a %>% \n",
    "    group_by(scenario) %>%\n",
    "    summarize(max_index = which.max(value),\n",
    "              max_kernel = kernel[max_index],\n",
    "              max_lml = value[max_index])"
   ]
  },
  {
   "cell_type": "markdown",
   "metadata": {},
   "source": [
    "### Persistence percentage"
   ]
  },
  {
   "cell_type": "code",
   "execution_count": null,
   "metadata": {},
   "outputs": [],
   "source": [
    "prior_maxs <- lmls_prior_f %>%\n",
    "                filter(kernel != 'l', kernel != 'p', kernel != 'r') %>%\n",
    "                group_by(id, pid, scenario) %>%\n",
    "                summarize(max_index = which.max(lml),\n",
    "                          max_kernel = kernel[max_index],\n",
    "                          max_lml = lml[max_index])\n",
    "\n",
    "posterior_maxs <- lmls_posterior_f %>%\n",
    "                filter(kernel != 'l', kernel != 'p', kernel != 'r') %>%\n",
    "                group_by(id, pid, scenario) %>%\n",
    "                summarize(max_index = which.max(lml),\n",
    "                          max_kernel = kernel[max_index],\n",
    "                          max_lml = lml[max_index])\n",
    "\n",
    "merged_maxs <- merge(x = prior_maxs, y = posterior_maxs, by = c(\"id\", \"id\"), all.x = TRUE)\n",
    "\n",
    "(merged_maxs %>%\n",
    "    filter(max_kernel.x == max_kernel.y) %>%\n",
    "    nrow)/\n",
    "(merged_maxs %>%\n",
    "    nrow)"
   ]
  },
  {
   "cell_type": "code",
   "execution_count": null,
   "metadata": {
    "collapsed": true
   },
   "outputs": [],
   "source": []
  },
  {
   "cell_type": "code",
   "execution_count": null,
   "metadata": {
    "collapsed": true
   },
   "outputs": [],
   "source": []
  },
  {
   "cell_type": "markdown",
   "metadata": {},
   "source": [
    "# Real-world data"
   ]
  },
  {
   "cell_type": "code",
   "execution_count": null,
   "metadata": {
    "collapsed": true
   },
   "outputs": [],
   "source": []
  }
 ],
 "metadata": {
  "kernelspec": {
   "display_name": "R",
   "language": "R",
   "name": "ir"
  },
  "language_info": {
   "codemirror_mode": "r",
   "file_extension": ".r",
   "mimetype": "text/x-r-source",
   "name": "R",
   "pygments_lexer": "r",
   "version": "3.3.1"
  }
 },
 "nbformat": 4,
 "nbformat_minor": 2
}
