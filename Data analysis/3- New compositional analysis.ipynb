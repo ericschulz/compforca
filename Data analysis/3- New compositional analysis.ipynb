{
 "cells": [
  {
   "cell_type": "markdown",
   "metadata": {},
   "source": [
    "# Libraries"
   ]
  },
  {
   "cell_type": "code",
   "execution_count": null,
   "metadata": {
    "collapsed": true
   },
   "outputs": [],
   "source": [
    "source(\"tools.R\")\n",
    "library('DescTools')"
   ]
  },
  {
   "cell_type": "markdown",
   "metadata": {},
   "source": [
    "# Plotting function"
   ]
  },
  {
   "cell_type": "code",
   "execution_count": null,
   "metadata": {
    "collapsed": true
   },
   "outputs": [],
   "source": [
    "plot_lmls <- function(prop_data, title, real_world_data=c(), hide_x=FALSE, hide_y=FALSE) {\n",
    "    \n",
    "    # Real world data\n",
    "    #points_data <- real_world_data %>% filter(scenario == title)\n",
    "    #min_pd <- min(points_data$value)\n",
    "    #max_pd <- max(points_data$value)\n",
    "    #points_data <- points_data %>% filter(value == max_pd)\n",
    "    \n",
    "    plot <- prop_data %>%\n",
    "                ggplot(aes(x=kernel, y=value)) + \n",
    "                    geom_bar(stat=\"identity\") +\n",
    "                    coord_cartesian (ylim=c(0, 1)) +\n",
    "                    labs(title = title) +\n",
    "                    ggthemes::theme_few() +\n",
    "                    xlab(\"Kernel composition\") + \n",
    "                    ylab(\"Mean likelihood (scaled)\") +\n",
    "                    geom_errorbar(aes(ymin=as.numeric(lo_ci), ymax=as.numeric(hi_ci)),\n",
    "                                      width=.3,                   \n",
    "                                      position=position_dodge(.9)) +\n",
    "                    theme(axis.text.x = element_text(angle = 90,  vjust = 0.5, hjust=0),\n",
    "                          text = element_text(size=12, family=\"serif\"),\n",
    "                          plot.title = element_text(hjust = 0.5))# +\n",
    "    \n",
    "                    #Points (real-world data)\n",
    "                    #geom_point(data=points_data, aes(y=value, x=kernel, group=kernel),\n",
    "                    #               stat=\"identity\", size=3, color=\"red\", shape=18)\n",
    "    \n",
    "    if(hide_x){\n",
    "        plot <- plot + theme(axis.title.x=element_blank())\n",
    "    }\n",
    "    if(hide_y){\n",
    "        plot <- plot + theme(axis.title.y=element_blank())\n",
    "    }\n",
    "    \n",
    "    return(plot)\n",
    "}"
   ]
  },
  {
   "cell_type": "code",
   "execution_count": null,
   "metadata": {
    "collapsed": true
   },
   "outputs": [],
   "source": [
    "# Misc functions\n",
    "scenarios_order <- function (scenarios) {\n",
    "    scenarios[scenarios=='Temperature'] = 1\n",
    "    scenarios[scenarios=='Rain']        = 2\n",
    "    scenarios[scenarios=='Sales']       = 3\n",
    "    scenarios[scenarios=='Gym members'] = 4\n",
    "    scenarios[scenarios=='Salary']      = 5\n",
    "    scenarios[scenarios=='FB friends']  = 6\n",
    "    \n",
    "    return(scenarios)\n",
    "}"
   ]
  },
  {
   "cell_type": "markdown",
   "metadata": {},
   "source": [
    "# Prior likelihoods"
   ]
  },
  {
   "cell_type": "markdown",
   "metadata": {},
   "source": [
    "### Preparing the data"
   ]
  },
  {
   "cell_type": "code",
   "execution_count": null,
   "metadata": {},
   "outputs": [],
   "source": [
    "data_prior <- read_csv(\"data/for_composititional_analysis_prior.csv\")\n",
    "\n",
    "dict_prior <- data_prior %>%                        \n",
    "                        group_by(id, pid, scenario) %>%\n",
    "                        summarize()"
   ]
  },
  {
   "cell_type": "code",
   "execution_count": null,
   "metadata": {},
   "outputs": [],
   "source": [
    "lmls_prior <- read_csv(\"output/lmls_prior.csv\")"
   ]
  },
  {
   "cell_type": "code",
   "execution_count": null,
   "metadata": {},
   "outputs": [],
   "source": [
    "metadata_prior <- read_csv(\"output/metadata_prior.csv\")"
   ]
  },
  {
   "cell_type": "code",
   "execution_count": null,
   "metadata": {
    "collapsed": true
   },
   "outputs": [],
   "source": [
    "metadata_prior <- metadata_prior %>%\n",
    "                        mutate( cid_composition = paste0(cid, composition) )\n",
    "\n",
    "metadata_prior$pid <- NULL\n",
    "metadata_prior$composition <- NULL\n",
    "\n",
    "kernels <- c(\"l\", \"p\", \"r\", \"l+p\", \"l+r\", \"p+r\", \"l*r\", \"l*p\", \"p*r\", \"l+r+p\", \"l+r*p\", \"l*r+p\", \"l*p+r\", \"l*r*p\")\n",
    "\n",
    "lmls_prior<- lmls_prior %>% \n",
    "                gather(kernel, lml, kernels)\n",
    "\n",
    "colnames(lmls_prior) = c('id', 'kernel', 'lml')\n",
    "\n",
    "lmls_prior <- merge(x = lmls_prior, y = dict_prior, by = c(\"id\", \"id\"), all.x = TRUE)\n",
    "\n",
    "lmls_prior <- lmls_prior %>%\n",
    "                        mutate( cid_composition = paste0(id, kernel) )\n",
    "\n",
    "# Joining\n",
    "lmls_prior <- merge(x = lmls_prior, y = metadata_prior, by = c(\"cid_composition\", \"cid_composition\"), all.x = TRUE)\n",
    "lmls_prior$cid_composition <- NULL"
   ]
  },
  {
   "cell_type": "markdown",
   "metadata": {},
   "source": [
    "### Counting\n",
    "Percentage of GPs that were filtered out (by any reason)"
   ]
  },
  {
   "cell_type": "code",
   "execution_count": null,
   "metadata": {},
   "outputs": [],
   "source": [
    "paste0(round((lmls_prior %>%\n",
    "            filter(lml == -999999999 | second_exception == 'True') %>%\n",
    "            filter(kernel != 'l', kernel != 'p', kernel != 'r') %>%\n",
    "            nrow) / \n",
    "(lmls_prior %>% \n",
    "     filter(kernel != 'l', kernel != 'p', kernel != 'r') %>%\n",
    "     nrow) * 100, 2), '%')"
   ]
  },
  {
   "cell_type": "markdown",
   "metadata": {},
   "source": [
    "### Summarising and plotting"
   ]
  },
  {
   "cell_type": "code",
   "execution_count": null,
   "metadata": {
    "collapsed": true
   },
   "outputs": [],
   "source": [
    "# Removes the GPs that failed to be optimized in the second time. The lmls that failed to be optimized are also removed.\n",
    "#Finaly, the lml_standard is calculated\n",
    "lmls_prior_f <- lmls_prior %>%\n",
    "                    filter(second_exception == 'False' & lml != -999999999) %>%\n",
    "                    group_by(pid, scenario) %>%\n",
    "                    mutate(lml_minus_min = lml - min(lml),\n",
    "                           lml_standard = lml_minus_min / (max(lml_minus_min) - min (lml_minus_min)))\n",
    "\n",
    "sds <- lmls_prior_f %>% \n",
    "            group_by(kernel, scenario) %>%\n",
    "            summarize(lo_bound = mean(lml) - 5*sd(lml), up_bound = mean(lml) + 5*sd(lml))\n",
    "\n",
    "sds$ks <- paste0(sds$kernel, sds$scenario)\n",
    "\n",
    "lmls_prior_f$ks <- paste0(lmls_prior_f$kernel, lmls_prior_f$scenario)\n",
    "\n",
    "sds$kernel <- NULL\n",
    "sds$scenario <- NULL\n",
    "\n",
    "lmls_prior_f <- merge(x = lmls_prior_f, y = sds, by = \"ks\", all.x = TRUE)"
   ]
  },
  {
   "cell_type": "code",
   "execution_count": null,
   "metadata": {},
   "outputs": [],
   "source": [
    "normalize_bool = FALSE\n",
    "plot_bool      = FALSE\n",
    "\n",
    "to_plot_prior <- lmls_prior_f %>% \n",
    "            filter(lml > -10000) %>%\n",
    "            filter(lml > lo_bound & lml < up_bound) %>%\n",
    "            group_by(kernel, scenario) %>%\n",
    "            summarize(value = mean(lml),\n",
    "                      lo_ci = MeanCI(lml, method=\"boot\", type=\"norm\", na.rm=TRUE)['lwr.ci'],\n",
    "                      hi_ci = MeanCI(lml, method=\"boot\", type=\"norm\", na.rm=TRUE)['upr.ci'])\n",
    "\n",
    "# Remove single components\n",
    "to_plot_prior <- to_plot_prior %>%\n",
    "                filter(kernel != 'l', kernel != 'p', kernel != 'r')\n",
    "\n",
    "# Scaling the 'data to plot' to a 0-1 range\n",
    "min_v = min(to_plot_prior$value)\n",
    "range_v = max(to_plot_prior$value) - min(to_plot_prior$value)\n",
    "\n",
    "if(normalize_bool) {\n",
    "    #Normalization\n",
    "    to_plot_prior <- to_plot_prior %>%\n",
    "                    group_by( scenario ) %>%\n",
    "                    mutate( lo_ci = (lo_ci - min(value)) / (max(value) - min(value)),\n",
    "                            hi_ci = (hi_ci - min(value)) / (max(value) - min(value)),  \n",
    "                            value = (value - min(value)) / (max(value) - min(value)))\n",
    "}\n",
    "\n",
    "# Plotting magic\n",
    "to_plot_prior$kernel <- factor(to_plot_prior$kernel, levels=kernels)\n",
    "\n",
    "lmls_temperature <- to_plot_prior %>% filter(scenario == \"Temperature\")\n",
    "lmls_rain <- to_plot_prior %>% filter(scenario == \"Rain\")\n",
    "lmls_sales <- to_plot_prior %>% filter(scenario == \"Sales\")\n",
    "lmls_gym <- to_plot_prior %>% filter(scenario == \"Gym members\")\n",
    "lmls_salary <- to_plot_prior %>% filter(scenario == \"Salary\")\n",
    "lmls_fb <- to_plot_prior %>% filter(scenario == \"FB Friends\")\n",
    "\n",
    "# Real-world data\n",
    "rwdata <- read_csv(\"data/real-world/to-plot.csv\")\n",
    "\n",
    "rwdata <- rwdata %>%\n",
    "    filter(kernel != 'l', kernel != 'p', kernel != 'r') %>%\n",
    "    group_by(scenario) %>%\n",
    "    mutate(value = (lml - min(lml)) / (max(lml) - min(lml)))\n",
    "\n",
    "\n",
    "if (plot_bool) {\n",
    "    # Plots\n",
    "    p1 <- plot_lmls( lmls_temperature, \"Temperature\", real_world_data=rwdata, hide_x=TRUE)\n",
    "    p2 <- plot_lmls( lmls_rain,        \"Rain\",        real_world_data=rwdata, hide_x=TRUE)\n",
    "    p3 <- plot_lmls( lmls_sales,       \"Sales\",       real_world_data=rwdata, hide_x=TRUE, hide_y=TRUE)\n",
    "    p4 <- plot_lmls( lmls_gym,         \"Gym members\", real_world_data=rwdata, hide_x=TRUE, hide_y=TRUE)\n",
    "    p5 <- plot_lmls( lmls_salary,      \"Salary\",      real_world_data=rwdata, hide_x=TRUE, hide_y=TRUE)\n",
    "    p6 <- plot_lmls( lmls_fb,          \"FB Friends\",  real_world_data=rwdata, hide_x=TRUE, hide_y=TRUE)\n",
    "\n",
    "    pdf(\"Images/paper_images/kernels_priors_lmls_5sd_over-10k.pdf\", width=8, height=4)\n",
    "    multiplot(p1, p2, p3, p4, p5, p6, cols=3)\n",
    "    dev.off()   \n",
    "}"
   ]
  },
  {
   "cell_type": "markdown",
   "metadata": {},
   "source": [
    "### Prior condition. Best performing kernel compositions:"
   ]
  },
  {
   "cell_type": "code",
   "execution_count": null,
   "metadata": {},
   "outputs": [],
   "source": [
    "to_plot_prior %>%\n",
    "    group_by(scenario) %>%\n",
    "    summarize(kernel[which.max(value)], value[which.max(value)]) %>%\n",
    "    arrange(scenarios_order(scenario))"
   ]
  },
  {
   "cell_type": "code",
   "execution_count": null,
   "metadata": {},
   "outputs": [],
   "source": [
    "# Which other kernel compositions are statistically equivalent\n",
    "to_plot_prior %>%\n",
    "    group_by(scenario) %>%\n",
    "    filter(hi_ci > lo_ci[which.max(value)]) %>%\n",
    "    select(scenario, kernel, value, lo_ci, hi_ci) %>%\n",
    "    arrange(scenarios_order(scenario))"
   ]
  },
  {
   "cell_type": "markdown",
   "metadata": {},
   "source": [
    "# Full-Bayesian Posterior analysis"
   ]
  },
  {
   "cell_type": "markdown",
   "metadata": {},
   "source": [
    "### Preparing the data"
   ]
  },
  {
   "cell_type": "code",
   "execution_count": null,
   "metadata": {},
   "outputs": [],
   "source": [
    "lmls_posterior <- read_csv(\"output/full-bayesian-posterior/results_posterior_test_lmls.csv\")"
   ]
  },
  {
   "cell_type": "code",
   "execution_count": null,
   "metadata": {},
   "outputs": [],
   "source": [
    "# To add the 'scenario' column\n",
    "\n",
    "data_posterior <- read_csv(\"data/for_composititional_analysis_posterior.csv\")\n",
    "\n",
    "dict_posterior <- data_posterior %>%                        \n",
    "                        group_by(id, pid, scenario) %>%\n",
    "                        summarize()\n",
    "\n",
    "dict_posterior$pid <- NULL\n",
    "\n",
    "lmls_posterior <- merge(x = lmls_posterior, y = dict_posterior, by = c(\"id\", \"id\"), all.x = TRUE)\n",
    "\n",
    "# Adding 'participant id' (pid)\n",
    "lmls_posterior$pid <- floor((lmls_posterior$id-1) / 6) + 1"
   ]
  },
  {
   "cell_type": "markdown",
   "metadata": {},
   "source": [
    "### Analyzing"
   ]
  },
  {
   "cell_type": "code",
   "execution_count": null,
   "metadata": {},
   "outputs": [],
   "source": [
    "print('White added')\n",
    "\n",
    "lmls_posterior %>%\n",
    "    filter(white_added == 'TRUE') %>%\n",
    "    nrow\n",
    "\n",
    "lmls_posterior %>%\n",
    "    filter(white_added == 'FALSE') %>%\n",
    "    nrow\n",
    "\n",
    "lmls_posterior %>%\n",
    "    nrow\n",
    "\n",
    "#######\n",
    "\n",
    "print('Second exception')\n",
    "lmls_posterior %>%\n",
    "    filter(second_exception == 'TRUE') %>%\n",
    "    nrow\n",
    "\n",
    "lmls_posterior %>%\n",
    "    filter(second_exception == 'FALSE') %>%\n",
    "    nrow\n",
    "\n",
    "lmls_posterior %>%\n",
    "    nrow\n",
    "\n",
    "######\n",
    "\n",
    "print('Proportion of LML error and Second exception over the total')\n",
    "\n",
    "paste0(round((lmls_posterior %>%\n",
    "            filter(lml == -999999999 | second_exception == 'TRUE') %>% \n",
    "            filter(kernel != 'l', kernel != 'p', kernel != 'r') %>%\n",
    "            nrow) / (lmls_posterior %>% \n",
    "                     filter(kernel != 'l', kernel != 'p', kernel != 'r') %>%\n",
    "                     nrow) * 100, 2), '%')"
   ]
  },
  {
   "cell_type": "code",
   "execution_count": null,
   "metadata": {
    "collapsed": true
   },
   "outputs": [],
   "source": [
    "# Removing unusable data, and standardizing.\n",
    "lmls_posterior_f <- lmls_posterior %>%\n",
    "                    filter(second_exception == 'FALSE' & lml != -999999999) %>%\n",
    "                    group_by(pid, scenario) %>%\n",
    "                    mutate(lml_minus_min = lml - min(lml),\n",
    "                           lml_standard = lml_minus_min / (max(lml_minus_min) - min (lml_minus_min)))\n",
    "\n",
    "# Standard deviations calculation\n",
    "sds <- lmls_posterior_f %>% \n",
    "            group_by(kernel, scenario) %>%\n",
    "            summarize(lo_bound = mean(lml) - 5*sd(lml), up_bound = mean(lml) + 5*sd(lml))\n",
    "\n",
    "sds$ks <- paste0(sds$kernel, sds$scenario)\n",
    "\n",
    "lmls_posterior_f$ks <- paste0(lmls_posterior_f$kernel, lmls_posterior_f$scenario)\n",
    "\n",
    "sds$kernel <- NULL\n",
    "sds$scenario <- NULL\n",
    "\n",
    "lmls_posterior_f <- merge(x = lmls_posterior_f, y = sds, by = \"ks\", all.x = TRUE)"
   ]
  },
  {
   "cell_type": "markdown",
   "metadata": {},
   "source": [
    "### Plotting"
   ]
  },
  {
   "cell_type": "code",
   "execution_count": null,
   "metadata": {},
   "outputs": [],
   "source": [
    "normalize_bool = FALSE\n",
    "plot_bool      = FALSE\n",
    "\n",
    "# Plotting data\n",
    "to_plot_posterior <- lmls_posterior_f %>%\n",
    "            filter(lml > -10000) %>%\n",
    "            filter(lml > lo_bound & lml < up_bound) %>%\n",
    "            group_by(kernel, scenario) %>%\n",
    "            summarize(value = mean(lml),\n",
    "                      lo_ci = MeanCI(lml, method=\"boot\", type=\"norm\", na.rm=TRUE)['lwr.ci'],\n",
    "                      hi_ci = MeanCI(lml, method=\"boot\", type=\"norm\", na.rm=TRUE)['upr.ci'])\n",
    "\n",
    "# Remove single components\n",
    "to_plot_posterior <- to_plot_posterior %>%\n",
    "                filter(kernel != 'l', kernel != 'p', kernel != 'r')\n",
    "\n",
    "# Scaling the 'data to plot' to a 0-1 range\n",
    "min_v = min(to_plot_posterior$value)\n",
    "range_v = max(to_plot_posterior$value) - min(to_plot_posterior$value)\n",
    "\n",
    "if(normalize_bool){\n",
    "    # Normalization\n",
    "    to_plot_posterior <- to_plot_posterior %>%\n",
    "                    group_by( scenario ) %>%\n",
    "                    mutate( lo_ci = (lo_ci - min(value)) / (max(value) - min(value)),\n",
    "                            hi_ci = (hi_ci - min(value)) / (max(value) - min(value)),  \n",
    "                            value = (value - min(value)) / (max(value) - min(value)))  \n",
    "}\n",
    "\n",
    "# Plotting magic\n",
    "to_plot_posterior$kernel <- factor(to_plot_posterior$kernel, levels=kernels)\n",
    "\n",
    "lmls_temperature <- to_plot_posterior %>% filter(scenario == \"Temperature\")\n",
    "lmls_rain <- to_plot_posterior %>% filter(scenario == \"Rain\")\n",
    "lmls_sales <- to_plot_posterior %>% filter(scenario == \"Sales\")\n",
    "lmls_gym <- to_plot_posterior %>% filter(scenario == \"Gym members\")\n",
    "lmls_salary <- to_plot_posterior %>% filter(scenario == \"Salary\")\n",
    "lmls_fb <- to_plot_posterior %>% filter(scenario == \"FB Friends\")\n",
    "\n",
    "if (plot_bool){\n",
    "    p1 <- plot_lmls(lmls_temperature, \"Temperature\", hide_x=TRUE)\n",
    "    p2 <- plot_lmls(lmls_rain, \"Rain\", hide_x=TRUE)\n",
    "    p3 <- plot_lmls(lmls_sales, \"Sales\", hide_x=TRUE, hide_y=TRUE)\n",
    "    p4 <- plot_lmls(lmls_gym, \"Gym members\", hide_y=TRUE, hide_x=TRUE)\n",
    "    p5 <- plot_lmls(lmls_salary, \"Salary\", hide_x=TRUE, hide_y=TRUE)\n",
    "    p6 <- plot_lmls(lmls_fb, \"FB Friends\", hide_y=TRUE, hide_x=TRUE)\n",
    "\n",
    "    pdf(\"Images/paper_images/kernels_posteriors_lmls_5sd.pdf\", width=8, height=4)\n",
    "    multiplot(p1, p2, p3, p4, p5, p6, cols=3)\n",
    "    dev.off()\n",
    "}"
   ]
  },
  {
   "cell_type": "code",
   "execution_count": null,
   "metadata": {},
   "outputs": [],
   "source": [
    "# Which kernel is max\n",
    "to_plot_posterior %>%\n",
    "    group_by(scenario) %>%\n",
    "    summarize(kernel[which.max(value)], value[which.max(value)], lo_ci[which.max(value)]) %>%\n",
    "    arrange(scenarios_order(scenario))"
   ]
  },
  {
   "cell_type": "code",
   "execution_count": null,
   "metadata": {
    "scrolled": false
   },
   "outputs": [],
   "source": [
    "# Which other kernel compositions are statistically equivalent\n",
    "to_plot_posterior %>%\n",
    "    group_by(scenario) %>%\n",
    "    filter(hi_ci > lo_ci[which.max(value)]) %>%\n",
    "    select(scenario, kernel, value, lo_ci, hi_ci) %>%\n",
    "    arrange(scenario) %>%\n",
    "    arrange(scenarios_order(scenario))"
   ]
  },
  {
   "cell_type": "markdown",
   "metadata": {},
   "source": [
    "# Best on each condition"
   ]
  },
  {
   "cell_type": "code",
   "execution_count": null,
   "metadata": {},
   "outputs": [],
   "source": [
    "lmls_prior_ff <- lmls_prior_f %>%\n",
    "                    filter(kernel != 'l', kernel != 'p', kernel != 'r') %>% \n",
    "                    filter(lml > lo_bound & lml < up_bound) %>%\n",
    "                    filter(lml > -10000)\n",
    "\n",
    "lmls_posterior_ff <- lmls_posterior_f %>%\n",
    "                    filter(kernel != 'l', kernel != 'p', kernel != 'r') %>% \n",
    "                    filter(lml > lo_bound & lml < up_bound) %>%\n",
    "                    filter(lml > -10000)"
   ]
  },
  {
   "cell_type": "markdown",
   "metadata": {},
   "source": [
    "### Averages"
   ]
  },
  {
   "cell_type": "code",
   "execution_count": null,
   "metadata": {
    "collapsed": true
   },
   "outputs": [],
   "source": [
    "prior_a <- lmls_prior_ff %>%\n",
    "                    group_by(kernel, scenario) %>%\n",
    "                    summarize(value = mean(lml),\n",
    "                              lo_ci = t.test(lml, conf.level=0.95)$conf.int[1],\n",
    "                              hi_ci = t.test(lml, conf.level=0.95)$conf.int[2])\n",
    "\n",
    "posterior_a <- lmls_posterior_ff %>%\n",
    "                    group_by(kernel, scenario) %>%\n",
    "                    summarize(value = mean(lml),\n",
    "                              lo_ci = t.test(lml, conf.level=0.95)$conf.int[1],\n",
    "                              hi_ci = t.test(lml, conf.level=0.95)$conf.int[2])"
   ]
  },
  {
   "cell_type": "markdown",
   "metadata": {},
   "source": [
    "### Tables"
   ]
  },
  {
   "cell_type": "code",
   "execution_count": null,
   "metadata": {},
   "outputs": [],
   "source": [
    "prior_a %>% \n",
    "    group_by(scenario) %>%\n",
    "    summarize(max_index = which.max(value),\n",
    "              max_kernel = kernel[max_index],\n",
    "              max_lml = value[max_index]) %>%\n",
    "    arrange(scenarios_order(scenario))"
   ]
  },
  {
   "cell_type": "code",
   "execution_count": null,
   "metadata": {},
   "outputs": [],
   "source": [
    "posterior_a %>% \n",
    "    group_by(scenario) %>%\n",
    "    summarize(max_index = which.max(value),\n",
    "              max_kernel = kernel[max_index],\n",
    "              max_lml = value[max_index]) %>%\n",
    "    arrange(scenarios_order(scenario))"
   ]
  },
  {
   "cell_type": "markdown",
   "metadata": {},
   "source": [
    "### Consistency"
   ]
  },
  {
   "cell_type": "code",
   "execution_count": null,
   "metadata": {
    "collapsed": true
   },
   "outputs": [],
   "source": [
    "prior_maxs <- lmls_prior_f %>%\n",
    "                        filter(kernel != 'l', kernel != 'p', kernel != 'r') %>% \n",
    "                        group_by(id, pid, scenario) %>%\n",
    "                        summarize(max_index = which.max(lml),\n",
    "                                  max_kernel = kernel[max_index],\n",
    "                                  max_lml = lml[max_index])"
   ]
  },
  {
   "cell_type": "code",
   "execution_count": null,
   "metadata": {
    "collapsed": true
   },
   "outputs": [],
   "source": [
    "posterior_maxs <- lmls_posterior_f %>%\n",
    "                        filter(kernel != 'l', kernel != 'p', kernel != 'r') %>% \n",
    "                        group_by(id, pid, scenario) %>%\n",
    "                        summarize(max_index = which.max(lml),\n",
    "                                  max_kernel = kernel[max_index],\n",
    "                                  max_lml = lml[max_index])"
   ]
  },
  {
   "cell_type": "code",
   "execution_count": null,
   "metadata": {
    "collapsed": true
   },
   "outputs": [],
   "source": [
    "merged_maxs <- merge(x = prior_maxs, y = posterior_maxs, by = c(\"id\", \"id\")) #inner join"
   ]
  },
  {
   "cell_type": "markdown",
   "metadata": {},
   "source": [
    "Percentage of consistency (match):"
   ]
  },
  {
   "cell_type": "code",
   "execution_count": null,
   "metadata": {
    "collapsed": true
   },
   "outputs": [],
   "source": [
    "merged_maxs <- merged_maxs %>%\n",
    "    mutate(match = (max_kernel.x == max_kernel.y))"
   ]
  },
  {
   "cell_type": "code",
   "execution_count": null,
   "metadata": {},
   "outputs": [],
   "source": [
    "(( merged_maxs %>%\n",
    "     filter(match == TRUE) %>%\n",
    "     nrow) /\n",
    " ( merged_maxs %>%\n",
    "     nrow) ) %>% round(2)"
   ]
  },
  {
   "cell_type": "markdown",
   "metadata": {},
   "source": [
    "Chance:"
   ]
  },
  {
   "cell_type": "code",
   "execution_count": null,
   "metadata": {},
   "outputs": [],
   "source": [
    "(1/11) %>% round(2)"
   ]
  },
  {
   "cell_type": "markdown",
   "metadata": {},
   "source": [
    "Bootstrapped confidence interval:"
   ]
  },
  {
   "cell_type": "code",
   "execution_count": null,
   "metadata": {
    "collapsed": true
   },
   "outputs": [],
   "source": [
    "bp = function(x, lev, n = 1e6, alpha=0.05) {\n",
    "  res = replicate(n, sum(sample(x, length(x), replace=TRUE) == lev)/length(x))\n",
    "  return(list(mean=mean(res),\n",
    "              `95% CI`=quantile(res, c(0.5*alpha,1-0.5*alpha))))\n",
    "}"
   ]
  },
  {
   "cell_type": "code",
   "execution_count": null,
   "metadata": {
    "collapsed": true
   },
   "outputs": [],
   "source": [
    "bp2 = function(vector) {\n",
    "    \n",
    "    match_ci <- bp(vector$match, TRUE)\n",
    "    \n",
    "    return( c( match_ci$mean %>% round(2),\n",
    "             match_ci$`95% CI`[1] %>% round(2),\n",
    "             match_ci$`95% CI`[2] %>% round(2) ))\n",
    "}"
   ]
  },
  {
   "cell_type": "code",
   "execution_count": null,
   "metadata": {},
   "outputs": [],
   "source": [
    "bp2(merged_maxs)"
   ]
  },
  {
   "cell_type": "markdown",
   "metadata": {},
   "source": [
    "### Consistency per POSTERIOR condition"
   ]
  },
  {
   "cell_type": "code",
   "execution_count": null,
   "metadata": {},
   "outputs": [],
   "source": [
    "#Importing the relevant data\n",
    "aux <- read_csv(\"data/for_composititional_analysis_posterior.csv\")\n",
    "\n",
    "posterior_conditions <- aux %>% select(id, condition) %>% unique\n",
    "\n",
    "# Merging\n",
    "merged_maxs <- merge(x = merged_maxs, y = posterior_conditions, by = c(\"id\", \"id\")) "
   ]
  },
  {
   "cell_type": "code",
   "execution_count": null,
   "metadata": {
    "collapsed": true
   },
   "outputs": [],
   "source": [
    "bp3 = function(condition) {\n",
    "    print(condition)\n",
    "    merged_maxs %>%\n",
    "        filter(condition == condition) %>%\n",
    "        bp2 %>%\n",
    "        print\n",
    "}"
   ]
  },
  {
   "cell_type": "code",
   "execution_count": null,
   "metadata": {},
   "outputs": [],
   "source": [
    "print('All')\n",
    "print(bp2(merged_maxs))\n",
    "\n",
    "print('Posterior-Positive')\n",
    "    merged_maxs %>%\n",
    "        filter(condition == 'Posterior-Positive') %>%\n",
    "        bp2 %>%\n",
    "        print\n",
    "\n",
    "print('Posterior-Stable')\n",
    "    merged_maxs %>%\n",
    "        filter(condition == 'Posterior-Stable') %>%\n",
    "        bp2 %>%\n",
    "        print\n",
    "\n",
    "print('Posterior-Negative')\n",
    "    merged_maxs %>%\n",
    "        filter(condition == 'Posterior-Negative') %>%\n",
    "        bp2 %>%\n",
    "        print"
   ]
  },
  {
   "cell_type": "code",
   "execution_count": null,
   "metadata": {
    "collapsed": true
   },
   "outputs": [],
   "source": [
    "bp3 = function(data, filter_v, condition = TRUE){\n",
    "    \n",
    "    if(condition){\n",
    "        results <- data %>%\n",
    "                    filter(condition == !!filter_v) %>%\n",
    "                    bp2 \n",
    "    }\n",
    "    else {\n",
    "        results <- data %>%\n",
    "                    filter(scenario.x == !!filter_v) %>%\n",
    "                    bp2 \n",
    "    }\n",
    "    \n",
    "    data.frame(list( condition = filter_v, \n",
    "                     mean  = results[[1]], \n",
    "                     lo_ci = results[[2]],\n",
    "                     hi_ci = results[[3]]))\n",
    "}"
   ]
  },
  {
   "cell_type": "code",
   "execution_count": null,
   "metadata": {
    "collapsed": true
   },
   "outputs": [],
   "source": [
    "plot_consistence = function(consistence_data, title, xlab, ylim_hi=0.45, ylab=\"Proportion of Match\")\n",
    "    consistence_data %>%\n",
    "                ggplot(aes(x=condition, y=mean)) + \n",
    "                    geom_bar(stat=\"identity\", aes(fill = fill)) +\n",
    "                    scale_fill_manual(values=c(\"grey35\", \"black\")) +\n",
    "                    coord_cartesian (ylim=c(0, ylim_hi)) +\n",
    "                    labs(title = title) +\n",
    "                    ggthemes::theme_few() +\n",
    "                    theme(legend.position=\"none\") +\n",
    "                    xlab(xlab) + \n",
    "                    ylab(ylab) +\n",
    "                    geom_errorbar(aes(ymin=as.numeric(lo_ci), ymax=as.numeric(hi_ci)),\n",
    "                                      width=.3,                   \n",
    "                                      position=position_dodge(.9)) +\n",
    "                    theme(#axis.text.x = element_text(angle = 90,  vjust = 0.5, hjust=0),\n",
    "                          text = element_text(size=12, family=\"serif\"),\n",
    "                          plot.title = element_text(hjust = 0.5)) +\n",
    "                    geom_hline(yintercept = 1/11, linetype=\"dashed\") #chance value"
   ]
  },
  {
   "cell_type": "code",
   "execution_count": null,
   "metadata": {
    "collapsed": true
   },
   "outputs": [],
   "source": [
    "chance <- data.frame(list(condition=\"Chance\", mean=1/11, lo_ci=1/13, hi_ci=1/12)) #the confidence interval is set in lower values for it to disappear\n",
    "\n",
    "consistence_condition <- rbind( #chance,\n",
    "                                bp3(merged_maxs, \"Posterior-Positive\"),\n",
    "                                bp3(merged_maxs, \"Posterior-Stable\"),\n",
    "                                bp3(merged_maxs, \"Posterior-Negative\"))\n",
    "\n",
    "consistence_scenario <- rbind(  #chance,\n",
    "                                bp3(merged_maxs, \"Temperature\", FALSE),\n",
    "                                bp3(merged_maxs, \"Rain\", FALSE),\n",
    "                                bp3(merged_maxs, \"Sales\", FALSE),\n",
    "                                bp3(merged_maxs, \"Gym members\", FALSE),\n",
    "                                bp3(merged_maxs, \"Salary\", FALSE),\n",
    "                                bp3(merged_maxs, \"FB Friends\", FALSE))"
   ]
  },
  {
   "cell_type": "code",
   "execution_count": null,
   "metadata": {
    "collapsed": true
   },
   "outputs": [],
   "source": [
    "#Extend the text so the plots match in size\n",
    "longer_text <- \"FB Friends             \"\n",
    "\n",
    "levels(consistence_scenario$condition) <- c(levels(consistence_scenario$condition), longer_text)\n",
    "\n",
    "#consistence_scenario[7,1] <- longer_text"
   ]
  },
  {
   "cell_type": "code",
   "execution_count": null,
   "metadata": {
    "collapsed": true
   },
   "outputs": [],
   "source": [
    "# Add this for colors\n",
    "consistence_condition$fill <- (consistence_condition$condition == \"Chance\")\n",
    "consistence_scenario$fill <- (consistence_scenario$condition == \"Chance\")"
   ]
  },
  {
   "cell_type": "code",
   "execution_count": null,
   "metadata": {
    "collapsed": true
   },
   "outputs": [],
   "source": [
    "# Readable names of Posterior conditions\n",
    "levels(consistence_condition$condition) <- c(levels(consistence_condition$condition), \"Positive\", \"Stable\", \"Negative\")\n",
    "\n",
    "# Replacement\n",
    "consistence_condition[consistence_condition$condition == \"Posterior-Positive\", \"condition\"] <- \"Positive\"\n",
    "consistence_condition[consistence_condition$condition == \"Posterior-Stable\", \"condition\"] <- \"Stable\"\n",
    "consistence_condition[consistence_condition$condition == \"Posterior-Negative\", \"condition\"] <- \"Negative\""
   ]
  },
  {
   "cell_type": "code",
   "execution_count": null,
   "metadata": {
    "collapsed": true
   },
   "outputs": [],
   "source": [
    "# Readable Gym\n",
    "levels(consistence_scenario$condition) <- c(levels(consistence_scenario$condition), \"Gym\")\n",
    "consistence_scenario[consistence_scenario$condition == \"Gym members\", \"condition\"] <- \"Gym\"\n",
    "\n",
    "levels(consistence_scenario$condition) <- c(levels(consistence_scenario$condition), \"FB friends\")\n",
    "consistence_scenario[consistence_scenario$condition == \"FB Friends\", \"condition\"] <- \"FB friends\""
   ]
  },
  {
   "cell_type": "code",
   "execution_count": null,
   "metadata": {},
   "outputs": [],
   "source": [
    "plot_cond <- consistence_condition %>% plot_consistence(title=\"(a)\", xlab=\"Posterior conditions\")\n",
    "\n",
    "plot_scen <- consistence_scenario %>% plot_consistence(title=\"(b)\", xlab=\"Scenarios\")\n",
    "\n",
    "pdf(\"Images/paper_images/match_proportion.pdf\", width=4, height=6)\n",
    "multiplot(plot_cond, plot_scen, cols=1)\n",
    "dev.off()  "
   ]
  },
  {
   "cell_type": "markdown",
   "metadata": {},
   "source": [
    "# Match index"
   ]
  },
  {
   "cell_type": "code",
   "execution_count": null,
   "metadata": {
    "collapsed": true
   },
   "outputs": [],
   "source": [
    "# Which other kernel compositions are statistically equivalent\n",
    "best_prior <- to_plot_prior %>%\n",
    "    group_by(scenario) %>%\n",
    "    filter(hi_ci > lo_ci[which.max(value)]) %>%\n",
    "    select(scenario, kernel, value, lo_ci, hi_ci) %>%\n",
    "    arrange(scenario)\n",
    "\n",
    "# Which other kernel compositions are statistically equivalent\n",
    "best_posterior <- to_plot_posterior %>%\n",
    "    group_by(scenario) %>%\n",
    "    filter(hi_ci > lo_ci[which.max(value)]) %>%\n",
    "    select(scenario, kernel, value, lo_ci, hi_ci) %>%\n",
    "    arrange(scenario)"
   ]
  },
  {
   "cell_type": "code",
   "execution_count": null,
   "metadata": {},
   "outputs": [],
   "source": [
    "best_prior %>% head"
   ]
  },
  {
   "cell_type": "code",
   "execution_count": null,
   "metadata": {
    "collapsed": true
   },
   "outputs": [],
   "source": [
    "# Inner join\n",
    "inner_aux <- merge(x = best_prior, y = best_posterior, by.x = c('scenario', 'kernel'), by.y = c('scenario', 'kernel')) %>%\n",
    "                    group_by(scenario) %>%\n",
    "                    summarize(count = length(kernel))"
   ]
  },
  {
   "cell_type": "code",
   "execution_count": null,
   "metadata": {
    "collapsed": true
   },
   "outputs": [],
   "source": [
    "# Outer join\n",
    "outer_aux <- merge(x = best_prior, y = best_posterior, by.x = c('scenario', 'kernel'), by.y = c('scenario', 'kernel'), all.x=TRUE, all.y=TRUE) %>%\n",
    "                    group_by(scenario) %>%\n",
    "                    summarize(count = length(kernel))"
   ]
  },
  {
   "cell_type": "code",
   "execution_count": null,
   "metadata": {},
   "outputs": [],
   "source": [
    "merge(inner_aux, outer_aux, by='scenario') %>%\n",
    "    mutate(match = round(count.x/count.y, 2))"
   ]
  },
  {
   "cell_type": "markdown",
   "metadata": {},
   "source": [
    "# Ranking correlation"
   ]
  },
  {
   "cell_type": "code",
   "execution_count": null,
   "metadata": {},
   "outputs": [],
   "source": [
    "# This is the participants data, in the Prior condition. \n",
    "# We are filtering LML lower than -10.000, and out of the 5 standardad deviations. Failed GPs have already been filtered\n",
    "lmls_prior_f %>%\n",
    "            filter(lml > -10000) %>%\n",
    "            filter(lml > lo_bound & lml < up_bound) %>%\n",
    "            head"
   ]
  },
  {
   "cell_type": "code",
   "execution_count": 304,
   "metadata": {},
   "outputs": [
    {
     "name": "stderr",
     "output_type": "stream",
     "text": [
      "Parsed with column specification:\n",
      "cols(\n",
      "  scenario = col_character(),\n",
      "  kernel = col_character(),\n",
      "  lml = col_double()\n",
      ")\n"
     ]
    }
   ],
   "source": [
    "# Real world data\n",
    "rwdata <- read_csv(\"data/real-world/to-plot.csv\")"
   ]
  },
  {
   "cell_type": "code",
   "execution_count": null,
   "metadata": {
    "collapsed": true
   },
   "outputs": [],
   "source": []
  }
 ],
 "metadata": {
  "kernelspec": {
   "display_name": "R",
   "language": "R",
   "name": "ir"
  },
  "language_info": {
   "codemirror_mode": "r",
   "file_extension": ".r",
   "mimetype": "text/x-r-source",
   "name": "R",
   "pygments_lexer": "r",
   "version": "3.3.1"
  }
 },
 "nbformat": 4,
 "nbformat_minor": 2
}
