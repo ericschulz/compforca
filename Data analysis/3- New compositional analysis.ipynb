{
 "cells": [
  {
   "cell_type": "markdown",
   "metadata": {},
   "source": [
    "# Libraries"
   ]
  },
  {
   "cell_type": "code",
   "execution_count": 297,
   "metadata": {},
   "outputs": [],
   "source": [
    "source(\"tools.R\")"
   ]
  },
  {
   "cell_type": "markdown",
   "metadata": {},
   "source": [
    "# Prior likelihoods"
   ]
  },
  {
   "cell_type": "markdown",
   "metadata": {},
   "source": [
    "### Preparing the data"
   ]
  },
  {
   "cell_type": "code",
   "execution_count": 298,
   "metadata": {},
   "outputs": [
    {
     "name": "stderr",
     "output_type": "stream",
     "text": [
      "Warning message:\n",
      "\"Missing column names filled in: 'X1' [1]\"Parsed with column specification:\n",
      "cols(\n",
      "  X1 = col_integer(),\n",
      "  id = col_integer(),\n",
      "  pid = col_character(),\n",
      "  scenario = col_character(),\n",
      "  x = col_integer(),\n",
      "  y = col_double()\n",
      ")\n"
     ]
    }
   ],
   "source": [
    "data_prior <- read_csv(\"data/for_composititional_analysis_prior.csv\")\n",
    "\n",
    "dict_prior <- data_prior %>%                        \n",
    "                        group_by(id, pid, scenario) %>%\n",
    "                        summarize()"
   ]
  },
  {
   "cell_type": "code",
   "execution_count": 299,
   "metadata": {},
   "outputs": [
    {
     "name": "stderr",
     "output_type": "stream",
     "text": [
      "Warning message:\n",
      "\"Missing column names filled in: 'X1' [1]\"Parsed with column specification:\n",
      "cols(\n",
      "  X1 = col_integer(),\n",
      "  l = col_double(),\n",
      "  `l*p` = col_double(),\n",
      "  `l*p+r` = col_double(),\n",
      "  `l*r` = col_double(),\n",
      "  `l*r*p` = col_double(),\n",
      "  `l*r+p` = col_double(),\n",
      "  `l+p` = col_double(),\n",
      "  `l+r` = col_double(),\n",
      "  `l+r*p` = col_double(),\n",
      "  `l+r+p` = col_double(),\n",
      "  p = col_double(),\n",
      "  `p*r` = col_double(),\n",
      "  `p+r` = col_double(),\n",
      "  r = col_double()\n",
      ")\n"
     ]
    }
   ],
   "source": [
    "lmls_prior <- read_csv(\"output/lmls_prior.csv\")"
   ]
  },
  {
   "cell_type": "code",
   "execution_count": 300,
   "metadata": {},
   "outputs": [
    {
     "data": {
      "text/html": [
       "<table>\n",
       "<thead><tr><th scope=col>X1</th><th scope=col>l</th><th scope=col>l*p</th><th scope=col>l*p+r</th><th scope=col>l*r</th><th scope=col>l*r*p</th><th scope=col>l*r+p</th><th scope=col>l+p</th><th scope=col>l+r</th><th scope=col>l+r*p</th><th scope=col>l+r+p</th><th scope=col>p</th><th scope=col>p*r</th><th scope=col>p+r</th><th scope=col>r</th></tr></thead>\n",
       "<tbody>\n",
       "\t<tr><td>  1          </td><td> -713.6954   </td><td>-8.438396e-02</td><td>  -146.6802  </td><td>-851.89829   </td><td> -851.89688  </td><td>-322.6189    </td><td>  791.0454   </td><td>821.78723    </td><td>   927.2291  </td><td>-323.47298   </td><td> -323.0216   </td><td>   804.48813 </td><td>-548.3215    </td><td> 792.3592    </td></tr>\n",
       "\t<tr><td> 10          </td><td>-1097.0542   </td><td>-1.097054e+03</td><td>-10196.9489  </td><td> -68.44092   </td><td>-2035.82151  </td><td> 141.9539    </td><td>  148.8720   </td><td>148.07899    </td><td>-10196.9489  </td><td>1468.08628   </td><td> 1537.9242   </td><td>-51685.97435 </td><td>1516.7239    </td><td>1540.7145    </td></tr>\n",
       "\t<tr><td>100          </td><td>-1196.2895   </td><td>-1.196289e+03</td><td>    60.4096  </td><td> -94.76571   </td><td>  -98.14110  </td><td> 815.7817    </td><td> -245.2160   </td><td>899.05122    </td><td>   818.8646  </td><td>  65.02978   </td><td> -761.1522   </td><td>    69.69232 </td><td> 994.7514    </td><td> 855.1832    </td></tr>\n",
       "\t<tr><td>101          </td><td> -884.5586   </td><td>-8.845586e+02</td><td> -2511.4764  </td><td> -21.25770   </td><td>  -21.48428  </td><td>-369.3005    </td><td> -437.5120   </td><td> 90.20008    </td><td>  1129.5959  </td><td>  98.89978   </td><td> -905.7997   </td><td>  1191.32516 </td><td>1159.0688    </td><td>1128.8089    </td></tr>\n",
       "\t<tr><td>102          </td><td>-1428.1828   </td><td>-2.631303e+02</td><td>  -132.9282  </td><td>-266.09369   </td><td>  -60.38163  </td><td>-996.5167    </td><td>-1428.1828   </td><td> 82.70370    </td><td>   169.0308  </td><td>-831.25674   </td><td>-1717.5405   </td><td>  -581.34877 </td><td>-169.7323    </td><td> -39.2825    </td></tr>\n",
       "\t<tr><td>103          </td><td>-1055.6152   </td><td>-1.055620e+03</td><td> -7682.7321  </td><td> -57.30613   </td><td>-2035.23194  </td><td>1579.0880    </td><td>  150.1733   </td><td>150.17337    </td><td> -7682.7321  </td><td> 149.92483   </td><td> -182.1528   </td><td>-33875.75641 </td><td>-175.4362    </td><td>1616.2660    </td></tr>\n",
       "</tbody>\n",
       "</table>\n"
      ],
      "text/latex": [
       "\\begin{tabular}{r|lllllllllllllll}\n",
       " X1 & l & l*p & l*p+r & l*r & l*r*p & l*r+p & l+p & l+r & l+r*p & l+r+p & p & p*r & p+r & r\\\\\n",
       "\\hline\n",
       "\t   1           &  -713.6954    & -8.438396e-02 &   -146.6802   & -851.89829    &  -851.89688   & -322.6189     &   791.0454    & 821.78723     &    927.2291   & -323.47298    &  -323.0216    &    804.48813  & -548.3215     &  792.3592    \\\\\n",
       "\t  10           & -1097.0542    & -1.097054e+03 & -10196.9489   &  -68.44092    & -2035.82151   &  141.9539     &   148.8720    & 148.07899     & -10196.9489   & 1468.08628    &  1537.9242    & -51685.97435  & 1516.7239     & 1540.7145    \\\\\n",
       "\t 100           & -1196.2895    & -1.196289e+03 &     60.4096   &  -94.76571    &   -98.14110   &  815.7817     &  -245.2160    & 899.05122     &    818.8646   &   65.02978    &  -761.1522    &     69.69232  &  994.7514     &  855.1832    \\\\\n",
       "\t 101           &  -884.5586    & -8.845586e+02 &  -2511.4764   &  -21.25770    &   -21.48428   & -369.3005     &  -437.5120    &  90.20008     &   1129.5959   &   98.89978    &  -905.7997    &   1191.32516  & 1159.0688     & 1128.8089    \\\\\n",
       "\t 102           & -1428.1828    & -2.631303e+02 &   -132.9282   & -266.09369    &   -60.38163   & -996.5167     & -1428.1828    &  82.70370     &    169.0308   & -831.25674    & -1717.5405    &   -581.34877  & -169.7323     &  -39.2825    \\\\\n",
       "\t 103           & -1055.6152    & -1.055620e+03 &  -7682.7321   &  -57.30613    & -2035.23194   & 1579.0880     &   150.1733    & 150.17337     &  -7682.7321   &  149.92483    &  -182.1528    & -33875.75641  & -175.4362     & 1616.2660    \\\\\n",
       "\\end{tabular}\n"
      ],
      "text/markdown": [
       "\n",
       "X1 | l | l*p | l*p+r | l*r | l*r*p | l*r+p | l+p | l+r | l+r*p | l+r+p | p | p*r | p+r | r | \n",
       "|---|---|---|---|---|---|\n",
       "|   1           |  -713.6954    | -8.438396e-02 |   -146.6802   | -851.89829    |  -851.89688   | -322.6189     |   791.0454    | 821.78723     |    927.2291   | -323.47298    |  -323.0216    |    804.48813  | -548.3215     |  792.3592     | \n",
       "|  10           | -1097.0542    | -1.097054e+03 | -10196.9489   |  -68.44092    | -2035.82151   |  141.9539     |   148.8720    | 148.07899     | -10196.9489   | 1468.08628    |  1537.9242    | -51685.97435  | 1516.7239     | 1540.7145     | \n",
       "| 100           | -1196.2895    | -1.196289e+03 |     60.4096   |  -94.76571    |   -98.14110   |  815.7817     |  -245.2160    | 899.05122     |    818.8646   |   65.02978    |  -761.1522    |     69.69232  |  994.7514     |  855.1832     | \n",
       "| 101           |  -884.5586    | -8.845586e+02 |  -2511.4764   |  -21.25770    |   -21.48428   | -369.3005     |  -437.5120    |  90.20008     |   1129.5959   |   98.89978    |  -905.7997    |   1191.32516  | 1159.0688     | 1128.8089     | \n",
       "| 102           | -1428.1828    | -2.631303e+02 |   -132.9282   | -266.09369    |   -60.38163   | -996.5167     | -1428.1828    |  82.70370     |    169.0308   | -831.25674    | -1717.5405    |   -581.34877  | -169.7323     |  -39.2825     | \n",
       "| 103           | -1055.6152    | -1.055620e+03 |  -7682.7321   |  -57.30613    | -2035.23194   | 1579.0880     |   150.1733    | 150.17337     |  -7682.7321   |  149.92483    |  -182.1528    | -33875.75641  | -175.4362     | 1616.2660     | \n",
       "\n",
       "\n"
      ],
      "text/plain": [
       "  X1  l          l*p           l*p+r       l*r        l*r*p       l*r+p    \n",
       "1   1  -713.6954 -8.438396e-02   -146.6802 -851.89829  -851.89688 -322.6189\n",
       "2  10 -1097.0542 -1.097054e+03 -10196.9489  -68.44092 -2035.82151  141.9539\n",
       "3 100 -1196.2895 -1.196289e+03     60.4096  -94.76571   -98.14110  815.7817\n",
       "4 101  -884.5586 -8.845586e+02  -2511.4764  -21.25770   -21.48428 -369.3005\n",
       "5 102 -1428.1828 -2.631303e+02   -132.9282 -266.09369   -60.38163 -996.5167\n",
       "6 103 -1055.6152 -1.055620e+03  -7682.7321  -57.30613 -2035.23194 1579.0880\n",
       "  l+p        l+r       l+r*p       l+r+p      p          p*r          p+r      \n",
       "1   791.0454 821.78723    927.2291 -323.47298  -323.0216    804.48813 -548.3215\n",
       "2   148.8720 148.07899 -10196.9489 1468.08628  1537.9242 -51685.97435 1516.7239\n",
       "3  -245.2160 899.05122    818.8646   65.02978  -761.1522     69.69232  994.7514\n",
       "4  -437.5120  90.20008   1129.5959   98.89978  -905.7997   1191.32516 1159.0688\n",
       "5 -1428.1828  82.70370    169.0308 -831.25674 -1717.5405   -581.34877 -169.7323\n",
       "6   150.1733 150.17337  -7682.7321  149.92483  -182.1528 -33875.75641 -175.4362\n",
       "  r        \n",
       "1  792.3592\n",
       "2 1540.7145\n",
       "3  855.1832\n",
       "4 1128.8089\n",
       "5  -39.2825\n",
       "6 1616.2660"
      ]
     },
     "metadata": {},
     "output_type": "display_data"
    }
   ],
   "source": [
    "lmls_prior %>% head"
   ]
  },
  {
   "cell_type": "code",
   "execution_count": 301,
   "metadata": {},
   "outputs": [
    {
     "name": "stderr",
     "output_type": "stream",
     "text": [
      "Parsed with column specification:\n",
      "cols(\n",
      "  cid = col_integer(),\n",
      "  composition = col_character(),\n",
      "  white_added = col_character(),\n",
      "  second_exception = col_character()\n",
      ")\n"
     ]
    }
   ],
   "source": [
    "metadata_prior <- read_csv(\"output/metadata_prior.csv\")"
   ]
  },
  {
   "cell_type": "code",
   "execution_count": 302,
   "metadata": {},
   "outputs": [
    {
     "data": {
      "text/html": [
       "<table>\n",
       "<thead><tr><th scope=col>cid</th><th scope=col>composition</th><th scope=col>white_added</th><th scope=col>second_exception</th></tr></thead>\n",
       "<tbody>\n",
       "\t<tr><td>1    </td><td>l    </td><td>False</td><td>False</td></tr>\n",
       "\t<tr><td>1    </td><td>p    </td><td>False</td><td>False</td></tr>\n",
       "\t<tr><td>1    </td><td>r    </td><td>False</td><td>False</td></tr>\n",
       "\t<tr><td>1    </td><td>l+p  </td><td>False</td><td>False</td></tr>\n",
       "\t<tr><td>1    </td><td>l+r  </td><td>False</td><td>False</td></tr>\n",
       "\t<tr><td>1    </td><td>p+r  </td><td>False</td><td>False</td></tr>\n",
       "</tbody>\n",
       "</table>\n"
      ],
      "text/latex": [
       "\\begin{tabular}{r|llll}\n",
       " cid & composition & white\\_added & second\\_exception\\\\\n",
       "\\hline\n",
       "\t 1     & l     & False & False\\\\\n",
       "\t 1     & p     & False & False\\\\\n",
       "\t 1     & r     & False & False\\\\\n",
       "\t 1     & l+p   & False & False\\\\\n",
       "\t 1     & l+r   & False & False\\\\\n",
       "\t 1     & p+r   & False & False\\\\\n",
       "\\end{tabular}\n"
      ],
      "text/markdown": [
       "\n",
       "cid | composition | white_added | second_exception | \n",
       "|---|---|---|---|---|---|\n",
       "| 1     | l     | False | False | \n",
       "| 1     | p     | False | False | \n",
       "| 1     | r     | False | False | \n",
       "| 1     | l+p   | False | False | \n",
       "| 1     | l+r   | False | False | \n",
       "| 1     | p+r   | False | False | \n",
       "\n",
       "\n"
      ],
      "text/plain": [
       "  cid composition white_added second_exception\n",
       "1 1   l           False       False           \n",
       "2 1   p           False       False           \n",
       "3 1   r           False       False           \n",
       "4 1   l+p         False       False           \n",
       "5 1   l+r         False       False           \n",
       "6 1   p+r         False       False           "
      ]
     },
     "metadata": {},
     "output_type": "display_data"
    }
   ],
   "source": [
    "metadata_prior %>% head"
   ]
  },
  {
   "cell_type": "code",
   "execution_count": 303,
   "metadata": {},
   "outputs": [],
   "source": [
    "metadata_prior <- metadata_prior %>%\n",
    "                        mutate( cid_composition = paste0(cid, composition) )"
   ]
  },
  {
   "cell_type": "code",
   "execution_count": 304,
   "metadata": {
    "collapsed": true
   },
   "outputs": [],
   "source": [
    "metadata_prior$pid <- NULL\n",
    "metadata_prior$composition <- NULL"
   ]
  },
  {
   "cell_type": "code",
   "execution_count": 305,
   "metadata": {},
   "outputs": [],
   "source": [
    "kernels <- c(\"l\", \"p\", \"r\", \"l+p\", \"l+r\", \"p+r\", \"l*r\", \"l*p\", \"p*r\", \"l+r+p\", \"l+r*p\", \"l*r+p\", \"l*p+r\", \"l*r*p\")\n",
    "\n",
    "lmls_prior<- lmls_prior %>% \n",
    "                gather(kernel, lml, kernels)\n",
    "\n",
    "colnames(lmls_prior) = c('id', 'kernel', 'lml')\n",
    "\n",
    "lmls_prior <- merge(x = lmls_prior, y = dict_prior, by = c(\"id\", \"id\"), all.x = TRUE)"
   ]
  },
  {
   "cell_type": "code",
   "execution_count": 306,
   "metadata": {
    "collapsed": true
   },
   "outputs": [],
   "source": [
    "lmls_prior <- lmls_prior %>%\n",
    "                        mutate( cid_composition = paste0(id, kernel) )"
   ]
  },
  {
   "cell_type": "markdown",
   "metadata": {},
   "source": [
    "Joining"
   ]
  },
  {
   "cell_type": "code",
   "execution_count": 307,
   "metadata": {},
   "outputs": [],
   "source": [
    "lmls_prior <- merge(x = lmls_prior, y = metadata_prior, by = c(\"cid_composition\", \"cid_composition\"), all.x = TRUE)"
   ]
  },
  {
   "cell_type": "code",
   "execution_count": 308,
   "metadata": {
    "collapsed": true
   },
   "outputs": [],
   "source": [
    "lmls_prior$cid_composition <- NULL"
   ]
  },
  {
   "cell_type": "markdown",
   "metadata": {},
   "source": [
    "Analizing"
   ]
  },
  {
   "cell_type": "code",
   "execution_count": 309,
   "metadata": {},
   "outputs": [
    {
     "data": {
      "text/html": [
       "2756"
      ],
      "text/latex": [
       "2756"
      ],
      "text/markdown": [
       "2756"
      ],
      "text/plain": [
       "[1] 2756"
      ]
     },
     "metadata": {},
     "output_type": "display_data"
    },
    {
     "data": {
      "text/html": [
       "7240"
      ],
      "text/latex": [
       "7240"
      ],
      "text/markdown": [
       "7240"
      ],
      "text/plain": [
       "[1] 7240"
      ]
     },
     "metadata": {},
     "output_type": "display_data"
    },
    {
     "data": {
      "text/html": [
       "9996"
      ],
      "text/latex": [
       "9996"
      ],
      "text/markdown": [
       "9996"
      ],
      "text/plain": [
       "[1] 9996"
      ]
     },
     "metadata": {},
     "output_type": "display_data"
    }
   ],
   "source": [
    "lmls_prior %>%\n",
    "    filter(white_added == 'True') %>%\n",
    "    nrow\n",
    "\n",
    "lmls_prior %>%\n",
    "    filter(white_added == 'False') %>%\n",
    "    nrow\n",
    "\n",
    "lmls_prior %>%\n",
    "    nrow"
   ]
  },
  {
   "cell_type": "code",
   "execution_count": 310,
   "metadata": {},
   "outputs": [
    {
     "data": {
      "text/html": [
       "500"
      ],
      "text/latex": [
       "500"
      ],
      "text/markdown": [
       "500"
      ],
      "text/plain": [
       "[1] 500"
      ]
     },
     "metadata": {},
     "output_type": "display_data"
    },
    {
     "data": {
      "text/html": [
       "9496"
      ],
      "text/latex": [
       "9496"
      ],
      "text/markdown": [
       "9496"
      ],
      "text/plain": [
       "[1] 9496"
      ]
     },
     "metadata": {},
     "output_type": "display_data"
    },
    {
     "data": {
      "text/html": [
       "9996"
      ],
      "text/latex": [
       "9996"
      ],
      "text/markdown": [
       "9996"
      ],
      "text/plain": [
       "[1] 9996"
      ]
     },
     "metadata": {},
     "output_type": "display_data"
    }
   ],
   "source": [
    "lmls_prior %>%\n",
    "    filter(second_exception == 'True') %>%\n",
    "    nrow\n",
    "\n",
    "lmls_prior %>%\n",
    "    filter(second_exception == 'False') %>%\n",
    "    nrow\n",
    "\n",
    "lmls_prior %>%\n",
    "    nrow"
   ]
  },
  {
   "cell_type": "code",
   "execution_count": 315,
   "metadata": {},
   "outputs": [
    {
     "data": {
      "text/html": [
       "'5.15%'"
      ],
      "text/latex": [
       "'5.15\\%'"
      ],
      "text/markdown": [
       "'5.15%'"
      ],
      "text/plain": [
       "[1] \"5.15%\""
      ]
     },
     "metadata": {},
     "output_type": "display_data"
    }
   ],
   "source": [
    "paste0(round((lmls_prior %>%\n",
    "            filter(lml == -999999999 | second_exception == 'True') %>%\n",
    "            nrow) / (lmls_prior %>% nrow) * 100, 2), '%')"
   ]
  },
  {
   "cell_type": "code",
   "execution_count": 290,
   "metadata": {},
   "outputs": [
    {
     "data": {
      "text/html": [
       "113"
      ],
      "text/latex": [
       "113"
      ],
      "text/markdown": [
       "113"
      ],
      "text/plain": [
       "[1] 113"
      ]
     },
     "metadata": {},
     "output_type": "display_data"
    }
   ],
   "source": [
    "lmls_prior %>%\n",
    "    filter(second_exception == 'True') %>% \n",
    "    distinct(pid) %>%\n",
    "    nrow"
   ]
  },
  {
   "cell_type": "markdown",
   "metadata": {},
   "source": [
    "### Summarising"
   ]
  },
  {
   "cell_type": "code",
   "execution_count": 334,
   "metadata": {},
   "outputs": [],
   "source": [
    "lmls_prior_f <- lmls_prior %>%\n",
    "                    filter(second_exception == 'False' & lml != -999999999) %>%\n",
    "                    group_by(pid, scenario) %>%\n",
    "                    mutate(lml_minus_min = lml - min(lml),\n",
    "                           lml_standard = lml_minus_min / (max(lml_minus_min) - min (lml_minus_min)))"
   ]
  },
  {
   "cell_type": "code",
   "execution_count": 335,
   "metadata": {},
   "outputs": [
    {
     "data": {
      "text/html": [
       "<table>\n",
       "<thead><tr><th scope=col>id</th><th scope=col>kernel</th><th scope=col>lml</th><th scope=col>pid</th><th scope=col>scenario</th><th scope=col>cid</th><th scope=col>white_added</th><th scope=col>second_exception</th><th scope=col>lml_minus_min</th><th scope=col>lml_standard</th></tr></thead>\n",
       "<tbody>\n",
       "\t<tr><td>100         </td><td>l           </td><td>-1196.28948 </td><td>a017        </td><td>Gym members </td><td>100         </td><td>False       </td><td>False       </td><td>7.786741e-06</td><td>3.553901e-09</td></tr>\n",
       "\t<tr><td>100         </td><td>l*p         </td><td>-1196.28948 </td><td>a017        </td><td>Gym members </td><td>100         </td><td>False       </td><td>False       </td><td>0.000000e+00</td><td>0.000000e+00</td></tr>\n",
       "\t<tr><td>100         </td><td>l*p+r       </td><td>   60.40960 </td><td>a017        </td><td>Gym members </td><td>100         </td><td>True        </td><td>False       </td><td>1.256699e+03</td><td>5.735626e-01</td></tr>\n",
       "\t<tr><td>100         </td><td>l*r         </td><td>  -94.76571 </td><td>a017        </td><td>Gym members </td><td>100         </td><td>True        </td><td>False       </td><td>1.101524e+03</td><td>5.027399e-01</td></tr>\n",
       "\t<tr><td>100         </td><td>l*r*p       </td><td>  -98.14110 </td><td>a017        </td><td>Gym members </td><td>100         </td><td>True        </td><td>False       </td><td>1.098148e+03</td><td>5.011994e-01</td></tr>\n",
       "\t<tr><td>100         </td><td>l*r+p       </td><td>  815.78171 </td><td>a017        </td><td>Gym members </td><td>100         </td><td>False       </td><td>False       </td><td>2.012071e+03</td><td>9.183175e-01</td></tr>\n",
       "</tbody>\n",
       "</table>\n"
      ],
      "text/latex": [
       "\\begin{tabular}{r|llllllllll}\n",
       " id & kernel & lml & pid & scenario & cid & white\\_added & second\\_exception & lml\\_minus\\_min & lml\\_standard\\\\\n",
       "\\hline\n",
       "\t 100          & l            & -1196.28948  & a017         & Gym members  & 100          & False        & False        & 7.786741e-06 & 3.553901e-09\\\\\n",
       "\t 100          & l*p          & -1196.28948  & a017         & Gym members  & 100          & False        & False        & 0.000000e+00 & 0.000000e+00\\\\\n",
       "\t 100          & l*p+r        &    60.40960  & a017         & Gym members  & 100          & True         & False        & 1.256699e+03 & 5.735626e-01\\\\\n",
       "\t 100          & l*r          &   -94.76571  & a017         & Gym members  & 100          & True         & False        & 1.101524e+03 & 5.027399e-01\\\\\n",
       "\t 100          & l*r*p        &   -98.14110  & a017         & Gym members  & 100          & True         & False        & 1.098148e+03 & 5.011994e-01\\\\\n",
       "\t 100          & l*r+p        &   815.78171  & a017         & Gym members  & 100          & False        & False        & 2.012071e+03 & 9.183175e-01\\\\\n",
       "\\end{tabular}\n"
      ],
      "text/markdown": [
       "\n",
       "id | kernel | lml | pid | scenario | cid | white_added | second_exception | lml_minus_min | lml_standard | \n",
       "|---|---|---|---|---|---|\n",
       "| 100          | l            | -1196.28948  | a017         | Gym members  | 100          | False        | False        | 7.786741e-06 | 3.553901e-09 | \n",
       "| 100          | l*p          | -1196.28948  | a017         | Gym members  | 100          | False        | False        | 0.000000e+00 | 0.000000e+00 | \n",
       "| 100          | l*p+r        |    60.40960  | a017         | Gym members  | 100          | True         | False        | 1.256699e+03 | 5.735626e-01 | \n",
       "| 100          | l*r          |   -94.76571  | a017         | Gym members  | 100          | True         | False        | 1.101524e+03 | 5.027399e-01 | \n",
       "| 100          | l*r*p        |   -98.14110  | a017         | Gym members  | 100          | True         | False        | 1.098148e+03 | 5.011994e-01 | \n",
       "| 100          | l*r+p        |   815.78171  | a017         | Gym members  | 100          | False        | False        | 2.012071e+03 | 9.183175e-01 | \n",
       "\n",
       "\n"
      ],
      "text/plain": [
       "  id  kernel lml         pid  scenario    cid white_added second_exception\n",
       "1 100 l      -1196.28948 a017 Gym members 100 False       False           \n",
       "2 100 l*p    -1196.28948 a017 Gym members 100 False       False           \n",
       "3 100 l*p+r     60.40960 a017 Gym members 100 True        False           \n",
       "4 100 l*r      -94.76571 a017 Gym members 100 True        False           \n",
       "5 100 l*r*p    -98.14110 a017 Gym members 100 True        False           \n",
       "6 100 l*r+p    815.78171 a017 Gym members 100 False       False           \n",
       "  lml_minus_min lml_standard\n",
       "1 7.786741e-06  3.553901e-09\n",
       "2 0.000000e+00  0.000000e+00\n",
       "3 1.256699e+03  5.735626e-01\n",
       "4 1.101524e+03  5.027399e-01\n",
       "5 1.098148e+03  5.011994e-01\n",
       "6 2.012071e+03  9.183175e-01"
      ]
     },
     "metadata": {},
     "output_type": "display_data"
    }
   ],
   "source": [
    "lmls_prior_f %>% head"
   ]
  },
  {
   "cell_type": "code",
   "execution_count": 336,
   "metadata": {
    "collapsed": true
   },
   "outputs": [],
   "source": [
    "plot_lmls <- function(prop_data, title, hide_x=FALSE, hide_y=FALSE) {\n",
    "    plot <- prop_data %>%\n",
    "                ggplot(aes(x=kernel, y=value)) + \n",
    "                    geom_bar(stat=\"identity\") +\n",
    "                    #ylim(0, 0.5) +\n",
    "                    #coord_cartesian (ylim=c(-1.2,1.0)) +\n",
    "                    labs(title = title) +\n",
    "                    ggthemes::theme_few() +\n",
    "                    xlab(\"Kernel composition\") + \n",
    "                    #ylab(\"Mean Standardized\\nLog Likelihood\") +\n",
    "                    geom_errorbar(aes(ymin=as.numeric(lo_ci), ymax=as.numeric(hi_ci)),\n",
    "                                      width=.3,                   \n",
    "                                      position=position_dodge(.9)) +\n",
    "                    theme(axis.text.x = element_text(angle = 90,  vjust = 0.5, hjust=0),\n",
    "                          text = element_text(size=12, family=\"serif\"),\n",
    "                          plot.title = element_text(hjust = 0.5))\n",
    "    \n",
    "    if(hide_x){\n",
    "        plot <- plot + theme(axis.title.x=element_blank())\n",
    "    }\n",
    "    if(hide_y){\n",
    "        plot <- plot + theme(axis.title.y=element_blank())\n",
    "    }\n",
    "    \n",
    "    return(plot)\n",
    "}"
   ]
  },
  {
   "cell_type": "markdown",
   "metadata": {},
   "source": [
    "### Plots"
   ]
  },
  {
   "cell_type": "code",
   "execution_count": 337,
   "metadata": {},
   "outputs": [
    {
     "data": {
      "text/html": [
       "<strong>png:</strong> 2"
      ],
      "text/latex": [
       "\\textbf{png:} 2"
      ],
      "text/markdown": [
       "**png:** 2"
      ],
      "text/plain": [
       "png \n",
       "  2 "
      ]
     },
     "metadata": {},
     "output_type": "display_data"
    }
   ],
   "source": [
    "# Plotting data\n",
    "to_plot<- lmls_prior_f %>% \n",
    "            group_by(kernel, scenario) %>%\n",
    "            summarize(value = mean(lml_standard),\n",
    "                      lo_ci = t.test(lml_standard, conf.level=0.95)$conf.int[1],\n",
    "                      hi_ci = t.test(lml_standard, conf.level=0.95)$conf.int[2])\n",
    "\n",
    "# Plotting magic\n",
    "to_plot$kernel <- factor(to_plot$kernel, levels=kernels)\n",
    "\n",
    "lmls_temperature <- to_plot %>% filter(scenario == \"Temperature\")\n",
    "lmls_rain <- to_plot %>% filter(scenario == \"Rain\")\n",
    "lmls_sales <- to_plot %>% filter(scenario == \"Sales\")\n",
    "lmls_gym <- to_plot %>% filter(scenario == \"Gym members\")\n",
    "lmls_salary <- to_plot %>% filter(scenario == \"Salary\")\n",
    "lmls_fb <- to_plot %>% filter(scenario == \"FB Friends\")\n",
    "\n",
    "p1 <- plot_lmls(lmls_temperature, \"Temperature\", hide_x=TRUE)\n",
    "p2 <- plot_lmls(lmls_rain, \"Rain\", hide_x=TRUE)\n",
    "p3 <- plot_lmls(lmls_sales, \"Sales\", hide_x=TRUE, hide_y=TRUE)\n",
    "p4 <- plot_lmls(lmls_gym, \"Gym members\", hide_y=TRUE, hide_x=TRUE)\n",
    "p5 <- plot_lmls(lmls_salary, \"Salary\", hide_x=TRUE, hide_y=TRUE)\n",
    "p6 <- plot_lmls(lmls_fb, \"FB Friends\", hide_y=TRUE, hide_x=TRUE)\n",
    "\n",
    "svg(\"Images/part_2/kernels_priors_lmls.svg\", width=8, height=4)\n",
    "multiplot(p1, p2, p3, p4, p5, p6, cols=3)\n",
    "dev.off()"
   ]
  },
  {
   "cell_type": "code",
   "execution_count": 329,
   "metadata": {},
   "outputs": [
    {
     "data": {
      "text/html": [
       "<strong>png:</strong> 2"
      ],
      "text/latex": [
       "\\textbf{png:} 2"
      ],
      "text/markdown": [
       "**png:** 2"
      ],
      "text/plain": [
       "png \n",
       "  2 "
      ]
     },
     "metadata": {},
     "output_type": "display_data"
    }
   ],
   "source": [
    "# Plotting data\n",
    "to_plot<- lmls_prior_f %>% \n",
    "            group_by(kernel, scenario) %>%\n",
    "            summarize(value = mean(lml),\n",
    "                      lo_ci = t.test(lml, conf.level=0.95)$conf.int[1],\n",
    "                      hi_ci = t.test(lml, conf.level=0.95)$conf.int[2])\n",
    "\n",
    "# Plotting magic\n",
    "to_plot$kernel <- factor(to_plot$kernel, levels=kernels)\n",
    "\n",
    "lmls_temperature <- to_plot %>% filter(scenario == \"Temperature\")\n",
    "lmls_rain <- to_plot %>% filter(scenario == \"Rain\")\n",
    "lmls_sales <- to_plot %>% filter(scenario == \"Sales\")\n",
    "lmls_gym <- to_plot %>% filter(scenario == \"Gym members\")\n",
    "lmls_salary <- to_plot %>% filter(scenario == \"Salary\")\n",
    "lmls_fb <- to_plot %>% filter(scenario == \"FB Friends\")\n",
    "\n",
    "p1 <- plot_lmls(lmls_temperature, \"Temperature\", hide_x=TRUE)\n",
    "p2 <- plot_lmls(lmls_rain, \"Rain\", hide_x=TRUE)\n",
    "p3 <- plot_lmls(lmls_sales, \"Sales\", hide_x=TRUE, hide_y=TRUE)\n",
    "p4 <- plot_lmls(lmls_gym, \"Gym members\", hide_y=TRUE, hide_x=TRUE)\n",
    "p5 <- plot_lmls(lmls_salary, \"Salary\", hide_x=TRUE, hide_y=TRUE)\n",
    "p6 <- plot_lmls(lmls_fb, \"FB Friends\", hide_y=TRUE, hide_x=TRUE)\n",
    "\n",
    "svg(\"Images/part_2/kernels_priors_lmls_2.svg\", width=8, height=4)\n",
    "multiplot(p1, p2, p3, p4, p5, p6, cols=3)\n",
    "dev.off()"
   ]
  },
  {
   "cell_type": "markdown",
   "metadata": {},
   "source": [
    "# Real-world data"
   ]
  },
  {
   "cell_type": "code",
   "execution_count": null,
   "metadata": {
    "collapsed": true
   },
   "outputs": [],
   "source": []
  }
 ],
 "metadata": {
  "kernelspec": {
   "display_name": "R",
   "language": "R",
   "name": "ir"
  },
  "language_info": {
   "codemirror_mode": "r",
   "file_extension": ".r",
   "mimetype": "text/x-r-source",
   "name": "R",
   "pygments_lexer": "r",
   "version": "3.3.1"
  }
 },
 "nbformat": 4,
 "nbformat_minor": 2
}
