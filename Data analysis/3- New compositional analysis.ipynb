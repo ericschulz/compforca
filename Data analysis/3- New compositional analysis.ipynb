{
 "cells": [
  {
   "cell_type": "markdown",
   "metadata": {},
   "source": [
    "# Libraries"
   ]
  },
  {
   "cell_type": "code",
   "execution_count": 357,
   "metadata": {
    "collapsed": true
   },
   "outputs": [],
   "source": [
    "source(\"tools.R\")\n",
    "library('DescTools')"
   ]
  },
  {
   "cell_type": "markdown",
   "metadata": {},
   "source": [
    "# Plotting function"
   ]
  },
  {
   "cell_type": "code",
   "execution_count": 358,
   "metadata": {
    "collapsed": true
   },
   "outputs": [],
   "source": [
    "plot_lmls <- function(prop_data, title, real_world_data=c(), hide_x=FALSE, hide_y=FALSE) {\n",
    "    \n",
    "    # Real world data\n",
    "    #points_data <- real_world_data %>% filter(scenario == title)\n",
    "    #min_pd <- min(points_data$value)\n",
    "    #max_pd <- max(points_data$value)\n",
    "    #points_data <- points_data %>% filter(value == max_pd)\n",
    "    \n",
    "    plot <- prop_data %>%\n",
    "                ggplot(aes(x=kernel, y=value)) + \n",
    "                    geom_bar(stat=\"identity\") +\n",
    "                    coord_cartesian (ylim=c(0, 1)) +\n",
    "                    labs(title = title) +\n",
    "                    ggthemes::theme_few() +\n",
    "                    xlab(\"Kernel composition\") + \n",
    "                    ylab(\"Mean likelihood (scaled)\") +\n",
    "                    geom_errorbar(aes(ymin=as.numeric(lo_ci), ymax=as.numeric(hi_ci)),\n",
    "                                      width=.3,                   \n",
    "                                      position=position_dodge(.9)) +\n",
    "                    theme(axis.text.x = element_text(angle = 90,  vjust = 0.5, hjust=0),\n",
    "                          text = element_text(size=12, family=\"serif\"),\n",
    "                          plot.title = element_text(hjust = 0.5))# +\n",
    "    \n",
    "                    #Points (real-world data)\n",
    "                    #geom_point(data=points_data, aes(y=value, x=kernel, group=kernel),\n",
    "                    #               stat=\"identity\", size=3, color=\"red\", shape=18)\n",
    "    \n",
    "    if(hide_x){\n",
    "        plot <- plot + theme(axis.title.x=element_blank())\n",
    "    }\n",
    "    if(hide_y){\n",
    "        plot <- plot + theme(axis.title.y=element_blank())\n",
    "    }\n",
    "    \n",
    "    return(plot)\n",
    "}"
   ]
  },
  {
   "cell_type": "code",
   "execution_count": 308,
   "metadata": {
    "collapsed": true
   },
   "outputs": [],
   "source": [
    "# Misc functions\n",
    "scenarios_order <- function (scenarios) {\n",
    "    scenarios[scenarios=='Temperature'] = 1\n",
    "    scenarios[scenarios=='Rain']        = 2\n",
    "    scenarios[scenarios=='Sales']       = 3\n",
    "    scenarios[scenarios=='Gym members'] = 4\n",
    "    scenarios[scenarios=='Salary']      = 5\n",
    "    scenarios[scenarios=='FB friends']  = 6\n",
    "    \n",
    "    return(scenarios)\n",
    "}"
   ]
  },
  {
   "cell_type": "markdown",
   "metadata": {},
   "source": [
    "# Prior likelihoods"
   ]
  },
  {
   "cell_type": "markdown",
   "metadata": {},
   "source": [
    "### Preparing the data"
   ]
  },
  {
   "cell_type": "code",
   "execution_count": 309,
   "metadata": {},
   "outputs": [
    {
     "name": "stderr",
     "output_type": "stream",
     "text": [
      "Warning message:\n",
      "\"Missing column names filled in: 'X1' [1]\"Parsed with column specification:\n",
      "cols(\n",
      "  X1 = col_integer(),\n",
      "  id = col_integer(),\n",
      "  pid = col_character(),\n",
      "  scenario = col_character(),\n",
      "  x = col_integer(),\n",
      "  y = col_double()\n",
      ")\n"
     ]
    }
   ],
   "source": [
    "data_prior <- read_csv(\"data/for_composititional_analysis_prior.csv\")\n",
    "\n",
    "dict_prior <- data_prior %>%                        \n",
    "                        group_by(id, pid, scenario) %>%\n",
    "                        summarize()"
   ]
  },
  {
   "cell_type": "code",
   "execution_count": 310,
   "metadata": {},
   "outputs": [
    {
     "name": "stderr",
     "output_type": "stream",
     "text": [
      "Warning message:\n",
      "\"Missing column names filled in: 'X1' [1]\"Parsed with column specification:\n",
      "cols(\n",
      "  X1 = col_integer(),\n",
      "  l = col_double(),\n",
      "  `l*p` = col_double(),\n",
      "  `l*p+r` = col_double(),\n",
      "  `l*r` = col_double(),\n",
      "  `l*r*p` = col_double(),\n",
      "  `l*r+p` = col_double(),\n",
      "  `l+p` = col_double(),\n",
      "  `l+r` = col_double(),\n",
      "  `l+r*p` = col_double(),\n",
      "  `l+r+p` = col_double(),\n",
      "  p = col_double(),\n",
      "  `p*r` = col_double(),\n",
      "  `p+r` = col_double(),\n",
      "  r = col_double()\n",
      ")\n"
     ]
    }
   ],
   "source": [
    "lmls_prior <- read_csv(\"output/lmls_prior.csv\")"
   ]
  },
  {
   "cell_type": "code",
   "execution_count": 311,
   "metadata": {},
   "outputs": [
    {
     "name": "stderr",
     "output_type": "stream",
     "text": [
      "Parsed with column specification:\n",
      "cols(\n",
      "  cid = col_integer(),\n",
      "  composition = col_character(),\n",
      "  white_added = col_character(),\n",
      "  second_exception = col_character()\n",
      ")\n"
     ]
    }
   ],
   "source": [
    "metadata_prior <- read_csv(\"output/metadata_prior.csv\")"
   ]
  },
  {
   "cell_type": "code",
   "execution_count": 312,
   "metadata": {
    "collapsed": true
   },
   "outputs": [],
   "source": [
    "metadata_prior <- metadata_prior %>%\n",
    "                        mutate( cid_composition = paste0(cid, composition) )\n",
    "\n",
    "metadata_prior$pid <- NULL\n",
    "metadata_prior$composition <- NULL\n",
    "\n",
    "kernels <- c(\"l\", \"p\", \"r\", \"l+p\", \"l+r\", \"p+r\", \"l*r\", \"l*p\", \"p*r\", \"l+r+p\", \"l+r*p\", \"l*r+p\", \"l*p+r\", \"l*r*p\")\n",
    "\n",
    "lmls_prior<- lmls_prior %>% \n",
    "                gather(kernel, lml, kernels)\n",
    "\n",
    "colnames(lmls_prior) = c('id', 'kernel', 'lml')\n",
    "\n",
    "lmls_prior <- merge(x = lmls_prior, y = dict_prior, by = c(\"id\", \"id\"), all.x = TRUE)\n",
    "\n",
    "lmls_prior <- lmls_prior %>%\n",
    "                        mutate( cid_composition = paste0(id, kernel) )\n",
    "\n",
    "# Joining\n",
    "lmls_prior <- merge(x = lmls_prior, y = metadata_prior, by = c(\"cid_composition\", \"cid_composition\"), all.x = TRUE)\n",
    "lmls_prior$cid_composition <- NULL"
   ]
  },
  {
   "cell_type": "markdown",
   "metadata": {},
   "source": [
    "### Counting\n",
    "Percentage of GPs that were filtered out (by any reason)"
   ]
  },
  {
   "cell_type": "code",
   "execution_count": 313,
   "metadata": {},
   "outputs": [
    {
     "data": {
      "text/html": [
       "'6.53%'"
      ],
      "text/latex": [
       "'6.53\\%'"
      ],
      "text/markdown": [
       "'6.53%'"
      ],
      "text/plain": [
       "[1] \"6.53%\""
      ]
     },
     "metadata": {},
     "output_type": "display_data"
    }
   ],
   "source": [
    "paste0(round((lmls_prior %>%\n",
    "            filter(lml == -999999999 | second_exception == 'True') %>%\n",
    "            filter(kernel != 'l', kernel != 'p', kernel != 'r') %>%\n",
    "            nrow) / \n",
    "(lmls_prior %>% \n",
    "     filter(kernel != 'l', kernel != 'p', kernel != 'r') %>%\n",
    "     nrow) * 100, 2), '%')"
   ]
  },
  {
   "cell_type": "markdown",
   "metadata": {},
   "source": [
    "### Summarising and plotting"
   ]
  },
  {
   "cell_type": "code",
   "execution_count": 314,
   "metadata": {
    "collapsed": true
   },
   "outputs": [],
   "source": [
    "# Removes the GPs that failed to be optimized in the second time. The lmls that failed to be optimized are also removed.\n",
    "#Finaly, the lml_standard is calculated\n",
    "lmls_prior_f <- lmls_prior %>%\n",
    "                    filter(second_exception == 'False' & lml != -999999999) %>%\n",
    "                    group_by(pid, scenario) %>%\n",
    "                    mutate(lml_minus_min = lml - min(lml),\n",
    "                           lml_standard = lml_minus_min / (max(lml_minus_min) - min (lml_minus_min)))\n",
    "\n",
    "sds <- lmls_prior_f %>% \n",
    "            group_by(kernel, scenario) %>%\n",
    "            summarize(lo_bound = mean(lml) - 5*sd(lml), up_bound = mean(lml) + 5*sd(lml))\n",
    "\n",
    "sds$ks <- paste0(sds$kernel, sds$scenario)\n",
    "\n",
    "lmls_prior_f$ks <- paste0(lmls_prior_f$kernel, lmls_prior_f$scenario)\n",
    "\n",
    "sds$kernel <- NULL\n",
    "sds$scenario <- NULL\n",
    "\n",
    "lmls_prior_f <- merge(x = lmls_prior_f, y = sds, by = \"ks\", all.x = TRUE)"
   ]
  },
  {
   "cell_type": "code",
   "execution_count": 315,
   "metadata": {},
   "outputs": [
    {
     "name": "stderr",
     "output_type": "stream",
     "text": [
      "Parsed with column specification:\n",
      "cols(\n",
      "  scenario = col_character(),\n",
      "  kernel = col_character(),\n",
      "  lml = col_double()\n",
      ")\n"
     ]
    }
   ],
   "source": [
    "normalize_bool = FALSE\n",
    "plot_bool      = FALSE\n",
    "\n",
    "to_plot_prior <- lmls_prior_f %>% \n",
    "            filter(lml > -10000) %>%\n",
    "            filter(lml > lo_bound & lml < up_bound) %>%\n",
    "            group_by(kernel, scenario) %>%\n",
    "            summarize(value = mean(lml),\n",
    "                      lo_ci = MeanCI(lml, method=\"boot\", type=\"norm\", na.rm=TRUE)['lwr.ci'],\n",
    "                      hi_ci = MeanCI(lml, method=\"boot\", type=\"norm\", na.rm=TRUE)['upr.ci'])\n",
    "\n",
    "# Remove single components\n",
    "to_plot_prior <- to_plot_prior %>%\n",
    "                filter(kernel != 'l', kernel != 'p', kernel != 'r')\n",
    "\n",
    "# Scaling the 'data to plot' to a 0-1 range\n",
    "min_v = min(to_plot_prior$value)\n",
    "range_v = max(to_plot_prior$value) - min(to_plot_prior$value)\n",
    "\n",
    "if(normalize_bool) {\n",
    "    #Normalization\n",
    "    to_plot_prior <- to_plot_prior %>%\n",
    "                    group_by( scenario ) %>%\n",
    "                    mutate( lo_ci = (lo_ci - min(value)) / (max(value) - min(value)),\n",
    "                            hi_ci = (hi_ci - min(value)) / (max(value) - min(value)),  \n",
    "                            value = (value - min(value)) / (max(value) - min(value)))\n",
    "}\n",
    "\n",
    "# Plotting magic\n",
    "to_plot_prior$kernel <- factor(to_plot_prior$kernel, levels=kernels)\n",
    "\n",
    "lmls_temperature <- to_plot_prior %>% filter(scenario == \"Temperature\")\n",
    "lmls_rain <- to_plot_prior %>% filter(scenario == \"Rain\")\n",
    "lmls_sales <- to_plot_prior %>% filter(scenario == \"Sales\")\n",
    "lmls_gym <- to_plot_prior %>% filter(scenario == \"Gym members\")\n",
    "lmls_salary <- to_plot_prior %>% filter(scenario == \"Salary\")\n",
    "lmls_fb <- to_plot_prior %>% filter(scenario == \"FB Friends\")\n",
    "\n",
    "# Real-world data\n",
    "rwdata <- read_csv(\"data/real-world/to-plot.csv\")\n",
    "\n",
    "rwdata <- rwdata %>%\n",
    "    filter(kernel != 'l', kernel != 'p', kernel != 'r') %>%\n",
    "    group_by(scenario) %>%\n",
    "    mutate(value = (lml - min(lml)) / (max(lml) - min(lml)))\n",
    "\n",
    "\n",
    "if (plot_bool) {\n",
    "    # Plots\n",
    "    p1 <- plot_lmls( lmls_temperature, \"Temperature\", real_world_data=rwdata, hide_x=TRUE)\n",
    "    p2 <- plot_lmls( lmls_rain,        \"Rain\",        real_world_data=rwdata, hide_x=TRUE)\n",
    "    p3 <- plot_lmls( lmls_sales,       \"Sales\",       real_world_data=rwdata, hide_x=TRUE, hide_y=TRUE)\n",
    "    p4 <- plot_lmls( lmls_gym,         \"Gym members\", real_world_data=rwdata, hide_x=TRUE, hide_y=TRUE)\n",
    "    p5 <- plot_lmls( lmls_salary,      \"Salary\",      real_world_data=rwdata, hide_x=TRUE, hide_y=TRUE)\n",
    "    p6 <- plot_lmls( lmls_fb,          \"FB Friends\",  real_world_data=rwdata, hide_x=TRUE, hide_y=TRUE)\n",
    "\n",
    "    pdf(\"Images/paper_images/kernels_priors_lmls_5sd_over-10k.pdf\", width=8, height=4)\n",
    "    multiplot(p1, p2, p3, p4, p5, p6, cols=3)\n",
    "    dev.off()   \n",
    "}"
   ]
  },
  {
   "cell_type": "markdown",
   "metadata": {},
   "source": [
    "### Prior condition. Best performing kernel compositions:"
   ]
  },
  {
   "cell_type": "code",
   "execution_count": 316,
   "metadata": {},
   "outputs": [
    {
     "data": {
      "text/html": [
       "<table>\n",
       "<thead><tr><th scope=col>scenario</th><th scope=col>kernel[which.max(value)]</th><th scope=col>value[which.max(value)]</th></tr></thead>\n",
       "<tbody>\n",
       "\t<tr><td>Temperature</td><td>p*r        </td><td> 443.1288  </td></tr>\n",
       "\t<tr><td>Rain       </td><td>l+r*p      </td><td> 213.3836  </td></tr>\n",
       "\t<tr><td>Sales      </td><td>l+r        </td><td>-881.9682  </td></tr>\n",
       "\t<tr><td>Gym members</td><td>p+r        </td><td> 518.0173  </td></tr>\n",
       "\t<tr><td>Salary     </td><td>p+r        </td><td> 809.7401  </td></tr>\n",
       "\t<tr><td>FB Friends </td><td>l+r        </td><td> 125.2687  </td></tr>\n",
       "</tbody>\n",
       "</table>\n"
      ],
      "text/latex": [
       "\\begin{tabular}{r|lll}\n",
       " scenario & kernel{[}which.max(value){]} & value{[}which.max(value){]}\\\\\n",
       "\\hline\n",
       "\t Temperature & p*r         &  443.1288  \\\\\n",
       "\t Rain        & l+r*p       &  213.3836  \\\\\n",
       "\t Sales       & l+r         & -881.9682  \\\\\n",
       "\t Gym members & p+r         &  518.0173  \\\\\n",
       "\t Salary      & p+r         &  809.7401  \\\\\n",
       "\t FB Friends  & l+r         &  125.2687  \\\\\n",
       "\\end{tabular}\n"
      ],
      "text/markdown": [
       "\n",
       "scenario | kernel[which.max(value)] | value[which.max(value)] | \n",
       "|---|---|---|---|---|---|\n",
       "| Temperature | p*r         |  443.1288   | \n",
       "| Rain        | l+r*p       |  213.3836   | \n",
       "| Sales       | l+r         | -881.9682   | \n",
       "| Gym members | p+r         |  518.0173   | \n",
       "| Salary      | p+r         |  809.7401   | \n",
       "| FB Friends  | l+r         |  125.2687   | \n",
       "\n",
       "\n"
      ],
      "text/plain": [
       "  scenario    kernel[which.max(value)] value[which.max(value)]\n",
       "1 Temperature p*r                       443.1288              \n",
       "2 Rain        l+r*p                     213.3836              \n",
       "3 Sales       l+r                      -881.9682              \n",
       "4 Gym members p+r                       518.0173              \n",
       "5 Salary      p+r                       809.7401              \n",
       "6 FB Friends  l+r                       125.2687              "
      ]
     },
     "metadata": {},
     "output_type": "display_data"
    }
   ],
   "source": [
    "to_plot_prior %>%\n",
    "    group_by(scenario) %>%\n",
    "    summarize(kernel[which.max(value)], value[which.max(value)]) %>%\n",
    "    arrange(scenarios_order(scenario))"
   ]
  },
  {
   "cell_type": "code",
   "execution_count": 317,
   "metadata": {},
   "outputs": [
    {
     "data": {
      "text/html": [
       "<table>\n",
       "<thead><tr><th scope=col>scenario</th><th scope=col>kernel</th><th scope=col>value</th><th scope=col>lo_ci</th><th scope=col>hi_ci</th></tr></thead>\n",
       "<tbody>\n",
       "\t<tr><td>Temperature</td><td>l+r*p      </td><td>  378.94365</td><td>  325.97647</td><td> 433.9707  </td></tr>\n",
       "\t<tr><td>Temperature</td><td>p*r        </td><td>  443.12881</td><td>  400.61238</td><td> 488.6233  </td></tr>\n",
       "\t<tr><td>Rain       </td><td>l+r        </td><td>  177.39997</td><td>  108.91701</td><td> 242.1932  </td></tr>\n",
       "\t<tr><td>Rain       </td><td>l+r*p      </td><td>  213.38355</td><td>  154.60898</td><td> 270.2785  </td></tr>\n",
       "\t<tr><td>Rain       </td><td>p*r        </td><td>  191.97564</td><td>  126.90503</td><td> 252.2169  </td></tr>\n",
       "\t<tr><td>Rain       </td><td>p+r        </td><td>   80.67802</td><td>  -42.93421</td><td> 203.8476  </td></tr>\n",
       "\t<tr><td>Sales      </td><td>l+r        </td><td> -881.96818</td><td>-1004.50409</td><td>-765.9873  </td></tr>\n",
       "\t<tr><td>Sales      </td><td>p+r        </td><td>-1120.45873</td><td>-1332.57435</td><td>-922.5058  </td></tr>\n",
       "\t<tr><td>Gym members</td><td>l+r        </td><td>  358.30459</td><td>  276.51743</td><td> 429.5126  </td></tr>\n",
       "\t<tr><td>Gym members</td><td>l+r*p      </td><td>  486.23738</td><td>  407.00822</td><td> 563.7312  </td></tr>\n",
       "\t<tr><td>Gym members</td><td>p*r        </td><td>  359.76783</td><td>  293.86305</td><td> 424.8063  </td></tr>\n",
       "\t<tr><td>Gym members</td><td>p+r        </td><td>  518.01725</td><td>  404.60254</td><td> 634.2105  </td></tr>\n",
       "\t<tr><td>Salary     </td><td>l+r        </td><td>  647.54928</td><td>  546.08950</td><td> 749.1616  </td></tr>\n",
       "\t<tr><td>Salary     </td><td>l+r*p      </td><td>  683.28349</td><td>  584.49677</td><td> 779.4076  </td></tr>\n",
       "\t<tr><td>Salary     </td><td>p+r        </td><td>  809.74007</td><td>  684.71392</td><td> 925.4136  </td></tr>\n",
       "\t<tr><td>FB Friends </td><td>l+r        </td><td>  125.26866</td><td>   54.67416</td><td> 193.7278  </td></tr>\n",
       "\t<tr><td>FB Friends </td><td>l+r*p      </td><td>   40.72739</td><td>  -40.07952</td><td> 126.0587  </td></tr>\n",
       "</tbody>\n",
       "</table>\n"
      ],
      "text/latex": [
       "\\begin{tabular}{r|lllll}\n",
       " scenario & kernel & value & lo\\_ci & hi\\_ci\\\\\n",
       "\\hline\n",
       "\t Temperature & l+r*p       &   378.94365 &   325.97647 &  433.9707  \\\\\n",
       "\t Temperature & p*r         &   443.12881 &   400.61238 &  488.6233  \\\\\n",
       "\t Rain        & l+r         &   177.39997 &   108.91701 &  242.1932  \\\\\n",
       "\t Rain        & l+r*p       &   213.38355 &   154.60898 &  270.2785  \\\\\n",
       "\t Rain        & p*r         &   191.97564 &   126.90503 &  252.2169  \\\\\n",
       "\t Rain        & p+r         &    80.67802 &   -42.93421 &  203.8476  \\\\\n",
       "\t Sales       & l+r         &  -881.96818 & -1004.50409 & -765.9873  \\\\\n",
       "\t Sales       & p+r         & -1120.45873 & -1332.57435 & -922.5058  \\\\\n",
       "\t Gym members & l+r         &   358.30459 &   276.51743 &  429.5126  \\\\\n",
       "\t Gym members & l+r*p       &   486.23738 &   407.00822 &  563.7312  \\\\\n",
       "\t Gym members & p*r         &   359.76783 &   293.86305 &  424.8063  \\\\\n",
       "\t Gym members & p+r         &   518.01725 &   404.60254 &  634.2105  \\\\\n",
       "\t Salary      & l+r         &   647.54928 &   546.08950 &  749.1616  \\\\\n",
       "\t Salary      & l+r*p       &   683.28349 &   584.49677 &  779.4076  \\\\\n",
       "\t Salary      & p+r         &   809.74007 &   684.71392 &  925.4136  \\\\\n",
       "\t FB Friends  & l+r         &   125.26866 &    54.67416 &  193.7278  \\\\\n",
       "\t FB Friends  & l+r*p       &    40.72739 &   -40.07952 &  126.0587  \\\\\n",
       "\\end{tabular}\n"
      ],
      "text/markdown": [
       "\n",
       "scenario | kernel | value | lo_ci | hi_ci | \n",
       "|---|---|---|---|---|---|---|---|---|---|---|---|---|---|---|---|---|\n",
       "| Temperature | l+r*p       |   378.94365 |   325.97647 |  433.9707   | \n",
       "| Temperature | p*r         |   443.12881 |   400.61238 |  488.6233   | \n",
       "| Rain        | l+r         |   177.39997 |   108.91701 |  242.1932   | \n",
       "| Rain        | l+r*p       |   213.38355 |   154.60898 |  270.2785   | \n",
       "| Rain        | p*r         |   191.97564 |   126.90503 |  252.2169   | \n",
       "| Rain        | p+r         |    80.67802 |   -42.93421 |  203.8476   | \n",
       "| Sales       | l+r         |  -881.96818 | -1004.50409 | -765.9873   | \n",
       "| Sales       | p+r         | -1120.45873 | -1332.57435 | -922.5058   | \n",
       "| Gym members | l+r         |   358.30459 |   276.51743 |  429.5126   | \n",
       "| Gym members | l+r*p       |   486.23738 |   407.00822 |  563.7312   | \n",
       "| Gym members | p*r         |   359.76783 |   293.86305 |  424.8063   | \n",
       "| Gym members | p+r         |   518.01725 |   404.60254 |  634.2105   | \n",
       "| Salary      | l+r         |   647.54928 |   546.08950 |  749.1616   | \n",
       "| Salary      | l+r*p       |   683.28349 |   584.49677 |  779.4076   | \n",
       "| Salary      | p+r         |   809.74007 |   684.71392 |  925.4136   | \n",
       "| FB Friends  | l+r         |   125.26866 |    54.67416 |  193.7278   | \n",
       "| FB Friends  | l+r*p       |    40.72739 |   -40.07952 |  126.0587   | \n",
       "\n",
       "\n"
      ],
      "text/plain": [
       "   scenario    kernel value       lo_ci       hi_ci    \n",
       "1  Temperature l+r*p    378.94365   325.97647  433.9707\n",
       "2  Temperature p*r      443.12881   400.61238  488.6233\n",
       "3  Rain        l+r      177.39997   108.91701  242.1932\n",
       "4  Rain        l+r*p    213.38355   154.60898  270.2785\n",
       "5  Rain        p*r      191.97564   126.90503  252.2169\n",
       "6  Rain        p+r       80.67802   -42.93421  203.8476\n",
       "7  Sales       l+r     -881.96818 -1004.50409 -765.9873\n",
       "8  Sales       p+r    -1120.45873 -1332.57435 -922.5058\n",
       "9  Gym members l+r      358.30459   276.51743  429.5126\n",
       "10 Gym members l+r*p    486.23738   407.00822  563.7312\n",
       "11 Gym members p*r      359.76783   293.86305  424.8063\n",
       "12 Gym members p+r      518.01725   404.60254  634.2105\n",
       "13 Salary      l+r      647.54928   546.08950  749.1616\n",
       "14 Salary      l+r*p    683.28349   584.49677  779.4076\n",
       "15 Salary      p+r      809.74007   684.71392  925.4136\n",
       "16 FB Friends  l+r      125.26866    54.67416  193.7278\n",
       "17 FB Friends  l+r*p     40.72739   -40.07952  126.0587"
      ]
     },
     "metadata": {},
     "output_type": "display_data"
    }
   ],
   "source": [
    "# Which other kernel compositions are statistically equivalent\n",
    "to_plot_prior %>%\n",
    "    group_by(scenario) %>%\n",
    "    filter(hi_ci > lo_ci[which.max(value)]) %>%\n",
    "    select(scenario, kernel, value, lo_ci, hi_ci) %>%\n",
    "    arrange(scenarios_order(scenario))"
   ]
  },
  {
   "cell_type": "markdown",
   "metadata": {},
   "source": [
    "# Full-Bayesian Posterior analysis"
   ]
  },
  {
   "cell_type": "markdown",
   "metadata": {},
   "source": [
    "### Preparing the data"
   ]
  },
  {
   "cell_type": "code",
   "execution_count": 318,
   "metadata": {},
   "outputs": [
    {
     "name": "stderr",
     "output_type": "stream",
     "text": [
      "Parsed with column specification:\n",
      "cols(\n",
      "  id = col_integer(),\n",
      "  kernel = col_character(),\n",
      "  lml = col_double(),\n",
      "  white_added = col_logical(),\n",
      "  second_exception = col_logical()\n",
      ")\n"
     ]
    }
   ],
   "source": [
    "lmls_posterior <- read_csv(\"output/full-bayesian-posterior/results_posterior_test_lmls.csv\")"
   ]
  },
  {
   "cell_type": "code",
   "execution_count": 319,
   "metadata": {},
   "outputs": [
    {
     "name": "stderr",
     "output_type": "stream",
     "text": [
      "Warning message:\n",
      "\"Missing column names filled in: 'X1' [1]\"Parsed with column specification:\n",
      "cols(\n",
      "  X1 = col_integer(),\n",
      "  id = col_integer(),\n",
      "  pid = col_character(),\n",
      "  scenario = col_character(),\n",
      "  x = col_integer(),\n",
      "  y = col_double(),\n",
      "  condition = col_character()\n",
      ")\n"
     ]
    }
   ],
   "source": [
    "# To add the 'scenario' column\n",
    "\n",
    "data_posterior <- read_csv(\"data/for_composititional_analysis_posterior.csv\")\n",
    "\n",
    "dict_posterior <- data_posterior %>%                        \n",
    "                        group_by(id, pid, scenario) %>%\n",
    "                        summarize()\n",
    "\n",
    "dict_posterior$pid <- NULL\n",
    "\n",
    "lmls_posterior <- merge(x = lmls_posterior, y = dict_posterior, by = c(\"id\", \"id\"), all.x = TRUE)\n",
    "\n",
    "# Adding 'participant id' (pid)\n",
    "lmls_posterior$pid <- floor((lmls_posterior$id-1) / 6) + 1"
   ]
  },
  {
   "cell_type": "markdown",
   "metadata": {},
   "source": [
    "### Analyzing"
   ]
  },
  {
   "cell_type": "code",
   "execution_count": 320,
   "metadata": {},
   "outputs": [
    {
     "name": "stdout",
     "output_type": "stream",
     "text": [
      "[1] \"White added\"\n"
     ]
    },
    {
     "data": {
      "text/html": [
       "3333"
      ],
      "text/latex": [
       "3333"
      ],
      "text/markdown": [
       "3333"
      ],
      "text/plain": [
       "[1] 3333"
      ]
     },
     "metadata": {},
     "output_type": "display_data"
    },
    {
     "data": {
      "text/html": [
       "6663"
      ],
      "text/latex": [
       "6663"
      ],
      "text/markdown": [
       "6663"
      ],
      "text/plain": [
       "[1] 6663"
      ]
     },
     "metadata": {},
     "output_type": "display_data"
    },
    {
     "data": {
      "text/html": [
       "9996"
      ],
      "text/latex": [
       "9996"
      ],
      "text/markdown": [
       "9996"
      ],
      "text/plain": [
       "[1] 9996"
      ]
     },
     "metadata": {},
     "output_type": "display_data"
    },
    {
     "name": "stdout",
     "output_type": "stream",
     "text": [
      "[1] \"Second exception\"\n"
     ]
    },
    {
     "data": {
      "text/html": [
       "168"
      ],
      "text/latex": [
       "168"
      ],
      "text/markdown": [
       "168"
      ],
      "text/plain": [
       "[1] 168"
      ]
     },
     "metadata": {},
     "output_type": "display_data"
    },
    {
     "data": {
      "text/html": [
       "9828"
      ],
      "text/latex": [
       "9828"
      ],
      "text/markdown": [
       "9828"
      ],
      "text/plain": [
       "[1] 9828"
      ]
     },
     "metadata": {},
     "output_type": "display_data"
    },
    {
     "data": {
      "text/html": [
       "9996"
      ],
      "text/latex": [
       "9996"
      ],
      "text/markdown": [
       "9996"
      ],
      "text/plain": [
       "[1] 9996"
      ]
     },
     "metadata": {},
     "output_type": "display_data"
    },
    {
     "name": "stdout",
     "output_type": "stream",
     "text": [
      "[1] \"Proportion of LML error and Second exception over the total\"\n"
     ]
    },
    {
     "data": {
      "text/html": [
       "'2.13%'"
      ],
      "text/latex": [
       "'2.13\\%'"
      ],
      "text/markdown": [
       "'2.13%'"
      ],
      "text/plain": [
       "[1] \"2.13%\""
      ]
     },
     "metadata": {},
     "output_type": "display_data"
    }
   ],
   "source": [
    "print('White added')\n",
    "\n",
    "lmls_posterior %>%\n",
    "    filter(white_added == 'TRUE') %>%\n",
    "    nrow\n",
    "\n",
    "lmls_posterior %>%\n",
    "    filter(white_added == 'FALSE') %>%\n",
    "    nrow\n",
    "\n",
    "lmls_posterior %>%\n",
    "    nrow\n",
    "\n",
    "#######\n",
    "\n",
    "print('Second exception')\n",
    "lmls_posterior %>%\n",
    "    filter(second_exception == 'TRUE') %>%\n",
    "    nrow\n",
    "\n",
    "lmls_posterior %>%\n",
    "    filter(second_exception == 'FALSE') %>%\n",
    "    nrow\n",
    "\n",
    "lmls_posterior %>%\n",
    "    nrow\n",
    "\n",
    "######\n",
    "\n",
    "print('Proportion of LML error and Second exception over the total')\n",
    "\n",
    "paste0(round((lmls_posterior %>%\n",
    "            filter(lml == -999999999 | second_exception == 'TRUE') %>% \n",
    "            filter(kernel != 'l', kernel != 'p', kernel != 'r') %>%\n",
    "            nrow) / (lmls_posterior %>% \n",
    "                     filter(kernel != 'l', kernel != 'p', kernel != 'r') %>%\n",
    "                     nrow) * 100, 2), '%')"
   ]
  },
  {
   "cell_type": "code",
   "execution_count": 321,
   "metadata": {
    "collapsed": true
   },
   "outputs": [],
   "source": [
    "# Removing unusable data, and standardizing.\n",
    "lmls_posterior_f <- lmls_posterior %>%\n",
    "                    filter(second_exception == 'FALSE' & lml != -999999999) %>%\n",
    "                    group_by(pid, scenario) %>%\n",
    "                    mutate(lml_minus_min = lml - min(lml),\n",
    "                           lml_standard = lml_minus_min / (max(lml_minus_min) - min (lml_minus_min)))\n",
    "\n",
    "# Standard deviations calculation\n",
    "sds <- lmls_posterior_f %>% \n",
    "            group_by(kernel, scenario) %>%\n",
    "            summarize(lo_bound = mean(lml) - 5*sd(lml), up_bound = mean(lml) + 5*sd(lml))\n",
    "\n",
    "sds$ks <- paste0(sds$kernel, sds$scenario)\n",
    "\n",
    "lmls_posterior_f$ks <- paste0(lmls_posterior_f$kernel, lmls_posterior_f$scenario)\n",
    "\n",
    "sds$kernel <- NULL\n",
    "sds$scenario <- NULL\n",
    "\n",
    "lmls_posterior_f <- merge(x = lmls_posterior_f, y = sds, by = \"ks\", all.x = TRUE)"
   ]
  },
  {
   "cell_type": "markdown",
   "metadata": {},
   "source": [
    "### Plotting"
   ]
  },
  {
   "cell_type": "code",
   "execution_count": 322,
   "metadata": {
    "collapsed": true
   },
   "outputs": [],
   "source": [
    "normalize_bool = FALSE\n",
    "plot_bool      = FALSE\n",
    "\n",
    "# Plotting data\n",
    "to_plot_posterior <- lmls_posterior_f %>%\n",
    "            filter(lml > -10000) %>%\n",
    "            filter(lml > lo_bound & lml < up_bound) %>%\n",
    "            group_by(kernel, scenario) %>%\n",
    "            summarize(value = mean(lml),\n",
    "                      lo_ci = MeanCI(lml, method=\"boot\", type=\"norm\", na.rm=TRUE)['lwr.ci'],\n",
    "                      hi_ci = MeanCI(lml, method=\"boot\", type=\"norm\", na.rm=TRUE)['upr.ci'])\n",
    "\n",
    "# Remove single components\n",
    "to_plot_posterior <- to_plot_posterior %>%\n",
    "                filter(kernel != 'l', kernel != 'p', kernel != 'r')\n",
    "\n",
    "# Scaling the 'data to plot' to a 0-1 range\n",
    "min_v = min(to_plot_posterior$value)\n",
    "range_v = max(to_plot_posterior$value) - min(to_plot_posterior$value)\n",
    "\n",
    "if(normalize_bool){\n",
    "    # Normalization\n",
    "    to_plot_posterior <- to_plot_posterior %>%\n",
    "                    group_by( scenario ) %>%\n",
    "                    mutate( lo_ci = (lo_ci - min(value)) / (max(value) - min(value)),\n",
    "                            hi_ci = (hi_ci - min(value)) / (max(value) - min(value)),  \n",
    "                            value = (value - min(value)) / (max(value) - min(value)))  \n",
    "}\n",
    "\n",
    "# Plotting magic\n",
    "to_plot_posterior$kernel <- factor(to_plot_posterior$kernel, levels=kernels)\n",
    "\n",
    "lmls_temperature <- to_plot_posterior %>% filter(scenario == \"Temperature\")\n",
    "lmls_rain <- to_plot_posterior %>% filter(scenario == \"Rain\")\n",
    "lmls_sales <- to_plot_posterior %>% filter(scenario == \"Sales\")\n",
    "lmls_gym <- to_plot_posterior %>% filter(scenario == \"Gym members\")\n",
    "lmls_salary <- to_plot_posterior %>% filter(scenario == \"Salary\")\n",
    "lmls_fb <- to_plot_posterior %>% filter(scenario == \"FB Friends\")\n",
    "\n",
    "if (plot_bool){\n",
    "    p1 <- plot_lmls(lmls_temperature, \"Temperature\", hide_x=TRUE)\n",
    "    p2 <- plot_lmls(lmls_rain, \"Rain\", hide_x=TRUE)\n",
    "    p3 <- plot_lmls(lmls_sales, \"Sales\", hide_x=TRUE, hide_y=TRUE)\n",
    "    p4 <- plot_lmls(lmls_gym, \"Gym members\", hide_y=TRUE, hide_x=TRUE)\n",
    "    p5 <- plot_lmls(lmls_salary, \"Salary\", hide_x=TRUE, hide_y=TRUE)\n",
    "    p6 <- plot_lmls(lmls_fb, \"FB Friends\", hide_y=TRUE, hide_x=TRUE)\n",
    "\n",
    "    pdf(\"Images/paper_images/kernels_posteriors_lmls_5sd.pdf\", width=8, height=4)\n",
    "    multiplot(p1, p2, p3, p4, p5, p6, cols=3)\n",
    "    dev.off()\n",
    "}"
   ]
  },
  {
   "cell_type": "code",
   "execution_count": 323,
   "metadata": {},
   "outputs": [
    {
     "data": {
      "text/html": [
       "<table>\n",
       "<thead><tr><th scope=col>scenario</th><th scope=col>kernel[which.max(value)]</th><th scope=col>value[which.max(value)]</th><th scope=col>lo_ci[which.max(value)]</th></tr></thead>\n",
       "<tbody>\n",
       "\t<tr><td>Temperature</td><td>l+r        </td><td>  71.61679 </td><td>  56.36980 </td></tr>\n",
       "\t<tr><td>Rain       </td><td>l+r        </td><td>  38.23271 </td><td>  24.04080 </td></tr>\n",
       "\t<tr><td>Sales      </td><td>l*r        </td><td>-327.82386 </td><td>-338.91398 </td></tr>\n",
       "\t<tr><td>Gym members</td><td>p+r        </td><td>  65.25972 </td><td>  42.87288 </td></tr>\n",
       "\t<tr><td>Salary     </td><td>p+r        </td><td>  21.91297 </td><td>  -9.65624 </td></tr>\n",
       "\t<tr><td>FB Friends </td><td>l*r*p      </td><td>-217.16590 </td><td>-230.11637 </td></tr>\n",
       "</tbody>\n",
       "</table>\n"
      ],
      "text/latex": [
       "\\begin{tabular}{r|llll}\n",
       " scenario & kernel{[}which.max(value){]} & value{[}which.max(value){]} & lo\\_ci{[}which.max(value){]}\\\\\n",
       "\\hline\n",
       "\t Temperature & l+r         &   71.61679  &   56.36980 \\\\\n",
       "\t Rain        & l+r         &   38.23271  &   24.04080 \\\\\n",
       "\t Sales       & l*r         & -327.82386  & -338.91398 \\\\\n",
       "\t Gym members & p+r         &   65.25972  &   42.87288 \\\\\n",
       "\t Salary      & p+r         &   21.91297  &   -9.65624 \\\\\n",
       "\t FB Friends  & l*r*p       & -217.16590  & -230.11637 \\\\\n",
       "\\end{tabular}\n"
      ],
      "text/markdown": [
       "\n",
       "scenario | kernel[which.max(value)] | value[which.max(value)] | lo_ci[which.max(value)] | \n",
       "|---|---|---|---|---|---|\n",
       "| Temperature | l+r         |   71.61679  |   56.36980  | \n",
       "| Rain        | l+r         |   38.23271  |   24.04080  | \n",
       "| Sales       | l*r         | -327.82386  | -338.91398  | \n",
       "| Gym members | p+r         |   65.25972  |   42.87288  | \n",
       "| Salary      | p+r         |   21.91297  |   -9.65624  | \n",
       "| FB Friends  | l*r*p       | -217.16590  | -230.11637  | \n",
       "\n",
       "\n"
      ],
      "text/plain": [
       "  scenario    kernel[which.max(value)] value[which.max(value)]\n",
       "1 Temperature l+r                        71.61679             \n",
       "2 Rain        l+r                        38.23271             \n",
       "3 Sales       l*r                      -327.82386             \n",
       "4 Gym members p+r                        65.25972             \n",
       "5 Salary      p+r                        21.91297             \n",
       "6 FB Friends  l*r*p                    -217.16590             \n",
       "  lo_ci[which.max(value)]\n",
       "1   56.36980             \n",
       "2   24.04080             \n",
       "3 -338.91398             \n",
       "4   42.87288             \n",
       "5   -9.65624             \n",
       "6 -230.11637             "
      ]
     },
     "metadata": {},
     "output_type": "display_data"
    }
   ],
   "source": [
    "# Which kernel is max\n",
    "to_plot_posterior %>%\n",
    "    group_by(scenario) %>%\n",
    "    summarize(kernel[which.max(value)], value[which.max(value)], lo_ci[which.max(value)]) %>%\n",
    "    arrange(scenarios_order(scenario))"
   ]
  },
  {
   "cell_type": "code",
   "execution_count": 324,
   "metadata": {
    "scrolled": false
   },
   "outputs": [
    {
     "data": {
      "text/html": [
       "<table>\n",
       "<thead><tr><th scope=col>scenario</th><th scope=col>kernel</th><th scope=col>value</th><th scope=col>lo_ci</th><th scope=col>hi_ci</th></tr></thead>\n",
       "<tbody>\n",
       "\t<tr><td>Temperature</td><td>l*r+p      </td><td>  37.792666</td><td>  17.369631</td><td>  57.94446 </td></tr>\n",
       "\t<tr><td>Temperature</td><td>l+r        </td><td>  71.616794</td><td>  56.369801</td><td>  88.09726 </td></tr>\n",
       "\t<tr><td>Temperature</td><td>l+r+p      </td><td>  59.046143</td><td>  37.376780</td><td>  80.41095 </td></tr>\n",
       "\t<tr><td>Temperature</td><td>p+r        </td><td>  40.546092</td><td> -47.317092</td><td> 125.93049 </td></tr>\n",
       "\t<tr><td>Rain       </td><td>l+r        </td><td>  38.232710</td><td>  24.040797</td><td>  51.01730 </td></tr>\n",
       "\t<tr><td>Rain       </td><td>p+r        </td><td>   2.657068</td><td> -22.755812</td><td>  27.71180 </td></tr>\n",
       "\t<tr><td>Sales      </td><td>l*r        </td><td>-327.823858</td><td>-338.913983</td><td>-316.38363 </td></tr>\n",
       "\t<tr><td>Sales      </td><td>l*r*p      </td><td>-330.058398</td><td>-349.039047</td><td>-310.95411 </td></tr>\n",
       "\t<tr><td>Sales      </td><td>l*r+p      </td><td>-336.614088</td><td>-352.466929</td><td>-320.25456 </td></tr>\n",
       "\t<tr><td>Gym members</td><td>l+r        </td><td>  38.068292</td><td>  17.365123</td><td>  58.40361 </td></tr>\n",
       "\t<tr><td>Gym members</td><td>l+r+p      </td><td>  26.742314</td><td>  -1.802652</td><td>  54.06826 </td></tr>\n",
       "\t<tr><td>Gym members</td><td>p+r        </td><td>  65.259721</td><td>  42.872877</td><td>  88.48371 </td></tr>\n",
       "\t<tr><td>Salary     </td><td>l*r+p      </td><td> -39.796676</td><td>-114.117764</td><td>  32.18930 </td></tr>\n",
       "\t<tr><td>Salary     </td><td>l+r        </td><td>  -4.190274</td><td> -27.372531</td><td>  18.66805 </td></tr>\n",
       "\t<tr><td>Salary     </td><td>l+r+p      </td><td>  12.869683</td><td> -11.056943</td><td>  37.30754 </td></tr>\n",
       "\t<tr><td>Salary     </td><td>p+r        </td><td>  21.912970</td><td>  -9.656240</td><td>  51.37706 </td></tr>\n",
       "\t<tr><td>FB Friends </td><td>l*r*p      </td><td>-217.165903</td><td>-230.116365</td><td>-204.08950 </td></tr>\n",
       "\t<tr><td>FB Friends </td><td>l*r+p      </td><td>-239.959086</td><td>-280.725068</td><td>-196.98662 </td></tr>\n",
       "\t<tr><td>FB Friends </td><td>p*r        </td><td>-243.918351</td><td>-284.836698</td><td>-202.49622 </td></tr>\n",
       "</tbody>\n",
       "</table>\n"
      ],
      "text/latex": [
       "\\begin{tabular}{r|lllll}\n",
       " scenario & kernel & value & lo\\_ci & hi\\_ci\\\\\n",
       "\\hline\n",
       "\t Temperature & l*r+p       &   37.792666 &   17.369631 &   57.94446 \\\\\n",
       "\t Temperature & l+r         &   71.616794 &   56.369801 &   88.09726 \\\\\n",
       "\t Temperature & l+r+p       &   59.046143 &   37.376780 &   80.41095 \\\\\n",
       "\t Temperature & p+r         &   40.546092 &  -47.317092 &  125.93049 \\\\\n",
       "\t Rain        & l+r         &   38.232710 &   24.040797 &   51.01730 \\\\\n",
       "\t Rain        & p+r         &    2.657068 &  -22.755812 &   27.71180 \\\\\n",
       "\t Sales       & l*r         & -327.823858 & -338.913983 & -316.38363 \\\\\n",
       "\t Sales       & l*r*p       & -330.058398 & -349.039047 & -310.95411 \\\\\n",
       "\t Sales       & l*r+p       & -336.614088 & -352.466929 & -320.25456 \\\\\n",
       "\t Gym members & l+r         &   38.068292 &   17.365123 &   58.40361 \\\\\n",
       "\t Gym members & l+r+p       &   26.742314 &   -1.802652 &   54.06826 \\\\\n",
       "\t Gym members & p+r         &   65.259721 &   42.872877 &   88.48371 \\\\\n",
       "\t Salary      & l*r+p       &  -39.796676 & -114.117764 &   32.18930 \\\\\n",
       "\t Salary      & l+r         &   -4.190274 &  -27.372531 &   18.66805 \\\\\n",
       "\t Salary      & l+r+p       &   12.869683 &  -11.056943 &   37.30754 \\\\\n",
       "\t Salary      & p+r         &   21.912970 &   -9.656240 &   51.37706 \\\\\n",
       "\t FB Friends  & l*r*p       & -217.165903 & -230.116365 & -204.08950 \\\\\n",
       "\t FB Friends  & l*r+p       & -239.959086 & -280.725068 & -196.98662 \\\\\n",
       "\t FB Friends  & p*r         & -243.918351 & -284.836698 & -202.49622 \\\\\n",
       "\\end{tabular}\n"
      ],
      "text/markdown": [
       "\n",
       "scenario | kernel | value | lo_ci | hi_ci | \n",
       "|---|---|---|---|---|---|---|---|---|---|---|---|---|---|---|---|---|---|---|\n",
       "| Temperature | l*r+p       |   37.792666 |   17.369631 |   57.94446  | \n",
       "| Temperature | l+r         |   71.616794 |   56.369801 |   88.09726  | \n",
       "| Temperature | l+r+p       |   59.046143 |   37.376780 |   80.41095  | \n",
       "| Temperature | p+r         |   40.546092 |  -47.317092 |  125.93049  | \n",
       "| Rain        | l+r         |   38.232710 |   24.040797 |   51.01730  | \n",
       "| Rain        | p+r         |    2.657068 |  -22.755812 |   27.71180  | \n",
       "| Sales       | l*r         | -327.823858 | -338.913983 | -316.38363  | \n",
       "| Sales       | l*r*p       | -330.058398 | -349.039047 | -310.95411  | \n",
       "| Sales       | l*r+p       | -336.614088 | -352.466929 | -320.25456  | \n",
       "| Gym members | l+r         |   38.068292 |   17.365123 |   58.40361  | \n",
       "| Gym members | l+r+p       |   26.742314 |   -1.802652 |   54.06826  | \n",
       "| Gym members | p+r         |   65.259721 |   42.872877 |   88.48371  | \n",
       "| Salary      | l*r+p       |  -39.796676 | -114.117764 |   32.18930  | \n",
       "| Salary      | l+r         |   -4.190274 |  -27.372531 |   18.66805  | \n",
       "| Salary      | l+r+p       |   12.869683 |  -11.056943 |   37.30754  | \n",
       "| Salary      | p+r         |   21.912970 |   -9.656240 |   51.37706  | \n",
       "| FB Friends  | l*r*p       | -217.165903 | -230.116365 | -204.08950  | \n",
       "| FB Friends  | l*r+p       | -239.959086 | -280.725068 | -196.98662  | \n",
       "| FB Friends  | p*r         | -243.918351 | -284.836698 | -202.49622  | \n",
       "\n",
       "\n"
      ],
      "text/plain": [
       "   scenario    kernel value       lo_ci       hi_ci     \n",
       "1  Temperature l*r+p    37.792666   17.369631   57.94446\n",
       "2  Temperature l+r      71.616794   56.369801   88.09726\n",
       "3  Temperature l+r+p    59.046143   37.376780   80.41095\n",
       "4  Temperature p+r      40.546092  -47.317092  125.93049\n",
       "5  Rain        l+r      38.232710   24.040797   51.01730\n",
       "6  Rain        p+r       2.657068  -22.755812   27.71180\n",
       "7  Sales       l*r    -327.823858 -338.913983 -316.38363\n",
       "8  Sales       l*r*p  -330.058398 -349.039047 -310.95411\n",
       "9  Sales       l*r+p  -336.614088 -352.466929 -320.25456\n",
       "10 Gym members l+r      38.068292   17.365123   58.40361\n",
       "11 Gym members l+r+p    26.742314   -1.802652   54.06826\n",
       "12 Gym members p+r      65.259721   42.872877   88.48371\n",
       "13 Salary      l*r+p   -39.796676 -114.117764   32.18930\n",
       "14 Salary      l+r      -4.190274  -27.372531   18.66805\n",
       "15 Salary      l+r+p    12.869683  -11.056943   37.30754\n",
       "16 Salary      p+r      21.912970   -9.656240   51.37706\n",
       "17 FB Friends  l*r*p  -217.165903 -230.116365 -204.08950\n",
       "18 FB Friends  l*r+p  -239.959086 -280.725068 -196.98662\n",
       "19 FB Friends  p*r    -243.918351 -284.836698 -202.49622"
      ]
     },
     "metadata": {},
     "output_type": "display_data"
    }
   ],
   "source": [
    "# Which other kernel compositions are statistically equivalent\n",
    "to_plot_posterior %>%\n",
    "    group_by(scenario) %>%\n",
    "    filter(hi_ci > lo_ci[which.max(value)]) %>%\n",
    "    select(scenario, kernel, value, lo_ci, hi_ci) %>%\n",
    "    arrange(scenario) %>%\n",
    "    arrange(scenarios_order(scenario))"
   ]
  },
  {
   "cell_type": "markdown",
   "metadata": {},
   "source": [
    "# Best on each condition"
   ]
  },
  {
   "cell_type": "code",
   "execution_count": 325,
   "metadata": {
    "collapsed": true
   },
   "outputs": [],
   "source": [
    "lmls_prior_ff <- lmls_prior_f %>%\n",
    "                    filter(kernel != 'l', kernel != 'p', kernel != 'r') %>% \n",
    "                    filter(lml > lo_bound & lml < up_bound) %>%\n",
    "                    filter(lml > -10000)\n",
    "\n",
    "lmls_posterior_ff <- lmls_posterior_f %>%\n",
    "                    filter(kernel != 'l', kernel != 'p', kernel != 'r') %>% \n",
    "                    filter(lml > lo_bound & lml < up_bound) %>%\n",
    "                    filter(lml > -10000)"
   ]
  },
  {
   "cell_type": "markdown",
   "metadata": {},
   "source": [
    "### Averages"
   ]
  },
  {
   "cell_type": "code",
   "execution_count": 326,
   "metadata": {
    "collapsed": true
   },
   "outputs": [],
   "source": [
    "prior_a <- lmls_prior_ff %>%\n",
    "                    group_by(kernel, scenario) %>%\n",
    "                    summarize(value = mean(lml),\n",
    "                              lo_ci = t.test(lml, conf.level=0.95)$conf.int[1],\n",
    "                              hi_ci = t.test(lml, conf.level=0.95)$conf.int[2])\n",
    "\n",
    "posterior_a <- lmls_posterior_ff %>%\n",
    "                    group_by(kernel, scenario) %>%\n",
    "                    summarize(value = mean(lml),\n",
    "                              lo_ci = t.test(lml, conf.level=0.95)$conf.int[1],\n",
    "                              hi_ci = t.test(lml, conf.level=0.95)$conf.int[2])"
   ]
  },
  {
   "cell_type": "markdown",
   "metadata": {},
   "source": [
    "### Tables"
   ]
  },
  {
   "cell_type": "code",
   "execution_count": 327,
   "metadata": {},
   "outputs": [
    {
     "data": {
      "text/html": [
       "<table>\n",
       "<thead><tr><th scope=col>scenario</th><th scope=col>max_index</th><th scope=col>max_kernel</th><th scope=col>max_lml</th></tr></thead>\n",
       "<tbody>\n",
       "\t<tr><td>Temperature</td><td>10         </td><td>p*r        </td><td> 443.1288  </td></tr>\n",
       "\t<tr><td>Rain       </td><td> 8         </td><td>l+r*p      </td><td> 213.3836  </td></tr>\n",
       "\t<tr><td>Sales      </td><td> 7         </td><td>l+r        </td><td>-881.9682  </td></tr>\n",
       "\t<tr><td>Gym members</td><td>11         </td><td>p+r        </td><td> 518.0173  </td></tr>\n",
       "\t<tr><td>Salary     </td><td>11         </td><td>p+r        </td><td> 809.7401  </td></tr>\n",
       "\t<tr><td>FB Friends </td><td> 7         </td><td>l+r        </td><td> 125.2687  </td></tr>\n",
       "</tbody>\n",
       "</table>\n"
      ],
      "text/latex": [
       "\\begin{tabular}{r|llll}\n",
       " scenario & max\\_index & max\\_kernel & max\\_lml\\\\\n",
       "\\hline\n",
       "\t Temperature & 10          & p*r         &  443.1288  \\\\\n",
       "\t Rain        &  8          & l+r*p       &  213.3836  \\\\\n",
       "\t Sales       &  7          & l+r         & -881.9682  \\\\\n",
       "\t Gym members & 11          & p+r         &  518.0173  \\\\\n",
       "\t Salary      & 11          & p+r         &  809.7401  \\\\\n",
       "\t FB Friends  &  7          & l+r         &  125.2687  \\\\\n",
       "\\end{tabular}\n"
      ],
      "text/markdown": [
       "\n",
       "scenario | max_index | max_kernel | max_lml | \n",
       "|---|---|---|---|---|---|\n",
       "| Temperature | 10          | p*r         |  443.1288   | \n",
       "| Rain        |  8          | l+r*p       |  213.3836   | \n",
       "| Sales       |  7          | l+r         | -881.9682   | \n",
       "| Gym members | 11          | p+r         |  518.0173   | \n",
       "| Salary      | 11          | p+r         |  809.7401   | \n",
       "| FB Friends  |  7          | l+r         |  125.2687   | \n",
       "\n",
       "\n"
      ],
      "text/plain": [
       "  scenario    max_index max_kernel max_lml  \n",
       "1 Temperature 10        p*r         443.1288\n",
       "2 Rain         8        l+r*p       213.3836\n",
       "3 Sales        7        l+r        -881.9682\n",
       "4 Gym members 11        p+r         518.0173\n",
       "5 Salary      11        p+r         809.7401\n",
       "6 FB Friends   7        l+r         125.2687"
      ]
     },
     "metadata": {},
     "output_type": "display_data"
    }
   ],
   "source": [
    "prior_a %>% \n",
    "    group_by(scenario) %>%\n",
    "    summarize(max_index = which.max(value),\n",
    "              max_kernel = kernel[max_index],\n",
    "              max_lml = value[max_index]) %>%\n",
    "    arrange(scenarios_order(scenario))"
   ]
  },
  {
   "cell_type": "code",
   "execution_count": 328,
   "metadata": {},
   "outputs": [
    {
     "data": {
      "text/html": [
       "<table>\n",
       "<thead><tr><th scope=col>scenario</th><th scope=col>max_index</th><th scope=col>max_kernel</th><th scope=col>max_lml</th></tr></thead>\n",
       "<tbody>\n",
       "\t<tr><td>Temperature</td><td> 7         </td><td>l+r        </td><td>  71.61679 </td></tr>\n",
       "\t<tr><td>Rain       </td><td> 7         </td><td>l+r        </td><td>  38.23271 </td></tr>\n",
       "\t<tr><td>Sales      </td><td> 3         </td><td>l*r        </td><td>-327.82386 </td></tr>\n",
       "\t<tr><td>Gym members</td><td>11         </td><td>p+r        </td><td>  65.25972 </td></tr>\n",
       "\t<tr><td>Salary     </td><td>11         </td><td>p+r        </td><td>  21.91297 </td></tr>\n",
       "\t<tr><td>FB Friends </td><td> 4         </td><td>l*r*p      </td><td>-217.16590 </td></tr>\n",
       "</tbody>\n",
       "</table>\n"
      ],
      "text/latex": [
       "\\begin{tabular}{r|llll}\n",
       " scenario & max\\_index & max\\_kernel & max\\_lml\\\\\n",
       "\\hline\n",
       "\t Temperature &  7          & l+r         &   71.61679 \\\\\n",
       "\t Rain        &  7          & l+r         &   38.23271 \\\\\n",
       "\t Sales       &  3          & l*r         & -327.82386 \\\\\n",
       "\t Gym members & 11          & p+r         &   65.25972 \\\\\n",
       "\t Salary      & 11          & p+r         &   21.91297 \\\\\n",
       "\t FB Friends  &  4          & l*r*p       & -217.16590 \\\\\n",
       "\\end{tabular}\n"
      ],
      "text/markdown": [
       "\n",
       "scenario | max_index | max_kernel | max_lml | \n",
       "|---|---|---|---|---|---|\n",
       "| Temperature |  7          | l+r         |   71.61679  | \n",
       "| Rain        |  7          | l+r         |   38.23271  | \n",
       "| Sales       |  3          | l*r         | -327.82386  | \n",
       "| Gym members | 11          | p+r         |   65.25972  | \n",
       "| Salary      | 11          | p+r         |   21.91297  | \n",
       "| FB Friends  |  4          | l*r*p       | -217.16590  | \n",
       "\n",
       "\n"
      ],
      "text/plain": [
       "  scenario    max_index max_kernel max_lml   \n",
       "1 Temperature  7        l+r          71.61679\n",
       "2 Rain         7        l+r          38.23271\n",
       "3 Sales        3        l*r        -327.82386\n",
       "4 Gym members 11        p+r          65.25972\n",
       "5 Salary      11        p+r          21.91297\n",
       "6 FB Friends   4        l*r*p      -217.16590"
      ]
     },
     "metadata": {},
     "output_type": "display_data"
    }
   ],
   "source": [
    "posterior_a %>% \n",
    "    group_by(scenario) %>%\n",
    "    summarize(max_index = which.max(value),\n",
    "              max_kernel = kernel[max_index],\n",
    "              max_lml = value[max_index]) %>%\n",
    "    arrange(scenarios_order(scenario))"
   ]
  },
  {
   "cell_type": "markdown",
   "metadata": {},
   "source": [
    "### Consistency"
   ]
  },
  {
   "cell_type": "code",
   "execution_count": 329,
   "metadata": {
    "collapsed": true
   },
   "outputs": [],
   "source": [
    "prior_maxs <- lmls_prior_f %>%\n",
    "                        filter(kernel != 'l', kernel != 'p', kernel != 'r') %>% \n",
    "                        group_by(id, pid, scenario) %>%\n",
    "                        summarize(max_index = which.max(lml),\n",
    "                                  max_kernel = kernel[max_index],\n",
    "                                  max_lml = lml[max_index])"
   ]
  },
  {
   "cell_type": "code",
   "execution_count": 330,
   "metadata": {
    "collapsed": true
   },
   "outputs": [],
   "source": [
    "posterior_maxs <- lmls_posterior_f %>%\n",
    "                        filter(kernel != 'l', kernel != 'p', kernel != 'r') %>% \n",
    "                        group_by(id, pid, scenario) %>%\n",
    "                        summarize(max_index = which.max(lml),\n",
    "                                  max_kernel = kernel[max_index],\n",
    "                                  max_lml = lml[max_index])"
   ]
  },
  {
   "cell_type": "code",
   "execution_count": 331,
   "metadata": {
    "collapsed": true
   },
   "outputs": [],
   "source": [
    "merged_maxs <- merge(x = prior_maxs, y = posterior_maxs, by = c(\"id\", \"id\")) #inner join"
   ]
  },
  {
   "cell_type": "markdown",
   "metadata": {},
   "source": [
    "Percentage of consistency (match):"
   ]
  },
  {
   "cell_type": "code",
   "execution_count": 332,
   "metadata": {
    "collapsed": true
   },
   "outputs": [],
   "source": [
    "merged_maxs <- merged_maxs %>%\n",
    "    mutate(match = (max_kernel.x == max_kernel.y))"
   ]
  },
  {
   "cell_type": "code",
   "execution_count": 333,
   "metadata": {},
   "outputs": [
    {
     "data": {
      "text/html": [
       "0.23"
      ],
      "text/latex": [
       "0.23"
      ],
      "text/markdown": [
       "0.23"
      ],
      "text/plain": [
       "[1] 0.23"
      ]
     },
     "metadata": {},
     "output_type": "display_data"
    }
   ],
   "source": [
    "(( merged_maxs %>%\n",
    "     filter(match == TRUE) %>%\n",
    "     nrow) /\n",
    " ( merged_maxs %>%\n",
    "     nrow) ) %>% round(2)"
   ]
  },
  {
   "cell_type": "markdown",
   "metadata": {},
   "source": [
    "Chance:"
   ]
  },
  {
   "cell_type": "code",
   "execution_count": 334,
   "metadata": {},
   "outputs": [
    {
     "data": {
      "text/html": [
       "0.09"
      ],
      "text/latex": [
       "0.09"
      ],
      "text/markdown": [
       "0.09"
      ],
      "text/plain": [
       "[1] 0.09"
      ]
     },
     "metadata": {},
     "output_type": "display_data"
    }
   ],
   "source": [
    "(1/11) %>% round(2)"
   ]
  },
  {
   "cell_type": "markdown",
   "metadata": {},
   "source": [
    "Bootstrapped confidence interval:"
   ]
  },
  {
   "cell_type": "code",
   "execution_count": 335,
   "metadata": {
    "collapsed": true
   },
   "outputs": [],
   "source": [
    "bp = function(x, lev, n = 1e6, alpha=0.05) {\n",
    "  res = replicate(n, sum(sample(x, length(x), replace=TRUE) == lev)/length(x))\n",
    "  return(list(mean=mean(res),\n",
    "              `95% CI`=quantile(res, c(0.5*alpha,1-0.5*alpha))))\n",
    "}"
   ]
  },
  {
   "cell_type": "code",
   "execution_count": 336,
   "metadata": {
    "collapsed": true
   },
   "outputs": [],
   "source": [
    "bp2 = function(vector) {\n",
    "    \n",
    "    match_ci <- bp(vector$match, TRUE)\n",
    "    \n",
    "    return( c( match_ci$mean %>% round(2),\n",
    "             match_ci$`95% CI`[1] %>% round(2),\n",
    "             match_ci$`95% CI`[2] %>% round(2) ))\n",
    "}"
   ]
  },
  {
   "cell_type": "code",
   "execution_count": 337,
   "metadata": {},
   "outputs": [
    {
     "data": {
      "text/html": [
       "<dl class=dl-horizontal>\n",
       "\t<dt>1</dt>\n",
       "\t\t<dd>0.23</dd>\n",
       "\t<dt>2.5%</dt>\n",
       "\t\t<dd>0.19</dd>\n",
       "\t<dt>97.5%</dt>\n",
       "\t\t<dd>0.26</dd>\n",
       "</dl>\n"
      ],
      "text/latex": [
       "\\begin{description*}\n",
       "\\item[1] 0.23\n",
       "\\item[2.5\\textbackslash{}\\%] 0.19\n",
       "\\item[97.5\\textbackslash{}\\%] 0.26\n",
       "\\end{description*}\n"
      ],
      "text/markdown": [
       "1\n",
       ":   0.232.5%\n",
       ":   0.1997.5%\n",
       ":   0.26\n",
       "\n"
      ],
      "text/plain": [
       "       2.5% 97.5% \n",
       " 0.23  0.19  0.26 "
      ]
     },
     "metadata": {},
     "output_type": "display_data"
    }
   ],
   "source": [
    "bp2(merged_maxs)"
   ]
  },
  {
   "cell_type": "markdown",
   "metadata": {},
   "source": [
    "### Consistency per POSTERIOR condition"
   ]
  },
  {
   "cell_type": "code",
   "execution_count": 338,
   "metadata": {},
   "outputs": [
    {
     "name": "stderr",
     "output_type": "stream",
     "text": [
      "Warning message:\n",
      "\"Missing column names filled in: 'X1' [1]\"Parsed with column specification:\n",
      "cols(\n",
      "  X1 = col_integer(),\n",
      "  id = col_integer(),\n",
      "  pid = col_character(),\n",
      "  scenario = col_character(),\n",
      "  x = col_integer(),\n",
      "  y = col_double(),\n",
      "  condition = col_character()\n",
      ")\n"
     ]
    }
   ],
   "source": [
    "#Importing the relevant data\n",
    "aux <- read_csv(\"data/for_composititional_analysis_posterior.csv\")\n",
    "\n",
    "posterior_conditions <- aux %>% select(id, condition) %>% unique\n",
    "\n",
    "# Merging\n",
    "merged_maxs <- merge(x = merged_maxs, y = posterior_conditions, by = c(\"id\", \"id\")) "
   ]
  },
  {
   "cell_type": "code",
   "execution_count": 339,
   "metadata": {
    "collapsed": true
   },
   "outputs": [],
   "source": [
    "bp3 = function(condition) {\n",
    "    print(condition)\n",
    "    merged_maxs %>%\n",
    "        filter(condition == condition) %>%\n",
    "        bp2 %>%\n",
    "        print\n",
    "}"
   ]
  },
  {
   "cell_type": "code",
   "execution_count": 340,
   "metadata": {},
   "outputs": [
    {
     "name": "stdout",
     "output_type": "stream",
     "text": [
      "[1] \"All\"\n",
      "       2.5% 97.5% \n",
      " 0.23  0.19  0.26 \n",
      "[1] \"Posterior-Positive\"\n",
      "       2.5% 97.5% \n",
      " 0.24  0.18  0.29 \n",
      "[1] \"Posterior-Stable\"\n",
      "       2.5% 97.5% \n",
      " 0.22  0.17  0.27 \n",
      "[1] \"Posterior-Negative\"\n",
      "       2.5% 97.5% \n",
      " 0.22  0.17  0.27 \n"
     ]
    }
   ],
   "source": [
    "print('All')\n",
    "print(bp2(merged_maxs))\n",
    "\n",
    "print('Posterior-Positive')\n",
    "    merged_maxs %>%\n",
    "        filter(condition == 'Posterior-Positive') %>%\n",
    "        bp2 %>%\n",
    "        print\n",
    "\n",
    "print('Posterior-Stable')\n",
    "    merged_maxs %>%\n",
    "        filter(condition == 'Posterior-Stable') %>%\n",
    "        bp2 %>%\n",
    "        print\n",
    "\n",
    "print('Posterior-Negative')\n",
    "    merged_maxs %>%\n",
    "        filter(condition == 'Posterior-Negative') %>%\n",
    "        bp2 %>%\n",
    "        print"
   ]
  },
  {
   "cell_type": "code",
   "execution_count": 341,
   "metadata": {
    "collapsed": true
   },
   "outputs": [],
   "source": [
    "bp3 = function(data, filter_v, condition = TRUE){\n",
    "    \n",
    "    if(condition){\n",
    "        results <- data %>%\n",
    "                    filter(condition == !!filter_v) %>%\n",
    "                    bp2 \n",
    "    }\n",
    "    else {\n",
    "        results <- data %>%\n",
    "                    filter(scenario.x == !!filter_v) %>%\n",
    "                    bp2 \n",
    "    }\n",
    "    \n",
    "    data.frame(list( condition = filter_v, \n",
    "                     mean  = results[[1]], \n",
    "                     lo_ci = results[[2]],\n",
    "                     hi_ci = results[[3]]))\n",
    "}"
   ]
  },
  {
   "cell_type": "code",
   "execution_count": 342,
   "metadata": {
    "collapsed": true
   },
   "outputs": [],
   "source": [
    "plot_consistence = function(consistence_data, title, xlab, ylim_hi=0.45, ylab=\"Proportion of Match\")\n",
    "    consistence_data %>%\n",
    "                ggplot(aes(x=condition, y=mean)) + \n",
    "                    geom_bar(stat=\"identity\", aes(fill = fill)) +\n",
    "                    scale_fill_manual(values=c(\"grey35\", \"black\")) +\n",
    "                    coord_cartesian (ylim=c(0, ylim_hi)) +\n",
    "                    labs(title = title) +\n",
    "                    ggthemes::theme_few() +\n",
    "                    theme(legend.position=\"none\") +\n",
    "                    xlab(xlab) + \n",
    "                    ylab(ylab) +\n",
    "                    geom_errorbar(aes(ymin=as.numeric(lo_ci), ymax=as.numeric(hi_ci)),\n",
    "                                      width=.3,                   \n",
    "                                      position=position_dodge(.9)) +\n",
    "                    theme(#axis.text.x = element_text(angle = 90,  vjust = 0.5, hjust=0),\n",
    "                          text = element_text(size=12, family=\"serif\"),\n",
    "                          plot.title = element_text(hjust = 0.5)) +\n",
    "                    geom_hline(yintercept = 1/11, linetype=\"dashed\") #chance value"
   ]
  },
  {
   "cell_type": "code",
   "execution_count": 343,
   "metadata": {
    "collapsed": true
   },
   "outputs": [],
   "source": [
    "chance <- data.frame(list(condition=\"Chance\", mean=1/11, lo_ci=1/13, hi_ci=1/12)) #the confidence interval is set in lower values for it to disappear\n",
    "\n",
    "consistence_condition <- rbind( #chance,\n",
    "                                bp3(merged_maxs, \"Posterior-Positive\"),\n",
    "                                bp3(merged_maxs, \"Posterior-Stable\"),\n",
    "                                bp3(merged_maxs, \"Posterior-Negative\"))\n",
    "\n",
    "consistence_scenario <- rbind(  #chance,\n",
    "                                bp3(merged_maxs, \"Temperature\", FALSE),\n",
    "                                bp3(merged_maxs, \"Rain\", FALSE),\n",
    "                                bp3(merged_maxs, \"Sales\", FALSE),\n",
    "                                bp3(merged_maxs, \"Gym members\", FALSE),\n",
    "                                bp3(merged_maxs, \"Salary\", FALSE),\n",
    "                                bp3(merged_maxs, \"FB Friends\", FALSE))"
   ]
  },
  {
   "cell_type": "code",
   "execution_count": 344,
   "metadata": {
    "collapsed": true
   },
   "outputs": [],
   "source": [
    "#Extend the text so the plots match in size\n",
    "longer_text <- \"FB Friends             \"\n",
    "\n",
    "levels(consistence_scenario$condition) <- c(levels(consistence_scenario$condition), longer_text)\n",
    "\n",
    "#consistence_scenario[7,1] <- longer_text"
   ]
  },
  {
   "cell_type": "code",
   "execution_count": 345,
   "metadata": {
    "collapsed": true
   },
   "outputs": [],
   "source": [
    "# Add this for colors\n",
    "consistence_condition$fill <- (consistence_condition$condition == \"Chance\")\n",
    "consistence_scenario$fill <- (consistence_scenario$condition == \"Chance\")"
   ]
  },
  {
   "cell_type": "code",
   "execution_count": 346,
   "metadata": {
    "collapsed": true
   },
   "outputs": [],
   "source": [
    "# Readable names of Posterior conditions\n",
    "levels(consistence_condition$condition) <- c(levels(consistence_condition$condition), \"Positive\", \"Stable\", \"Negative\")\n",
    "\n",
    "# Replacement\n",
    "consistence_condition[consistence_condition$condition == \"Posterior-Positive\", \"condition\"] <- \"Positive\"\n",
    "consistence_condition[consistence_condition$condition == \"Posterior-Stable\", \"condition\"] <- \"Stable\"\n",
    "consistence_condition[consistence_condition$condition == \"Posterior-Negative\", \"condition\"] <- \"Negative\""
   ]
  },
  {
   "cell_type": "code",
   "execution_count": 347,
   "metadata": {
    "collapsed": true
   },
   "outputs": [],
   "source": [
    "# Readable Gym\n",
    "levels(consistence_scenario$condition) <- c(levels(consistence_scenario$condition), \"Gym\")\n",
    "consistence_scenario[consistence_scenario$condition == \"Gym members\", \"condition\"] <- \"Gym\"\n",
    "\n",
    "levels(consistence_scenario$condition) <- c(levels(consistence_scenario$condition), \"FB friends\")\n",
    "consistence_scenario[consistence_scenario$condition == \"FB Friends\", \"condition\"] <- \"FB friends\""
   ]
  },
  {
   "cell_type": "code",
   "execution_count": 348,
   "metadata": {},
   "outputs": [
    {
     "data": {
      "text/html": [
       "<strong>png:</strong> 2"
      ],
      "text/latex": [
       "\\textbf{png:} 2"
      ],
      "text/markdown": [
       "**png:** 2"
      ],
      "text/plain": [
       "png \n",
       "  2 "
      ]
     },
     "metadata": {},
     "output_type": "display_data"
    }
   ],
   "source": [
    "plot_cond <- consistence_condition %>% plot_consistence(title=\"(a)\", xlab=\"Posterior conditions\")\n",
    "\n",
    "plot_scen <- consistence_scenario %>% plot_consistence(title=\"(b)\", xlab=\"Scenarios\")\n",
    "\n",
    "#pdf(\"Images/paper_images/match_proportion.pdf\", width=4, height=6)\n",
    "#multiplot(plot_cond, plot_scen, cols=1)\n",
    "#dev.off()  "
   ]
  },
  {
   "cell_type": "markdown",
   "metadata": {},
   "source": [
    "# Match index"
   ]
  },
  {
   "cell_type": "code",
   "execution_count": 349,
   "metadata": {
    "collapsed": true
   },
   "outputs": [],
   "source": [
    "# Which other kernel compositions are statistically equivalent\n",
    "best_prior <- to_plot_prior %>%\n",
    "    group_by(scenario) %>%\n",
    "    filter(hi_ci > lo_ci[which.max(value)]) %>%\n",
    "    select(scenario, kernel, value, lo_ci, hi_ci) %>%\n",
    "    arrange(scenario)\n",
    "\n",
    "# Which other kernel compositions are statistically equivalent\n",
    "best_posterior <- to_plot_posterior %>%\n",
    "    group_by(scenario) %>%\n",
    "    filter(hi_ci > lo_ci[which.max(value)]) %>%\n",
    "    select(scenario, kernel, value, lo_ci, hi_ci) %>%\n",
    "    arrange(scenario)"
   ]
  },
  {
   "cell_type": "code",
   "execution_count": 350,
   "metadata": {},
   "outputs": [
    {
     "data": {
      "text/html": [
       "<table>\n",
       "<thead><tr><th scope=col>scenario</th><th scope=col>kernel</th><th scope=col>value</th><th scope=col>lo_ci</th><th scope=col>hi_ci</th></tr></thead>\n",
       "<tbody>\n",
       "\t<tr><td>FB Friends </td><td>l+r        </td><td>125.26866  </td><td> 54.67416  </td><td>193.7278   </td></tr>\n",
       "\t<tr><td>FB Friends </td><td>l+r*p      </td><td> 40.72739  </td><td>-40.07952  </td><td>126.0587   </td></tr>\n",
       "\t<tr><td>Gym members</td><td>l+r        </td><td>358.30459  </td><td>276.51743  </td><td>429.5126   </td></tr>\n",
       "\t<tr><td>Gym members</td><td>l+r*p      </td><td>486.23738  </td><td>407.00822  </td><td>563.7312   </td></tr>\n",
       "\t<tr><td>Gym members</td><td>p*r        </td><td>359.76783  </td><td>293.86305  </td><td>424.8063   </td></tr>\n",
       "\t<tr><td>Gym members</td><td>p+r        </td><td>518.01725  </td><td>404.60254  </td><td>634.2105   </td></tr>\n",
       "</tbody>\n",
       "</table>\n"
      ],
      "text/latex": [
       "\\begin{tabular}{r|lllll}\n",
       " scenario & kernel & value & lo\\_ci & hi\\_ci\\\\\n",
       "\\hline\n",
       "\t FB Friends  & l+r         & 125.26866   &  54.67416   & 193.7278   \\\\\n",
       "\t FB Friends  & l+r*p       &  40.72739   & -40.07952   & 126.0587   \\\\\n",
       "\t Gym members & l+r         & 358.30459   & 276.51743   & 429.5126   \\\\\n",
       "\t Gym members & l+r*p       & 486.23738   & 407.00822   & 563.7312   \\\\\n",
       "\t Gym members & p*r         & 359.76783   & 293.86305   & 424.8063   \\\\\n",
       "\t Gym members & p+r         & 518.01725   & 404.60254   & 634.2105   \\\\\n",
       "\\end{tabular}\n"
      ],
      "text/markdown": [
       "\n",
       "scenario | kernel | value | lo_ci | hi_ci | \n",
       "|---|---|---|---|---|---|\n",
       "| FB Friends  | l+r         | 125.26866   |  54.67416   | 193.7278    | \n",
       "| FB Friends  | l+r*p       |  40.72739   | -40.07952   | 126.0587    | \n",
       "| Gym members | l+r         | 358.30459   | 276.51743   | 429.5126    | \n",
       "| Gym members | l+r*p       | 486.23738   | 407.00822   | 563.7312    | \n",
       "| Gym members | p*r         | 359.76783   | 293.86305   | 424.8063    | \n",
       "| Gym members | p+r         | 518.01725   | 404.60254   | 634.2105    | \n",
       "\n",
       "\n"
      ],
      "text/plain": [
       "  scenario    kernel value     lo_ci     hi_ci   \n",
       "1 FB Friends  l+r    125.26866  54.67416 193.7278\n",
       "2 FB Friends  l+r*p   40.72739 -40.07952 126.0587\n",
       "3 Gym members l+r    358.30459 276.51743 429.5126\n",
       "4 Gym members l+r*p  486.23738 407.00822 563.7312\n",
       "5 Gym members p*r    359.76783 293.86305 424.8063\n",
       "6 Gym members p+r    518.01725 404.60254 634.2105"
      ]
     },
     "metadata": {},
     "output_type": "display_data"
    }
   ],
   "source": [
    "best_prior %>% head"
   ]
  },
  {
   "cell_type": "code",
   "execution_count": 351,
   "metadata": {
    "collapsed": true
   },
   "outputs": [],
   "source": [
    "# Inner join\n",
    "inner_aux <- merge(x = best_prior, y = best_posterior, by.x = c('scenario', 'kernel'), by.y = c('scenario', 'kernel')) %>%\n",
    "                    group_by(scenario) %>%\n",
    "                    summarize(count = length(kernel))"
   ]
  },
  {
   "cell_type": "code",
   "execution_count": 352,
   "metadata": {
    "collapsed": true
   },
   "outputs": [],
   "source": [
    "# Outer join\n",
    "outer_aux <- merge(x = best_prior, y = best_posterior, by.x = c('scenario', 'kernel'), by.y = c('scenario', 'kernel'), all.x=TRUE, all.y=TRUE) %>%\n",
    "                    group_by(scenario) %>%\n",
    "                    summarize(count = length(kernel))"
   ]
  },
  {
   "cell_type": "code",
   "execution_count": 353,
   "metadata": {},
   "outputs": [
    {
     "data": {
      "text/html": [
       "<table>\n",
       "<thead><tr><th scope=col>scenario</th><th scope=col>count.x</th><th scope=col>count.y</th><th scope=col>match</th></tr></thead>\n",
       "<tbody>\n",
       "\t<tr><td>Gym members</td><td>2          </td><td>5          </td><td>0.4        </td></tr>\n",
       "\t<tr><td>Rain       </td><td>2          </td><td>4          </td><td>0.5        </td></tr>\n",
       "\t<tr><td>Salary     </td><td>2          </td><td>5          </td><td>0.4        </td></tr>\n",
       "</tbody>\n",
       "</table>\n"
      ],
      "text/latex": [
       "\\begin{tabular}{r|llll}\n",
       " scenario & count.x & count.y & match\\\\\n",
       "\\hline\n",
       "\t Gym members & 2           & 5           & 0.4        \\\\\n",
       "\t Rain        & 2           & 4           & 0.5        \\\\\n",
       "\t Salary      & 2           & 5           & 0.4        \\\\\n",
       "\\end{tabular}\n"
      ],
      "text/markdown": [
       "\n",
       "scenario | count.x | count.y | match | \n",
       "|---|---|---|\n",
       "| Gym members | 2           | 5           | 0.4         | \n",
       "| Rain        | 2           | 4           | 0.5         | \n",
       "| Salary      | 2           | 5           | 0.4         | \n",
       "\n",
       "\n"
      ],
      "text/plain": [
       "  scenario    count.x count.y match\n",
       "1 Gym members 2       5       0.4  \n",
       "2 Rain        2       4       0.5  \n",
       "3 Salary      2       5       0.4  "
      ]
     },
     "metadata": {},
     "output_type": "display_data"
    }
   ],
   "source": [
    "merge(inner_aux, outer_aux, by='scenario') %>%\n",
    "    mutate(match = round(count.x/count.y, 2))"
   ]
  },
  {
   "cell_type": "markdown",
   "metadata": {},
   "source": [
    "# Ranking correlation"
   ]
  },
  {
   "cell_type": "code",
   "execution_count": 354,
   "metadata": {},
   "outputs": [
    {
     "data": {
      "text/html": [
       "<table>\n",
       "<thead><tr><th scope=col>ks</th><th scope=col>id</th><th scope=col>kernel</th><th scope=col>lml</th><th scope=col>pid</th><th scope=col>scenario</th><th scope=col>cid</th><th scope=col>white_added</th><th scope=col>second_exception</th><th scope=col>lml_minus_min</th><th scope=col>lml_standard</th><th scope=col>lo_bound</th><th scope=col>up_bound</th></tr></thead>\n",
       "<tbody>\n",
       "\t<tr><td>l*p+rFB Friends</td><td>498            </td><td>l*p+r          </td><td>-1.768597e+03  </td><td>a083           </td><td>FB Friends     </td><td>498            </td><td>False          </td><td>False          </td><td> 103.2890      </td><td>0.04521479     </td><td>-29994.07      </td><td>26220.81       </td></tr>\n",
       "\t<tr><td>l*p+rFB Friends</td><td>126            </td><td>l*p+r          </td><td>-1.546767e+03  </td><td>a021           </td><td>FB Friends     </td><td>126            </td><td>False          </td><td>False          </td><td> 576.9258      </td><td>0.36813021     </td><td>-29994.07      </td><td>26220.81       </td></tr>\n",
       "\t<tr><td>l*p+rFB Friends</td><td>354            </td><td>l*p+r          </td><td> 5.798369e+01  </td><td>a059           </td><td>FB Friends     </td><td>354            </td><td>True           </td><td>False          </td><td>1832.0332      </td><td>0.74694955     </td><td>-29994.07      </td><td>26220.81       </td></tr>\n",
       "\t<tr><td>l*p+rFB Friends</td><td>294            </td><td>l*p+r          </td><td>-6.412404e-02  </td><td>a049           </td><td>FB Friends     </td><td>294            </td><td>False          </td><td>False          </td><td>1620.2027      </td><td>0.83618118     </td><td>-29994.07      </td><td>26220.81       </td></tr>\n",
       "\t<tr><td>l*p+rFB Friends</td><td>642            </td><td>l*p+r          </td><td>-2.248445e+02  </td><td>a108           </td><td>FB Friends     </td><td>642            </td><td>True           </td><td>False          </td><td>1372.1776      </td><td>0.66121756     </td><td>-29994.07      </td><td>26220.81       </td></tr>\n",
       "\t<tr><td>l*p+rFB Friends</td><td>210            </td><td>l*p+r          </td><td>-1.420681e+03  </td><td>a035           </td><td>FB Friends     </td><td>210            </td><td>False          </td><td>False          </td><td> 534.5359      </td><td>0.27830906     </td><td>-29994.07      </td><td>26220.81       </td></tr>\n",
       "</tbody>\n",
       "</table>\n"
      ],
      "text/latex": [
       "\\begin{tabular}{r|lllllllllllll}\n",
       " ks & id & kernel & lml & pid & scenario & cid & white\\_added & second\\_exception & lml\\_minus\\_min & lml\\_standard & lo\\_bound & up\\_bound\\\\\n",
       "\\hline\n",
       "\t l*p+rFB Friends & 498             & l*p+r           & -1.768597e+03   & a083            & FB Friends      & 498             & False           & False           &  103.2890       & 0.04521479      & -29994.07       & 26220.81       \\\\\n",
       "\t l*p+rFB Friends & 126             & l*p+r           & -1.546767e+03   & a021            & FB Friends      & 126             & False           & False           &  576.9258       & 0.36813021      & -29994.07       & 26220.81       \\\\\n",
       "\t l*p+rFB Friends & 354             & l*p+r           &  5.798369e+01   & a059            & FB Friends      & 354             & True            & False           & 1832.0332       & 0.74694955      & -29994.07       & 26220.81       \\\\\n",
       "\t l*p+rFB Friends & 294             & l*p+r           & -6.412404e-02   & a049            & FB Friends      & 294             & False           & False           & 1620.2027       & 0.83618118      & -29994.07       & 26220.81       \\\\\n",
       "\t l*p+rFB Friends & 642             & l*p+r           & -2.248445e+02   & a108            & FB Friends      & 642             & True            & False           & 1372.1776       & 0.66121756      & -29994.07       & 26220.81       \\\\\n",
       "\t l*p+rFB Friends & 210             & l*p+r           & -1.420681e+03   & a035            & FB Friends      & 210             & False           & False           &  534.5359       & 0.27830906      & -29994.07       & 26220.81       \\\\\n",
       "\\end{tabular}\n"
      ],
      "text/markdown": [
       "\n",
       "ks | id | kernel | lml | pid | scenario | cid | white_added | second_exception | lml_minus_min | lml_standard | lo_bound | up_bound | \n",
       "|---|---|---|---|---|---|\n",
       "| l*p+rFB Friends | 498             | l*p+r           | -1.768597e+03   | a083            | FB Friends      | 498             | False           | False           |  103.2890       | 0.04521479      | -29994.07       | 26220.81        | \n",
       "| l*p+rFB Friends | 126             | l*p+r           | -1.546767e+03   | a021            | FB Friends      | 126             | False           | False           |  576.9258       | 0.36813021      | -29994.07       | 26220.81        | \n",
       "| l*p+rFB Friends | 354             | l*p+r           |  5.798369e+01   | a059            | FB Friends      | 354             | True            | False           | 1832.0332       | 0.74694955      | -29994.07       | 26220.81        | \n",
       "| l*p+rFB Friends | 294             | l*p+r           | -6.412404e-02   | a049            | FB Friends      | 294             | False           | False           | 1620.2027       | 0.83618118      | -29994.07       | 26220.81        | \n",
       "| l*p+rFB Friends | 642             | l*p+r           | -2.248445e+02   | a108            | FB Friends      | 642             | True            | False           | 1372.1776       | 0.66121756      | -29994.07       | 26220.81        | \n",
       "| l*p+rFB Friends | 210             | l*p+r           | -1.420681e+03   | a035            | FB Friends      | 210             | False           | False           |  534.5359       | 0.27830906      | -29994.07       | 26220.81        | \n",
       "\n",
       "\n"
      ],
      "text/plain": [
       "  ks              id  kernel lml           pid  scenario   cid white_added\n",
       "1 l*p+rFB Friends 498 l*p+r  -1.768597e+03 a083 FB Friends 498 False      \n",
       "2 l*p+rFB Friends 126 l*p+r  -1.546767e+03 a021 FB Friends 126 False      \n",
       "3 l*p+rFB Friends 354 l*p+r   5.798369e+01 a059 FB Friends 354 True       \n",
       "4 l*p+rFB Friends 294 l*p+r  -6.412404e-02 a049 FB Friends 294 False      \n",
       "5 l*p+rFB Friends 642 l*p+r  -2.248445e+02 a108 FB Friends 642 True       \n",
       "6 l*p+rFB Friends 210 l*p+r  -1.420681e+03 a035 FB Friends 210 False      \n",
       "  second_exception lml_minus_min lml_standard lo_bound  up_bound\n",
       "1 False             103.2890     0.04521479   -29994.07 26220.81\n",
       "2 False             576.9258     0.36813021   -29994.07 26220.81\n",
       "3 False            1832.0332     0.74694955   -29994.07 26220.81\n",
       "4 False            1620.2027     0.83618118   -29994.07 26220.81\n",
       "5 False            1372.1776     0.66121756   -29994.07 26220.81\n",
       "6 False             534.5359     0.27830906   -29994.07 26220.81"
      ]
     },
     "metadata": {},
     "output_type": "display_data"
    }
   ],
   "source": [
    "# This is the participants data, in the Prior condition. \n",
    "# We are filtering LML lower than -10.000, and out of the 5 standardad deviations. Failed GPs have already been filtered\n",
    "lmls_prior_f %>%\n",
    "            filter(lml > -10000) %>%\n",
    "            filter(lml > lo_bound & lml < up_bound) %>%\n",
    "            head"
   ]
  },
  {
   "cell_type": "code",
   "execution_count": 355,
   "metadata": {},
   "outputs": [
    {
     "name": "stderr",
     "output_type": "stream",
     "text": [
      "Parsed with column specification:\n",
      "cols(\n",
      "  scenario = col_character(),\n",
      "  kernel = col_character(),\n",
      "  lml = col_double()\n",
      ")\n"
     ]
    }
   ],
   "source": [
    "# Real world data\n",
    "rwdata <- read_csv(\"data/real-world/to-plot.csv\")"
   ]
  },
  {
   "cell_type": "code",
   "execution_count": null,
   "metadata": {
    "collapsed": true
   },
   "outputs": [],
   "source": []
  }
 ],
 "metadata": {
  "kernelspec": {
   "display_name": "R",
   "language": "R",
   "name": "ir"
  },
  "language_info": {
   "codemirror_mode": "r",
   "file_extension": ".r",
   "mimetype": "text/x-r-source",
   "name": "R",
   "pygments_lexer": "r",
   "version": "3.3.1"
  }
 },
 "nbformat": 4,
 "nbformat_minor": 2
}
