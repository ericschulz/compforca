{
 "cells": [
  {
   "cell_type": "markdown",
   "metadata": {},
   "source": [
    "# Libraries"
   ]
  },
  {
   "cell_type": "code",
   "execution_count": 24,
   "metadata": {},
   "outputs": [],
   "source": [
    "source(\"tools.R\")"
   ]
  },
  {
   "cell_type": "markdown",
   "metadata": {},
   "source": [
    "# Prior likelihoods"
   ]
  },
  {
   "cell_type": "markdown",
   "metadata": {},
   "source": [
    "### Preparing the data"
   ]
  },
  {
   "cell_type": "code",
   "execution_count": 25,
   "metadata": {},
   "outputs": [
    {
     "name": "stderr",
     "output_type": "stream",
     "text": [
      "Warning message:\n",
      "\"Missing column names filled in: 'X1' [1]\"Parsed with column specification:\n",
      "cols(\n",
      "  X1 = col_integer(),\n",
      "  id = col_integer(),\n",
      "  pid = col_character(),\n",
      "  scenario = col_character(),\n",
      "  x = col_integer(),\n",
      "  y = col_double()\n",
      ")\n"
     ]
    }
   ],
   "source": [
    "data_prior <- read_csv(\"data/for_composititional_analysis_prior.csv\")\n",
    "\n",
    "dict_prior <- data_prior %>%                        \n",
    "                        group_by(id, pid, scenario) %>%\n",
    "                        summarize()"
   ]
  },
  {
   "cell_type": "code",
   "execution_count": 26,
   "metadata": {},
   "outputs": [
    {
     "name": "stderr",
     "output_type": "stream",
     "text": [
      "Warning message:\n",
      "\"Missing column names filled in: 'X1' [1]\"Parsed with column specification:\n",
      "cols(\n",
      "  X1 = col_integer(),\n",
      "  l = col_double(),\n",
      "  `l*p` = col_double(),\n",
      "  `l*p+r` = col_double(),\n",
      "  `l*r` = col_double(),\n",
      "  `l*r*p` = col_double(),\n",
      "  `l*r+p` = col_double(),\n",
      "  `l+p` = col_double(),\n",
      "  `l+r` = col_double(),\n",
      "  `l+r*p` = col_double(),\n",
      "  `l+r+p` = col_double(),\n",
      "  p = col_double(),\n",
      "  `p*r` = col_double(),\n",
      "  `p+r` = col_double(),\n",
      "  r = col_double()\n",
      ")\n"
     ]
    }
   ],
   "source": [
    "lmls_prior <- read_csv(\"output/lmls_prior.csv\")"
   ]
  },
  {
   "cell_type": "code",
   "execution_count": 27,
   "metadata": {},
   "outputs": [
    {
     "data": {
      "text/html": [
       "<table>\n",
       "<thead><tr><th scope=col>X1</th><th scope=col>l</th><th scope=col>l*p</th><th scope=col>l*p+r</th><th scope=col>l*r</th><th scope=col>l*r*p</th><th scope=col>l*r+p</th><th scope=col>l+p</th><th scope=col>l+r</th><th scope=col>l+r*p</th><th scope=col>l+r+p</th><th scope=col>p</th><th scope=col>p*r</th><th scope=col>p+r</th><th scope=col>r</th></tr></thead>\n",
       "<tbody>\n",
       "\t<tr><td>  1          </td><td> -713.6954   </td><td>-8.438396e-02</td><td>  -146.6802  </td><td>-851.89829   </td><td> -851.89688  </td><td>-322.6189    </td><td>  791.0454   </td><td>821.78723    </td><td>   927.2291  </td><td>-323.47298   </td><td> -323.0216   </td><td>   804.48813 </td><td>-548.3215    </td><td> 792.3592    </td></tr>\n",
       "\t<tr><td> 10          </td><td>-1097.0542   </td><td>-1.097054e+03</td><td>-10196.9489  </td><td> -68.44092   </td><td>-2035.82151  </td><td> 141.9539    </td><td>  148.8720   </td><td>148.07899    </td><td>-10196.9489  </td><td>1468.08628   </td><td> 1537.9242   </td><td>-51685.97435 </td><td>1516.7239    </td><td>1540.7145    </td></tr>\n",
       "\t<tr><td>100          </td><td>-1196.2895   </td><td>-1.196289e+03</td><td>    60.4096  </td><td> -94.76571   </td><td>  -98.14110  </td><td> 815.7817    </td><td> -245.2160   </td><td>899.05122    </td><td>   818.8646  </td><td>  65.02978   </td><td> -761.1522   </td><td>    69.69232 </td><td> 994.7514    </td><td> 855.1832    </td></tr>\n",
       "\t<tr><td>101          </td><td> -884.5586   </td><td>-8.845586e+02</td><td> -2511.4764  </td><td> -21.25770   </td><td>  -21.48428  </td><td>-369.3005    </td><td> -437.5120   </td><td> 90.20008    </td><td>  1129.5959  </td><td>  98.89978   </td><td> -905.7997   </td><td>  1191.32516 </td><td>1159.0688    </td><td>1128.8089    </td></tr>\n",
       "\t<tr><td>102          </td><td>-1428.1828   </td><td>-2.631303e+02</td><td>  -132.9282  </td><td>-266.09369   </td><td>  -60.38163  </td><td>-996.5167    </td><td>-1428.1828   </td><td> 82.70370    </td><td>   169.0308  </td><td>-831.25674   </td><td>-1717.5405   </td><td>  -581.34877 </td><td>-169.7323    </td><td> -39.2825    </td></tr>\n",
       "\t<tr><td>103          </td><td>-1055.6152   </td><td>-1.055620e+03</td><td> -7682.7321  </td><td> -57.30613   </td><td>-2035.23194  </td><td>1579.0880    </td><td>  150.1733   </td><td>150.17337    </td><td> -7682.7321  </td><td> 149.92483   </td><td> -182.1528   </td><td>-33875.75641 </td><td>-175.4362    </td><td>1616.2660    </td></tr>\n",
       "</tbody>\n",
       "</table>\n"
      ],
      "text/latex": [
       "\\begin{tabular}{r|lllllllllllllll}\n",
       " X1 & l & l*p & l*p+r & l*r & l*r*p & l*r+p & l+p & l+r & l+r*p & l+r+p & p & p*r & p+r & r\\\\\n",
       "\\hline\n",
       "\t   1           &  -713.6954    & -8.438396e-02 &   -146.6802   & -851.89829    &  -851.89688   & -322.6189     &   791.0454    & 821.78723     &    927.2291   & -323.47298    &  -323.0216    &    804.48813  & -548.3215     &  792.3592    \\\\\n",
       "\t  10           & -1097.0542    & -1.097054e+03 & -10196.9489   &  -68.44092    & -2035.82151   &  141.9539     &   148.8720    & 148.07899     & -10196.9489   & 1468.08628    &  1537.9242    & -51685.97435  & 1516.7239     & 1540.7145    \\\\\n",
       "\t 100           & -1196.2895    & -1.196289e+03 &     60.4096   &  -94.76571    &   -98.14110   &  815.7817     &  -245.2160    & 899.05122     &    818.8646   &   65.02978    &  -761.1522    &     69.69232  &  994.7514     &  855.1832    \\\\\n",
       "\t 101           &  -884.5586    & -8.845586e+02 &  -2511.4764   &  -21.25770    &   -21.48428   & -369.3005     &  -437.5120    &  90.20008     &   1129.5959   &   98.89978    &  -905.7997    &   1191.32516  & 1159.0688     & 1128.8089    \\\\\n",
       "\t 102           & -1428.1828    & -2.631303e+02 &   -132.9282   & -266.09369    &   -60.38163   & -996.5167     & -1428.1828    &  82.70370     &    169.0308   & -831.25674    & -1717.5405    &   -581.34877  & -169.7323     &  -39.2825    \\\\\n",
       "\t 103           & -1055.6152    & -1.055620e+03 &  -7682.7321   &  -57.30613    & -2035.23194   & 1579.0880     &   150.1733    & 150.17337     &  -7682.7321   &  149.92483    &  -182.1528    & -33875.75641  & -175.4362     & 1616.2660    \\\\\n",
       "\\end{tabular}\n"
      ],
      "text/markdown": [
       "\n",
       "X1 | l | l*p | l*p+r | l*r | l*r*p | l*r+p | l+p | l+r | l+r*p | l+r+p | p | p*r | p+r | r | \n",
       "|---|---|---|---|---|---|\n",
       "|   1           |  -713.6954    | -8.438396e-02 |   -146.6802   | -851.89829    |  -851.89688   | -322.6189     |   791.0454    | 821.78723     |    927.2291   | -323.47298    |  -323.0216    |    804.48813  | -548.3215     |  792.3592     | \n",
       "|  10           | -1097.0542    | -1.097054e+03 | -10196.9489   |  -68.44092    | -2035.82151   |  141.9539     |   148.8720    | 148.07899     | -10196.9489   | 1468.08628    |  1537.9242    | -51685.97435  | 1516.7239     | 1540.7145     | \n",
       "| 100           | -1196.2895    | -1.196289e+03 |     60.4096   |  -94.76571    |   -98.14110   |  815.7817     |  -245.2160    | 899.05122     |    818.8646   |   65.02978    |  -761.1522    |     69.69232  |  994.7514     |  855.1832     | \n",
       "| 101           |  -884.5586    | -8.845586e+02 |  -2511.4764   |  -21.25770    |   -21.48428   | -369.3005     |  -437.5120    |  90.20008     |   1129.5959   |   98.89978    |  -905.7997    |   1191.32516  | 1159.0688     | 1128.8089     | \n",
       "| 102           | -1428.1828    | -2.631303e+02 |   -132.9282   | -266.09369    |   -60.38163   | -996.5167     | -1428.1828    |  82.70370     |    169.0308   | -831.25674    | -1717.5405    |   -581.34877  | -169.7323     |  -39.2825     | \n",
       "| 103           | -1055.6152    | -1.055620e+03 |  -7682.7321   |  -57.30613    | -2035.23194   | 1579.0880     |   150.1733    | 150.17337     |  -7682.7321   |  149.92483    |  -182.1528    | -33875.75641  | -175.4362     | 1616.2660     | \n",
       "\n",
       "\n"
      ],
      "text/plain": [
       "  X1  l          l*p           l*p+r       l*r        l*r*p       l*r+p    \n",
       "1   1  -713.6954 -8.438396e-02   -146.6802 -851.89829  -851.89688 -322.6189\n",
       "2  10 -1097.0542 -1.097054e+03 -10196.9489  -68.44092 -2035.82151  141.9539\n",
       "3 100 -1196.2895 -1.196289e+03     60.4096  -94.76571   -98.14110  815.7817\n",
       "4 101  -884.5586 -8.845586e+02  -2511.4764  -21.25770   -21.48428 -369.3005\n",
       "5 102 -1428.1828 -2.631303e+02   -132.9282 -266.09369   -60.38163 -996.5167\n",
       "6 103 -1055.6152 -1.055620e+03  -7682.7321  -57.30613 -2035.23194 1579.0880\n",
       "  l+p        l+r       l+r*p       l+r+p      p          p*r          p+r      \n",
       "1   791.0454 821.78723    927.2291 -323.47298  -323.0216    804.48813 -548.3215\n",
       "2   148.8720 148.07899 -10196.9489 1468.08628  1537.9242 -51685.97435 1516.7239\n",
       "3  -245.2160 899.05122    818.8646   65.02978  -761.1522     69.69232  994.7514\n",
       "4  -437.5120  90.20008   1129.5959   98.89978  -905.7997   1191.32516 1159.0688\n",
       "5 -1428.1828  82.70370    169.0308 -831.25674 -1717.5405   -581.34877 -169.7323\n",
       "6   150.1733 150.17337  -7682.7321  149.92483  -182.1528 -33875.75641 -175.4362\n",
       "  r        \n",
       "1  792.3592\n",
       "2 1540.7145\n",
       "3  855.1832\n",
       "4 1128.8089\n",
       "5  -39.2825\n",
       "6 1616.2660"
      ]
     },
     "metadata": {},
     "output_type": "display_data"
    }
   ],
   "source": [
    "lmls_prior %>% head"
   ]
  },
  {
   "cell_type": "code",
   "execution_count": 28,
   "metadata": {},
   "outputs": [
    {
     "name": "stderr",
     "output_type": "stream",
     "text": [
      "Parsed with column specification:\n",
      "cols(\n",
      "  cid = col_integer(),\n",
      "  composition = col_character(),\n",
      "  white_added = col_character(),\n",
      "  second_exception = col_character()\n",
      ")\n"
     ]
    }
   ],
   "source": [
    "metadata_prior <- read_csv(\"output/metadata_prior.csv\")"
   ]
  },
  {
   "cell_type": "code",
   "execution_count": 29,
   "metadata": {},
   "outputs": [
    {
     "data": {
      "text/html": [
       "<table>\n",
       "<thead><tr><th scope=col>cid</th><th scope=col>composition</th><th scope=col>white_added</th><th scope=col>second_exception</th></tr></thead>\n",
       "<tbody>\n",
       "\t<tr><td>1    </td><td>l    </td><td>False</td><td>False</td></tr>\n",
       "\t<tr><td>1    </td><td>p    </td><td>False</td><td>False</td></tr>\n",
       "\t<tr><td>1    </td><td>r    </td><td>False</td><td>False</td></tr>\n",
       "\t<tr><td>1    </td><td>l+p  </td><td>False</td><td>False</td></tr>\n",
       "\t<tr><td>1    </td><td>l+r  </td><td>False</td><td>False</td></tr>\n",
       "\t<tr><td>1    </td><td>p+r  </td><td>False</td><td>False</td></tr>\n",
       "</tbody>\n",
       "</table>\n"
      ],
      "text/latex": [
       "\\begin{tabular}{r|llll}\n",
       " cid & composition & white\\_added & second\\_exception\\\\\n",
       "\\hline\n",
       "\t 1     & l     & False & False\\\\\n",
       "\t 1     & p     & False & False\\\\\n",
       "\t 1     & r     & False & False\\\\\n",
       "\t 1     & l+p   & False & False\\\\\n",
       "\t 1     & l+r   & False & False\\\\\n",
       "\t 1     & p+r   & False & False\\\\\n",
       "\\end{tabular}\n"
      ],
      "text/markdown": [
       "\n",
       "cid | composition | white_added | second_exception | \n",
       "|---|---|---|---|---|---|\n",
       "| 1     | l     | False | False | \n",
       "| 1     | p     | False | False | \n",
       "| 1     | r     | False | False | \n",
       "| 1     | l+p   | False | False | \n",
       "| 1     | l+r   | False | False | \n",
       "| 1     | p+r   | False | False | \n",
       "\n",
       "\n"
      ],
      "text/plain": [
       "  cid composition white_added second_exception\n",
       "1 1   l           False       False           \n",
       "2 1   p           False       False           \n",
       "3 1   r           False       False           \n",
       "4 1   l+p         False       False           \n",
       "5 1   l+r         False       False           \n",
       "6 1   p+r         False       False           "
      ]
     },
     "metadata": {},
     "output_type": "display_data"
    }
   ],
   "source": [
    "metadata_prior %>% head"
   ]
  },
  {
   "cell_type": "code",
   "execution_count": 30,
   "metadata": {},
   "outputs": [],
   "source": [
    "metadata_prior <- metadata_prior %>%\n",
    "                        mutate( cid_composition = paste0(cid, composition) )"
   ]
  },
  {
   "cell_type": "code",
   "execution_count": 31,
   "metadata": {
    "collapsed": true
   },
   "outputs": [],
   "source": [
    "metadata_prior$pid <- NULL\n",
    "metadata_prior$composition <- NULL"
   ]
  },
  {
   "cell_type": "code",
   "execution_count": 32,
   "metadata": {
    "collapsed": true
   },
   "outputs": [],
   "source": [
    "kernels <- c(\"l\", \"p\", \"r\", \"l+p\", \"l+r\", \"p+r\", \"l*r\", \"l*p\", \"p*r\", \"l+r+p\", \"l+r*p\", \"l*r+p\", \"l*p+r\", \"l*r*p\")\n",
    "\n",
    "lmls_prior<- lmls_prior %>% \n",
    "                gather(kernel, lml, kernels)\n",
    "\n",
    "colnames(lmls_prior) = c('id', 'kernel', 'lml')\n",
    "\n",
    "lmls_prior <- merge(x = lmls_prior, y = dict_prior, by = c(\"id\", \"id\"), all.x = TRUE)"
   ]
  },
  {
   "cell_type": "code",
   "execution_count": 33,
   "metadata": {
    "collapsed": true
   },
   "outputs": [],
   "source": [
    "lmls_prior <- lmls_prior %>%\n",
    "                        mutate( cid_composition = paste0(id, kernel) )"
   ]
  },
  {
   "cell_type": "markdown",
   "metadata": {},
   "source": [
    "Joining"
   ]
  },
  {
   "cell_type": "code",
   "execution_count": 34,
   "metadata": {
    "collapsed": true
   },
   "outputs": [],
   "source": [
    "lmls_prior <- merge(x = lmls_prior, y = metadata_prior, by = c(\"cid_composition\", \"cid_composition\"), all.x = TRUE)"
   ]
  },
  {
   "cell_type": "code",
   "execution_count": 35,
   "metadata": {
    "collapsed": true
   },
   "outputs": [],
   "source": [
    "lmls_prior$cid_composition <- NULL"
   ]
  },
  {
   "cell_type": "markdown",
   "metadata": {},
   "source": [
    "Analyzing"
   ]
  },
  {
   "cell_type": "code",
   "execution_count": 106,
   "metadata": {},
   "outputs": [
    {
     "data": {
      "text/html": [
       "2737"
      ],
      "text/latex": [
       "2737"
      ],
      "text/markdown": [
       "2737"
      ],
      "text/plain": [
       "[1] 2737"
      ]
     },
     "metadata": {},
     "output_type": "display_data"
    },
    {
     "data": {
      "text/html": [
       "5831"
      ],
      "text/latex": [
       "5831"
      ],
      "text/markdown": [
       "5831"
      ],
      "text/plain": [
       "[1] 5831"
      ]
     },
     "metadata": {},
     "output_type": "display_data"
    },
    {
     "data": {
      "text/html": [
       "8568"
      ],
      "text/latex": [
       "8568"
      ],
      "text/markdown": [
       "8568"
      ],
      "text/plain": [
       "[1] 8568"
      ]
     },
     "metadata": {},
     "output_type": "display_data"
    }
   ],
   "source": [
    "lmls_prior %>%\n",
    "    filter(kernel != 'l', kernel != 'lp', kernel != 'r') %>%\n",
    "    filter(white_added == 'True') %>%\n",
    "    nrow\n",
    "\n",
    "lmls_prior %>%\n",
    "    filter(kernel != 'l', kernel != 'lp', kernel != 'r') %>%\n",
    "    filter(white_added == 'False') %>%\n",
    "    nrow\n",
    "\n",
    "lmls_prior %>%\n",
    "    filter(kernel != 'l', kernel != 'lp', kernel != 'r') %>%\n",
    "    nrow"
   ]
  },
  {
   "cell_type": "code",
   "execution_count": 107,
   "metadata": {},
   "outputs": [
    {
     "data": {
      "text/html": [
       "500"
      ],
      "text/latex": [
       "500"
      ],
      "text/markdown": [
       "500"
      ],
      "text/plain": [
       "[1] 500"
      ]
     },
     "metadata": {},
     "output_type": "display_data"
    },
    {
     "data": {
      "text/html": [
       "8068"
      ],
      "text/latex": [
       "8068"
      ],
      "text/markdown": [
       "8068"
      ],
      "text/plain": [
       "[1] 8068"
      ]
     },
     "metadata": {},
     "output_type": "display_data"
    },
    {
     "data": {
      "text/html": [
       "8568"
      ],
      "text/latex": [
       "8568"
      ],
      "text/markdown": [
       "8568"
      ],
      "text/plain": [
       "[1] 8568"
      ]
     },
     "metadata": {},
     "output_type": "display_data"
    }
   ],
   "source": [
    "lmls_prior %>%\n",
    "    filter(kernel != 'l', kernel != 'lp', kernel != 'r') %>%\n",
    "    filter(second_exception == 'True') %>%\n",
    "    nrow\n",
    "\n",
    "lmls_prior %>%\n",
    "    filter(kernel != 'l', kernel != 'lp', kernel != 'r') %>%\n",
    "    filter(second_exception == 'False') %>%\n",
    "    nrow\n",
    "\n",
    "lmls_prior %>%\n",
    "    filter(kernel != 'l', kernel != 'lp', kernel != 'r') %>%\n",
    "    nrow"
   ]
  },
  {
   "cell_type": "code",
   "execution_count": 108,
   "metadata": {},
   "outputs": [
    {
     "data": {
      "text/html": [
       "'6.01%'"
      ],
      "text/latex": [
       "'6.01\\%'"
      ],
      "text/markdown": [
       "'6.01%'"
      ],
      "text/plain": [
       "[1] \"6.01%\""
      ]
     },
     "metadata": {},
     "output_type": "display_data"
    }
   ],
   "source": [
    "paste0(round((lmls_prior %>%\n",
    "            filter(lml == -999999999 | second_exception == 'True') %>%\n",
    "            nrow) / \n",
    "(lmls_prior %>% \n",
    "     filter(kernel != 'l', kernel != 'lp', kernel != 'r') %>%\n",
    "     nrow) * 100, 2), '%')"
   ]
  },
  {
   "cell_type": "code",
   "execution_count": 109,
   "metadata": {},
   "outputs": [
    {
     "data": {
      "text/html": [
       "113"
      ],
      "text/latex": [
       "113"
      ],
      "text/markdown": [
       "113"
      ],
      "text/plain": [
       "[1] 113"
      ]
     },
     "metadata": {},
     "output_type": "display_data"
    }
   ],
   "source": [
    "lmls_prior %>%\n",
    "    filter(kernel != 'l', kernel != 'lp', kernel != 'r') %>%\n",
    "    filter(second_exception == 'True') %>% \n",
    "    distinct(pid) %>%\n",
    "    nrow"
   ]
  },
  {
   "cell_type": "markdown",
   "metadata": {},
   "source": [
    "### Summarising"
   ]
  },
  {
   "cell_type": "code",
   "execution_count": 46,
   "metadata": {
    "collapsed": true
   },
   "outputs": [],
   "source": [
    "# Removes the GPs that failed to be optimized in the second time. The lmls that failed to be optimized are also removed.\n",
    "#Finaly, the lml_standard is calculated\n",
    "lmls_prior_f <- lmls_prior %>%\n",
    "                    filter(second_exception == 'False' & lml != -999999999) %>%\n",
    "                    group_by(pid, scenario) %>%\n",
    "                    mutate(lml_minus_min = lml - min(lml),\n",
    "                           lml_standard = lml_minus_min / (max(lml_minus_min) - min (lml_minus_min)))"
   ]
  },
  {
   "cell_type": "code",
   "execution_count": 47,
   "metadata": {},
   "outputs": [
    {
     "data": {
      "text/html": [
       "<table>\n",
       "<thead><tr><th scope=col>id</th><th scope=col>kernel</th><th scope=col>lml</th><th scope=col>pid</th><th scope=col>scenario</th><th scope=col>cid</th><th scope=col>white_added</th><th scope=col>second_exception</th><th scope=col>lml_minus_min</th><th scope=col>lml_standard</th></tr></thead>\n",
       "<tbody>\n",
       "\t<tr><td>100        </td><td>l          </td><td>-1196.28948</td><td>a017       </td><td>Gym members</td><td>100        </td><td>False      </td><td>False      </td><td>18340.27   </td><td>0.8654937  </td></tr>\n",
       "\t<tr><td>100        </td><td>l*p        </td><td>-1196.28948</td><td>a017       </td><td>Gym members</td><td>100        </td><td>False      </td><td>False      </td><td>18340.27   </td><td>0.8654937  </td></tr>\n",
       "\t<tr><td>100        </td><td>l*p+r      </td><td>   60.40960</td><td>a017       </td><td>Gym members</td><td>100        </td><td>True       </td><td>False      </td><td>19596.97   </td><td>0.9247985  </td></tr>\n",
       "\t<tr><td>100        </td><td>l*r        </td><td>  -94.76571</td><td>a017       </td><td>Gym members</td><td>100        </td><td>True       </td><td>False      </td><td>19441.79   </td><td>0.9174756  </td></tr>\n",
       "\t<tr><td>100        </td><td>l*r*p      </td><td>  -98.14110</td><td>a017       </td><td>Gym members</td><td>100        </td><td>True       </td><td>False      </td><td>19438.42   </td><td>0.9173163  </td></tr>\n",
       "\t<tr><td>100        </td><td>l*r+p      </td><td>  815.78171</td><td>a017       </td><td>Gym members</td><td>100        </td><td>False      </td><td>False      </td><td>20352.34   </td><td>0.9604452  </td></tr>\n",
       "</tbody>\n",
       "</table>\n"
      ],
      "text/latex": [
       "\\begin{tabular}{r|llllllllll}\n",
       " id & kernel & lml & pid & scenario & cid & white\\_added & second\\_exception & lml\\_minus\\_min & lml\\_standard\\\\\n",
       "\\hline\n",
       "\t 100         & l           & -1196.28948 & a017        & Gym members & 100         & False       & False       & 18340.27    & 0.8654937  \\\\\n",
       "\t 100         & l*p         & -1196.28948 & a017        & Gym members & 100         & False       & False       & 18340.27    & 0.8654937  \\\\\n",
       "\t 100         & l*p+r       &    60.40960 & a017        & Gym members & 100         & True        & False       & 19596.97    & 0.9247985  \\\\\n",
       "\t 100         & l*r         &   -94.76571 & a017        & Gym members & 100         & True        & False       & 19441.79    & 0.9174756  \\\\\n",
       "\t 100         & l*r*p       &   -98.14110 & a017        & Gym members & 100         & True        & False       & 19438.42    & 0.9173163  \\\\\n",
       "\t 100         & l*r+p       &   815.78171 & a017        & Gym members & 100         & False       & False       & 20352.34    & 0.9604452  \\\\\n",
       "\\end{tabular}\n"
      ],
      "text/markdown": [
       "\n",
       "id | kernel | lml | pid | scenario | cid | white_added | second_exception | lml_minus_min | lml_standard | \n",
       "|---|---|---|---|---|---|\n",
       "| 100         | l           | -1196.28948 | a017        | Gym members | 100         | False       | False       | 18340.27    | 0.8654937   | \n",
       "| 100         | l*p         | -1196.28948 | a017        | Gym members | 100         | False       | False       | 18340.27    | 0.8654937   | \n",
       "| 100         | l*p+r       |    60.40960 | a017        | Gym members | 100         | True        | False       | 19596.97    | 0.9247985   | \n",
       "| 100         | l*r         |   -94.76571 | a017        | Gym members | 100         | True        | False       | 19441.79    | 0.9174756   | \n",
       "| 100         | l*r*p       |   -98.14110 | a017        | Gym members | 100         | True        | False       | 19438.42    | 0.9173163   | \n",
       "| 100         | l*r+p       |   815.78171 | a017        | Gym members | 100         | False       | False       | 20352.34    | 0.9604452   | \n",
       "\n",
       "\n"
      ],
      "text/plain": [
       "  id  kernel lml         pid  scenario    cid white_added second_exception\n",
       "1 100 l      -1196.28948 a017 Gym members 100 False       False           \n",
       "2 100 l*p    -1196.28948 a017 Gym members 100 False       False           \n",
       "3 100 l*p+r     60.40960 a017 Gym members 100 True        False           \n",
       "4 100 l*r      -94.76571 a017 Gym members 100 True        False           \n",
       "5 100 l*r*p    -98.14110 a017 Gym members 100 True        False           \n",
       "6 100 l*r+p    815.78171 a017 Gym members 100 False       False           \n",
       "  lml_minus_min lml_standard\n",
       "1 18340.27      0.8654937   \n",
       "2 18340.27      0.8654937   \n",
       "3 19596.97      0.9247985   \n",
       "4 19441.79      0.9174756   \n",
       "5 19438.42      0.9173163   \n",
       "6 20352.34      0.9604452   "
      ]
     },
     "metadata": {},
     "output_type": "display_data"
    }
   ],
   "source": [
    "lmls_prior_f %>% head"
   ]
  },
  {
   "cell_type": "code",
   "execution_count": 155,
   "metadata": {},
   "outputs": [],
   "source": [
    "plot_lmls <- function(prop_data, title, hide_x=FALSE, hide_y=FALSE) {\n",
    "    plot <- prop_data %>%\n",
    "                ggplot(aes(x=kernel, y=value)) + \n",
    "                    geom_bar(stat=\"identity\") +\n",
    "                    coord_cartesian (ylim=c(0, 1)) +\n",
    "                    labs(title = title) +\n",
    "                    ggthemes::theme_few() +\n",
    "                    xlab(\"Kernel composition\") + \n",
    "                    ylab(\"Mean likelihood (scaled)\") +\n",
    "                    geom_errorbar(aes(ymin=as.numeric(lo_ci), ymax=as.numeric(hi_ci)),\n",
    "                                      width=.3,                   \n",
    "                                      position=position_dodge(.9)) +\n",
    "                    theme(axis.text.x = element_text(angle = 90,  vjust = 0.5, hjust=0),\n",
    "                          text = element_text(size=12, family=\"serif\"),\n",
    "                          plot.title = element_text(hjust = 0.5))\n",
    "    \n",
    "    if(hide_x){\n",
    "        plot <- plot + theme(axis.title.x=element_blank())\n",
    "    }\n",
    "    if(hide_y){\n",
    "        plot <- plot + theme(axis.title.y=element_blank())\n",
    "    }\n",
    "    \n",
    "    return(plot)\n",
    "}"
   ]
  },
  {
   "cell_type": "markdown",
   "metadata": {},
   "source": [
    "### Plots"
   ]
  },
  {
   "cell_type": "code",
   "execution_count": 49,
   "metadata": {},
   "outputs": [
    {
     "data": {
      "text/html": [
       "<strong>png:</strong> 2"
      ],
      "text/latex": [
       "\\textbf{png:} 2"
      ],
      "text/markdown": [
       "**png:** 2"
      ],
      "text/plain": [
       "png \n",
       "  2 "
      ]
     },
     "metadata": {},
     "output_type": "display_data"
    }
   ],
   "source": [
    "# Plotting data\n",
    "to_plot<- lmls_prior_f %>% \n",
    "            group_by(kernel, scenario) %>%\n",
    "            summarize(value = mean(lml_standard),\n",
    "                      lo_ci = t.test(lml_standard, conf.level=0.95)$conf.int[1],\n",
    "                      hi_ci = t.test(lml_standard, conf.level=0.95)$conf.int[2])\n",
    "\n",
    "# Plotting magic\n",
    "to_plot$kernel <- factor(to_plot$kernel, levels=kernels)\n",
    "\n",
    "lmls_temperature <- to_plot %>% filter(scenario == \"Temperature\")\n",
    "lmls_rain <- to_plot %>% filter(scenario == \"Rain\")\n",
    "lmls_sales <- to_plot %>% filter(scenario == \"Sales\")\n",
    "lmls_gym <- to_plot %>% filter(scenario == \"Gym members\")\n",
    "lmls_salary <- to_plot %>% filter(scenario == \"Salary\")\n",
    "lmls_fb <- to_plot %>% filter(scenario == \"FB Friends\")\n",
    "\n",
    "p1 <- plot_lmls(lmls_temperature, \"Temperature\", hide_x=TRUE)\n",
    "p2 <- plot_lmls(lmls_rain, \"Rain\", hide_x=TRUE)\n",
    "p3 <- plot_lmls(lmls_sales, \"Sales\", hide_x=TRUE, hide_y=TRUE)\n",
    "p4 <- plot_lmls(lmls_gym, \"Gym members\", hide_y=TRUE, hide_x=TRUE)\n",
    "p5 <- plot_lmls(lmls_salary, \"Salary\", hide_x=TRUE, hide_y=TRUE)\n",
    "p6 <- plot_lmls(lmls_fb, \"FB Friends\", hide_y=TRUE, hide_x=TRUE)\n",
    "\n",
    "svg(\"Images/paper_images/kernels_priors_lmls.svg\", width=8, height=4)\n",
    "multiplot(p1, p2, p3, p4, p5, p6, cols=3)\n",
    "dev.off()"
   ]
  },
  {
   "cell_type": "code",
   "execution_count": 115,
   "metadata": {},
   "outputs": [],
   "source": [
    "# Plotting data\n",
    "to_plot <- lmls_prior_f %>% \n",
    "            group_by(kernel, scenario) %>%\n",
    "            summarize(value = mean(lml),\n",
    "                      lo_ci = t.test(lml, conf.level=0.95)$conf.int[1],\n",
    "                      hi_ci = t.test(lml, conf.level=0.95)$conf.int[2])\n",
    "\n",
    "# Remove single components\n",
    "to_plot <- to_plot %>%\n",
    "                filter(kernel != 'l', kernel != 'p', kernel != 'r')\n",
    "\n",
    "# Scaling the 'data to plot' to a 0-1 range\n",
    "min_v = min(to_plot$value)\n",
    "range_v = max(to_plot$value) - min(to_plot$value)\n",
    "\n",
    "to_plot <- to_plot %>%\n",
    "                group_by( scenario ) %>%\n",
    "                mutate( lo_ci = (lo_ci - min(value)) / (max(value - min(value))),\n",
    "                        hi_ci = (hi_ci - min(value)) / (max(value - min(value))),  \n",
    "                        value = (value - min(value)) / (max(value - min(value))))\n",
    "# Plotting magic\n",
    "to_plot$kernel <- factor(to_plot$kernel, levels=kernels)\n",
    "\n",
    "lmls_temperature <- to_plot %>% filter(scenario == \"Temperature\")\n",
    "lmls_rain <- to_plot %>% filter(scenario == \"Rain\")\n",
    "lmls_sales <- to_plot %>% filter(scenario == \"Sales\")\n",
    "lmls_gym <- to_plot %>% filter(scenario == \"Gym members\")\n",
    "lmls_salary <- to_plot %>% filter(scenario == \"Salary\")\n",
    "lmls_fb <- to_plot %>% filter(scenario == \"FB Friends\")\n",
    "\n",
    "p1 <- plot_lmls(lmls_temperature, \"Temperature\", hide_x=TRUE)\n",
    "p2 <- plot_lmls(lmls_rain, \"Rain\", hide_x=TRUE)\n",
    "p3 <- plot_lmls(lmls_sales, \"Sales\", hide_x=TRUE, hide_y=TRUE)\n",
    "p4 <- plot_lmls(lmls_gym, \"Gym members\", hide_y=TRUE, hide_x=TRUE)\n",
    "p5 <- plot_lmls(lmls_salary, \"Salary\", hide_x=TRUE, hide_y=TRUE)\n",
    "p6 <- plot_lmls(lmls_fb, \"FB Friends\", hide_y=TRUE, hide_x=TRUE)\n",
    "\n",
    "#pdf(\"Images/paper_images/kernels_priors_lmls_2.pdf\", width=8, height=4)\n",
    "#multiplot(p1, p2, p3, p4, p5, p6, cols=3)\n",
    "#dev.off()"
   ]
  },
  {
   "cell_type": "code",
   "execution_count": 123,
   "metadata": {},
   "outputs": [
    {
     "data": {
      "text/html": [
       "<table>\n",
       "<thead><tr><th scope=col>scenario</th><th scope=col>kernel[which.max(value)]</th><th scope=col>value[which.max(value)]</th><th scope=col>lo_ci[which.max(value)]</th></tr></thead>\n",
       "<tbody>\n",
       "\t<tr><td>FB Friends </td><td>l+r        </td><td>1          </td><td>0.9860530  </td></tr>\n",
       "\t<tr><td>Gym members</td><td>p+r        </td><td>1          </td><td>0.9250062  </td></tr>\n",
       "\t<tr><td>Rain       </td><td>l+r*p      </td><td>1          </td><td>0.9705057  </td></tr>\n",
       "\t<tr><td>Salary     </td><td>p+r        </td><td>1          </td><td>0.9178016  </td></tr>\n",
       "\t<tr><td>Sales      </td><td>l+r        </td><td>1          </td><td>0.9974691  </td></tr>\n",
       "\t<tr><td>Temperature</td><td>p*r        </td><td>1          </td><td>0.9602583  </td></tr>\n",
       "</tbody>\n",
       "</table>\n"
      ],
      "text/latex": [
       "\\begin{tabular}{r|llll}\n",
       " scenario & kernel{[}which.max(value){]} & value{[}which.max(value){]} & lo\\_ci{[}which.max(value){]}\\\\\n",
       "\\hline\n",
       "\t FB Friends  & l+r         & 1           & 0.9860530  \\\\\n",
       "\t Gym members & p+r         & 1           & 0.9250062  \\\\\n",
       "\t Rain        & l+r*p       & 1           & 0.9705057  \\\\\n",
       "\t Salary      & p+r         & 1           & 0.9178016  \\\\\n",
       "\t Sales       & l+r         & 1           & 0.9974691  \\\\\n",
       "\t Temperature & p*r         & 1           & 0.9602583  \\\\\n",
       "\\end{tabular}\n"
      ],
      "text/markdown": [
       "\n",
       "scenario | kernel[which.max(value)] | value[which.max(value)] | lo_ci[which.max(value)] | \n",
       "|---|---|---|---|---|---|\n",
       "| FB Friends  | l+r         | 1           | 0.9860530   | \n",
       "| Gym members | p+r         | 1           | 0.9250062   | \n",
       "| Rain        | l+r*p       | 1           | 0.9705057   | \n",
       "| Salary      | p+r         | 1           | 0.9178016   | \n",
       "| Sales       | l+r         | 1           | 0.9974691   | \n",
       "| Temperature | p*r         | 1           | 0.9602583   | \n",
       "\n",
       "\n"
      ],
      "text/plain": [
       "  scenario    kernel[which.max(value)] value[which.max(value)]\n",
       "1 FB Friends  l+r                      1                      \n",
       "2 Gym members p+r                      1                      \n",
       "3 Rain        l+r*p                    1                      \n",
       "4 Salary      p+r                      1                      \n",
       "5 Sales       l+r                      1                      \n",
       "6 Temperature p*r                      1                      \n",
       "  lo_ci[which.max(value)]\n",
       "1 0.9860530              \n",
       "2 0.9250062              \n",
       "3 0.9705057              \n",
       "4 0.9178016              \n",
       "5 0.9974691              \n",
       "6 0.9602583              "
      ]
     },
     "metadata": {},
     "output_type": "display_data"
    }
   ],
   "source": [
    "# Which kernel is max\n",
    "to_plot %>%\n",
    "    group_by(scenario) %>%\n",
    "    summarize(kernel[which.max(value)], value[which.max(value)], lo_ci[which.max(value)])"
   ]
  },
  {
   "cell_type": "code",
   "execution_count": 130,
   "metadata": {},
   "outputs": [
    {
     "data": {
      "text/html": [
       "<table>\n",
       "<thead><tr><th scope=col>scenario</th><th scope=col>kernel</th><th scope=col>value</th><th scope=col>lo_ci</th><th scope=col>hi_ci</th></tr></thead>\n",
       "<tbody>\n",
       "\t<tr><td>FB Friends </td><td>l*p        </td><td>0.0000000  </td><td>-1.10066980</td><td>1.1006698  </td></tr>\n",
       "\t<tr><td>FB Friends </td><td>l+r        </td><td>1.0000000  </td><td> 0.98605304</td><td>1.0139470  </td></tr>\n",
       "\t<tr><td>FB Friends </td><td>l+r*p      </td><td>0.9834294  </td><td> 0.96686147</td><td>0.9999974  </td></tr>\n",
       "\t<tr><td>Gym members</td><td>l+r        </td><td>0.8931917  </td><td> 0.84270883</td><td>0.9436746  </td></tr>\n",
       "\t<tr><td>Gym members</td><td>l+r*p      </td><td>0.9787471  </td><td> 0.92367147</td><td>1.0338228  </td></tr>\n",
       "\t<tr><td>Gym members</td><td>p*r        </td><td>0.8941703  </td><td> 0.85084349</td><td>0.9374971  </td></tr>\n",
       "\t<tr><td>Gym members</td><td>p+r        </td><td>1.0000000  </td><td> 0.92500622</td><td>1.0749938  </td></tr>\n",
       "\t<tr><td>Rain       </td><td>l+r        </td><td>0.9816491  </td><td> 0.94775116</td><td>1.0155471  </td></tr>\n",
       "\t<tr><td>Rain       </td><td>l+r*p      </td><td>1.0000000  </td><td> 0.97050573</td><td>1.0294943  </td></tr>\n",
       "\t<tr><td>Rain       </td><td>p*r        </td><td>0.9890824  </td><td> 0.95572985</td><td>1.0224350  </td></tr>\n",
       "\t<tr><td>Rain       </td><td>p+r        </td><td>0.9323229  </td><td> 0.86999284</td><td>0.9946531  </td></tr>\n",
       "\t<tr><td>Salary     </td><td>l+r        </td><td>0.8945127  </td><td> 0.82931209</td><td>0.9597133  </td></tr>\n",
       "\t<tr><td>Salary     </td><td>l+r*p      </td><td>0.9177539  </td><td> 0.85189253</td><td>0.9836152  </td></tr>\n",
       "\t<tr><td>Salary     </td><td>p+r        </td><td>1.0000000  </td><td> 0.91780163</td><td>1.0821984  </td></tr>\n",
       "\t<tr><td>Sales      </td><td>l*p        </td><td>0.1495875  </td><td>-0.76993615</td><td>1.0691112  </td></tr>\n",
       "\t<tr><td>Sales      </td><td>l*p+r      </td><td>0.3383530  </td><td>-0.88260442</td><td>1.5593105  </td></tr>\n",
       "\t<tr><td>Sales      </td><td>l+p        </td><td>0.4951916  </td><td>-0.09695470</td><td>1.0873379  </td></tr>\n",
       "\t<tr><td>Sales      </td><td>l+r        </td><td>1.0000000  </td><td> 0.99746907</td><td>1.0025309  </td></tr>\n",
       "\t<tr><td>Sales      </td><td>l+r+p      </td><td>0.6096738  </td><td> 0.02964752</td><td>1.1897001  </td></tr>\n",
       "\t<tr><td>Sales      </td><td>p+r        </td><td>0.0000000  </td><td>-1.49343599</td><td>1.4934360  </td></tr>\n",
       "\t<tr><td>Temperature</td><td>l+r*p      </td><td>0.9428068  </td><td> 0.89356347</td><td>0.9920501  </td></tr>\n",
       "\t<tr><td>Temperature</td><td>p*r        </td><td>1.0000000  </td><td> 0.96025827</td><td>1.0397417  </td></tr>\n",
       "</tbody>\n",
       "</table>\n"
      ],
      "text/latex": [
       "\\begin{tabular}{r|lllll}\n",
       " scenario & kernel & value & lo\\_ci & hi\\_ci\\\\\n",
       "\\hline\n",
       "\t FB Friends  & l*p         & 0.0000000   & -1.10066980 & 1.1006698  \\\\\n",
       "\t FB Friends  & l+r         & 1.0000000   &  0.98605304 & 1.0139470  \\\\\n",
       "\t FB Friends  & l+r*p       & 0.9834294   &  0.96686147 & 0.9999974  \\\\\n",
       "\t Gym members & l+r         & 0.8931917   &  0.84270883 & 0.9436746  \\\\\n",
       "\t Gym members & l+r*p       & 0.9787471   &  0.92367147 & 1.0338228  \\\\\n",
       "\t Gym members & p*r         & 0.8941703   &  0.85084349 & 0.9374971  \\\\\n",
       "\t Gym members & p+r         & 1.0000000   &  0.92500622 & 1.0749938  \\\\\n",
       "\t Rain        & l+r         & 0.9816491   &  0.94775116 & 1.0155471  \\\\\n",
       "\t Rain        & l+r*p       & 1.0000000   &  0.97050573 & 1.0294943  \\\\\n",
       "\t Rain        & p*r         & 0.9890824   &  0.95572985 & 1.0224350  \\\\\n",
       "\t Rain        & p+r         & 0.9323229   &  0.86999284 & 0.9946531  \\\\\n",
       "\t Salary      & l+r         & 0.8945127   &  0.82931209 & 0.9597133  \\\\\n",
       "\t Salary      & l+r*p       & 0.9177539   &  0.85189253 & 0.9836152  \\\\\n",
       "\t Salary      & p+r         & 1.0000000   &  0.91780163 & 1.0821984  \\\\\n",
       "\t Sales       & l*p         & 0.1495875   & -0.76993615 & 1.0691112  \\\\\n",
       "\t Sales       & l*p+r       & 0.3383530   & -0.88260442 & 1.5593105  \\\\\n",
       "\t Sales       & l+p         & 0.4951916   & -0.09695470 & 1.0873379  \\\\\n",
       "\t Sales       & l+r         & 1.0000000   &  0.99746907 & 1.0025309  \\\\\n",
       "\t Sales       & l+r+p       & 0.6096738   &  0.02964752 & 1.1897001  \\\\\n",
       "\t Sales       & p+r         & 0.0000000   & -1.49343599 & 1.4934360  \\\\\n",
       "\t Temperature & l+r*p       & 0.9428068   &  0.89356347 & 0.9920501  \\\\\n",
       "\t Temperature & p*r         & 1.0000000   &  0.96025827 & 1.0397417  \\\\\n",
       "\\end{tabular}\n"
      ],
      "text/markdown": [
       "\n",
       "scenario | kernel | value | lo_ci | hi_ci | \n",
       "|---|---|---|---|---|---|---|---|---|---|---|---|---|---|---|---|---|---|---|---|---|---|\n",
       "| FB Friends  | l*p         | 0.0000000   | -1.10066980 | 1.1006698   | \n",
       "| FB Friends  | l+r         | 1.0000000   |  0.98605304 | 1.0139470   | \n",
       "| FB Friends  | l+r*p       | 0.9834294   |  0.96686147 | 0.9999974   | \n",
       "| Gym members | l+r         | 0.8931917   |  0.84270883 | 0.9436746   | \n",
       "| Gym members | l+r*p       | 0.9787471   |  0.92367147 | 1.0338228   | \n",
       "| Gym members | p*r         | 0.8941703   |  0.85084349 | 0.9374971   | \n",
       "| Gym members | p+r         | 1.0000000   |  0.92500622 | 1.0749938   | \n",
       "| Rain        | l+r         | 0.9816491   |  0.94775116 | 1.0155471   | \n",
       "| Rain        | l+r*p       | 1.0000000   |  0.97050573 | 1.0294943   | \n",
       "| Rain        | p*r         | 0.9890824   |  0.95572985 | 1.0224350   | \n",
       "| Rain        | p+r         | 0.9323229   |  0.86999284 | 0.9946531   | \n",
       "| Salary      | l+r         | 0.8945127   |  0.82931209 | 0.9597133   | \n",
       "| Salary      | l+r*p       | 0.9177539   |  0.85189253 | 0.9836152   | \n",
       "| Salary      | p+r         | 1.0000000   |  0.91780163 | 1.0821984   | \n",
       "| Sales       | l*p         | 0.1495875   | -0.76993615 | 1.0691112   | \n",
       "| Sales       | l*p+r       | 0.3383530   | -0.88260442 | 1.5593105   | \n",
       "| Sales       | l+p         | 0.4951916   | -0.09695470 | 1.0873379   | \n",
       "| Sales       | l+r         | 1.0000000   |  0.99746907 | 1.0025309   | \n",
       "| Sales       | l+r+p       | 0.6096738   |  0.02964752 | 1.1897001   | \n",
       "| Sales       | p+r         | 0.0000000   | -1.49343599 | 1.4934360   | \n",
       "| Temperature | l+r*p       | 0.9428068   |  0.89356347 | 0.9920501   | \n",
       "| Temperature | p*r         | 1.0000000   |  0.96025827 | 1.0397417   | \n",
       "\n",
       "\n"
      ],
      "text/plain": [
       "   scenario    kernel value     lo_ci       hi_ci    \n",
       "1  FB Friends  l*p    0.0000000 -1.10066980 1.1006698\n",
       "2  FB Friends  l+r    1.0000000  0.98605304 1.0139470\n",
       "3  FB Friends  l+r*p  0.9834294  0.96686147 0.9999974\n",
       "4  Gym members l+r    0.8931917  0.84270883 0.9436746\n",
       "5  Gym members l+r*p  0.9787471  0.92367147 1.0338228\n",
       "6  Gym members p*r    0.8941703  0.85084349 0.9374971\n",
       "7  Gym members p+r    1.0000000  0.92500622 1.0749938\n",
       "8  Rain        l+r    0.9816491  0.94775116 1.0155471\n",
       "9  Rain        l+r*p  1.0000000  0.97050573 1.0294943\n",
       "10 Rain        p*r    0.9890824  0.95572985 1.0224350\n",
       "11 Rain        p+r    0.9323229  0.86999284 0.9946531\n",
       "12 Salary      l+r    0.8945127  0.82931209 0.9597133\n",
       "13 Salary      l+r*p  0.9177539  0.85189253 0.9836152\n",
       "14 Salary      p+r    1.0000000  0.91780163 1.0821984\n",
       "15 Sales       l*p    0.1495875 -0.76993615 1.0691112\n",
       "16 Sales       l*p+r  0.3383530 -0.88260442 1.5593105\n",
       "17 Sales       l+p    0.4951916 -0.09695470 1.0873379\n",
       "18 Sales       l+r    1.0000000  0.99746907 1.0025309\n",
       "19 Sales       l+r+p  0.6096738  0.02964752 1.1897001\n",
       "20 Sales       p+r    0.0000000 -1.49343599 1.4934360\n",
       "21 Temperature l+r*p  0.9428068  0.89356347 0.9920501\n",
       "22 Temperature p*r    1.0000000  0.96025827 1.0397417"
      ]
     },
     "metadata": {},
     "output_type": "display_data"
    }
   ],
   "source": [
    "# Which other kernel compositions are statistically equivalent\n",
    "to_plot %>%\n",
    "    group_by(scenario) %>%\n",
    "    filter(hi_ci > lo_ci[which.max(value)]) %>%\n",
    "    select(scenario, kernel, value, lo_ci, hi_ci) %>%\n",
    "    arrange(scenario)"
   ]
  },
  {
   "cell_type": "markdown",
   "metadata": {},
   "source": [
    "# Full-Bayesian Posterior analysis"
   ]
  },
  {
   "cell_type": "markdown",
   "metadata": {},
   "source": [
    "### Preparing the data"
   ]
  },
  {
   "cell_type": "code",
   "execution_count": 131,
   "metadata": {},
   "outputs": [
    {
     "name": "stderr",
     "output_type": "stream",
     "text": [
      "Parsed with column specification:\n",
      "cols(\n",
      "  id = col_integer(),\n",
      "  kernel = col_character(),\n",
      "  lml = col_double(),\n",
      "  white_added = col_logical(),\n",
      "  second_exception = col_logical()\n",
      ")\n"
     ]
    }
   ],
   "source": [
    "lmls_posterior <- read_csv(\"output/full-bayesian-posterior/results_posterior_test_lmls.csv\")"
   ]
  },
  {
   "cell_type": "code",
   "execution_count": 132,
   "metadata": {},
   "outputs": [
    {
     "name": "stderr",
     "output_type": "stream",
     "text": [
      "Warning message:\n",
      "\"Missing column names filled in: 'X1' [1]\"Parsed with column specification:\n",
      "cols(\n",
      "  X1 = col_integer(),\n",
      "  id = col_integer(),\n",
      "  pid = col_character(),\n",
      "  scenario = col_character(),\n",
      "  x = col_integer(),\n",
      "  y = col_double(),\n",
      "  condition = col_character()\n",
      ")\n"
     ]
    }
   ],
   "source": [
    "# To add the 'scenario' column\n",
    "\n",
    "data_posterior <- read_csv(\"data/for_composititional_analysis_posterior.csv\")\n",
    "\n",
    "dict_posterior <- data_posterior %>%                        \n",
    "                        group_by(id, pid, scenario) %>%\n",
    "                        summarize()\n",
    "\n",
    "dict_posterior$pid <- NULL\n",
    "\n",
    "lmls_posterior <- merge(x = lmls_posterior, y = dict_posterior, by = c(\"id\", \"id\"), all.x = TRUE)\n",
    "\n",
    "# Adding 'participant id' (pid)\n",
    "lmls_posterior$pid <- floor((lmls_posterior$id-1) / 6) + 1"
   ]
  },
  {
   "cell_type": "markdown",
   "metadata": {},
   "source": [
    "### Analyzing"
   ]
  },
  {
   "cell_type": "code",
   "execution_count": 133,
   "metadata": {},
   "outputs": [
    {
     "name": "stdout",
     "output_type": "stream",
     "text": [
      "[1] \"White added\"\n"
     ]
    },
    {
     "data": {
      "text/html": [
       "3333"
      ],
      "text/latex": [
       "3333"
      ],
      "text/markdown": [
       "3333"
      ],
      "text/plain": [
       "[1] 3333"
      ]
     },
     "metadata": {},
     "output_type": "display_data"
    },
    {
     "data": {
      "text/html": [
       "6663"
      ],
      "text/latex": [
       "6663"
      ],
      "text/markdown": [
       "6663"
      ],
      "text/plain": [
       "[1] 6663"
      ]
     },
     "metadata": {},
     "output_type": "display_data"
    },
    {
     "data": {
      "text/html": [
       "9996"
      ],
      "text/latex": [
       "9996"
      ],
      "text/markdown": [
       "9996"
      ],
      "text/plain": [
       "[1] 9996"
      ]
     },
     "metadata": {},
     "output_type": "display_data"
    },
    {
     "name": "stdout",
     "output_type": "stream",
     "text": [
      "[1] \"Second exception\"\n"
     ]
    },
    {
     "data": {
      "text/html": [
       "168"
      ],
      "text/latex": [
       "168"
      ],
      "text/markdown": [
       "168"
      ],
      "text/plain": [
       "[1] 168"
      ]
     },
     "metadata": {},
     "output_type": "display_data"
    },
    {
     "data": {
      "text/html": [
       "9828"
      ],
      "text/latex": [
       "9828"
      ],
      "text/markdown": [
       "9828"
      ],
      "text/plain": [
       "[1] 9828"
      ]
     },
     "metadata": {},
     "output_type": "display_data"
    },
    {
     "data": {
      "text/html": [
       "9996"
      ],
      "text/latex": [
       "9996"
      ],
      "text/markdown": [
       "9996"
      ],
      "text/plain": [
       "[1] 9996"
      ]
     },
     "metadata": {},
     "output_type": "display_data"
    },
    {
     "name": "stdout",
     "output_type": "stream",
     "text": [
      "[1] \"Proportion of LML error and Second exception over the total\"\n"
     ]
    },
    {
     "data": {
      "text/html": [
       "'1.69%'"
      ],
      "text/latex": [
       "'1.69\\%'"
      ],
      "text/markdown": [
       "'1.69%'"
      ],
      "text/plain": [
       "[1] \"1.69%\""
      ]
     },
     "metadata": {},
     "output_type": "display_data"
    }
   ],
   "source": [
    "print('White added')\n",
    "\n",
    "lmls_posterior %>%\n",
    "    filter(white_added == 'TRUE') %>%\n",
    "    nrow\n",
    "\n",
    "lmls_posterior %>%\n",
    "    filter(white_added == 'FALSE') %>%\n",
    "    nrow\n",
    "\n",
    "lmls_posterior %>%\n",
    "    nrow\n",
    "\n",
    "#######\n",
    "\n",
    "print('Second exception')\n",
    "lmls_posterior %>%\n",
    "    filter(second_exception == 'TRUE') %>%\n",
    "    nrow\n",
    "\n",
    "lmls_posterior %>%\n",
    "    filter(second_exception == 'FALSE') %>%\n",
    "    nrow\n",
    "\n",
    "lmls_posterior %>%\n",
    "    nrow\n",
    "\n",
    "######\n",
    "\n",
    "print('Proportion of LML error and Second exception over the total')\n",
    "\n",
    "paste0(round((lmls_posterior %>%\n",
    "            filter(lml == -999999999 | second_exception == 'TRUE') %>%\n",
    "            nrow) / (lmls_posterior %>% nrow) * 100, 2), '%')"
   ]
  },
  {
   "cell_type": "code",
   "execution_count": 134,
   "metadata": {
    "collapsed": true
   },
   "outputs": [],
   "source": [
    "# Removing unusable data, and standardizing.\n",
    "\n",
    "lmls_posterior_f <- lmls_posterior %>%\n",
    "                    filter(second_exception == 'FALSE' & lml != -999999999) %>%\n",
    "                    group_by(pid, scenario) %>%\n",
    "                    mutate(lml_minus_min = lml - min(lml),\n",
    "                           lml_standard = lml_minus_min / (max(lml_minus_min) - min (lml_minus_min)))"
   ]
  },
  {
   "cell_type": "markdown",
   "metadata": {},
   "source": [
    "### Plotting"
   ]
  },
  {
   "cell_type": "code",
   "execution_count": 135,
   "metadata": {},
   "outputs": [
    {
     "data": {
      "text/html": [
       "<strong>png:</strong> 2"
      ],
      "text/latex": [
       "\\textbf{png:} 2"
      ],
      "text/markdown": [
       "**png:** 2"
      ],
      "text/plain": [
       "png \n",
       "  2 "
      ]
     },
     "metadata": {},
     "output_type": "display_data"
    }
   ],
   "source": [
    "# Plotting data\n",
    "to_plot<- lmls_posterior_f %>%\n",
    "            group_by(kernel, scenario) %>%\n",
    "            summarize(value = mean(lml_standard),\n",
    "                      lo_ci = t.test(lml_standard, conf.level=0.95)$conf.int[1],\n",
    "                      hi_ci = t.test(lml_standard, conf.level=0.95)$conf.int[2])\n",
    "\n",
    "# Plotting magic\n",
    "to_plot$kernel <- factor(to_plot$kernel, levels=kernels)\n",
    "\n",
    "lmls_temperature <- to_plot %>% filter(scenario == \"Temperature\")\n",
    "lmls_rain <- to_plot %>% filter(scenario == \"Rain\")\n",
    "lmls_sales <- to_plot %>% filter(scenario == \"Sales\")\n",
    "lmls_gym <- to_plot %>% filter(scenario == \"Gym members\")\n",
    "lmls_salary <- to_plot %>% filter(scenario == \"Salary\")\n",
    "lmls_fb <- to_plot %>% filter(scenario == \"FB Friends\")\n",
    "\n",
    "p1 <- plot_lmls(lmls_temperature, \"Temperature\", hide_x=TRUE)\n",
    "p2 <- plot_lmls(lmls_rain, \"Rain\", hide_x=TRUE)\n",
    "p3 <- plot_lmls(lmls_sales, \"Sales\", hide_x=TRUE, hide_y=TRUE)\n",
    "p4 <- plot_lmls(lmls_gym, \"Gym members\", hide_y=TRUE, hide_x=TRUE)\n",
    "p5 <- plot_lmls(lmls_salary, \"Salary\", hide_x=TRUE, hide_y=TRUE)\n",
    "p6 <- plot_lmls(lmls_fb, \"FB Friends\", hide_y=TRUE, hide_x=TRUE)\n",
    "\n",
    "#svg(\"Images/part_2/kernels_posterior_lmls.svg\", width=8, height=4)\n",
    "#multiplot(p1, p2, p3, p4, p5, p6, cols=3)\n",
    "#dev.off()"
   ]
  },
  {
   "cell_type": "code",
   "execution_count": 157,
   "metadata": {},
   "outputs": [
    {
     "data": {
      "text/html": [
       "<strong>png:</strong> 2"
      ],
      "text/latex": [
       "\\textbf{png:} 2"
      ],
      "text/markdown": [
       "**png:** 2"
      ],
      "text/plain": [
       "png \n",
       "  2 "
      ]
     },
     "metadata": {},
     "output_type": "display_data"
    }
   ],
   "source": [
    "# Plotting data\n",
    "to_plot <- lmls_posterior_f %>%\n",
    "            filter(lml > -10000) %>%\n",
    "            group_by(kernel, scenario) %>%\n",
    "            summarize(value = mean(lml),\n",
    "                      lo_ci = t.test(lml, conf.level=0.95)$conf.int[1],\n",
    "                      hi_ci = t.test(lml, conf.level=0.95)$conf.int[2])\n",
    "\n",
    "if(TRUE){\n",
    "    # Remove single components\n",
    "    to_plot <- to_plot %>%\n",
    "                    filter(kernel != 'l', kernel != 'p', kernel != 'r')\n",
    "\n",
    "    # Scaling the 'data to plot' to a 0-1 range\n",
    "    min_v = min(to_plot$value)\n",
    "    range_v = max(to_plot$value) - min(to_plot$value)\n",
    "\n",
    "    to_plot <- to_plot %>%\n",
    "                    group_by( scenario ) %>%\n",
    "                    mutate( lo_ci = (lo_ci - min(value)) / (max(value - min(value))),\n",
    "                            hi_ci = (hi_ci - min(value)) / (max(value - min(value))),  \n",
    "                            value = (value - min(value)) / (max(value - min(value))))  \n",
    "}\n",
    "\n",
    "# Plotting magic\n",
    "to_plot$kernel <- factor(to_plot$kernel, levels=kernels)\n",
    "\n",
    "lmls_temperature <- to_plot %>% filter(scenario == \"Temperature\")\n",
    "lmls_rain <- to_plot %>% filter(scenario == \"Rain\")\n",
    "lmls_sales <- to_plot %>% filter(scenario == \"Sales\")\n",
    "lmls_gym <- to_plot %>% filter(scenario == \"Gym members\")\n",
    "lmls_salary <- to_plot %>% filter(scenario == \"Salary\")\n",
    "lmls_fb <- to_plot %>% filter(scenario == \"FB Friends\")\n",
    "\n",
    "p1 <- plot_lmls(lmls_temperature, \"Temperature\", hide_x=TRUE)\n",
    "p2 <- plot_lmls(lmls_rain, \"Rain\", hide_x=TRUE)\n",
    "p3 <- plot_lmls(lmls_sales, \"Sales\", hide_x=TRUE, hide_y=TRUE)\n",
    "p4 <- plot_lmls(lmls_gym, \"Gym members\", hide_y=TRUE, hide_x=TRUE)\n",
    "p5 <- plot_lmls(lmls_salary, \"Salary\", hide_x=TRUE, hide_y=TRUE)\n",
    "p6 <- plot_lmls(lmls_fb, \"FB Friends\", hide_y=TRUE, hide_x=TRUE)\n",
    "\n",
    "pdf(\"Images/paper_images/kernels_posterior_lmls_2.pdf\", width=8, height=4)\n",
    "multiplot(p1, p2, p3, p4, p5, p6, cols=3)\n",
    "dev.off()"
   ]
  },
  {
   "cell_type": "code",
   "execution_count": 152,
   "metadata": {},
   "outputs": [
    {
     "data": {
      "text/html": [
       "<table>\n",
       "<thead><tr><th scope=col>id</th><th scope=col>kernel</th><th scope=col>lml</th><th scope=col>white_added</th><th scope=col>second_exception</th><th scope=col>scenario</th><th scope=col>pid</th><th scope=col>lml_minus_min</th><th scope=col>lml_standard</th></tr></thead>\n",
       "<tbody>\n",
       "\t<tr><td> 3           </td><td>r            </td><td>-2.644843e+09</td><td>FALSE        </td><td>FALSE        </td><td>Sales        </td><td> 1           </td><td>0.000000e+00 </td><td>0.0000000    </td></tr>\n",
       "\t<tr><td> 3           </td><td>l+r+p        </td><td>-5.692580e+04</td><td>FALSE        </td><td>FALSE        </td><td>Sales        </td><td> 1           </td><td>2.644786e+09 </td><td>0.9999785    </td></tr>\n",
       "\t<tr><td> 6           </td><td>r            </td><td>-3.138884e+07</td><td>FALSE        </td><td>FALSE        </td><td>FB Friends   </td><td> 1           </td><td>0.000000e+00 </td><td>0.0000000    </td></tr>\n",
       "\t<tr><td> 9           </td><td>l+r          </td><td>-3.070279e+06</td><td>FALSE        </td><td>FALSE        </td><td>Sales        </td><td> 2           </td><td>0.000000e+00 </td><td>0.0000000    </td></tr>\n",
       "\t<tr><td>15           </td><td>r            </td><td>-1.606312e+07</td><td>FALSE        </td><td>FALSE        </td><td>Sales        </td><td> 3           </td><td>0.000000e+00 </td><td>0.0000000    </td></tr>\n",
       "\t<tr><td>15           </td><td>l+p          </td><td>-1.646337e+05</td><td> TRUE        </td><td>FALSE        </td><td>Sales        </td><td> 3           </td><td>1.589849e+07 </td><td>0.9897590    </td></tr>\n",
       "\t<tr><td>15           </td><td>p+r          </td><td>-4.298852e+04</td><td>FALSE        </td><td>FALSE        </td><td>Sales        </td><td> 3           </td><td>1.602013e+07 </td><td>0.9973320    </td></tr>\n",
       "\t<tr><td>21           </td><td>l+r          </td><td>-5.957074e+04</td><td>FALSE        </td><td>FALSE        </td><td>Sales        </td><td> 4           </td><td>1.313060e+07 </td><td>0.9955022    </td></tr>\n",
       "\t<tr><td>21           </td><td>p+r          </td><td>-1.319017e+07</td><td>FALSE        </td><td>FALSE        </td><td>Sales        </td><td> 4           </td><td>0.000000e+00 </td><td>0.0000000    </td></tr>\n",
       "\t<tr><td>24           </td><td>r            </td><td>-1.308044e+04</td><td>FALSE        </td><td>FALSE        </td><td>FB Friends   </td><td> 4           </td><td>5.545827e+05 </td><td>0.9773089    </td></tr>\n",
       "\t<tr><td>24           </td><td>l+r          </td><td>-5.676632e+05</td><td>FALSE        </td><td>FALSE        </td><td>FB Friends   </td><td> 4           </td><td>0.000000e+00 </td><td>0.0000000    </td></tr>\n",
       "\t<tr><td>27           </td><td>p            </td><td>-3.742721e+05</td><td>FALSE        </td><td>FALSE        </td><td>Sales        </td><td> 5           </td><td>2.039996e+11 </td><td>0.9999982    </td></tr>\n",
       "\t<tr><td>27           </td><td>p+r          </td><td>-2.040000e+11</td><td>FALSE        </td><td>FALSE        </td><td>Sales        </td><td> 5           </td><td>0.000000e+00 </td><td>0.0000000    </td></tr>\n",
       "\t<tr><td>30           </td><td>p+r          </td><td>-6.572456e+09</td><td>FALSE        </td><td>FALSE        </td><td>FB Friends   </td><td> 5           </td><td>0.000000e+00 </td><td>0.0000000    </td></tr>\n",
       "\t<tr><td>33           </td><td>r            </td><td>-1.109218e+10</td><td>FALSE        </td><td>FALSE        </td><td>Sales        </td><td> 6           </td><td>0.000000e+00 </td><td>0.0000000    </td></tr>\n",
       "\t<tr><td>36           </td><td>r            </td><td>-9.338263e+06</td><td>FALSE        </td><td>FALSE        </td><td>FB Friends   </td><td> 6           </td><td>0.000000e+00 </td><td>0.0000000    </td></tr>\n",
       "\t<tr><td>39           </td><td>p            </td><td>-4.003336e+04</td><td>FALSE        </td><td>FALSE        </td><td>Sales        </td><td> 7           </td><td>0.000000e+00 </td><td>0.0000000    </td></tr>\n",
       "\t<tr><td>39           </td><td>l+p          </td><td>-1.539776e+04</td><td>FALSE        </td><td>FALSE        </td><td>Sales        </td><td> 7           </td><td>2.463560e+04 </td><td>0.6202983    </td></tr>\n",
       "\t<tr><td>39           </td><td>p+r          </td><td>-1.060303e+04</td><td>FALSE        </td><td>FALSE        </td><td>Sales        </td><td> 7           </td><td>2.943033e+04 </td><td>0.7410243    </td></tr>\n",
       "\t<tr><td>42           </td><td>p+r          </td><td>-1.133726e+05</td><td>FALSE        </td><td>FALSE        </td><td>FB Friends   </td><td> 7           </td><td>0.000000e+00 </td><td>0.0000000    </td></tr>\n",
       "\t<tr><td>45           </td><td>r            </td><td>-1.884738e+08</td><td>FALSE        </td><td>FALSE        </td><td>Sales        </td><td> 8           </td><td>0.000000e+00 </td><td>0.0000000    </td></tr>\n",
       "\t<tr><td>45           </td><td>l+p          </td><td>-2.333830e+04</td><td>FALSE        </td><td>FALSE        </td><td>Sales        </td><td> 8           </td><td>1.884504e+08 </td><td>0.9998778    </td></tr>\n",
       "\t<tr><td>48           </td><td>r            </td><td>-6.427949e+05</td><td>FALSE        </td><td>FALSE        </td><td>FB Friends   </td><td> 8           </td><td>0.000000e+00 </td><td>0.0000000    </td></tr>\n",
       "\t<tr><td>51           </td><td>r            </td><td>-5.561405e+04</td><td>FALSE        </td><td>FALSE        </td><td>Sales        </td><td> 9           </td><td>0.000000e+00 </td><td>0.0000000    </td></tr>\n",
       "\t<tr><td>51           </td><td>l+r+p        </td><td>-1.142162e+04</td><td>FALSE        </td><td>FALSE        </td><td>Sales        </td><td> 9           </td><td>4.419244e+04 </td><td>0.7986860    </td></tr>\n",
       "\t<tr><td>54           </td><td>r            </td><td>-2.679118e+09</td><td>FALSE        </td><td>FALSE        </td><td>FB Friends   </td><td> 9           </td><td>2.432218e+09 </td><td>0.4758479    </td></tr>\n",
       "\t<tr><td>54           </td><td>l+p          </td><td>-5.111336e+09</td><td>FALSE        </td><td>FALSE        </td><td>FB Friends   </td><td> 9           </td><td>0.000000e+00 </td><td>0.0000000    </td></tr>\n",
       "\t<tr><td>57           </td><td>r            </td><td>-6.579808e+05</td><td>FALSE        </td><td>FALSE        </td><td>Sales        </td><td>10           </td><td>0.000000e+00 </td><td>0.0000000    </td></tr>\n",
       "\t<tr><td>57           </td><td>l+p          </td><td>-1.238018e+05</td><td>FALSE        </td><td>FALSE        </td><td>Sales        </td><td>10           </td><td>5.341789e+05 </td><td>0.8120010    </td></tr>\n",
       "\t<tr><td>57           </td><td>p*r          </td><td>-1.157031e+04</td><td>FALSE        </td><td>FALSE        </td><td>Sales        </td><td>10           </td><td>6.464105e+05 </td><td>0.9826033    </td></tr>\n",
       "\t<tr><td>...</td><td>...</td><td>...</td><td>...</td><td>...</td><td>...</td><td>...</td><td>...</td><td>...</td></tr>\n",
       "\t<tr><td>672          </td><td>r            </td><td>-2.505692e+04</td><td>FALSE        </td><td>FALSE        </td><td>FB Friends   </td><td>112          </td><td>0.000000e+00 </td><td>0.000000000  </td></tr>\n",
       "\t<tr><td>674          </td><td>l+p          </td><td>-1.990729e+07</td><td>FALSE        </td><td>FALSE        </td><td>Rain         </td><td>113          </td><td>0.000000e+00 </td><td>0.000000000  </td></tr>\n",
       "\t<tr><td>675          </td><td>r            </td><td>-5.321829e+08</td><td>FALSE        </td><td>FALSE        </td><td>Sales        </td><td>113          </td><td>0.000000e+00 </td><td>0.000000000  </td></tr>\n",
       "\t<tr><td>675          </td><td>l+r          </td><td>-3.297814e+06</td><td>FALSE        </td><td>FALSE        </td><td>Sales        </td><td>113          </td><td>5.288851e+08 </td><td>0.993803676  </td></tr>\n",
       "\t<tr><td>681          </td><td>l+p          </td><td>-7.375499e+04</td><td>FALSE        </td><td>FALSE        </td><td>Sales        </td><td>114          </td><td>9.481547e+04 </td><td>0.563310480  </td></tr>\n",
       "\t<tr><td>681          </td><td>p+r          </td><td>-1.685705e+05</td><td>FALSE        </td><td>FALSE        </td><td>Sales        </td><td>114          </td><td>0.000000e+00 </td><td>0.000000000  </td></tr>\n",
       "\t<tr><td>687          </td><td>p            </td><td>-9.793003e+04</td><td>FALSE        </td><td>FALSE        </td><td>Sales        </td><td>115          </td><td>6.451523e+08 </td><td>0.999848513  </td></tr>\n",
       "\t<tr><td>687          </td><td>r            </td><td>-6.452502e+08</td><td>FALSE        </td><td>FALSE        </td><td>Sales        </td><td>115          </td><td>0.000000e+00 </td><td>0.000000000  </td></tr>\n",
       "\t<tr><td>687          </td><td>l+p          </td><td>-2.194707e+04</td><td>FALSE        </td><td>FALSE        </td><td>Sales        </td><td>115          </td><td>6.452283e+08 </td><td>0.999966271  </td></tr>\n",
       "\t<tr><td>690          </td><td>r            </td><td>-1.182197e+10</td><td>FALSE        </td><td>FALSE        </td><td>FB Friends   </td><td>115          </td><td>0.000000e+00 </td><td>0.000000000  </td></tr>\n",
       "\t<tr><td>690          </td><td>l*p+r        </td><td>-4.677647e+05</td><td> TRUE        </td><td>FALSE        </td><td>FB Friends   </td><td>115          </td><td>1.182150e+10 </td><td>0.999960453  </td></tr>\n",
       "\t<tr><td>693          </td><td>p            </td><td>-1.902373e+07</td><td> TRUE        </td><td>FALSE        </td><td>Sales        </td><td>116          </td><td>0.000000e+00 </td><td>0.000000000  </td></tr>\n",
       "\t<tr><td>693          </td><td>r            </td><td>-7.181663e+04</td><td>FALSE        </td><td>FALSE        </td><td>Sales        </td><td>116          </td><td>1.895191e+07 </td><td>0.996239285  </td></tr>\n",
       "\t<tr><td>693          </td><td>l+r          </td><td>-1.925838e+06</td><td>FALSE        </td><td>FALSE        </td><td>Sales        </td><td>116          </td><td>1.709789e+07 </td><td>0.898779482  </td></tr>\n",
       "\t<tr><td>699          </td><td>p+r          </td><td>-2.483129e+06</td><td>FALSE        </td><td>FALSE        </td><td>Sales        </td><td>117          </td><td>0.000000e+00 </td><td>0.000000000  </td></tr>\n",
       "\t<tr><td>702          </td><td>r            </td><td>-1.683931e+07</td><td>FALSE        </td><td>FALSE        </td><td>FB Friends   </td><td>117          </td><td>0.000000e+00 </td><td>0.000000000  </td></tr>\n",
       "\t<tr><td>702          </td><td>l+p          </td><td>-3.542868e+04</td><td>FALSE        </td><td>FALSE        </td><td>FB Friends   </td><td>117          </td><td>1.680388e+07 </td><td>0.997904497  </td></tr>\n",
       "\t<tr><td>705          </td><td>r            </td><td>-4.630000e+11</td><td>FALSE        </td><td>FALSE        </td><td>Sales        </td><td>118          </td><td>0.000000e+00 </td><td>0.000000000  </td></tr>\n",
       "\t<tr><td>705          </td><td>l+p          </td><td>-1.643108e+04</td><td>FALSE        </td><td>FALSE        </td><td>Sales        </td><td>118          </td><td>4.630000e+11 </td><td>0.999999965  </td></tr>\n",
       "\t<tr><td>705          </td><td>p+r          </td><td>-1.826636e+04</td><td> TRUE        </td><td>FALSE        </td><td>Sales        </td><td>118          </td><td>4.630000e+11 </td><td>0.999999961  </td></tr>\n",
       "\t<tr><td>705          </td><td>p*r          </td><td>-2.575273e+06</td><td> TRUE        </td><td>FALSE        </td><td>Sales        </td><td>118          </td><td>4.629974e+11 </td><td>0.999994438  </td></tr>\n",
       "\t<tr><td>705          </td><td>l+r+p        </td><td>-1.308573e+04</td><td>FALSE        </td><td>FALSE        </td><td>Sales        </td><td>118          </td><td>4.630000e+11 </td><td>0.999999972  </td></tr>\n",
       "\t<tr><td>708          </td><td>p            </td><td>-3.958730e+04</td><td>FALSE        </td><td>FALSE        </td><td>FB Friends   </td><td>118          </td><td>2.682644e+10 </td><td>0.999998531  </td></tr>\n",
       "\t<tr><td>708          </td><td>p+r          </td><td>-2.682648e+10</td><td>FALSE        </td><td>FALSE        </td><td>FB Friends   </td><td>118          </td><td>0.000000e+00 </td><td>0.000000000  </td></tr>\n",
       "\t<tr><td>711          </td><td>r            </td><td>-1.200066e+07</td><td>FALSE        </td><td>FALSE        </td><td>Sales        </td><td>119          </td><td>1.146190e+05 </td><td>0.009460839  </td></tr>\n",
       "\t<tr><td>711          </td><td>p+r          </td><td>-1.211528e+07</td><td>FALSE        </td><td>FALSE        </td><td>Sales        </td><td>119          </td><td>0.000000e+00 </td><td>0.000000000  </td></tr>\n",
       "\t<tr><td>711          </td><td>p*r          </td><td>-1.025994e+04</td><td>FALSE        </td><td>FALSE        </td><td>Sales        </td><td>119          </td><td>1.210502e+07 </td><td>0.999168380  </td></tr>\n",
       "\t<tr><td>711          </td><td>l+r+p        </td><td>-2.593969e+06</td><td> TRUE        </td><td>FALSE        </td><td>Sales        </td><td>119          </td><td>9.521315e+06 </td><td>0.785904818  </td></tr>\n",
       "\t<tr><td>714          </td><td>r            </td><td>-1.090022e+07</td><td>FALSE        </td><td>FALSE        </td><td>FB Friends   </td><td>119          </td><td>0.000000e+00 </td><td>0.000000000  </td></tr>\n",
       "\t<tr><td>714          </td><td>l+p          </td><td>-2.480422e+04</td><td>FALSE        </td><td>FALSE        </td><td>FB Friends   </td><td>119          </td><td>1.087541e+07 </td><td>0.997727473  </td></tr>\n",
       "</tbody>\n",
       "</table>\n"
      ],
      "text/latex": [
       "\\begin{tabular}{r|lllllllll}\n",
       " id & kernel & lml & white\\_added & second\\_exception & scenario & pid & lml\\_minus\\_min & lml\\_standard\\\\\n",
       "\\hline\n",
       "\t  3            & r             & -2.644843e+09 & FALSE         & FALSE         & Sales         &  1            & 0.000000e+00  & 0.0000000    \\\\\n",
       "\t  3            & l+r+p         & -5.692580e+04 & FALSE         & FALSE         & Sales         &  1            & 2.644786e+09  & 0.9999785    \\\\\n",
       "\t  6            & r             & -3.138884e+07 & FALSE         & FALSE         & FB Friends    &  1            & 0.000000e+00  & 0.0000000    \\\\\n",
       "\t  9            & l+r           & -3.070279e+06 & FALSE         & FALSE         & Sales         &  2            & 0.000000e+00  & 0.0000000    \\\\\n",
       "\t 15            & r             & -1.606312e+07 & FALSE         & FALSE         & Sales         &  3            & 0.000000e+00  & 0.0000000    \\\\\n",
       "\t 15            & l+p           & -1.646337e+05 &  TRUE         & FALSE         & Sales         &  3            & 1.589849e+07  & 0.9897590    \\\\\n",
       "\t 15            & p+r           & -4.298852e+04 & FALSE         & FALSE         & Sales         &  3            & 1.602013e+07  & 0.9973320    \\\\\n",
       "\t 21            & l+r           & -5.957074e+04 & FALSE         & FALSE         & Sales         &  4            & 1.313060e+07  & 0.9955022    \\\\\n",
       "\t 21            & p+r           & -1.319017e+07 & FALSE         & FALSE         & Sales         &  4            & 0.000000e+00  & 0.0000000    \\\\\n",
       "\t 24            & r             & -1.308044e+04 & FALSE         & FALSE         & FB Friends    &  4            & 5.545827e+05  & 0.9773089    \\\\\n",
       "\t 24            & l+r           & -5.676632e+05 & FALSE         & FALSE         & FB Friends    &  4            & 0.000000e+00  & 0.0000000    \\\\\n",
       "\t 27            & p             & -3.742721e+05 & FALSE         & FALSE         & Sales         &  5            & 2.039996e+11  & 0.9999982    \\\\\n",
       "\t 27            & p+r           & -2.040000e+11 & FALSE         & FALSE         & Sales         &  5            & 0.000000e+00  & 0.0000000    \\\\\n",
       "\t 30            & p+r           & -6.572456e+09 & FALSE         & FALSE         & FB Friends    &  5            & 0.000000e+00  & 0.0000000    \\\\\n",
       "\t 33            & r             & -1.109218e+10 & FALSE         & FALSE         & Sales         &  6            & 0.000000e+00  & 0.0000000    \\\\\n",
       "\t 36            & r             & -9.338263e+06 & FALSE         & FALSE         & FB Friends    &  6            & 0.000000e+00  & 0.0000000    \\\\\n",
       "\t 39            & p             & -4.003336e+04 & FALSE         & FALSE         & Sales         &  7            & 0.000000e+00  & 0.0000000    \\\\\n",
       "\t 39            & l+p           & -1.539776e+04 & FALSE         & FALSE         & Sales         &  7            & 2.463560e+04  & 0.6202983    \\\\\n",
       "\t 39            & p+r           & -1.060303e+04 & FALSE         & FALSE         & Sales         &  7            & 2.943033e+04  & 0.7410243    \\\\\n",
       "\t 42            & p+r           & -1.133726e+05 & FALSE         & FALSE         & FB Friends    &  7            & 0.000000e+00  & 0.0000000    \\\\\n",
       "\t 45            & r             & -1.884738e+08 & FALSE         & FALSE         & Sales         &  8            & 0.000000e+00  & 0.0000000    \\\\\n",
       "\t 45            & l+p           & -2.333830e+04 & FALSE         & FALSE         & Sales         &  8            & 1.884504e+08  & 0.9998778    \\\\\n",
       "\t 48            & r             & -6.427949e+05 & FALSE         & FALSE         & FB Friends    &  8            & 0.000000e+00  & 0.0000000    \\\\\n",
       "\t 51            & r             & -5.561405e+04 & FALSE         & FALSE         & Sales         &  9            & 0.000000e+00  & 0.0000000    \\\\\n",
       "\t 51            & l+r+p         & -1.142162e+04 & FALSE         & FALSE         & Sales         &  9            & 4.419244e+04  & 0.7986860    \\\\\n",
       "\t 54            & r             & -2.679118e+09 & FALSE         & FALSE         & FB Friends    &  9            & 2.432218e+09  & 0.4758479    \\\\\n",
       "\t 54            & l+p           & -5.111336e+09 & FALSE         & FALSE         & FB Friends    &  9            & 0.000000e+00  & 0.0000000    \\\\\n",
       "\t 57            & r             & -6.579808e+05 & FALSE         & FALSE         & Sales         & 10            & 0.000000e+00  & 0.0000000    \\\\\n",
       "\t 57            & l+p           & -1.238018e+05 & FALSE         & FALSE         & Sales         & 10            & 5.341789e+05  & 0.8120010    \\\\\n",
       "\t 57            & p*r           & -1.157031e+04 & FALSE         & FALSE         & Sales         & 10            & 6.464105e+05  & 0.9826033    \\\\\n",
       "\t ... & ... & ... & ... & ... & ... & ... & ... & ...\\\\\n",
       "\t 672           & r             & -2.505692e+04 & FALSE         & FALSE         & FB Friends    & 112           & 0.000000e+00  & 0.000000000  \\\\\n",
       "\t 674           & l+p           & -1.990729e+07 & FALSE         & FALSE         & Rain          & 113           & 0.000000e+00  & 0.000000000  \\\\\n",
       "\t 675           & r             & -5.321829e+08 & FALSE         & FALSE         & Sales         & 113           & 0.000000e+00  & 0.000000000  \\\\\n",
       "\t 675           & l+r           & -3.297814e+06 & FALSE         & FALSE         & Sales         & 113           & 5.288851e+08  & 0.993803676  \\\\\n",
       "\t 681           & l+p           & -7.375499e+04 & FALSE         & FALSE         & Sales         & 114           & 9.481547e+04  & 0.563310480  \\\\\n",
       "\t 681           & p+r           & -1.685705e+05 & FALSE         & FALSE         & Sales         & 114           & 0.000000e+00  & 0.000000000  \\\\\n",
       "\t 687           & p             & -9.793003e+04 & FALSE         & FALSE         & Sales         & 115           & 6.451523e+08  & 0.999848513  \\\\\n",
       "\t 687           & r             & -6.452502e+08 & FALSE         & FALSE         & Sales         & 115           & 0.000000e+00  & 0.000000000  \\\\\n",
       "\t 687           & l+p           & -2.194707e+04 & FALSE         & FALSE         & Sales         & 115           & 6.452283e+08  & 0.999966271  \\\\\n",
       "\t 690           & r             & -1.182197e+10 & FALSE         & FALSE         & FB Friends    & 115           & 0.000000e+00  & 0.000000000  \\\\\n",
       "\t 690           & l*p+r         & -4.677647e+05 &  TRUE         & FALSE         & FB Friends    & 115           & 1.182150e+10  & 0.999960453  \\\\\n",
       "\t 693           & p             & -1.902373e+07 &  TRUE         & FALSE         & Sales         & 116           & 0.000000e+00  & 0.000000000  \\\\\n",
       "\t 693           & r             & -7.181663e+04 & FALSE         & FALSE         & Sales         & 116           & 1.895191e+07  & 0.996239285  \\\\\n",
       "\t 693           & l+r           & -1.925838e+06 & FALSE         & FALSE         & Sales         & 116           & 1.709789e+07  & 0.898779482  \\\\\n",
       "\t 699           & p+r           & -2.483129e+06 & FALSE         & FALSE         & Sales         & 117           & 0.000000e+00  & 0.000000000  \\\\\n",
       "\t 702           & r             & -1.683931e+07 & FALSE         & FALSE         & FB Friends    & 117           & 0.000000e+00  & 0.000000000  \\\\\n",
       "\t 702           & l+p           & -3.542868e+04 & FALSE         & FALSE         & FB Friends    & 117           & 1.680388e+07  & 0.997904497  \\\\\n",
       "\t 705           & r             & -4.630000e+11 & FALSE         & FALSE         & Sales         & 118           & 0.000000e+00  & 0.000000000  \\\\\n",
       "\t 705           & l+p           & -1.643108e+04 & FALSE         & FALSE         & Sales         & 118           & 4.630000e+11  & 0.999999965  \\\\\n",
       "\t 705           & p+r           & -1.826636e+04 &  TRUE         & FALSE         & Sales         & 118           & 4.630000e+11  & 0.999999961  \\\\\n",
       "\t 705           & p*r           & -2.575273e+06 &  TRUE         & FALSE         & Sales         & 118           & 4.629974e+11  & 0.999994438  \\\\\n",
       "\t 705           & l+r+p         & -1.308573e+04 & FALSE         & FALSE         & Sales         & 118           & 4.630000e+11  & 0.999999972  \\\\\n",
       "\t 708           & p             & -3.958730e+04 & FALSE         & FALSE         & FB Friends    & 118           & 2.682644e+10  & 0.999998531  \\\\\n",
       "\t 708           & p+r           & -2.682648e+10 & FALSE         & FALSE         & FB Friends    & 118           & 0.000000e+00  & 0.000000000  \\\\\n",
       "\t 711           & r             & -1.200066e+07 & FALSE         & FALSE         & Sales         & 119           & 1.146190e+05  & 0.009460839  \\\\\n",
       "\t 711           & p+r           & -1.211528e+07 & FALSE         & FALSE         & Sales         & 119           & 0.000000e+00  & 0.000000000  \\\\\n",
       "\t 711           & p*r           & -1.025994e+04 & FALSE         & FALSE         & Sales         & 119           & 1.210502e+07  & 0.999168380  \\\\\n",
       "\t 711           & l+r+p         & -2.593969e+06 &  TRUE         & FALSE         & Sales         & 119           & 9.521315e+06  & 0.785904818  \\\\\n",
       "\t 714           & r             & -1.090022e+07 & FALSE         & FALSE         & FB Friends    & 119           & 0.000000e+00  & 0.000000000  \\\\\n",
       "\t 714           & l+p           & -2.480422e+04 & FALSE         & FALSE         & FB Friends    & 119           & 1.087541e+07  & 0.997727473  \\\\\n",
       "\\end{tabular}\n"
      ],
      "text/markdown": [
       "\n",
       "id | kernel | lml | white_added | second_exception | scenario | pid | lml_minus_min | lml_standard | \n",
       "|---|---|---|---|---|---|---|---|---|---|---|---|---|---|---|---|---|---|---|---|---|---|---|---|---|---|---|---|---|---|---|---|---|---|---|---|---|---|---|---|---|---|---|---|---|---|---|---|---|---|---|---|---|---|---|---|---|---|---|---|---|\n",
       "|  3            | r             | -2.644843e+09 | FALSE         | FALSE         | Sales         |  1            | 0.000000e+00  | 0.0000000     | \n",
       "|  3            | l+r+p         | -5.692580e+04 | FALSE         | FALSE         | Sales         |  1            | 2.644786e+09  | 0.9999785     | \n",
       "|  6            | r             | -3.138884e+07 | FALSE         | FALSE         | FB Friends    |  1            | 0.000000e+00  | 0.0000000     | \n",
       "|  9            | l+r           | -3.070279e+06 | FALSE         | FALSE         | Sales         |  2            | 0.000000e+00  | 0.0000000     | \n",
       "| 15            | r             | -1.606312e+07 | FALSE         | FALSE         | Sales         |  3            | 0.000000e+00  | 0.0000000     | \n",
       "| 15            | l+p           | -1.646337e+05 |  TRUE         | FALSE         | Sales         |  3            | 1.589849e+07  | 0.9897590     | \n",
       "| 15            | p+r           | -4.298852e+04 | FALSE         | FALSE         | Sales         |  3            | 1.602013e+07  | 0.9973320     | \n",
       "| 21            | l+r           | -5.957074e+04 | FALSE         | FALSE         | Sales         |  4            | 1.313060e+07  | 0.9955022     | \n",
       "| 21            | p+r           | -1.319017e+07 | FALSE         | FALSE         | Sales         |  4            | 0.000000e+00  | 0.0000000     | \n",
       "| 24            | r             | -1.308044e+04 | FALSE         | FALSE         | FB Friends    |  4            | 5.545827e+05  | 0.9773089     | \n",
       "| 24            | l+r           | -5.676632e+05 | FALSE         | FALSE         | FB Friends    |  4            | 0.000000e+00  | 0.0000000     | \n",
       "| 27            | p             | -3.742721e+05 | FALSE         | FALSE         | Sales         |  5            | 2.039996e+11  | 0.9999982     | \n",
       "| 27            | p+r           | -2.040000e+11 | FALSE         | FALSE         | Sales         |  5            | 0.000000e+00  | 0.0000000     | \n",
       "| 30            | p+r           | -6.572456e+09 | FALSE         | FALSE         | FB Friends    |  5            | 0.000000e+00  | 0.0000000     | \n",
       "| 33            | r             | -1.109218e+10 | FALSE         | FALSE         | Sales         |  6            | 0.000000e+00  | 0.0000000     | \n",
       "| 36            | r             | -9.338263e+06 | FALSE         | FALSE         | FB Friends    |  6            | 0.000000e+00  | 0.0000000     | \n",
       "| 39            | p             | -4.003336e+04 | FALSE         | FALSE         | Sales         |  7            | 0.000000e+00  | 0.0000000     | \n",
       "| 39            | l+p           | -1.539776e+04 | FALSE         | FALSE         | Sales         |  7            | 2.463560e+04  | 0.6202983     | \n",
       "| 39            | p+r           | -1.060303e+04 | FALSE         | FALSE         | Sales         |  7            | 2.943033e+04  | 0.7410243     | \n",
       "| 42            | p+r           | -1.133726e+05 | FALSE         | FALSE         | FB Friends    |  7            | 0.000000e+00  | 0.0000000     | \n",
       "| 45            | r             | -1.884738e+08 | FALSE         | FALSE         | Sales         |  8            | 0.000000e+00  | 0.0000000     | \n",
       "| 45            | l+p           | -2.333830e+04 | FALSE         | FALSE         | Sales         |  8            | 1.884504e+08  | 0.9998778     | \n",
       "| 48            | r             | -6.427949e+05 | FALSE         | FALSE         | FB Friends    |  8            | 0.000000e+00  | 0.0000000     | \n",
       "| 51            | r             | -5.561405e+04 | FALSE         | FALSE         | Sales         |  9            | 0.000000e+00  | 0.0000000     | \n",
       "| 51            | l+r+p         | -1.142162e+04 | FALSE         | FALSE         | Sales         |  9            | 4.419244e+04  | 0.7986860     | \n",
       "| 54            | r             | -2.679118e+09 | FALSE         | FALSE         | FB Friends    |  9            | 2.432218e+09  | 0.4758479     | \n",
       "| 54            | l+p           | -5.111336e+09 | FALSE         | FALSE         | FB Friends    |  9            | 0.000000e+00  | 0.0000000     | \n",
       "| 57            | r             | -6.579808e+05 | FALSE         | FALSE         | Sales         | 10            | 0.000000e+00  | 0.0000000     | \n",
       "| 57            | l+p           | -1.238018e+05 | FALSE         | FALSE         | Sales         | 10            | 5.341789e+05  | 0.8120010     | \n",
       "| 57            | p*r           | -1.157031e+04 | FALSE         | FALSE         | Sales         | 10            | 6.464105e+05  | 0.9826033     | \n",
       "| ... | ... | ... | ... | ... | ... | ... | ... | ... | \n",
       "| 672           | r             | -2.505692e+04 | FALSE         | FALSE         | FB Friends    | 112           | 0.000000e+00  | 0.000000000   | \n",
       "| 674           | l+p           | -1.990729e+07 | FALSE         | FALSE         | Rain          | 113           | 0.000000e+00  | 0.000000000   | \n",
       "| 675           | r             | -5.321829e+08 | FALSE         | FALSE         | Sales         | 113           | 0.000000e+00  | 0.000000000   | \n",
       "| 675           | l+r           | -3.297814e+06 | FALSE         | FALSE         | Sales         | 113           | 5.288851e+08  | 0.993803676   | \n",
       "| 681           | l+p           | -7.375499e+04 | FALSE         | FALSE         | Sales         | 114           | 9.481547e+04  | 0.563310480   | \n",
       "| 681           | p+r           | -1.685705e+05 | FALSE         | FALSE         | Sales         | 114           | 0.000000e+00  | 0.000000000   | \n",
       "| 687           | p             | -9.793003e+04 | FALSE         | FALSE         | Sales         | 115           | 6.451523e+08  | 0.999848513   | \n",
       "| 687           | r             | -6.452502e+08 | FALSE         | FALSE         | Sales         | 115           | 0.000000e+00  | 0.000000000   | \n",
       "| 687           | l+p           | -2.194707e+04 | FALSE         | FALSE         | Sales         | 115           | 6.452283e+08  | 0.999966271   | \n",
       "| 690           | r             | -1.182197e+10 | FALSE         | FALSE         | FB Friends    | 115           | 0.000000e+00  | 0.000000000   | \n",
       "| 690           | l*p+r         | -4.677647e+05 |  TRUE         | FALSE         | FB Friends    | 115           | 1.182150e+10  | 0.999960453   | \n",
       "| 693           | p             | -1.902373e+07 |  TRUE         | FALSE         | Sales         | 116           | 0.000000e+00  | 0.000000000   | \n",
       "| 693           | r             | -7.181663e+04 | FALSE         | FALSE         | Sales         | 116           | 1.895191e+07  | 0.996239285   | \n",
       "| 693           | l+r           | -1.925838e+06 | FALSE         | FALSE         | Sales         | 116           | 1.709789e+07  | 0.898779482   | \n",
       "| 699           | p+r           | -2.483129e+06 | FALSE         | FALSE         | Sales         | 117           | 0.000000e+00  | 0.000000000   | \n",
       "| 702           | r             | -1.683931e+07 | FALSE         | FALSE         | FB Friends    | 117           | 0.000000e+00  | 0.000000000   | \n",
       "| 702           | l+p           | -3.542868e+04 | FALSE         | FALSE         | FB Friends    | 117           | 1.680388e+07  | 0.997904497   | \n",
       "| 705           | r             | -4.630000e+11 | FALSE         | FALSE         | Sales         | 118           | 0.000000e+00  | 0.000000000   | \n",
       "| 705           | l+p           | -1.643108e+04 | FALSE         | FALSE         | Sales         | 118           | 4.630000e+11  | 0.999999965   | \n",
       "| 705           | p+r           | -1.826636e+04 |  TRUE         | FALSE         | Sales         | 118           | 4.630000e+11  | 0.999999961   | \n",
       "| 705           | p*r           | -2.575273e+06 |  TRUE         | FALSE         | Sales         | 118           | 4.629974e+11  | 0.999994438   | \n",
       "| 705           | l+r+p         | -1.308573e+04 | FALSE         | FALSE         | Sales         | 118           | 4.630000e+11  | 0.999999972   | \n",
       "| 708           | p             | -3.958730e+04 | FALSE         | FALSE         | FB Friends    | 118           | 2.682644e+10  | 0.999998531   | \n",
       "| 708           | p+r           | -2.682648e+10 | FALSE         | FALSE         | FB Friends    | 118           | 0.000000e+00  | 0.000000000   | \n",
       "| 711           | r             | -1.200066e+07 | FALSE         | FALSE         | Sales         | 119           | 1.146190e+05  | 0.009460839   | \n",
       "| 711           | p+r           | -1.211528e+07 | FALSE         | FALSE         | Sales         | 119           | 0.000000e+00  | 0.000000000   | \n",
       "| 711           | p*r           | -1.025994e+04 | FALSE         | FALSE         | Sales         | 119           | 1.210502e+07  | 0.999168380   | \n",
       "| 711           | l+r+p         | -2.593969e+06 |  TRUE         | FALSE         | Sales         | 119           | 9.521315e+06  | 0.785904818   | \n",
       "| 714           | r             | -1.090022e+07 | FALSE         | FALSE         | FB Friends    | 119           | 0.000000e+00  | 0.000000000   | \n",
       "| 714           | l+p           | -2.480422e+04 | FALSE         | FALSE         | FB Friends    | 119           | 1.087541e+07  | 0.997727473   | \n",
       "\n",
       "\n"
      ],
      "text/plain": [
       "    id  kernel lml           white_added second_exception scenario   pid\n",
       "1    3  r      -2.644843e+09 FALSE       FALSE            Sales       1 \n",
       "2    3  l+r+p  -5.692580e+04 FALSE       FALSE            Sales       1 \n",
       "3    6  r      -3.138884e+07 FALSE       FALSE            FB Friends  1 \n",
       "4    9  l+r    -3.070279e+06 FALSE       FALSE            Sales       2 \n",
       "5   15  r      -1.606312e+07 FALSE       FALSE            Sales       3 \n",
       "6   15  l+p    -1.646337e+05  TRUE       FALSE            Sales       3 \n",
       "7   15  p+r    -4.298852e+04 FALSE       FALSE            Sales       3 \n",
       "8   21  l+r    -5.957074e+04 FALSE       FALSE            Sales       4 \n",
       "9   21  p+r    -1.319017e+07 FALSE       FALSE            Sales       4 \n",
       "10  24  r      -1.308044e+04 FALSE       FALSE            FB Friends  4 \n",
       "11  24  l+r    -5.676632e+05 FALSE       FALSE            FB Friends  4 \n",
       "12  27  p      -3.742721e+05 FALSE       FALSE            Sales       5 \n",
       "13  27  p+r    -2.040000e+11 FALSE       FALSE            Sales       5 \n",
       "14  30  p+r    -6.572456e+09 FALSE       FALSE            FB Friends  5 \n",
       "15  33  r      -1.109218e+10 FALSE       FALSE            Sales       6 \n",
       "16  36  r      -9.338263e+06 FALSE       FALSE            FB Friends  6 \n",
       "17  39  p      -4.003336e+04 FALSE       FALSE            Sales       7 \n",
       "18  39  l+p    -1.539776e+04 FALSE       FALSE            Sales       7 \n",
       "19  39  p+r    -1.060303e+04 FALSE       FALSE            Sales       7 \n",
       "20  42  p+r    -1.133726e+05 FALSE       FALSE            FB Friends  7 \n",
       "21  45  r      -1.884738e+08 FALSE       FALSE            Sales       8 \n",
       "22  45  l+p    -2.333830e+04 FALSE       FALSE            Sales       8 \n",
       "23  48  r      -6.427949e+05 FALSE       FALSE            FB Friends  8 \n",
       "24  51  r      -5.561405e+04 FALSE       FALSE            Sales       9 \n",
       "25  51  l+r+p  -1.142162e+04 FALSE       FALSE            Sales       9 \n",
       "26  54  r      -2.679118e+09 FALSE       FALSE            FB Friends  9 \n",
       "27  54  l+p    -5.111336e+09 FALSE       FALSE            FB Friends  9 \n",
       "28  57  r      -6.579808e+05 FALSE       FALSE            Sales      10 \n",
       "29  57  l+p    -1.238018e+05 FALSE       FALSE            Sales      10 \n",
       "30  57  p*r    -1.157031e+04 FALSE       FALSE            Sales      10 \n",
       "... ... ...    ...           ...         ...              ...        ...\n",
       "364 672 r      -2.505692e+04 FALSE       FALSE            FB Friends 112\n",
       "365 674 l+p    -1.990729e+07 FALSE       FALSE            Rain       113\n",
       "366 675 r      -5.321829e+08 FALSE       FALSE            Sales      113\n",
       "367 675 l+r    -3.297814e+06 FALSE       FALSE            Sales      113\n",
       "368 681 l+p    -7.375499e+04 FALSE       FALSE            Sales      114\n",
       "369 681 p+r    -1.685705e+05 FALSE       FALSE            Sales      114\n",
       "370 687 p      -9.793003e+04 FALSE       FALSE            Sales      115\n",
       "371 687 r      -6.452502e+08 FALSE       FALSE            Sales      115\n",
       "372 687 l+p    -2.194707e+04 FALSE       FALSE            Sales      115\n",
       "373 690 r      -1.182197e+10 FALSE       FALSE            FB Friends 115\n",
       "374 690 l*p+r  -4.677647e+05  TRUE       FALSE            FB Friends 115\n",
       "375 693 p      -1.902373e+07  TRUE       FALSE            Sales      116\n",
       "376 693 r      -7.181663e+04 FALSE       FALSE            Sales      116\n",
       "377 693 l+r    -1.925838e+06 FALSE       FALSE            Sales      116\n",
       "378 699 p+r    -2.483129e+06 FALSE       FALSE            Sales      117\n",
       "379 702 r      -1.683931e+07 FALSE       FALSE            FB Friends 117\n",
       "380 702 l+p    -3.542868e+04 FALSE       FALSE            FB Friends 117\n",
       "381 705 r      -4.630000e+11 FALSE       FALSE            Sales      118\n",
       "382 705 l+p    -1.643108e+04 FALSE       FALSE            Sales      118\n",
       "383 705 p+r    -1.826636e+04  TRUE       FALSE            Sales      118\n",
       "384 705 p*r    -2.575273e+06  TRUE       FALSE            Sales      118\n",
       "385 705 l+r+p  -1.308573e+04 FALSE       FALSE            Sales      118\n",
       "386 708 p      -3.958730e+04 FALSE       FALSE            FB Friends 118\n",
       "387 708 p+r    -2.682648e+10 FALSE       FALSE            FB Friends 118\n",
       "388 711 r      -1.200066e+07 FALSE       FALSE            Sales      119\n",
       "389 711 p+r    -1.211528e+07 FALSE       FALSE            Sales      119\n",
       "390 711 p*r    -1.025994e+04 FALSE       FALSE            Sales      119\n",
       "391 711 l+r+p  -2.593969e+06  TRUE       FALSE            Sales      119\n",
       "392 714 r      -1.090022e+07 FALSE       FALSE            FB Friends 119\n",
       "393 714 l+p    -2.480422e+04 FALSE       FALSE            FB Friends 119\n",
       "    lml_minus_min lml_standard\n",
       "1   0.000000e+00  0.0000000   \n",
       "2   2.644786e+09  0.9999785   \n",
       "3   0.000000e+00  0.0000000   \n",
       "4   0.000000e+00  0.0000000   \n",
       "5   0.000000e+00  0.0000000   \n",
       "6   1.589849e+07  0.9897590   \n",
       "7   1.602013e+07  0.9973320   \n",
       "8   1.313060e+07  0.9955022   \n",
       "9   0.000000e+00  0.0000000   \n",
       "10  5.545827e+05  0.9773089   \n",
       "11  0.000000e+00  0.0000000   \n",
       "12  2.039996e+11  0.9999982   \n",
       "13  0.000000e+00  0.0000000   \n",
       "14  0.000000e+00  0.0000000   \n",
       "15  0.000000e+00  0.0000000   \n",
       "16  0.000000e+00  0.0000000   \n",
       "17  0.000000e+00  0.0000000   \n",
       "18  2.463560e+04  0.6202983   \n",
       "19  2.943033e+04  0.7410243   \n",
       "20  0.000000e+00  0.0000000   \n",
       "21  0.000000e+00  0.0000000   \n",
       "22  1.884504e+08  0.9998778   \n",
       "23  0.000000e+00  0.0000000   \n",
       "24  0.000000e+00  0.0000000   \n",
       "25  4.419244e+04  0.7986860   \n",
       "26  2.432218e+09  0.4758479   \n",
       "27  0.000000e+00  0.0000000   \n",
       "28  0.000000e+00  0.0000000   \n",
       "29  5.341789e+05  0.8120010   \n",
       "30  6.464105e+05  0.9826033   \n",
       "... ...           ...         \n",
       "364 0.000000e+00  0.000000000 \n",
       "365 0.000000e+00  0.000000000 \n",
       "366 0.000000e+00  0.000000000 \n",
       "367 5.288851e+08  0.993803676 \n",
       "368 9.481547e+04  0.563310480 \n",
       "369 0.000000e+00  0.000000000 \n",
       "370 6.451523e+08  0.999848513 \n",
       "371 0.000000e+00  0.000000000 \n",
       "372 6.452283e+08  0.999966271 \n",
       "373 0.000000e+00  0.000000000 \n",
       "374 1.182150e+10  0.999960453 \n",
       "375 0.000000e+00  0.000000000 \n",
       "376 1.895191e+07  0.996239285 \n",
       "377 1.709789e+07  0.898779482 \n",
       "378 0.000000e+00  0.000000000 \n",
       "379 0.000000e+00  0.000000000 \n",
       "380 1.680388e+07  0.997904497 \n",
       "381 0.000000e+00  0.000000000 \n",
       "382 4.630000e+11  0.999999965 \n",
       "383 4.630000e+11  0.999999961 \n",
       "384 4.629974e+11  0.999994438 \n",
       "385 4.630000e+11  0.999999972 \n",
       "386 2.682644e+10  0.999998531 \n",
       "387 0.000000e+00  0.000000000 \n",
       "388 1.146190e+05  0.009460839 \n",
       "389 0.000000e+00  0.000000000 \n",
       "390 1.210502e+07  0.999168380 \n",
       "391 9.521315e+06  0.785904818 \n",
       "392 0.000000e+00  0.000000000 \n",
       "393 1.087541e+07  0.997727473 "
      ]
     },
     "metadata": {},
     "output_type": "display_data"
    }
   ],
   "source": [
    "lmls_posterior_f %>% \n",
    "    filter(lml < -10000) %>% nrow"
   ]
  },
  {
   "cell_type": "markdown",
   "metadata": {},
   "source": [
    "# Best on each condition"
   ]
  },
  {
   "cell_type": "markdown",
   "metadata": {},
   "source": [
    "### Prior"
   ]
  },
  {
   "cell_type": "code",
   "execution_count": 135,
   "metadata": {
    "collapsed": true
   },
   "outputs": [],
   "source": [
    "prior_a <- lmls_prior_f %>%\n",
    "                    group_by(kernel, scenario) %>%\n",
    "                    summarize(value = mean(lml),\n",
    "                              lo_ci = t.test(lml, conf.level=0.95)$conf.int[1],\n",
    "                              hi_ci = t.test(lml, conf.level=0.95)$conf.int[2])"
   ]
  },
  {
   "cell_type": "markdown",
   "metadata": {},
   "source": [
    "### Posterior"
   ]
  },
  {
   "cell_type": "code",
   "execution_count": 136,
   "metadata": {
    "collapsed": true
   },
   "outputs": [],
   "source": [
    "posterior_a <- lmls_posterior_f %>%\n",
    "                    group_by(kernel, scenario) %>%\n",
    "                    summarize(value = mean(lml),\n",
    "                              lo_ci = t.test(lml, conf.level=0.95)$conf.int[1],\n",
    "                              hi_ci = t.test(lml, conf.level=0.95)$conf.int[2])"
   ]
  },
  {
   "cell_type": "markdown",
   "metadata": {},
   "source": [
    "### Tables"
   ]
  },
  {
   "cell_type": "code",
   "execution_count": 156,
   "metadata": {},
   "outputs": [
    {
     "data": {
      "text/html": [
       "<table>\n",
       "<thead><tr><th scope=col>scenario</th><th scope=col>max_index</th><th scope=col>max_kernel</th><th scope=col>max_lml</th></tr></thead>\n",
       "<tbody>\n",
       "\t<tr><td>FB Friends </td><td> 8         </td><td>l+r        </td><td> 125.2687  </td></tr>\n",
       "\t<tr><td>Gym members</td><td>14         </td><td>r          </td><td> 606.5293  </td></tr>\n",
       "\t<tr><td>Rain       </td><td>14         </td><td>r          </td><td> 255.6540  </td></tr>\n",
       "\t<tr><td>Salary     </td><td>14         </td><td>r          </td><td>1081.6803  </td></tr>\n",
       "\t<tr><td>Sales      </td><td> 8         </td><td>l+r        </td><td>-881.9682  </td></tr>\n",
       "\t<tr><td>Temperature</td><td>14         </td><td>r          </td><td> 474.7388  </td></tr>\n",
       "</tbody>\n",
       "</table>\n"
      ],
      "text/latex": [
       "\\begin{tabular}{r|llll}\n",
       " scenario & max\\_index & max\\_kernel & max\\_lml\\\\\n",
       "\\hline\n",
       "\t FB Friends  &  8          & l+r         &  125.2687  \\\\\n",
       "\t Gym members & 14          & r           &  606.5293  \\\\\n",
       "\t Rain        & 14          & r           &  255.6540  \\\\\n",
       "\t Salary      & 14          & r           & 1081.6803  \\\\\n",
       "\t Sales       &  8          & l+r         & -881.9682  \\\\\n",
       "\t Temperature & 14          & r           &  474.7388  \\\\\n",
       "\\end{tabular}\n"
      ],
      "text/markdown": [
       "\n",
       "scenario | max_index | max_kernel | max_lml | \n",
       "|---|---|---|---|---|---|\n",
       "| FB Friends  |  8          | l+r         |  125.2687   | \n",
       "| Gym members | 14          | r           |  606.5293   | \n",
       "| Rain        | 14          | r           |  255.6540   | \n",
       "| Salary      | 14          | r           | 1081.6803   | \n",
       "| Sales       |  8          | l+r         | -881.9682   | \n",
       "| Temperature | 14          | r           |  474.7388   | \n",
       "\n",
       "\n"
      ],
      "text/plain": [
       "  scenario    max_index max_kernel max_lml  \n",
       "1 FB Friends   8        l+r         125.2687\n",
       "2 Gym members 14        r           606.5293\n",
       "3 Rain        14        r           255.6540\n",
       "4 Salary      14        r          1081.6803\n",
       "5 Sales        8        l+r        -881.9682\n",
       "6 Temperature 14        r           474.7388"
      ]
     },
     "metadata": {},
     "output_type": "display_data"
    }
   ],
   "source": [
    "prior_a %>% \n",
    "    group_by(scenario) %>%\n",
    "    summarize(max_index = which.max(value),\n",
    "              max_kernel = kernel[max_index],\n",
    "              max_lml = value[max_index])"
   ]
  },
  {
   "cell_type": "code",
   "execution_count": 157,
   "metadata": {},
   "outputs": [
    {
     "data": {
      "text/html": [
       "<table>\n",
       "<thead><tr><th scope=col>scenario</th><th scope=col>max_index</th><th scope=col>max_kernel</th><th scope=col>max_lml</th></tr></thead>\n",
       "<tbody>\n",
       "\t<tr><td>FB Friends </td><td> 5         </td><td>l*r*p      </td><td>-217.165903</td></tr>\n",
       "\t<tr><td>Gym members</td><td> 8         </td><td>l+r        </td><td>  -6.608700</td></tr>\n",
       "\t<tr><td>Rain       </td><td> 8         </td><td>l+r        </td><td>  28.158404</td></tr>\n",
       "\t<tr><td>Salary     </td><td> 8         </td><td>l+r        </td><td>  -4.190274</td></tr>\n",
       "\t<tr><td>Sales      </td><td> 4         </td><td>l*r        </td><td>-327.823858</td></tr>\n",
       "\t<tr><td>Temperature</td><td>14         </td><td>r          </td><td> 106.528731</td></tr>\n",
       "</tbody>\n",
       "</table>\n"
      ],
      "text/latex": [
       "\\begin{tabular}{r|llll}\n",
       " scenario & max\\_index & max\\_kernel & max\\_lml\\\\\n",
       "\\hline\n",
       "\t FB Friends  &  5          & l*r*p       & -217.165903\\\\\n",
       "\t Gym members &  8          & l+r         &   -6.608700\\\\\n",
       "\t Rain        &  8          & l+r         &   28.158404\\\\\n",
       "\t Salary      &  8          & l+r         &   -4.190274\\\\\n",
       "\t Sales       &  4          & l*r         & -327.823858\\\\\n",
       "\t Temperature & 14          & r           &  106.528731\\\\\n",
       "\\end{tabular}\n"
      ],
      "text/markdown": [
       "\n",
       "scenario | max_index | max_kernel | max_lml | \n",
       "|---|---|---|---|---|---|\n",
       "| FB Friends  |  5          | l*r*p       | -217.165903 | \n",
       "| Gym members |  8          | l+r         |   -6.608700 | \n",
       "| Rain        |  8          | l+r         |   28.158404 | \n",
       "| Salary      |  8          | l+r         |   -4.190274 | \n",
       "| Sales       |  4          | l*r         | -327.823858 | \n",
       "| Temperature | 14          | r           |  106.528731 | \n",
       "\n",
       "\n"
      ],
      "text/plain": [
       "  scenario    max_index max_kernel max_lml    \n",
       "1 FB Friends   5        l*r*p      -217.165903\n",
       "2 Gym members  8        l+r          -6.608700\n",
       "3 Rain         8        l+r          28.158404\n",
       "4 Salary       8        l+r          -4.190274\n",
       "5 Sales        4        l*r        -327.823858\n",
       "6 Temperature 14        r           106.528731"
      ]
     },
     "metadata": {},
     "output_type": "display_data"
    }
   ],
   "source": [
    "posterior_a %>% \n",
    "    group_by(scenario) %>%\n",
    "    summarize(max_index = which.max(value),\n",
    "              max_kernel = kernel[max_index],\n",
    "              max_lml = value[max_index])"
   ]
  },
  {
   "cell_type": "markdown",
   "metadata": {},
   "source": [
    "### Consistency"
   ]
  },
  {
   "cell_type": "code",
   "execution_count": 165,
   "metadata": {
    "collapsed": true
   },
   "outputs": [],
   "source": [
    "prior_maxs <- lmls_prior_f %>%\n",
    "                group_by(id, pid, scenario) %>%\n",
    "                summarize(max_index = which.max(lml),\n",
    "                          max_kernel = kernel[max_index],\n",
    "                          max_lml = lml[max_index])"
   ]
  },
  {
   "cell_type": "code",
   "execution_count": 166,
   "metadata": {
    "collapsed": true
   },
   "outputs": [],
   "source": [
    "posterior_maxs <- lmls_posterior_f %>%\n",
    "                group_by(id, pid, scenario) %>%\n",
    "                summarize(max_index = which.max(lml),\n",
    "                          max_kernel = kernel[max_index],\n",
    "                          max_lml = lml[max_index])"
   ]
  },
  {
   "cell_type": "code",
   "execution_count": 169,
   "metadata": {
    "collapsed": true
   },
   "outputs": [],
   "source": [
    "merged_maxs <- merge(x = prior_maxs, y = posterior_maxs, by = c(\"id\", \"id\"), all.x = TRUE)"
   ]
  },
  {
   "cell_type": "code",
   "execution_count": 176,
   "metadata": {},
   "outputs": [
    {
     "data": {
      "text/html": [
       "0.214285714285714"
      ],
      "text/latex": [
       "0.214285714285714"
      ],
      "text/markdown": [
       "0.214285714285714"
      ],
      "text/plain": [
       "[1] 0.2142857"
      ]
     },
     "metadata": {},
     "output_type": "display_data"
    }
   ],
   "source": [
    "(merged_maxs %>%\n",
    "    filter(max_kernel.x == max_kernel.y) %>%\n",
    "    nrow)/\n",
    "(merged_maxs %>%\n",
    "    nrow)"
   ]
  },
  {
   "cell_type": "markdown",
   "metadata": {},
   "source": [
    "# Excluding {l, p, r}"
   ]
  },
  {
   "cell_type": "markdown",
   "metadata": {},
   "source": [
    "### Tables"
   ]
  },
  {
   "cell_type": "code",
   "execution_count": 181,
   "metadata": {},
   "outputs": [
    {
     "name": "stdout",
     "output_type": "stream",
     "text": [
      "[1] \"Kernel with the maximum average per scenario\"\n",
      "[1] \"Prior table:\"\n"
     ]
    },
    {
     "data": {
      "text/html": [
       "<table>\n",
       "<thead><tr><th scope=col>scenario</th><th scope=col>max_index</th><th scope=col>max_kernel</th><th scope=col>max_lml</th></tr></thead>\n",
       "<tbody>\n",
       "\t<tr><td>FB Friends </td><td> 7         </td><td>l+r        </td><td> 125.2687  </td></tr>\n",
       "\t<tr><td>Gym members</td><td>11         </td><td>p+r        </td><td> 518.0173  </td></tr>\n",
       "\t<tr><td>Rain       </td><td> 8         </td><td>l+r*p      </td><td> 213.3836  </td></tr>\n",
       "\t<tr><td>Salary     </td><td>11         </td><td>p+r        </td><td> 809.7401  </td></tr>\n",
       "\t<tr><td>Sales      </td><td> 7         </td><td>l+r        </td><td>-881.9682  </td></tr>\n",
       "\t<tr><td>Temperature</td><td>10         </td><td>p*r        </td><td> 443.1288  </td></tr>\n",
       "</tbody>\n",
       "</table>\n"
      ],
      "text/latex": [
       "\\begin{tabular}{r|llll}\n",
       " scenario & max\\_index & max\\_kernel & max\\_lml\\\\\n",
       "\\hline\n",
       "\t FB Friends  &  7          & l+r         &  125.2687  \\\\\n",
       "\t Gym members & 11          & p+r         &  518.0173  \\\\\n",
       "\t Rain        &  8          & l+r*p       &  213.3836  \\\\\n",
       "\t Salary      & 11          & p+r         &  809.7401  \\\\\n",
       "\t Sales       &  7          & l+r         & -881.9682  \\\\\n",
       "\t Temperature & 10          & p*r         &  443.1288  \\\\\n",
       "\\end{tabular}\n"
      ],
      "text/markdown": [
       "\n",
       "scenario | max_index | max_kernel | max_lml | \n",
       "|---|---|---|---|---|---|\n",
       "| FB Friends  |  7          | l+r         |  125.2687   | \n",
       "| Gym members | 11          | p+r         |  518.0173   | \n",
       "| Rain        |  8          | l+r*p       |  213.3836   | \n",
       "| Salary      | 11          | p+r         |  809.7401   | \n",
       "| Sales       |  7          | l+r         | -881.9682   | \n",
       "| Temperature | 10          | p*r         |  443.1288   | \n",
       "\n",
       "\n"
      ],
      "text/plain": [
       "  scenario    max_index max_kernel max_lml  \n",
       "1 FB Friends   7        l+r         125.2687\n",
       "2 Gym members 11        p+r         518.0173\n",
       "3 Rain         8        l+r*p       213.3836\n",
       "4 Salary      11        p+r         809.7401\n",
       "5 Sales        7        l+r        -881.9682\n",
       "6 Temperature 10        p*r         443.1288"
      ]
     },
     "metadata": {},
     "output_type": "display_data"
    },
    {
     "name": "stdout",
     "output_type": "stream",
     "text": [
      "[1] \"Posterior data:\"\n"
     ]
    },
    {
     "data": {
      "text/html": [
       "<table>\n",
       "<thead><tr><th scope=col>scenario</th><th scope=col>max_index</th><th scope=col>max_kernel</th><th scope=col>max_lml</th></tr></thead>\n",
       "<tbody>\n",
       "\t<tr><td>FB Friends </td><td>4          </td><td>l*r*p      </td><td>-217.165903</td></tr>\n",
       "\t<tr><td>Gym members</td><td>7          </td><td>l+r        </td><td>  -6.608700</td></tr>\n",
       "\t<tr><td>Rain       </td><td>7          </td><td>l+r        </td><td>  28.158404</td></tr>\n",
       "\t<tr><td>Salary     </td><td>7          </td><td>l+r        </td><td>  -4.190274</td></tr>\n",
       "\t<tr><td>Sales      </td><td>3          </td><td>l*r        </td><td>-327.823858</td></tr>\n",
       "\t<tr><td>Temperature</td><td>7          </td><td>l+r        </td><td>  54.054911</td></tr>\n",
       "</tbody>\n",
       "</table>\n"
      ],
      "text/latex": [
       "\\begin{tabular}{r|llll}\n",
       " scenario & max\\_index & max\\_kernel & max\\_lml\\\\\n",
       "\\hline\n",
       "\t FB Friends  & 4           & l*r*p       & -217.165903\\\\\n",
       "\t Gym members & 7           & l+r         &   -6.608700\\\\\n",
       "\t Rain        & 7           & l+r         &   28.158404\\\\\n",
       "\t Salary      & 7           & l+r         &   -4.190274\\\\\n",
       "\t Sales       & 3           & l*r         & -327.823858\\\\\n",
       "\t Temperature & 7           & l+r         &   54.054911\\\\\n",
       "\\end{tabular}\n"
      ],
      "text/markdown": [
       "\n",
       "scenario | max_index | max_kernel | max_lml | \n",
       "|---|---|---|---|---|---|\n",
       "| FB Friends  | 4           | l*r*p       | -217.165903 | \n",
       "| Gym members | 7           | l+r         |   -6.608700 | \n",
       "| Rain        | 7           | l+r         |   28.158404 | \n",
       "| Salary      | 7           | l+r         |   -4.190274 | \n",
       "| Sales       | 3           | l*r         | -327.823858 | \n",
       "| Temperature | 7           | l+r         |   54.054911 | \n",
       "\n",
       "\n"
      ],
      "text/plain": [
       "  scenario    max_index max_kernel max_lml    \n",
       "1 FB Friends  4         l*r*p      -217.165903\n",
       "2 Gym members 7         l+r          -6.608700\n",
       "3 Rain        7         l+r          28.158404\n",
       "4 Salary      7         l+r          -4.190274\n",
       "5 Sales       3         l*r        -327.823858\n",
       "6 Temperature 7         l+r          54.054911"
      ]
     },
     "metadata": {},
     "output_type": "display_data"
    }
   ],
   "source": [
    "prior_a <- lmls_prior_f %>%\n",
    "                    filter(kernel != 'l', kernel != 'p', kernel != 'r') %>%\n",
    "                    group_by(kernel, scenario) %>%\n",
    "                    summarize(value = mean(lml),\n",
    "                              lo_ci = t.test(lml, conf.level=0.95)$conf.int[1],\n",
    "                              hi_ci = t.test(lml, conf.level=0.95)$conf.int[2])\n",
    "\n",
    "posterior_a <- lmls_posterior_f %>%\n",
    "                    filter(kernel != 'l', kernel != 'p', kernel != 'r') %>%\n",
    "                    group_by(kernel, scenario) %>%\n",
    "                    summarize(value = mean(lml),\n",
    "                              lo_ci = t.test(lml, conf.level=0.95)$conf.int[1],\n",
    "                              hi_ci = t.test(lml, conf.level=0.95)$conf.int[2])\n",
    "\n",
    "print('Kernel with the maximum average per scenario')\n",
    "print('Prior table:')\n",
    "prior_a %>% \n",
    "    group_by(scenario) %>%\n",
    "    summarize(max_index = which.max(value),\n",
    "              max_kernel = kernel[max_index],\n",
    "              max_lml = value[max_index])\n",
    "\n",
    "print('Posterior data:')\n",
    "posterior_a %>% \n",
    "    group_by(scenario) %>%\n",
    "    summarize(max_index = which.max(value),\n",
    "              max_kernel = kernel[max_index],\n",
    "              max_lml = value[max_index])"
   ]
  },
  {
   "cell_type": "markdown",
   "metadata": {},
   "source": [
    "### Tables (using standard)"
   ]
  },
  {
   "cell_type": "code",
   "execution_count": 183,
   "metadata": {},
   "outputs": [
    {
     "name": "stdout",
     "output_type": "stream",
     "text": [
      "[1] \"Kernel with the maximum average per scenario\"\n",
      "[1] \"Prior table:\"\n"
     ]
    },
    {
     "data": {
      "text/html": [
       "<table>\n",
       "<thead><tr><th scope=col>scenario</th><th scope=col>max_index</th><th scope=col>max_kernel</th><th scope=col>max_lml</th></tr></thead>\n",
       "<tbody>\n",
       "\t<tr><td>FB Friends </td><td> 7         </td><td>l+r        </td><td>0.9469077  </td></tr>\n",
       "\t<tr><td>Gym members</td><td> 8         </td><td>l+r*p      </td><td>0.8893989  </td></tr>\n",
       "\t<tr><td>Rain       </td><td>10         </td><td>p*r        </td><td>0.9329891  </td></tr>\n",
       "\t<tr><td>Salary     </td><td>11         </td><td>p+r        </td><td>0.8224981  </td></tr>\n",
       "\t<tr><td>Sales      </td><td> 7         </td><td>l+r        </td><td>0.9694123  </td></tr>\n",
       "\t<tr><td>Temperature</td><td>10         </td><td>p*r        </td><td>0.9404126  </td></tr>\n",
       "</tbody>\n",
       "</table>\n"
      ],
      "text/latex": [
       "\\begin{tabular}{r|llll}\n",
       " scenario & max\\_index & max\\_kernel & max\\_lml\\\\\n",
       "\\hline\n",
       "\t FB Friends  &  7          & l+r         & 0.9469077  \\\\\n",
       "\t Gym members &  8          & l+r*p       & 0.8893989  \\\\\n",
       "\t Rain        & 10          & p*r         & 0.9329891  \\\\\n",
       "\t Salary      & 11          & p+r         & 0.8224981  \\\\\n",
       "\t Sales       &  7          & l+r         & 0.9694123  \\\\\n",
       "\t Temperature & 10          & p*r         & 0.9404126  \\\\\n",
       "\\end{tabular}\n"
      ],
      "text/markdown": [
       "\n",
       "scenario | max_index | max_kernel | max_lml | \n",
       "|---|---|---|---|---|---|\n",
       "| FB Friends  |  7          | l+r         | 0.9469077   | \n",
       "| Gym members |  8          | l+r*p       | 0.8893989   | \n",
       "| Rain        | 10          | p*r         | 0.9329891   | \n",
       "| Salary      | 11          | p+r         | 0.8224981   | \n",
       "| Sales       |  7          | l+r         | 0.9694123   | \n",
       "| Temperature | 10          | p*r         | 0.9404126   | \n",
       "\n",
       "\n"
      ],
      "text/plain": [
       "  scenario    max_index max_kernel max_lml  \n",
       "1 FB Friends   7        l+r        0.9469077\n",
       "2 Gym members  8        l+r*p      0.8893989\n",
       "3 Rain        10        p*r        0.9329891\n",
       "4 Salary      11        p+r        0.8224981\n",
       "5 Sales        7        l+r        0.9694123\n",
       "6 Temperature 10        p*r        0.9404126"
      ]
     },
     "metadata": {},
     "output_type": "display_data"
    },
    {
     "name": "stdout",
     "output_type": "stream",
     "text": [
      "[1] \"Posterior data:\"\n"
     ]
    },
    {
     "data": {
      "text/html": [
       "<table>\n",
       "<thead><tr><th scope=col>scenario</th><th scope=col>max_index</th><th scope=col>max_kernel</th><th scope=col>max_lml</th></tr></thead>\n",
       "<tbody>\n",
       "\t<tr><td>FB Friends </td><td> 4         </td><td>l*r*p      </td><td>0.9560027  </td></tr>\n",
       "\t<tr><td>Gym members</td><td>11         </td><td>p+r        </td><td>0.8200730  </td></tr>\n",
       "\t<tr><td>Rain       </td><td> 7         </td><td>l+r        </td><td>0.8092954  </td></tr>\n",
       "\t<tr><td>Salary     </td><td>11         </td><td>p+r        </td><td>0.7124758  </td></tr>\n",
       "\t<tr><td>Sales      </td><td> 4         </td><td>l*r*p      </td><td>0.9987226  </td></tr>\n",
       "\t<tr><td>Temperature</td><td>11         </td><td>p+r        </td><td>0.7849605  </td></tr>\n",
       "</tbody>\n",
       "</table>\n"
      ],
      "text/latex": [
       "\\begin{tabular}{r|llll}\n",
       " scenario & max\\_index & max\\_kernel & max\\_lml\\\\\n",
       "\\hline\n",
       "\t FB Friends  &  4          & l*r*p       & 0.9560027  \\\\\n",
       "\t Gym members & 11          & p+r         & 0.8200730  \\\\\n",
       "\t Rain        &  7          & l+r         & 0.8092954  \\\\\n",
       "\t Salary      & 11          & p+r         & 0.7124758  \\\\\n",
       "\t Sales       &  4          & l*r*p       & 0.9987226  \\\\\n",
       "\t Temperature & 11          & p+r         & 0.7849605  \\\\\n",
       "\\end{tabular}\n"
      ],
      "text/markdown": [
       "\n",
       "scenario | max_index | max_kernel | max_lml | \n",
       "|---|---|---|---|---|---|\n",
       "| FB Friends  |  4          | l*r*p       | 0.9560027   | \n",
       "| Gym members | 11          | p+r         | 0.8200730   | \n",
       "| Rain        |  7          | l+r         | 0.8092954   | \n",
       "| Salary      | 11          | p+r         | 0.7124758   | \n",
       "| Sales       |  4          | l*r*p       | 0.9987226   | \n",
       "| Temperature | 11          | p+r         | 0.7849605   | \n",
       "\n",
       "\n"
      ],
      "text/plain": [
       "  scenario    max_index max_kernel max_lml  \n",
       "1 FB Friends   4        l*r*p      0.9560027\n",
       "2 Gym members 11        p+r        0.8200730\n",
       "3 Rain         7        l+r        0.8092954\n",
       "4 Salary      11        p+r        0.7124758\n",
       "5 Sales        4        l*r*p      0.9987226\n",
       "6 Temperature 11        p+r        0.7849605"
      ]
     },
     "metadata": {},
     "output_type": "display_data"
    }
   ],
   "source": [
    "prior_a <- lmls_prior_f %>%\n",
    "                    filter(kernel != 'l', kernel != 'p', kernel != 'r') %>%\n",
    "                    group_by(kernel, scenario) %>%\n",
    "                    summarize(value = mean(lml_standard),\n",
    "                              lo_ci = t.test(lml_standard, conf.level=0.95)$conf.int[1],\n",
    "                              hi_ci = t.test(lml_standard, conf.level=0.95)$conf.int[2])\n",
    "\n",
    "posterior_a <- lmls_posterior_f %>%\n",
    "                    filter(kernel != 'l', kernel != 'p', kernel != 'r') %>%\n",
    "                    group_by(kernel, scenario) %>%\n",
    "                    summarize(value = mean(lml_standard),\n",
    "                              lo_ci = t.test(lml_standard, conf.level=0.95)$conf.int[1],\n",
    "                              hi_ci = t.test(lml_standard, conf.level=0.95)$conf.int[2])\n",
    "\n",
    "print('Kernel with the maximum average per scenario')\n",
    "print('Prior table:')\n",
    "prior_a %>% \n",
    "    group_by(scenario) %>%\n",
    "    summarize(max_index = which.max(value),\n",
    "              max_kernel = kernel[max_index],\n",
    "              max_lml = value[max_index])\n",
    "\n",
    "print('Posterior data:')\n",
    "posterior_a %>% \n",
    "    group_by(scenario) %>%\n",
    "    summarize(max_index = which.max(value),\n",
    "              max_kernel = kernel[max_index],\n",
    "              max_lml = value[max_index])"
   ]
  },
  {
   "cell_type": "markdown",
   "metadata": {},
   "source": [
    "### Persistence percentage"
   ]
  },
  {
   "cell_type": "code",
   "execution_count": 179,
   "metadata": {},
   "outputs": [
    {
     "data": {
      "text/html": [
       "0.225490196078431"
      ],
      "text/latex": [
       "0.225490196078431"
      ],
      "text/markdown": [
       "0.225490196078431"
      ],
      "text/plain": [
       "[1] 0.2254902"
      ]
     },
     "metadata": {},
     "output_type": "display_data"
    }
   ],
   "source": [
    "prior_maxs <- lmls_prior_f %>%\n",
    "                filter(kernel != 'l', kernel != 'p', kernel != 'r') %>%\n",
    "                group_by(id, pid, scenario) %>%\n",
    "                summarize(max_index = which.max(lml),\n",
    "                          max_kernel = kernel[max_index],\n",
    "                          max_lml = lml[max_index])\n",
    "\n",
    "posterior_maxs <- lmls_posterior_f %>%\n",
    "                filter(kernel != 'l', kernel != 'p', kernel != 'r') %>%\n",
    "                group_by(id, pid, scenario) %>%\n",
    "                summarize(max_index = which.max(lml),\n",
    "                          max_kernel = kernel[max_index],\n",
    "                          max_lml = lml[max_index])\n",
    "\n",
    "merged_maxs <- merge(x = prior_maxs, y = posterior_maxs, by = c(\"id\", \"id\"), all.x = TRUE)\n",
    "\n",
    "(merged_maxs %>%\n",
    "    filter(max_kernel.x == max_kernel.y) %>%\n",
    "    nrow)/\n",
    "(merged_maxs %>%\n",
    "    nrow)"
   ]
  },
  {
   "cell_type": "code",
   "execution_count": null,
   "metadata": {
    "collapsed": true
   },
   "outputs": [],
   "source": []
  },
  {
   "cell_type": "code",
   "execution_count": null,
   "metadata": {
    "collapsed": true
   },
   "outputs": [],
   "source": []
  },
  {
   "cell_type": "markdown",
   "metadata": {},
   "source": [
    "# Real-world data"
   ]
  },
  {
   "cell_type": "code",
   "execution_count": null,
   "metadata": {
    "collapsed": true
   },
   "outputs": [],
   "source": []
  }
 ],
 "metadata": {
  "kernelspec": {
   "display_name": "R",
   "language": "R",
   "name": "ir"
  },
  "language_info": {
   "codemirror_mode": "r",
   "file_extension": ".r",
   "mimetype": "text/x-r-source",
   "name": "R",
   "pygments_lexer": "r",
   "version": "3.3.1"
  }
 },
 "nbformat": 4,
 "nbformat_minor": 2
}
