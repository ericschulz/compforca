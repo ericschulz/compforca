{
 "cells": [
  {
   "cell_type": "markdown",
   "metadata": {},
   "source": [
    "# Libraries"
   ]
  },
  {
   "cell_type": "code",
   "execution_count": 106,
   "metadata": {},
   "outputs": [],
   "source": [
    "source(\"tools.R\")"
   ]
  },
  {
   "cell_type": "markdown",
   "metadata": {},
   "source": [
    "# Prior likelihoods"
   ]
  },
  {
   "cell_type": "markdown",
   "metadata": {},
   "source": [
    "### Preparing the data"
   ]
  },
  {
   "cell_type": "code",
   "execution_count": 107,
   "metadata": {},
   "outputs": [
    {
     "name": "stderr",
     "output_type": "stream",
     "text": [
      "Warning message:\n",
      "\"Missing column names filled in: 'X1' [1]\"Parsed with column specification:\n",
      "cols(\n",
      "  X1 = col_integer(),\n",
      "  id = col_integer(),\n",
      "  pid = col_character(),\n",
      "  scenario = col_character(),\n",
      "  x = col_integer(),\n",
      "  y = col_double()\n",
      ")\n"
     ]
    }
   ],
   "source": [
    "data_prior <- read_csv(\"data/for_composititional_analysis_prior.csv\")\n",
    "\n",
    "dict_prior <- data_prior %>%                        \n",
    "                        group_by(id, pid, scenario) %>%\n",
    "                        summarize()"
   ]
  },
  {
   "cell_type": "code",
   "execution_count": 108,
   "metadata": {},
   "outputs": [
    {
     "name": "stderr",
     "output_type": "stream",
     "text": [
      "Warning message:\n",
      "\"Missing column names filled in: 'X1' [1]\"Parsed with column specification:\n",
      "cols(\n",
      "  X1 = col_integer(),\n",
      "  l = col_double(),\n",
      "  `l*p` = col_double(),\n",
      "  `l*p+r` = col_double(),\n",
      "  `l*r` = col_double(),\n",
      "  `l*r*p` = col_double(),\n",
      "  `l*r+p` = col_double(),\n",
      "  `l+p` = col_double(),\n",
      "  `l+r` = col_double(),\n",
      "  `l+r*p` = col_double(),\n",
      "  `l+r+p` = col_double(),\n",
      "  p = col_double(),\n",
      "  `p*r` = col_double(),\n",
      "  `p+r` = col_double(),\n",
      "  r = col_double()\n",
      ")\n"
     ]
    }
   ],
   "source": [
    "lmls_prior <- read_csv(\"output/lmls_prior.csv\")"
   ]
  },
  {
   "cell_type": "code",
   "execution_count": 109,
   "metadata": {},
   "outputs": [
    {
     "data": {
      "text/html": [
       "<table>\n",
       "<thead><tr><th scope=col>X1</th><th scope=col>l</th><th scope=col>l*p</th><th scope=col>l*p+r</th><th scope=col>l*r</th><th scope=col>l*r*p</th><th scope=col>l*r+p</th><th scope=col>l+p</th><th scope=col>l+r</th><th scope=col>l+r*p</th><th scope=col>l+r+p</th><th scope=col>p</th><th scope=col>p*r</th><th scope=col>p+r</th><th scope=col>r</th></tr></thead>\n",
       "<tbody>\n",
       "\t<tr><td>  1          </td><td> -713.6954   </td><td>-8.438396e-02</td><td>  -146.6802  </td><td>-851.89829   </td><td> -851.89688  </td><td>-322.6189    </td><td>  791.0454   </td><td>821.78723    </td><td>   927.2291  </td><td>-323.47298   </td><td> -323.0216   </td><td>   804.48813 </td><td>-548.3215    </td><td> 792.3592    </td></tr>\n",
       "\t<tr><td> 10          </td><td>-1097.0542   </td><td>-1.097054e+03</td><td>-10196.9489  </td><td> -68.44092   </td><td>-2035.82151  </td><td> 141.9539    </td><td>  148.8720   </td><td>148.07899    </td><td>-10196.9489  </td><td>1468.08628   </td><td> 1537.9242   </td><td>-51685.97435 </td><td>1516.7239    </td><td>1540.7145    </td></tr>\n",
       "\t<tr><td>100          </td><td>-1196.2895   </td><td>-1.196289e+03</td><td>    60.4096  </td><td> -94.76571   </td><td>  -98.14110  </td><td> 815.7817    </td><td> -245.2160   </td><td>899.05122    </td><td>   818.8646  </td><td>  65.02978   </td><td> -761.1522   </td><td>    69.69232 </td><td> 994.7514    </td><td> 855.1832    </td></tr>\n",
       "\t<tr><td>101          </td><td> -884.5586   </td><td>-8.845586e+02</td><td> -2511.4764  </td><td> -21.25770   </td><td>  -21.48428  </td><td>-369.3005    </td><td> -437.5120   </td><td> 90.20008    </td><td>  1129.5959  </td><td>  98.89978   </td><td> -905.7997   </td><td>  1191.32516 </td><td>1159.0688    </td><td>1128.8089    </td></tr>\n",
       "\t<tr><td>102          </td><td>-1428.1828   </td><td>-2.631303e+02</td><td>  -132.9282  </td><td>-266.09369   </td><td>  -60.38163  </td><td>-996.5167    </td><td>-1428.1828   </td><td> 82.70370    </td><td>   169.0308  </td><td>-831.25674   </td><td>-1717.5405   </td><td>  -581.34877 </td><td>-169.7323    </td><td> -39.2825    </td></tr>\n",
       "\t<tr><td>103          </td><td>-1055.6152   </td><td>-1.055620e+03</td><td> -7682.7321  </td><td> -57.30613   </td><td>-2035.23194  </td><td>1579.0880    </td><td>  150.1733   </td><td>150.17337    </td><td> -7682.7321  </td><td> 149.92483   </td><td> -182.1528   </td><td>-33875.75641 </td><td>-175.4362    </td><td>1616.2660    </td></tr>\n",
       "</tbody>\n",
       "</table>\n"
      ],
      "text/latex": [
       "\\begin{tabular}{r|lllllllllllllll}\n",
       " X1 & l & l*p & l*p+r & l*r & l*r*p & l*r+p & l+p & l+r & l+r*p & l+r+p & p & p*r & p+r & r\\\\\n",
       "\\hline\n",
       "\t   1           &  -713.6954    & -8.438396e-02 &   -146.6802   & -851.89829    &  -851.89688   & -322.6189     &   791.0454    & 821.78723     &    927.2291   & -323.47298    &  -323.0216    &    804.48813  & -548.3215     &  792.3592    \\\\\n",
       "\t  10           & -1097.0542    & -1.097054e+03 & -10196.9489   &  -68.44092    & -2035.82151   &  141.9539     &   148.8720    & 148.07899     & -10196.9489   & 1468.08628    &  1537.9242    & -51685.97435  & 1516.7239     & 1540.7145    \\\\\n",
       "\t 100           & -1196.2895    & -1.196289e+03 &     60.4096   &  -94.76571    &   -98.14110   &  815.7817     &  -245.2160    & 899.05122     &    818.8646   &   65.02978    &  -761.1522    &     69.69232  &  994.7514     &  855.1832    \\\\\n",
       "\t 101           &  -884.5586    & -8.845586e+02 &  -2511.4764   &  -21.25770    &   -21.48428   & -369.3005     &  -437.5120    &  90.20008     &   1129.5959   &   98.89978    &  -905.7997    &   1191.32516  & 1159.0688     & 1128.8089    \\\\\n",
       "\t 102           & -1428.1828    & -2.631303e+02 &   -132.9282   & -266.09369    &   -60.38163   & -996.5167     & -1428.1828    &  82.70370     &    169.0308   & -831.25674    & -1717.5405    &   -581.34877  & -169.7323     &  -39.2825    \\\\\n",
       "\t 103           & -1055.6152    & -1.055620e+03 &  -7682.7321   &  -57.30613    & -2035.23194   & 1579.0880     &   150.1733    & 150.17337     &  -7682.7321   &  149.92483    &  -182.1528    & -33875.75641  & -175.4362     & 1616.2660    \\\\\n",
       "\\end{tabular}\n"
      ],
      "text/markdown": [
       "\n",
       "X1 | l | l*p | l*p+r | l*r | l*r*p | l*r+p | l+p | l+r | l+r*p | l+r+p | p | p*r | p+r | r | \n",
       "|---|---|---|---|---|---|\n",
       "|   1           |  -713.6954    | -8.438396e-02 |   -146.6802   | -851.89829    |  -851.89688   | -322.6189     |   791.0454    | 821.78723     |    927.2291   | -323.47298    |  -323.0216    |    804.48813  | -548.3215     |  792.3592     | \n",
       "|  10           | -1097.0542    | -1.097054e+03 | -10196.9489   |  -68.44092    | -2035.82151   |  141.9539     |   148.8720    | 148.07899     | -10196.9489   | 1468.08628    |  1537.9242    | -51685.97435  | 1516.7239     | 1540.7145     | \n",
       "| 100           | -1196.2895    | -1.196289e+03 |     60.4096   |  -94.76571    |   -98.14110   |  815.7817     |  -245.2160    | 899.05122     |    818.8646   |   65.02978    |  -761.1522    |     69.69232  |  994.7514     |  855.1832     | \n",
       "| 101           |  -884.5586    | -8.845586e+02 |  -2511.4764   |  -21.25770    |   -21.48428   | -369.3005     |  -437.5120    |  90.20008     |   1129.5959   |   98.89978    |  -905.7997    |   1191.32516  | 1159.0688     | 1128.8089     | \n",
       "| 102           | -1428.1828    | -2.631303e+02 |   -132.9282   | -266.09369    |   -60.38163   | -996.5167     | -1428.1828    |  82.70370     |    169.0308   | -831.25674    | -1717.5405    |   -581.34877  | -169.7323     |  -39.2825     | \n",
       "| 103           | -1055.6152    | -1.055620e+03 |  -7682.7321   |  -57.30613    | -2035.23194   | 1579.0880     |   150.1733    | 150.17337     |  -7682.7321   |  149.92483    |  -182.1528    | -33875.75641  | -175.4362     | 1616.2660     | \n",
       "\n",
       "\n"
      ],
      "text/plain": [
       "  X1  l          l*p           l*p+r       l*r        l*r*p       l*r+p    \n",
       "1   1  -713.6954 -8.438396e-02   -146.6802 -851.89829  -851.89688 -322.6189\n",
       "2  10 -1097.0542 -1.097054e+03 -10196.9489  -68.44092 -2035.82151  141.9539\n",
       "3 100 -1196.2895 -1.196289e+03     60.4096  -94.76571   -98.14110  815.7817\n",
       "4 101  -884.5586 -8.845586e+02  -2511.4764  -21.25770   -21.48428 -369.3005\n",
       "5 102 -1428.1828 -2.631303e+02   -132.9282 -266.09369   -60.38163 -996.5167\n",
       "6 103 -1055.6152 -1.055620e+03  -7682.7321  -57.30613 -2035.23194 1579.0880\n",
       "  l+p        l+r       l+r*p       l+r+p      p          p*r          p+r      \n",
       "1   791.0454 821.78723    927.2291 -323.47298  -323.0216    804.48813 -548.3215\n",
       "2   148.8720 148.07899 -10196.9489 1468.08628  1537.9242 -51685.97435 1516.7239\n",
       "3  -245.2160 899.05122    818.8646   65.02978  -761.1522     69.69232  994.7514\n",
       "4  -437.5120  90.20008   1129.5959   98.89978  -905.7997   1191.32516 1159.0688\n",
       "5 -1428.1828  82.70370    169.0308 -831.25674 -1717.5405   -581.34877 -169.7323\n",
       "6   150.1733 150.17337  -7682.7321  149.92483  -182.1528 -33875.75641 -175.4362\n",
       "  r        \n",
       "1  792.3592\n",
       "2 1540.7145\n",
       "3  855.1832\n",
       "4 1128.8089\n",
       "5  -39.2825\n",
       "6 1616.2660"
      ]
     },
     "metadata": {},
     "output_type": "display_data"
    }
   ],
   "source": [
    "lmls_prior %>% head"
   ]
  },
  {
   "cell_type": "code",
   "execution_count": 110,
   "metadata": {},
   "outputs": [
    {
     "name": "stderr",
     "output_type": "stream",
     "text": [
      "Parsed with column specification:\n",
      "cols(\n",
      "  cid = col_integer(),\n",
      "  composition = col_character(),\n",
      "  white_added = col_character(),\n",
      "  second_exception = col_character()\n",
      ")\n"
     ]
    }
   ],
   "source": [
    "metadata_prior <- read_csv(\"output/metadata_prior.csv\")"
   ]
  },
  {
   "cell_type": "code",
   "execution_count": 111,
   "metadata": {},
   "outputs": [
    {
     "data": {
      "text/html": [
       "<table>\n",
       "<thead><tr><th scope=col>cid</th><th scope=col>composition</th><th scope=col>white_added</th><th scope=col>second_exception</th></tr></thead>\n",
       "<tbody>\n",
       "\t<tr><td>1    </td><td>l    </td><td>False</td><td>False</td></tr>\n",
       "\t<tr><td>1    </td><td>p    </td><td>False</td><td>False</td></tr>\n",
       "\t<tr><td>1    </td><td>r    </td><td>False</td><td>False</td></tr>\n",
       "\t<tr><td>1    </td><td>l+p  </td><td>False</td><td>False</td></tr>\n",
       "\t<tr><td>1    </td><td>l+r  </td><td>False</td><td>False</td></tr>\n",
       "\t<tr><td>1    </td><td>p+r  </td><td>False</td><td>False</td></tr>\n",
       "</tbody>\n",
       "</table>\n"
      ],
      "text/latex": [
       "\\begin{tabular}{r|llll}\n",
       " cid & composition & white\\_added & second\\_exception\\\\\n",
       "\\hline\n",
       "\t 1     & l     & False & False\\\\\n",
       "\t 1     & p     & False & False\\\\\n",
       "\t 1     & r     & False & False\\\\\n",
       "\t 1     & l+p   & False & False\\\\\n",
       "\t 1     & l+r   & False & False\\\\\n",
       "\t 1     & p+r   & False & False\\\\\n",
       "\\end{tabular}\n"
      ],
      "text/markdown": [
       "\n",
       "cid | composition | white_added | second_exception | \n",
       "|---|---|---|---|---|---|\n",
       "| 1     | l     | False | False | \n",
       "| 1     | p     | False | False | \n",
       "| 1     | r     | False | False | \n",
       "| 1     | l+p   | False | False | \n",
       "| 1     | l+r   | False | False | \n",
       "| 1     | p+r   | False | False | \n",
       "\n",
       "\n"
      ],
      "text/plain": [
       "  cid composition white_added second_exception\n",
       "1 1   l           False       False           \n",
       "2 1   p           False       False           \n",
       "3 1   r           False       False           \n",
       "4 1   l+p         False       False           \n",
       "5 1   l+r         False       False           \n",
       "6 1   p+r         False       False           "
      ]
     },
     "metadata": {},
     "output_type": "display_data"
    }
   ],
   "source": [
    "metadata_prior %>% head"
   ]
  },
  {
   "cell_type": "code",
   "execution_count": 112,
   "metadata": {},
   "outputs": [],
   "source": [
    "metadata_prior <- metadata_prior %>%\n",
    "                        mutate( cid_composition = paste0(cid, composition) )"
   ]
  },
  {
   "cell_type": "code",
   "execution_count": 113,
   "metadata": {
    "collapsed": true
   },
   "outputs": [],
   "source": [
    "metadata_prior$pid <- NULL\n",
    "metadata_prior$composition <- NULL"
   ]
  },
  {
   "cell_type": "code",
   "execution_count": 114,
   "metadata": {
    "collapsed": true
   },
   "outputs": [],
   "source": [
    "kernels <- c(\"l\", \"p\", \"r\", \"l+p\", \"l+r\", \"p+r\", \"l*r\", \"l*p\", \"p*r\", \"l+r+p\", \"l+r*p\", \"l*r+p\", \"l*p+r\", \"l*r*p\")\n",
    "\n",
    "lmls_prior<- lmls_prior %>% \n",
    "                gather(kernel, lml, kernels)\n",
    "\n",
    "colnames(lmls_prior) = c('id', 'kernel', 'lml')\n",
    "\n",
    "lmls_prior <- merge(x = lmls_prior, y = dict_prior, by = c(\"id\", \"id\"), all.x = TRUE)"
   ]
  },
  {
   "cell_type": "code",
   "execution_count": 115,
   "metadata": {
    "collapsed": true
   },
   "outputs": [],
   "source": [
    "lmls_prior <- lmls_prior %>%\n",
    "                        mutate( cid_composition = paste0(id, kernel) )"
   ]
  },
  {
   "cell_type": "markdown",
   "metadata": {},
   "source": [
    "Joining"
   ]
  },
  {
   "cell_type": "code",
   "execution_count": 116,
   "metadata": {
    "collapsed": true
   },
   "outputs": [],
   "source": [
    "lmls_prior <- merge(x = lmls_prior, y = metadata_prior, by = c(\"cid_composition\", \"cid_composition\"), all.x = TRUE)"
   ]
  },
  {
   "cell_type": "code",
   "execution_count": 117,
   "metadata": {
    "collapsed": true
   },
   "outputs": [],
   "source": [
    "lmls_prior$cid_composition <- NULL"
   ]
  },
  {
   "cell_type": "markdown",
   "metadata": {},
   "source": [
    "Analyzing"
   ]
  },
  {
   "cell_type": "code",
   "execution_count": 118,
   "metadata": {},
   "outputs": [
    {
     "data": {
      "text/html": [
       "2756"
      ],
      "text/latex": [
       "2756"
      ],
      "text/markdown": [
       "2756"
      ],
      "text/plain": [
       "[1] 2756"
      ]
     },
     "metadata": {},
     "output_type": "display_data"
    },
    {
     "data": {
      "text/html": [
       "7240"
      ],
      "text/latex": [
       "7240"
      ],
      "text/markdown": [
       "7240"
      ],
      "text/plain": [
       "[1] 7240"
      ]
     },
     "metadata": {},
     "output_type": "display_data"
    },
    {
     "data": {
      "text/html": [
       "9996"
      ],
      "text/latex": [
       "9996"
      ],
      "text/markdown": [
       "9996"
      ],
      "text/plain": [
       "[1] 9996"
      ]
     },
     "metadata": {},
     "output_type": "display_data"
    }
   ],
   "source": [
    "lmls_prior %>%\n",
    "    filter(white_added == 'True') %>%\n",
    "    nrow\n",
    "\n",
    "lmls_prior %>%\n",
    "    filter(white_added == 'False') %>%\n",
    "    nrow\n",
    "\n",
    "lmls_prior %>%\n",
    "    nrow"
   ]
  },
  {
   "cell_type": "code",
   "execution_count": 119,
   "metadata": {},
   "outputs": [
    {
     "data": {
      "text/html": [
       "500"
      ],
      "text/latex": [
       "500"
      ],
      "text/markdown": [
       "500"
      ],
      "text/plain": [
       "[1] 500"
      ]
     },
     "metadata": {},
     "output_type": "display_data"
    },
    {
     "data": {
      "text/html": [
       "9496"
      ],
      "text/latex": [
       "9496"
      ],
      "text/markdown": [
       "9496"
      ],
      "text/plain": [
       "[1] 9496"
      ]
     },
     "metadata": {},
     "output_type": "display_data"
    },
    {
     "data": {
      "text/html": [
       "9996"
      ],
      "text/latex": [
       "9996"
      ],
      "text/markdown": [
       "9996"
      ],
      "text/plain": [
       "[1] 9996"
      ]
     },
     "metadata": {},
     "output_type": "display_data"
    }
   ],
   "source": [
    "lmls_prior %>%\n",
    "    filter(second_exception == 'True') %>%\n",
    "    nrow\n",
    "\n",
    "lmls_prior %>%\n",
    "    filter(second_exception == 'False') %>%\n",
    "    nrow\n",
    "\n",
    "lmls_prior %>%\n",
    "    nrow"
   ]
  },
  {
   "cell_type": "code",
   "execution_count": 120,
   "metadata": {},
   "outputs": [
    {
     "data": {
      "text/html": [
       "'5.15%'"
      ],
      "text/latex": [
       "'5.15\\%'"
      ],
      "text/markdown": [
       "'5.15%'"
      ],
      "text/plain": [
       "[1] \"5.15%\""
      ]
     },
     "metadata": {},
     "output_type": "display_data"
    }
   ],
   "source": [
    "paste0(round((lmls_prior %>%\n",
    "            filter(lml == -999999999 | second_exception == 'True') %>%\n",
    "            nrow) / (lmls_prior %>% nrow) * 100, 2), '%')"
   ]
  },
  {
   "cell_type": "code",
   "execution_count": 121,
   "metadata": {},
   "outputs": [
    {
     "data": {
      "text/html": [
       "113"
      ],
      "text/latex": [
       "113"
      ],
      "text/markdown": [
       "113"
      ],
      "text/plain": [
       "[1] 113"
      ]
     },
     "metadata": {},
     "output_type": "display_data"
    }
   ],
   "source": [
    "lmls_prior %>%\n",
    "    filter(second_exception == 'True') %>% \n",
    "    distinct(pid) %>%\n",
    "    nrow"
   ]
  },
  {
   "cell_type": "markdown",
   "metadata": {},
   "source": [
    "### Summarising"
   ]
  },
  {
   "cell_type": "code",
   "execution_count": 122,
   "metadata": {
    "collapsed": true
   },
   "outputs": [],
   "source": [
    "lmls_prior_f <- lmls_prior %>%\n",
    "                    filter(second_exception == 'False' & lml != -999999999) %>%\n",
    "                    group_by(pid, scenario) %>%\n",
    "                    mutate(lml_minus_min = lml - min(lml),\n",
    "                           lml_standard = lml_minus_min / (max(lml_minus_min) - min (lml_minus_min)))"
   ]
  },
  {
   "cell_type": "code",
   "execution_count": 125,
   "metadata": {},
   "outputs": [
    {
     "data": {
      "text/html": [
       "<table>\n",
       "<thead><tr><th scope=col>id</th><th scope=col>kernel</th><th scope=col>lml</th><th scope=col>pid</th><th scope=col>scenario</th><th scope=col>cid</th><th scope=col>white_added</th><th scope=col>second_exception</th><th scope=col>lml_minus_min</th><th scope=col>lml_standard</th></tr></thead>\n",
       "<tbody>\n",
       "\t<tr><td>100         </td><td>l           </td><td>-1196.28948 </td><td>a017        </td><td>Gym members </td><td>100         </td><td>False       </td><td>False       </td><td>7.786741e-06</td><td>3.553901e-09</td></tr>\n",
       "\t<tr><td>100         </td><td>l*p         </td><td>-1196.28948 </td><td>a017        </td><td>Gym members </td><td>100         </td><td>False       </td><td>False       </td><td>0.000000e+00</td><td>0.000000e+00</td></tr>\n",
       "\t<tr><td>100         </td><td>l*p+r       </td><td>   60.40960 </td><td>a017        </td><td>Gym members </td><td>100         </td><td>True        </td><td>False       </td><td>1.256699e+03</td><td>5.735626e-01</td></tr>\n",
       "\t<tr><td>100         </td><td>l*r         </td><td>  -94.76571 </td><td>a017        </td><td>Gym members </td><td>100         </td><td>True        </td><td>False       </td><td>1.101524e+03</td><td>5.027399e-01</td></tr>\n",
       "\t<tr><td>100         </td><td>l*r*p       </td><td>  -98.14110 </td><td>a017        </td><td>Gym members </td><td>100         </td><td>True        </td><td>False       </td><td>1.098148e+03</td><td>5.011994e-01</td></tr>\n",
       "\t<tr><td>100         </td><td>l*r+p       </td><td>  815.78171 </td><td>a017        </td><td>Gym members </td><td>100         </td><td>False       </td><td>False       </td><td>2.012071e+03</td><td>9.183175e-01</td></tr>\n",
       "</tbody>\n",
       "</table>\n"
      ],
      "text/latex": [
       "\\begin{tabular}{r|llllllllll}\n",
       " id & kernel & lml & pid & scenario & cid & white\\_added & second\\_exception & lml\\_minus\\_min & lml\\_standard\\\\\n",
       "\\hline\n",
       "\t 100          & l            & -1196.28948  & a017         & Gym members  & 100          & False        & False        & 7.786741e-06 & 3.553901e-09\\\\\n",
       "\t 100          & l*p          & -1196.28948  & a017         & Gym members  & 100          & False        & False        & 0.000000e+00 & 0.000000e+00\\\\\n",
       "\t 100          & l*p+r        &    60.40960  & a017         & Gym members  & 100          & True         & False        & 1.256699e+03 & 5.735626e-01\\\\\n",
       "\t 100          & l*r          &   -94.76571  & a017         & Gym members  & 100          & True         & False        & 1.101524e+03 & 5.027399e-01\\\\\n",
       "\t 100          & l*r*p        &   -98.14110  & a017         & Gym members  & 100          & True         & False        & 1.098148e+03 & 5.011994e-01\\\\\n",
       "\t 100          & l*r+p        &   815.78171  & a017         & Gym members  & 100          & False        & False        & 2.012071e+03 & 9.183175e-01\\\\\n",
       "\\end{tabular}\n"
      ],
      "text/markdown": [
       "\n",
       "id | kernel | lml | pid | scenario | cid | white_added | second_exception | lml_minus_min | lml_standard | \n",
       "|---|---|---|---|---|---|\n",
       "| 100          | l            | -1196.28948  | a017         | Gym members  | 100          | False        | False        | 7.786741e-06 | 3.553901e-09 | \n",
       "| 100          | l*p          | -1196.28948  | a017         | Gym members  | 100          | False        | False        | 0.000000e+00 | 0.000000e+00 | \n",
       "| 100          | l*p+r        |    60.40960  | a017         | Gym members  | 100          | True         | False        | 1.256699e+03 | 5.735626e-01 | \n",
       "| 100          | l*r          |   -94.76571  | a017         | Gym members  | 100          | True         | False        | 1.101524e+03 | 5.027399e-01 | \n",
       "| 100          | l*r*p        |   -98.14110  | a017         | Gym members  | 100          | True         | False        | 1.098148e+03 | 5.011994e-01 | \n",
       "| 100          | l*r+p        |   815.78171  | a017         | Gym members  | 100          | False        | False        | 2.012071e+03 | 9.183175e-01 | \n",
       "\n",
       "\n"
      ],
      "text/plain": [
       "  id  kernel lml         pid  scenario    cid white_added second_exception\n",
       "1 100 l      -1196.28948 a017 Gym members 100 False       False           \n",
       "2 100 l*p    -1196.28948 a017 Gym members 100 False       False           \n",
       "3 100 l*p+r     60.40960 a017 Gym members 100 True        False           \n",
       "4 100 l*r      -94.76571 a017 Gym members 100 True        False           \n",
       "5 100 l*r*p    -98.14110 a017 Gym members 100 True        False           \n",
       "6 100 l*r+p    815.78171 a017 Gym members 100 False       False           \n",
       "  lml_minus_min lml_standard\n",
       "1 7.786741e-06  3.553901e-09\n",
       "2 0.000000e+00  0.000000e+00\n",
       "3 1.256699e+03  5.735626e-01\n",
       "4 1.101524e+03  5.027399e-01\n",
       "5 1.098148e+03  5.011994e-01\n",
       "6 2.012071e+03  9.183175e-01"
      ]
     },
     "metadata": {},
     "output_type": "display_data"
    }
   ],
   "source": [
    "lmls_prior_f %>% head"
   ]
  },
  {
   "cell_type": "code",
   "execution_count": 124,
   "metadata": {
    "collapsed": true
   },
   "outputs": [],
   "source": [
    "plot_lmls <- function(prop_data, title, hide_x=FALSE, hide_y=FALSE) {\n",
    "    plot <- prop_data %>%\n",
    "                ggplot(aes(x=kernel, y=value)) + \n",
    "                    geom_bar(stat=\"identity\") +\n",
    "                    #ylim(0, 0.5) +\n",
    "                    #coord_cartesian (ylim=c(-1.2,1.0)) +\n",
    "                    labs(title = title) +\n",
    "                    ggthemes::theme_few() +\n",
    "                    xlab(\"Kernel composition\") + \n",
    "                    #ylab(\"Mean Standardized\\nLog Likelihood\") +\n",
    "                    geom_errorbar(aes(ymin=as.numeric(lo_ci), ymax=as.numeric(hi_ci)),\n",
    "                                      width=.3,                   \n",
    "                                      position=position_dodge(.9)) +\n",
    "                    theme(axis.text.x = element_text(angle = 90,  vjust = 0.5, hjust=0),\n",
    "                          text = element_text(size=12, family=\"serif\"),\n",
    "                          plot.title = element_text(hjust = 0.5))\n",
    "    \n",
    "    if(hide_x){\n",
    "        plot <- plot + theme(axis.title.x=element_blank())\n",
    "    }\n",
    "    if(hide_y){\n",
    "        plot <- plot + theme(axis.title.y=element_blank())\n",
    "    }\n",
    "    \n",
    "    return(plot)\n",
    "}"
   ]
  },
  {
   "cell_type": "markdown",
   "metadata": {},
   "source": [
    "### Plots"
   ]
  },
  {
   "cell_type": "code",
   "execution_count": 337,
   "metadata": {},
   "outputs": [
    {
     "data": {
      "text/html": [
       "<strong>png:</strong> 2"
      ],
      "text/latex": [
       "\\textbf{png:} 2"
      ],
      "text/markdown": [
       "**png:** 2"
      ],
      "text/plain": [
       "png \n",
       "  2 "
      ]
     },
     "metadata": {},
     "output_type": "display_data"
    }
   ],
   "source": [
    "# Plotting data\n",
    "to_plot<- lmls_prior_f %>% \n",
    "            group_by(kernel, scenario) %>%\n",
    "            summarize(value = mean(lml_standard),\n",
    "                      lo_ci = t.test(lml_standard, conf.level=0.95)$conf.int[1],\n",
    "                      hi_ci = t.test(lml_standard, conf.level=0.95)$conf.int[2])\n",
    "\n",
    "# Plotting magic\n",
    "to_plot$kernel <- factor(to_plot$kernel, levels=kernels)\n",
    "\n",
    "lmls_temperature <- to_plot %>% filter(scenario == \"Temperature\")\n",
    "lmls_rain <- to_plot %>% filter(scenario == \"Rain\")\n",
    "lmls_sales <- to_plot %>% filter(scenario == \"Sales\")\n",
    "lmls_gym <- to_plot %>% filter(scenario == \"Gym members\")\n",
    "lmls_salary <- to_plot %>% filter(scenario == \"Salary\")\n",
    "lmls_fb <- to_plot %>% filter(scenario == \"FB Friends\")\n",
    "\n",
    "p1 <- plot_lmls(lmls_temperature, \"Temperature\", hide_x=TRUE)\n",
    "p2 <- plot_lmls(lmls_rain, \"Rain\", hide_x=TRUE)\n",
    "p3 <- plot_lmls(lmls_sales, \"Sales\", hide_x=TRUE, hide_y=TRUE)\n",
    "p4 <- plot_lmls(lmls_gym, \"Gym members\", hide_y=TRUE, hide_x=TRUE)\n",
    "p5 <- plot_lmls(lmls_salary, \"Salary\", hide_x=TRUE, hide_y=TRUE)\n",
    "p6 <- plot_lmls(lmls_fb, \"FB Friends\", hide_y=TRUE, hide_x=TRUE)\n",
    "\n",
    "svg(\"Images/part_2/kernels_priors_lmls.svg\", width=8, height=4)\n",
    "multiplot(p1, p2, p3, p4, p5, p6, cols=3)\n",
    "dev.off()"
   ]
  },
  {
   "cell_type": "code",
   "execution_count": 329,
   "metadata": {},
   "outputs": [
    {
     "data": {
      "text/html": [
       "<strong>png:</strong> 2"
      ],
      "text/latex": [
       "\\textbf{png:} 2"
      ],
      "text/markdown": [
       "**png:** 2"
      ],
      "text/plain": [
       "png \n",
       "  2 "
      ]
     },
     "metadata": {},
     "output_type": "display_data"
    }
   ],
   "source": [
    "# Plotting data\n",
    "to_plot<- lmls_prior_f %>% \n",
    "            group_by(kernel, scenario) %>%\n",
    "            summarize(value = mean(lml),\n",
    "                      lo_ci = t.test(lml, conf.level=0.95)$conf.int[1],\n",
    "                      hi_ci = t.test(lml, conf.level=0.95)$conf.int[2])\n",
    "\n",
    "# Plotting magic\n",
    "to_plot$kernel <- factor(to_plot$kernel, levels=kernels)\n",
    "\n",
    "lmls_temperature <- to_plot %>% filter(scenario == \"Temperature\")\n",
    "lmls_rain <- to_plot %>% filter(scenario == \"Rain\")\n",
    "lmls_sales <- to_plot %>% filter(scenario == \"Sales\")\n",
    "lmls_gym <- to_plot %>% filter(scenario == \"Gym members\")\n",
    "lmls_salary <- to_plot %>% filter(scenario == \"Salary\")\n",
    "lmls_fb <- to_plot %>% filter(scenario == \"FB Friends\")\n",
    "\n",
    "p1 <- plot_lmls(lmls_temperature, \"Temperature\", hide_x=TRUE)\n",
    "p2 <- plot_lmls(lmls_rain, \"Rain\", hide_x=TRUE)\n",
    "p3 <- plot_lmls(lmls_sales, \"Sales\", hide_x=TRUE, hide_y=TRUE)\n",
    "p4 <- plot_lmls(lmls_gym, \"Gym members\", hide_y=TRUE, hide_x=TRUE)\n",
    "p5 <- plot_lmls(lmls_salary, \"Salary\", hide_x=TRUE, hide_y=TRUE)\n",
    "p6 <- plot_lmls(lmls_fb, \"FB Friends\", hide_y=TRUE, hide_x=TRUE)\n",
    "\n",
    "svg(\"Images/part_2/kernels_priors_lmls_2.svg\", width=8, height=4)\n",
    "multiplot(p1, p2, p3, p4, p5, p6, cols=3)\n",
    "dev.off()"
   ]
  },
  {
   "cell_type": "markdown",
   "metadata": {},
   "source": [
    "# Full-Bayesian Posterior analysis"
   ]
  },
  {
   "cell_type": "markdown",
   "metadata": {},
   "source": [
    "### Preparing the data"
   ]
  },
  {
   "cell_type": "code",
   "execution_count": 86,
   "metadata": {},
   "outputs": [
    {
     "name": "stderr",
     "output_type": "stream",
     "text": [
      "Parsed with column specification:\n",
      "cols(\n",
      "  id = col_integer(),\n",
      "  kernel = col_character(),\n",
      "  lml = col_double(),\n",
      "  white_added = col_logical(),\n",
      "  second_exception = col_logical()\n",
      ")\n"
     ]
    }
   ],
   "source": [
    "lmls_posterior <- read_csv(\"output/full-bayesian-posterior/results_posterior_test_lmls.csv\")"
   ]
  },
  {
   "cell_type": "code",
   "execution_count": 87,
   "metadata": {},
   "outputs": [
    {
     "name": "stderr",
     "output_type": "stream",
     "text": [
      "Warning message:\n",
      "\"Missing column names filled in: 'X1' [1]\"Parsed with column specification:\n",
      "cols(\n",
      "  X1 = col_integer(),\n",
      "  id = col_integer(),\n",
      "  pid = col_character(),\n",
      "  scenario = col_character(),\n",
      "  x = col_integer(),\n",
      "  y = col_double(),\n",
      "  condition = col_character()\n",
      ")\n"
     ]
    }
   ],
   "source": [
    "# To add the 'scenario' column\n",
    "\n",
    "data_posterior <- read_csv(\"data/for_composititional_analysis_posterior.csv\")\n",
    "\n",
    "dict_posterior <- data_posterior %>%                        \n",
    "                        group_by(id, pid, scenario) %>%\n",
    "                        summarize()\n",
    "\n",
    "dict_posterior$pid <- NULL\n",
    "\n",
    "lmls_posterior <- merge(x = lmls_posterior, y = dict_posterior, by = c(\"id\", \"id\"), all.x = TRUE)\n",
    "\n",
    "# Adding 'participant id' (pid)\n",
    "lmls_posterior$pid <- floor((lmls_posterior$id-1) / 6) + 1"
   ]
  },
  {
   "cell_type": "markdown",
   "metadata": {},
   "source": [
    "### Analyzing"
   ]
  },
  {
   "cell_type": "code",
   "execution_count": 95,
   "metadata": {},
   "outputs": [
    {
     "name": "stdout",
     "output_type": "stream",
     "text": [
      "[1] \"White added\"\n"
     ]
    },
    {
     "data": {
      "text/html": [
       "3333"
      ],
      "text/latex": [
       "3333"
      ],
      "text/markdown": [
       "3333"
      ],
      "text/plain": [
       "[1] 3333"
      ]
     },
     "metadata": {},
     "output_type": "display_data"
    },
    {
     "data": {
      "text/html": [
       "6663"
      ],
      "text/latex": [
       "6663"
      ],
      "text/markdown": [
       "6663"
      ],
      "text/plain": [
       "[1] 6663"
      ]
     },
     "metadata": {},
     "output_type": "display_data"
    },
    {
     "data": {
      "text/html": [
       "9996"
      ],
      "text/latex": [
       "9996"
      ],
      "text/markdown": [
       "9996"
      ],
      "text/plain": [
       "[1] 9996"
      ]
     },
     "metadata": {},
     "output_type": "display_data"
    },
    {
     "name": "stdout",
     "output_type": "stream",
     "text": [
      "[1] \"Second exception\"\n"
     ]
    },
    {
     "data": {
      "text/html": [
       "168"
      ],
      "text/latex": [
       "168"
      ],
      "text/markdown": [
       "168"
      ],
      "text/plain": [
       "[1] 168"
      ]
     },
     "metadata": {},
     "output_type": "display_data"
    },
    {
     "data": {
      "text/html": [
       "9828"
      ],
      "text/latex": [
       "9828"
      ],
      "text/markdown": [
       "9828"
      ],
      "text/plain": [
       "[1] 9828"
      ]
     },
     "metadata": {},
     "output_type": "display_data"
    },
    {
     "data": {
      "text/html": [
       "9996"
      ],
      "text/latex": [
       "9996"
      ],
      "text/markdown": [
       "9996"
      ],
      "text/plain": [
       "[1] 9996"
      ]
     },
     "metadata": {},
     "output_type": "display_data"
    },
    {
     "name": "stdout",
     "output_type": "stream",
     "text": [
      "[1] \"Proportion of LML error and Second exception over the total\"\n"
     ]
    },
    {
     "data": {
      "text/html": [
       "'1.69%'"
      ],
      "text/latex": [
       "'1.69\\%'"
      ],
      "text/markdown": [
       "'1.69%'"
      ],
      "text/plain": [
       "[1] \"1.69%\""
      ]
     },
     "metadata": {},
     "output_type": "display_data"
    }
   ],
   "source": [
    "print('White added')\n",
    "\n",
    "lmls_posterior %>%\n",
    "    filter(white_added == 'TRUE') %>%\n",
    "    nrow\n",
    "\n",
    "lmls_posterior %>%\n",
    "    filter(white_added == 'FALSE') %>%\n",
    "    nrow\n",
    "\n",
    "lmls_posterior %>%\n",
    "    nrow\n",
    "\n",
    "#######\n",
    "\n",
    "print('Second exception')\n",
    "lmls_posterior %>%\n",
    "    filter(second_exception == 'TRUE') %>%\n",
    "    nrow\n",
    "\n",
    "lmls_posterior %>%\n",
    "    filter(second_exception == 'FALSE') %>%\n",
    "    nrow\n",
    "\n",
    "lmls_posterior %>%\n",
    "    nrow\n",
    "\n",
    "######\n",
    "\n",
    "print('Proportion of LML error and Second exception over the total')\n",
    "\n",
    "paste0(round((lmls_posterior %>%\n",
    "            filter(lml == -999999999 | second_exception == 'TRUE') %>%\n",
    "            nrow) / (lmls_posterior %>% nrow) * 100, 2), '%')"
   ]
  },
  {
   "cell_type": "code",
   "execution_count": 89,
   "metadata": {},
   "outputs": [],
   "source": [
    "# Removing unusable data, and standardizing.\n",
    "\n",
    "lmls_posterior_f <- lmls_posterior %>%\n",
    "                    filter(second_exception == 'FALSE' & lml != -999999999) %>%\n",
    "                    group_by(pid, scenario) %>%\n",
    "                    mutate(lml_minus_min = lml - min(lml),\n",
    "                           lml_standard = lml_minus_min / (max(lml_minus_min) - min (lml_minus_min)))"
   ]
  },
  {
   "cell_type": "markdown",
   "metadata": {},
   "source": [
    "### Plotting"
   ]
  },
  {
   "cell_type": "code",
   "execution_count": 104,
   "metadata": {},
   "outputs": [
    {
     "data": {
      "text/html": [
       "<strong>png:</strong> 2"
      ],
      "text/latex": [
       "\\textbf{png:} 2"
      ],
      "text/markdown": [
       "**png:** 2"
      ],
      "text/plain": [
       "png \n",
       "  2 "
      ]
     },
     "metadata": {},
     "output_type": "display_data"
    }
   ],
   "source": [
    "# Plotting data\n",
    "to_plot<- lmls_posterior_f %>%\n",
    "            group_by(kernel, scenario) %>%\n",
    "            summarize(value = mean(lml_standard),\n",
    "                      lo_ci = t.test(lml_standard, conf.level=0.95)$conf.int[1],\n",
    "                      hi_ci = t.test(lml_standard, conf.level=0.95)$conf.int[2])\n",
    "\n",
    "# Plotting magic\n",
    "to_plot$kernel <- factor(to_plot$kernel, levels=kernels)\n",
    "\n",
    "lmls_temperature <- to_plot %>% filter(scenario == \"Temperature\")\n",
    "lmls_rain <- to_plot %>% filter(scenario == \"Rain\")\n",
    "lmls_sales <- to_plot %>% filter(scenario == \"Sales\")\n",
    "lmls_gym <- to_plot %>% filter(scenario == \"Gym members\")\n",
    "lmls_salary <- to_plot %>% filter(scenario == \"Salary\")\n",
    "lmls_fb <- to_plot %>% filter(scenario == \"FB Friends\")\n",
    "\n",
    "p1 <- plot_lmls(lmls_temperature, \"Temperature\", hide_x=TRUE)\n",
    "p2 <- plot_lmls(lmls_rain, \"Rain\", hide_x=TRUE)\n",
    "p3 <- plot_lmls(lmls_sales, \"Sales\", hide_x=TRUE, hide_y=TRUE)\n",
    "p4 <- plot_lmls(lmls_gym, \"Gym members\", hide_y=TRUE, hide_x=TRUE)\n",
    "p5 <- plot_lmls(lmls_salary, \"Salary\", hide_x=TRUE, hide_y=TRUE)\n",
    "p6 <- plot_lmls(lmls_fb, \"FB Friends\", hide_y=TRUE, hide_x=TRUE)\n",
    "\n",
    "svg(\"Images/part_2/kernels_posterior_lmls.svg\", width=8, height=4)\n",
    "multiplot(p1, p2, p3, p4, p5, p6, cols=3)\n",
    "dev.off()"
   ]
  },
  {
   "cell_type": "code",
   "execution_count": 103,
   "metadata": {},
   "outputs": [
    {
     "data": {
      "text/html": [
       "<strong>png:</strong> 2"
      ],
      "text/latex": [
       "\\textbf{png:} 2"
      ],
      "text/markdown": [
       "**png:** 2"
      ],
      "text/plain": [
       "png \n",
       "  2 "
      ]
     },
     "metadata": {},
     "output_type": "display_data"
    }
   ],
   "source": [
    "# Plotting data\n",
    "to_plot<- lmls_posterior_f %>%\n",
    "            group_by(kernel, scenario) %>%\n",
    "            summarize(value = mean(lml),\n",
    "                      lo_ci = t.test(lml, conf.level=0.95)$conf.int[1],\n",
    "                      hi_ci = t.test(lml, conf.level=0.95)$conf.int[2])\n",
    "\n",
    "# Plotting magic\n",
    "to_plot$kernel <- factor(to_plot$kernel, levels=kernels)\n",
    "\n",
    "lmls_temperature <- to_plot %>% filter(scenario == \"Temperature\")\n",
    "lmls_rain <- to_plot %>% filter(scenario == \"Rain\")\n",
    "lmls_sales <- to_plot %>% filter(scenario == \"Sales\")\n",
    "lmls_gym <- to_plot %>% filter(scenario == \"Gym members\")\n",
    "lmls_salary <- to_plot %>% filter(scenario == \"Salary\")\n",
    "lmls_fb <- to_plot %>% filter(scenario == \"FB Friends\")\n",
    "\n",
    "p1 <- plot_lmls(lmls_temperature, \"Temperature\", hide_x=TRUE)\n",
    "p2 <- plot_lmls(lmls_rain, \"Rain\", hide_x=TRUE)\n",
    "p3 <- plot_lmls(lmls_sales, \"Sales\", hide_x=TRUE, hide_y=TRUE)\n",
    "p4 <- plot_lmls(lmls_gym, \"Gym members\", hide_y=TRUE, hide_x=TRUE)\n",
    "p5 <- plot_lmls(lmls_salary, \"Salary\", hide_x=TRUE, hide_y=TRUE)\n",
    "p6 <- plot_lmls(lmls_fb, \"FB Friends\", hide_y=TRUE, hide_x=TRUE)\n",
    "\n",
    "svg(\"Images/part_2/kernels_posterior_lmls_2.svg\", width=8, height=4)\n",
    "multiplot(p1, p2, p3, p4, p5, p6, cols=3)\n",
    "dev.off()"
   ]
  },
  {
   "cell_type": "code",
   "execution_count": 99,
   "metadata": {},
   "outputs": [
    {
     "data": {
      "text/html": [
       "393"
      ],
      "text/latex": [
       "393"
      ],
      "text/markdown": [
       "393"
      ],
      "text/plain": [
       "[1] 393"
      ]
     },
     "metadata": {},
     "output_type": "display_data"
    }
   ],
   "source": [
    "lmls_posterior_f %>% \n",
    "    filter(lml < -10000) %>% nrow"
   ]
  },
  {
   "cell_type": "markdown",
   "metadata": {},
   "source": [
    "# Best on each condition"
   ]
  },
  {
   "cell_type": "markdown",
   "metadata": {},
   "source": [
    "### Prior"
   ]
  },
  {
   "cell_type": "code",
   "execution_count": 135,
   "metadata": {},
   "outputs": [],
   "source": [
    "prior_a <- lmls_prior_f %>%\n",
    "                    group_by(kernel, scenario) %>%\n",
    "                    summarize(value = mean(lml),\n",
    "                              lo_ci = t.test(lml, conf.level=0.95)$conf.int[1],\n",
    "                              hi_ci = t.test(lml, conf.level=0.95)$conf.int[2])"
   ]
  },
  {
   "cell_type": "markdown",
   "metadata": {},
   "source": [
    "### Posterior"
   ]
  },
  {
   "cell_type": "code",
   "execution_count": 136,
   "metadata": {
    "collapsed": true
   },
   "outputs": [],
   "source": [
    "posterior_a <- lmls_posterior_f %>%\n",
    "                    group_by(kernel, scenario) %>%\n",
    "                    summarize(value = mean(lml),\n",
    "                              lo_ci = t.test(lml, conf.level=0.95)$conf.int[1],\n",
    "                              hi_ci = t.test(lml, conf.level=0.95)$conf.int[2])"
   ]
  },
  {
   "cell_type": "markdown",
   "metadata": {},
   "source": [
    "### Tables"
   ]
  },
  {
   "cell_type": "code",
   "execution_count": 156,
   "metadata": {},
   "outputs": [
    {
     "data": {
      "text/html": [
       "<table>\n",
       "<thead><tr><th scope=col>scenario</th><th scope=col>max_index</th><th scope=col>max_kernel</th><th scope=col>max_lml</th></tr></thead>\n",
       "<tbody>\n",
       "\t<tr><td>FB Friends </td><td> 8         </td><td>l+r        </td><td> 125.2687  </td></tr>\n",
       "\t<tr><td>Gym members</td><td>14         </td><td>r          </td><td> 606.5293  </td></tr>\n",
       "\t<tr><td>Rain       </td><td>14         </td><td>r          </td><td> 255.6540  </td></tr>\n",
       "\t<tr><td>Salary     </td><td>14         </td><td>r          </td><td>1081.6803  </td></tr>\n",
       "\t<tr><td>Sales      </td><td> 8         </td><td>l+r        </td><td>-881.9682  </td></tr>\n",
       "\t<tr><td>Temperature</td><td>14         </td><td>r          </td><td> 474.7388  </td></tr>\n",
       "</tbody>\n",
       "</table>\n"
      ],
      "text/latex": [
       "\\begin{tabular}{r|llll}\n",
       " scenario & max\\_index & max\\_kernel & max\\_lml\\\\\n",
       "\\hline\n",
       "\t FB Friends  &  8          & l+r         &  125.2687  \\\\\n",
       "\t Gym members & 14          & r           &  606.5293  \\\\\n",
       "\t Rain        & 14          & r           &  255.6540  \\\\\n",
       "\t Salary      & 14          & r           & 1081.6803  \\\\\n",
       "\t Sales       &  8          & l+r         & -881.9682  \\\\\n",
       "\t Temperature & 14          & r           &  474.7388  \\\\\n",
       "\\end{tabular}\n"
      ],
      "text/markdown": [
       "\n",
       "scenario | max_index | max_kernel | max_lml | \n",
       "|---|---|---|---|---|---|\n",
       "| FB Friends  |  8          | l+r         |  125.2687   | \n",
       "| Gym members | 14          | r           |  606.5293   | \n",
       "| Rain        | 14          | r           |  255.6540   | \n",
       "| Salary      | 14          | r           | 1081.6803   | \n",
       "| Sales       |  8          | l+r         | -881.9682   | \n",
       "| Temperature | 14          | r           |  474.7388   | \n",
       "\n",
       "\n"
      ],
      "text/plain": [
       "  scenario    max_index max_kernel max_lml  \n",
       "1 FB Friends   8        l+r         125.2687\n",
       "2 Gym members 14        r           606.5293\n",
       "3 Rain        14        r           255.6540\n",
       "4 Salary      14        r          1081.6803\n",
       "5 Sales        8        l+r        -881.9682\n",
       "6 Temperature 14        r           474.7388"
      ]
     },
     "metadata": {},
     "output_type": "display_data"
    }
   ],
   "source": [
    "prior_a %>% \n",
    "    group_by(scenario) %>%\n",
    "    summarize(max_index = which.max(value),\n",
    "              max_kernel = kernel[max_index],\n",
    "              max_lml = value[max_index])"
   ]
  },
  {
   "cell_type": "code",
   "execution_count": 157,
   "metadata": {},
   "outputs": [
    {
     "data": {
      "text/html": [
       "<table>\n",
       "<thead><tr><th scope=col>scenario</th><th scope=col>max_index</th><th scope=col>max_kernel</th><th scope=col>max_lml</th></tr></thead>\n",
       "<tbody>\n",
       "\t<tr><td>FB Friends </td><td> 5         </td><td>l*r*p      </td><td>-217.165903</td></tr>\n",
       "\t<tr><td>Gym members</td><td> 8         </td><td>l+r        </td><td>  -6.608700</td></tr>\n",
       "\t<tr><td>Rain       </td><td> 8         </td><td>l+r        </td><td>  28.158404</td></tr>\n",
       "\t<tr><td>Salary     </td><td> 8         </td><td>l+r        </td><td>  -4.190274</td></tr>\n",
       "\t<tr><td>Sales      </td><td> 4         </td><td>l*r        </td><td>-327.823858</td></tr>\n",
       "\t<tr><td>Temperature</td><td>14         </td><td>r          </td><td> 106.528731</td></tr>\n",
       "</tbody>\n",
       "</table>\n"
      ],
      "text/latex": [
       "\\begin{tabular}{r|llll}\n",
       " scenario & max\\_index & max\\_kernel & max\\_lml\\\\\n",
       "\\hline\n",
       "\t FB Friends  &  5          & l*r*p       & -217.165903\\\\\n",
       "\t Gym members &  8          & l+r         &   -6.608700\\\\\n",
       "\t Rain        &  8          & l+r         &   28.158404\\\\\n",
       "\t Salary      &  8          & l+r         &   -4.190274\\\\\n",
       "\t Sales       &  4          & l*r         & -327.823858\\\\\n",
       "\t Temperature & 14          & r           &  106.528731\\\\\n",
       "\\end{tabular}\n"
      ],
      "text/markdown": [
       "\n",
       "scenario | max_index | max_kernel | max_lml | \n",
       "|---|---|---|---|---|---|\n",
       "| FB Friends  |  5          | l*r*p       | -217.165903 | \n",
       "| Gym members |  8          | l+r         |   -6.608700 | \n",
       "| Rain        |  8          | l+r         |   28.158404 | \n",
       "| Salary      |  8          | l+r         |   -4.190274 | \n",
       "| Sales       |  4          | l*r         | -327.823858 | \n",
       "| Temperature | 14          | r           |  106.528731 | \n",
       "\n",
       "\n"
      ],
      "text/plain": [
       "  scenario    max_index max_kernel max_lml    \n",
       "1 FB Friends   5        l*r*p      -217.165903\n",
       "2 Gym members  8        l+r          -6.608700\n",
       "3 Rain         8        l+r          28.158404\n",
       "4 Salary       8        l+r          -4.190274\n",
       "5 Sales        4        l*r        -327.823858\n",
       "6 Temperature 14        r           106.528731"
      ]
     },
     "metadata": {},
     "output_type": "display_data"
    }
   ],
   "source": [
    "posterior_a %>% \n",
    "    group_by(scenario) %>%\n",
    "    summarize(max_index = which.max(value),\n",
    "              max_kernel = kernel[max_index],\n",
    "              max_lml = value[max_index])"
   ]
  },
  {
   "cell_type": "markdown",
   "metadata": {},
   "source": [
    "### Consistency"
   ]
  },
  {
   "cell_type": "code",
   "execution_count": 165,
   "metadata": {},
   "outputs": [],
   "source": [
    "prior_maxs <- lmls_prior_f %>%\n",
    "                group_by(id, pid, scenario) %>%\n",
    "                summarize(max_index = which.max(lml),\n",
    "                          max_kernel = kernel[max_index],\n",
    "                          max_lml = lml[max_index])"
   ]
  },
  {
   "cell_type": "code",
   "execution_count": 166,
   "metadata": {
    "collapsed": true
   },
   "outputs": [],
   "source": [
    "posterior_maxs <- lmls_posterior_f %>%\n",
    "                group_by(id, pid, scenario) %>%\n",
    "                summarize(max_index = which.max(lml),\n",
    "                          max_kernel = kernel[max_index],\n",
    "                          max_lml = lml[max_index])"
   ]
  },
  {
   "cell_type": "code",
   "execution_count": 169,
   "metadata": {
    "collapsed": true
   },
   "outputs": [],
   "source": [
    "merged_maxs <- merge(x = prior_maxs, y = posterior_maxs, by = c(\"id\", \"id\"), all.x = TRUE)"
   ]
  },
  {
   "cell_type": "code",
   "execution_count": 176,
   "metadata": {},
   "outputs": [
    {
     "data": {
      "text/html": [
       "0.214285714285714"
      ],
      "text/latex": [
       "0.214285714285714"
      ],
      "text/markdown": [
       "0.214285714285714"
      ],
      "text/plain": [
       "[1] 0.2142857"
      ]
     },
     "metadata": {},
     "output_type": "display_data"
    }
   ],
   "source": [
    "(merged_maxs %>%\n",
    "    filter(max_kernel.x == max_kernel.y) %>%\n",
    "    nrow)/\n",
    "(merged_maxs %>%\n",
    "    nrow)"
   ]
  },
  {
   "cell_type": "markdown",
   "metadata": {},
   "source": [
    "# Excluding {l, p, r}"
   ]
  },
  {
   "cell_type": "markdown",
   "metadata": {},
   "source": [
    "### Tables"
   ]
  },
  {
   "cell_type": "code",
   "execution_count": 181,
   "metadata": {},
   "outputs": [
    {
     "name": "stdout",
     "output_type": "stream",
     "text": [
      "[1] \"Kernel with the maximum average per scenario\"\n",
      "[1] \"Prior table:\"\n"
     ]
    },
    {
     "data": {
      "text/html": [
       "<table>\n",
       "<thead><tr><th scope=col>scenario</th><th scope=col>max_index</th><th scope=col>max_kernel</th><th scope=col>max_lml</th></tr></thead>\n",
       "<tbody>\n",
       "\t<tr><td>FB Friends </td><td> 7         </td><td>l+r        </td><td> 125.2687  </td></tr>\n",
       "\t<tr><td>Gym members</td><td>11         </td><td>p+r        </td><td> 518.0173  </td></tr>\n",
       "\t<tr><td>Rain       </td><td> 8         </td><td>l+r*p      </td><td> 213.3836  </td></tr>\n",
       "\t<tr><td>Salary     </td><td>11         </td><td>p+r        </td><td> 809.7401  </td></tr>\n",
       "\t<tr><td>Sales      </td><td> 7         </td><td>l+r        </td><td>-881.9682  </td></tr>\n",
       "\t<tr><td>Temperature</td><td>10         </td><td>p*r        </td><td> 443.1288  </td></tr>\n",
       "</tbody>\n",
       "</table>\n"
      ],
      "text/latex": [
       "\\begin{tabular}{r|llll}\n",
       " scenario & max\\_index & max\\_kernel & max\\_lml\\\\\n",
       "\\hline\n",
       "\t FB Friends  &  7          & l+r         &  125.2687  \\\\\n",
       "\t Gym members & 11          & p+r         &  518.0173  \\\\\n",
       "\t Rain        &  8          & l+r*p       &  213.3836  \\\\\n",
       "\t Salary      & 11          & p+r         &  809.7401  \\\\\n",
       "\t Sales       &  7          & l+r         & -881.9682  \\\\\n",
       "\t Temperature & 10          & p*r         &  443.1288  \\\\\n",
       "\\end{tabular}\n"
      ],
      "text/markdown": [
       "\n",
       "scenario | max_index | max_kernel | max_lml | \n",
       "|---|---|---|---|---|---|\n",
       "| FB Friends  |  7          | l+r         |  125.2687   | \n",
       "| Gym members | 11          | p+r         |  518.0173   | \n",
       "| Rain        |  8          | l+r*p       |  213.3836   | \n",
       "| Salary      | 11          | p+r         |  809.7401   | \n",
       "| Sales       |  7          | l+r         | -881.9682   | \n",
       "| Temperature | 10          | p*r         |  443.1288   | \n",
       "\n",
       "\n"
      ],
      "text/plain": [
       "  scenario    max_index max_kernel max_lml  \n",
       "1 FB Friends   7        l+r         125.2687\n",
       "2 Gym members 11        p+r         518.0173\n",
       "3 Rain         8        l+r*p       213.3836\n",
       "4 Salary      11        p+r         809.7401\n",
       "5 Sales        7        l+r        -881.9682\n",
       "6 Temperature 10        p*r         443.1288"
      ]
     },
     "metadata": {},
     "output_type": "display_data"
    },
    {
     "name": "stdout",
     "output_type": "stream",
     "text": [
      "[1] \"Posterior data:\"\n"
     ]
    },
    {
     "data": {
      "text/html": [
       "<table>\n",
       "<thead><tr><th scope=col>scenario</th><th scope=col>max_index</th><th scope=col>max_kernel</th><th scope=col>max_lml</th></tr></thead>\n",
       "<tbody>\n",
       "\t<tr><td>FB Friends </td><td>4          </td><td>l*r*p      </td><td>-217.165903</td></tr>\n",
       "\t<tr><td>Gym members</td><td>7          </td><td>l+r        </td><td>  -6.608700</td></tr>\n",
       "\t<tr><td>Rain       </td><td>7          </td><td>l+r        </td><td>  28.158404</td></tr>\n",
       "\t<tr><td>Salary     </td><td>7          </td><td>l+r        </td><td>  -4.190274</td></tr>\n",
       "\t<tr><td>Sales      </td><td>3          </td><td>l*r        </td><td>-327.823858</td></tr>\n",
       "\t<tr><td>Temperature</td><td>7          </td><td>l+r        </td><td>  54.054911</td></tr>\n",
       "</tbody>\n",
       "</table>\n"
      ],
      "text/latex": [
       "\\begin{tabular}{r|llll}\n",
       " scenario & max\\_index & max\\_kernel & max\\_lml\\\\\n",
       "\\hline\n",
       "\t FB Friends  & 4           & l*r*p       & -217.165903\\\\\n",
       "\t Gym members & 7           & l+r         &   -6.608700\\\\\n",
       "\t Rain        & 7           & l+r         &   28.158404\\\\\n",
       "\t Salary      & 7           & l+r         &   -4.190274\\\\\n",
       "\t Sales       & 3           & l*r         & -327.823858\\\\\n",
       "\t Temperature & 7           & l+r         &   54.054911\\\\\n",
       "\\end{tabular}\n"
      ],
      "text/markdown": [
       "\n",
       "scenario | max_index | max_kernel | max_lml | \n",
       "|---|---|---|---|---|---|\n",
       "| FB Friends  | 4           | l*r*p       | -217.165903 | \n",
       "| Gym members | 7           | l+r         |   -6.608700 | \n",
       "| Rain        | 7           | l+r         |   28.158404 | \n",
       "| Salary      | 7           | l+r         |   -4.190274 | \n",
       "| Sales       | 3           | l*r         | -327.823858 | \n",
       "| Temperature | 7           | l+r         |   54.054911 | \n",
       "\n",
       "\n"
      ],
      "text/plain": [
       "  scenario    max_index max_kernel max_lml    \n",
       "1 FB Friends  4         l*r*p      -217.165903\n",
       "2 Gym members 7         l+r          -6.608700\n",
       "3 Rain        7         l+r          28.158404\n",
       "4 Salary      7         l+r          -4.190274\n",
       "5 Sales       3         l*r        -327.823858\n",
       "6 Temperature 7         l+r          54.054911"
      ]
     },
     "metadata": {},
     "output_type": "display_data"
    }
   ],
   "source": [
    "prior_a <- lmls_prior_f %>%\n",
    "                    filter(kernel != 'l', kernel != 'p', kernel != 'r') %>%\n",
    "                    group_by(kernel, scenario) %>%\n",
    "                    summarize(value = mean(lml),\n",
    "                              lo_ci = t.test(lml, conf.level=0.95)$conf.int[1],\n",
    "                              hi_ci = t.test(lml, conf.level=0.95)$conf.int[2])\n",
    "\n",
    "posterior_a <- lmls_posterior_f %>%\n",
    "                    filter(kernel != 'l', kernel != 'p', kernel != 'r') %>%\n",
    "                    group_by(kernel, scenario) %>%\n",
    "                    summarize(value = mean(lml),\n",
    "                              lo_ci = t.test(lml, conf.level=0.95)$conf.int[1],\n",
    "                              hi_ci = t.test(lml, conf.level=0.95)$conf.int[2])\n",
    "\n",
    "print('Kernel with the maximum average per scenario')\n",
    "print('Prior table:')\n",
    "prior_a %>% \n",
    "    group_by(scenario) %>%\n",
    "    summarize(max_index = which.max(value),\n",
    "              max_kernel = kernel[max_index],\n",
    "              max_lml = value[max_index])\n",
    "\n",
    "print('Posterior data:')\n",
    "posterior_a %>% \n",
    "    group_by(scenario) %>%\n",
    "    summarize(max_index = which.max(value),\n",
    "              max_kernel = kernel[max_index],\n",
    "              max_lml = value[max_index])"
   ]
  },
  {
   "cell_type": "markdown",
   "metadata": {},
   "source": [
    "### Tables (using standard)"
   ]
  },
  {
   "cell_type": "code",
   "execution_count": 183,
   "metadata": {},
   "outputs": [
    {
     "name": "stdout",
     "output_type": "stream",
     "text": [
      "[1] \"Kernel with the maximum average per scenario\"\n",
      "[1] \"Prior table:\"\n"
     ]
    },
    {
     "data": {
      "text/html": [
       "<table>\n",
       "<thead><tr><th scope=col>scenario</th><th scope=col>max_index</th><th scope=col>max_kernel</th><th scope=col>max_lml</th></tr></thead>\n",
       "<tbody>\n",
       "\t<tr><td>FB Friends </td><td> 7         </td><td>l+r        </td><td>0.9469077  </td></tr>\n",
       "\t<tr><td>Gym members</td><td> 8         </td><td>l+r*p      </td><td>0.8893989  </td></tr>\n",
       "\t<tr><td>Rain       </td><td>10         </td><td>p*r        </td><td>0.9329891  </td></tr>\n",
       "\t<tr><td>Salary     </td><td>11         </td><td>p+r        </td><td>0.8224981  </td></tr>\n",
       "\t<tr><td>Sales      </td><td> 7         </td><td>l+r        </td><td>0.9694123  </td></tr>\n",
       "\t<tr><td>Temperature</td><td>10         </td><td>p*r        </td><td>0.9404126  </td></tr>\n",
       "</tbody>\n",
       "</table>\n"
      ],
      "text/latex": [
       "\\begin{tabular}{r|llll}\n",
       " scenario & max\\_index & max\\_kernel & max\\_lml\\\\\n",
       "\\hline\n",
       "\t FB Friends  &  7          & l+r         & 0.9469077  \\\\\n",
       "\t Gym members &  8          & l+r*p       & 0.8893989  \\\\\n",
       "\t Rain        & 10          & p*r         & 0.9329891  \\\\\n",
       "\t Salary      & 11          & p+r         & 0.8224981  \\\\\n",
       "\t Sales       &  7          & l+r         & 0.9694123  \\\\\n",
       "\t Temperature & 10          & p*r         & 0.9404126  \\\\\n",
       "\\end{tabular}\n"
      ],
      "text/markdown": [
       "\n",
       "scenario | max_index | max_kernel | max_lml | \n",
       "|---|---|---|---|---|---|\n",
       "| FB Friends  |  7          | l+r         | 0.9469077   | \n",
       "| Gym members |  8          | l+r*p       | 0.8893989   | \n",
       "| Rain        | 10          | p*r         | 0.9329891   | \n",
       "| Salary      | 11          | p+r         | 0.8224981   | \n",
       "| Sales       |  7          | l+r         | 0.9694123   | \n",
       "| Temperature | 10          | p*r         | 0.9404126   | \n",
       "\n",
       "\n"
      ],
      "text/plain": [
       "  scenario    max_index max_kernel max_lml  \n",
       "1 FB Friends   7        l+r        0.9469077\n",
       "2 Gym members  8        l+r*p      0.8893989\n",
       "3 Rain        10        p*r        0.9329891\n",
       "4 Salary      11        p+r        0.8224981\n",
       "5 Sales        7        l+r        0.9694123\n",
       "6 Temperature 10        p*r        0.9404126"
      ]
     },
     "metadata": {},
     "output_type": "display_data"
    },
    {
     "name": "stdout",
     "output_type": "stream",
     "text": [
      "[1] \"Posterior data:\"\n"
     ]
    },
    {
     "data": {
      "text/html": [
       "<table>\n",
       "<thead><tr><th scope=col>scenario</th><th scope=col>max_index</th><th scope=col>max_kernel</th><th scope=col>max_lml</th></tr></thead>\n",
       "<tbody>\n",
       "\t<tr><td>FB Friends </td><td> 4         </td><td>l*r*p      </td><td>0.9560027  </td></tr>\n",
       "\t<tr><td>Gym members</td><td>11         </td><td>p+r        </td><td>0.8200730  </td></tr>\n",
       "\t<tr><td>Rain       </td><td> 7         </td><td>l+r        </td><td>0.8092954  </td></tr>\n",
       "\t<tr><td>Salary     </td><td>11         </td><td>p+r        </td><td>0.7124758  </td></tr>\n",
       "\t<tr><td>Sales      </td><td> 4         </td><td>l*r*p      </td><td>0.9987226  </td></tr>\n",
       "\t<tr><td>Temperature</td><td>11         </td><td>p+r        </td><td>0.7849605  </td></tr>\n",
       "</tbody>\n",
       "</table>\n"
      ],
      "text/latex": [
       "\\begin{tabular}{r|llll}\n",
       " scenario & max\\_index & max\\_kernel & max\\_lml\\\\\n",
       "\\hline\n",
       "\t FB Friends  &  4          & l*r*p       & 0.9560027  \\\\\n",
       "\t Gym members & 11          & p+r         & 0.8200730  \\\\\n",
       "\t Rain        &  7          & l+r         & 0.8092954  \\\\\n",
       "\t Salary      & 11          & p+r         & 0.7124758  \\\\\n",
       "\t Sales       &  4          & l*r*p       & 0.9987226  \\\\\n",
       "\t Temperature & 11          & p+r         & 0.7849605  \\\\\n",
       "\\end{tabular}\n"
      ],
      "text/markdown": [
       "\n",
       "scenario | max_index | max_kernel | max_lml | \n",
       "|---|---|---|---|---|---|\n",
       "| FB Friends  |  4          | l*r*p       | 0.9560027   | \n",
       "| Gym members | 11          | p+r         | 0.8200730   | \n",
       "| Rain        |  7          | l+r         | 0.8092954   | \n",
       "| Salary      | 11          | p+r         | 0.7124758   | \n",
       "| Sales       |  4          | l*r*p       | 0.9987226   | \n",
       "| Temperature | 11          | p+r         | 0.7849605   | \n",
       "\n",
       "\n"
      ],
      "text/plain": [
       "  scenario    max_index max_kernel max_lml  \n",
       "1 FB Friends   4        l*r*p      0.9560027\n",
       "2 Gym members 11        p+r        0.8200730\n",
       "3 Rain         7        l+r        0.8092954\n",
       "4 Salary      11        p+r        0.7124758\n",
       "5 Sales        4        l*r*p      0.9987226\n",
       "6 Temperature 11        p+r        0.7849605"
      ]
     },
     "metadata": {},
     "output_type": "display_data"
    }
   ],
   "source": [
    "prior_a <- lmls_prior_f %>%\n",
    "                    filter(kernel != 'l', kernel != 'p', kernel != 'r') %>%\n",
    "                    group_by(kernel, scenario) %>%\n",
    "                    summarize(value = mean(lml_standard),\n",
    "                              lo_ci = t.test(lml_standard, conf.level=0.95)$conf.int[1],\n",
    "                              hi_ci = t.test(lml_standard, conf.level=0.95)$conf.int[2])\n",
    "\n",
    "posterior_a <- lmls_posterior_f %>%\n",
    "                    filter(kernel != 'l', kernel != 'p', kernel != 'r') %>%\n",
    "                    group_by(kernel, scenario) %>%\n",
    "                    summarize(value = mean(lml_standard),\n",
    "                              lo_ci = t.test(lml_standard, conf.level=0.95)$conf.int[1],\n",
    "                              hi_ci = t.test(lml_standard, conf.level=0.95)$conf.int[2])\n",
    "\n",
    "print('Kernel with the maximum average per scenario')\n",
    "print('Prior table:')\n",
    "prior_a %>% \n",
    "    group_by(scenario) %>%\n",
    "    summarize(max_index = which.max(value),\n",
    "              max_kernel = kernel[max_index],\n",
    "              max_lml = value[max_index])\n",
    "\n",
    "print('Posterior data:')\n",
    "posterior_a %>% \n",
    "    group_by(scenario) %>%\n",
    "    summarize(max_index = which.max(value),\n",
    "              max_kernel = kernel[max_index],\n",
    "              max_lml = value[max_index])"
   ]
  },
  {
   "cell_type": "markdown",
   "metadata": {},
   "source": [
    "### Persistence percentage"
   ]
  },
  {
   "cell_type": "code",
   "execution_count": 179,
   "metadata": {},
   "outputs": [
    {
     "data": {
      "text/html": [
       "0.225490196078431"
      ],
      "text/latex": [
       "0.225490196078431"
      ],
      "text/markdown": [
       "0.225490196078431"
      ],
      "text/plain": [
       "[1] 0.2254902"
      ]
     },
     "metadata": {},
     "output_type": "display_data"
    }
   ],
   "source": [
    "prior_maxs <- lmls_prior_f %>%\n",
    "                filter(kernel != 'l', kernel != 'p', kernel != 'r') %>%\n",
    "                group_by(id, pid, scenario) %>%\n",
    "                summarize(max_index = which.max(lml),\n",
    "                          max_kernel = kernel[max_index],\n",
    "                          max_lml = lml[max_index])\n",
    "\n",
    "posterior_maxs <- lmls_posterior_f %>%\n",
    "                filter(kernel != 'l', kernel != 'p', kernel != 'r') %>%\n",
    "                group_by(id, pid, scenario) %>%\n",
    "                summarize(max_index = which.max(lml),\n",
    "                          max_kernel = kernel[max_index],\n",
    "                          max_lml = lml[max_index])\n",
    "\n",
    "merged_maxs <- merge(x = prior_maxs, y = posterior_maxs, by = c(\"id\", \"id\"), all.x = TRUE)\n",
    "\n",
    "(merged_maxs %>%\n",
    "    filter(max_kernel.x == max_kernel.y) %>%\n",
    "    nrow)/\n",
    "(merged_maxs %>%\n",
    "    nrow)"
   ]
  },
  {
   "cell_type": "code",
   "execution_count": null,
   "metadata": {
    "collapsed": true
   },
   "outputs": [],
   "source": []
  },
  {
   "cell_type": "code",
   "execution_count": null,
   "metadata": {
    "collapsed": true
   },
   "outputs": [],
   "source": []
  },
  {
   "cell_type": "markdown",
   "metadata": {},
   "source": [
    "# Real-world data"
   ]
  },
  {
   "cell_type": "code",
   "execution_count": null,
   "metadata": {
    "collapsed": true
   },
   "outputs": [],
   "source": []
  }
 ],
 "metadata": {
  "kernelspec": {
   "display_name": "R",
   "language": "R",
   "name": "ir"
  },
  "language_info": {
   "codemirror_mode": "r",
   "file_extension": ".r",
   "mimetype": "text/x-r-source",
   "name": "R",
   "pygments_lexer": "r",
   "version": "3.3.1"
  }
 },
 "nbformat": 4,
 "nbformat_minor": 2
}
