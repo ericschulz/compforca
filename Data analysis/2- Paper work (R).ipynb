{
 "cells": [
  {
   "cell_type": "markdown",
   "metadata": {},
   "source": [
    "`NOTE: This document will include plots, data, and code-snippets. (It will probably be a bit messy)`"
   ]
  },
  {
   "cell_type": "markdown",
   "metadata": {},
   "source": [
    "# Libraries"
   ]
  },
  {
   "cell_type": "code",
   "execution_count": 32,
   "metadata": {},
   "outputs": [
    {
     "name": "stderr",
     "output_type": "stream",
     "text": [
      "Parsed with column specification:\n",
      "cols(\n",
      "  .default = col_double(),\n",
      "  userId = col_character(),\n",
      "  age = col_character(),\n",
      "  datetime = col_character(),\n",
      "  gender = col_character(),\n",
      "  datetime_1 = col_character(),\n",
      "  stage = col_integer(),\n",
      "  scenario = col_character(),\n",
      "  subcondition = col_integer(),\n",
      "  pageIndex = col_integer(),\n",
      "  noiseIndex = col_integer(),\n",
      "  day0 = col_character(),\n",
      "  day1 = col_character(),\n",
      "  day2 = col_character(),\n",
      "  day3 = col_character(),\n",
      "  day4 = col_character(),\n",
      "  day5 = col_character(),\n",
      "  day6 = col_character(),\n",
      "  day7 = col_character(),\n",
      "  day8 = col_character(),\n",
      "  day9 = col_character()\n",
      "  # ... with 69 more columns\n",
      ")\n",
      "See spec(...) for full column specifications.\n",
      "Warning message in eval(substitute(expr), envir, enclos):\n",
      "\"NAs introduced by coercion\""
     ]
    }
   ],
   "source": [
    "source(\"tools.R\")"
   ]
  },
  {
   "cell_type": "markdown",
   "metadata": {},
   "source": [
    "# Figure of trend damping (quintessential example)"
   ]
  },
  {
   "cell_type": "code",
   "execution_count": 33,
   "metadata": {
    "collapsed": true
   },
   "outputs": [],
   "source": [
    "n_points <- 30\n",
    "\n",
    "x <- 1:n_points\n",
    "\n",
    "y <- 1:n_points\n",
    "y <- jitter(y, factor = 30)\n",
    "\n",
    "data_pos <- data.frame(x, y =  y)\n",
    "data_neg <- data.frame(x, y = -y)"
   ]
  },
  {
   "cell_type": "code",
   "execution_count": 34,
   "metadata": {
    "collapsed": true
   },
   "outputs": [],
   "source": [
    "linear <- function(x) { x }"
   ]
  },
  {
   "cell_type": "code",
   "execution_count": 35,
   "metadata": {
    "collapsed": true
   },
   "outputs": [],
   "source": [
    "linear_neg <- function(x) { -x }"
   ]
  },
  {
   "cell_type": "code",
   "execution_count": 36,
   "metadata": {
    "collapsed": true
   },
   "outputs": [],
   "source": [
    "max_v <- 45"
   ]
  },
  {
   "cell_type": "code",
   "execution_count": 37,
   "metadata": {
    "collapsed": true
   },
   "outputs": [],
   "source": [
    "# Logistic function\n",
    "L  <- 45\n",
    "x0 <- 10 #midpoint value\n",
    "k  <- 0.10\n",
    "\n",
    "func <- function(x) { (L / (1 + exp(-k*(x - x0)))) - 12 }"
   ]
  },
  {
   "cell_type": "code",
   "execution_count": 106,
   "metadata": {
    "collapsed": true
   },
   "outputs": [],
   "source": [
    "# Plot\n",
    "p1 <- ggplot(data=data_pos, aes(x=x, y=y)) +\n",
    "            stat_function(fun = linear, colour = \"black\", lty=\"dashed\", alpha=0.6) +\n",
    "            stat_function(fun = func, colour = \"black\", lty=\"solid\", alpha=0.6) +\n",
    "            geom_point(shape=21, size=4) +\n",
    "\n",
    "            # Axes\n",
    "            coord_cartesian(ylim=c(1, max_v)) + \n",
    "            scale_x_continuous(limits = c(1, max_v)) + \n",
    "            #scale_y_continuous(limits = c(0, 40)) + \n",
    "\n",
    "            # Theme\n",
    "            theme_bw() + \n",
    "            ggthemes::theme_few() + \n",
    "            theme(text = element_text(size=12, family=\"serif\")) +\n",
    "            theme(plot.title = element_text(hjust = 0.5)) +\n",
    "            theme(  axis.title.x = element_blank(),\n",
    "                    axis.text.x  = element_blank(),\n",
    "                    #axis.ticks.x = element_blank(),\n",
    "                    axis.title.y = element_blank(),\n",
    "                    axis.text.y  = element_blank(),\n",
    "                    #axis.ticks.y = element_blank()\n",
    "                 )"
   ]
  },
  {
   "cell_type": "code",
   "execution_count": 107,
   "metadata": {
    "collapsed": true
   },
   "outputs": [],
   "source": [
    "# Logistic function\n",
    "L_  <- 35\n",
    "x0_ <- 10 #midpoint value\n",
    "k_  <- 0.1\n",
    "\n",
    "func_ <- function(x) { - ((L_ / (1 + exp(-k_ *(x - x0_)))) - 9 )}"
   ]
  },
  {
   "cell_type": "code",
   "execution_count": 108,
   "metadata": {
    "collapsed": true
   },
   "outputs": [],
   "source": [
    "# Plot\n",
    "p2<- ggplot(data=data_neg, aes(x=x, y=y)) +\n",
    "            stat_function(fun = linear_neg, colour = \"black\", lty=\"dashed\", alpha=0.6) +\n",
    "            stat_function(fun = func_, colour = \"black\", lty=\"solid\", alpha=0.6) +\n",
    "            geom_point(shape=21, size=4) +\n",
    "\n",
    "            # Axes\n",
    "            coord_cartesian(ylim=c(-1, -max_v)) + \n",
    "            scale_x_continuous(limits = c(1, max_v)) + \n",
    "            #scale_y_continuous(limits = c(0, 40)) + \n",
    "\n",
    "            # Theme\n",
    "            theme_bw() + \n",
    "            ggthemes::theme_few() + \n",
    "            theme(text = element_text(size=12, family=\"serif\")) +\n",
    "            theme(plot.title = element_text(hjust = 0.5)) +\n",
    "            theme(  axis.title.x = element_blank(),\n",
    "                    axis.text.x  = element_blank(),\n",
    "                    #axis.ticks.x = element_blank(),\n",
    "                    axis.title.y = element_blank(),\n",
    "                    axis.text.y  = element_blank(),\n",
    "                    #axis.ticks.y = element_blank()\n",
    "                 )"
   ]
  },
  {
   "cell_type": "code",
   "execution_count": 116,
   "metadata": {},
   "outputs": [
    {
     "data": {
      "text/html": [
       "<strong>png:</strong> 2"
      ],
      "text/latex": [
       "\\textbf{png:} 2"
      ],
      "text/markdown": [
       "**png:** 2"
      ],
      "text/plain": [
       "png \n",
       "  2 "
      ]
     },
     "metadata": {},
     "output_type": "display_data"
    }
   ],
   "source": [
    "pdf(\"Images/paper_images/trend_damping_explanation.pdf\", width=8, height=3.0)\n",
    "multiplot(p1, p2, cols=2)\n",
    "dev.off()"
   ]
  },
  {
   "cell_type": "markdown",
   "metadata": {},
   "source": [
    "# Real-world data"
   ]
  },
  {
   "cell_type": "markdown",
   "metadata": {},
   "source": [
    "We have to get real world data for six scenarios. The state of each one currently is:\n",
    "\n",
    "DONE:\n",
    "- `Temperature: wunderground`\n",
    "- `Rain: wunderground`\n",
    "- `Gym members: https://trends.google.com/trends/explore?date=today%205-y&geo=GB&q=gym`\n",
    "- `Sales: https://www.ons.gov.uk/businessindustryandtrade/retailindustry/timeseries/j43s/drsi`\n",
    "- `Salary: http://www.hamiltonproject.org/charts/career_earnings_by_college_major/  <- Median annual earnings over career`\n",
    "- `Facebook friends (US and Canada): https://www.statista.com/statistics/247614/number-of-monthly-active-facebook-users-worldwide/`\n",
    "\n",
    "Sales: \n",
    "- Title\tRSI:Value Not seasonally Adjusted:All Retailers ex fuel:All Business Index\n",
    "- CDID\tJ43S\n",
    "- Source dataset ID\tDRSI\n",
    "- PreUnit\t\n",
    "- Unit\t\n",
    "- Release date\t20-09-17\n",
    "- Next release\t19-Oct-17\n"
   ]
  },
  {
   "cell_type": "markdown",
   "metadata": {},
   "source": [
    "# Save my Facebook data:"
   ]
  },
  {
   "cell_type": "code",
   "execution_count": null,
   "metadata": {
    "collapsed": true
   },
   "outputs": [],
   "source": [
    "fbqv <- read_csv ('data/real-world/3- for_compositional_analysis/facebook_qv.csv')\n",
    "\n",
    "fbqv <- fbqv %>% \n",
    "        group_by(Trimester) %>%\n",
    "        summarize(added_trimester = sum(added))\n",
    "\n",
    "fbqv <- within(fbqv, accum <- cumsum(added_trimester))\n",
    "\n",
    "write.table(fbqv, file = \"data/real-world/4- for_compositional_analysis/facebook_qv.csv\",row.names=TRUE, col.names=TRUE, na=\"\", sep=\",\")"
   ]
  },
  {
   "cell_type": "markdown",
   "metadata": {},
   "source": [
    "## Temperature"
   ]
  },
  {
   "cell_type": "code",
   "execution_count": 11,
   "metadata": {},
   "outputs": [
    {
     "name": "stderr",
     "output_type": "stream",
     "text": [
      "Parsed with column specification:\n",
      "cols(\n",
      "  .default = col_integer(),\n",
      "  `Wind low` = col_character(),\n",
      "  precipitation_sum_mm = col_double(),\n",
      "  Events = col_character()\n",
      ")\n",
      "See spec(...) for full column specifications.\n"
     ]
    }
   ],
   "source": [
    "weather <- read_csv(\"data/real-world/2- filtered_and_transformed/weather.csv\")\n",
    "\n",
    "weather$temp_high <- as.numeric(weather$temp_high)"
   ]
  },
  {
   "cell_type": "code",
   "execution_count": 12,
   "metadata": {
    "collapsed": true
   },
   "outputs": [],
   "source": [
    "weather$year_month <- ifelse(nchar(weather$month) == 1,\n",
    "                           paste0(weather$year, ' 0', weather$month), \n",
    "                           paste0(weather$year,  ' ', weather$month))"
   ]
  },
  {
   "cell_type": "code",
   "execution_count": 13,
   "metadata": {
    "collapsed": true
   },
   "outputs": [],
   "source": [
    "weather_data <- weather %>%\n",
    "                    group_by(year_month) %>%\n",
    "                    summarize(temperature_mean = mean(temp_high))\n",
    "\n",
    "p <- weather_data %>%\n",
    "     ggplot(aes(x=year_month, y=temperature_mean, group=1)) +\n",
    "        geom_line() +\n",
    "        theme(axis.text.x = element_text(angle = 90, hjust = 1))\n",
    "\n",
    "if(FALSE) {\n",
    "    # Save image\n",
    "    svg(\"data/real-world/images/weather.svg\", width=8, height=4)\n",
    "    p\n",
    "    dev.off()\n",
    "\n",
    "    # Save csv\n",
    "    colnames(weather_data) = c('x', 'y')\n",
    "    write.csv(weather_data, file = \"data/real-world/3- for_compositional_analysis/temperature.csv\")\n",
    "}"
   ]
  },
  {
   "cell_type": "markdown",
   "metadata": {},
   "source": [
    "## Rain"
   ]
  },
  {
   "cell_type": "markdown",
   "metadata": {},
   "source": [
    "Non-moving window: probability of event"
   ]
  },
  {
   "cell_type": "code",
   "execution_count": 14,
   "metadata": {
    "collapsed": true
   },
   "outputs": [],
   "source": [
    "weather$rain <- grepl(\"Rain\", weather$Events)"
   ]
  },
  {
   "cell_type": "code",
   "execution_count": 44,
   "metadata": {
    "collapsed": true
   },
   "outputs": [],
   "source": [
    "weather$week <- floor((weather$day_n-1) / 7) + 1"
   ]
  },
  {
   "cell_type": "code",
   "execution_count": 39,
   "metadata": {
    "collapsed": true
   },
   "outputs": [],
   "source": [
    "weather$trimester_n <- floor((weather$month) / 4) + 1\n",
    "weather$year_trimester <- paste(weather$year, weather$trimester_n)\n",
    "\n",
    "weather$semester_n <- floor((weather$month) / 7) + 1\n",
    "weather$year_semester <- paste(weather$year, weather$semester_n)\n",
    "\n",
    "#weather %>% select(year, month, semester_n) %>% unique"
   ]
  },
  {
   "cell_type": "code",
   "execution_count": 40,
   "metadata": {},
   "outputs": [
    {
     "data": {},
     "metadata": {},
     "output_type": "display_data"
    },
    {
     "data": {
      "image/png": "[encoded data removed]",
      "text/plain": [
       "plot without title"
      ]
     },
     "metadata": {},
     "output_type": "display_data"
    }
   ],
   "source": [
    "rain_data <- weather %>%\n",
    "                #group_by(year_month) %>%\n",
    "                group_by(time=year_trimester) %>%\n",
    "                summarize(rain_probability = sum(rain)/length(rain) * 100)\n",
    "\n",
    "p <- rain_data %>%\n",
    "    ggplot(aes(x=time, y=rain_probability, group=1)) +\n",
    "        geom_line()  +\n",
    "        theme(axis.text.x = element_text(angle = 90, hjust = 1))\n",
    "\n",
    "if (FALSE){\n",
    "    # Image\n",
    "    svg(\"data/real-world/images/rain_probability.svg\", width=8, height=4)\n",
    "    p\n",
    "    dev.off()\n",
    "\n",
    "    # CSV\n",
    "    colnames(rain_data) = c('x', 'y')\n",
    "    write.csv(rain_data, file = \"data/real-world/3- for_compositional_analysis/rain.csv\")   \n",
    "}\n",
    "p"
   ]
  },
  {
   "cell_type": "code",
   "execution_count": null,
   "metadata": {
    "collapsed": true
   },
   "outputs": [],
   "source": [
    "rain_data <- weather %>%\n",
    "                #group_by(year_month) %>%\n",
    "                group_by(time=year_trimester) %>%\n",
    "                summarize(rain_probability = sum(rain)/length(rain) * 100)\n",
    "\n",
    "p <- rain_data %>%\n",
    "    ggplot(aes(x=time, y=rain_probability, group=1)) +\n",
    "        geom_line()  +\n",
    "        theme(axis.text.x = element_text(angle = 90, hjust = 1))\n",
    "\n",
    "if (FALSE){\n",
    "    # Image\n",
    "    svg(\"data/real-world/images/rain_probability.svg\", width=8, height=4)\n",
    "    p\n",
    "    dev.off()\n",
    "\n",
    "    # CSV\n",
    "    colnames(rain_data) = c('x', 'y')\n",
    "    write.csv(rain_data, file = \"data/real-world/3- for_compositional_analysis/rain.csv\")   \n",
    "}\n",
    "p"
   ]
  },
  {
   "cell_type": "markdown",
   "metadata": {},
   "source": [
    "Non-moving window: precipitation sum"
   ]
  },
  {
   "cell_type": "code",
   "execution_count": 37,
   "metadata": {},
   "outputs": [
    {
     "data": {},
     "metadata": {},
     "output_type": "display_data"
    },
    {
     "data": {
      "image/png": "[encoded data removed]",
      "text/plain": [
       "plot without title"
      ]
     },
     "metadata": {},
     "output_type": "display_data"
    }
   ],
   "source": [
    "p <- weather %>%\n",
    "        #group_by(time = year_month) %>%\n",
    "        group_by(time = year_trimester) %>%\n",
    "        summarize(precipitation_mean = mean(precipitation_sum_mm)) %>%\n",
    "\n",
    "     ggplot(aes(x=time, y=precipitation_mean, group=1)) +\n",
    "        geom_line() +\n",
    "        theme(axis.text.x = element_text(angle = 90, hjust = 1))\n",
    "\n",
    "#svg(\"data/real-world/images/precipitation.svg\", width=8, height=4)\n",
    "p\n",
    "#dev.off()"
   ]
  },
  {
   "cell_type": "markdown",
   "metadata": {},
   "source": [
    "## Salary"
   ]
  },
  {
   "cell_type": "code",
   "execution_count": 56,
   "metadata": {},
   "outputs": [
    {
     "name": "stderr",
     "output_type": "stream",
     "text": [
      "Parsed with column specification:\n",
      "cols(\n",
      "  id = col_integer(),\n",
      "  year_n = col_integer(),\n",
      "  age_us = col_integer(),\n",
      "  age_uk = col_integer(),\n",
      "  usd_per_year = col_integer(),\n",
      "  year = col_integer()\n",
      ")\n"
     ]
    }
   ],
   "source": [
    "salary <- read_csv(\"data/real-world/2- filtered_and_transformed/salary.csv\")"
   ]
  },
  {
   "cell_type": "code",
   "execution_count": 71,
   "metadata": {},
   "outputs": [
    {
     "data": {},
     "metadata": {},
     "output_type": "display_data"
    },
    {
     "data": {
      "text/html": [
       "<strong>png:</strong> 2"
      ],
      "text/latex": [
       "\\textbf{png:} 2"
      ],
      "text/markdown": [
       "**png:** 2"
      ],
      "text/plain": [
       "png \n",
       "  2 "
      ]
     },
     "metadata": {},
     "output_type": "display_data"
    }
   ],
   "source": [
    "salary_data <- salary %>%\n",
    "                    filter(age_uk >= 25 & age_uk <= 28)\n",
    "\n",
    "p <- salary_data %>%\n",
    "        ggplot(aes(x=age_uk, y=usd_per_year, group=1)) +\n",
    "            geom_line()\n",
    "\n",
    "# Image\n",
    "svg(\"data/real-world/images/salary.svg\", width=8, height=4)\n",
    "p\n",
    "dev.off()\n",
    "\n",
    "# CSV\n",
    "to_save <- data.frame(salary_data$year, salary_data$usd_per_year)\n",
    "\n",
    "colnames(to_save) = c('x', 'y')\n",
    "\n",
    "to_save$x <- paste(to_save$x, '01')\n",
    "\n",
    "write.csv(to_save, file = \"data/real-world/3- for_compositional_analysis/salary.csv\")"
   ]
  },
  {
   "cell_type": "markdown",
   "metadata": {},
   "source": [
    "## Sales"
   ]
  },
  {
   "cell_type": "code",
   "execution_count": 82,
   "metadata": {},
   "outputs": [
    {
     "name": "stderr",
     "output_type": "stream",
     "text": [
      "Parsed with column specification:\n",
      "cols(\n",
      "  id = col_integer(),\n",
      "  Year = col_integer(),\n",
      "  Month = col_integer(),\n",
      "  Value = col_double()\n",
      ")\n"
     ]
    }
   ],
   "source": [
    "sales <- read_csv(\"data/real-world/2- filtered_and_transformed/sales.csv\")"
   ]
  },
  {
   "cell_type": "code",
   "execution_count": 89,
   "metadata": {},
   "outputs": [
    {
     "data": {},
     "metadata": {},
     "output_type": "display_data"
    },
    {
     "data": {
      "text/html": [
       "<strong>png:</strong> 2"
      ],
      "text/latex": [
       "\\textbf{png:} 2"
      ],
      "text/markdown": [
       "**png:** 2"
      ],
      "text/plain": [
       "png \n",
       "  2 "
      ]
     },
     "metadata": {},
     "output_type": "display_data"
    }
   ],
   "source": [
    "sales_data <- data.frame(x= paste(sales$Year, sales$Month), y=sales$Value)\n",
    "\n",
    "sales_data$x <- ifelse(nchar(sales$Month) == 1,\n",
    "                           paste0(sales$Year, ' 0', sales$Month), \n",
    "                           paste0(sales$Year,  ' ', sales$Month))\n",
    "\n",
    "p <- sales_data %>%\n",
    "        ggplot(aes(x=x, y=y, group=1)) +\n",
    "            geom_line() +\n",
    "            theme(axis.text.x = element_text(angle = 90, hjust = 1))\n",
    "\n",
    "# Image\n",
    "svg(\"data/real-world/images/sales.svg\", width=8, height=4)\n",
    "p\n",
    "dev.off()\n",
    "\n",
    "# CSV\n",
    "write.csv(sales_data, file = \"data/real-world/3- for_compositional_analysis/sales.csv\")"
   ]
  },
  {
   "cell_type": "code",
   "execution_count": null,
   "metadata": {
    "collapsed": true
   },
   "outputs": [],
   "source": []
  },
  {
   "cell_type": "markdown",
   "metadata": {
    "collapsed": true
   },
   "source": [
    "## Gym members"
   ]
  },
  {
   "cell_type": "code",
   "execution_count": 66,
   "metadata": {},
   "outputs": [
    {
     "name": "stderr",
     "output_type": "stream",
     "text": [
      "Parsed with column specification:\n",
      "cols(\n",
      "  id = col_integer(),\n",
      "  week = col_character(),\n",
      "  gym_uk = col_integer(),\n",
      "  day = col_integer(),\n",
      "  month = col_integer(),\n",
      "  year = col_integer(),\n",
      "  days_n = col_character()\n",
      ")\n"
     ]
    }
   ],
   "source": [
    "gym <- read_csv(\"data/real-world/2- filtered_and_transformed/gym.csv\")"
   ]
  },
  {
   "cell_type": "code",
   "execution_count": 67,
   "metadata": {
    "collapsed": true
   },
   "outputs": [],
   "source": [
    "gym$day <- substr(gym$week, 1, 2)\n",
    "\n",
    "gym$month <- substr(gym$week, 4, 5)\n",
    "\n",
    "gym$year <- paste0(20, substr(gym$week, 7, 8))\n",
    "\n",
    "gym$year_month <- paste(gym$year, gym$month)"
   ]
  },
  {
   "cell_type": "code",
   "execution_count": 73,
   "metadata": {},
   "outputs": [
    {
     "data": {},
     "metadata": {},
     "output_type": "display_data"
    },
    {
     "data": {
      "text/html": [
       "<strong>png:</strong> 2"
      ],
      "text/latex": [
       "\\textbf{png:} 2"
      ],
      "text/markdown": [
       "**png:** 2"
      ],
      "text/plain": [
       "png \n",
       "  2 "
      ]
     },
     "metadata": {},
     "output_type": "display_data"
    }
   ],
   "source": [
    "gym_data <- gym %>%\n",
    "        filter(year >= 2013 & year <= 2016) %>%\n",
    "            group_by(year_month) %>%\n",
    "            summarize(gym_uk_mean = mean(gym_uk))\n",
    "\n",
    "p <- gym_data %>%\n",
    "         ggplot(aes(x=year_month, y=gym_uk_mean, group=1)) +\n",
    "            geom_line() +\n",
    "            theme(axis.text.x = element_text(angle = 90, hjust = 1))\n",
    "\n",
    "# Graph\n",
    "svg(\"data/real-world/images/gym.svg\", width=8, height=4)\n",
    "p\n",
    "dev.off()\n",
    "\n",
    "# CSV\n",
    "colnames(gym_data) = c('x', 'y')\n",
    "write.csv(gym_data, file = \"data/real-world/3- for_compositional_analysis/gym.csv\")"
   ]
  },
  {
   "cell_type": "markdown",
   "metadata": {},
   "source": [
    "## Facebook friends"
   ]
  },
  {
   "cell_type": "code",
   "execution_count": 74,
   "metadata": {},
   "outputs": [
    {
     "name": "stderr",
     "output_type": "stream",
     "text": [
      "Parsed with column specification:\n",
      "cols(\n",
      "  id = col_integer(),\n",
      "  year = col_integer(),\n",
      "  quarter = col_character(),\n",
      "  users_millions = col_integer(),\n",
      "  quarter_n = col_integer(),\n",
      "  days_n = col_character()\n",
      ")\n"
     ]
    }
   ],
   "source": [
    "facebook <- read_csv(\"data/real-world/2- filtered_and_transformed/facebook.csv\")\n",
    "\n",
    "facebook$year_quarter <- paste(facebook$year, facebook$quarter)"
   ]
  },
  {
   "cell_type": "code",
   "execution_count": 76,
   "metadata": {},
   "outputs": [
    {
     "data": {},
     "metadata": {},
     "output_type": "display_data"
    },
    {
     "data": {
      "text/html": [
       "<strong>png:</strong> 2"
      ],
      "text/latex": [
       "\\textbf{png:} 2"
      ],
      "text/markdown": [
       "**png:** 2"
      ],
      "text/plain": [
       "png \n",
       "  2 "
      ]
     },
     "metadata": {},
     "output_type": "display_data"
    }
   ],
   "source": [
    "p <- facebook %>%\n",
    "        ggplot(aes(x=year_quarter, y=users_millions, group=1)) +\n",
    "            geom_line() +\n",
    "            theme(axis.text.x = element_text(angle = 90, hjust = 1))\n",
    "\n",
    "\n",
    "# Image\n",
    "svg(\"data/real-world/images/facebook.svg\", width=8, height=4)\n",
    "p\n",
    "dev.off()\n",
    "\n",
    "# CSV\n",
    "to_save <- data.frame(facebook$year_quarter, facebook$users_millions)\n",
    "\n",
    "colnames(to_save) = c('x', 'y')\n",
    "\n",
    "write.csv(to_save, file = \"data/real-world/3- for_compositional_analysis/facebook.csv\")"
   ]
  },
  {
   "cell_type": "markdown",
   "metadata": {
    "collapsed": true
   },
   "source": [
    "# Trash"
   ]
  },
  {
   "cell_type": "code",
   "execution_count": null,
   "metadata": {
    "collapsed": true
   },
   "outputs": [],
   "source": []
  }
 ],
 "metadata": {
  "kernelspec": {
   "display_name": "R",
   "language": "R",
   "name": "ir"
  },
  "language_info": {
   "codemirror_mode": "r",
   "file_extension": ".r",
   "mimetype": "text/x-r-source",
   "name": "R",
   "pygments_lexer": "r",
   "version": "3.3.1"
  }
 },
 "nbformat": 4,
 "nbformat_minor": 2
}
